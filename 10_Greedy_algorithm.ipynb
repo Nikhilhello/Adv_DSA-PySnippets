{
  "nbformat": 4,
  "nbformat_minor": 0,
  "metadata": {
    "colab": {
      "provenance": [],
      "authorship_tag": "ABX9TyPPcMk2xjFzL9d6JeysOxPr",
      "include_colab_link": true
    },
    "kernelspec": {
      "name": "python3",
      "display_name": "Python 3"
    },
    "language_info": {
      "name": "python"
    }
  },
  "cells": [
    {
      "cell_type": "markdown",
      "metadata": {
        "id": "view-in-github",
        "colab_type": "text"
      },
      "source": [
        "<a href=\"https://colab.research.google.com/github/Nikhilhello/Adv_DSA-PySnippets/blob/main/10_Greedy_algorithm.ipynb\" target=\"_parent\"><img src=\"https://colab.research.google.com/assets/colab-badge.svg\" alt=\"Open In Colab\"/></a>"
      ]
    },
    {
      "cell_type": "markdown",
      "source": [
        "#10"
      ],
      "metadata": {
        "id": "cxH3Anzi6TnN"
      }
    },
    {
      "cell_type": "markdown",
      "source": [
        "#(petrol, ---jump ,---jump2, ---860(lemon),---job,----assign cookies,---jump2 (again,),---Find Minimum in Rotated Sorted Array using binary search )"
      ],
      "metadata": {
        "id": "g8n_rhYh6Tj0"
      }
    },
    {
      "cell_type": "code",
      "execution_count": 4,
      "metadata": {
        "colab": {
          "base_uri": "https://localhost:8080/"
        },
        "id": "iALT4N-z580S",
        "outputId": "e049682d-9622-4782-a06a-ad6d1780a7b1"
      },
      "outputs": [
        {
          "output_type": "stream",
          "name": "stdout",
          "text": [
            "yes\n"
          ]
        }
      ],
      "source": [
        "#petrol problem\n",
        "# a=[3,2,1,0,1,3,1]            #[3,2,1,0,4]np\n",
        "#------------------------------------------------\n",
        "# a=[3,2,1,0,1,3,1]    #no comming correct\n",
        "# a=[3,2,1,0,4]  # no comming error             #my code    #fully not correct\n",
        "a=[2,3,1,0,1,3,0]  #yes comming correct\n",
        "p=a[i]\n",
        "for i in (a):\n",
        "  if(a[i]-1<a[i+1]):\n",
        "    p=a[i+1]\n",
        "  else:\n",
        "    p=p-1\n",
        "if p>0:\n",
        "  print(\"yes\")\n",
        "else:\n",
        "  print(\"np\")\n",
        "\n",
        "#----------------------------------------------"
      ]
    },
    {
      "cell_type": "code",
      "source": [
        "# correct code\n",
        "a=[3,2,1,0,4]  # no --> comming correct\n",
        "# a=[2,3,1,0,1,3,0]  #yes comming correct\n",
        "p=0\n",
        "for i in a:\n",
        "  if p<i:\n",
        "    p=i\n",
        "  if(p==0):\n",
        "    print(\"np\")\n",
        "    break\n",
        "  p=p-1\n",
        "else:\n",
        "  print(\"yes\")"
      ],
      "metadata": {
        "colab": {
          "base_uri": "https://localhost:8080/"
        },
        "id": "Em3sSHFZ6oNH",
        "outputId": "52b9a144-6908-4c31-d723-2b9e4c1d5817"
      },
      "execution_count": 2,
      "outputs": [
        {
          "output_type": "stream",
          "name": "stdout",
          "text": [
            "np\n"
          ]
        }
      ]
    },
    {
      "cell_type": "code",
      "source": [
        "# a=[3,2,1,0,1,3,1]    #np\n",
        "a=[3,2,1,0,4]   #np\n",
        "# a=[2,3,1,0,1,3,0]  #yes\n",
        "\n",
        "# Initialize the maximum reach from the current position\n",
        "max_reach = 0\n",
        "# Iterate through the list up to the second to last element\n",
        "for i in range(len(a) - 1):\n",
        "    # Update the maximum reach if the current position plus its value is greater\n",
        "    max_reach = max(max_reach, i + a[i])\n",
        "    # If the maximum reach is less than or equal to the current index,\n",
        "    # it's not possible to move forward\n",
        "    if max_reach <= i:\n",
        "        print(\"np\")\n",
        "        break\n",
        "# If the loop completes, it means the end (or beyond) was reachable\n",
        "else:\n",
        "    print(\"yes\")\n",
        ""
      ],
      "metadata": {
        "colab": {
          "base_uri": "https://localhost:8080/"
        },
        "id": "uPL1r9t_6oJ1",
        "outputId": "1a048a0f-b78f-4de5-bbed-807202ce6a4c"
      },
      "execution_count": 3,
      "outputs": [
        {
          "output_type": "stream",
          "name": "stdout",
          "text": [
            "np\n"
          ]
        }
      ]
    },
    {
      "cell_type": "markdown",
      "source": [
        "#leetCode\n",
        "55. Jump Game"
      ],
      "metadata": {
        "id": "2N1uzjw26udn"
      }
    },
    {
      "cell_type": "code",
      "source": [
        "#jump game 1  55\n",
        "\n",
        "# [2,3,1,1,4]\n",
        "\n",
        "class Solution:\n",
        "    def canJump(self, nums: List[int]) -> bool:\n",
        "        a=0\n",
        "        for i in range(len(nums)):\n",
        "            if i>a:\n",
        "                return False\n",
        "            a=max(a,i+nums[i])\n",
        "            if a>=len(nums)-1:\n",
        "                return True\n",
        "    #     return False"
      ],
      "metadata": {
        "id": "9L77Y8dK9DMe"
      },
      "execution_count": null,
      "outputs": []
    },
    {
      "cell_type": "code",
      "source": [
        "def canJump(nums):                    #Greedy Solution (O(n))\n",
        "    reachable = 0\n",
        "    for i in range(len(nums)):\n",
        "        if i > reachable:\n",
        "            return False\n",
        "        reachable = max(reachable, i + nums[i])\n",
        "    return True\n",
        "\n",
        "# Example usage:\n",
        "nums = [2, 3, 1, 1, 4]\n",
        "print(canJump(nums))  # Output: True\n",
        "\n",
        "nums = [3, 2, 1, 0, 4]\n",
        "print(canJump(nums))  # Output: False\n",
        "\n",
        "\n",
        "# Explanation:\n",
        "# reachable keeps track of the farthest index we can reach at any point.\n",
        "\n",
        "# If at any index i, i > reachable, it means we cannot reach this index → return False.\n",
        "\n",
        "# If we complete the loop, return True."
      ],
      "metadata": {
        "colab": {
          "base_uri": "https://localhost:8080/"
        },
        "id": "zD-CucTa-cc9",
        "outputId": "7ab0d990-7c53-4d74-e151-94e210f8e7e7"
      },
      "execution_count": 25,
      "outputs": [
        {
          "output_type": "stream",
          "name": "stdout",
          "text": [
            "True\n",
            "False\n"
          ]
        }
      ]
    },
    {
      "cell_type": "code",
      "source": [
        "nums=[2,3,1,1,4]\n",
        "a=0\n",
        "for i in range(len(nums)):\n",
        "  if i>a:\n",
        "    print(False)\n",
        "  a=max(a,i+nums[i])\n",
        "  if a>=len(nums)-1:\n",
        "    print(True)"
      ],
      "metadata": {
        "colab": {
          "base_uri": "https://localhost:8080/"
        },
        "id": "Xjedkc496oGP",
        "outputId": "71fdbf99-2b07-4ca0-f3dc-346f4510190b"
      },
      "execution_count": 7,
      "outputs": [
        {
          "output_type": "stream",
          "name": "stdout",
          "text": [
            "True\n",
            "True\n",
            "True\n",
            "True\n"
          ]
        }
      ]
    },
    {
      "cell_type": "markdown",
      "source": [
        "#jump game 2  45         use greed-O(n)"
      ],
      "metadata": {
        "id": "TtRi7v2763mV"
      }
    },
    {
      "cell_type": "code",
      "source": [
        "#jump game 2  45         use greed-O(n)"
      ],
      "metadata": {
        "id": "ExYlYWpI6oEz"
      },
      "execution_count": null,
      "outputs": []
    },
    {
      "cell_type": "code",
      "source": [
        "def jump(nums):\n",
        "    n = len(nums)\n",
        "    jumps = 0\n",
        "    farthest = 0\n",
        "    current_end = 0\n",
        "\n",
        "    for i in range(n - 1):  # no need to jump from last index\n",
        "        farthest = max(farthest, i + nums[i])\n",
        "        if i == current_end:\n",
        "            jumps += 1\n",
        "            current_end = farthest\n",
        "\n",
        "    return jumps\n",
        "\n",
        "# Example usage:\n",
        "nums = [2, 3, 1, 1, 4]\n",
        "print(jump(nums))  # Output: 2\n",
        "\n",
        "\n",
        "# Explanation:\n",
        "# farthest: the farthest point reachable so far\n",
        "\n",
        "# current_end: the end of the current jump range\n",
        "\n",
        "# When i reaches current_end, we increment jumps and update current_end to farthest"
      ],
      "metadata": {
        "colab": {
          "base_uri": "https://localhost:8080/"
        },
        "id": "gLzqjX7T-AeU",
        "outputId": "5a252342-1c80-46e2-dcc5-31f12b5dad3d"
      },
      "execution_count": 23,
      "outputs": [
        {
          "output_type": "stream",
          "name": "stdout",
          "text": [
            "2\n"
          ]
        }
      ]
    },
    {
      "cell_type": "code",
      "source": [
        "# jump game 2: min no of jumps\n",
        "a=[2,3,1,1,4]\n",
        "l=0\n",
        "r=0\n",
        "f=0\n",
        "jumps=0\n",
        "while (r<len(a)-1):\n",
        "    maxj=0\n",
        "    for i in range(l,r+1):\n",
        "        if (i+a[i])>maxj:\n",
        "            maxj=i+a[i]\n",
        "        if maxj>=len(a)-1:\n",
        "            f=1\n",
        "            break\n",
        "    l=r+1\n",
        "    r=maxj\n",
        "    jumps+=1\n",
        "    if f==1:\n",
        "        break\n",
        "print(jumps)"
      ],
      "metadata": {
        "colab": {
          "base_uri": "https://localhost:8080/"
        },
        "id": "KoznaJrQ9LBf",
        "outputId": "c974063f-0902-4289-aed0-44b3285c761c"
      },
      "execution_count": 22,
      "outputs": [
        {
          "output_type": "stream",
          "name": "stdout",
          "text": [
            "2\n"
          ]
        }
      ]
    },
    {
      "cell_type": "markdown",
      "source": [
        "\n",
        "#leetCode\n",
        "\n",
        "860. Lemonade Change"
      ],
      "metadata": {
        "id": "7JdwD1MJ68Da"
      }
    },
    {
      "cell_type": "code",
      "source": [
        "#soda                #leetcode 860\n",
        "# a=[5,10,20,5]  #not satisfied\n",
        "a=[5,5,10,20]  # satisfied\n",
        "# a=[5,5,10,10,20]  #not satisfied\n",
        "soda=5\n",
        "remaing=0\n",
        "for i in range(len(a)):                      #my code\n",
        "  if a[i]==soda:\n",
        "    remaing += a[i]\n",
        "    # print(remaing)\n",
        "  if a[i]==10:\n",
        "    remaing += a[i]\n",
        "    remaing -= soda\n",
        "    # print(remaing)\n",
        "  elif(a[i]==20):\n",
        "    remaing +=a[i]\n",
        "    remaing -=soda\n",
        "\n",
        "  if(remaing<0):\n",
        "    print(\"no\")\n",
        "    break\n",
        "else:\n",
        "  print(remaing)\n",
        "  print(\"yes\")\n",
        "\n",
        "\n"
      ],
      "metadata": {
        "colab": {
          "base_uri": "https://localhost:8080/"
        },
        "id": "h6iz76Q96oC7",
        "outputId": "21fc3023-ed8e-449b-aa54-aebf6d06ed60"
      },
      "execution_count": 8,
      "outputs": [
        {
          "output_type": "stream",
          "name": "stdout",
          "text": [
            "30\n",
            "yes\n"
          ]
        }
      ]
    },
    {
      "cell_type": "code",
      "source": [
        "# a=[3,2,1,0,4]  # no         #leetcode 860       #sir code    #Lemonade Change      #correct code\n",
        "a=[5,10,20,5]  # no\n",
        "# a=[5,5,10,20]  # yes\n",
        "# a=[5,5,10,20,5,10]  # yes\n",
        "c5=0\n",
        "c10=0\n",
        "for i in a:\n",
        "  if i==5:\n",
        "    c5=c5+1\n",
        "  elif i==10:\n",
        "    if c5>0:\n",
        "      c5=c5-1\n",
        "      c10=c10+1\n",
        "    else:\n",
        "      print(\"no\")\n",
        "      break\n",
        "  else:\n",
        "    if (c5!=0 and c10!=0):\n",
        "      c5=c5-1\n",
        "      c10=c10-1\n",
        "    elif c5>=3:\n",
        "      c5=c5-3\n",
        "    else:\n",
        "      print(\"no\")\n",
        "      break\n",
        "else:\n",
        "  print(\"yes\")\n"
      ],
      "metadata": {
        "colab": {
          "base_uri": "https://localhost:8080/"
        },
        "id": "AYjDhG1f6oA9",
        "outputId": "0574427a-f3d1-466e-dbaa-a173bab02db1"
      },
      "execution_count": 9,
      "outputs": [
        {
          "output_type": "stream",
          "name": "stdout",
          "text": [
            "no\n"
          ]
        }
      ]
    },
    {
      "cell_type": "code",
      "source": [
        "class Solution:                           #naga    #leetcode\n",
        "    def lemonadeChange(self, bills: List[int]) -> bool:\n",
        "        a,b,c=0,0,0\n",
        "        for i in range(len(bills)):\n",
        "            if bills[0]>5:\n",
        "                return False\n",
        "            if bills[i]==5:\n",
        "                a+=1\n",
        "            elif bills[i]==10:\n",
        "                b+=1\n",
        "                if a>=1:\n",
        "                    a-=1\n",
        "            else:\n",
        "                c+=1\n",
        "                if b>=1 and a>=1:\n",
        "                    b-=1\n",
        "                    a-=1\n",
        "                elif(a>=3):\n",
        "                    a-=3\n",
        "                else:\n",
        "                    return False\n",
        "        return True"
      ],
      "metadata": {
        "id": "zP95PGNZ6n9u"
      },
      "execution_count": null,
      "outputs": []
    },
    {
      "cell_type": "markdown",
      "source": [
        "#job"
      ],
      "metadata": {
        "id": "Wr61ISDx7k7M"
      }
    },
    {
      "cell_type": "code",
      "source": [
        "#job           #min avg time\n",
        "\n",
        "\n",
        "def avg_min(l):        #naga\n",
        "    s1 = s2= 0\n",
        "    for i in range(len(l) - 1):\n",
        "        s1 = s1+l[i]\n",
        "        s2 = s1+s2\n",
        "    avg = s2/(len(l)  - 1)\n",
        "    print(s2)\n",
        "    return avg\n",
        "#l = [4,3,7,1,6,2]\n",
        "l = [1,2,3,4,6,7]\n",
        "print(avg_min(l))"
      ],
      "metadata": {
        "colab": {
          "base_uri": "https://localhost:8080/"
        },
        "id": "Fezjsxyb7mEn",
        "outputId": "5e7f1b97-b0de-4f74-95c4-9118cb1adb52"
      },
      "execution_count": 11,
      "outputs": [
        {
          "output_type": "stream",
          "name": "stdout",
          "text": [
            "36\n",
            "7.2\n"
          ]
        }
      ]
    },
    {
      "cell_type": "markdown",
      "source": [
        "\n",
        "#leetCode\n",
        "\n",
        "455. Assign Cookies"
      ],
      "metadata": {
        "id": "OtntgyPn7o04"
      }
    },
    {
      "cell_type": "code",
      "source": [
        "# find the max who will get the bills      #leetcode 455\n",
        "# p=[1,6,2,3,4,5]\n",
        "# b=[4,2,3,1,1,2]\n",
        "p=[1,2,3]\n",
        "b=[3]\n",
        "p.sort()\n",
        "b.sort()\n",
        "c=0\n",
        "for i in p:\n",
        "  for j in b:\n",
        "    if i<=j:                         #not working for all the testcases\n",
        "      c=c+1\n",
        "      b.remove(j)\n",
        "      break\n",
        "print(c)\n",
        "\n"
      ],
      "metadata": {
        "colab": {
          "base_uri": "https://localhost:8080/"
        },
        "id": "FMMsxuYE7qkC",
        "outputId": "5067fd65-1fc3-47e5-bf44-a33c0d88b099"
      },
      "execution_count": 12,
      "outputs": [
        {
          "output_type": "stream",
          "name": "stdout",
          "text": [
            "1\n"
          ]
        }
      ]
    },
    {
      "cell_type": "code",
      "source": [
        "# find the max who will get the bills      #leetcode 455\n",
        "p=[1,6,2,3,4,5]\n",
        "b=[4,2,3,1,1,2]                               #correct code\n",
        "# p=[1,2,3]\n",
        "# b=[3]\n",
        "\n",
        "p.sort()                                  #O(n log n)for sort\n",
        "b.sort()\n",
        "\n",
        "i = 0  # Pointer for p (people's greed)\n",
        "j = 0  # Pointer for b (cookie sizes)\n",
        "count = 0\n",
        "while i < len(p) and j < len(b):\n",
        "    if p[i] <= b[j]:\n",
        "        count += 1\n",
        "        i += 1\n",
        "        j += 1\n",
        "    else:\n",
        "        j += 1\n",
        "count\n"
      ],
      "metadata": {
        "colab": {
          "base_uri": "https://localhost:8080/"
        },
        "id": "a4G2YPzR7vFj",
        "outputId": "d6482c9b-fd2e-4874-dfd3-f14ee790da61"
      },
      "execution_count": 13,
      "outputs": [
        {
          "output_type": "execute_result",
          "data": {
            "text/plain": [
              "4"
            ]
          },
          "metadata": {},
          "execution_count": 13
        }
      ]
    },
    {
      "cell_type": "markdown",
      "source": [
        "#Find Minimum in Rotated Sorted Array         #leetcode   153\n"
      ],
      "metadata": {
        "id": "-06ei7vn7x5d"
      }
    },
    {
      "cell_type": "code",
      "source": [
        "# Find Minimum in Rotated Sorted Array  #leetcode\n",
        "\n",
        "\n",
        "class Solution:\n",
        "    def findMin(self, nums: List[int]) -> int:\n",
        "        l,h=0,len(nums)-1\n",
        "        while l<h:\n",
        "            mid=(l+h)//2\n",
        "            if nums[mid]>nums[h]:\n",
        "                l=mid+1\n",
        "            else:\n",
        "                h=mid\n",
        "        return nums[l]"
      ],
      "metadata": {
        "colab": {
          "base_uri": "https://localhost:8080/",
          "height": 106
        },
        "id": "cM3H1FVe7zCF",
        "outputId": "c2470f5b-29d6-4a94-b304-6ee4dc8008dd"
      },
      "execution_count": 15,
      "outputs": [
        {
          "output_type": "error",
          "ename": "IndentationError",
          "evalue": "unindent does not match any outer indentation level (<tokenize>, line 13)",
          "traceback": [
            "\u001b[0;36m  File \u001b[0;32m\"<tokenize>\"\u001b[0;36m, line \u001b[0;32m13\u001b[0m\n\u001b[0;31m    return nums[l]\u001b[0m\n\u001b[0m    ^\u001b[0m\n\u001b[0;31mIndentationError\u001b[0m\u001b[0;31m:\u001b[0m unindent does not match any outer indentation level\n"
          ]
        }
      ]
    },
    {
      "cell_type": "code",
      "source": [
        "#LeetCode 153 – Find Minimum in Rotated Sorted Array using binary search (O(log n)).\n",
        "\n",
        "def findMin(nums):                    #ai             # Binary Search Solution (O(log n))\n",
        "    left, right = 0, len(nums) - 1\n",
        "\n",
        "    while left < right:\n",
        "        mid = (left + right) // 2\n",
        "\n",
        "        # If mid element is greater than the rightmost, min must be to the right\n",
        "        if nums[mid] > nums[right]:\n",
        "            left = mid + 1\n",
        "        else:\n",
        "            # Otherwise, the min could be at mid or to the left\n",
        "            right = mid\n",
        "\n",
        "    return nums[left]\n",
        "\n",
        "# Example usage:\n",
        "nums = [4, 5, 6, 7, 0, 1, 2]\n",
        "print(findMin(nums))  # Output: 0\n",
        "\n",
        "\n",
        "# Explanation:\n",
        "# If the array wasn't rotated, the first element would be the smallest.\n",
        "\n",
        "# By comparing nums[mid] with nums[right], we eliminate half the search space each time:\n",
        "\n",
        "# If nums[mid] > nums[right]: the minimum is in the right half.\n",
        "\n",
        "# If nums[mid] < nums[right]: the minimum is in the left half (including mid).\n",
        "\n"
      ],
      "metadata": {
        "colab": {
          "base_uri": "https://localhost:8080/"
        },
        "id": "8C4WdEi4DzDI",
        "outputId": "78e5a7bc-1389-405c-a3b2-9a70f106b15c"
      },
      "execution_count": 28,
      "outputs": [
        {
          "output_type": "stream",
          "name": "stdout",
          "text": [
            "0\n"
          ]
        }
      ]
    },
    {
      "cell_type": "code",
      "source": [
        "# #find the min jump\n",
        "                                 # -----------#leetcode 45      jump2\n",
        "\n",
        "#jump game 2  45         use greed-O(n)\n",
        "\n",
        "\n",
        "# Input: nums = [2,3,1,1,4]\n",
        "# Output: 2\n",
        "# Explanation: The minimum number of jumps to reach the last index is 2. Jump 1 step from index 0 to 1, then 3 steps to the last index.\n",
        "\n",
        "\n",
        "a = [2,3,1,1,4]            #sir code       #correct\n",
        "l=0\n",
        "r=0\n",
        "jump=0\n",
        "while r<len(a)-1:\n",
        "  farthest=0\n",
        "  for i in range(l,r+1):\n",
        "    if(i+a[i]>farthest):\n",
        "      farthest=i+a[i]\n",
        "  l=r+1\n",
        "  r=farthest\n",
        "  jump=jump+1\n",
        "print(jump)\n",
        "\n",
        "\n",
        "\n"
      ],
      "metadata": {
        "colab": {
          "base_uri": "https://localhost:8080/"
        },
        "id": "vW-AKyTl7246",
        "outputId": "2f81f21e-8cc9-445e-a263-f8f632497fa8"
      },
      "execution_count": 16,
      "outputs": [
        {
          "output_type": "stream",
          "name": "stdout",
          "text": [
            "2\n"
          ]
        }
      ]
    },
    {
      "cell_type": "code",
      "source": [
        " # -----------#leetcode 45      jump2\n",
        "class Solution:                                         #my leetcode code\n",
        "    def jump(self, nums: List[int]) -> int:\n",
        "        j=0\n",
        "        current_end=0\n",
        "        a=0\n",
        "        for i in range(len(nums)-1):\n",
        "            a=max(a,i+nums[i])\n",
        "            if i == current_end:\n",
        "                j=j+1\n",
        "                current_end=a\n",
        "        return j"
      ],
      "metadata": {
        "id": "471kSDTe7212"
      },
      "execution_count": null,
      "outputs": []
    },
    {
      "cell_type": "markdown",
      "source": [
        "exam"
      ],
      "metadata": {
        "id": "tFJLt-tk8gvn"
      }
    },
    {
      "cell_type": "code",
      "source": [
        "#  Q 1\n",
        "# Problem Statement:\n",
        "# Given a positive number n and precision p, find the square root of number upto p decimal places using binary search.\n",
        "\n",
        "# Example 1:\n",
        "\n",
        "# Input :\n",
        "\n",
        "# number = 50\n",
        "\n",
        "# precision = 3\n",
        "\n",
        "\n",
        "# Output : 7.071\n",
        "\n",
        "#exam\n",
        "# Find square root of number\n",
        "\n",
        "\n",
        "# Using binary search for an integer square root (floor)\n",
        "\n",
        "n = int(input(\"Enter a number: \"))\n",
        "l=1\n",
        "r=n/2\n",
        "while l<=r:\n",
        "  mid = (l + r) //2\n",
        "  if mid * mid == n:\n",
        "    print(f\"The integer square root (floor) of {n} is: {mid}\")\n",
        "    break\n",
        "  elif mid * mid > n:\n",
        "    r = mid - 1\n",
        "  else:\n",
        "    l = mid + 1\n",
        "print(r)            #floor"
      ],
      "metadata": {
        "id": "-MTjUGUN720H"
      },
      "execution_count": null,
      "outputs": []
    },
    {
      "cell_type": "code",
      "source": [
        "n = int(input())       # correct code\n",
        "p = int(input())\n",
        "l = 0\n",
        "h = n\n",
        "ans = 0\n",
        "while l <= h:\n",
        "    mid = (l + h) // 2\n",
        "    if mid * mid == n:\n",
        "        ans = mid\n",
        "        break\n",
        "    elif mid * mid < n:\n",
        "        ans = mid\n",
        "        l = mid + 1\n",
        "    else:\n",
        "        h = mid - 1\n",
        "increment = 0.1\n",
        "for i in range(p):\n",
        "    while ans * ans <= n:\n",
        "        ans += increment\n",
        "    ans -= increment\n",
        "    increment /= 10\n",
        "\n",
        "print(f\"{round(ans, p)}\")"
      ],
      "metadata": {
        "colab": {
          "base_uri": "https://localhost:8080/"
        },
        "id": "4PEIy5Jd72yL",
        "outputId": "f6bc4a7e-c005-4866-ae92-4094d52445e1"
      },
      "execution_count": 17,
      "outputs": [
        {
          "output_type": "stream",
          "name": "stdout",
          "text": [
            "50\n",
            "3\n",
            "7.071\n"
          ]
        }
      ]
    },
    {
      "cell_type": "code",
      "source": [
        "#Q2\n",
        "\n",
        "# Find the closest pair from two sorted arrays\n",
        "\n",
        "# Input:\n",
        "# arr1[] = {1, 4, 5, 7}\n",
        "# arr2[] = {10, 20, 30, 40}\n",
        "# x = 32\n",
        "# Output:\n",
        "# 1 and 30\n",
        "\n",
        "\n",
        "arr1= [1, 4, 5, 7]\n",
        "arr2= [10, 20, 30, 40]\n",
        "for i in arr1:\n",
        "  for j in arr2:\n",
        "    if i+j<=32:\n",
        "      print(i,j)\n",
        "\n",
        "\n"
      ],
      "metadata": {
        "colab": {
          "base_uri": "https://localhost:8080/"
        },
        "id": "O1cZWIzH72wY",
        "outputId": "2f2fd583-afaf-4b56-f3fa-cdfd0b97ac76"
      },
      "execution_count": 18,
      "outputs": [
        {
          "output_type": "stream",
          "name": "stdout",
          "text": [
            "1 10\n",
            "1 20\n",
            "1 30\n",
            "4 10\n",
            "4 20\n",
            "5 10\n",
            "5 20\n",
            "7 10\n",
            "7 20\n"
          ]
        }
      ]
    },
    {
      "cell_type": "code",
      "source": [
        "arr1 = list(map(int, input().split()))             #correct           #1 4 5 7\n",
        "arr2 = list(map(int, input().split()))                                #10 20 30 40\n",
        "x = int(input())                                                     #32\n",
        "min_diff = float('inf')\n",
        "res1,res2 = 0,0\n",
        "for i in arr1:\n",
        "    for j in arr2:\n",
        "        s=i+j\n",
        "        diff=abs(s-x)\n",
        "        if diff<min_diff:\n",
        "            min_diff=diff\n",
        "            res1,res2=i,j\n",
        "\n",
        "print(f\"{res1}and{res2}\")"
      ],
      "metadata": {
        "colab": {
          "base_uri": "https://localhost:8080/"
        },
        "id": "PThYB8j-72uL",
        "outputId": "9a748f09-27df-4cd2-cfdc-60dbc31a7c5d"
      },
      "execution_count": 20,
      "outputs": [
        {
          "output_type": "stream",
          "name": "stdout",
          "text": [
            "1 4 5 7\n",
            "10 20 30 40\n",
            "32\n",
            "1and30\n"
          ]
        }
      ]
    }
  ]
}