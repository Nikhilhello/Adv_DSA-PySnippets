{
  "nbformat": 4,
  "nbformat_minor": 0,
  "metadata": {
    "colab": {
      "provenance": [],
      "authorship_tag": "ABX9TyMbs6vuqr7ukicYKi5LLx0+",
      "include_colab_link": true
    },
    "kernelspec": {
      "name": "python3",
      "display_name": "Python 3"
    },
    "language_info": {
      "name": "python"
    }
  },
  "cells": [
    {
      "cell_type": "markdown",
      "metadata": {
        "id": "view-in-github",
        "colab_type": "text"
      },
      "source": [
        "<a href=\"https://colab.research.google.com/github/Nikhilhello/Adv_DSA-PySnippets/blob/main/11_Greedy_revese_string_subarray.ipynb\" target=\"_parent\"><img src=\"https://colab.research.google.com/assets/colab-badge.svg\" alt=\"Open In Colab\"/></a>"
      ]
    },
    {
      "cell_type": "markdown",
      "source": [
        "#11"
      ],
      "metadata": {
        "id": "2_AEUYWlFXOq"
      }
    },
    {
      "cell_type": "markdown",
      "source": [
        "#(meeting problem,---revese the string without changing the position of vowels, --- max possible discount of the books(sliding window, ----print the length of longest palindromic substring, --- **exam :Aggressive Cows** )"
      ],
      "metadata": {
        "id": "gg87xGbuFXLN"
      }
    },
    {
      "cell_type": "code",
      "execution_count": 2,
      "metadata": {
        "colab": {
          "base_uri": "https://localhost:8080/"
        },
        "id": "BDXXqOs0FRqW",
        "outputId": "d4a551f6-4a13-40e8-b33b-ad55d7461e75"
      },
      "outputs": [
        {
          "output_type": "stream",
          "name": "stdout",
          "text": [
            "[(1, 2), (0, 5), (5, 6), (3, 7), (7, 9), (8, 10), (9, 11)]\n",
            "3\n"
          ]
        }
      ],
      "source": [
        "# find the max number of meets u will be able to conduct             ------#job scheduling algorithm\n",
        "\n",
        "# a=[0,3,8,1,5,7,9]\n",
        "# b=[5,6,10,2,6,9,11]\n",
        "\n",
        "\n",
        "\n",
        "def fun(x):   # --------------------    #sir code # correct\n",
        "  return x[1]\n",
        "s=[0,3,8,1,5,7,9] #start times\n",
        "e=[5,7,10,2,6,9,11] #end times\n",
        "b=list(zip(s,e))\n",
        "  # for i,j in zip(a,b):\n",
        "  #   b.append((i,j))\n",
        "  # print(b)\n",
        "b.sort(key=fun)\n",
        "print(b)\n",
        "st=0\n",
        "c=0\n",
        "for i in b:\n",
        "  if(i[0]>=st):\n",
        "    c=c+1\n",
        "    st=i[1]+1\n",
        "print(c)\n",
        "\n",
        "\n",
        "\n",
        "\n"
      ]
    },
    {
      "cell_type": "code",
      "source": [
        "# prompt: # find the max number of meets u will be able to conduct\n",
        "# a=[0,3,8,1,5,7,9]\n",
        "# b=[5,6,10,2,6,9,11]\n",
        "\n",
        "# find the max number of meets u will be able to conduct\n",
        "a=[0,3,8,1,5,7,9] #start times\n",
        "b=[5,6,10,2,6,9,11] #end times\n",
        "\n",
        "# a=[0,3,8,1,5,7,9] #start times\n",
        "# b=[5,7,10,2,6,9,11] #end times\n",
        "\n",
        "# Combine start and end times into pairs and sort by end time\n",
        "meets = sorted(zip(a, b), key=lambda x: x[1])\n",
        "\n",
        "count = 0\n",
        "last_end_time = -1\n",
        "\n",
        "for start, end in meets:\n",
        "  if start > last_end_time:  #>=\n",
        "    count += 1\n",
        "    last_end_time = end\n",
        "\n",
        "count\n"
      ],
      "metadata": {
        "colab": {
          "base_uri": "https://localhost:8080/"
        },
        "id": "gJnkvJpDJfeG",
        "outputId": "fc0eb1b2-092b-46d9-f9e8-27f9e762cd88"
      },
      "execution_count": 3,
      "outputs": [
        {
          "output_type": "execute_result",
          "data": {
            "text/plain": [
              "3"
            ]
          },
          "metadata": {},
          "execution_count": 3
        }
      ]
    },
    {
      "cell_type": "markdown",
      "source": [
        "#revese the string without changing the position of vowels  #a,e,i,o,u         #345 leet code"
      ],
      "metadata": {
        "id": "FdVC0y0iJk6G"
      }
    },
    {
      "cell_type": "code",
      "source": [
        "# revese the string without changing the position of vowels    #a,e,i,o,u              #345 leet code\n",
        "\n",
        "# a=\"hippopotamus\"                              #correct code\n",
        "# output= \"simtopopapuh\"\n",
        "vowels = \"aeiouAEIOU\"\n",
        "vowels = list(vowels)\n",
        "print(vowels)\n",
        "a=\"hippopotamus\"           #use pointer\n",
        "ans=list(a)\n",
        "print(ans)\n",
        "i=0\n",
        "j=len(ans)-1\n",
        "\n",
        "while (i<j):\n",
        "  if ans[i] in vowels:\n",
        "    i+=1\n",
        "  elif(ans[j] in vowels):\n",
        "    j-=1\n",
        "  else:\n",
        "    ans[i],ans[j]=ans[j],ans[i]\n",
        "    i+=1\n",
        "    j-=1\n",
        "print(\"\".join(ans))             #output= \"simtopopapuh\"\n",
        "\n",
        "\n",
        "\n"
      ],
      "metadata": {
        "colab": {
          "base_uri": "https://localhost:8080/"
        },
        "id": "9Lx4jK70JfcT",
        "outputId": "6a6c6155-6f1b-43fc-a202-b06aa588c3c5"
      },
      "execution_count": 4,
      "outputs": [
        {
          "output_type": "stream",
          "name": "stdout",
          "text": [
            "['a', 'e', 'i', 'o', 'u', 'A', 'E', 'I', 'O', 'U']\n",
            "['h', 'i', 'p', 'p', 'o', 'p', 'o', 't', 'a', 'm', 'u', 's']\n",
            "simtopopapuh\n"
          ]
        }
      ]
    },
    {
      "cell_type": "markdown",
      "source": [
        "#find the max possible discount of the books"
      ],
      "metadata": {
        "id": "J14RqJLnKAH-"
      }
    },
    {
      "cell_type": "code",
      "source": [
        "#find the max possible discount of the books\n",
        "a=[2,1,6,4,2,3,1,1,4,2,6,7,3]       #op=22                 #2pointer worest -->O(k+n..)    #use sliding window-->O(n)\n",
        "l=0\n",
        "r=5-1\n",
        "sun=0\n",
        "max=0\n",
        "for i in range(len(a)):\n",
        "  sum = sum+a[i]\n",
        "\n",
        "\n",
        "\n",
        "\n",
        "\n"
      ],
      "metadata": {
        "id": "vev1fmZxJfZV"
      },
      "execution_count": null,
      "outputs": []
    },
    {
      "cell_type": "code",
      "source": [
        "# max discount ,  add continuous k elements subarray and return max       #mahi\n",
        "ip=[2,1,4,4,2,3,1,1,4,2,4,2,6,7,3]\n",
        "k=5\n",
        "tsum=0\n",
        "ind=[0,k-1]\n",
        "for i in range(len(ip)-k+1):\n",
        "    sum=0\n",
        "    for j in range(i,i+k):\n",
        "        sum+=ip[j]\n",
        "    if sum>tsum:\n",
        "        tsum=sum\n",
        "        ind=[i,i+k-1]\n",
        "print(ind)\n",
        "print(tsum)"
      ],
      "metadata": {
        "colab": {
          "base_uri": "https://localhost:8080/"
        },
        "id": "8iOATtD5L7Bl",
        "outputId": "3cb08987-dca5-4a69-8b88-72542634f4bd"
      },
      "execution_count": 19,
      "outputs": [
        {
          "output_type": "stream",
          "name": "stdout",
          "text": [
            "[10, 14]\n",
            "22\n"
          ]
        }
      ]
    },
    {
      "cell_type": "code",
      "source": [
        "a=[2,1,6,4,2,3,1,1,4,2,6,7,3]        #sir code   #correct\n",
        "#  l       r\n",
        "k=5\n",
        "s=0\n",
        "for i in range(k):\n",
        "  s=s+a[i]\n",
        "l=0\n",
        "m=0\n",
        "for r in range(k,len(a)):\n",
        "  s=s+a[r]-a[l]\n",
        "  l=l+1\n",
        "  if s>m:\n",
        "    m=s\n",
        "print(m)"
      ],
      "metadata": {
        "colab": {
          "base_uri": "https://localhost:8080/"
        },
        "id": "yrMlDqRWJfWh",
        "outputId": "cb7a634c-0c00-4c5b-f6ec-74433a53df93"
      },
      "execution_count": 5,
      "outputs": [
        {
          "output_type": "stream",
          "name": "stdout",
          "text": [
            "22\n"
          ]
        }
      ]
    },
    {
      "cell_type": "code",
      "source": [
        "n=[2,1,6,4,2,3,1,1,4,2,6,7,3]         #maruthi\n",
        "l=0\n",
        "temp=0\n",
        "ans=0\n",
        "k=5\n",
        "for r in range(len(n)):\n",
        "    temp+=n[r]\n",
        "    if(r-l==k):\n",
        "        temp-=n[l]\n",
        "        l=l+1\n",
        "    if(r-l+1==k):\n",
        "        ans=max(ans,temp)\n",
        "print(ans)"
      ],
      "metadata": {
        "colab": {
          "base_uri": "https://localhost:8080/"
        },
        "id": "3McF121CJfTp",
        "outputId": "9edc2917-8935-490b-eb66-5f993bcc653e"
      },
      "execution_count": 6,
      "outputs": [
        {
          "output_type": "stream",
          "name": "stdout",
          "text": [
            "22\n"
          ]
        }
      ]
    },
    {
      "cell_type": "code",
      "source": [
        "# in subarray u cant skip it should be contiginous but subsequence can be skipped(all subarr are subsequences also)   #mahi\n",
        "a = [2, 1, 4, 4, 2, 3, 1, 1, 4, 2, 4, 2, 6, 7, 3]\n",
        "k = 5\n",
        "s = sum(a[:k])\n",
        "max_sum = s\n",
        "start_index = 0\n",
        "for r in range(k, len(a)):\n",
        "    s = s - a[r - k] + a[r]\n",
        "    if s > max_sum:\n",
        "        max_sum = s\n",
        "        start_index = r - k + 1\n",
        "print(f\"Max sum window: {a[start_index:start_index + k]}\")\n",
        "print(f\"Indices: [{start_index}, {start_index + k - 1}]\")"
      ],
      "metadata": {
        "colab": {
          "base_uri": "https://localhost:8080/",
          "height": 211
        },
        "id": "RH9Cp0KTMKpy",
        "outputId": "2336f6aa-c3e6-40ee-8ef8-4ff05e7d6cff"
      },
      "execution_count": 20,
      "outputs": [
        {
          "output_type": "error",
          "ename": "TypeError",
          "evalue": "'int' object is not callable",
          "traceback": [
            "\u001b[0;31m---------------------------------------------------------------------------\u001b[0m",
            "\u001b[0;31mTypeError\u001b[0m                                 Traceback (most recent call last)",
            "\u001b[0;32m<ipython-input-20-0c5778e4f681>\u001b[0m in \u001b[0;36m<cell line: 0>\u001b[0;34m()\u001b[0m\n\u001b[1;32m      2\u001b[0m \u001b[0ma\u001b[0m \u001b[0;34m=\u001b[0m \u001b[0;34m[\u001b[0m\u001b[0;36m2\u001b[0m\u001b[0;34m,\u001b[0m \u001b[0;36m1\u001b[0m\u001b[0;34m,\u001b[0m \u001b[0;36m4\u001b[0m\u001b[0;34m,\u001b[0m \u001b[0;36m4\u001b[0m\u001b[0;34m,\u001b[0m \u001b[0;36m2\u001b[0m\u001b[0;34m,\u001b[0m \u001b[0;36m3\u001b[0m\u001b[0;34m,\u001b[0m \u001b[0;36m1\u001b[0m\u001b[0;34m,\u001b[0m \u001b[0;36m1\u001b[0m\u001b[0;34m,\u001b[0m \u001b[0;36m4\u001b[0m\u001b[0;34m,\u001b[0m \u001b[0;36m2\u001b[0m\u001b[0;34m,\u001b[0m \u001b[0;36m4\u001b[0m\u001b[0;34m,\u001b[0m \u001b[0;36m2\u001b[0m\u001b[0;34m,\u001b[0m \u001b[0;36m6\u001b[0m\u001b[0;34m,\u001b[0m \u001b[0;36m7\u001b[0m\u001b[0;34m,\u001b[0m \u001b[0;36m3\u001b[0m\u001b[0;34m]\u001b[0m\u001b[0;34m\u001b[0m\u001b[0;34m\u001b[0m\u001b[0m\n\u001b[1;32m      3\u001b[0m \u001b[0mk\u001b[0m \u001b[0;34m=\u001b[0m \u001b[0;36m5\u001b[0m\u001b[0;34m\u001b[0m\u001b[0;34m\u001b[0m\u001b[0m\n\u001b[0;32m----> 4\u001b[0;31m \u001b[0ms\u001b[0m \u001b[0;34m=\u001b[0m \u001b[0msum\u001b[0m\u001b[0;34m(\u001b[0m\u001b[0ma\u001b[0m\u001b[0;34m[\u001b[0m\u001b[0;34m:\u001b[0m\u001b[0mk\u001b[0m\u001b[0;34m]\u001b[0m\u001b[0;34m)\u001b[0m\u001b[0;34m\u001b[0m\u001b[0;34m\u001b[0m\u001b[0m\n\u001b[0m\u001b[1;32m      5\u001b[0m \u001b[0mmax_sum\u001b[0m \u001b[0;34m=\u001b[0m \u001b[0ms\u001b[0m\u001b[0;34m\u001b[0m\u001b[0;34m\u001b[0m\u001b[0m\n\u001b[1;32m      6\u001b[0m \u001b[0mstart_index\u001b[0m \u001b[0;34m=\u001b[0m \u001b[0;36m0\u001b[0m\u001b[0;34m\u001b[0m\u001b[0;34m\u001b[0m\u001b[0m\n",
            "\u001b[0;31mTypeError\u001b[0m: 'int' object is not callable"
          ]
        }
      ]
    },
    {
      "cell_type": "markdown",
      "source": [
        "#print the longest length of subarray"
      ],
      "metadata": {
        "id": "SsgxhbZAKLmn"
      }
    },
    {
      "cell_type": "code",
      "source": [
        "#same above question   but sum<=k  #k is not fixed  #sliding\n",
        " #print the c of subarrys\n",
        "\n",
        "n=[2,1,6,4,2,3,1,1,4,2,6,7,3]            #my code #not a full code\n",
        "k=7\n",
        "s=0\n",
        "max=0\n",
        "for i in range(len(n)):               #O(n*n)\n",
        " for j in range(len(n)):\n",
        "  if s<=k :\n",
        "   s=s+n[j]\n",
        "   max+=1\n",
        "\n",
        "#  print(m)\n"
      ],
      "metadata": {
        "id": "4RHUouueJfPh"
      },
      "execution_count": 7,
      "outputs": []
    },
    {
      "cell_type": "code",
      "source": [
        "n = [2, 1, 6, 4, 2, 3, 1, 1, 4, 2, 6, 7, 3]                  #correct #ai\n",
        "k = 7\n",
        "count = 0\n",
        "\n",
        "for i in range(len(n)):\n",
        "    s = 0\n",
        "    for j in range(i, len(n)):\n",
        "        s += n[j]\n",
        "        if s <= k:\n",
        "            count += 1\n",
        "        else:\n",
        "            break  # No need to continue if sum exceeded k\n",
        "\n",
        "print(\"Total valid subarrays with sum ≤\", k, \":\", count)\n",
        "# # ------------------------------------------------------------------------\n",
        "\n",
        "# efficient O(n) version using sliding window\n",
        "\n",
        "# def count_subarrays_with_sum_le_k(arr, k):\n",
        "#     left = 0\n",
        "#     current_sum = 0\n",
        "#     count = 0\n",
        "\n",
        "#     for right in range(len(arr)):\n",
        "#         current_sum += arr[right]\n",
        "\n",
        "#         while current_sum > k:\n",
        "#             current_sum -= arr[left]\n",
        "#             left += 1\n",
        "\n",
        "#         count += (right - left + 1)  # all subarrays ending at right\n",
        "\n",
        "#     return count\n",
        "\n",
        "# # Example\n",
        "# n = [2, 1, 6, 4, 2, 3, 1, 1, 4, 2, 6, 7, 3]\n",
        "# k = 7\n",
        "# print(\"Total valid subarrays with sum ≤\", k, \":\", count_subarrays_with_sum_le_k(n, k)) #Total valid subarrays with sum ≤ 7 : 26\n"
      ],
      "metadata": {
        "colab": {
          "base_uri": "https://localhost:8080/"
        },
        "id": "HaSTeQpZRTTI",
        "outputId": "05ba2d8f-5f41-426e-f9d7-98c6a7855826"
      },
      "execution_count": 26,
      "outputs": [
        {
          "output_type": "stream",
          "name": "stdout",
          "text": [
            "Total valid subarrays with sum ≤ 7 : 26\n"
          ]
        }
      ]
    },
    {
      "cell_type": "code",
      "source": [
        "# sum also should be <= k          #mahi\n",
        "a=[2,1,4,4,2,3,1,1,4,2,4,2,6,7,3]\n",
        "l=0\n",
        "k=6\n",
        "m=0\n",
        "sum=0\n",
        "for r in range(len(a)):\n",
        "    sum+=a[r]\n",
        "    if sum<=k:\n",
        "        m=max(m,r-l+1)  #find length between l and r\n",
        "    else:\n",
        "        sum-=a[l]\n",
        "        l+=1\n",
        "print(m)"
      ],
      "metadata": {
        "colab": {
          "base_uri": "https://localhost:8080/",
          "height": 211
        },
        "id": "kxRelDjlMgcf",
        "outputId": "d509b0ad-f732-4618-ec6c-d4d1c1179b52"
      },
      "execution_count": 21,
      "outputs": [
        {
          "output_type": "error",
          "ename": "TypeError",
          "evalue": "'int' object is not callable",
          "traceback": [
            "\u001b[0;31m---------------------------------------------------------------------------\u001b[0m",
            "\u001b[0;31mTypeError\u001b[0m                                 Traceback (most recent call last)",
            "\u001b[0;32m<ipython-input-21-a50d988d5d11>\u001b[0m in \u001b[0;36m<cell line: 0>\u001b[0;34m()\u001b[0m\n\u001b[1;32m      8\u001b[0m     \u001b[0msum\u001b[0m\u001b[0;34m+=\u001b[0m\u001b[0ma\u001b[0m\u001b[0;34m[\u001b[0m\u001b[0mr\u001b[0m\u001b[0;34m]\u001b[0m\u001b[0;34m\u001b[0m\u001b[0;34m\u001b[0m\u001b[0m\n\u001b[1;32m      9\u001b[0m     \u001b[0;32mif\u001b[0m \u001b[0msum\u001b[0m\u001b[0;34m<=\u001b[0m\u001b[0mk\u001b[0m\u001b[0;34m:\u001b[0m\u001b[0;34m\u001b[0m\u001b[0;34m\u001b[0m\u001b[0m\n\u001b[0;32m---> 10\u001b[0;31m         \u001b[0mm\u001b[0m\u001b[0;34m=\u001b[0m\u001b[0mmax\u001b[0m\u001b[0;34m(\u001b[0m\u001b[0mm\u001b[0m\u001b[0;34m,\u001b[0m\u001b[0mr\u001b[0m\u001b[0;34m-\u001b[0m\u001b[0ml\u001b[0m\u001b[0;34m+\u001b[0m\u001b[0;36m1\u001b[0m\u001b[0;34m)\u001b[0m \u001b[0;31m#find length between l and r\u001b[0m\u001b[0;34m\u001b[0m\u001b[0;34m\u001b[0m\u001b[0m\n\u001b[0m\u001b[1;32m     11\u001b[0m     \u001b[0;32melse\u001b[0m\u001b[0;34m:\u001b[0m\u001b[0;34m\u001b[0m\u001b[0;34m\u001b[0m\u001b[0m\n\u001b[1;32m     12\u001b[0m         \u001b[0msum\u001b[0m\u001b[0;34m-=\u001b[0m\u001b[0ma\u001b[0m\u001b[0;34m[\u001b[0m\u001b[0ml\u001b[0m\u001b[0;34m]\u001b[0m\u001b[0;34m\u001b[0m\u001b[0;34m\u001b[0m\u001b[0m\n",
            "\u001b[0;31mTypeError\u001b[0m: 'int' object is not callable"
          ]
        }
      ]
    },
    {
      "cell_type": "code",
      "source": [
        "def subarray_count_and_max_length(arr, k):      #ai\n",
        "    left = 0\n",
        "    sum_ = 0\n",
        "    count = 0\n",
        "    max_len = 0\n",
        "\n",
        "    for right in range(len(arr)):\n",
        "        sum_ += arr[right]\n",
        "\n",
        "        while sum_ > k:\n",
        "            sum_ -= arr[left]\n",
        "            left += 1\n",
        "\n",
        "        count += (right - left + 1)\n",
        "        max_len = max(max_len, right - left + 1)\n",
        "\n",
        "    print(\"Total valid subarrays:\", count)\n",
        "    print(\"Longest valid subarray length:\", max_len)\n",
        "\n",
        "# Example usage\n",
        "arr = list(map(int, input(\"Enter array elements: \").split()))\n",
        "k = int(input(\"Enter the value of k: \"))\n",
        "subarray_count_and_max_length(arr, k)\n"
      ],
      "metadata": {
        "colab": {
          "base_uri": "https://localhost:8080/",
          "height": 332
        },
        "id": "HWS4voFVNyMj",
        "outputId": "e76ab463-fef8-480e-a564-fd0626a2bca9"
      },
      "execution_count": 23,
      "outputs": [
        {
          "name": "stdout",
          "output_type": "stream",
          "text": [
            "Enter array elements: 1 2 3 4 5\n",
            "Enter the value of k: 3\n"
          ]
        },
        {
          "output_type": "error",
          "ename": "TypeError",
          "evalue": "'int' object is not callable",
          "traceback": [
            "\u001b[0;31m---------------------------------------------------------------------------\u001b[0m",
            "\u001b[0;31mTypeError\u001b[0m                                 Traceback (most recent call last)",
            "\u001b[0;32m<ipython-input-23-fa3982a59b83>\u001b[0m in \u001b[0;36m<cell line: 0>\u001b[0;34m()\u001b[0m\n\u001b[1;32m     21\u001b[0m \u001b[0marr\u001b[0m \u001b[0;34m=\u001b[0m \u001b[0mlist\u001b[0m\u001b[0;34m(\u001b[0m\u001b[0mmap\u001b[0m\u001b[0;34m(\u001b[0m\u001b[0mint\u001b[0m\u001b[0;34m,\u001b[0m \u001b[0minput\u001b[0m\u001b[0;34m(\u001b[0m\u001b[0;34m\"Enter array elements: \"\u001b[0m\u001b[0;34m)\u001b[0m\u001b[0;34m.\u001b[0m\u001b[0msplit\u001b[0m\u001b[0;34m(\u001b[0m\u001b[0;34m)\u001b[0m\u001b[0;34m)\u001b[0m\u001b[0;34m)\u001b[0m\u001b[0;34m\u001b[0m\u001b[0;34m\u001b[0m\u001b[0m\n\u001b[1;32m     22\u001b[0m \u001b[0mk\u001b[0m \u001b[0;34m=\u001b[0m \u001b[0mint\u001b[0m\u001b[0;34m(\u001b[0m\u001b[0minput\u001b[0m\u001b[0;34m(\u001b[0m\u001b[0;34m\"Enter the value of k: \"\u001b[0m\u001b[0;34m)\u001b[0m\u001b[0;34m)\u001b[0m\u001b[0;34m\u001b[0m\u001b[0;34m\u001b[0m\u001b[0m\n\u001b[0;32m---> 23\u001b[0;31m \u001b[0msubarray_count_and_max_length\u001b[0m\u001b[0;34m(\u001b[0m\u001b[0marr\u001b[0m\u001b[0;34m,\u001b[0m \u001b[0mk\u001b[0m\u001b[0;34m)\u001b[0m\u001b[0;34m\u001b[0m\u001b[0;34m\u001b[0m\u001b[0m\n\u001b[0m",
            "\u001b[0;32m<ipython-input-23-fa3982a59b83>\u001b[0m in \u001b[0;36msubarray_count_and_max_length\u001b[0;34m(arr, k)\u001b[0m\n\u001b[1;32m     13\u001b[0m \u001b[0;34m\u001b[0m\u001b[0m\n\u001b[1;32m     14\u001b[0m         \u001b[0mcount\u001b[0m \u001b[0;34m+=\u001b[0m \u001b[0;34m(\u001b[0m\u001b[0mright\u001b[0m \u001b[0;34m-\u001b[0m \u001b[0mleft\u001b[0m \u001b[0;34m+\u001b[0m \u001b[0;36m1\u001b[0m\u001b[0;34m)\u001b[0m\u001b[0;34m\u001b[0m\u001b[0;34m\u001b[0m\u001b[0m\n\u001b[0;32m---> 15\u001b[0;31m         \u001b[0mmax_len\u001b[0m \u001b[0;34m=\u001b[0m \u001b[0mmax\u001b[0m\u001b[0;34m(\u001b[0m\u001b[0mmax_len\u001b[0m\u001b[0;34m,\u001b[0m \u001b[0mright\u001b[0m \u001b[0;34m-\u001b[0m \u001b[0mleft\u001b[0m \u001b[0;34m+\u001b[0m \u001b[0;36m1\u001b[0m\u001b[0;34m)\u001b[0m\u001b[0;34m\u001b[0m\u001b[0;34m\u001b[0m\u001b[0m\n\u001b[0m\u001b[1;32m     16\u001b[0m \u001b[0;34m\u001b[0m\u001b[0m\n\u001b[1;32m     17\u001b[0m     \u001b[0mprint\u001b[0m\u001b[0;34m(\u001b[0m\u001b[0;34m\"Total valid subarrays:\"\u001b[0m\u001b[0;34m,\u001b[0m \u001b[0mcount\u001b[0m\u001b[0;34m)\u001b[0m\u001b[0;34m\u001b[0m\u001b[0;34m\u001b[0m\u001b[0m\n",
            "\u001b[0;31mTypeError\u001b[0m: 'int' object is not callable"
          ]
        }
      ]
    },
    {
      "cell_type": "code",
      "source": [
        "a=[2,1,6,4,2,3,1,1,4,2,6,7,3]      #sir code  #incomplete\n",
        "# k=7\n",
        "k=6\n",
        "l=0\n",
        "s=0\n",
        "m_l=0\n",
        "for i in range(len(a)):\n",
        "  s=s+a[i]\n",
        "  if s<=k:\n",
        "    m_l=max(m_l,i-l+1)\n",
        "  else:\n",
        "    s=s-a[l]\n",
        "    l=l+1\n",
        "\n",
        "print(m_l)\n",
        "\n",
        "\n",
        "\n",
        "\n",
        "# a = [2, 1, 6, 4, 2, 3, 1, 1, 4, 2, 6, 7, 3]    #ai\n",
        "# k = 6\n",
        "# l = 0\n",
        "# s = 0\n",
        "# m_l = 0\n",
        "\n",
        "# for i in range(len(a)):\n",
        "#     s += a[i]\n",
        "\n",
        "#     while s > k:  # shrink the window until the sum is <= k\n",
        "#         s -= a[l]\n",
        "#         l += 1\n",
        "\n",
        "#     m_l = max(m_l, i - l + 1)  # update max length\n",
        "\n",
        "# print(\"Longest subarray length with sum ≤\", k, \":\", m_l)\n",
        "\n"
      ],
      "metadata": {
        "colab": {
          "base_uri": "https://localhost:8080/",
          "height": 211
        },
        "id": "F72JZbspKR9k",
        "outputId": "3de74aa0-94b3-4587-fbfd-de5f4e83fcaf"
      },
      "execution_count": 28,
      "outputs": [
        {
          "output_type": "error",
          "ename": "TypeError",
          "evalue": "'int' object is not callable",
          "traceback": [
            "\u001b[0;31m---------------------------------------------------------------------------\u001b[0m",
            "\u001b[0;31mTypeError\u001b[0m                                 Traceback (most recent call last)",
            "\u001b[0;32m<ipython-input-28-80170806edd6>\u001b[0m in \u001b[0;36m<cell line: 0>\u001b[0;34m()\u001b[0m\n\u001b[1;32m     31\u001b[0m         \u001b[0ml\u001b[0m \u001b[0;34m+=\u001b[0m \u001b[0;36m1\u001b[0m\u001b[0;34m\u001b[0m\u001b[0;34m\u001b[0m\u001b[0m\n\u001b[1;32m     32\u001b[0m \u001b[0;34m\u001b[0m\u001b[0m\n\u001b[0;32m---> 33\u001b[0;31m     \u001b[0mm_l\u001b[0m \u001b[0;34m=\u001b[0m \u001b[0mmax\u001b[0m\u001b[0;34m(\u001b[0m\u001b[0mm_l\u001b[0m\u001b[0;34m,\u001b[0m \u001b[0mi\u001b[0m \u001b[0;34m-\u001b[0m \u001b[0ml\u001b[0m \u001b[0;34m+\u001b[0m \u001b[0;36m1\u001b[0m\u001b[0;34m)\u001b[0m  \u001b[0;31m# update max length\u001b[0m\u001b[0;34m\u001b[0m\u001b[0;34m\u001b[0m\u001b[0m\n\u001b[0m\u001b[1;32m     34\u001b[0m \u001b[0;34m\u001b[0m\u001b[0m\n\u001b[1;32m     35\u001b[0m \u001b[0mprint\u001b[0m\u001b[0;34m(\u001b[0m\u001b[0;34m\"Longest subarray length with sum ≤\"\u001b[0m\u001b[0;34m,\u001b[0m \u001b[0mk\u001b[0m\u001b[0;34m,\u001b[0m \u001b[0;34m\":\"\u001b[0m\u001b[0;34m,\u001b[0m \u001b[0mm_l\u001b[0m\u001b[0;34m)\u001b[0m\u001b[0;34m\u001b[0m\u001b[0;34m\u001b[0m\u001b[0m\n",
            "\u001b[0;31mTypeError\u001b[0m: 'int' object is not callable"
          ]
        }
      ]
    },
    {
      "cell_type": "markdown",
      "source": [
        "#print the longest palindromic substring"
      ],
      "metadata": {
        "id": "l-lqqPwtKUrw"
      }
    },
    {
      "cell_type": "code",
      "source": [
        "# print the length of longest palindromic substring\n",
        "\n",
        "a=list(a)\n",
        "# f=a[i]\n",
        "l=0\n",
        "r=0\n",
        "\n",
        "for i in range(len(a)-1):\n",
        "  temp=a[l]\n",
        "  if a[i] == a[i+1]:\n",
        "    print(a)\n"
      ],
      "metadata": {
        "colab": {
          "base_uri": "https://localhost:8080/"
        },
        "id": "c6cX6givKXmx",
        "outputId": "d1a4c486-b572-4daa-8b79-bbc20e39c962"
      },
      "execution_count": 9,
      "outputs": [
        {
          "output_type": "stream",
          "name": "stdout",
          "text": [
            "[2, 1, 6, 4, 2, 3, 1, 1, 4, 2, 6, 7, 3]\n"
          ]
        }
      ]
    },
    {
      "cell_type": "code",
      "source": [
        "a=\"ababba\"                                 #total numbers lo  sub strings\n",
        "m=0                             #maruthi\n",
        "st=0\n",
        "count=0\n",
        "for i in range(len(a)):\n",
        "    l=i\n",
        "    r=i\n",
        "    while(l>=0 and r<len(a) and a[l]==a[r]):\n",
        "        if(r-l+1>m):\n",
        "            m=r-l+1\n",
        "            st=l\n",
        "        count+=1\n",
        "        # m=max(m,r-l+1)\n",
        "        l=l-1\n",
        "        r=r+1\n",
        "    l=i\n",
        "    r=i+1\n",
        "    while(l>=0 and r<len(a) and a[l]==a[r]):\n",
        "        if(r-l+1>m):\n",
        "            m=r-l+1\n",
        "            st=l\n",
        "        count+=1\n",
        "        l=l-1\n",
        "        r=r+1\n",
        "print(count)"
      ],
      "metadata": {
        "colab": {
          "base_uri": "https://localhost:8080/"
        },
        "id": "JB1mA30CKs1e",
        "outputId": "516e0d12-ab6f-487b-f1c0-8edbf957a234"
      },
      "execution_count": 10,
      "outputs": [
        {
          "output_type": "stream",
          "name": "stdout",
          "text": [
            "10\n"
          ]
        }
      ]
    },
    {
      "cell_type": "code",
      "source": [
        "a=\"abaabba\"\n",
        "max_length=0\n",
        "for i in range(len(a)):\n",
        "  l=i\n",
        "  r=i\n",
        "  while(l>=0 and r<len(a) and a[l]==a[r]):       #odd\n",
        "    max_length=max(max_length,r-l+1)\n",
        "    l=l-1\n",
        "    r=r+1\n",
        "\n",
        "  l=i\n",
        "  r=i+1\n",
        "  while(l>=0 and r<len(a) and a[l]==a[r]):       #even\n",
        "    max_length=max(max_length,r-l+1)\n",
        "    l=l-1\n",
        "    r=r+1\n",
        "print(max_length)                                        #op=4\n"
      ],
      "metadata": {
        "colab": {
          "base_uri": "https://localhost:8080/",
          "height": 211
        },
        "id": "hMEQUD-bKsx6",
        "outputId": "a4fa21eb-f620-4652-9b19-690a5a5866fa"
      },
      "execution_count": 11,
      "outputs": [
        {
          "output_type": "error",
          "ename": "TypeError",
          "evalue": "'int' object is not callable",
          "traceback": [
            "\u001b[0;31m---------------------------------------------------------------------------\u001b[0m",
            "\u001b[0;31mTypeError\u001b[0m                                 Traceback (most recent call last)",
            "\u001b[0;32m<ipython-input-11-398b7e29baeb>\u001b[0m in \u001b[0;36m<cell line: 0>\u001b[0;34m()\u001b[0m\n\u001b[1;32m      5\u001b[0m   \u001b[0mr\u001b[0m\u001b[0;34m=\u001b[0m\u001b[0mi\u001b[0m\u001b[0;34m\u001b[0m\u001b[0;34m\u001b[0m\u001b[0m\n\u001b[1;32m      6\u001b[0m   \u001b[0;32mwhile\u001b[0m\u001b[0;34m(\u001b[0m\u001b[0ml\u001b[0m\u001b[0;34m>=\u001b[0m\u001b[0;36m0\u001b[0m \u001b[0;32mand\u001b[0m \u001b[0mr\u001b[0m\u001b[0;34m<\u001b[0m\u001b[0mlen\u001b[0m\u001b[0;34m(\u001b[0m\u001b[0ma\u001b[0m\u001b[0;34m)\u001b[0m \u001b[0;32mand\u001b[0m \u001b[0ma\u001b[0m\u001b[0;34m[\u001b[0m\u001b[0ml\u001b[0m\u001b[0;34m]\u001b[0m\u001b[0;34m==\u001b[0m\u001b[0ma\u001b[0m\u001b[0;34m[\u001b[0m\u001b[0mr\u001b[0m\u001b[0;34m]\u001b[0m\u001b[0;34m)\u001b[0m\u001b[0;34m:\u001b[0m       \u001b[0;31m#odd\u001b[0m\u001b[0;34m\u001b[0m\u001b[0;34m\u001b[0m\u001b[0m\n\u001b[0;32m----> 7\u001b[0;31m     \u001b[0mmax_length\u001b[0m\u001b[0;34m=\u001b[0m\u001b[0mmax\u001b[0m\u001b[0;34m(\u001b[0m\u001b[0mmax_length\u001b[0m\u001b[0;34m,\u001b[0m\u001b[0mr\u001b[0m\u001b[0;34m-\u001b[0m\u001b[0ml\u001b[0m\u001b[0;34m+\u001b[0m\u001b[0;36m1\u001b[0m\u001b[0;34m)\u001b[0m\u001b[0;34m\u001b[0m\u001b[0;34m\u001b[0m\u001b[0m\n\u001b[0m\u001b[1;32m      8\u001b[0m     \u001b[0ml\u001b[0m\u001b[0;34m=\u001b[0m\u001b[0ml\u001b[0m\u001b[0;34m-\u001b[0m\u001b[0;36m1\u001b[0m\u001b[0;34m\u001b[0m\u001b[0;34m\u001b[0m\u001b[0m\n\u001b[1;32m      9\u001b[0m     \u001b[0mr\u001b[0m\u001b[0;34m=\u001b[0m\u001b[0mr\u001b[0m\u001b[0;34m+\u001b[0m\u001b[0;36m1\u001b[0m\u001b[0;34m\u001b[0m\u001b[0;34m\u001b[0m\u001b[0m\n",
            "\u001b[0;31mTypeError\u001b[0m: 'int' object is not callable"
          ]
        }
      ]
    },
    {
      "cell_type": "code",
      "source": [
        "a = \"abaabba\"                #corrected\n",
        "max_length = 0\n",
        "start_index = 0\n",
        "\n",
        "for i in range(len(a)):\n",
        "    # Odd-length palindrome\n",
        "    l = i\n",
        "    r = i\n",
        "    while l >= 0 and r < len(a) and a[l] == a[r]:\n",
        "        if r - l + 1 > max_length:\n",
        "            max_length = r - l + 1\n",
        "            start_index = l\n",
        "        l -= 1\n",
        "        r += 1\n",
        "\n",
        "    # Even-length palindrome\n",
        "    l = i\n",
        "    r = i + 1\n",
        "    while l >= 0 and r < len(a) and a[l] == a[r]:\n",
        "        if r - l + 1 > max_length:\n",
        "            max_length = r - l + 1\n",
        "            start_index = l\n",
        "        l -= 1\n",
        "        r += 1\n",
        "\n",
        "print(\"Longest Length:\", max_length)\n",
        "print(\"Longest Palindromic Substring:\", a[start_index:start_index + max_length])\n"
      ],
      "metadata": {
        "colab": {
          "base_uri": "https://localhost:8080/"
        },
        "id": "T77paipESqgn",
        "outputId": "8cbafbee-be97-4fdc-ca20-0679fc74de86"
      },
      "execution_count": 30,
      "outputs": [
        {
          "output_type": "stream",
          "name": "stdout",
          "text": [
            "Longest Length: 4\n",
            "Longest Palindromic Substring: baab\n"
          ]
        }
      ]
    },
    {
      "cell_type": "code",
      "source": [
        "a=\"abaabba\"\n",
        "max_length = 0 # Use a different variable name\n",
        "st=0\n",
        "for i in range(len(a)):\n",
        "  l=i\n",
        "  r=i\n",
        "  while(l>=0 and r<len(a) and a[l]==a[r]):       #odd\n",
        "    max_length = max(max_length,r-l+1) # Use the correct function name\n",
        "    if(r-l+1>max_length):\n",
        "      m=r-1+1\n",
        "      st=l\n",
        "    l=l-1\n",
        "    r=r+1\n",
        "\n",
        "  l=i\n",
        "  r=i+1\n",
        "  while(l>=0 and r<len(a) and a[l]==a[r]):       #even\n",
        "    max_length = max(max_length,r-l+1) # Use the correct function name\n",
        "    if(r-l+1>max_length):\n",
        "      m=r-1+1\n",
        "      st=l\n",
        "    l=l-1\n",
        "    r=r+1\n",
        "\n",
        "print(a[st:st+max_length])"
      ],
      "metadata": {
        "colab": {
          "base_uri": "https://localhost:8080/",
          "height": 211
        },
        "id": "tO8s5yZ-Ksvd",
        "outputId": "ec82455a-9b6a-4c9a-b27b-320dcea9b8a1"
      },
      "execution_count": 12,
      "outputs": [
        {
          "output_type": "error",
          "ename": "TypeError",
          "evalue": "'int' object is not callable",
          "traceback": [
            "\u001b[0;31m---------------------------------------------------------------------------\u001b[0m",
            "\u001b[0;31mTypeError\u001b[0m                                 Traceback (most recent call last)",
            "\u001b[0;32m<ipython-input-12-ba45a3761337>\u001b[0m in \u001b[0;36m<cell line: 0>\u001b[0;34m()\u001b[0m\n\u001b[1;32m      6\u001b[0m   \u001b[0mr\u001b[0m\u001b[0;34m=\u001b[0m\u001b[0mi\u001b[0m\u001b[0;34m\u001b[0m\u001b[0;34m\u001b[0m\u001b[0m\n\u001b[1;32m      7\u001b[0m   \u001b[0;32mwhile\u001b[0m\u001b[0;34m(\u001b[0m\u001b[0ml\u001b[0m\u001b[0;34m>=\u001b[0m\u001b[0;36m0\u001b[0m \u001b[0;32mand\u001b[0m \u001b[0mr\u001b[0m\u001b[0;34m<\u001b[0m\u001b[0mlen\u001b[0m\u001b[0;34m(\u001b[0m\u001b[0ma\u001b[0m\u001b[0;34m)\u001b[0m \u001b[0;32mand\u001b[0m \u001b[0ma\u001b[0m\u001b[0;34m[\u001b[0m\u001b[0ml\u001b[0m\u001b[0;34m]\u001b[0m\u001b[0;34m==\u001b[0m\u001b[0ma\u001b[0m\u001b[0;34m[\u001b[0m\u001b[0mr\u001b[0m\u001b[0;34m]\u001b[0m\u001b[0;34m)\u001b[0m\u001b[0;34m:\u001b[0m       \u001b[0;31m#odd\u001b[0m\u001b[0;34m\u001b[0m\u001b[0;34m\u001b[0m\u001b[0m\n\u001b[0;32m----> 8\u001b[0;31m     \u001b[0mmax_length\u001b[0m \u001b[0;34m=\u001b[0m \u001b[0mmax\u001b[0m\u001b[0;34m(\u001b[0m\u001b[0mmax_length\u001b[0m\u001b[0;34m,\u001b[0m\u001b[0mr\u001b[0m\u001b[0;34m-\u001b[0m\u001b[0ml\u001b[0m\u001b[0;34m+\u001b[0m\u001b[0;36m1\u001b[0m\u001b[0;34m)\u001b[0m \u001b[0;31m# Use the correct function name\u001b[0m\u001b[0;34m\u001b[0m\u001b[0;34m\u001b[0m\u001b[0m\n\u001b[0m\u001b[1;32m      9\u001b[0m     \u001b[0;32mif\u001b[0m\u001b[0;34m(\u001b[0m\u001b[0mr\u001b[0m\u001b[0;34m-\u001b[0m\u001b[0ml\u001b[0m\u001b[0;34m+\u001b[0m\u001b[0;36m1\u001b[0m\u001b[0;34m>\u001b[0m\u001b[0mmax_length\u001b[0m\u001b[0;34m)\u001b[0m\u001b[0;34m:\u001b[0m\u001b[0;34m\u001b[0m\u001b[0;34m\u001b[0m\u001b[0m\n\u001b[1;32m     10\u001b[0m       \u001b[0mm\u001b[0m\u001b[0;34m=\u001b[0m\u001b[0mr\u001b[0m\u001b[0;34m-\u001b[0m\u001b[0;36m1\u001b[0m\u001b[0;34m+\u001b[0m\u001b[0;36m1\u001b[0m\u001b[0;34m\u001b[0m\u001b[0;34m\u001b[0m\u001b[0m\n",
            "\u001b[0;31mTypeError\u001b[0m: 'int' object is not callable"
          ]
        }
      ]
    },
    {
      "cell_type": "code",
      "source": [
        "a=\"abaabba\"\n",
        "max_length = 0\n",
        "st=0\n",
        "for i in range(len(a)):\n",
        "  l=i\n",
        "  r=i\n",
        "  while(l>=0 and r<len(a) and a[l]==a[r]):       #odd\n",
        "    # Check if the current palindrome is longer than the maximum found so far\n",
        "    current_length = r-l+1\n",
        "    if current_length > max_length:\n",
        "      max_length = current_length\n",
        "      st = l\n",
        "    l=l-1\n",
        "    r=r+1\n",
        "\n",
        "  l=i\n",
        "  r=i+1\n",
        "  while(l>=0 and r<len(a) and a[l]==a[r]):       #even\n",
        "    # Check if the current palindrome is longer than the maximum found so far\n",
        "    current_length = r-l+1\n",
        "    if current_length > max_length:\n",
        "      max_length = current_length\n",
        "      st = l\n",
        "    l=l-1\n",
        "    r=r+1\n",
        "\n",
        "print(a[st:st+max_length])"
      ],
      "metadata": {
        "colab": {
          "base_uri": "https://localhost:8080/"
        },
        "id": "ZAKmEjG4KstW",
        "outputId": "631f170a-704a-40c2-e82a-d7a85d916445"
      },
      "execution_count": 13,
      "outputs": [
        {
          "output_type": "stream",
          "name": "stdout",
          "text": [
            "baab\n"
          ]
        }
      ]
    },
    {
      "cell_type": "code",
      "source": [
        "# print the length of longest palindromic substring       #ai\n",
        "# a=\"abaabba\"\n",
        "\n",
        "def longest_palindrome_substring(s):\n",
        "    n = len(s)\n",
        "    if n < 2:\n",
        "        return n\n",
        "\n",
        "    start = 0\n",
        "    max_len = 1\n",
        "\n",
        "    for i in range(n):\n",
        "        # Check for odd length palindromes (center is a single character)\n",
        "        l, r = i, i\n",
        "        while l >= 0 and r < n and s[l] == s[r]:\n",
        "            if r - l + 1 > max_len:\n",
        "                max_len = r - l + 1\n",
        "                start = l\n",
        "            l -= 1\n",
        "            r += 1\n",
        "\n",
        "        # Check for even length palindromes (center is between two characters)\n",
        "        l, r = i, i + 1\n",
        "        while l >= 0 and r < n and s[l] == s[r]:\n",
        "            if r - l + 1 > max_len:\n",
        "                max_len = r - l + 1\n",
        "                start = l\n",
        "            l -= 1\n",
        "            r += 1\n",
        "\n",
        "    return max_len\n",
        "\n",
        "a = \"abaabba\"\n",
        "print(longest_palindrome_substring(a))\n"
      ],
      "metadata": {
        "colab": {
          "base_uri": "https://localhost:8080/"
        },
        "id": "J-qTECYWKsrx",
        "outputId": "a62ecd75-0bbe-4e55-9f2a-4962cf306a40"
      },
      "execution_count": 14,
      "outputs": [
        {
          "output_type": "stream",
          "name": "stdout",
          "text": [
            "4\n"
          ]
        }
      ]
    },
    {
      "cell_type": "markdown",
      "source": [
        "#length of largest sub string with out repeating the char"
      ],
      "metadata": {
        "id": "PGcqwkSqK5th"
      }
    },
    {
      "cell_type": "code",
      "source": [
        "#length of largest sub string with out repeating the char                  #leetcode 3\n",
        "\n",
        "# a=\"abcdaecdb\"                 #4\n",
        "\n",
        "# m=max(m,r-l+1)\n",
        "# l=d[s[r]]+1  sir explaind  in class\n",
        "# while (r<n-1  ... )\n",
        "\n",
        "a=\"abcdecfbgce\"                 #6(decfbg)\n",
        "#  l              #  6(decfbg)\n",
        "#  r-->\n",
        "# l,m,d=0,0,{}\n",
        "d={}\n",
        "l=0\n",
        "m=0\n",
        "for r in range(len(a)):\n",
        "  if a[r] not in d:\n",
        "    d[a[r]]=r\n",
        "  else:\n",
        "    if (d[a[r]]>=l):\n",
        "      l=d[a[r]]+1\n",
        "    d[a[r]]=r\n",
        "  m=max(m,r-l+1)     #here u should change  to print the string\n",
        "print(m)"
      ],
      "metadata": {
        "colab": {
          "base_uri": "https://localhost:8080/",
          "height": 193
        },
        "id": "Aj6ZGhtIKso6",
        "outputId": "f5190486-2836-4445-bc1b-b1ae3c05638a"
      },
      "execution_count": 15,
      "outputs": [
        {
          "output_type": "error",
          "ename": "TypeError",
          "evalue": "'int' object is not callable",
          "traceback": [
            "\u001b[0;31m---------------------------------------------------------------------------\u001b[0m",
            "\u001b[0;31mTypeError\u001b[0m                                 Traceback (most recent call last)",
            "\u001b[0;32m<ipython-input-15-a23bb82d4073>\u001b[0m in \u001b[0;36m<cell line: 0>\u001b[0;34m()\u001b[0m\n\u001b[1;32m     21\u001b[0m       \u001b[0ml\u001b[0m\u001b[0;34m=\u001b[0m\u001b[0md\u001b[0m\u001b[0;34m[\u001b[0m\u001b[0ma\u001b[0m\u001b[0;34m[\u001b[0m\u001b[0mr\u001b[0m\u001b[0;34m]\u001b[0m\u001b[0;34m]\u001b[0m\u001b[0;34m+\u001b[0m\u001b[0;36m1\u001b[0m\u001b[0;34m\u001b[0m\u001b[0;34m\u001b[0m\u001b[0m\n\u001b[1;32m     22\u001b[0m     \u001b[0md\u001b[0m\u001b[0;34m[\u001b[0m\u001b[0ma\u001b[0m\u001b[0;34m[\u001b[0m\u001b[0mr\u001b[0m\u001b[0;34m]\u001b[0m\u001b[0;34m]\u001b[0m\u001b[0;34m=\u001b[0m\u001b[0mr\u001b[0m\u001b[0;34m\u001b[0m\u001b[0;34m\u001b[0m\u001b[0m\n\u001b[0;32m---> 23\u001b[0;31m   \u001b[0mm\u001b[0m\u001b[0;34m=\u001b[0m\u001b[0mmax\u001b[0m\u001b[0;34m(\u001b[0m\u001b[0mm\u001b[0m\u001b[0;34m,\u001b[0m\u001b[0mr\u001b[0m\u001b[0;34m-\u001b[0m\u001b[0ml\u001b[0m\u001b[0;34m+\u001b[0m\u001b[0;36m1\u001b[0m\u001b[0;34m)\u001b[0m     \u001b[0;31m#here u should change  to print the string\u001b[0m\u001b[0;34m\u001b[0m\u001b[0;34m\u001b[0m\u001b[0m\n\u001b[0m\u001b[1;32m     24\u001b[0m \u001b[0mprint\u001b[0m\u001b[0;34m(\u001b[0m\u001b[0mm\u001b[0m\u001b[0;34m)\u001b[0m\u001b[0;34m\u001b[0m\u001b[0;34m\u001b[0m\u001b[0m\n",
            "\u001b[0;31mTypeError\u001b[0m: 'int' object is not callable"
          ]
        }
      ]
    },
    {
      "cell_type": "code",
      "source": [
        "a=\"abcdecfbgce\"\n",
        "#  l              #  6(decfbg)\n",
        "#  r\n",
        "# l,m,d=0,0,{}\n",
        "d={}\n",
        "l=0\n",
        "m=0\n",
        "st=0\n",
        "for r in range(len(a)):\n",
        "  if a[r] not in d:\n",
        "    d[a[r]]=r\n",
        "  else:\n",
        "    if (d[a[r]]>=l):\n",
        "      l=d[a[r]]+1\n",
        "    d[a[r]]=r\n",
        "  if (r-l+1)>m:     #printing the string\n",
        "    m=r-l+1\n",
        "    st=l\n",
        "print(a[st:st+m],m)     #max(string and numbers)"
      ],
      "metadata": {
        "colab": {
          "base_uri": "https://localhost:8080/"
        },
        "id": "5fcqtTN_Ksl3",
        "outputId": "0a6b799e-761a-499b-9db5-ff2c642bf4ed"
      },
      "execution_count": 16,
      "outputs": [
        {
          "output_type": "stream",
          "name": "stdout",
          "text": [
            "decfbg 6\n"
          ]
        }
      ]
    },
    {
      "cell_type": "markdown",
      "source": [
        "exam"
      ],
      "metadata": {
        "id": "2LjSerhhLFVB"
      }
    },
    {
      "cell_type": "code",
      "source": [
        "#exam\n",
        "\n",
        "\n",
        "# Q1 three pointer\n",
        "\n",
        "def minimize_max_abs_diff(X, Y, Z):\n",
        "    i = j = k = 0\n",
        "    min_diff = float('inf')\n",
        "\n",
        "    while i < len(X) and j < len(Y) and k < len(Z):\n",
        "        a, b, c = X[i], Y[j], Z[k]\n",
        "        current_max = max(abs(a - b), abs(b - c), abs(c - a))\n",
        "        min_diff = min(min_diff, current_max)\n",
        "\n",
        "        # Move the pointer of the smallest element\n",
        "        if a <= b and a <= c:\n",
        "            i += 1\n",
        "        elif b <= a and b <= c:\n",
        "            j += 1\n",
        "        else:\n",
        "            k += 1\n",
        "\n",
        "    return min_diff\n",
        "\n",
        "# Input reading\n",
        "A = int(input())\n",
        "X = list(map(int, input().split()))           #2356  #2635 #562\n",
        "B = int(input())\n",
        "Y = list(map(int, input().split()))\n",
        "C = int(input())\n",
        "Z = list(map(int, input().split()))\n",
        "\n",
        "# Function call\n",
        "print(minimize_max_abs_diff(X, Y, Z))"
      ],
      "metadata": {
        "colab": {
          "base_uri": "https://localhost:8080/",
          "height": 228
        },
        "id": "mdMpuKP8LGB9",
        "outputId": "1b60e0c9-306e-405e-f577-78700a3dbf07"
      },
      "execution_count": 17,
      "outputs": [
        {
          "name": "stdout",
          "output_type": "stream",
          "text": [
            "2 3 5 6\n"
          ]
        },
        {
          "output_type": "error",
          "ename": "ValueError",
          "evalue": "invalid literal for int() with base 10: '2 3 5 6'",
          "traceback": [
            "\u001b[0;31m---------------------------------------------------------------------------\u001b[0m",
            "\u001b[0;31mValueError\u001b[0m                                Traceback (most recent call last)",
            "\u001b[0;32m<ipython-input-17-5aa29e2f6d06>\u001b[0m in \u001b[0;36m<cell line: 0>\u001b[0;34m()\u001b[0m\n\u001b[1;32m     24\u001b[0m \u001b[0;34m\u001b[0m\u001b[0m\n\u001b[1;32m     25\u001b[0m \u001b[0;31m# Input reading\u001b[0m\u001b[0;34m\u001b[0m\u001b[0;34m\u001b[0m\u001b[0m\n\u001b[0;32m---> 26\u001b[0;31m \u001b[0mA\u001b[0m \u001b[0;34m=\u001b[0m \u001b[0mint\u001b[0m\u001b[0;34m(\u001b[0m\u001b[0minput\u001b[0m\u001b[0;34m(\u001b[0m\u001b[0;34m)\u001b[0m\u001b[0;34m)\u001b[0m\u001b[0;34m\u001b[0m\u001b[0;34m\u001b[0m\u001b[0m\n\u001b[0m\u001b[1;32m     27\u001b[0m \u001b[0mX\u001b[0m \u001b[0;34m=\u001b[0m \u001b[0mlist\u001b[0m\u001b[0;34m(\u001b[0m\u001b[0mmap\u001b[0m\u001b[0;34m(\u001b[0m\u001b[0mint\u001b[0m\u001b[0;34m,\u001b[0m \u001b[0minput\u001b[0m\u001b[0;34m(\u001b[0m\u001b[0;34m)\u001b[0m\u001b[0;34m.\u001b[0m\u001b[0msplit\u001b[0m\u001b[0;34m(\u001b[0m\u001b[0;34m)\u001b[0m\u001b[0;34m)\u001b[0m\u001b[0;34m)\u001b[0m\u001b[0;34m\u001b[0m\u001b[0;34m\u001b[0m\u001b[0m\n\u001b[1;32m     28\u001b[0m \u001b[0mB\u001b[0m \u001b[0;34m=\u001b[0m \u001b[0mint\u001b[0m\u001b[0;34m(\u001b[0m\u001b[0minput\u001b[0m\u001b[0;34m(\u001b[0m\u001b[0;34m)\u001b[0m\u001b[0;34m)\u001b[0m\u001b[0;34m\u001b[0m\u001b[0;34m\u001b[0m\u001b[0m\n",
            "\u001b[0;31mValueError\u001b[0m: invalid literal for int() with base 10: '2 3 5 6'"
          ]
        }
      ]
    },
    {
      "cell_type": "code",
      "source": [
        "#Q2\n",
        "# Aggressive Cows          n=numberof elem ,k=numbers of cows\n",
        "\n",
        "n, k = map(int, input().split())\n",
        "arr = list(map(int, input().split()))\n",
        "arr.sort()\n",
        "low = 1\n",
        "high = arr[-1] - arr[0]\n",
        "res = 0\n",
        "while low <= high:\n",
        "    mid = (low + high) // 2\n",
        "    count = 1\n",
        "    last_pos = arr[0]\n",
        "    for i in range(1, n):\n",
        "        if arr[i] - last_pos >= mid:\n",
        "            count += 1\n",
        "            last_pos = arr[i]\n",
        "    if count >= k:\n",
        "        res = mid\n",
        "        low = mid + 1\n",
        "    else:\n",
        "        high = mid - 1\n",
        "print(res)"
      ],
      "metadata": {
        "id": "hSy-uiROTH82"
      },
      "execution_count": null,
      "outputs": []
    }
  ]
}