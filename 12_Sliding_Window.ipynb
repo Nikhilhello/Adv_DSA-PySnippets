{
  "nbformat": 4,
  "nbformat_minor": 0,
  "metadata": {
    "colab": {
      "provenance": [],
      "authorship_tag": "ABX9TyMfJpAz5/f8ohXstZtnw5FN",
      "include_colab_link": true
    },
    "kernelspec": {
      "name": "python3",
      "display_name": "Python 3"
    },
    "language_info": {
      "name": "python"
    }
  },
  "cells": [
    {
      "cell_type": "markdown",
      "metadata": {
        "id": "view-in-github",
        "colab_type": "text"
      },
      "source": [
        "<a href=\"https://colab.research.google.com/github/Nikhilhello/Adv_DSA-PySnippets/blob/main/12_Sliding_Window.ipynb\" target=\"_parent\"><img src=\"https://colab.research.google.com/assets/colab-badge.svg\" alt=\"Open In Colab\"/></a>"
      ]
    },
    {
      "cell_type": "markdown",
      "source": [
        "#12"
      ],
      "metadata": {
        "id": "-FB-XeK-VJGW"
      }
    },
    {
      "cell_type": "markdown",
      "source": [
        "#(length of largest sub string with out repeating the char,---remove k numbers cards either from front and back, ---1004 ,---904. Fruit Into Baskets, ---doctor and patient timmings)"
      ],
      "metadata": {
        "id": "PmwUzLhDVJC1"
      }
    },
    {
      "cell_type": "markdown",
      "source": [
        "#length of largest sub string with out repeating the char            -------leetcode 3  "
      ],
      "metadata": {
        "id": "1xgZo-ayVQ3z"
      }
    },
    {
      "cell_type": "code",
      "execution_count": 1,
      "metadata": {
        "colab": {
          "base_uri": "https://localhost:8080/"
        },
        "id": "SG1-xK7lVFzZ",
        "outputId": "57115376-4b04-47c9-cb23-3e95ec8056a1"
      },
      "outputs": [
        {
          "output_type": "stream",
          "name": "stdout",
          "text": [
            "{'a': 0}\n",
            "{'a': 0, 'b': 1}\n",
            "{'a': 0, 'b': 1, 'c': 2}\n",
            "{'a': 0, 'b': 1, 'c': 2, 'd': 3}\n",
            "{'a': 0, 'b': 1, 'c': 2, 'd': 3, 'e': 4}\n",
            "{'a': 0, 'b': 1, 'c': 5, 'd': 3, 'e': 4, 'f': 6}\n",
            "{'a': 0, 'b': 7, 'c': 5, 'd': 3, 'e': 4, 'f': 6, 'g': 8}\n",
            "6\n"
          ]
        }
      ],
      "source": [
        "#Q1\n",
        "\n",
        "#length of largest sub string with out repeating the char                  #leetcode 3    #corerct code\n",
        "a=\"abcdecfbgce\"\n",
        "#  l              #  6(decfbg)\n",
        "#  r\n",
        "# l,m,d=0,0,{}\n",
        "d={}\n",
        "l=0\n",
        "m=0\n",
        "for r in range(len(a)):\n",
        "  if a[r] not in d:\n",
        "    d[a[r]]=r\n",
        "    print(d)\n",
        "  else:\n",
        "    if (d[a[r]]>=l):\n",
        "      l=d[a[r]]+1\n",
        "    d[a[r]]=r\n",
        "  m=max(m,r-l+1)     #here u should change  to print the string\n",
        "print(m)"
      ]
    },
    {
      "cell_type": "code",
      "source": [
        "#printing the max string and number   #correct code\n",
        "\n",
        "a=\"abcdecfbgce\"\n",
        "#  l              #  6(decfbg)\n",
        "#  r\n",
        "# l,m,d,st=0,0,{},0\n",
        "d={}\n",
        "l=0\n",
        "m=0\n",
        "st=0\n",
        "for r in range(len(a)):\n",
        "  if a[r] not in d:\n",
        "    d[a[r]]=r\n",
        "  else:\n",
        "    if (d[a[r]]>=l):\n",
        "      l=d[a[r]]+1\n",
        "    d[a[r]]=r\n",
        "  if (r-l+1)>m:     #printing the string\n",
        "    m=r-l+1\n",
        "    st=l\n",
        "print(a[st:st+m],m)     #max(string and numbers)"
      ],
      "metadata": {
        "colab": {
          "base_uri": "https://localhost:8080/"
        },
        "id": "z0ejHgMQVYEw",
        "outputId": "d5320ae7-5ce1-4033-f2c4-2afd18153014"
      },
      "execution_count": 2,
      "outputs": [
        {
          "output_type": "stream",
          "name": "stdout",
          "text": [
            "decfbg 6\n"
          ]
        }
      ]
    },
    {
      "cell_type": "code",
      "source": [
        "#Q2\n",
        "#print non reperating and longest string and u,v should be present in that string\n",
        "\n",
        "#printing the max string and number   #sir code  #correct code\n",
        "\n",
        "a=\"abcdedacefaebghd\"\n",
        "#  l                 #op is 5\n",
        "#  r\n",
        "# l,m,d,st=0,0,{},0\n",
        "d={}\n",
        "l=0\n",
        "m=0\n",
        "st=0\n",
        "u,v='c','d'\n",
        "for r in range(len(a)):\n",
        "  if a[r] not in d:\n",
        "    d[a[r]]=r\n",
        "  else:\n",
        "    if (d[a[r]]>=l):\n",
        "      l=d[a[r]]+1\n",
        "    d[a[r]]=r\n",
        "  if (r-l+1)>m and u in d and v in d and d[u]>=l and d[v]>=l:     #printing the string  #this was added\n",
        "    m=r-l+1\n",
        "    st=l\n",
        "print(a[st:st+m],m)     #max(string and numbers with u,v)\n"
      ],
      "metadata": {
        "colab": {
          "base_uri": "https://localhost:8080/"
        },
        "id": "CfUEAZUaVYDR",
        "outputId": "16b92a39-1e43-4d6a-eae0-197cfb3b2540"
      },
      "execution_count": 3,
      "outputs": [
        {
          "output_type": "stream",
          "name": "stdout",
          "text": [
            "abcde 5\n"
          ]
        }
      ]
    },
    {
      "cell_type": "markdown",
      "source": [
        "#Q3     *------cards remove"
      ],
      "metadata": {
        "id": "oW0dYBPoVeUH"
      }
    },
    {
      "cell_type": "code",
      "source": [
        "# Q3     *------cards\n",
        "# remove k numbers cards either from front and back\n",
        "\n",
        "a=[4,2,7,20,8,6,4,1]   #op=13 (4,2,7)\n",
        "# a=[4,2,7,20,8,60,4,1]   #op=65 (60,4,1)\n",
        "# a=[4,2,7,20,8,6,8,1]   #op=15  (6,8,1)\n",
        "k=3\n",
        "l_s=0\n",
        "n=len(a)\n",
        "for i in range(k):\n",
        "  l_s=l_s+a[i]\n",
        "\n",
        "r_s=0\n",
        "m=l_s\n",
        "print(l_s)\n",
        "for i in range(k-1,-1,-1):\n",
        "  l_s=l_s-a[i]\n",
        "  r_s=r_s+a[n-1]\n",
        "  m=max(m,l_s+r_s)           #adding and finding the max\n",
        "  n=n-1\n",
        "  print(l_s,r_s)\n",
        "print(m)\n"
      ],
      "metadata": {
        "colab": {
          "base_uri": "https://localhost:8080/"
        },
        "id": "EWzk6DiZVYB1",
        "outputId": "2a97a6da-f62c-4497-ecf1-82654cf3cc87"
      },
      "execution_count": 4,
      "outputs": [
        {
          "output_type": "stream",
          "name": "stdout",
          "text": [
            "13\n",
            "6 1\n",
            "4 5\n",
            "0 11\n",
            "13\n"
          ]
        }
      ]
    },
    {
      "cell_type": "code",
      "source": [
        "# now print  the  max cards u took   (4,2,7)"
      ],
      "metadata": {
        "id": "ftatFv6AVYAK"
      },
      "execution_count": 5,
      "outputs": []
    },
    {
      "cell_type": "markdown",
      "source": [
        "#leetcode #1004  \n",
        "\n",
        "1004. Max Consecutive Ones III"
      ],
      "metadata": {
        "id": "LUcIjDAsVnM5"
      }
    },
    {
      "cell_type": "code",
      "source": [
        "# Q4\n",
        "# Input: nums = [1,1,1,0,0,0,1,1,1,1,0], k = 2                 #leet code  1004\n",
        "# Output: 6\n",
        "# Explanation: [1,1,1,0,0,1,1,1,1,1,1]\n",
        "# Bolded numbers were flipped from 0 to 1. The longest subarray is underlined.\n",
        "\n",
        "\n",
        "a= [1,1,1,0,0,0,1,1,1,1,0]\n",
        "#   l\n",
        "#   r-->\n",
        "k = 2\n",
        "l=0\n",
        "z=0  #zero\n",
        "m=0\n",
        "for r in range(len(a)):\n",
        "  if(a[r]== 0):\n",
        "    z=z+1\n",
        "  if(z>k):\n",
        "    if(a[l]==0):\n",
        "      z=z-1\n",
        "    l=l+1\n",
        "  if(z<=k):\n",
        "    m=max(m,r-l+1)\n",
        "print(m)\n",
        "\n"
      ],
      "metadata": {
        "colab": {
          "base_uri": "https://localhost:8080/"
        },
        "id": "syKthlSHVX8-",
        "outputId": "4bd3ef03-4d81-4454-a599-b7d22c7d3ede"
      },
      "execution_count": 6,
      "outputs": [
        {
          "output_type": "stream",
          "name": "stdout",
          "text": [
            "6\n"
          ]
        }
      ]
    },
    {
      "cell_type": "markdown",
      "source": [
        "#leetcode\n",
        "904. Fruit Into Baskets"
      ],
      "metadata": {
        "id": "tPm_yoZbVsnK"
      }
    },
    {
      "cell_type": "code",
      "source": [
        "#Q 5      #leetcode  904\n",
        "# 904. Fruit Into Baskets\n",
        "\n",
        "# Input: fruits = [1,2,3,2,2]\n",
        "# Output: 4\n",
        "# Explanation: We can pick from trees [2,3,2,2].\n",
        "# If we had started at the first tree, we would only pick from trees [1,2].\n",
        "\n",
        "# f= [1,2,3,2,2]  #op=4 (2,3,2,2)\n",
        "f=[3,3,3,1,2,1,1,2,3,3,4]   #op=5 (1,2,1,1,2)\n",
        "c=0\n",
        "l=0\n",
        "dic={}\n",
        "for i in range(len(f)-1):          # trying\n",
        "  if f[i] not in dic:\n",
        "    dic[f[i]]=1\n",
        "    print(dic)\n",
        "  else:\n",
        "\n",
        "\n",
        "\n",
        "\n"
      ],
      "metadata": {
        "id": "9jROWihvVX6A"
      },
      "execution_count": null,
      "outputs": []
    },
    {
      "cell_type": "code",
      "source": [
        "#Q 5      #leetcode  904\n",
        "# 904. Fruit Into Baskets\n",
        "\n",
        "# a= [1,2,3,2,2]  #op=4 (2,3,2,2)                 #sir code #correct\n",
        "a=[3,3,3,1,2,1,1,2,3,3,4]   #op=5 (1,2,1,1,2)\n",
        "m=0\n",
        "l=0\n",
        "d={}\n",
        "for i in range(len(a)):\n",
        "  if a[i] not in d:\n",
        "    d[a[i]]=1\n",
        "  else:\n",
        "    d[a[i]]+=1\n",
        "  if(len(d)>2):\n",
        "    d[a[l]]-=1\n",
        "    # l=l+1\n",
        "    if d[a[l]]==0:\n",
        "      del d[a[l]]\n",
        "    l=l+1\n",
        "  if(len(d)<=2):\n",
        "    m=max(m,i-l+1)\n",
        "print(m)\n"
      ],
      "metadata": {
        "colab": {
          "base_uri": "https://localhost:8080/"
        },
        "id": "Zs4R7BoMVX2W",
        "outputId": "aad201f1-398b-43ab-9eb8-e7bd01db12a2"
      },
      "execution_count": 7,
      "outputs": [
        {
          "output_type": "stream",
          "name": "stdout",
          "text": [
            "5\n"
          ]
        }
      ]
    },
    {
      "cell_type": "markdown",
      "source": [
        "#Q6 doctor and patient timmings"
      ],
      "metadata": {
        "id": "1nLRX64MV5Kn"
      }
    },
    {
      "cell_type": "code",
      "source": [
        "#Q6\n",
        "#doctor and patient timmings\n",
        "# find the max numbers doctors required to check the patient  for the whole day timmings\n",
        "\n",
        "s=[900,945,1110,1230,1235,1245,1340,1700]\n",
        "e=[930,1130,1120,1250,1250,1415,1400,1730]    #op=3 doctors\n",
        "\n"
      ],
      "metadata": {
        "id": "RVSz42kcV4Nc"
      },
      "execution_count": null,
      "outputs": []
    },
    {
      "cell_type": "code",
      "source": [
        "# #Q6\n",
        "# #doctor and patient timmings\n",
        "# # find the max numbers doctors required to check the patient  for the whole day timmings\n",
        "# s=[900,945,1110,1230,1235,1245,1340,1700]\n",
        "# e=[930,1130,1120,1250,1250,1415,1400,1730]    #op=3 doctors\n",
        "# i need the logic to write the code\n",
        "\n",
        "s.sort()\n",
        "e.sort()\n",
        "\n",
        "i = j = 0\n",
        "doctors_needed = 0\n",
        "max_doctors = 0\n",
        "\n",
        "while i < len(s) and j < len(e):\n",
        "    if s[i] < e[j]:\n",
        "        doctors_needed += 1\n",
        "        i += 1\n",
        "        max_doctors = max(max_doctors, doctors_needed)\n",
        "    else:\n",
        "        doctors_needed -= 1\n",
        "        j += 1\n",
        "\n",
        "max_doctors\n"
      ],
      "metadata": {
        "id": "HeJDK_n7V9rZ"
      },
      "execution_count": null,
      "outputs": []
    },
    {
      "cell_type": "code",
      "source": [
        "# #exam   #Q1\n",
        "# Problem Statement:\n",
        "# Given an array of pairs arr[], a pair (a, b) is said to be symmetric with (c, d) if b = c and a = d. In other words, reversing the elements of one pair should result in the other pair. The first element of each pair is guaranteed to be distinct.\n",
        "\n",
        "# Example 1:\n",
        "\n",
        "# Input:\n",
        "\n",
        "# arr[] = [[10, 20], [30, 40], [20, 10], [50, 60]]   (note:input should be considered as mentioned)\n",
        "# Output:\n",
        "\n",
        "# [10, 20]\n",
        "\n",
        "\n",
        "\n",
        "# Explanation:\n",
        "\n",
        "# [10, 20] and [20, 10] form a symmetric pair.\n",
        "\n",
        "\n",
        "\n",
        "a=eval(input())        #sanjay code passed 4 testcases     #[[5, 8], [7, 9], [8, 5], [9, 7], [6, 10]]\n",
        "# print(n)\n",
        "for i in range(len(a)):\n",
        "    for j in range(i,len(a)):\n",
        "        if a[i][1]==a[j][0] and a[i][0]==a[j][1]:\n",
        "            print(a[i])"
      ],
      "metadata": {
        "colab": {
          "base_uri": "https://localhost:8080/"
        },
        "id": "wEw__H0MWEaA",
        "outputId": "79222c93-6cd4-4d7b-d5ca-7088b4d08ca4"
      },
      "execution_count": 8,
      "outputs": [
        {
          "output_type": "stream",
          "name": "stdout",
          "text": [
            "[[5, 8], [7, 9], [8, 5], [9, 7], [6, 10]]\n",
            "[5, 8]\n",
            "[7, 9]\n"
          ]
        }
      ]
    },
    {
      "cell_type": "code",
      "source": [
        "arr=input().strip()\n",
        "arr=eval(arr)   #[[5, 8], [7, 9], [8, 5], [9, 7], [6, 10]]\n",
        "seen={}\n",
        "result=[]\n",
        "for a,b in arr:\n",
        "    if b in seen and seen[b]==a:\n",
        "        result.append([b,a])\n",
        "    else:\n",
        "        seen[a]=b\n",
        "for pair in result:\n",
        "    print(pair)"
      ],
      "metadata": {
        "colab": {
          "base_uri": "https://localhost:8080/"
        },
        "id": "pSNgSlgxWQQp",
        "outputId": "50853074-8e03-4bca-f78d-56b9daff0d12"
      },
      "execution_count": 9,
      "outputs": [
        {
          "output_type": "stream",
          "name": "stdout",
          "text": [
            "[[5, 8], [7, 9], [8, 5], [9, 7], [6, 10]]\n",
            "[5, 8]\n",
            "[7, 9]\n"
          ]
        }
      ]
    },
    {
      "cell_type": "code",
      "source": [
        "# #exam #Q2\n",
        "\n",
        "# Problem Statement:\n",
        "# Given an array of integers, check if there are four elements in the array with given sum.\n",
        "\n",
        "# Example 1:\n",
        "\n",
        "# Input:\n",
        "\n",
        "# arr = {10, 20, 30, 40, 1, 2}\n",
        "\n",
        "# target = 91\n",
        "# Output: True\n",
        "# Explanation:\n",
        "# Sum of 20 + 30 + 40 + 1 = 91\n",
        "\n",
        "\n",
        "# 1 1 2  2 #arr\n",
        "# 4  #t\n",
        "# 0  #op"
      ],
      "metadata": {
        "id": "CbsY83RfWU8E"
      },
      "execution_count": null,
      "outputs": []
    },
    {
      "cell_type": "code",
      "source": [
        "n = list(map(int, input().split()))      #1 1 2 2\n",
        "t = int(input())                          #4\n",
        "n.sort()\n",
        "f = False\n",
        "\n",
        "for i in range(len(n) - 3):\n",
        "    for j in range(i + 1, len(n) - 2):\n",
        "        left = j + 1\n",
        "        right = len(n) - 1\n",
        "        while left < right:\n",
        "            s = n[i] + n[j] + n[left] + n[right]\n",
        "            if s == t:\n",
        "                f = True\n",
        "                break\n",
        "            elif s < t:\n",
        "                left += 1\n",
        "            else:\n",
        "                right -= 1\n",
        "        if f:\n",
        "            break\n",
        "    if f:\n",
        "        break\n",
        "\n",
        "print(f)"
      ],
      "metadata": {
        "colab": {
          "base_uri": "https://localhost:8080/"
        },
        "id": "k8gFI5fOWXWd",
        "outputId": "b2ad055e-b7f4-4a4f-82a9-a26b076c9c7d"
      },
      "execution_count": 10,
      "outputs": [
        {
          "output_type": "stream",
          "name": "stdout",
          "text": [
            "1 1 2 2\n",
            "4\n",
            "False\n"
          ]
        }
      ]
    }
  ]
}