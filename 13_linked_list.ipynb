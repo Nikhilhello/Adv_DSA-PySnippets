{
  "nbformat": 4,
  "nbformat_minor": 0,
  "metadata": {
    "colab": {
      "provenance": [],
      "authorship_tag": "ABX9TyPn0WNrfa2c+9Y5AP7cCOmk",
      "include_colab_link": true
    },
    "kernelspec": {
      "name": "python3",
      "display_name": "Python 3"
    },
    "language_info": {
      "name": "python"
    }
  },
  "cells": [
    {
      "cell_type": "markdown",
      "metadata": {
        "id": "view-in-github",
        "colab_type": "text"
      },
      "source": [
        "<a href=\"https://colab.research.google.com/github/Nikhilhello/Adv_DSA-PySnippets/blob/main/13_linked_list.ipynb\" target=\"_parent\"><img src=\"https://colab.research.google.com/assets/colab-badge.svg\" alt=\"Open In Colab\"/></a>"
      ]
    },
    {
      "cell_type": "markdown",
      "source": [
        "#13"
      ],
      "metadata": {
        "id": "jTDINLI9XUGC"
      }
    },
    {
      "cell_type": "markdown",
      "source": [
        "#(linked list, ---, perfroming bubble sortin linked lits ---, using fast and slow pointer ---)"
      ],
      "metadata": {
        "id": "sKuLq1sxXUEn"
      }
    },
    {
      "cell_type": "markdown",
      "source": [
        "#linkedlist"
      ],
      "metadata": {
        "id": "arkgv24gXbau"
      }
    },
    {
      "cell_type": "code",
      "execution_count": null,
      "metadata": {
        "id": "w0z6FVhYXRjY"
      },
      "outputs": [],
      "source": [
        "class node:\n",
        "  def __init__(self.data):\n",
        "    self.data =data\n",
        "    self.next=None\n",
        "\n",
        "class linkedlist:\n",
        "  def __init__(self):      #pra #i tryed\n",
        "    self.head=None\n",
        "  def insert(self,data):\n",
        "    new_node=node(data)\n",
        "\n"
      ]
    },
    {
      "cell_type": "code",
      "source": [
        "class node:\n",
        "  def __init__(self,u):\n",
        "    self.data =u\n",
        "    self.next=None\n",
        "class Linked:\n",
        "  def __init__(self):\n",
        "    self.head=None\n",
        "  def add_back(self,x):\n",
        "    t=self.head\n",
        "    while t.next!=None:\n",
        "      t=t.next\n",
        "    t.next=node(x)\n",
        "  def display(self):\n",
        "    t=self.head\n",
        "    while t!=None:\n",
        "      print(t.data,end='->')\n",
        "      t=t.next\n",
        "    print(\"None\")\n",
        "l1 =Linked()\n",
        "l1.head=node(10)\n",
        "l1.add_back(20)\n",
        "l1.add_back(30)\n",
        "l1.add_back(40)\n",
        "l1.add_back(50)\n",
        "l1.add_back(60)\n",
        "l1.add_back(70)\n",
        "l1.add_back(80)\n",
        "l1.add_back(90)\n",
        "l1.display()"
      ],
      "metadata": {
        "colab": {
          "base_uri": "https://localhost:8080/"
        },
        "id": "s0CFxskOXe1p",
        "outputId": "1968b983-cd69-4639-c350-b9c1c9ac4b98"
      },
      "execution_count": 1,
      "outputs": [
        {
          "output_type": "stream",
          "name": "stdout",
          "text": [
            "10->20->30->40->50->60->70->80->90->None\n"
          ]
        }
      ]
    },
    {
      "cell_type": "code",
      "source": [
        "#Q1\n",
        "# sum of all nodes\n",
        "\n",
        "class node:\n",
        "  def __init__(self,u):\n",
        "    self.data =u\n",
        "    self.next=None\n",
        "class Linked:\n",
        "  def __init__(self):\n",
        "    self.head=None\n",
        "  def add_back(self,x):\n",
        "    t=self.head\n",
        "    while t.next!=None:\n",
        "      t=t.next\n",
        "    t.next=node(x)\n",
        "  def display(self):\n",
        "    t=self.head\n",
        "    while t!=None:\n",
        "      print(t.data,end='->')\n",
        "      t=t.next\n",
        "    print(\"None\")\n",
        "  def sum(self):                  # sum of nodes\n",
        "    t=self.head\n",
        "    s=0\n",
        "    while t!=None:\n",
        "      s=s+t.data\n",
        "      t=t.next\n",
        "    print(s)\n",
        "l1 =Linked()\n",
        "l1.head=node(10)\n",
        "l1.add_back(20)\n",
        "l1.add_back(30)\n",
        "l1.add_back(40)\n",
        "l1.display()\n",
        "l1.sum()\n"
      ],
      "metadata": {
        "colab": {
          "base_uri": "https://localhost:8080/"
        },
        "id": "3tlr5seNXlQ6",
        "outputId": "7987b3c3-8481-490b-a607-e65f37e81119"
      },
      "execution_count": 2,
      "outputs": [
        {
          "output_type": "stream",
          "name": "stdout",
          "text": [
            "10->20->30->40->None\n",
            "100\n"
          ]
        }
      ]
    },
    {
      "cell_type": "code",
      "source": [
        "# sum of all even numbers\n",
        "\n",
        "#Q2\n",
        "# sum of all nodes\n",
        "\n",
        "class node:\n",
        "  def __init__(self,u):\n",
        "    self.data =u\n",
        "    self.next=None\n",
        "class Linked:\n",
        "  def __init__(self):\n",
        "    self.head=None\n",
        "  def add_back(self,x):\n",
        "    t=self.head\n",
        "    while t.next!=None:\n",
        "      t=t.next\n",
        "    t.next=node(x)\n",
        "  def display(self):\n",
        "    t=self.head\n",
        "    while t!=None:\n",
        "      print(t.data,end='->')\n",
        "      t=t.next\n",
        "    print(\"None\")\n",
        "  def sum_even(self):                  # sum of even num\n",
        "    t=self.head\n",
        "    s=0\n",
        "    while t!=None:\n",
        "      if t.data%2==0:\n",
        "        s=s+t.data\n",
        "      t=t.next\n",
        "    print(s)\n",
        "l1 =Linked()\n",
        "l1.head=node(9)\n",
        "l1.add_back(20)   #even\n",
        "l1.add_back(17)\n",
        "l1.add_back(40) #even\n",
        "l1.display()\n",
        "l1.sum_even()\n"
      ],
      "metadata": {
        "colab": {
          "base_uri": "https://localhost:8080/"
        },
        "id": "VHyCtoBuXlOs",
        "outputId": "b7cdd21f-1c3b-49ac-ea1e-f8affa4e9c6d"
      },
      "execution_count": 3,
      "outputs": [
        {
          "output_type": "stream",
          "name": "stdout",
          "text": [
            "9->20->17->40->None\n",
            "60\n"
          ]
        }
      ]
    },
    {
      "cell_type": "code",
      "source": [
        "# sum of all even nodes(position)\n",
        "\n",
        "#Q3\n",
        "# sum of all nodes\n",
        "\n",
        "class node:\n",
        "  def __init__(self,u):\n",
        "    self.data =u\n",
        "    self.next=None\n",
        "class Linked:\n",
        "  def __init__(self):\n",
        "    self.head=None\n",
        "  def add_back(self,x):\n",
        "    t=self.head\n",
        "    while t.next!=None:\n",
        "      t=t.next\n",
        "    t.next=node(x)\n",
        "  def display(self):\n",
        "    t=self.head\n",
        "    while t!=None:\n",
        "      print(t.data,end='->')\n",
        "      t=t.next\n",
        "    print(\"None\")\n",
        "  def sum_even_node(self):                  # sum of all even nodes(position)\n",
        "    t=self.head\n",
        "    s=0\n",
        "    pos=1\n",
        "    while t!=None:\n",
        "      if pos %2==0:\n",
        "        s=s+t.data\n",
        "      pos=pos+1\n",
        "      t=t.next\n",
        "    print(s)\n",
        "l1 =Linked()\n",
        "l1.head=node(10)\n",
        "l1.add_back(50)   #even node\n",
        "l1.add_back(30)\n",
        "l1.add_back(40) #even node\n",
        "l1.display()\n",
        "l1.sum_even_node()\n"
      ],
      "metadata": {
        "colab": {
          "base_uri": "https://localhost:8080/"
        },
        "id": "Ihk_c6BjXlNI",
        "outputId": "605ec475-117e-416c-e4d2-8e33a95eaab2"
      },
      "execution_count": 4,
      "outputs": [
        {
          "output_type": "stream",
          "name": "stdout",
          "text": [
            "10->50->30->40->None\n",
            "90\n"
          ]
        }
      ]
    },
    {
      "cell_type": "code",
      "source": [
        "# Q 4\n",
        "\n",
        "# find secodn largest number in the linked list\n",
        "\n",
        "class node:\n",
        "  def __init__(self,u):\n",
        "    self.data =u\n",
        "    self.next=None\n",
        "class Linked:\n",
        "  def __init__(self):\n",
        "    self.head=None\n",
        "  def add_back(self,x):\n",
        "    t=self.head\n",
        "    while t.next!=None:\n",
        "      t=t.next\n",
        "    t.next=node(x)\n",
        "  def display(self):\n",
        "    t=self.head\n",
        "    while t!=None:\n",
        "      print(t.data,end='->')\n",
        "      t=t.next\n",
        "    print(\"None\")\n",
        "  def find_second(self):                  # secodn largest number in the linked list\n",
        "    t=self.head\n",
        "    s=0\n",
        "    l1=0\n",
        "    l2=0\n",
        "    while t!=None:\n",
        "      if (t.data>=l1):      #0->50\n",
        "        l2=l1\n",
        "        l1=t.data\n",
        "      elif (t.data>=l2):  #0-->10->30->40  #work without dup   #--->   #elif (t.data>=l2  and l2!=l1): it will work when we have  with dup\n",
        "        l2=t.data\n",
        "      t=t.next\n",
        "    print(l2)\n",
        "l1 =Linked()\n",
        "l1.head=node(10)\n",
        "l1.add_back(50)   #1st highest node\n",
        "# l1.add_back(30) #dup\n",
        "l1.add_back(30)\n",
        "l1.add_back(40) #2st highest node\n",
        "l1.display()\n",
        "l1.find_second()\n"
      ],
      "metadata": {
        "colab": {
          "base_uri": "https://localhost:8080/"
        },
        "id": "V_deHPWQXlLl",
        "outputId": "d391089c-5019-4e31-d42c-36c8735a7e05"
      },
      "execution_count": 5,
      "outputs": [
        {
          "output_type": "stream",
          "name": "stdout",
          "text": [
            "10->50->30->40->None\n",
            "40\n"
          ]
        }
      ]
    },
    {
      "cell_type": "code",
      "source": [
        "# Q 5\n",
        "\n",
        "# find the count of 2 consecutive pair with (sum <=k) in the linked list\n",
        "\n",
        "class node:\n",
        "  def __init__(self,u):\n",
        "    self.data =u\n",
        "    self.next=None\n",
        "class Linked:\n",
        "  def __init__(self):\n",
        "    self.head=None\n",
        "  def add_back(self,x):\n",
        "    t=self.head\n",
        "    while t.next!=None:\n",
        "      t=t.next\n",
        "    t.next=node(x)\n",
        "  def display(self):\n",
        "    t=self.head\n",
        "    while t!=None:\n",
        "      print(t.data,end='->')\n",
        "      t=t.next\n",
        "    print(\"None\")\n",
        "  def con_pair(self,k):                  #2 consecutive pair with (sum <=k)\n",
        "    t=self.head\n",
        "    c=0\n",
        "    while(t.next!=None):\n",
        "      if(t.data+t.next.data<=k):\n",
        "        c=c+1\n",
        "      t=t.next\n",
        "    print(c)\n",
        "l1 =Linked()\n",
        "l1.head=node(5)\n",
        "l1.add_back(2)\n",
        "l1.add_back(4)\n",
        "l1.add_back(3)\n",
        "l1.add_back(6)\n",
        "l1.add_back(5)\n",
        "l1.add_back(8)\n",
        "l1.display()\n",
        "l1.con_pair(10)         #k=10   #op=4 pairs\n"
      ],
      "metadata": {
        "colab": {
          "base_uri": "https://localhost:8080/"
        },
        "id": "ytDC-fIZXlJr",
        "outputId": "59d7385e-5ce4-4650-dcce-d945fc791b44"
      },
      "execution_count": 6,
      "outputs": [
        {
          "output_type": "stream",
          "name": "stdout",
          "text": [
            "5->2->4->3->6->5->8->None\n",
            "4\n"
          ]
        }
      ]
    },
    {
      "cell_type": "code",
      "source": [
        "# Q 6\n",
        "# find the count of all possible pairs with (sum <=k) in the linked list\n",
        "\n",
        "class node:\n",
        "  def __init__(self,u):\n",
        "    self.data =u\n",
        "    self.next=None\n",
        "class Linked:\n",
        "  def __init__(self):\n",
        "    self.head=None\n",
        "  def add_back(self,x):\n",
        "    t=self.head\n",
        "    while t.next!=None:\n",
        "      t=t.next\n",
        "    t.next=node(x)\n",
        "  def display(self):\n",
        "    t=self.head\n",
        "    while t!=None:\n",
        "      print(t.data,end='->')\n",
        "      t=t.next\n",
        "    print(\"None\")#2\n",
        "  # def count_all_pair(self,k):\n",
        "  #   t=self.head\n",
        "  #   c=0\n",
        "  #   while(t.next!=None):\n",
        "  #     t1=t.data\n",
        "  #     while(t.next!=None):\n",
        "  #       if(t.data+t1.data<=k):\n",
        "  #         c=c+1\n",
        "  #       t1=t1.next\n",
        "  #     t=t.next\n",
        "  #   print(c)\n",
        "  def count_all_pair(self,k):   #count_all_pairs with (sum <=k)\n",
        "      t=self.head\n",
        "      c=0\n",
        "      while t.next!=None:\n",
        "        t1=t.next\n",
        "        k=10\n",
        "        while t1!=None:\n",
        "          if t.data+t1.data<=k:\n",
        "            c+=1\n",
        "          t1=t1.next\n",
        "        t=t.next\n",
        "      print(c)\n",
        "\n",
        "l1 =Linked()\n",
        "l1.head=node(5)\n",
        "l1.add_back(2)\n",
        "l1.add_back(4)\n",
        "l1.add_back(3)\n",
        "l1.add_back(6)\n",
        "l1.add_back(5)\n",
        "l1.add_back(8)\n",
        "l1.display()\n",
        "l1.count_all_pair(10)  #k=10   #op=14 pairs\n",
        "\n"
      ],
      "metadata": {
        "colab": {
          "base_uri": "https://localhost:8080/"
        },
        "id": "Ur20ww7YXlHN",
        "outputId": "93724bfb-00de-47e0-d83b-12a2fbf477ee"
      },
      "execution_count": 7,
      "outputs": [
        {
          "output_type": "stream",
          "name": "stdout",
          "text": [
            "5->2->4->3->6->5->8->None\n",
            "14\n"
          ]
        }
      ]
    },
    {
      "cell_type": "code",
      "source": [
        "#Q 7\n",
        "  # find/print the second half of the linked list       #-----------slow pointer and fast pointer  --concept\n",
        "\n",
        "\n",
        "class node:\n",
        "  def __init__(self,u):\n",
        "    self.data =u\n",
        "    self.next=None\n",
        "class Linked:\n",
        "  def __init__(self):\n",
        "    self.head=None\n",
        "  def add_back(self,x):\n",
        "    t=self.head\n",
        "    while t.next!=None:\n",
        "      t=t.next\n",
        "    t.next=node(x)\n",
        "  def display(self):\n",
        "    t=self.head\n",
        "    while t!=None:\n",
        "      print(t.data,end='->')\n",
        "      t=t.next\n",
        "    print(\"None\")\n",
        "  def second_half(self):                 # second half of the linked list\n",
        "    f=self.head\n",
        "    s=self.head\n",
        "    while (f!=None and f.next!=None):   #arrage them in the same order or else u get error #1--> #(f!=None) for even length  #2--> #(f.next!=None) works in odd length\n",
        "      f=f.next.next        #2 steps\n",
        "      s=s.next              #1 step\n",
        "    print(s.data)     #print the mid val\n",
        "    while(s!=None):         #printing from mid val\n",
        "      print(s.data,end=\"->\")\n",
        "      s=s.next\n",
        "    print(None)\n",
        "\n",
        "\n",
        "\n",
        "l1 =Linked()\n",
        "l1.head=node(5)\n",
        "l1.add_back(2)\n",
        "l1.add_back(4)\n",
        "l1.add_back(3)\n",
        "l1.add_back(6)\n",
        "l1.add_back(5)\n",
        "# l1.add_back(8)\n",
        "l1.display()\n",
        "l1.second_half()\n",
        "\n"
      ],
      "metadata": {
        "colab": {
          "base_uri": "https://localhost:8080/"
        },
        "id": "Jpyq45WcXlEa",
        "outputId": "52a83384-647e-4699-8945-ee4c2ce67564"
      },
      "execution_count": 8,
      "outputs": [
        {
          "output_type": "stream",
          "name": "stdout",
          "text": [
            "5->2->4->3->6->5->None\n",
            "3\n",
            "3->6->5->None\n"
          ]
        }
      ]
    },
    {
      "cell_type": "code",
      "source": [
        "# leet code 876\n",
        "#Q 8                         #------------------ #slow pointer and fast pointer   --- concept\n",
        "#find the  middle node value  from the linked list\n",
        "\n",
        "\n",
        "class node:\n",
        "  def __init__(self,u):\n",
        "    self.data =u\n",
        "    self.next=None\n",
        "class Linked:\n",
        "  def __init__(self):\n",
        "    self.head=None\n",
        "  def add_back(self,x):\n",
        "    t=self.head\n",
        "    while t.next!=None:\n",
        "      t=t.next\n",
        "    t.next=node(x)\n",
        "  def display(self):\n",
        "    t=self.head\n",
        "    while t!=None:\n",
        "      print(t.data,end='->')\n",
        "      t=t.next\n",
        "    print(\"None\")\n",
        "  def find_mid(self):    #-----------             # find the mid val from the linked list\n",
        "    f=self.head\n",
        "    s=self.head\n",
        "    while (f!=None and f.next!=None):   #arrage them in the same order or else u get error #1--> #(f!=None) for even length  #2--> #(f.next!=None) works in odd length\n",
        "      f=f.next.next      #2 steps\n",
        "      s=s.next            #1 step\n",
        "    print(s.data)\n",
        "\n",
        "l1 =Linked()\n",
        "l1.head=node(5)\n",
        "l1.add_back(2)\n",
        "l1.add_back(4)\n",
        "l1.add_back(3)\n",
        "l1.add_back(6)\n",
        "l1.add_back(5)\n",
        "l1.add_back(8)\n",
        "# l1.add_back(8)     #even numbers\n",
        "l1.display()\n",
        "l1.find_mid()\n",
        "\n"
      ],
      "metadata": {
        "colab": {
          "base_uri": "https://localhost:8080/"
        },
        "id": "k97N0ALEXlA8",
        "outputId": "ef10b7a8-e56c-4919-c885-3856e44ded43"
      },
      "execution_count": 9,
      "outputs": [
        {
          "output_type": "stream",
          "name": "stdout",
          "text": [
            "5->2->4->3->6->5->8->None\n",
            "3\n"
          ]
        }
      ]
    },
    {
      "cell_type": "code",
      "source": [
        "# Q 9\n",
        "# find the Kth node from the last\n",
        "\n",
        "\n",
        "class node:\n",
        "  def __init__(self,u):\n",
        "    self.data =u\n",
        "    self.next=None\n",
        "class Linked:\n",
        "  def __init__(self):\n",
        "    self.head=None\n",
        "  def add_back(self,x):\n",
        "    t=self.head\n",
        "    while t.next!=None:\n",
        "      t=t.next\n",
        "    t.next=node(x)\n",
        "  def display(self):\n",
        "    t=self.head\n",
        "    while t!=None:\n",
        "      print(t.data,end='->')\n",
        "      t=t.next\n",
        "    print(\"None\")\n",
        "\n",
        "  def find_kth(self,k):      #find the Kth node from the last\n",
        "    f=self.head\n",
        "    s=self.head\n",
        "    for i in range(k):  #--------\n",
        "      if f!=None:    #add this to pass the edge testcases ,comes to the 1st element\n",
        "        f=f.next   #----------\n",
        "    # for i in range(k):\n",
        "    #   f=f.next\n",
        "    while f!=None:\n",
        "      f=f.next\n",
        "      s=s.next\n",
        "    print(s.data)\n",
        "\n",
        "l1 =Linked()\n",
        "l1.head=node(5)\n",
        "l1.add_back(2)\n",
        "l1.add_back(4)\n",
        "l1.add_back(3)\n",
        "l1.add_back(6)\n",
        "l1.add_back(5)\n",
        "l1.add_back(8)\n",
        "# l1.add_back(8)     #even numbers\n",
        "l1.display()\n",
        "l1.find_kth(3)\n",
        "\n"
      ],
      "metadata": {
        "colab": {
          "base_uri": "https://localhost:8080/"
        },
        "id": "Brk3UzBXX84p",
        "outputId": "67751cfc-78e8-4bb5-b7bf-5439b4b900ee"
      },
      "execution_count": 10,
      "outputs": [
        {
          "output_type": "stream",
          "name": "stdout",
          "text": [
            "5->2->4->3->6->5->8->None\n",
            "6\n"
          ]
        }
      ]
    },
    {
      "cell_type": "code",
      "source": [
        "# Q 10                  #leet code  19\n",
        "\n",
        "# delete the Kth node from the last\n",
        "\n",
        "\n",
        "\n",
        "class node:\n",
        "  def __init__(self,u):\n",
        "    self.data =u\n",
        "    self.next=None\n",
        "class Linked:\n",
        "  def __init__(self):\n",
        "    self.head=None\n",
        "  def add_back(self,x):\n",
        "    t=self.head\n",
        "    while t.next!=None:\n",
        "      t=t.next\n",
        "    t.next=node(x)\n",
        "  def display(self):\n",
        "    t=self.head\n",
        "    while t!=None:\n",
        "      print(t.data,end='->')\n",
        "      t=t.next\n",
        "    print(\"None\")\n",
        "\n",
        "  def kth_del(self,k):      #delete the Kth node\n",
        "    # k=4\n",
        "    f=self.head\n",
        "    for i in range(k):\n",
        "      f=f.next\n",
        "    s=self.head\n",
        "    while f!=None:\n",
        "      prev=s\n",
        "      s=s.next\n",
        "      f=f.next\n",
        "    prev.next=s.next\n",
        "    # s.next=None\n",
        "    # del s\n",
        "  # def\n",
        "\n",
        "\n",
        "l1 =Linked()\n",
        "l1.head=node(5)\n",
        "l1.add_back(2)\n",
        "l1.add_back(4)\n",
        "l1.add_back(3)\n",
        "l1.add_back(6)\n",
        "l1.add_back(5)\n",
        "l1.add_back(8)\n",
        "# l1.add_back(8)     #even numbers\n",
        "l1.display()\n",
        "l1.kth_del(2)\n",
        "print(\"after deleting\")\n",
        "l1.display()\n"
      ],
      "metadata": {
        "colab": {
          "base_uri": "https://localhost:8080/"
        },
        "id": "emE57WzWX8tV",
        "outputId": "6c573d9b-8211-4c07-d1e4-7f2f417210ec"
      },
      "execution_count": 11,
      "outputs": [
        {
          "output_type": "stream",
          "name": "stdout",
          "text": [
            "5->2->4->3->6->5->8->None\n",
            "after deleting\n",
            "5->2->4->3->6->8->None\n"
          ]
        }
      ]
    },
    {
      "cell_type": "code",
      "source": [
        "# Q 11                     # swap the node in pairs     #leet code 24\n",
        "# even length and odd length  every 2 elements in the linked list should swaped\n",
        "\n",
        "\n",
        "\n",
        "class node:\n",
        "  def __init__(self,u):\n",
        "    self.data =u\n",
        "    self.next=None\n",
        "class Linked:\n",
        "  def __init__(self):\n",
        "    self.head=None\n",
        "  def add_back(self,x):\n",
        "    t=self.head\n",
        "    while t.next!=None:\n",
        "      t=t.next\n",
        "    t.next=node(x)\n",
        "  def display(self):\n",
        "    t=self.head\n",
        "    while t!=None:\n",
        "      print(t.data,end='->')\n",
        "      t=t.next\n",
        "    print(\"None\")\n",
        "\n",
        "  def swap_pairs(self):   ##swap every 2 elements\n",
        "    t=self.head\n",
        "    while(t!=None and t.next!=None):\n",
        "      t.data,t.next.data=t.next.data,t.data\n",
        "      t=t.next.next\n",
        "\n",
        "l1 =Linked()\n",
        "l1.head=node(5)\n",
        "l1.add_back(2)\n",
        "l1.add_back(4)\n",
        "l1.add_back(3)\n",
        "l1.add_back(6)\n",
        "l1.add_back(5)\n",
        "l1.add_back(8)\n",
        "# l1.add_back(10)     #even numbers\n",
        "l1.display()\n",
        "l1.swap_pairs()\n",
        "print(\"after swapping\")\n",
        "l1.display()\n"
      ],
      "metadata": {
        "colab": {
          "base_uri": "https://localhost:8080/"
        },
        "id": "NVB1vt6YX8rk",
        "outputId": "c9bfe69e-f2c3-401a-c02f-331977d03784"
      },
      "execution_count": 12,
      "outputs": [
        {
          "output_type": "stream",
          "name": "stdout",
          "text": [
            "5->2->4->3->6->5->8->None\n",
            "after swapping\n",
            "2->5->3->4->5->6->8->None\n"
          ]
        }
      ]
    },
    {
      "cell_type": "code",
      "source": [
        "# Q 12\n",
        "\n",
        "# given list is unsorted perfrom bubble sort              #in linked list (selection is better then bubble )\n",
        "\n",
        "\n",
        "class node:\n",
        "  def __init__(self,u):\n",
        "    self.data =u\n",
        "    self.next=None\n",
        "class Linked:\n",
        "  def __init__(self):\n",
        "    self.head=None\n",
        "  def add_back(self,x):\n",
        "    t=self.head\n",
        "    while t.next!=None:\n",
        "      t=t.next\n",
        "    t.next=node(x)\n",
        "  def display(self):\n",
        "    t=self.head\n",
        "    while t!=None:\n",
        "      print(t.data,end='->')\n",
        "      t=t.next\n",
        "    print(\"None\")\n",
        "\n",
        "  # def bubble_sort(self):   ## unsorted list perfrom bubble sort\n",
        "  #   t=self.head\n",
        "  #   while(t.next!=None):                           #normal code\n",
        "  #     t1=self.head\n",
        "  #     while(t1.next!=None):\n",
        "  #       if(t1.data>t1.next.data):\n",
        "  #         t1.data,t1.next.data=t1.next.data,t1.data\n",
        "  #       t1=t1.next\n",
        "  #     t=t.next\n",
        "\n",
        "  def bubble_sort(self):   ## unsorted list perfrom bubble sort\n",
        "    t=self.head\n",
        "    while(t.next!=None):\n",
        "      t1=self.head\n",
        "      f=0                                        #effectent\n",
        "      while(t1.next!=None):\n",
        "        if(t1.data>t1.next.data):\n",
        "          f=1\n",
        "          t1.data,t1.next.data=t1.next.data,t1.data\n",
        "        t1=t1.next\n",
        "      if(f==0):\n",
        "        break\n",
        "\n",
        "l1 =Linked()\n",
        "l1.head=node(5)\n",
        "l1.add_back(2)\n",
        "l1.add_back(4)\n",
        "l1.add_back(3)\n",
        "l1.add_back(6)\n",
        "l1.add_back(7)\n",
        "l1.add_back(1)\n",
        "# l1.add_back(10)     #even numbers\n",
        "l1.display()\n",
        "l1.bubble_sort()\n",
        "print(\"after bubble sort swapping\")\n",
        "l1.display()\n"
      ],
      "metadata": {
        "colab": {
          "base_uri": "https://localhost:8080/"
        },
        "id": "u_97fRJoX8n_",
        "outputId": "4deb424e-c33a-4c50-c8d3-9f0dab034b1e"
      },
      "execution_count": 13,
      "outputs": [
        {
          "output_type": "stream",
          "name": "stdout",
          "text": [
            "5->2->4->3->6->7->1->None\n",
            "after bubble sort swapping\n",
            "1->2->3->4->5->6->7->None\n"
          ]
        }
      ]
    },
    {
      "cell_type": "code",
      "source": [
        "# Q 13\n",
        "\n",
        "# find the k th largest element in an unsorted linked list\n",
        "\n",
        "\n",
        "\n",
        "class node:\n",
        "  def __init__(self,u):\n",
        "    self.data =u\n",
        "    self.next=None\n",
        "class Linked:\n",
        "  def __init__(self):\n",
        "    self.head=None\n",
        "  def add_back(self,x):\n",
        "    t=self.head\n",
        "    while t.next!=None:\n",
        "      t=t.next\n",
        "    t.next=node(x)\n",
        "  def display(self):\n",
        "    t=self.head\n",
        "    while t!=None:\n",
        "      print(t.data,end='->')\n",
        "      t=t.next\n",
        "    print(\"None\")\n",
        "\n",
        "  # def bubble_sort(self):   ## unsorted list perfrom bubble sort\n",
        "  #   t=self.head\n",
        "  #   while(t.next!=None):                           #normal code\n",
        "  #     t1=self.head\n",
        "  #     while(t1.next!=None):\n",
        "  #       if(t1.data>t1.next.data):\n",
        "  #         t1.data,t1.next.data=t1.next.data,t1.data\n",
        "  #       t1=t1.next\n",
        "  #     t=t.next\n",
        "\n",
        "  def bubble_sort(self):   ## unsorted list perfrom bubble sort\n",
        "    t=self.head\n",
        "    while(t.next!=None ):\n",
        "      t1=self.head\n",
        "      f=0                                        #effectent\n",
        "      while(t1.next!=None):\n",
        "        if(t1.data>t1.next.data):\n",
        "          f=1\n",
        "          t1.data,t1.next.data=t1.next.data,t1.data\n",
        "        t1=t1.next\n",
        "      if(f==0):\n",
        "        break\n",
        "\n",
        "  def find_kth(self,k):      #find the Kth node from the last\n",
        "    f=self.head\n",
        "    s=self.head\n",
        "    for i in range(k):  #--------\n",
        "      if f!=None:    #add this to pass the edge testcases ,comes to the 1st element\n",
        "        f=f.next   #----------\n",
        "    # for i in range(k):\n",
        "    #   f=f.next\n",
        "    while f!=None:\n",
        "      f=f.next\n",
        "      s=s.next\n",
        "    print(s.data)\n",
        "\n",
        "l1 =Linked()\n",
        "l1.head=node(5)\n",
        "l1.add_back(2)\n",
        "l1.add_back(4)\n",
        "l1.add_back(3)\n",
        "l1.add_back(6)\n",
        "l1.add_back(7)\n",
        "l1.add_back(1)\n",
        "# l1.add_back(10)     #even numbers\n",
        "l1.display()\n",
        "l1.bubble_sort()\n",
        "print(\"after bubble sort swapping\")\n",
        "l1.display()\n",
        "l1.find_kth(3)\n"
      ],
      "metadata": {
        "colab": {
          "base_uri": "https://localhost:8080/"
        },
        "id": "XARWR-QIX8lG",
        "outputId": "a14ecb1d-0629-4dce-aa7d-16b626495e1c"
      },
      "execution_count": 14,
      "outputs": [
        {
          "output_type": "stream",
          "name": "stdout",
          "text": [
            "5->2->4->3->6->7->1->None\n",
            "after bubble sort swapping\n",
            "1->2->3->4->5->6->7->None\n",
            "5\n"
          ]
        }
      ]
    },
    {
      "cell_type": "code",
      "source": [
        "# Q 14\n",
        "# check weather we have loop or not                #using fast and slow pointer\n",
        "\n",
        "\n",
        "class node:\n",
        "  def __init__(self,u):\n",
        "    self.data =u\n",
        "    self.next=None\n",
        "class Linked:\n",
        "  def __init__(self):\n",
        "    self.head=None\n",
        "  def add_back(self,x):\n",
        "    t=self.head\n",
        "    while t.next!=None:\n",
        "      t=t.next\n",
        "    t.next=node(x)\n",
        "  def display(self):\n",
        "    t=self.head\n",
        "    while t!=None:\n",
        "      print(t.data,end='->')\n",
        "      t=t.next\n",
        "    print(\"None\")\n",
        "\n",
        "  def has_loop(self):\n",
        "    f=self.head\n",
        "    s=self.head\n",
        "    while (f!=None and f.next!=None):\n",
        "      f=f.next.next\n",
        "      s=s.next\n",
        "      if(f==s):\n",
        "        print(\"loop\")\n",
        "        return\n",
        "    print(\"no loop\")\n",
        "\n",
        "l1 =Linked()\n",
        "l1.head=node(5)\n",
        "l1.add_back(2)\n",
        "l1.add_back(4)\n",
        "l1.add_back(3)\n",
        "l1.add_back(6)\n",
        "l1.add_back(7)\n",
        "l1.add_back(1)\n",
        "# l1.add_back(10)     #even numbers\n",
        "l1.display()\n",
        "l1.has_loop()          # op = no loop\n",
        "\n",
        "l2=Linked()\n",
        "l2.head=node(100)\n",
        "l2.head.next=node(200)\n",
        "l2.head.next.next=node(300)\n",
        "l2.head.next.next.next=node(400)\n",
        "l2.head.next.next.next.next=node(400)\n",
        "l2.head.next.next.next.next.next=l2.head.next.next\n",
        "# l2.display()\n",
        "l2.has_loop()          # op = loop\n",
        "\n"
      ],
      "metadata": {
        "colab": {
          "base_uri": "https://localhost:8080/"
        },
        "id": "pJ5Qp6N1X8hy",
        "outputId": "f1ce6f3d-fc51-44d7-d130-5c081cd85c2e"
      },
      "execution_count": 15,
      "outputs": [
        {
          "output_type": "stream",
          "name": "stdout",
          "text": [
            "5->2->4->3->6->7->1->None\n",
            "no loop\n",
            "loop\n"
          ]
        }
      ]
    },
    {
      "cell_type": "code",
      "source": [
        "# exam    #Q1\n",
        "# ---------------Longest Subarray with 0 Sum\n",
        "\n",
        "# Problem Statement:\n",
        "# Given an array arr[] of size n, the task is to find the length of the longest subarray with sum equal to 0.\n",
        "\n",
        "# Example 1:\n",
        "\n",
        "# Input: arr[] = 15 -2 2 -8 1 7 10 23\n",
        "# Output: 5\n",
        "# Explanation:\n",
        "\n",
        "# The longest subarray with sum equals to 0 is {-2, 2, -8, 1, 7}\n",
        "\n",
        "\n",
        "\n",
        "# Example 2:\n",
        "\n",
        "# Input: arr[] = 1 2 3\n",
        "# Output: 0\n",
        "# Explanation:\n",
        "\n",
        "# There is no subarray with 0 sum"
      ],
      "metadata": {
        "id": "QGqzVTojYJ-_"
      },
      "execution_count": null,
      "outputs": []
    },
    {
      "cell_type": "code",
      "source": [],
      "metadata": {
        "id": "oJwcWu1rYMso"
      },
      "execution_count": null,
      "outputs": []
    },
    {
      "cell_type": "code",
      "source": [
        "#Q2\n",
        "\n",
        "#Array 3 Pointers\n",
        "\n",
        "# Problem Statement:\n",
        "# You are given 3 arrays A, B and C. All 3 of the arrays are sorted.\n",
        "\n",
        "# Find i, j, k such that :\n",
        "# max(abs(A[i] - B[j]), abs(B[j] - C[k]), abs(C[k] - A[i])) is minimized.\n",
        "# Return the minimum max(abs(A[i] - B[j]), abs(B[j] - C[k]), abs(C[k] - A[i]))\n",
        "\n",
        "# **abs(x) is absolute value of x and is implemented in the following manner : **\n",
        "\n",
        "#       if (x < 0) return -x;\n",
        "#       else return x;\n",
        "# Example 1:\n",
        "\n",
        "# Input :\n",
        "#         A : [1, 4, 10]      (taken in the format:  1 4 10\n",
        "#         B : [2, 15, 20]                            2 15 20\n",
        "#         C : [10, 12]                               10 12\n",
        "\n",
        "# Output : 5\n",
        "# Explanation:\n",
        "#          With 10 from A, 15 from B and 10 from C.\n",
        "# Example  1:\n",
        "\n",
        "# Input :\n",
        "#         A : [3, 5, 6]\n",
        "#         B : [2, 8, 10]\n",
        "#         C : [1, 6, 9]\n",
        "\n",
        "# Output : 2\n"
      ],
      "metadata": {
        "id": "KdJ0mndVYNUu"
      },
      "execution_count": null,
      "outputs": []
    },
    {
      "cell_type": "code",
      "source": [
        "\n",
        "def minimize_max_abs_diff(X, Y, Z):\n",
        "    i = j = k = 0\n",
        "    min_diff = float('inf')\n",
        "\n",
        "    while i < len(X) and j < len(Y) and k < len(Z):\n",
        "        a, b, c = X[i], Y[j], Z[k]\n",
        "        current_max = max(abs(a - b), abs(b - c), abs(c - a))\n",
        "        min_diff = min(min_diff, current_max)\n",
        "\n",
        "        # Move the pointer of the smallest element\n",
        "        if a <= b and a <= c:\n",
        "            i += 1\n",
        "        elif b <= a and b <= c:\n",
        "            j += 1\n",
        "        else:\n",
        "            k += 1\n",
        "\n",
        "    return min_diff\n",
        "\n",
        "# Input reading\n",
        "A = int(input())\n",
        "X = list(map(int, input().split()))\n",
        "B = int(input())\n",
        "Y = list(map(int, input().split()))\n",
        "C = int(input())\n",
        "Z = list(map(int, input().split()))\n",
        "\n",
        "# Function call\n",
        "print(minimize_max_abs_diff(X, Y, Z))"
      ],
      "metadata": {
        "id": "bxq1E339YPvZ"
      },
      "execution_count": null,
      "outputs": []
    }
  ]
}