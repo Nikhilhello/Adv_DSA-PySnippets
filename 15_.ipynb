{
  "nbformat": 4,
  "nbformat_minor": 0,
  "metadata": {
    "colab": {
      "provenance": [],
      "authorship_tag": "ABX9TyPWKK4sh29ZXV1smdJUIFF+",
      "include_colab_link": true
    },
    "kernelspec": {
      "name": "python3",
      "display_name": "Python 3"
    },
    "language_info": {
      "name": "python"
    }
  },
  "cells": [
    {
      "cell_type": "markdown",
      "metadata": {
        "id": "view-in-github",
        "colab_type": "text"
      },
      "source": [
        "<a href=\"https://colab.research.google.com/github/Nikhilhello/Adv_DSA-PySnippets/blob/main/15_.ipynb\" target=\"_parent\"><img src=\"https://colab.research.google.com/assets/colab-badge.svg\" alt=\"Open In Colab\"/></a>"
      ]
    },
    {
      "cell_type": "markdown",
      "source": [
        "#15"
      ],
      "metadata": {
        "id": "wGxJF1VMryCQ"
      }
    },
    {
      "cell_type": "markdown",
      "source": [
        "#(Stack,--Valid Parentheses,---trees)"
      ],
      "metadata": {
        "id": "Zc7wdV6krx_X"
      }
    },
    {
      "cell_type": "markdown",
      "source": [
        "#Stack"
      ],
      "metadata": {
        "id": "PBTIDl20rx9X"
      }
    },
    {
      "cell_type": "code",
      "execution_count": 1,
      "metadata": {
        "colab": {
          "base_uri": "https://localhost:8080/"
        },
        "id": "HdXWnHZhrtoV",
        "outputId": "440c052c-cb4c-46f1-af49-f320dbcee358"
      },
      "outputs": [
        {
          "output_type": "stream",
          "name": "stdout",
          "text": [
            "['15', '-3', '+', '6', '2', '-', '*']\n",
            "48\n"
          ]
        }
      ],
      "source": [
        "# Q1\n",
        "\n",
        "\n",
        "# a=\"15,3,+,6,2,-,*\".split(',')\n",
        "# print(a)\n",
        "# stack=[]\n",
        "# # op=[/,*,+,-]\n",
        "# for i in range(len(a)):                    #my code\n",
        "#   if(a[i].isdigit()):\n",
        "#     stack.append(int(a[i]))\n",
        "#   else:\n",
        "#     op1=stack.pop()\n",
        "#     op2=stack.pop()\n",
        "#     if a[i]==\"+\":\n",
        "#       stack.append(op2+op1)\n",
        "#     elif a[i]==\"-\":\n",
        "#       stack.append(op2-op1)\n",
        "#     elif a[i]==\"*\":\n",
        "#       stack.append(op2*op1)\n",
        "#     elif a[i]==\"/\":\n",
        "#       stack.append(op2/op1)\n",
        "# print(stack)                 #printing the stack             #[72]\n",
        "\n",
        "\n",
        "\n",
        "# a=\"15,3,+,6,2,-,*\"\n",
        "# a=a.split(',')                 #sir code\n",
        "# s=[]\n",
        "# for i in a:\n",
        "#   if(i.isdigit()):\n",
        "#     s.append(int(i))\n",
        "#   else:\n",
        "#     u=s.pop()\n",
        "#     v=s.pop()\n",
        "#     if(i=='+'):\n",
        "#       s.append(v+u)\n",
        "#     elif(i=='-'):\n",
        "#       s.append(v-u)\n",
        "#     elif(i=='*'):\n",
        "#       s.append(v*u)\n",
        "#     elif(i=='/'):\n",
        "#       s.append(v/u)\n",
        "#     else:\n",
        "#       s.append(v**u)\n",
        "# print(s[-1])         #printing the top element  #72\n",
        "\n",
        "\n",
        "#----------------------------------------------------------------------------------------\n",
        "\n",
        "a=\"15,-3,+,6,2,-,*\"\n",
        "a=a.split(',')\n",
        "print(a)\n",
        "s=[]\n",
        "for i in a:\n",
        "  if(i[-1].isdigit()):    # -3 is considered     #just add i[-1]\n",
        "    s.append(int(i))\n",
        "  else:\n",
        "    u=s.pop()\n",
        "    v=s.pop()\n",
        "    if(i=='+'):\n",
        "      s.append(v+u)\n",
        "    elif(i=='-'):\n",
        "      s.append(v-u)\n",
        "    elif(i=='*'):\n",
        "      s.append(v*u)\n",
        "    elif(i=='/'):\n",
        "      s.append(v/u)\n",
        "    else:\n",
        "      s.append(v**u)\n",
        "print(s[-1])         #printing the top element"
      ]
    },
    {
      "cell_type": "code",
      "source": [
        "# Q 2\n",
        "#  leetcode 2390"
      ],
      "metadata": {
        "id": "ERr4mnP0r9cE"
      },
      "execution_count": null,
      "outputs": []
    },
    {
      "cell_type": "code",
      "source": [
        "# Q 3          #leetcode 20 #Valid Parentheses\n",
        "\n",
        "#find valid or invalid                 #Valid Parentheses\n",
        "\n",
        "\n",
        "\n",
        "# a=\"(({}))\"          #v                       #sir codes\n",
        "# a=\"()[]{}\"         #v\n",
        "# a=\"(([]))(([]))\"   #v\n",
        "a=\"(([\"   #inv\n",
        "\n",
        "s=[]\n",
        "for i in range(len(a)):\n",
        "#   if(a[i]=='(' or a[i]=='{' or a[i]=='['):\n",
        "#     s.append(a[i])\n",
        "  if (a[i] in {'(','{','['}):\n",
        "    s.append(a[i])\n",
        "  elif s:          #not empty\n",
        "    if (a[i]=='}' and s[-1]=='{'):\n",
        "      s.pop()\n",
        "    elif(a[i]==')' and s[-1]=='('):\n",
        "      s.pop()\n",
        "    elif(a[i]==']' and s[-1]=='['):\n",
        "      s.pop()\n",
        "    else:\n",
        "      print(\"invalid\")\n",
        "      break\n",
        "  else:\n",
        "    print(\"invalid\")\n",
        "    break\n",
        "else:\n",
        "  if s:\n",
        "    print(\"invalid\")\n",
        "  else:\n",
        "    print(\"valid\")\n",
        "\n",
        "\n",
        "\n",
        "# a=\"(({{}}))\"          #vaild\n",
        "# d={'{':'}','[':']','(':')'}           #using dict\n",
        "# s=[]\n",
        "# for i in range(len(a)):\n",
        "#   if (a[i] in {'(','{','['}):\n",
        "#     s.append(a[i])\n",
        "#   elif s:                     #not empty\n",
        "#     if (d[s[-1]]==a[i]):\n",
        "#       s.pop()\n",
        "#     else:\n",
        "#       print(\"invalid\")\n",
        "#       break\n",
        "#   else:\n",
        "#     print(\"invalid\")\n",
        "#     break\n",
        "# else:\n",
        "#   if s:\n",
        "#     print(\"invalid\")\n",
        "#   else:\n",
        "#     print(\"valid\")\n"
      ],
      "metadata": {
        "id": "wCS1WQ42r-Om"
      },
      "execution_count": null,
      "outputs": []
    },
    {
      "cell_type": "code",
      "source": [
        "# Q3                 #\n",
        "\n",
        "#  ************list 1 is always the subset of list 2\n",
        "#find the next greatest element\n",
        "\n",
        "a=[4,1,2]      #4--> -1  # 1-->3  #2-->3\n",
        "b=[2,1,3,4]                #op=[-1,3,3]\n",
        "\n",
        "\n"
      ],
      "metadata": {
        "id": "0efePh9yr-Lw"
      },
      "execution_count": null,
      "outputs": []
    },
    {
      "cell_type": "code",
      "source": [
        "a = [4, 1, 2]\n",
        "# b=[2,1,3,4]       #op=[-1,3,3]\n",
        "# b=[2,1,3,4,6,9]  #op=[6, 3, 3]\n",
        "b=[2,5,1,3,4,6,9]  #op=[6, 3, 5]\n",
        "\n",
        "# Create a dictionary to store the next greater element for each number in b\n",
        "next_greater = {}\n",
        "stack = []\n",
        "\n",
        "# Traverse list b from right to left\n",
        "for num in reversed(b):\n",
        "    while stack and stack[-1] <= num:\n",
        "        stack.pop()\n",
        "    if stack:\n",
        "        next_greater[num] = stack[-1]\n",
        "    else:\n",
        "        next_greater[num] = -1\n",
        "    stack.append(num)\n",
        "\n",
        "# Build the result for elements in a\n",
        "result = [next_greater[num] for num in a]\n",
        "print(result)\n"
      ],
      "metadata": {
        "colab": {
          "base_uri": "https://localhost:8080/"
        },
        "id": "av9WBQQor-I7",
        "outputId": "d39c2f34-a6f7-4ed1-a579-fcae977a8f82"
      },
      "execution_count": 8,
      "outputs": [
        {
          "output_type": "stream",
          "name": "stdout",
          "text": [
            "[6, 3, 5]\n"
          ]
        }
      ]
    },
    {
      "cell_type": "markdown",
      "source": [
        "#tree"
      ],
      "metadata": {
        "id": "JyqCgBnL5zod"
      }
    },
    {
      "cell_type": "code",
      "source": [
        "class node:\n",
        "  def __init__(self,u):\n",
        "    self.data =u\n",
        "    self.left=None\n",
        "    self.right=None"
      ],
      "metadata": {
        "id": "ZaeGOfaUr-F7"
      },
      "execution_count": null,
      "outputs": []
    },
    {
      "cell_type": "code",
      "source": [
        "class node:\n",
        "    def __init__(self,u):\n",
        "        self.data =u\n",
        "        self.left=None\n",
        "        self.right=None\n",
        "    def inorder(self,root):\n",
        "        if(root==None):\n",
        "            return\n",
        "        self.inorder(root.left)\n",
        "        print(root.data,end=\" \")\n",
        "        self.inorder(root.right)\n",
        "\n",
        "    def preorder(self,root):            #leetcode 144\n",
        "        if(root==None):\n",
        "            return\n",
        "        print(root.data,end=\" \")\n",
        "        self.preorder(root.left)\n",
        "        self.preorder(root.right)\n",
        "\n",
        "    def postorder(self,root):         #leetcode 145\n",
        "        if(root==None):\n",
        "            return\n",
        "        self.postorder(root.left)\n",
        "        self.postorder(root.right)\n",
        "        print(root.data,end=\" \")\n",
        "\n",
        "    #find sum of all the nodes\n",
        "    def sum(self,root):\n",
        "        if(root==None):\n",
        "            return 0\n",
        "        return root.data+self.sum(root.left)+self.sum(root.right)\n",
        "\n",
        "    #find the sum of all even numbers\n",
        "    def even(self,root):\n",
        "        if(root==None):\n",
        "            return 0\n",
        "        if(root.data%2==0):\n",
        "            return root.data+self.even(root.left)+self.even(root.right)\n",
        "        else:\n",
        "            return self.even(root.left)+self.even(root.right)\n",
        "\n",
        "    #height of a tree\n",
        "    def height_tree(self,root):\n",
        "        if(root==None):\n",
        "            return -1\n",
        "        return max(self.height_tree(root.left),self.height_tree(root.right))+1\n",
        "\n",
        "    #searching an element from the tree BST\n",
        "    def search(self,root,k):\n",
        "        if(root==None):\n",
        "            return \"vunna danni vethuku... lenidanni vethakaku dorakadhu\"\n",
        "        if(root.data==k):\n",
        "            return \"True it is found\"\n",
        "        elif(k<root.data):\n",
        "            return self.search(root.left,k)\n",
        "        elif(k>root.data):\n",
        "            return self.search(root.right,k)\n",
        "\n",
        "\n",
        "root=node(10)\n",
        "root.left=node(5)\n",
        "root.right=node(20)\n",
        "root.left.left=node(2)\n",
        "root.left.right=node(8)\n",
        "print(\"inOrder:\")\n",
        "root.inorder(root)\n",
        "\n",
        "print(\"\\npreOrder:\")\n",
        "root.preorder(root)\n",
        "\n",
        "print(\"\\npostOrder:\")\n",
        "root.postorder(root)\n",
        "\n",
        "print(\"\\nSum of all numbers:\")\n",
        "print(root.sum(root))  #45\n",
        "\n",
        "print(\"\\nsum of even numbers:\")\n",
        "print(root.even(root))  #40\n",
        "\n",
        "print(\"\\nheight of the tree:\")\n",
        "print(root.height_tree(root))  #2\n",
        "\n",
        "print(\"\\nsearching an element in BST:\")\n",
        "print(root.search(root,22))\n",
        "\n"
      ],
      "metadata": {
        "colab": {
          "base_uri": "https://localhost:8080/"
        },
        "id": "N0PDow_mr-CY",
        "outputId": "3b9e3d5c-66d7-4543-a99f-ff53f2fc2077"
      },
      "execution_count": 9,
      "outputs": [
        {
          "output_type": "stream",
          "name": "stdout",
          "text": [
            "inOrder:\n",
            "2 5 8 10 20 \n",
            "preOrder:\n",
            "10 5 2 8 20 \n",
            "postOrder:\n",
            "2 8 5 20 10 \n",
            "Sum of all numbers:\n",
            "45\n",
            "\n",
            "sum of even numbers:\n",
            "40\n",
            "\n",
            "height of the tree:\n",
            "2\n",
            "\n",
            "searching an element in BST:\n",
            "vunna danni vethuku... lenidanni vethakaku dorakadhu\n"
          ]
        }
      ]
    }
  ]
}