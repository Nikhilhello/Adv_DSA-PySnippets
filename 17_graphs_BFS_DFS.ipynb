{
  "nbformat": 4,
  "nbformat_minor": 0,
  "metadata": {
    "colab": {
      "provenance": [],
      "authorship_tag": "ABX9TyPFcVyYBtJ6xMHJCLYP9CaZ",
      "include_colab_link": true
    },
    "kernelspec": {
      "name": "python3",
      "display_name": "Python 3"
    },
    "language_info": {
      "name": "python"
    }
  },
  "cells": [
    {
      "cell_type": "markdown",
      "metadata": {
        "id": "view-in-github",
        "colab_type": "text"
      },
      "source": [
        "<a href=\"https://colab.research.google.com/github/Nikhilhello/Adv_DSA-PySnippets/blob/main/17_graphs_BFS_DFS.ipynb\" target=\"_parent\"><img src=\"https://colab.research.google.com/assets/colab-badge.svg\" alt=\"Open In Colab\"/></a>"
      ]
    },
    {
      "cell_type": "markdown",
      "source": [
        "#17"
      ],
      "metadata": {
        "id": "JeLvWBQS_FZg"
      }
    },
    {
      "cell_type": "markdown",
      "source": [
        "#(Graphs,--BFS and DFS)"
      ],
      "metadata": {
        "id": "KkF0QWmQ_FWL"
      }
    },
    {
      "cell_type": "code",
      "execution_count": 1,
      "metadata": {
        "colab": {
          "base_uri": "https://localhost:8080/"
        },
        "id": "HuNinkaG-5yy",
        "outputId": "880ddbc6-8600-4f9b-a56a-5657a1ee5e03"
      },
      "outputs": [
        {
          "output_type": "stream",
          "name": "stdout",
          "text": [
            "defaultdict(<class 'list'>, {5: [2, 7, 8], 2: [5, 7, 8, 3], 7: [5, 2, 8], 8: [5, 2, 7, 3], 3: [8, 2]})\n",
            "defaultdict(<class 'list'>, {5: [2, 7, 8], 2: [7, 8, 3], 8: [7, 3]}) -------directed graph\n"
          ]
        }
      ],
      "source": [
        "#  1.matrix   (or)                   #for understand to the algoritham    #shold use in c language hard to use\n",
        "#  2.adjacency list      possible                                        #c++,java,py(easy python using dict{})\n",
        "\n",
        "#undirected graph\n",
        "from collections import defaultdict\n",
        "graph=[(5,2),(5,7),(5,8),(2,7),(2,8),(8,7),(8,3),(2,3)]\n",
        "d=defaultdict(list)\n",
        "for i,j in graph:\n",
        "  d[i].append(j)\n",
        "  d[j].append(i)\n",
        "print(d)\n",
        "\n",
        "# directed graph\n",
        "graph=[(5,2),(5,7),(5,8),(2,7),(2,8),(8,7),(8,3),(2,3)]\n",
        "d=defaultdict(list)\n",
        "for i,j in graph:\n",
        "  d[i].append(j)\n",
        "  # d[j].append(i)  #to make directed graph\n",
        "print(d,\"-------directed graph\")\n"
      ]
    },
    {
      "cell_type": "code",
      "source": [
        "#\n",
        "#print all the paths          and length of each path\n",
        "\n",
        "from collections import defaultdict\n",
        "def print_all_path(u,v,path=[]):        #print all the paths\n",
        "  path.append(u)\n",
        "  if(u==v):\n",
        "    print(path)                #print(path,len(path))<------ to show the len of each path\n",
        "    # path.pop()        without this also it will work\n",
        "    # return\n",
        "  # else:\n",
        "  for i in d[u]:\n",
        "    if(i not in path):\n",
        "      print_all_path(i,v,path)\n",
        "  path.pop()\n",
        "  return\n",
        "\n",
        "#undirected graph\n",
        "graph=[(5,2),(5,7),(5,8),(2,7),(2,8),(8,7),(8,3),(2,3)]\n",
        "d=defaultdict(list)\n",
        "for i,j in graph:\n",
        "  d[i].append(j)\n",
        "  d[j].append(i)\n",
        "print(d)\n",
        "\n",
        "# DFS\n",
        "print_all_path(5,3)"
      ],
      "metadata": {
        "colab": {
          "base_uri": "https://localhost:8080/"
        },
        "id": "lVbT0Pp4BOiz",
        "outputId": "74cfc95e-2123-4ac0-c589-e5135d43e729"
      },
      "execution_count": 2,
      "outputs": [
        {
          "output_type": "stream",
          "name": "stdout",
          "text": [
            "defaultdict(<class 'list'>, {5: [2, 7, 8], 2: [5, 7, 8, 3], 7: [5, 2, 8], 8: [5, 2, 7, 3], 3: [8, 2]})\n",
            "[5, 2, 7, 8, 3]\n",
            "[5, 2, 8, 3]\n",
            "[5, 2, 3]\n",
            "[5, 7, 2, 8, 3]\n",
            "[5, 7, 2, 3]\n",
            "[5, 7, 8, 2, 3]\n",
            "[5, 7, 8, 3]\n",
            "[5, 8, 2, 3]\n",
            "[5, 8, 7, 2, 3]\n",
            "[5, 8, 3]\n"
          ]
        }
      ]
    },
    {
      "cell_type": "code",
      "source": [
        "#\n",
        "#count  all the paths\n",
        "\n",
        "# from collections import defaultdict\n",
        "# def print_all_path(u,v,path=[],c=0):        #print all the paths\n",
        "#   path.append(u)\n",
        "#   if(u==v):\n",
        "#     c+=1\n",
        "#     # print(path)\n",
        "#     # path.pop()        #without this also it will work\n",
        "#     # return\n",
        "#   # else:\n",
        "#   for i in d[u]:\n",
        "#     if(i not in path):\n",
        "#       c=print_all_path(i,v,path,c)\n",
        "#   path.pop()\n",
        "#   return c\n",
        "\n",
        "# #undirected graph\n",
        "# graph=[(5,2),(5,7),(5,8),(2,7),(2,8),(8,7),(8,3),(2,3)]\n",
        "# d=defaultdict(list)\n",
        "# for i,j in graph:\n",
        "#   d[i].append(j)\n",
        "#   d[j].append(i)\n",
        "# # print(d)\n",
        "\n",
        "# # DFS\n",
        "# print(print_all_path(5,3))\n",
        "\n",
        "#------------------------------------------------------------\n",
        "                                                #use the set() ,saves the time\n",
        "from collections import defaultdict\n",
        "def print_all_path(u,v,path=set(),c=0):        #print all the paths total count\n",
        "  path.add(u)\n",
        "  if(u==v):\n",
        "    c+=1\n",
        "  else:\n",
        "    for i in d[u]:                            #effective code\n",
        "      if(i not in path):\n",
        "        c=print_all_path(i,v,path,c)\n",
        "  path.remove(u)\n",
        "  return c\n",
        "\n",
        "#undirected graph\n",
        "graph=[(5,2),(5,7),(5,8),(2,7),(2,8),(8,7),(8,3),(2,3)]\n",
        "d=defaultdict(list)\n",
        "for i,j in graph:\n",
        "  d[i].append(j)\n",
        "  d[j].append(i)\n",
        "# print(d)\n",
        "\n",
        "# DFS\n",
        "print(print_all_path(5,3))"
      ],
      "metadata": {
        "colab": {
          "base_uri": "https://localhost:8080/"
        },
        "id": "U8bKMzfZBQzL",
        "outputId": "6f581aad-c350-48d2-906e-d7411534aebf"
      },
      "execution_count": 3,
      "outputs": [
        {
          "output_type": "stream",
          "name": "stdout",
          "text": [
            "10\n"
          ]
        }
      ]
    },
    {
      "cell_type": "code",
      "source": [
        "# path is existting or not              #leet code 1971\n",
        "\n",
        "from collections import defaultdict\n",
        "\n",
        "def print_all_path(u,v,path=[]):        #print all the paths\n",
        "  path.append(u)\n",
        "  if(u==v):\n",
        "    print(path)                #print(path,len(path))<------ to show the len of each path\n",
        "    # path.pop()        without this also it will work\n",
        "    # return\n",
        "  # else:\n",
        "  for i in d[u]:\n",
        "    if(i not in path):\n",
        "      print_all_path(i,v,path)\n",
        "  path.pop()\n",
        "  return\n",
        "\n",
        "def check_if_path(u,v,path=[]):        #check the path  #leet code 1971\n",
        "  path.append(u)\n",
        "  if(u==v):\n",
        "    return True\n",
        "  else:\n",
        "    for i in d[u]:                            #sir code\n",
        "      if(i not in path):\n",
        "        if check_if_path(i,v,path):\n",
        "          return True\n",
        "  path.pop()\n",
        "  return False\n",
        "\n",
        "#undirected graph\n",
        "graph=[(5,2),(5,7),(5,8),(2,7),(2,8),(8,7),(8,3),(2,3)]\n",
        "d=defaultdict(list)\n",
        "for i,j in graph:\n",
        "  d[i].append(j)\n",
        "  d[j].append(i)\n",
        "print(d)\n",
        "#DFS\n",
        "print_all_path(5,3)\n",
        "\n",
        "print(check_if_path(5,3))"
      ],
      "metadata": {
        "colab": {
          "base_uri": "https://localhost:8080/"
        },
        "id": "6YE6_CmkBTRa",
        "outputId": "d28d9030-5328-4ce5-a180-3dd193ee2abb"
      },
      "execution_count": 4,
      "outputs": [
        {
          "output_type": "stream",
          "name": "stdout",
          "text": [
            "defaultdict(<class 'list'>, {5: [2, 7, 8], 2: [5, 7, 8, 3], 7: [5, 2, 8], 8: [5, 2, 7, 3], 3: [8, 2]})\n",
            "[5, 2, 7, 8, 3]\n",
            "[5, 2, 8, 3]\n",
            "[5, 2, 3]\n",
            "[5, 7, 2, 8, 3]\n",
            "[5, 7, 2, 3]\n",
            "[5, 7, 8, 2, 3]\n",
            "[5, 7, 8, 3]\n",
            "[5, 8, 2, 3]\n",
            "[5, 8, 7, 2, 3]\n",
            "[5, 8, 3]\n",
            "True\n"
          ]
        }
      ]
    },
    {
      "cell_type": "markdown",
      "source": [
        "#BFS"
      ],
      "metadata": {
        "id": "6M6zmydyBXde"
      }
    },
    {
      "cell_type": "code",
      "source": [
        "#BFS           #no recursion\n",
        "#using queue\n",
        "\n",
        "# use BFS visite all the nodes or search for an node             #\n",
        "\n",
        "from collections import defaultdict\n",
        "\n",
        "def print_all_path(u,v,path=[]):        #print all the paths\n",
        "  path.append(u)\n",
        "  if(u==v):\n",
        "    print(path)                #print(path,len(path))<------ to show the len of each path\n",
        "    # path.pop()        without this also it will work\n",
        "    # return\n",
        "  # else:\n",
        "  for i in d[u]:\n",
        "    if(i not in path):\n",
        "      print_all_path(i,v,path)\n",
        "  path.pop()\n",
        "  return\n",
        "\n",
        "def check_if_path(u,v,path=[]):        #check the path  #leet code 1971\n",
        "  path.append(u)\n",
        "  if(u==v):\n",
        "    return True\n",
        "  else:\n",
        "    for i in d[u]:                            #sir code\n",
        "      if(i not in path):\n",
        "        if check_if_path(i,v,path):\n",
        "          return True\n",
        "  path.pop()\n",
        "  return False\n",
        "\n",
        "# def BFS(u):           #printing all the nodes\n",
        "#   v=set()                             #sir code\n",
        "#   q=[u]\n",
        "#   while(q):\n",
        "#     curr=q.pop(0)\n",
        "#     print(curr,end=\" \")\n",
        "#     for i in d[curr]:\n",
        "#       if(i not in v):\n",
        "#         v.add(i)\n",
        "#         q.append(i)\n",
        "#     v.add(curr)\n",
        "\n",
        "def BFS(u):           #printing all the nodes\n",
        "  v=[]                            #sir code\n",
        "  q=[u]\n",
        "  while(q):\n",
        "    curr=q.pop(0)\n",
        "    v.append(curr)\n",
        "    print(curr)\n",
        "    for i in d[curr]:\n",
        "      if(i not in v and i not in q):\n",
        "        q.append(i)\n",
        "  return v\n",
        "\n",
        "\n",
        "#undirected graph\n",
        "graph=[(5,2),(5,7),(5,8),(2,7),(2,8),(8,7),(8,3),(2,3)]\n",
        "d=defaultdict(list)\n",
        "for i,j in graph:\n",
        "  d[i].append(j)\n",
        "  d[j].append(i)\n",
        "print(d)\n",
        "#DFS\n",
        "print_all_path(5,3)\n",
        "print(check_if_path(5,3))\n",
        "\n",
        "print(\"-+-+-+-+-+-+-+-+BFS\")\n",
        "#BFS\n",
        "print(BFS(5))\n",
        "\n",
        "\n"
      ],
      "metadata": {
        "colab": {
          "base_uri": "https://localhost:8080/"
        },
        "id": "ddV5bCOtBTOP",
        "outputId": "8134bd0e-cc3b-4470-878a-a7eecd568a57"
      },
      "execution_count": 5,
      "outputs": [
        {
          "output_type": "stream",
          "name": "stdout",
          "text": [
            "defaultdict(<class 'list'>, {5: [2, 7, 8], 2: [5, 7, 8, 3], 7: [5, 2, 8], 8: [5, 2, 7, 3], 3: [8, 2]})\n",
            "[5, 2, 7, 8, 3]\n",
            "[5, 2, 8, 3]\n",
            "[5, 2, 3]\n",
            "[5, 7, 2, 8, 3]\n",
            "[5, 7, 2, 3]\n",
            "[5, 7, 8, 2, 3]\n",
            "[5, 7, 8, 3]\n",
            "[5, 8, 2, 3]\n",
            "[5, 8, 7, 2, 3]\n",
            "[5, 8, 3]\n",
            "True\n",
            "-+-+-+-+-+-+-+-+BFS\n",
            "5\n",
            "2\n",
            "7\n",
            "8\n",
            "3\n",
            "[5, 2, 7, 8, 3]\n"
          ]
        }
      ]
    },
    {
      "cell_type": "code",
      "source": [
        "from os import confstr\n",
        "#weighted graph\n",
        "\n",
        "\n",
        "\n",
        "#print all the paths\n",
        "def print_all(u,v,path=[]):\n",
        "  path.append(u)\n",
        "  if(u==v):\n",
        "    print(path)\n",
        "  for i,w in d[u]:\n",
        "    if (i not in path):\n",
        "      print_all(i,v,path)\n",
        "  path.pop()\n",
        "  return\n",
        "\n",
        "#print all the path and cost\n",
        "def print_all_cost(u,v,path=[],cost=0):\n",
        "  path.append(u)\n",
        "  if(u==v):\n",
        "    print(path,cost)\n",
        "  for i,w in d[u]:\n",
        "    if (i not in path):\n",
        "      cost+=w\n",
        "      print_all_cost(i,v,path,cost)\n",
        "      cost-=w\n",
        "  path.pop()\n",
        "  return\n",
        "\n",
        "\n",
        "from collections import defaultdict\n",
        "a=[(5,2,3),(5,7,2),(5,8,1),(2,7,2),(2,8,4),(8,7,1),(8,3,3),(2,3,2)]\n",
        "d=defaultdict(list)\n",
        "for i,j,w in a:\n",
        "  d[i].append([j,w])\n",
        "  d[j].append([i,w])\n",
        "print(d)\n",
        "print(dict(d))\n",
        "print(\"\\nprinting all the paths:\")\n",
        "print_all(5,3)\n",
        "print(\"\\nprint all the path and cost:\")\n",
        "print_all_cost(5,3)\n"
      ],
      "metadata": {
        "colab": {
          "base_uri": "https://localhost:8080/"
        },
        "id": "GXC9LnzfBTMJ",
        "outputId": "0767421c-528d-40fb-c2a9-986084b9ee3a"
      },
      "execution_count": 6,
      "outputs": [
        {
          "output_type": "stream",
          "name": "stdout",
          "text": [
            "defaultdict(<class 'list'>, {5: [[2, 3], [7, 2], [8, 1]], 2: [[5, 3], [7, 2], [8, 4], [3, 2]], 7: [[5, 2], [2, 2], [8, 1]], 8: [[5, 1], [2, 4], [7, 1], [3, 3]], 3: [[8, 3], [2, 2]]})\n",
            "{5: [[2, 3], [7, 2], [8, 1]], 2: [[5, 3], [7, 2], [8, 4], [3, 2]], 7: [[5, 2], [2, 2], [8, 1]], 8: [[5, 1], [2, 4], [7, 1], [3, 3]], 3: [[8, 3], [2, 2]]}\n",
            "\n",
            "printing all the paths:\n",
            "[5, 2, 7, 8, 3]\n",
            "[5, 2, 8, 3]\n",
            "[5, 2, 3]\n",
            "[5, 7, 2, 8, 3]\n",
            "[5, 7, 2, 3]\n",
            "[5, 7, 8, 2, 3]\n",
            "[5, 7, 8, 3]\n",
            "[5, 8, 2, 3]\n",
            "[5, 8, 7, 2, 3]\n",
            "[5, 8, 3]\n",
            "\n",
            "print all the path and cost:\n",
            "[5, 2, 7, 8, 3] 9\n",
            "[5, 2, 8, 3] 10\n",
            "[5, 2, 3] 5\n",
            "[5, 7, 2, 8, 3] 11\n",
            "[5, 7, 2, 3] 6\n",
            "[5, 7, 8, 2, 3] 9\n",
            "[5, 7, 8, 3] 6\n",
            "[5, 8, 2, 3] 7\n",
            "[5, 8, 7, 2, 3] 6\n",
            "[5, 8, 3] 4\n"
          ]
        }
      ]
    },
    {
      "cell_type": "markdown",
      "source": [
        "| Aspect            | BFS                    | DFS                          |\n",
        "| ----------------- | ---------------------- | ---------------------------- |\n",
        "| Data Structure    | Queue (FIFO)           | Stack (LIFO) or Recursion    |\n",
        "| Traversal Pattern | Level by level (broad) | Deep into one path first     |\n",
        "| Implementation    | Iterative (queue)      | Usually recursive (or stack) |\n"
      ],
      "metadata": {
        "id": "GPdVcqxkBg8v"
      }
    },
    {
      "cell_type": "markdown",
      "source": [
        "#BFS and DFS"
      ],
      "metadata": {
        "id": "_vNL9YUHBlLs"
      }
    },
    {
      "cell_type": "code",
      "source": [
        "#------------ BFS and DFS ---------------\n",
        "\n",
        "\n",
        "# How It Works:         #DFS\n",
        "# Starts at node u.\n",
        "# Marks u as visited and prints it.\n",
        "# For each unvisited neighbor i, recursively calls DFS(i).\n",
        "\n",
        "\n",
        "from collections import defaultdict\n",
        " #--------------------------------------DFS\n",
        "def DFS(u, visited=None):\n",
        "    if visited is None:\n",
        "        visited = []\n",
        "\n",
        "    visited.append(u)\n",
        "    print(u)\n",
        "\n",
        "    for i in d[u]:\n",
        "        if i not in visited:\n",
        "            DFS(i, visited)\n",
        "\n",
        "    return visited\n",
        "\n",
        "\n",
        "#-----------------------------------------------BFS\n",
        "def BFS(u):           #printing all the nodes\n",
        "  v=[]                            #sir code\n",
        "  q=[u]\n",
        "  while(q):\n",
        "    curr=q.pop(0)\n",
        "    v.append(curr)\n",
        "    print(curr)\n",
        "    for i in d[curr]:\n",
        "      if(i not in v and i not in q):\n",
        "        q.append(i)\n",
        "  return v\n",
        "\n",
        "#------------------------\n",
        "graph = [(5,2),(5,7),(5,8),(2,7),(2,8),(8,7),(8,3),(2,3)]\n",
        "d = defaultdict(list)\n",
        "for i, j in graph:\n",
        "    d[i].append(j)\n",
        "    d[j].append(i)\n",
        "\n",
        "# Run DFS\n",
        "print(\"--+-+-+-+-+DFS\")\n",
        "print(DFS(5))\n",
        "\n",
        "print(\"--+-+-+-+-+BFS\")\n",
        "# Run BFS\n",
        "print(BFS(5))\n",
        "\n",
        "\n"
      ],
      "metadata": {
        "colab": {
          "base_uri": "https://localhost:8080/"
        },
        "id": "47fQEtP3BTKU",
        "outputId": "fe976aca-015c-4e55-96f3-45e7ec2adf06"
      },
      "execution_count": 7,
      "outputs": [
        {
          "output_type": "stream",
          "name": "stdout",
          "text": [
            "--+-+-+-+-+DFS\n",
            "5\n",
            "2\n",
            "7\n",
            "8\n",
            "3\n",
            "[5, 2, 7, 8, 3]\n",
            "--+-+-+-+-+BFS\n",
            "5\n",
            "2\n",
            "7\n",
            "8\n",
            "3\n",
            "[5, 2, 7, 8, 3]\n"
          ]
        }
      ]
    },
    {
      "cell_type": "code",
      "source": [],
      "metadata": {
        "id": "vIo52SKnBTIn"
      },
      "execution_count": null,
      "outputs": []
    }
  ]
}