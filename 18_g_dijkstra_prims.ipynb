{
  "nbformat": 4,
  "nbformat_minor": 0,
  "metadata": {
    "colab": {
      "provenance": [],
      "authorship_tag": "ABX9TyOUaYetsfxyJYaGdfD8hFD1",
      "include_colab_link": true
    },
    "kernelspec": {
      "name": "python3",
      "display_name": "Python 3"
    },
    "language_info": {
      "name": "python"
    }
  },
  "cells": [
    {
      "cell_type": "markdown",
      "metadata": {
        "id": "view-in-github",
        "colab_type": "text"
      },
      "source": [
        "<a href=\"https://colab.research.google.com/github/Nikhilhello/Adv_DSA-PySnippets/blob/main/18_g_dijkstra_prims.ipynb\" target=\"_parent\"><img src=\"https://colab.research.google.com/assets/colab-badge.svg\" alt=\"Open In Colab\"/></a>"
      ]
    },
    {
      "cell_type": "markdown",
      "source": [
        "#18"
      ],
      "metadata": {
        "id": "rXxjpLzhCLI9"
      }
    },
    {
      "cell_type": "markdown",
      "source": [
        "#(connected graph,----dijkstra algorithm,---prims algoritham,---)"
      ],
      "metadata": {
        "id": "puubv3qrCLFd"
      }
    },
    {
      "cell_type": "code",
      "execution_count": 1,
      "metadata": {
        "id": "Q1kxY280CETj"
      },
      "outputs": [],
      "source": [
        "# leet code   547\n",
        "#find the number of connected graph\n",
        "\n",
        "def no_pro(i):\n",
        "  l[i]=True\n",
        "  for j in range(n):\n",
        "    if(g[i][j]==1 and i!=j and l[i]!=true):\n",
        "      no_pro(j)\n",
        "  l=[False]*n\n",
        "  c=0\n",
        "  for j in range(n):\n",
        "    if(l[j]==False):\n",
        "      c+=1\n",
        "      no_pro(j)\n",
        "\n",
        "  return c\n",
        "\n",
        "\n"
      ]
    },
    {
      "cell_type": "markdown",
      "source": [
        "#dijkstra algorithm"
      ],
      "metadata": {
        "id": "6jJHUSh3CYI8"
      }
    },
    {
      "cell_type": "code",
      "source": [
        "# dijkstra algorithm\n",
        "# SSSP --->>Single Source Shortest Path (SSSP)\n",
        "\n",
        "# --------finding the each  cost  and next shortest path\n",
        "\n",
        "\n",
        "from collections import defaultdict\n",
        "\n",
        "def sssp_cost(u):                   # dijkstra algorithm     #finding only the cost\n",
        "  dis=defaultdict(lambda:float('inf')) # result\n",
        "  dis[u]=0\n",
        "  q=[u]\n",
        "  v=set()\n",
        "  while(q):\n",
        "    curr=q.pop(0)\n",
        "    v.add(curr)\n",
        "    for i,w in d[curr]:\n",
        "      if(dis[curr]+w < dis[i]):\n",
        "        dis[i]=dis[curr]+w\n",
        "      if(i not in q and i not in v):\n",
        "        q.append(i)\n",
        "  print(dis)\n",
        "\n",
        "\n",
        "# def sssp_path(u):\n",
        "\n",
        "\n",
        "a=[(10,5,2),(10,7,4),(5,7,1),(5,8,3),(5,3,2),(7,8,1),(8,3,1)]\n",
        "d=defaultdict(list)\n",
        "for i,j,w in a:\n",
        "  d[i].append([j,w])\n",
        "  d[j].append([i,w])\n",
        "# print(d)\n",
        "print(dict(d))\n",
        "\n",
        "sssp_cost(10)  #{10: 0, 5: 2, 7: 3, 8: 4, 3: 4}"
      ],
      "metadata": {
        "colab": {
          "base_uri": "https://localhost:8080/"
        },
        "id": "DXlxdhvXCX31",
        "outputId": "ae635875-52d5-4567-98a5-196aa0f210ac"
      },
      "execution_count": 2,
      "outputs": [
        {
          "output_type": "stream",
          "name": "stdout",
          "text": [
            "{10: [[5, 2], [7, 4]], 5: [[10, 2], [7, 1], [8, 3], [3, 2]], 7: [[10, 4], [5, 1], [8, 1]], 8: [[5, 3], [7, 1], [3, 1]], 3: [[5, 2], [8, 1]]}\n",
            "defaultdict(<function sssp_cost.<locals>.<lambda> at 0x7f8b8826d800>, {10: 0, 5: 2, 7: 3, 8: 4, 3: 4})\n"
          ]
        }
      ]
    },
    {
      "cell_type": "markdown",
      "source": [
        "#prims algoritham"
      ],
      "metadata": {
        "id": "mlOtBmT-ChqG"
      }
    },
    {
      "cell_type": "code",
      "source": [
        "#BFS\n",
        "#prims\n",
        "\n",
        "\n",
        "#find the cost of min spanning tree   and path\n",
        "\n",
        "import heapq\n",
        "                                            #sir code\n",
        "def mst_prims(u):                        #finding the min cost\n",
        "  v=set()\n",
        "  mh=[(0,u)]\n",
        "  cost=0\n",
        "  while(mh):\n",
        "    curr_w,n=heapq.heappop(mh)\n",
        "    if n in v:\n",
        "      continue\n",
        "    v.add(n)\n",
        "    cost+=curr_w\n",
        "    for i,w in d[n]:\n",
        "      if(i not in v):\n",
        "        heapq.heappush(mh,(w,i))\n",
        "  print(cost)\n",
        "\n",
        "\n",
        "\n",
        "def mst_prims_print_path(u):         # printting the mst path\n",
        "  v=set()\n",
        "  mh=[(0,u)]\n",
        "  cost=0\n",
        "  ed=[]                         #added  a list\n",
        "  while(mh):\n",
        "    curr_w,n=heapq.heappop(mh)\n",
        "    if n in v:\n",
        "      continue\n",
        "    v.add(n)\n",
        "    cost+=curr_w\n",
        "    ed.append((n,curr_w))        #add\n",
        "    for i,w in d[n]:\n",
        "      if(i not in v):\n",
        "        heapq.heappush(mh,(w,i))\n",
        "  print(ed)\n",
        "\n",
        "\n",
        "a=[(10,5,2),(10,7,4),(5,7,1),(5,8,3),(5,3,2),(7,8,1),(8,3,1)]\n",
        "d=defaultdict(list)\n",
        "for i,j,w in a:\n",
        "  d[i].append([j,w])\n",
        "  d[j].append([i,w])\n",
        "# print(d)\n",
        "print(dict(d))\n",
        "\n",
        "mst_prims(10)              #print min cost\n",
        "mst_prims_print_path(10)   #print the path\n"
      ],
      "metadata": {
        "colab": {
          "base_uri": "https://localhost:8080/"
        },
        "id": "wlVpjxemCivH",
        "outputId": "2055f541-dfe5-4d82-8353-aaaa7b942767"
      },
      "execution_count": 3,
      "outputs": [
        {
          "output_type": "stream",
          "name": "stdout",
          "text": [
            "{10: [[5, 2], [7, 4]], 5: [[10, 2], [7, 1], [8, 3], [3, 2]], 7: [[10, 4], [5, 1], [8, 1]], 8: [[5, 3], [7, 1], [3, 1]], 3: [[5, 2], [8, 1]]}\n",
            "5\n",
            "[(10, 0), (5, 2), (7, 1), (8, 1), (3, 1)]\n"
          ]
        }
      ]
    },
    {
      "cell_type": "code",
      "source": [
        "from collections import defaultdict\n",
        "import heapq                                        #maruthi code\n",
        "d = defaultdict(list)\n",
        "graph = [\n",
        "    [10,5,2],[10,7,4],[5,7,1],[5,8,3],[5,10,2],\n",
        "    [5,3,2],[7,10,4],[7,5,1],[7,8,1],[8,5,3],\n",
        "    [8,7,1],[8,3,1],[3,8,1],[3,5,2]\n",
        "]\n",
        "for u,v,w in graph:\n",
        "    d[u].append((v, w))\n",
        "    d[v].append((u, w))\n",
        "start=10\n",
        "vi=set()\n",
        "minheap=[(0,start)]\n",
        "cost=0\n",
        "edg=[]\n",
        "while minheap:\n",
        "    wt,u=heapq.heappop(minheap)\n",
        "    if u in vi:\n",
        "        continue\n",
        "    vi.add(u)\n",
        "    cost+=wt\n",
        "    edg.append((u, wt))\n",
        "    for v, w in d[u]:\n",
        "        if v not in vi:\n",
        "            heapq.heappush(minheap,(w,v))\n",
        "print(cost)\n",
        "print(edg)"
      ],
      "metadata": {
        "colab": {
          "base_uri": "https://localhost:8080/"
        },
        "id": "d1lOOpwpCorA",
        "outputId": "18e9df6a-5e39-437a-a2ef-f968d5bd3315"
      },
      "execution_count": 4,
      "outputs": [
        {
          "output_type": "stream",
          "name": "stdout",
          "text": [
            "5\n",
            "[(10, 0), (5, 2), (7, 1), (8, 1), (3, 1)]\n"
          ]
        }
      ]
    },
    {
      "cell_type": "code",
      "source": [],
      "metadata": {
        "id": "kVa3ajFwCtcG"
      },
      "execution_count": null,
      "outputs": []
    }
  ]
}