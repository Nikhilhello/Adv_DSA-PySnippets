{
  "nbformat": 4,
  "nbformat_minor": 0,
  "metadata": {
    "colab": {
      "provenance": [],
      "authorship_tag": "ABX9TyMAGnJdZ4tk8xtxbkqpF4C+",
      "include_colab_link": true
    },
    "kernelspec": {
      "name": "python3",
      "display_name": "Python 3"
    },
    "language_info": {
      "name": "python"
    }
  },
  "cells": [
    {
      "cell_type": "markdown",
      "metadata": {
        "id": "view-in-github",
        "colab_type": "text"
      },
      "source": [
        "<a href=\"https://colab.research.google.com/github/Nikhilhello/Adv_DSA-PySnippets/blob/main/19_DP_I.ipynb\" target=\"_parent\"><img src=\"https://colab.research.google.com/assets/colab-badge.svg\" alt=\"Open In Colab\"/></a>"
      ]
    },
    {
      "cell_type": "markdown",
      "source": [
        "#19"
      ],
      "metadata": {
        "id": "998NBCqdDGTN"
      }
    },
    {
      "cell_type": "markdown",
      "source": [
        "#(fibono,----frog jump,---t=timmings p=earnings,---coins)"
      ],
      "metadata": {
        "id": "xza4_M-QDsgz"
      }
    },
    {
      "cell_type": "markdown",
      "source": [
        "#DP  (Dynamic Programming)"
      ],
      "metadata": {
        "id": "OiOcWLjADGP2"
      }
    },
    {
      "cell_type": "markdown",
      "source": [
        "**recurtion ,memorisation,tablulation**"
      ],
      "metadata": {
        "id": "xpfh7FQjDT2O"
      }
    },
    {
      "cell_type": "markdown",
      "source": [
        "💡 What is DP (Dynamic Programming)?\n",
        "Dynamic Programming (DP) is a problem-solving technique used to solve complex problems by breaking them down into simpler subproblems, solving each subproblem only once, and storing their solutions — so you don’t recompute them.\n",
        "\n",
        "<br>\n",
        "\n",
        "🚀 When Do You Use DP?\n",
        "You use DP when:\n",
        "\n",
        "Overlapping subproblems — The same subproblems appear again and again.\n",
        "\n",
        "Optimal substructure — The solution to a problem depends on the solution to its subproblems.\n",
        "\n",
        "<br>\n",
        "\n",
        "🧠 Classic Example: Climbing Stairs\n",
        "To climb to step n, you can:\n",
        "\n",
        "come from step n-1 (1 step)\n",
        "\n",
        "or from step n-2 (2 steps)\n",
        "\n",
        "So the number of ways to reach step n is:\n",
        "\n",
        "ways(n) = ways(n-1) + ways(n-2)\n",
        "This is like the Fibonacci sequence:\n",
        "\n",
        "ways(1) = 1\n",
        "\n",
        "ways(2) = 2\n",
        "\n",
        "ways(3) = ways(2) + ways(1) = 3\n",
        "\n",
        "Instead of solving the same subproblems over and over, we store them in a memo (dictionary or array) and reuse the results.\n",
        "\n",
        "<br>\n",
        "\n",
        "🔄 Two Types of DP                     \n",
        "Type\t-----------------Description-------------------------------\tExample Syntax              \n",
        "Top-Down  || Use recursion + memoization ||\tdp(n) = dp(n-1) + dp(n-2) with memo                    \n",
        "Bottom-Up\t|| Use iteration + tabulation (usually a loop) ||\tBuild up from base cases\n",
        "\n",
        "<br>\n",
        "\n",
        "✅ Why Use DP?               \n",
        "❌ Without DP: Exponential time due to repeated subproblems\n",
        "\n",
        "✅ With DP: Linear time (O(n)) because we solve each subproblem once\n",
        "\n"
      ],
      "metadata": {
        "id": "oYEnP3qmDTrq"
      }
    },
    {
      "cell_type": "code",
      "execution_count": 1,
      "metadata": {
        "colab": {
          "base_uri": "https://localhost:8080/"
        },
        "id": "rtDX67OpDDsb",
        "outputId": "936fd9b0-3744-457a-ab89-5d38c87c72c2"
      },
      "outputs": [
        {
          "output_type": "stream",
          "name": "stdout",
          "text": [
            "13\n"
          ]
        }
      ],
      "source": [
        "#Q1\n",
        "\n",
        "\n",
        "# def fibo(n):\n",
        "#   if(dp[n-1]!=-1):\n",
        "#     return dp[n-1]                      #Type 1\n",
        "#   # if(n==0):\n",
        "#   #   return 0\n",
        "#   # if (n==1):\n",
        "#   #   return 1\n",
        "#   dp[n-1]=fibo(n-1)+fibo(n-2)\n",
        "#   return dp[n-1]\n",
        "# dp=[1,1,-1,-1,-1,-1,-1]\n",
        "# fibo(7)\n",
        "# print(dp)\n",
        "\n",
        "\n",
        "# dp=[1,1]                                    #type 2\n",
        "# for i in range(2,7):\n",
        "#   dp.append (dp[i-1]+dp[i-2])\n",
        "# print(dp[7-1])                        #13\n",
        "# print(dp)\n",
        "\n",
        "\n",
        "f1=1                                         #type 3\n",
        "f2=1\n",
        "ans=0\n",
        "for i in range(2,7):\n",
        "  ans=f1+f2\n",
        "  f1=f2\n",
        "  f2=ans\n",
        "print(ans)      #13\n",
        "\n"
      ]
    },
    {
      "cell_type": "code",
      "source": [
        "# Q2\n",
        "\n",
        "#frog jump       #dp\n",
        "\n",
        "# a=[10,20,30,10]     # output :20\n",
        "\n",
        "\n",
        "def frog(n):                #memorization\n",
        "  if(n<=1):\n",
        "    return dp[n]\n",
        "  # dp[n]=min(frog(n-1)+dp[n-1]+abs(a[n]-a[n-1]),frog(n-2)+dp[n-2]+abs(a[n]-a[n-2]))\n",
        "  dp[n]=min(frog(n-1)+abs(a[n]-a[n-1]),frog(n-2)+abs(a[n]-a[n-2]))\n",
        "  return dp[n]\n",
        "\n",
        "\n",
        "# a=[10,20,30,10]\n",
        "# dp=[0,abs(a[1]-a[0]),0,0]\n",
        "# frog(3)\n",
        "# print(frog(1))\n",
        "# print(dp)\n",
        "\n",
        "a=[10,20,30,10,30,20,10]\n",
        "dp=[0,abs(a[1]-a[0]),0,0,0,0,0]\n",
        "frog(6)\n",
        "print(frog(6))\n",
        "print(dp)\n",
        "\n"
      ],
      "metadata": {
        "colab": {
          "base_uri": "https://localhost:8080/"
        },
        "id": "UfDu-l_dDlpD",
        "outputId": "6a55c6a2-8eb9-4a18-b0f1-b390aae2ac93"
      },
      "execution_count": 2,
      "outputs": [
        {
          "output_type": "stream",
          "name": "stdout",
          "text": [
            "40\n",
            "[0, 10, 20, 20, 20, 30, 40]\n"
          ]
        }
      ]
    },
    {
      "cell_type": "code",
      "source": [
        "#same problem         in                #tabulation\n",
        "\n",
        "a=[10,20,30,10,30,20,10]\n",
        "dp=[0]*len(a)\n",
        "dp[0]=0\n",
        "dp[1]=abs(a[1]-a[0])\n",
        "for i in range(2,len(a)):\n",
        "  dp[i]=min(dp[i-1]+abs(a[i]-a[i-1]),dp[i-2]+abs(a[i]-a[i-2]))\n",
        "print(dp)\n",
        "print(dp[-1])\n"
      ],
      "metadata": {
        "colab": {
          "base_uri": "https://localhost:8080/"
        },
        "id": "MWLqTemlDll6",
        "outputId": "cc153886-fdc0-4abc-a9a0-1041e02de538"
      },
      "execution_count": 3,
      "outputs": [
        {
          "output_type": "stream",
          "name": "stdout",
          "text": [
            "[0, 10, 20, 20, 20, 30, 40]\n",
            "40\n"
          ]
        }
      ]
    },
    {
      "cell_type": "code",
      "source": [
        "# for k jumps\n",
        "\n",
        "#same problem         for k jumps               #tabulation  for k jumps\n",
        "\n",
        "a=[10,20,30,10,30,20,10]\n",
        "dp=[99999]*len(a)\n",
        "dp[0]=0\n",
        "dp[1]=abs(a[1]-a[0])\n",
        "k=2   #don't  define\n",
        "for i in range(2,len(a)):\n",
        "  for j in range(1,k+1):                    #for the k jumps\n",
        "    temp=dp[i-j]+abs(a[i]-a[i-j])\n",
        "    dp[i]=min(dp[i],temp)\n",
        "  # dp[i]=min(dp[i-1]+abs(a[i]-a[i-1]),dp[i-2]+abs(a[i]-a[i-2]))  #this for know num of jumps\n",
        "print(dp)\n",
        "print(dp[-1])\n"
      ],
      "metadata": {
        "colab": {
          "base_uri": "https://localhost:8080/"
        },
        "id": "ifXrd7L-DlkY",
        "outputId": "42050de0-30be-4b91-9bad-1fad35e2e2d5"
      },
      "execution_count": 6,
      "outputs": [
        {
          "output_type": "stream",
          "name": "stdout",
          "text": [
            "[0, 10, 20, 20, 20, 30, 40]\n",
            "40\n"
          ]
        }
      ]
    },
    {
      "cell_type": "code",
      "source": [
        "# Q3\n",
        "# t=timmings ,p=earnings\n",
        "                                  #job\n",
        "\n",
        "t=[(1,3),(2,5),(4,6),(6,7),(5,8),(7,9)]\n",
        "p=[5,6,5,4,11,2]                             #printiing the max profit\n",
        "\n",
        "cost=[]\n",
        "for i in range(len(t)):                      #my code\n",
        "  max_p=p[i]\n",
        "  for j in range(i):\n",
        "    if (t[j][1]<=t[i][0]):\n",
        "      max_p=max(max_p,cost[j]+p[i])\n",
        "  cost.append(max_p)\n",
        "print(cost)\n",
        "print(max(cost))\n",
        "\n",
        "\n",
        "#------------------------------------------------------------------\n",
        "# t=[(1,3),(2,5),(4,6),(6,7),(5,8),(7,9)]            #sir code\n",
        "# p=[5,6,5,4,11,2]\n",
        "# dp=p.copy()                               #[5,6,5,4,11,2] copy and update the values\n",
        "# for j in range(1,len(p)):\n",
        "#   for i in range(j):\n",
        "#     if(t[i][1]<=t[j][0]):\n",
        "#       dp[j]=max(dp[j],dp[i]+p[j])\n",
        "# print(dp)                                   #[5, 6, 10, 14, 17, 16]\n",
        "# print(max(dp))                              #17\n",
        "\n"
      ],
      "metadata": {
        "colab": {
          "base_uri": "https://localhost:8080/"
        },
        "id": "fkUUPs6vDliS",
        "outputId": "41787f74-c5a2-453f-bee2-6a12067a30e0"
      },
      "execution_count": 7,
      "outputs": [
        {
          "output_type": "stream",
          "name": "stdout",
          "text": [
            "[5, 6, 10, 14, 17, 16]\n",
            "17\n"
          ]
        }
      ]
    },
    {
      "cell_type": "code",
      "source": [
        "# Q3\n",
        "\n",
        "# a=coins   , t=target     , if target is possible print yes else no    #subset sum\n",
        "\n",
        "a=[2,3,4,5]\n",
        "t=13\n",
        "\n",
        "\n",
        "coin=[2,3,4,5]\n",
        "amt=13\n",
        "dp=[[0]*(amt+1) for i in range(len(coin))]\n",
        "for i in range(len(coin)):\n",
        "  dp[i][0]=1\n",
        "dp[0][coin[0]]=1\n",
        "for i in range(1,len(coin)):\n",
        "  for j in range(1,amt+1):\n",
        "    if(j<coin[i]):\n",
        "      dp[i][j]=dp[i-1][j]          #1. copying the upper section untill j<amt\n",
        "    else:\n",
        "      if(dp[i-1][j]==1):           #2     check 1 or 0\n",
        "        dp[i][j]=dp[i-1][j]\n",
        "      else:\n",
        "        if(dp[i-1][j-coin[i]]==1):\n",
        "          dp[i][j]=1\n",
        "        else:\n",
        "          dp[i][j]=0\n",
        "for i in dp:     #print the dp\n",
        "  print(i)"
      ],
      "metadata": {
        "colab": {
          "base_uri": "https://localhost:8080/"
        },
        "id": "-POgetMnEOnV",
        "outputId": "5aff43b9-defe-4ffe-d221-8e1918e6aa3c"
      },
      "execution_count": 8,
      "outputs": [
        {
          "output_type": "stream",
          "name": "stdout",
          "text": [
            "[1, 0, 1, 0, 0, 0, 0, 0, 0, 0, 0, 0, 0, 0]\n",
            "[1, 0, 1, 1, 0, 1, 0, 0, 0, 0, 0, 0, 0, 0]\n",
            "[1, 0, 1, 1, 1, 1, 1, 1, 0, 1, 0, 0, 0, 0]\n",
            "[1, 0, 1, 1, 1, 1, 1, 1, 1, 1, 1, 1, 1, 0]\n"
          ]
        }
      ]
    },
    {
      "cell_type": "code",
      "source": [],
      "metadata": {
        "id": "YXPmkjaXEOkS"
      },
      "execution_count": null,
      "outputs": []
    }
  ]
}