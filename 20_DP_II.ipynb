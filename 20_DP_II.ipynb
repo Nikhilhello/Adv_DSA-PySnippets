{
  "nbformat": 4,
  "nbformat_minor": 0,
  "metadata": {
    "colab": {
      "provenance": [],
      "include_colab_link": true
    },
    "kernelspec": {
      "name": "python3",
      "display_name": "Python 3"
    },
    "language_info": {
      "name": "python"
    }
  },
  "cells": [
    {
      "cell_type": "markdown",
      "metadata": {
        "id": "view-in-github",
        "colab_type": "text"
      },
      "source": [
        "<a href=\"https://colab.research.google.com/github/Nikhilhello/Adv_DSA-PySnippets/blob/main/20_DP_II.ipynb\" target=\"_parent\"><img src=\"https://colab.research.google.com/assets/colab-badge.svg\" alt=\"Open In Colab\"/></a>"
      ]
    },
    {
      "cell_type": "markdown",
      "source": [
        "#20"
      ],
      "metadata": {
        "id": "RjV7qTlcEzDz"
      }
    },
    {
      "cell_type": "markdown",
      "source": [
        "#DP"
      ],
      "metadata": {
        "id": "p0DdVZoEFFMJ"
      }
    },
    {
      "cell_type": "markdown",
      "source": [
        "(coins,---min length of subset)"
      ],
      "metadata": {
        "id": "oGApfyuJEzAc"
      }
    },
    {
      "cell_type": "code",
      "execution_count": null,
      "metadata": {
        "colab": {
          "base_uri": "https://localhost:8080/"
        },
        "id": "SYhaimoSErF7",
        "outputId": "b614d339-1806-4a74-fc9d-e8a6dcc68954"
      },
      "outputs": [
        {
          "output_type": "stream",
          "name": "stdout",
          "text": [
            "no, not possible withs 13\n",
            "[1, 0, 1, 0, 0, 0, 0, 0, 0, 0, 0, 0, 0, 0]\n",
            "[1, 0, 1, 1, 0, 1, 0, 0, 0, 0, 0, 0, 0, 0]\n",
            "[1, 0, 1, 1, 1, 1, 1, 1, 0, 1, 0, 0, 0, 0]\n",
            "[1, 0, 1, 1, 1, 1, 1, 1, 1, 1, 1, 1, 1, 0]\n"
          ]
        }
      ],
      "source": [
        "# Q         #yestaday's\n",
        "\n",
        "# a=coins   , t=target     , #if target is possible print yes else no    #subset sum\n",
        "\n",
        "# a=[2,3,4,5]\n",
        "# t=13\n",
        "\n",
        "\n",
        "# coin=[2,3,4,5]\n",
        "# amt=13\n",
        "# dp=[]\n",
        "# for i in range(len(coin)):               #or   #dp=[[0]*(amt+1) for i in range(len(coin))]  #list comprehension\n",
        "#   dp.append([0]*(amt+1))\n",
        "# for i in dp:     #print the dp\n",
        "#   print(i)\n",
        "\n",
        "\n",
        "coin=[2,3,4,5]\n",
        "amt=13\n",
        "dp=[[0]*(amt+1) for i in range(len(coin))]\n",
        "for i in range(len(coin)):\n",
        "  dp[i][0]=1\n",
        "dp[0][coin[0]]=1\n",
        "for i in range(1,len(coin)):\n",
        "  for j in range(1,amt+1):\n",
        "    if(j<coin[i]):\n",
        "      dp[i][j]=dp[i-1][j]          #1\n",
        "    else:\n",
        "      dp[i][j]=dp[i-1][j] or dp[i-1][j-coin[i]]  #in one line\n",
        "\n",
        "      # if(dp[i-1][j]==1):           #2\n",
        "      #   dp[i][j]=dp[i-1][j]\n",
        "      # else:\n",
        "      #   if(dp[i-1][j-coin[i]]==1):\n",
        "      #     dp[i][j]=1\n",
        "      #   else:\n",
        "      #     dp[i][j]=0\n",
        "\n",
        "  if dp[i][amt]==1:\n",
        "    print(\"yes possible with\",amt)\n",
        "    break\n",
        "else:\n",
        "  print(\"no, not possible withs\", amt)\n",
        "\n",
        "for i in dp:     #print the dp\n",
        "  print(i)\n",
        "\n"
      ]
    },
    {
      "cell_type": "code",
      "source": [
        "# Q2\n",
        "\n",
        "#min length of subset whose sum is amt\n",
        "\n",
        "# a=[2,3,4,5]\n",
        "# amt=12  op=3 coins (3,4,5)\n",
        "# amt=5   op=1 coin --min(5,2+3)\n",
        "\n",
        "\n",
        "\n",
        "coin=[2,3,4,5]\n",
        "amt=12\n",
        "\n",
        "# if(amt>sum(coin)):      # u can use this\n",
        "#     print(False)\n",
        "# else:\n",
        "dp=[[0]*(amt+1) for i in range(len(coin))]\n",
        "dp[0][coin[0]]=1\n",
        "for i in range(1,len(coin)):\n",
        "  for j in range(1,amt+1):\n",
        "    if(j<coin[i]):\n",
        "      dp[i][j]=dp[i-1][j]      #coping\n",
        "    elif(coin[i]==j):\n",
        "      dp[i][j]=1\n",
        "    else:\n",
        "      if(dp[i-1][j]!=0 and dp[i-1][j-coin[i]]!=0):\n",
        "        dp[i][j]=min(dp[i-1][j],1+dp[i-1][j-coin[i]])\n",
        "      elif(dp[i-1][j]!=0):\n",
        "        dp[i][j]=dp[i-1][j]\n",
        "      elif(dp[i-1][j-coin[i]]!=0):\n",
        "        dp[i][j]=1+dp[i-1][j-coin[i]]\n",
        "\n",
        "print(dp[-1][-1],\"coins\")            #number of coins\n",
        "for i in dp:\n",
        "  print(i)\n"
      ],
      "metadata": {
        "colab": {
          "base_uri": "https://localhost:8080/"
        },
        "id": "cfrBFES8FKfN",
        "outputId": "0d9fdd73-4216-4716-ed85-7a0c107e30c9"
      },
      "execution_count": null,
      "outputs": [
        {
          "output_type": "stream",
          "name": "stdout",
          "text": [
            "3 coins\n",
            "[0, 0, 1, 0, 0, 0, 0, 0, 0, 0, 0, 0, 0]\n",
            "[0, 0, 1, 1, 0, 2, 0, 0, 0, 0, 0, 0, 0]\n",
            "[0, 0, 1, 1, 1, 2, 2, 2, 0, 3, 0, 0, 0]\n",
            "[0, 0, 1, 1, 1, 1, 2, 2, 2, 2, 3, 3, 3]\n"
          ]
        }
      ]
    },
    {
      "cell_type": "code",
      "source": [
        "# Q3\n",
        "\n",
        "#if target is possible print yes else no\n",
        "#each has inf coins\n",
        "# a=[2,3,4,5]  #amt=12   #----------->each has inf coins<----------\n",
        "\n",
        "\n",
        "coin=[2,3,4,5]\n",
        "amt=12\n",
        "dp=[[0]*(amt+1) for i in range(len(coin))]               #----2d matrix\n",
        "for i in range(len(coin)):\n",
        "  dp[i][0]=1\n",
        "# dp[0][coin[0]]=1\n",
        "for i in range(coin[0],amt+1):\n",
        "  dp[0][i]=dp[0][i-coin[0]]\n",
        "\n",
        "for i in range(1,len(coin)):\n",
        "  for j in range(1,amt+1):\n",
        "    if(j<coin[i]):\n",
        "      dp[i][j]=dp[i-1][j]\n",
        "    else:\n",
        "      dp[i][j]=dp[i-1][j] or dp[i][j-coin[i]]\n",
        "\n",
        "\n",
        "print(\"---using 2D matrix---\")\n",
        "for i in dp:     #print the dp\n",
        "  print(i)\n",
        "\n",
        "if dp[-1][amt]==1:\n",
        "  print(\"yes possible with\",amt)\n",
        "else:\n",
        "  print(\"no, not possible withs\", amt)\n",
        "\n",
        "\n",
        "print(\"---------------------------------------------------\")\n",
        "\n",
        "#-----------------------------------------------------------------------------------------------------------------------------------------\n",
        "# using 1d matrix\n",
        "\n",
        "coin=[2,3,4,5]\n",
        "amt=13\n",
        "dp=[0]*(amt+1)\n",
        "for i in range(len(coin)):\n",
        "  for j in range (coin[i],amt+1):\n",
        "    if (j==coin[i]):\n",
        "      dp[j]=1\n",
        "    if (dp[j]!=0 and dp[j-coin[i]]!=0):\n",
        "      dp[j]=min(dp[j],1+dp[j-coin[i]])\n",
        "    elif (dp[j-coin[i]]!=0):\n",
        "      dp[j]=dp[j-coin[i]]+1\n",
        "  # print(dp)\n",
        "\n",
        "print(\"---using 1D matrix---\")\n",
        "print(dp)\n",
        "\n",
        "if dp[-1]>0:\n",
        "  print(\"yes possible with\",amt)\n",
        "else:\n",
        "  print(\"no, not possible withs\", amt)\n"
      ],
      "metadata": {
        "colab": {
          "base_uri": "https://localhost:8080/"
        },
        "id": "FhlpDjdcFKb8",
        "outputId": "5d6be18f-b2ee-4ea9-b7a9-891a3e780f00"
      },
      "execution_count": null,
      "outputs": [
        {
          "output_type": "stream",
          "name": "stdout",
          "text": [
            "---using 2D matrix---\n",
            "[1, 0, 1, 0, 1, 0, 1, 0, 1, 0, 1, 0, 1]\n",
            "[1, 0, 1, 1, 1, 1, 1, 1, 1, 1, 1, 1, 1]\n",
            "[1, 0, 1, 1, 1, 1, 1, 1, 1, 1, 1, 1, 1]\n",
            "[1, 0, 1, 1, 1, 1, 1, 1, 1, 1, 1, 1, 1]\n",
            "yes possible with 12\n",
            "---------------------------------------------------\n",
            "---using 1D matrix---\n",
            "[0, 0, 1, 1, 1, 1, 2, 2, 2, 2, 2, 3, 3, 3]\n",
            "yes possible with 13\n"
          ]
        }
      ]
    },
    {
      "cell_type": "code",
      "source": [
        "# Q4\n",
        "\n",
        "\n",
        "\n",
        "a=\n",
        "b="
      ],
      "metadata": {
        "id": "ayVWgTOvFKag"
      },
      "execution_count": null,
      "outputs": []
    },
    {
      "cell_type": "markdown",
      "source": [
        "#Trie"
      ],
      "metadata": {
        "id": "dDU4HjRFGBcM"
      }
    },
    {
      "cell_type": "code",
      "source": [
        "# Trie"
      ],
      "metadata": {
        "id": "zNBL8FMpFKYc"
      },
      "execution_count": null,
      "outputs": []
    },
    {
      "cell_type": "code",
      "source": [
        "# trie DS\n",
        "\n",
        "# one is dict and one is flag val\n",
        "\n",
        "class node:\n",
        "  def __init__(self):\n",
        "    self.data={}\n",
        "    self.flag=False\n",
        "    self.count\n"
      ],
      "metadata": {
        "id": "U8CyNxH4GD2l"
      },
      "execution_count": null,
      "outputs": []
    },
    {
      "cell_type": "code",
      "source": [
        "# prompt: # trie DS\n",
        "# # one is dict and one is flag val\n",
        "# class node:\n",
        "#   def __init__(self):\n",
        "#     self.data={}\n",
        "#     self.flag=False\n",
        "#     self.count\n",
        "\n",
        "class node:\n",
        "  def __init__(self):\n",
        "    self.data={}\n",
        "    self.flag=False\n",
        "    # self.count # Removed count as it was not initialized and not used in typical Trie implementations\n",
        "\n",
        "class Trie:\n",
        "  def __init__(self):\n",
        "    self.root = node()\n",
        "\n",
        "  def insert(self, word):\n",
        "    t = self.root\n",
        "    for i in word:\n",
        "      if i not in t.data:\n",
        "        t.data[i] = node()\n",
        "      t = t.data[i]\n",
        "    t.flag = True\n",
        "\n",
        "  def search(self, word):\n",
        "    t = self.root\n",
        "    for i in word:\n",
        "      if i not in t.data:\n",
        "        return False\n",
        "      t = t.data[i]\n",
        "    return t.flag\n",
        "\n",
        "  def startsWith(self, prefix):\n",
        "    t = self.root\n",
        "    for i in prefix:\n",
        "      if i not in t.data:\n",
        "        return False\n",
        "      t = t.data[i]\n",
        "    return True\n",
        "\n",
        "  # Optional: Function to collect all words in the trie (for demonstration)\n",
        "  def collect_words(self, node, word, word_list):\n",
        "    if node.flag:\n",
        "      word_list.append(word)\n",
        "    for char, next_node in node.data.items():\n",
        "      self.collect_words(next_node, word + char, word_list)\n",
        "\n",
        "  def get_all_words(self):\n",
        "    word_list = []\n",
        "    self.collect_words(self.root, \"\", word_list)\n",
        "    return word_list\n",
        "\n",
        "# Example usage:\n",
        "trie = Trie()\n",
        "trie.insert(\"apple\")\n",
        "trie.insert(\"app\")\n",
        "trie.insert(\"banana\")\n",
        "\n",
        "print(trie.search(\"apple\"))     # Output: True\n",
        "print(trie.search(\"app\"))       # Output: True\n",
        "print(trie.search(\"ap\"))        # Output: False\n",
        "print(trie.search(\"banana\"))    # Output: True\n",
        "print(trie.startsWith(\"app\"))   # Output: True\n",
        "print(trie.startsWith(\"ban\"))   # Output: True\n",
        "print(trie.startsWith(\"grape\")) # Output: False\n",
        "\n",
        "print(\"All words in the trie:\", trie.get_all_words())\n",
        "\n"
      ],
      "metadata": {
        "colab": {
          "base_uri": "https://localhost:8080/"
        },
        "id": "FZ1iVjFwGG1t",
        "outputId": "b10122a9-2b78-4d9f-eff9-6ece0ff3649a"
      },
      "execution_count": null,
      "outputs": [
        {
          "output_type": "stream",
          "name": "stdout",
          "text": [
            "True\n",
            "True\n",
            "False\n",
            "True\n",
            "True\n",
            "True\n",
            "False\n",
            "All words in the trie: ['app', 'apple', 'banana']\n"
          ]
        }
      ]
    }
  ]
}