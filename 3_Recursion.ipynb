{
  "nbformat": 4,
  "nbformat_minor": 0,
  "metadata": {
    "colab": {
      "provenance": []
    },
    "kernelspec": {
      "name": "python3",
      "display_name": "Python 3"
    },
    "language_info": {
      "name": "python"
    }
  },
  "cells": [
    {
      "cell_type": "markdown",
      "source": [
        "#3"
      ],
      "metadata": {
        "id": "4S6CfzJ1o-Ln"
      }
    },
    {
      "cell_type": "markdown",
      "source": [
        "#Recursion(sum of even, reverse of a number, fibonacci, prime number)"
      ],
      "metadata": {
        "id": "rPJqPzo-pkDQ"
      }
    },
    {
      "cell_type": "code",
      "execution_count": null,
      "metadata": {
        "id": "u4VMa7Z_o52X",
        "colab": {
          "base_uri": "https://localhost:8080/"
        },
        "outputId": "10559728-7ee1-452b-f699-6e49b63b3fe8"
      },
      "outputs": [
        {
          "output_type": "stream",
          "name": "stdout",
          "text": [
            "20\n"
          ]
        }
      ],
      "source": [
        "#Recursion`     ----sum of only even numbers\n",
        "\n",
        "def even_sum(a,i=0):             #my\n",
        "  c=0\n",
        "  if i>=len(a):\n",
        "    return 0\n",
        "  if a[i]%2 ==0:\n",
        "    c = a[i]\n",
        "    return c+ even_sum(a,i+1)\n",
        "  return even_sum(a,i+1)   # else: step forword\n",
        "\n",
        "a=[2,5,6,7,2,1,4,3,6]\n",
        "print(even_sum(a))\n",
        "\n",
        "\n",
        "# def even_sum(x,i):\n",
        "#   if (i==len(x)):\n",
        "#     return 0\n",
        "#   return x[i]+even_sum(x,i+1)  #adding all ---sum all\n",
        "# x=[2,5,6,7,2,1,4,3,6]\n",
        "# print(even_sum(x,0))\n"
      ]
    },
    {
      "cell_type": "code",
      "source": [
        "#Recursion     ----sum of only even numbers\n",
        "def even_sum(x,i):\n",
        "  if (i==len(x)):                       #O(n)space and time comp          sir code\n",
        "    return 0\n",
        "  if x[i]%2==0:\n",
        "    return x[i]+even_sum(x,i+1)\n",
        "  return even_sum(x,i+1)\n",
        "x=[2,5,6,7,2,1,4,3,6]\n",
        "print(even_sum(x,0))"
      ],
      "metadata": {
        "colab": {
          "base_uri": "https://localhost:8080/"
        },
        "id": "H3J_m5IFrCvN",
        "outputId": "2773b670-af65-491e-8009-25528cc75e84"
      },
      "execution_count": null,
      "outputs": [
        {
          "output_type": "stream",
          "name": "stdout",
          "text": [
            "20\n"
          ]
        }
      ]
    },
    {
      "cell_type": "markdown",
      "source": [
        "**fibonacci**"
      ],
      "metadata": {
        "id": "Hjyj2BCXrOCf"
      }
    },
    {
      "cell_type": "code",
      "source": [
        "#fibonacci\n",
        "def qw(x):\n",
        "  if (x==1):\n",
        "    return 1\n",
        "  if(x==2):\n",
        "    return 1\n",
        "  return qw(x-1)+qw(x-2)\n",
        "b=qw(int(input()))\n",
        "print(b)\n"
      ],
      "metadata": {
        "colab": {
          "base_uri": "https://localhost:8080/"
        },
        "id": "6YIBqj3urCr8",
        "outputId": "9b9a5b8d-aa0c-4125-be8f-2d582f44d1b4"
      },
      "execution_count": null,
      "outputs": [
        {
          "output_type": "stream",
          "name": "stdout",
          "text": [
            "8\n",
            "21\n"
          ]
        }
      ]
    },
    {
      "cell_type": "code",
      "source": [
        "##fibonacci\n",
        "# def qw(x):\n",
        "#   if (x==1):\n",
        "#     return 1\n",
        "#   if(x==2):\n",
        "#     return 1\n",
        "#   return qw(x-1)+qw(x-2)\n",
        "# b=qw(int(input()))\n",
        "# print(b)\n",
        "# i need  fibonacci up to x, i the format of the above code using recurtion\n",
        "\n",
        "def fibonacci(n):\n",
        "  if n <= 0:\n",
        "    return []\n",
        "  elif n == 1:\n",
        "    return [0]\n",
        "  else:\n",
        "    list_fib = [0, 1]\n",
        "    while len(list_fib) < n:\n",
        "      next_fib = list_fib[-1] + list_fib[-2]\n",
        "      list_fib.append(next_fib)\n",
        "    return list_fib\n",
        "\n",
        "x = int(input())\n",
        "print(fibonacci(x))\n"
      ],
      "metadata": {
        "id": "stCfC3csrLpn"
      },
      "execution_count": null,
      "outputs": []
    },
    {
      "cell_type": "markdown",
      "source": [
        "program to find the Nth Fibonacci number using iteration (not recursion)."
      ],
      "metadata": {
        "id": "_QQd6aQRu-X8"
      }
    },
    {
      "cell_type": "code",
      "source": [
        "# do not use recursion where it is unnecessary\n",
        "n = int(input(\"Enter the value of n: \"))\n",
        "if n <= 0:\n",
        "    print(\"Invalid input! n must be at least 1.\")\n",
        "elif n == 1:\n",
        "    print(0)\n",
        "else:\n",
        "    a = [0] * n\n",
        "    a[0], a[1] = 0, 1\n",
        "    for i in range(2, n):\n",
        "        a[i] = a[i-1] + a[i-2]\n",
        "    print(a[n-1])                       #1 1 2 3 5 8 13"
      ],
      "metadata": {
        "colab": {
          "base_uri": "https://localhost:8080/"
        },
        "id": "mCInCYknu9_R",
        "outputId": "da9beff8-3fb0-46fd-b9c7-6789b9e0618c"
      },
      "execution_count": null,
      "outputs": [
        {
          "output_type": "stream",
          "name": "stdout",
          "text": [
            "Enter the value of n: 5\n",
            "3\n"
          ]
        }
      ]
    },
    {
      "cell_type": "markdown",
      "source": [
        "**reverse of a number**"
      ],
      "metadata": {
        "id": "P6UI14MYrSf3"
      }
    },
    {
      "cell_type": "code",
      "source": [
        "  #-------------      reverse of a number\n",
        "# n=123456          #without function and Recursion\n",
        "# re=0\n",
        "# while (n!=0):\n",
        "#   b=n%10\n",
        "#   re=re*10+b\n",
        "#   n=n//10\n",
        "# print(re)\n",
        "\n",
        "def rev(n,re=0):   #using function and Recursion\n",
        "    if(n==0):\n",
        "      return re\n",
        "    # b=n%10\n",
        "    re=re*10+n%10\n",
        "    return rev(n//10,re)\n",
        "print(rev(int(input())))"
      ],
      "metadata": {
        "colab": {
          "base_uri": "https://localhost:8080/"
        },
        "id": "AYx-00FXrQUB",
        "outputId": "64454683-7623-4e86-8983-cbaa8743b815"
      },
      "execution_count": null,
      "outputs": [
        {
          "output_type": "stream",
          "name": "stdout",
          "text": [
            "159\n",
            "951\n"
          ]
        }
      ]
    },
    {
      "cell_type": "markdown",
      "source": [
        "#prime number"
      ],
      "metadata": {
        "id": "MV25vRUhrigl"
      }
    },
    {
      "cell_type": "code",
      "source": [
        "# prime number\n",
        "\n",
        "# prime num -----------without using function  without Recursion\n",
        "n=12\n",
        "for i in range(2,(n//2)+1):\n",
        "  if(n%i==0):\n",
        "    print(\"not prime\")\n",
        "    break\n",
        "else:\n",
        "  print(\"prime\")"
      ],
      "metadata": {
        "colab": {
          "base_uri": "https://localhost:8080/"
        },
        "id": "N3qb-qSkrQQd",
        "outputId": "1c516dbd-cb82-489b-eee8-e416b913ca9e"
      },
      "execution_count": null,
      "outputs": [
        {
          "output_type": "stream",
          "name": "stdout",
          "text": [
            "not prime\n"
          ]
        }
      ]
    },
    {
      "cell_type": "code",
      "source": [
        "# prime num ----------- using function  and  Recursion\n",
        "# find the count of (prime numbers)                      #.....................\n",
        "# def pr(a[]):\n",
        "\n",
        "\n",
        "\n",
        "\n",
        "\n",
        "\n",
        "\n",
        "\n",
        "\n",
        "def is_prime(n, i=2):\n",
        "    # Base cases\n",
        "    if n <= 2:\n",
        "        return True if n == 2 else False\n",
        "    if n % i == 0:\n",
        "        return False\n",
        "    if i * i > n:\n",
        "        return True\n",
        "    # Recursive call\n",
        "    return is_prime(n, i + 1)\n",
        "\n",
        "def count_primes(arr):\n",
        "    count = 0\n",
        "    for num in arr:\n",
        "        if is_prime(num):\n",
        "            count += 1\n",
        "    return count\n",
        "\n",
        "# Example usage\n",
        "numbers = list(map(int, input(\"Enter numbers separated by space: \").split()))\n",
        "result = count_primes(numbers)\n",
        "print(\"Count of prime numbers:\", result)\n"
      ],
      "metadata": {
        "colab": {
          "base_uri": "https://localhost:8080/"
        },
        "id": "S3lLeBnXrQOl",
        "outputId": "ee8e31a7-d4e1-4876-8407-caca5154002d"
      },
      "execution_count": null,
      "outputs": [
        {
          "output_type": "stream",
          "name": "stdout",
          "text": [
            "Enter numbers separated by space: 25\n",
            "Count of prime numbers: 0\n"
          ]
        }
      ]
    },
    {
      "cell_type": "code",
      "source": [
        "def is_prime(i,x):                     #sir code #............  not full code\n",
        "  if(i==(x//2)+1):\n",
        "\n",
        "  return False\n",
        "return is_prime\n",
        "\n",
        "def count_p(x,i,c):\n",
        "  if(i==len(x)):\n",
        "    return c\n",
        "  if(is_prime(2,x)):\n",
        "\n",
        "\n",
        "\n",
        "a=[13,17,21,23,22,7,29]\n",
        "count_p(a,0,0)"
      ],
      "metadata": {
        "id": "Wfn_v5wjskhV"
      },
      "execution_count": null,
      "outputs": []
    },
    {
      "cell_type": "code",
      "source": [
        "def is_prime(n, i=2):                #full code\n",
        "    # Base cases\n",
        "    if n <= 2:\n",
        "        return True if n == 2 else False\n",
        "    if n % i == 0:\n",
        "        return False\n",
        "    if i > n // 2:\n",
        "        return True\n",
        "    # Recursive call\n",
        "    return is_prime(n, i + 1)\n",
        "\n",
        "def count_p(arr, i, c):\n",
        "    # If reached end of list, return count\n",
        "    if i == len(arr):\n",
        "        return c\n",
        "    # Check if current element is prime\n",
        "    if is_prime(arr[i]):\n",
        "        c += 1\n",
        "    # Recursive call for next index\n",
        "    return count_p(arr, i + 1, c)\n",
        "\n",
        "# Example list\n",
        "a = [13, 17, 21, 23, 22, 7, 29]\n",
        "result = count_p(a, 0, 0)\n",
        "print(\"Count of prime numbers:\", result)\n"
      ],
      "metadata": {
        "colab": {
          "base_uri": "https://localhost:8080/"
        },
        "id": "taPEvrcCse3K",
        "outputId": "f00e5e03-9d5d-4095-83f4-c907ca0a213b"
      },
      "execution_count": null,
      "outputs": [
        {
          "output_type": "stream",
          "name": "stdout",
          "text": [
            "Count of prime numbers: 5\n"
          ]
        }
      ]
    },
    {
      "cell_type": "markdown",
      "source": [
        "write a program to determine whether it is possible to repeatedly subtract either n or m from x and eventually reach exactly 1."
      ],
      "metadata": {
        "id": "w5xm1T0QseRk"
      }
    },
    {
      "cell_type": "code",
      "source": [
        "# input is                                            #weathe it is subtacting\n",
        "# 20\n",
        "# 3\n",
        "# 5     should reaching 1\n",
        "\n",
        "# output is true or fales\n",
        "\n",
        "def qw(x,n,m):\n",
        "  if (x==1):\n",
        "    return True\n",
        "  if(x<1):\n",
        "    return False\n",
        "  return qw(x-n,n,m) or qw(x-m,n,m)\n",
        "\n",
        "x=20\n",
        "n=3\n",
        "m=5\n",
        "print(qw(x,n,m))"
      ],
      "metadata": {
        "colab": {
          "base_uri": "https://localhost:8080/"
        },
        "id": "0ng7j3qRtHF8",
        "outputId": "86ff08f5-3f9c-4979-b263-bd75e0254d37"
      },
      "execution_count": null,
      "outputs": [
        {
          "output_type": "stream",
          "name": "stdout",
          "text": [
            "True\n"
          ]
        }
      ]
    },
    {
      "cell_type": "code",
      "source": [
        "# if it is true how many times it is subtacting\n",
        "\n",
        "def qw(x, n, m, count_n=0, count_m=0):\n",
        "    if x == 1:\n",
        "        print(f\"Subtracted {count_n} times by {n} and {count_m} times by {m}\")\n",
        "        return True\n",
        "    if x < 1:\n",
        "        return False\n",
        "\n",
        "    return qw(x - n, n, m, count_n + 1, count_m) or qw(x - m, n, m, count_n, count_m + 1)\n",
        "\n",
        "x = 20\n",
        "n = 3\n",
        "m = 5\n",
        "print(qw(x, n, m))\n"
      ],
      "metadata": {
        "colab": {
          "base_uri": "https://localhost:8080/"
        },
        "id": "NyhGFXhXtKsA",
        "outputId": "0173d3af-000a-4ea0-a666-da242eafdc84"
      },
      "execution_count": null,
      "outputs": [
        {
          "output_type": "stream",
          "name": "stdout",
          "text": [
            "Subtracted 3 times by 3 and 2 times by 5\n",
            "True\n"
          ]
        }
      ]
    },
    {
      "cell_type": "markdown",
      "source": [
        "**BFS and DFS**"
      ],
      "metadata": {
        "id": "PLtcKMUOtOLZ"
      }
    },
    {
      "cell_type": "code",
      "source": [
        "#dfs"
      ],
      "metadata": {
        "id": "HgnK1r-YtNxn"
      },
      "execution_count": null,
      "outputs": []
    },
    {
      "cell_type": "markdown",
      "source": [
        "bfs is less time consuming than dfs. but when shortest path or longest path type dfs is better"
      ],
      "metadata": {
        "id": "9igFV4CluVyS"
      }
    },
    {
      "cell_type": "code",
      "source": [],
      "metadata": {
        "id": "ZF09_koxuVRF"
      },
      "execution_count": null,
      "outputs": []
    },
    {
      "cell_type": "code",
      "source": [
        "aa=[8,2,5,6,9,6,2]\n",
        "b=list(set(aa))\n",
        "print(b)"
      ],
      "metadata": {
        "colab": {
          "base_uri": "https://localhost:8080/"
        },
        "id": "1Xwqq_zFtUbi",
        "outputId": "54e7efe1-d668-4556-cb18-3ed82366d77d"
      },
      "execution_count": null,
      "outputs": [
        {
          "output_type": "stream",
          "name": "stdout",
          "text": [
            "[2, 5, 6, 8, 9]\n"
          ]
        }
      ]
    },
    {
      "cell_type": "code",
      "source": [
        "# do not use recursion where it is unnecessary\n",
        "n = int(input(\"Enter the value of n: \"))\n",
        "if n <= 0:\n",
        "    print(\"Invalid input! n must be at least 1.\")\n",
        "elif n == 1:\n",
        "    print(0)\n",
        "else:\n",
        "    a = [0] * n\n",
        "    a[0], a[1] = 0, 1\n",
        "    for i in range(2, n):\n",
        "        a[i] = a[i-1] + a[i-2]\n",
        "    print(a[n-1])"
      ],
      "metadata": {
        "colab": {
          "base_uri": "https://localhost:8080/"
        },
        "id": "HaVoMJnQun4D",
        "outputId": "f26c847d-cd94-43ef-c60c-63283ad4a9fc"
      },
      "execution_count": null,
      "outputs": [
        {
          "output_type": "stream",
          "name": "stdout",
          "text": [
            "Enter the value of n: 5\n",
            "3\n"
          ]
        }
      ]
    }
  ]
}