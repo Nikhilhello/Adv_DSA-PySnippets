{
  "nbformat": 4,
  "nbformat_minor": 0,
  "metadata": {
    "colab": {
      "provenance": []
    },
    "kernelspec": {
      "name": "python3",
      "display_name": "Python 3"
    },
    "language_info": {
      "name": "python"
    }
  },
  "cells": [
    {
      "cell_type": "markdown",
      "source": [
        "#4"
      ],
      "metadata": {
        "id": "9iBebbgdwtco"
      }
    },
    {
      "cell_type": "markdown",
      "source": [
        "Algorithm Design Techniques or Problem Solving Paradigms.\n",
        "\n"
      ],
      "metadata": {
        "id": "7v47fJIw6Nme"
      }
    },
    {
      "cell_type": "markdown",
      "source": [
        "#(subset, subset sum ,..greedy...)"
      ],
      "metadata": {
        "id": "frB0RDZAwtZG"
      }
    },
    {
      "cell_type": "markdown",
      "source": [
        "**Counts the occurrences of a key in a list using recursion**"
      ],
      "metadata": {
        "id": "8FVeaBWtw3yk"
      }
    },
    {
      "cell_type": "code",
      "execution_count": 1,
      "metadata": {
        "colab": {
          "base_uri": "https://localhost:8080/"
        },
        "id": "J6Nr4fr5wrUy",
        "outputId": "bdec317b-0e7f-4b25-eb29-f66c5cc61691"
      },
      "outputs": [
        {
          "output_type": "stream",
          "name": "stdout",
          "text": [
            "4\n"
          ]
        }
      ],
      "source": [
        "# given an array\n",
        "from collections import Counter                            # basic code\n",
        "a = [2, 4, 6, 3, 3, 2, 6, 1, 2, 3, 6, 6, 5]\n",
        "k = 6\n",
        "d = dict(Counter(a))\n",
        "for key, val in d.items():\n",
        "  if key == k:\n",
        "    print(val)\n"
      ]
    },
    {
      "cell_type": "code",
      "source": [
        "from collections import Counter     #basic code\n",
        "\n",
        "a = [2, 4, 6, 3, 3, 2, 6, 1, 2, 3, 6, 6, 5]\n",
        "k = 6\n",
        "d = dict(Counter(a))\n",
        "print(d.get(k, 0))\n"
      ],
      "metadata": {
        "colab": {
          "base_uri": "https://localhost:8080/"
        },
        "id": "YHbMQGK1xCLL",
        "outputId": "9931c23e-5e1d-4a53-f770-defa87ac8e83"
      },
      "execution_count": 2,
      "outputs": [
        {
          "output_type": "stream",
          "name": "stdout",
          "text": [
            "4\n"
          ]
        }
      ]
    },
    {
      "cell_type": "code",
      "source": [
        "# using functions without loops\n",
        "\n",
        "from collections import Counter\n",
        "\n",
        "def count_occurrences(data, key):\n",
        "  counts = dict(Counter(data))\n",
        "  return counts.get(key, 0)\n",
        "a = [2, 4, 6, 3, 3, 2, 6, 1, 2, 3, 6, 6, 5]\n",
        "k = 6\n",
        "occurrences = count_occurrences(a, k)\n",
        "occurrences\n"
      ],
      "metadata": {
        "colab": {
          "base_uri": "https://localhost:8080/"
        },
        "id": "wZz9N9-QxCHn",
        "outputId": "9351f57a-2e55-4881-dd7f-a8ae34fddf02"
      },
      "execution_count": 3,
      "outputs": [
        {
          "output_type": "execute_result",
          "data": {
            "text/plain": [
              "4"
            ]
          },
          "metadata": {},
          "execution_count": 3
        }
      ]
    },
    {
      "cell_type": "code",
      "source": [
        "# -------------------using recurtion--------------------------\n",
        "#Counts the occurrences of a key in a list using recursion\n",
        "#find the val using  key is given     -------------#using dict\n",
        "def value(x,f,d,i=0):            #sir code\n",
        "  if(i==len(x)):\n",
        "    return \"not found\"\n",
        "  if (d[x[i]]==f):\n",
        "    return x[i]\n",
        "  return value(x,f,d,i+1)\n",
        "\n",
        "def feq_d(x, f, d=None, i=0):\n",
        "    if d is None:\n",
        "        d = {}\n",
        "    if i == len(x):\n",
        "        return value(list(d.keys()), f, d)\n",
        "\n",
        "    if x[i] not in d:\n",
        "        d[x[i]] = 1\n",
        "    else:\n",
        "        d[x[i]] += 1\n",
        "\n",
        "    return feq_d(x, f, d, i + 1)\n",
        "\n",
        "# Example usage\n",
        "a = [2, 4, 6, 3, 3, 2, 6, 1, 2, 3, 6, 6, 5]\n",
        "f = 3\n",
        "print(feq_d(a, f))  # Output: 2 (because 2 appears 3 times)\n",
        "\n"
      ],
      "metadata": {
        "colab": {
          "base_uri": "https://localhost:8080/"
        },
        "id": "e8TEu3i9xCB6",
        "outputId": "8ab25ebc-5e49-4cc8-e814-108605c4ef4f"
      },
      "execution_count": 7,
      "outputs": [
        {
          "output_type": "stream",
          "name": "stdout",
          "text": [
            "2\n"
          ]
        }
      ]
    },
    {
      "cell_type": "code",
      "source": [
        "# -------------------using recurtion--------------------------\n",
        "#Counts the occurrences of a key in a list using recursion\n",
        "#find the val using  key is given\n",
        "\n",
        "from collections import Counter       #my\n",
        "\n",
        "def count_o(a, k, index=0):\n",
        "  if index == len(a):\n",
        "    return 0\n",
        "  count = 0\n",
        "  if a[index] == k:\n",
        "    count = 1\n",
        "\n",
        "  return count + count_o(a, k, index + 1)\n",
        "\n",
        "a = [2, 4, 6, 3, 3, 2, 6, 1, 2, 3, 6, 6, 5]\n",
        "k = 6\n",
        "occur = count_o(a, k)\n",
        "occur\n"
      ],
      "metadata": {
        "colab": {
          "base_uri": "https://localhost:8080/"
        },
        "id": "pjUy3Z2txB-c",
        "outputId": "20e2f232-4f6e-4766-e3f0-58e1a3816740"
      },
      "execution_count": 5,
      "outputs": [
        {
          "output_type": "execute_result",
          "data": {
            "text/plain": [
              "4"
            ]
          },
          "metadata": {},
          "execution_count": 5
        }
      ]
    },
    {
      "cell_type": "code",
      "source": [
        "def freq(a,x,i,c):              #sir code\n",
        "    if (i == len(a)):       # this is--- counter parameretzied recurtion #not working (edit it)\n",
        "      return c\n",
        "    if a[i]==x:\n",
        "      return freq(a,x,i+1,c)\n",
        "    else:\n",
        "      return freq(a,x,i+1,c+1)\n",
        "a = [2, 4, 6, 3, 3, 2, 6, 1, 2, 3, 6, 6, 5]\n",
        "k = 6\n",
        "print(freq(a,k,0,0))"
      ],
      "metadata": {
        "colab": {
          "base_uri": "https://localhost:8080/"
        },
        "id": "kp8TO08AxB80",
        "outputId": "f6cd491a-be3d-4b3e-9f4e-e8b9ba9e0820"
      },
      "execution_count": 8,
      "outputs": [
        {
          "output_type": "stream",
          "name": "stdout",
          "text": [
            "9\n"
          ]
        }
      ]
    },
    {
      "cell_type": "code",
      "source": [
        "def freq(a, x, i, c):  # Parameterized recursion\n",
        "    if i == len(a):\n",
        "        return c\n",
        "    if a[i] == x:\n",
        "        return freq(a, x, i + 1, c + 1)\n",
        "    else:\n",
        "        return freq(a, x, i + 1, c)\n",
        "\n",
        "# Example usage\n",
        "a = [2, 4, 6, 3, 3, 2, 6, 1, 2, 3, 6, 6, 5]\n",
        "k = 6\n",
        "print(freq(a, k, 0, 0))  # Output: 4\n"
      ],
      "metadata": {
        "colab": {
          "base_uri": "https://localhost:8080/"
        },
        "id": "xvldgrayxB7e",
        "outputId": "0887ffcb-395a-4ede-b32d-f27b5c18a574"
      },
      "execution_count": 9,
      "outputs": [
        {
          "output_type": "stream",
          "name": "stdout",
          "text": [
            "4\n"
          ]
        }
      ]
    },
    {
      "cell_type": "code",
      "source": [
        "def fec(a, y, i):  # Functional recursion (no parameter for count)\n",
        "    if i == len(a):\n",
        "        return 0\n",
        "    if a[i] == y:\n",
        "        return 1 + fec(a, y, i + 1)\n",
        "    else:\n",
        "        return fec(a, y, i + 1)\n",
        "\n",
        "# Example usage\n",
        "a = [2, 4, 6, 3, 3, 2, 6, 1, 2, 3, 6, 6, 5]\n",
        "k = 3\n",
        "print(fec(a, k, 0))  # Output: 3\n"
      ],
      "metadata": {
        "colab": {
          "base_uri": "https://localhost:8080/"
        },
        "id": "yt-PhmH9xB5Q",
        "outputId": "ecbe36a4-a486-406f-ce43-221258ce9305"
      },
      "execution_count": 10,
      "outputs": [
        {
          "output_type": "stream",
          "name": "stdout",
          "text": [
            "3\n"
          ]
        }
      ]
    },
    {
      "cell_type": "markdown",
      "source": [],
      "metadata": {
        "id": "LM0-_Ksd4DlJ"
      }
    },
    {
      "cell_type": "code",
      "source": [
        "\n",
        "from collections import Counter       #find the key -val is given\n",
        "\n",
        "def f_k(a, v, index=0):            #not working\n",
        "  if index == len(a):\n",
        "    return 0\n",
        "  count = 0\n",
        "  if a[index] == k:\n",
        "    count = 1\n",
        "\n",
        "  return count + count_o(a, k, index + 1)\n",
        "\n",
        "a = [2, 4, 6, 3, 3, 2, 6, 1, 2, 3, 6, 6, 5]\n",
        "v = 4\n",
        "occur = count_o(a, v)\n",
        "occur"
      ],
      "metadata": {
        "colab": {
          "base_uri": "https://localhost:8080/"
        },
        "id": "-b1XUi0Z4EAT",
        "outputId": "8dfeeabf-799d-457c-a06a-7a94ddd0a0d4"
      },
      "execution_count": 11,
      "outputs": [
        {
          "output_type": "execute_result",
          "data": {
            "text/plain": [
              "1"
            ]
          },
          "metadata": {},
          "execution_count": 11
        }
      ]
    },
    {
      "cell_type": "code",
      "source": [
        "from collections import Counter\n",
        "\n",
        "# Recursive function to find key with given value v\n",
        "def find_key_by_value(keys, freq_dict, v, index=0):\n",
        "    if index == len(keys):\n",
        "        return \"not found\"\n",
        "    if freq_dict[keys[index]] == v:\n",
        "        return keys[index]\n",
        "    return find_key_by_value(keys, freq_dict, v, index + 1)\n",
        "\n",
        "# Main code\n",
        "a = [2, 4, 6, 3, 3, 2, 6, 1, 2, 3, 6, 6, 5]\n",
        "v = 4\n",
        "\n",
        "# Create frequency dictionary using Counter\n",
        "freq_dict = Counter(a)\n",
        "\n",
        "# Convert keys to list to use indexing\n",
        "keys = list(freq_dict.keys())\n",
        "\n",
        "# Call the recursive function\n",
        "result = find_key_by_value(keys, freq_dict, v)\n",
        "print(result)\n"
      ],
      "metadata": {
        "colab": {
          "base_uri": "https://localhost:8080/"
        },
        "id": "C8WjVcE-4Fzv",
        "outputId": "73bac970-85b3-4e63-a691-f2f3a4c5dc91"
      },
      "execution_count": 12,
      "outputs": [
        {
          "output_type": "stream",
          "name": "stdout",
          "text": [
            "6\n"
          ]
        }
      ]
    },
    {
      "cell_type": "markdown",
      "source": [
        "#subset and subsequence"
      ],
      "metadata": {
        "id": "-OIj6Qiv4MMv"
      }
    },
    {
      "cell_type": "markdown",
      "source": [
        "**subsets**"
      ],
      "metadata": {
        "id": "X_ZMRDPU4QgF"
      }
    },
    {
      "cell_type": "code",
      "source": [
        "#print all subsets\n",
        "# [2,3,4] using Recursion\n",
        "\n",
        "def subset(a,i=0,current=[]):\n",
        "  if(i==len(a)):\n",
        "    print(current)\n",
        "    return\n",
        "  subset(a,i+1,current+[a[i]])  ## adding the current element\n",
        "  subset(a,i+1,current)           ## not adding the current element\n",
        "a=[2,3,4]\n",
        "subset(a)"
      ],
      "metadata": {
        "colab": {
          "base_uri": "https://localhost:8080/"
        },
        "id": "TahBFZzu4NEx",
        "outputId": "ea6612bc-dcf0-4499-df92-db41669f1353"
      },
      "execution_count": 13,
      "outputs": [
        {
          "output_type": "stream",
          "name": "stdout",
          "text": [
            "[2, 3, 4]\n",
            "[2, 3]\n",
            "[2, 4]\n",
            "[2]\n",
            "[3, 4]\n",
            "[3]\n",
            "[4]\n",
            "[]\n"
          ]
        }
      ]
    },
    {
      "cell_type": "code",
      "source": [
        "#sub set sum is avaliable or not                   #sir said code\n",
        "# def sub_sum(x,k,i=0):\n",
        "#   if (i==len(x)):\n",
        "#     return False          #not working\n",
        "#   if(k==0):\n",
        "#     return True\n",
        "#   if(x[i]>k):\n",
        "#     return sub_sum(x,k,i+1)\n",
        "#   return sub_sum(x,k-x[i],i+1)\n",
        "\n",
        "# x=[2,3,4]\n",
        "# subset(x)\n",
        "\n",
        "\n",
        "\n",
        "#sub set sum is avaliable or not\n",
        "def sub_sum(x,k,i=0):\n",
        "  if(k==0):\n",
        "    return True\n",
        "  if (i==0):\n",
        "    return False\n",
        "  if(x[i-1]>k):\n",
        "    return sub_sum(x,k,i-1)\n",
        "  return sub_sum(x,k-x[i-1],i-1) or sub_sum(x,k,i-1)\n",
        "\n",
        "a=[2,3,4]\n",
        "k=7\n",
        "print(sub_sum(a,k,len(a)))"
      ],
      "metadata": {
        "colab": {
          "base_uri": "https://localhost:8080/"
        },
        "id": "4QDN213o4VUO",
        "outputId": "3ce9cb27-07ee-44af-bdc7-32515ba51586"
      },
      "execution_count": 14,
      "outputs": [
        {
          "output_type": "stream",
          "name": "stdout",
          "text": [
            "True\n"
          ]
        }
      ]
    },
    {
      "cell_type": "code",
      "source": [
        "# Q.print the subset sum =k\n",
        "def subset(a,k=0,i=0,current=[]):\n",
        "  if(i==len(a)):\n",
        "    if(k==0):\n",
        "      print(current)\n",
        "    return\n",
        "  if(a[i]<=k):\n",
        "    subset(a,k-a[i],i+1,current+[a[i]])  ## adding the current element\n",
        "  subset(a,k,i+1,current)           ## not adding the current element\n",
        "a=[2,3,4,5]\n",
        "k=9\n",
        "subset(a,k)"
      ],
      "metadata": {
        "colab": {
          "base_uri": "https://localhost:8080/"
        },
        "id": "GBJ18RUO4VQ_",
        "outputId": "7f30af52-6d1d-4e04-f655-350a5f042db1"
      },
      "execution_count": 15,
      "outputs": [
        {
          "output_type": "stream",
          "name": "stdout",
          "text": [
            "[2, 3, 4]\n",
            "[4, 5]\n"
          ]
        }
      ]
    },
    {
      "cell_type": "markdown",
      "source": [
        "**Q.**  \n",
        "\n",
        "1. input: [2,4,6,8]        \n",
        "k=13            \n",
        "output: -1   \n",
        "\n",
        "--------------\n",
        "\n",
        "2. input: [2,4,6,8]            \n",
        "k=14                        \n",
        "\n",
        "  2+4+8=14 (3 coins used)          \n",
        "  6+8=14 (2 coins used)            \n",
        "  output: 2 min coins                   \n"
      ],
      "metadata": {
        "id": "E-5ISZWx4cDn"
      }
    },
    {
      "cell_type": "code",
      "source": [
        "# input: [2,4,6,8]\n",
        "# k=13\n",
        "# output: -1\n",
        "\n",
        "\n",
        "# input: [2,4,6,8]\n",
        "# k=14\n",
        "# 2+4+8=14 (3 coins used)\n",
        "# 6+8=14 (2 coins used)\n",
        "# output: 2 min coins\n",
        "\n",
        "\n",
        "def subset(a,t=0,i=0,current=0):      #incomplete code\n",
        "  if(i==len(a)):\n",
        "    if(t==0):\n",
        "      print(current)\n",
        "    return\n",
        "  if(a[i]<=t):\n",
        "    subset(a,t-a[i],i+1,current+1)\n",
        "  subset(a,t,i+1,current)\n",
        "\n",
        "a=[2,4,6,8]\n",
        "t=14\n",
        "subset(a,t)\n",
        "\n"
      ],
      "metadata": {
        "colab": {
          "base_uri": "https://localhost:8080/"
        },
        "id": "LfYTjX8A4VPI",
        "outputId": "f36c43d7-1b1b-4ad8-9f21-0f4ba96b6482"
      },
      "execution_count": 16,
      "outputs": [
        {
          "output_type": "stream",
          "name": "stdout",
          "text": [
            "3\n",
            "2\n"
          ]
        }
      ]
    },
    {
      "cell_type": "code",
      "source": [
        "def subset(a, t=0, i=0, current=0, res=[]):\n",
        "  \"\"\"\n",
        "  Finds the minimum number of coins needed to reach the target value.\n",
        "\n",
        "  Args:\n",
        "      a: The list of coin denominations.\n",
        "      t: The target value.\n",
        "      i: The current index in the coin denominations list.\n",
        "      current: The number of coins used in the current subset.\n",
        "      res: The list to store the number of coins used in valid subsets.\n",
        "\n",
        "  Returns:\n",
        "      The minimum number of coins used in a valid subset, or -1 if no such subset exists.\n",
        "  \"\"\"\n",
        "\n",
        "  # If the target value is reached, append the current number of coins to the result list.\n",
        "  if t == 0:\n",
        "    res.append(current)\n",
        "    return\n",
        "\n",
        "  # If all coin denominations have been checked or the target value becomes negative, return.\n",
        "  if i == len(a) or t < 0:\n",
        "    return\n",
        "\n",
        "  # Explore two possibilities: include the current coin or exclude it.\n",
        "  # Include the current coin:\n",
        "  subset(a, t - a[i], i + 1, current + 1, res)\n",
        "\n",
        "  # Exclude the current coin:\n",
        "  subset(a, t, i + 1, current, res)\n",
        "\n",
        "  # Return the result list.\n",
        "  return res\n",
        "\n",
        "a = [2, 4, 6, 8]\n",
        "t = 13\n",
        "\n",
        "# Initialize the result list to store the number of coins used in valid subsets.\n",
        "res = []\n",
        "\n",
        "# Call the subset function to find the minimum number of coins.\n",
        "res = subset(a, t, 0, 0, res)\n",
        "\n",
        "# Print the minimum number of coins, or -1 if no valid subset exists.\n",
        "if res:\n",
        "  print(min(res))\n",
        "else:\n",
        "  print(\"-1\")"
      ],
      "metadata": {
        "colab": {
          "base_uri": "https://localhost:8080/"
        },
        "id": "cffBKw214VNg",
        "outputId": "b94a6c40-7ffe-427f-9438-4471705de6cd"
      },
      "execution_count": 17,
      "outputs": [
        {
          "output_type": "stream",
          "name": "stdout",
          "text": [
            "-1\n"
          ]
        }
      ]
    },
    {
      "cell_type": "markdown",
      "source": [
        "#greedy"
      ],
      "metadata": {
        "id": "-PAcDxj34jAE"
      }
    },
    {
      "cell_type": "code",
      "source": [
        "a=[4,5,6,2,13,7,8]\n",
        "print(max(a))\n",
        "print(min(a))"
      ],
      "metadata": {
        "colab": {
          "base_uri": "https://localhost:8080/"
        },
        "id": "ZwBzNAUl4VLb",
        "outputId": "ea52a7e4-6333-4811-9bcd-bd7f1345d407"
      },
      "execution_count": 18,
      "outputs": [
        {
          "output_type": "stream",
          "name": "stdout",
          "text": [
            "13\n",
            "2\n"
          ]
        }
      ]
    },
    {
      "cell_type": "code",
      "source": [
        "\n",
        "# a=[4,5,6,2,13,7,8]             #incomplete\n",
        "# b=[]\n",
        "# for i in range(len(a)):\n",
        "#   if(i%2==0):\n",
        "#     b.append(max(a[i]))\n",
        "# print(b)\n",
        "\n",
        "a = [4, 5, 6, 2, 13, 7, 8]\n",
        "b = []\n",
        "\n",
        "for i in range(len(a)):\n",
        "    if i % 2 == 0:\n",
        "        b.append(a[i])\n",
        "\n",
        "print(b)\n"
      ],
      "metadata": {
        "colab": {
          "base_uri": "https://localhost:8080/"
        },
        "id": "ospyVMpK4VJk",
        "outputId": "56f97002-adba-4604-cfa0-fed5c4db3aec"
      },
      "execution_count": 19,
      "outputs": [
        {
          "output_type": "stream",
          "name": "stdout",
          "text": [
            "[4, 6, 13, 8]\n"
          ]
        }
      ]
    },
    {
      "cell_type": "code",
      "source": [
        "a=[4,5,6,2,13,7,8]                   #happening in max() #gold digger\n",
        "m=0\n",
        "for i in a:\n",
        "  if(i>m):\n",
        "    m=i\n",
        "print(m)"
      ],
      "metadata": {
        "colab": {
          "base_uri": "https://localhost:8080/"
        },
        "id": "crZIT4Jm4VHs",
        "outputId": "fce2a968-aa70-4e46-a1e3-898fd0e768b7"
      },
      "execution_count": 20,
      "outputs": [
        {
          "output_type": "stream",
          "name": "stdout",
          "text": [
            "13\n"
          ]
        }
      ]
    },
    {
      "cell_type": "code",
      "source": [
        "a=[4,5,6,2,13,7,8]                   #happening in min)\n",
        "m=99999999999\n",
        "for i in a:\n",
        "  if(i<m):\n",
        "    m=i\n",
        "print(m)"
      ],
      "metadata": {
        "colab": {
          "base_uri": "https://localhost:8080/"
        },
        "id": "X3irdySR4VEX",
        "outputId": "d2c47c41-1674-4741-8796-69d40c9b5f23"
      },
      "execution_count": 21,
      "outputs": [
        {
          "output_type": "stream",
          "name": "stdout",
          "text": [
            "2\n"
          ]
        }
      ]
    },
    {
      "cell_type": "code",
      "source": [
        "#find the max of even-index\n",
        "a=[4,5,6,2,13,7,8]\n",
        "m=0\n",
        "for i in a:\n",
        "  if(i>m and i%2==0):\n",
        "    m=i\n",
        "print(m)\n"
      ],
      "metadata": {
        "colab": {
          "base_uri": "https://localhost:8080/"
        },
        "id": "-B3QzKv55Ej8",
        "outputId": "213ac461-4513-4fef-9ac0-f0ded02f91a3"
      },
      "execution_count": 22,
      "outputs": [
        {
          "output_type": "stream",
          "name": "stdout",
          "text": [
            "8\n"
          ]
        }
      ]
    },
    {
      "cell_type": "code",
      "source": [
        "#find the max of odd-index\n",
        "a=[4,5,6,2,13,7,8]              #incomplete\n",
        "m=0\n",
        "for i in a:\n",
        "  if(i>m and i%2==1):\n",
        "    m=i\n",
        "print(m)"
      ],
      "metadata": {
        "colab": {
          "base_uri": "https://localhost:8080/"
        },
        "id": "coVqROws5EhP",
        "outputId": "3ce0bc70-c25e-4915-e212-27f9c70e1d22"
      },
      "execution_count": 23,
      "outputs": [
        {
          "output_type": "stream",
          "name": "stdout",
          "text": [
            "13\n"
          ]
        }
      ]
    },
    {
      "cell_type": "code",
      "source": [
        "#find the minimum odd and maximum even number\n",
        "# m= list(map(int,input().split()))\n"
      ],
      "metadata": {
        "id": "WV0SSiQH5Ee0"
      },
      "execution_count": 24,
      "outputs": []
    },
    {
      "cell_type": "code",
      "source": [
        "# Input list of integers\n",
        "m = list(map(int, input(\"Enter numbers: \").split()))\n",
        "\n",
        "min_odd = float('inf')\n",
        "max_even = float('-inf')\n",
        "\n",
        "for num in m:\n",
        "    if num % 2 == 0:\n",
        "        max_even = max(max_even, num)\n",
        "    else:\n",
        "        min_odd = min(min_odd, num)\n",
        "\n",
        "# Check if any odd or even number was found\n",
        "if min_odd == float('inf'):\n",
        "    print(\"No odd numbers found.\")\n",
        "else:\n",
        "    print(\"Minimum odd number:\", min_odd)\n",
        "\n",
        "if max_even == float('-inf'):\n",
        "    print(\"No even numbers found.\")\n",
        "else:\n",
        "    print(\"Maximum even number:\", max_even)\n"
      ],
      "metadata": {
        "colab": {
          "base_uri": "https://localhost:8080/"
        },
        "id": "GQsjgUBk5ZwS",
        "outputId": "726ebc58-373e-4d9f-ca7a-5d2a4b1519e8"
      },
      "execution_count": 26,
      "outputs": [
        {
          "output_type": "stream",
          "name": "stdout",
          "text": [
            "Enter numbers: 12 3 7 8 10 5 2\n",
            "Minimum odd number: 3\n",
            "Maximum even number: 12\n"
          ]
        }
      ]
    },
    {
      "cell_type": "code",
      "source": [
        "def find_min_odd_max_even(numbers):\n",
        "    \"\"\"\n",
        "    Finds the minimum odd and maximum even numbers in a list.\n",
        "\n",
        "    Args:\n",
        "    numbers: A list of integers.\n",
        "\n",
        "    Returns:\n",
        "    A tuple containing the minimum odd number and the maximum even number,\n",
        "    or (None, None) if no odd or even numbers are found.\n",
        "    \"\"\"\n",
        "    min_odd = None\n",
        "    max_even = None\n",
        "\n",
        "    for num in numbers:\n",
        "        if num % 2 == 0:  # Even number\n",
        "            if max_even is None or num > max_even:\n",
        "                max_even = num\n",
        "        else:  # Odd number\n",
        "            if min_odd is None or num < min_odd:\n",
        "                min_odd = num\n",
        "\n",
        "    return min_odd, max_even\n",
        "\n",
        "\n",
        "numbers = [1, 2, 3, 4, 5, 6, 7, 8, 9, 10]\n",
        "min_odd, max_even = find_min_odd_max_even(numbers)\n",
        "\n",
        "if min_odd is not None and max_even is not None:\n",
        "    print(\"Minimum odd number:\", min_odd)\n",
        "    print(\"Maximum even number:\", max_even)\n",
        "elif min_odd is None:\n",
        "    print(\"No odd numbers found.\")\n",
        "elif max_even is None:\n",
        "    print(\"No even numbers found.\")\n",
        "else:\n",
        "    print(\"No odd or even numbers found.\")\n"
      ],
      "metadata": {
        "colab": {
          "base_uri": "https://localhost:8080/"
        },
        "id": "5Cft_rHk5Ec-",
        "outputId": "1a7a2b89-2441-4664-dd13-b2e3ae52a2db"
      },
      "execution_count": 25,
      "outputs": [
        {
          "output_type": "stream",
          "name": "stdout",
          "text": [
            "Minimum odd number: 1\n",
            "Maximum even number: 10\n"
          ]
        }
      ]
    },
    {
      "cell_type": "code",
      "source": [
        "# find the second largest numbers\n",
        "a=[4,5,6,2,13,7,13,11]\n",
        "m=0\n",
        "m1=0\n",
        "for i in a:\n",
        "  if(i>m):\n",
        "    m1=m\n",
        "    m=i\n",
        "  elif(i>m1 and i!=m): # check weather duplicates are present ,if present use/ add (i!=m)\n",
        "    m1=i\n",
        "\n",
        "print(m1)"
      ],
      "metadata": {
        "colab": {
          "base_uri": "https://localhost:8080/"
        },
        "id": "c9yecHyD5Ea8",
        "outputId": "a4c9be00-8317-41cb-cebc-22c659430ae6"
      },
      "execution_count": 27,
      "outputs": [
        {
          "output_type": "stream",
          "name": "stdout",
          "text": [
            "11\n"
          ]
        }
      ]
    },
    {
      "cell_type": "markdown",
      "source": [
        "#leetcode -2574"
      ],
      "metadata": {
        "id": "opdPPqMW5nPK"
      }
    },
    {
      "cell_type": "code",
      "source": [],
      "metadata": {
        "id": "ZA8IvHv35py_"
      },
      "execution_count": null,
      "outputs": []
    }
  ]
}