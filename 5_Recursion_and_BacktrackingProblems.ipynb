{
  "nbformat": 4,
  "nbformat_minor": 0,
  "metadata": {
    "colab": {
      "provenance": [],
      "authorship_tag": "ABX9TyP5hKZ/32lbWZJMQ2QIvIzX",
      "include_colab_link": true
    },
    "kernelspec": {
      "name": "python3",
      "display_name": "Python 3"
    },
    "language_info": {
      "name": "python"
    }
  },
  "cells": [
    {
      "cell_type": "markdown",
      "metadata": {
        "id": "view-in-github",
        "colab_type": "text"
      },
      "source": [
        "<a href=\"https://colab.research.google.com/github/Nikhilhello/Adv_DSA-PySnippets/blob/main/5_Recursion_and_BacktrackingProblems.ipynb\" target=\"_parent\"><img src=\"https://colab.research.google.com/assets/colab-badge.svg\" alt=\"Open In Colab\"/></a>"
      ]
    },
    {
      "cell_type": "markdown",
      "source": [
        "#5"
      ],
      "metadata": {
        "id": "en4D58ud6u74"
      }
    },
    {
      "cell_type": "markdown",
      "source": [
        "#(---buy and sell gold, --- in the row 1 means add the k[] value to it, ---rat route, ---iland, ---land and fire, ---frog path, ---print the binary numbers, ---print the number of possible ((())) )"
      ],
      "metadata": {
        "id": "JXPYZL7M6uzc"
      }
    },
    {
      "cell_type": "markdown",
      "source": [
        "| Problem Description                       | Category                     |\n",
        "| ----------------------------------------- | ---------------------------- |\n",
        "| Buy and Sell Gold                         | Dynamic Programming (DP)     |\n",
        "| In the row, 1 means add `k[]` value to it | Recursion / DP               |\n",
        "| Rat in a Maze (Rat Route)                 | Backtracking / Matrix path   |\n",
        "| Island Problem                            | DFS / BFS (Graph traversal)  |\n",
        "| Land and Fire (spread/fire escape)        | BFS (Shortest path, 2D Grid) |\n",
        "| Frog Path                                 | DP / Recursion               |\n",
        "| Print Binary Numbers                      | Recursion / Backtracking     |\n",
        "| Number of Valid `((()))`                  | Recursion / Backtracking     |\n"
      ],
      "metadata": {
        "id": "sYK90n_J-Qan"
      }
    },
    {
      "cell_type": "markdown",
      "source": [
        "[3, 4, 2, 5, 8, 4, 1]             \n",
        " m  t  w  t  f  s  sun\n",
        "\n",
        " sunday -------> no buy and no sell             \n",
        "he will buy gold for minimum and sell for maximum           \n",
        "find the profit"
      ],
      "metadata": {
        "id": "UYFjeE0k7LlZ"
      }
    },
    {
      "cell_type": "code",
      "execution_count": null,
      "metadata": {
        "colab": {
          "base_uri": "https://localhost:8080/"
        },
        "id": "aMxBirsK6rZ6",
        "outputId": "b4a50779-292f-42e7-ced9-67e2d4bf8de0"
      },
      "outputs": [
        {
          "output_type": "stream",
          "name": "stdout",
          "text": [
            "6\n"
          ]
        }
      ],
      "source": [
        "# Q. [3, 4, 2, 5, 8, 4, 1]\n",
        "#     m  t  w  t  f  s  sun\n",
        "\n",
        "#  sunday -------> no buy and no sell\n",
        "# he will buy gold for minimum and sell for maximum\n",
        "# find the profit\n",
        "\n",
        "\n",
        "# def gold(arr):                   #greedy\n",
        "#   max_p=0\n",
        "\n",
        "# a=[3,4,2,5,8,4,1]           # sir code\n",
        "# b=a[0]\n",
        "# p=0\n",
        "# for i in (a):\n",
        "#   if(i<b):\n",
        "#     b=i\n",
        "#   else:\n",
        "#     if(i-b>p):\n",
        "#       p=i-b\n",
        "# print(p)\n",
        "\n",
        "\n",
        "a=[3,4,2,5,8,4,1]               #my\n",
        "buy=0\n",
        "max_profit=0\n",
        "for i in range(len(a)):\n",
        "  if(i<buy):\n",
        "    buy=i\n",
        "  if(i-buy>max_profit):\n",
        "    max_profit=i-buy\n",
        "print(max_profit)\n"
      ]
    },
    {
      "cell_type": "markdown",
      "source": [
        "Q.  one means add them and zero means not add them        \n",
        "a=  [0,1,1,0,1] ...  if 1 add them  => 7+6+1=15                \n",
        "k=  [8,7,6,5,2]                 "
      ],
      "metadata": {
        "id": "626Nuv9U7Rfy"
      }
    },
    {
      "cell_type": "code",
      "source": [
        "# Q.  one means add them and zero means not add them\n",
        "# a=  [0,1,1,0,1] ...  if 1 add them  => 7+6+1=15\n",
        "# k=  [8,7,6,5,2]\n",
        "\n",
        "a=[[0,1,1,0,1],[1,1,0,0,1],[0,0,0,1,1],[0,1,0,0,0]]             #working\n",
        "k=[8,7,6,5,2]\n",
        "ans=[]\n",
        "for i in range(len(a)):\n",
        "  sum=0\n",
        "  for j in range(len(a[0])):\n",
        "    if a[i][j]==1:\n",
        "      sum+=k[j]\n",
        "  ans.append(sum)\n",
        "print(ans)             #[15, 17, 7, 7] output\n",
        "\n",
        "\n",
        "\n",
        "\n",
        "# a=[[0,1,1,0,1],[1,1,0,0,1],[0,0,0,1,1],[0,1,0,0,0]]\n",
        "# b=[8,7,6,5,2]\n",
        "# for i in range(len(a)):                          #not working\n",
        "#   sum=0\n",
        "#   for j in range(len(a[0])):\n",
        "#     if a[i][j]==1:\n",
        "#       sum+=b[j]\n",
        "# print(sum)\n",
        "\n",
        "\n"
      ],
      "metadata": {
        "colab": {
          "base_uri": "https://localhost:8080/"
        },
        "id": "anhbk_KW7SQ6",
        "outputId": "d742b90a-5f1d-4f89-e3d6-c1b1ad3873b5"
      },
      "execution_count": null,
      "outputs": [
        {
          "output_type": "stream",
          "name": "stdout",
          "text": [
            "[15, 17, 7, 7]\n"
          ]
        }
      ]
    },
    {
      "cell_type": "markdown",
      "source": [
        "#rat route path"
      ],
      "metadata": {
        "id": "YjEhFjX67a7J"
      }
    },
    {
      "cell_type": "code",
      "source": [
        "#rat route path\n",
        "\n",
        "def rat(a,i,j,n):\n",
        "  if i<0 or i>=n or j<0 or j>=n or a[i][j]==0:  # Check bounds and cell value  # this is sir said line -->if (a[i][j]==0 or i==n or j==n):\n",
        "    return 0\n",
        "  if(i==n-1 and j==n-1 and a[i][j]==1):\n",
        "      return 1\n",
        "  return rat(a,i,j+1,n) +rat(a,i+1,j,n)  #right and down   #backtracking\n",
        "\n",
        "a=[[1,0,0,0],[1,1,1,1],[1,0,0,1],[1,1,1,1]]\n",
        "n=4\n",
        "print(rat(a,0,0,n))\n",
        "\n"
      ],
      "metadata": {
        "colab": {
          "base_uri": "https://localhost:8080/"
        },
        "id": "a_yRTOkS7TER",
        "outputId": "29509d2d-2ea9-41fa-9bf3-bcbfffc16b44"
      },
      "execution_count": null,
      "outputs": [
        {
          "output_type": "stream",
          "name": "stdout",
          "text": [
            "2\n"
          ]
        }
      ]
    },
    {
      "cell_type": "markdown",
      "source": [
        "#iland"
      ],
      "metadata": {
        "id": "9oQMht4a7hzt"
      }
    },
    {
      "cell_type": "code",
      "source": [
        "def land(a,i,j,n):\n",
        "  if (i==n or j==n or i<0 or j<0 or a[i][j]==0 or a[i][j]==2 ):  # iland problem  , finding the number of ilands in the matrix   #backtracking\n",
        "    return 0\n",
        "  if(a[i][j]==1):\n",
        "    a[i][j]=2\n",
        "\n",
        "  land(a,i-1,j,n)    #top\n",
        "  land(a,i,j-1,n)    #left\n",
        "  land(a,i+1,j,n)    #bown\n",
        "  land(a,i,j+1,n)    #right\n",
        "\n",
        "\n",
        "a=[[1,0,0,1,1],[1,0,0,0,1],[0,0,0,1,0],[1,0,0,0,0],[1,0,0,0,1]]\n",
        "# for i in a:      #print the matrix\n",
        "#   print(i)\n",
        "\n",
        "count=0\n",
        "for i in range(5):\n",
        "  for j in range(5):\n",
        "    if(a[i][j]==1):\n",
        "      land(a,i,j,5)\n",
        "      count=count+1\n",
        "print(count)\n",
        "\n"
      ],
      "metadata": {
        "colab": {
          "base_uri": "https://localhost:8080/"
        },
        "id": "bUym89Dp7TB8",
        "outputId": "4d3a1448-970d-4d2b-ed29-7403adcd389b"
      },
      "execution_count": null,
      "outputs": [
        {
          "output_type": "stream",
          "name": "stdout",
          "text": [
            "5\n"
          ]
        }
      ]
    },
    {
      "cell_type": "markdown",
      "source": [
        "#land and fire"
      ],
      "metadata": {
        "id": "ekuYDS6w7nqG"
      }
    },
    {
      "cell_type": "code",
      "source": [
        "#fire-trees and land             ##backtracking\n",
        "# find how many trees are unburnt with the fire    (find the land)\n",
        "\n",
        "def land(a,i,j,n):\n",
        "  if (i==n or j==n or i<0 or j<0 or a[i][j]==0 or a[i][j]==2 ):  # fire land problem\n",
        "    return 0\n",
        "  if(a[i][j]==1):\n",
        "    a[i][j]=2\n",
        "\n",
        "  land(a,i-1,j,n)    #top\n",
        "  land(a,i,j-1,n)    #left\n",
        "  land(a,i+1,j,n)    #bown\n",
        "  land(a,i,j+1,n)    #right\n",
        "\n",
        "\n",
        "a=[[1,0,0,1,1,1],[1,1,1,0,0,0],[0,0,1,1,1,1],[1,1,1,0,0,0],[0,0,0,0,0,1],[1,0,0,1,0,0]]\n",
        "for i in a:      #print the matrix\n",
        "  print(i)\n",
        "\n",
        "count=0\n",
        "land(a,3-1,6-1,6)    #land(a,i,j,6)  moved to here # location 3,6 it means 2,5 based on code index start from 0\n",
        "for i in range(6):\n",
        "  for j in range(6):\n",
        "    if(a[i][j]==1):\n",
        "      # land(a,i,j,6)\n",
        "      count=count+1\n",
        "print(count)\n",
        "\n"
      ],
      "metadata": {
        "colab": {
          "base_uri": "https://localhost:8080/"
        },
        "id": "FwA280IP7S_2",
        "outputId": "b7e47aea-dc7f-48a6-b1eb-07b456ebd3c3"
      },
      "execution_count": null,
      "outputs": [
        {
          "output_type": "stream",
          "name": "stdout",
          "text": [
            "[1, 0, 0, 1, 1, 1]\n",
            "[1, 1, 1, 0, 0, 0]\n",
            "[0, 0, 1, 1, 1, 1]\n",
            "[1, 1, 1, 0, 0, 0]\n",
            "[0, 0, 0, 0, 0, 1]\n",
            "[1, 0, 0, 1, 0, 0]\n",
            "6\n"
          ]
        }
      ]
    },
    {
      "cell_type": "markdown",
      "source": [
        "#frog path\n",
        "ot the destination ,it can move only to the right and bottom"
      ],
      "metadata": {
        "id": "rYVM1i5e7sU_"
      }
    },
    {
      "cell_type": "code",
      "source": [
        "# frog path to the destination ,it can move only to the right and bottom              #backtracking\n",
        "# n=5  #5x5 grid\n",
        "# loc=[2,3] #x,y\n",
        "# trap=[((2,1),(4,1),(5,2),(3,5))]\n",
        "\n",
        "def frog_path(n, loc, traps):\n",
        "    \"\"\"\n",
        "    Calculates the number of paths a frog can take to reach the destination (bottom-right corner)\n",
        "    of an n x n grid, given its starting location and a set of traps.\n",
        "\n",
        "    Args:\n",
        "        n: The size of the grid (n x n).\n",
        "        loc: A list [x, y] representing the frog's starting location (1-based index).\n",
        "        traps: A list of tuples, where each tuple represents a trap location (1-based index).\n",
        "\n",
        "    Returns:\n",
        "        The number of valid paths the frog can take to reach the destination.\n",
        "    \"\"\"\n",
        "    x, y = loc[0] -1, loc[1] - 1  # Adjust to 0-based indexing\n",
        "    trap_set = set()\n",
        "    for trap_locations in traps:\n",
        "        for trap in trap_locations:\n",
        "            trap_set.add((trap[0]-1, trap[1]-1))\n",
        "\n",
        "\n",
        "    def dfs(x, y):\n",
        "        if x < 0 or x >= n or y < 0 or y >= n or (x,y) in trap_set:\n",
        "            return 0\n",
        "        if x == n - 1 and y == n - 1:\n",
        "            return 1\n",
        "\n",
        "        return dfs(x + 1, y) + dfs(x, y + 1)\n",
        "\n",
        "\n",
        "    return dfs(x,y)\n",
        "\n",
        "n = 5\n",
        "loc = [2, 3]\n",
        "traps = [((2, 1), (4, 1), (5, 2), (3, 5),(3,3))]\n",
        "paths = frog_path(n, loc, traps)\n",
        "paths\n"
      ],
      "metadata": {
        "colab": {
          "base_uri": "https://localhost:8080/"
        },
        "id": "7ZcMPi0_7S-R",
        "outputId": "94e73f32-7044-4aac-80e9-50d01d7edb6b"
      },
      "execution_count": null,
      "outputs": [
        {
          "output_type": "execute_result",
          "data": {
            "text/plain": [
              "2"
            ]
          },
          "metadata": {},
          "execution_count": 6
        }
      ]
    },
    {
      "cell_type": "code",
      "source": [
        "def paths(n,x,y,trap):\n",
        "    if x<=0 or y<=0 or x>n or y>n or (x,y) in trap:\n",
        "        return 0\n",
        "    if x==n and y==n:\n",
        "        return 1\n",
        "    return paths(n,x+1,y,trap) + paths(n,x,y+1,trap)\n",
        "n=5  #int(input())\n",
        "x,y=2,3  #map(int(input().split()))\n",
        "trap=[(2,1),(4,1),(5,2),(3,5)]\n",
        "print(paths(n,x,y,trap))"
      ],
      "metadata": {
        "colab": {
          "base_uri": "https://localhost:8080/"
        },
        "id": "3Ty-XFCY7S8s",
        "outputId": "93aa5c74-1fab-46dd-8245-d33d85ff2e3e"
      },
      "execution_count": null,
      "outputs": [
        {
          "output_type": "stream",
          "name": "stdout",
          "text": [
            "7\n"
          ]
        }
      ]
    },
    {
      "cell_type": "code",
      "source": [
        "def frog(n,i,j,trap):                               #backtracking\n",
        "  if (i==n or j==n or (i-1,j-1) in trap):         #sir code        changed from (i,j)--> (i-1,j-1)\n",
        "    return 0\n",
        "  if (i==n-1 and j==n-1):\n",
        "    return 1\n",
        "  return frog(n,i+1,j,trap) +frog(n,i,j+1,trap)\n",
        "\n",
        "n=5\n",
        "i=2\n",
        "j=3\n",
        "traps = [(2, 1), (4, 1), (5, 2), (3, 5)]\n",
        "frog(n,i-1,j-1,traps)"
      ],
      "metadata": {
        "colab": {
          "base_uri": "https://localhost:8080/"
        },
        "id": "ACGI5zZz7S6_",
        "outputId": "47ef4913-5874-4e63-9159-776e878b026e"
      },
      "execution_count": null,
      "outputs": [
        {
          "output_type": "execute_result",
          "data": {
            "text/plain": [
              "7"
            ]
          },
          "metadata": {},
          "execution_count": 8
        }
      ]
    },
    {
      "cell_type": "markdown",
      "source": [
        "#print the binary numbers"
      ],
      "metadata": {
        "id": "BD5oOk5273n_"
      }
    },
    {
      "cell_type": "code",
      "source": [
        "# print the binary numbers          #this is using bin()\n",
        "\n",
        "n=int(input())\n",
        "for i in range(0,n+1):\n",
        "  print(bin(i))"
      ],
      "metadata": {
        "colab": {
          "base_uri": "https://localhost:8080/"
        },
        "id": "0fYxdqm47S5W",
        "outputId": "40d89cb9-47ee-4021-e2cc-8067c2dec204"
      },
      "execution_count": null,
      "outputs": [
        {
          "output_type": "stream",
          "name": "stdout",
          "text": [
            "10\n",
            "0b0\n",
            "0b1\n",
            "0b10\n",
            "0b11\n",
            "0b100\n",
            "0b101\n",
            "0b110\n",
            "0b111\n",
            "0b1000\n",
            "0b1001\n",
            "0b1010\n"
          ]
        }
      ]
    },
    {
      "cell_type": "code",
      "source": [
        "# print the binary numbers     #---without using bin()    #not the correct output\n",
        "\n",
        "import math\n",
        "def allbinary(a,n,s=''):\n",
        "  if len(s)==n:\n",
        "    print(s)\n",
        "    return\n",
        "  allbinary(a,n,s+'0')\n",
        "  allbinary(a,n,s+'1')\n",
        "a=18\n",
        "n=int(math.log(a,2))+1\n",
        "allbinary(a,n)"
      ],
      "metadata": {
        "colab": {
          "base_uri": "https://localhost:8080/"
        },
        "id": "HA43ED1A7S3X",
        "outputId": "fedee1f8-bae9-48d6-b610-5ae37e9b6a9c"
      },
      "execution_count": null,
      "outputs": [
        {
          "output_type": "stream",
          "name": "stdout",
          "text": [
            "00000\n",
            "00001\n",
            "00010\n",
            "00011\n",
            "00100\n",
            "00101\n",
            "00110\n",
            "00111\n",
            "01000\n",
            "01001\n",
            "01010\n",
            "01011\n",
            "01100\n",
            "01101\n",
            "01110\n",
            "01111\n",
            "10000\n",
            "10001\n",
            "10010\n",
            "10011\n",
            "10100\n",
            "10101\n",
            "10110\n",
            "10111\n",
            "11000\n",
            "11001\n",
            "11010\n",
            "11011\n",
            "11100\n",
            "11101\n",
            "11110\n",
            "11111\n"
          ]
        }
      ]
    },
    {
      "cell_type": "code",
      "source": [
        "# print the binary numbers     #---without using bin()\n",
        "\n",
        "import math\n",
        "re=[]\n",
        "def allbinary(n, s=''):\n",
        "    if len(s) == n:\n",
        "        re.append(s)\n",
        "        return\n",
        "    allbinary(n, s + '0')\n",
        "    allbinary(n, s + '1')\n",
        "\n",
        "a = 18\n",
        "n = int(math.log(a, 2)) + 1  # Find number of bits needed\n",
        "allbinary(n)\n",
        "\n",
        "# Convert each binary string to integer and filter <= a\n",
        "for binary in re:\n",
        "    if int(binary, 2) <= a:\n",
        "        print(binary)\n"
      ],
      "metadata": {
        "colab": {
          "base_uri": "https://localhost:8080/"
        },
        "id": "-bQm6wuo7Sz_",
        "outputId": "e4a85882-135d-4425-c882-ba9103079b57"
      },
      "execution_count": null,
      "outputs": [
        {
          "output_type": "stream",
          "name": "stdout",
          "text": [
            "00000\n",
            "00001\n",
            "00010\n",
            "00011\n",
            "00100\n",
            "00101\n",
            "00110\n",
            "00111\n",
            "01000\n",
            "01001\n",
            "01010\n",
            "01011\n",
            "01100\n",
            "01101\n",
            "01110\n",
            "01111\n",
            "10000\n",
            "10001\n",
            "10010\n"
          ]
        }
      ]
    },
    {
      "cell_type": "code",
      "source": [
        "import math          #without list #comming 2 extra numbers\n",
        "# re=[]\n",
        "def allbinary(a,n,s=''):\n",
        "    if a==-1:\n",
        "        return a\n",
        "    if(len(s)==n):\n",
        "        # re.append(s)\n",
        "        print(s)\n",
        "        a=a-1\n",
        "        return\n",
        "    allbinary(a,n,s+'0')\n",
        "    allbinary(a,n,s+'1')\n",
        "a=5\n",
        "n=int(math.log(a,2))+1\n",
        "allbinary(a,n)"
      ],
      "metadata": {
        "colab": {
          "base_uri": "https://localhost:8080/"
        },
        "id": "OMvzErcL7SxA",
        "outputId": "92319968-9ce3-471f-a0d4-c53d0beb6d2c"
      },
      "execution_count": null,
      "outputs": [
        {
          "output_type": "stream",
          "name": "stdout",
          "text": [
            "000\n",
            "001\n",
            "010\n",
            "011\n",
            "100\n",
            "101\n",
            "110\n",
            "111\n"
          ]
        }
      ]
    },
    {
      "cell_type": "code",
      "source": [
        "# print the binary numbers     #---without using bin()\n",
        "\n",
        "import math               #working\n",
        "re=[]\n",
        "def allbin(n,s=''):\n",
        "    if(len(s)==n):\n",
        "        re.append(s)\n",
        "        return\n",
        "    allbin(n,s+'0')\n",
        "    allbin(n,s+'1')\n",
        "n=int(input())\n",
        "m=int(math.log(n,2)+1)\n",
        "allbin(m)\n",
        "for i in range(n+1):\n",
        "    print(re[i])"
      ],
      "metadata": {
        "colab": {
          "base_uri": "https://localhost:8080/"
        },
        "id": "bMmWM1RN7St2",
        "outputId": "c80e2623-1715-46c2-c27c-4c7d7e827e85"
      },
      "execution_count": null,
      "outputs": [
        {
          "output_type": "stream",
          "name": "stdout",
          "text": [
            "5\n",
            "000\n",
            "001\n",
            "010\n",
            "011\n",
            "100\n",
            "101\n"
          ]
        }
      ]
    },
    {
      "cell_type": "markdown",
      "source": [
        "#n=3 print the number of possible ((())) u can get and print them"
      ],
      "metadata": {
        "id": "tdaL29BB8v3Y"
      }
    },
    {
      "cell_type": "code",
      "source": [
        "#n=3 print the number of possible ((())) u can get and print them\n",
        "\n",
        "def occur(n,i=0,j=0,s=''):\n",
        "  if len(s)==2*n:\n",
        "    print(s)\n",
        "    return\n",
        "  if i<n:\n",
        "    occur(n,i+1,j,s+'(')\n",
        "  if j<i:\n",
        "    occur(n,i,j+1,s+')')\n",
        "occur(3)\n",
        "\n"
      ],
      "metadata": {
        "colab": {
          "base_uri": "https://localhost:8080/"
        },
        "id": "g0gn1EXj8w9J",
        "outputId": "607338e4-1ea0-4b27-8e34-2eb946d6ae6a"
      },
      "execution_count": null,
      "outputs": [
        {
          "output_type": "stream",
          "name": "stdout",
          "text": [
            "((()))\n",
            "(()())\n",
            "(())()\n",
            "()(())\n",
            "()()()\n"
          ]
        }
      ]
    },
    {
      "cell_type": "code",
      "source": [
        "def generate_parentheses(n, open=0, close=0, s=''):         #ai\n",
        "    if len(s) == 2 * n:\n",
        "        print(s)\n",
        "        return 1  # count this valid combination\n",
        "\n",
        "    count = 0\n",
        "    if open < n:\n",
        "        count += generate_parentheses(n, open + 1, close, s + '(')\n",
        "    if close < open:\n",
        "        count += generate_parentheses(n, open, close + 1, s + ')')\n",
        "    return count\n",
        "\n",
        "# Example usage\n",
        "n = 3\n",
        "total = generate_parentheses(n)\n",
        "print(\"Total combinations:\", total)\n"
      ],
      "metadata": {
        "colab": {
          "base_uri": "https://localhost:8080/"
        },
        "id": "h8s5C4Gu9RoT",
        "outputId": "52307abc-6d1c-49d9-8684-5d69efcb4322"
      },
      "execution_count": null,
      "outputs": [
        {
          "output_type": "stream",
          "name": "stdout",
          "text": [
            "((()))\n",
            "(()())\n",
            "(())()\n",
            "()(())\n",
            "()()()\n",
            "Total combinations: 5\n"
          ]
        }
      ]
    }
  ]
}