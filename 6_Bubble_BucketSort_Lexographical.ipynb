{
  "nbformat": 4,
  "nbformat_minor": 0,
  "metadata": {
    "colab": {
      "provenance": []
    },
    "kernelspec": {
      "name": "python3",
      "display_name": "Python 3"
    },
    "language_info": {
      "name": "python"
    }
  },
  "cells": [
    {
      "cell_type": "markdown",
      "source": [
        "#6"
      ],
      "metadata": {
        "id": "42K74zYD2GEO"
      }
    },
    {
      "cell_type": "markdown",
      "source": [
        "#(efficient version of bubble sort, ---print kth largest element, ---a,f,e,c sort , ---if the 1st and 2nd letters are same ,print the same order, ---subarray there is a prime number arrange then in the order, ---sort them based on the size of the words(doctor), ---#bucket sort)    #lexographical order  ##bucket sort"
      ],
      "metadata": {
        "id": "nd1qMg0B2GAq"
      }
    },
    {
      "cell_type": "markdown",
      "source": [
        "#efficient version of bubble sort"
      ],
      "metadata": {
        "id": "3FZY1SBL2rME"
      }
    },
    {
      "cell_type": "code",
      "execution_count": null,
      "metadata": {
        "colab": {
          "base_uri": "https://localhost:8080/"
        },
        "id": "prSmOcix05eY",
        "outputId": "65966550-6aa8-4242-f92c-a2fdbcf4032c"
      },
      "outputs": [
        {
          "output_type": "stream",
          "name": "stdout",
          "text": [
            "[34, 25, 12, 22, 11, 64, 90]\n",
            "6\n",
            "[25, 12, 22, 11, 34, 64, 90]\n",
            "11\n",
            "[12, 22, 11, 25, 34, 64, 90]\n",
            "15\n",
            "[12, 11, 22, 25, 34, 64, 90]\n",
            "18\n",
            "[11, 12, 22, 25, 34, 64, 90]\n",
            "20\n"
          ]
        }
      ],
      "source": [
        "#Q1\n",
        "# efficient version of bubble sort\n",
        "\n",
        "\n",
        "a = [64, 34, 25, 12, 22, 11, 90]\n",
        "c=0\n",
        "for j in range(len(a)-1):\n",
        "  f=False\n",
        "  for i in range(0,len(a)-1-j):\n",
        "    c=c+1\n",
        "    if (a[i]>a[i+1]):\n",
        "      f=True\n",
        "      a[i],a[i+1]=a[i+1],a[i]\n",
        "  if(f==False):\n",
        "    break\n",
        "  print(a)\n",
        "  print(c)\n",
        "\n",
        "\n"
      ]
    },
    {
      "cell_type": "code",
      "source": [
        "#----------normal bubble sort code\n",
        "# def  #s\n",
        "\n",
        "\n",
        "\n",
        "\n",
        "# -------------------------------------------------------------------------------------------------\n",
        "\n",
        "# a = [64, 34, 25, 12, 22, 11, 90]         #sir code\n",
        "# n=len(a)\n",
        "# for _ in range(n):\n",
        "#   for i in range(0,n-1):\n",
        "#     if (a[i]>a[i+1]):\n",
        "#       a[i],a[i+1]=a[i+1],a[i]             # printing thr arr for n-1 times , already sorted arr is also printing\n",
        "#   print(a)\n",
        "#--\n",
        "a = [64, 34, 25, 12, 22, 11, 90]            # this this is the solution for the above problem\n",
        "n=len(a)\n",
        "for _ in range(n):\n",
        "  f=False\n",
        "  for i in range(0,n-1):\n",
        "    if (a[i]>a[i+1]):\n",
        "      f=True\n",
        "      a[i],a[i+1]=a[i+1],a[i]\n",
        "  if(f==False):\n",
        "    break\n",
        "  print(a)\n",
        "# ----------------------------------------------------------------------------------------------\n",
        "\n",
        "\n",
        "\n",
        "# def sort(arr):\n",
        "#   n=len(arr)\n",
        "#   for i in range(n):\n",
        "#     for j in range(0,n-i-1):\n",
        "#       if arr[j]>arr[j+1]:\n",
        "#         arr[j],arr[j+1]=arr[j+1],arr[j]\n",
        "#   return arr\n",
        "# arr = [64, 34, 25, 12, 22, 11, 90]\n",
        "# print(sort(arr))\n"
      ],
      "metadata": {
        "colab": {
          "base_uri": "https://localhost:8080/"
        },
        "id": "nYwQ6DhU2wd2",
        "outputId": "155f7a7e-0842-4e4c-df57-db93d2e706d1"
      },
      "execution_count": null,
      "outputs": [
        {
          "output_type": "stream",
          "name": "stdout",
          "text": [
            "[34, 25, 12, 22, 11, 64, 90]\n",
            "[25, 12, 22, 11, 34, 64, 90]\n",
            "[12, 22, 11, 25, 34, 64, 90]\n",
            "[12, 11, 22, 25, 34, 64, 90]\n",
            "[11, 12, 22, 25, 34, 64, 90]\n"
          ]
        }
      ]
    },
    {
      "cell_type": "code",
      "source": [
        "#Q2\n",
        "\n",
        "# a=[5,2,3,8,1,6,7]\n",
        "# k=2   remaining first and last 2 numbers\n",
        "# output= [5,2,1,3,8,6,7]\n",
        "\n",
        "a = [64, 34, 25, 12, 22, 11, 90]             #edit it\n",
        "c=0\n",
        "for j in range(len(a)-1):\n",
        "  f=False\n",
        "  for i in range(0,len(a)-1-j):\n",
        "    c=c+1\n",
        "    if (a[i]>a[i+1]):\n",
        "      f=True\n",
        "      a[i],a[i+1]=a[i+1],a[i]\n",
        "  if(f==False):\n",
        "    break\n",
        "  print(a)\n",
        "  print(c) # number of swaps count\n"
      ],
      "metadata": {
        "colab": {
          "base_uri": "https://localhost:8080/"
        },
        "id": "LRk7nCw72wVV",
        "outputId": "2be3802f-0513-4533-a5fa-8ed247758a2f"
      },
      "execution_count": null,
      "outputs": [
        {
          "output_type": "stream",
          "name": "stdout",
          "text": [
            "[34, 25, 12, 22, 11, 64, 90]\n",
            "6\n",
            "[25, 12, 22, 11, 34, 64, 90]\n",
            "11\n",
            "[12, 22, 11, 25, 34, 64, 90]\n",
            "15\n",
            "[12, 11, 22, 25, 34, 64, 90]\n",
            "18\n",
            "[11, 12, 22, 25, 34, 64, 90]\n",
            "20\n"
          ]
        }
      ]
    },
    {
      "cell_type": "code",
      "source": [
        "#Q3\n",
        "\n",
        "# print the kth largest element       using bubble sort\n",
        "\n",
        "# a=[2,5,8,6,3,1,9,4,7]\n",
        "# k=3\n",
        "# output:7\n",
        "\n",
        "# a=[2,5,8,6,3,1,9,4,7]          #my\n",
        "# n=len(a)\n",
        "# k=3\n",
        "# for j in range(n):\n",
        "#   f=False\n",
        "#   for i in range(0,n-1-j):\n",
        "#     if (a[i]>a[i+1]):\n",
        "#       f=True\n",
        "#       a[i],a[i+1]=a[i+1],a[i]\n",
        "#   if i==k-1:\n",
        "#     print(a[-k])         #op=7\n",
        "#     break\n",
        "#   if(f==False):\n",
        "#     break\n",
        "\n",
        "\n",
        "\n",
        "#--------------\n",
        "\n",
        "a = [64, 34, 25, 12, 22, 11, 90]             #sir\n",
        "k=3                                                     #wrong op\n",
        "\n",
        "for j in range(len(a)-1):\n",
        "  f=False\n",
        "  for i in range(0,len(a)-1-j):\n",
        "\n",
        "    if (a[i]>a[i+1]):\n",
        "      f=True\n",
        "      a[i],a[i+1]=a[i+1],a[i]\n",
        "  k=k-1\n",
        "  if(f==False or k==0):\n",
        "    break\n",
        "  # print(a)\n",
        "  print(a[k-1])\n"
      ],
      "metadata": {
        "id": "kbeuhq_72wTf",
        "colab": {
          "base_uri": "https://localhost:8080/"
        },
        "outputId": "f95a4b61-9c77-43b8-bd6f-998e417bce68"
      },
      "execution_count": null,
      "outputs": [
        {
          "output_type": "stream",
          "name": "stdout",
          "text": [
            "25\n",
            "25\n"
          ]
        }
      ]
    },
    {
      "cell_type": "code",
      "source": [
        "a = [64, 34, 25, 12, 22, 11, 90]                 #sir         #correct\n",
        "k = 3\n",
        "\n",
        "n = len(a)\n",
        "for j in range(n - 1):\n",
        "    f = False\n",
        "    for i in range(0, n - 1 - j):\n",
        "        if a[i] < a[i + 1]:  # sort in descending order\n",
        "            a[i], a[i + 1] = a[i + 1], a[i]\n",
        "            f = True\n",
        "    if not f:\n",
        "        break\n",
        "\n",
        "print(f\"{k}th largest element is:\", a[k - 1])\n"
      ],
      "metadata": {
        "colab": {
          "base_uri": "https://localhost:8080/"
        },
        "id": "jj1SMJQqM6xD",
        "outputId": "9befb93c-7087-4789-f111-0884c078e739"
      },
      "execution_count": null,
      "outputs": [
        {
          "output_type": "stream",
          "name": "stdout",
          "text": [
            "3th largest element is: 34\n"
          ]
        }
      ]
    },
    {
      "cell_type": "code",
      "source": [
        "# kth largest element in bubble sort      #mahi\n",
        "\n",
        "a=[3,5,1,2,4,7,7,8]\n",
        "k=3\n",
        "a=list(set(a))\n",
        "for i in range(len(a)-1):\n",
        "    swapped=False\n",
        "    for j in range(len(a)-1-i):\n",
        "        if a[j]>a[j+1]:\n",
        "            a[j],a[j+1]=a[j+1],a[j]\n",
        "        swapped=True\n",
        "    if not swapped:\n",
        "        break\n",
        "    if i==k:\n",
        "        print(a[len(a)-i])\n",
        "print(a)"
      ],
      "metadata": {
        "colab": {
          "base_uri": "https://localhost:8080/"
        },
        "id": "Dllfaj5hMUwE",
        "outputId": "ec976133-cbed-40a2-cee8-c582c3c10b01"
      },
      "execution_count": null,
      "outputs": [
        {
          "output_type": "stream",
          "name": "stdout",
          "text": [
            "5\n",
            "[1, 2, 3, 4, 5, 7, 8]\n"
          ]
        }
      ]
    },
    {
      "cell_type": "code",
      "source": [
        "#Q4\n",
        "\n",
        "# a=['c','e','a','b','f']                       #using bubble sort\n",
        "# output = [a,b,c,e,f]                  #ord for ascii\n",
        "\n",
        "\n",
        "a=['c','e','a','b','f']             #\n",
        "for j in range(len(a)-1):\n",
        "  f=False\n",
        "  for i in range(0,len(a)-1-j):\n",
        "    # c=c+1\n",
        "    if (a[i]>a[i+1]):\n",
        "      f=True\n",
        "      a[i],a[i+1]=a[i+1],a[i]\n",
        "  if(f==False):\n",
        "    break\n",
        "print(a)\n",
        "  # print(c)"
      ],
      "metadata": {
        "id": "psExNquB2wR8",
        "colab": {
          "base_uri": "https://localhost:8080/"
        },
        "outputId": "31491a0d-92bf-47d7-fde8-a9b421972081"
      },
      "execution_count": null,
      "outputs": [
        {
          "output_type": "stream",
          "name": "stdout",
          "text": [
            "['a', 'b', 'c', 'e', 'f']\n"
          ]
        }
      ]
    },
    {
      "cell_type": "code",
      "source": [
        "#Q5\n",
        "\n",
        "# a=[[2,3],[5,1],[1,4],[2,7],[1,3]]              # using bubble sort\n",
        "# output =[[5,1],[2,3],[1,3],[1,4],[2,7]]\n",
        "\n",
        "\n",
        "# a=[[2,3],[5,1],[1,4],[2,7],[1,3]]      #incomlete\n",
        "# for i in range(len(a)-1):\n",
        "#   i[i][1]>a[i+1][1]:\n",
        "\n",
        "\n",
        "\n",
        "a = [[2,3,],[5,1],[1,4],[2,7],[1,3]]\n",
        "c=0\n",
        "for j in  range(len(a)-1):\n",
        "  a1=False\n",
        "  for i in range(len(a)-1-j):\n",
        "    c+=1\n",
        "    if (a[i][1]>a[i+1][1]):\n",
        "      a[i],a[i+1]=a[i+1],a[i]\n",
        "      a1=True\n",
        "  if a1==False:\n",
        "    break\n",
        "print(a)"
      ],
      "metadata": {
        "id": "55ol8z6B2wPZ",
        "colab": {
          "base_uri": "https://localhost:8080/"
        },
        "outputId": "e346649a-2a1a-4726-bc01-970c4bd72803"
      },
      "execution_count": null,
      "outputs": [
        {
          "output_type": "stream",
          "name": "stdout",
          "text": [
            "[[5, 1], [2, 3], [1, 3], [1, 4], [2, 7]]\n"
          ]
        }
      ]
    },
    {
      "cell_type": "markdown",
      "source": [
        "Q6               \n",
        "a=[\"zebra\",\"cat\",\"apple\",\"car\",\"bat\"]    -------------#lexographical order           \n",
        "output=['apple', 'bat', 'cat', 'car', 'zebra']           \n",
        "if the 1st and 2nd letters are same ,print the same order"
      ],
      "metadata": {
        "id": "9kKqPRnMNL0h"
      }
    },
    {
      "cell_type": "code",
      "source": [
        "# #Q6\n",
        "# a=[\"zebra\",\"cat\",\"apple\",\"car\",\"bat\"]\n",
        "# output=['apple', 'bat', 'cat', 'car', 'zebra']                     #lexographical order\n",
        "# if the 1st and 2nd letters are same ,print the same order\n",
        "\n",
        "a=[\"zebra\",\"cat\",\"apple\",\"car\",\"bat\"]\n",
        "\n",
        "for j in range(len(a)-1):                           # slit different output\n",
        "  f=False\n",
        "  for i in range(0,len(a)-1-j):\n",
        "    if (a[i]>a[i+1]):\n",
        "      f=True\n",
        "      a[i],a[i+1]=a[i+1],a[i]\n",
        "  if(f==False):\n",
        "    break\n",
        "print(a)\n"
      ],
      "metadata": {
        "id": "yOQD_Tlg2wNu",
        "colab": {
          "base_uri": "https://localhost:8080/"
        },
        "outputId": "73a169ca-10c6-4d03-9683-44dfd147d928"
      },
      "execution_count": null,
      "outputs": [
        {
          "output_type": "stream",
          "name": "stdout",
          "text": [
            "['apple', 'bat', 'car', 'cat', 'zebra']\n"
          ]
        }
      ]
    },
    {
      "cell_type": "markdown",
      "source": [
        "#lexographical order"
      ],
      "metadata": {
        "id": "8oJjJuBNNVck"
      }
    },
    {
      "cell_type": "code",
      "source": [
        "#\n",
        "# a=[\"zebra\",\"cat\",\"apple\",\"car\",\"bat\"]                     ## lexographical order\n",
        "# output=['apple', 'bat', 'cat', 'car', 'zebra']                     # correct code\n",
        "# if the 1st and 2nd letters are same ,print the same order\n",
        "\n",
        "a=[\"zebra\",\"cat\",\"apple\",\"car\",\"bat\"]\n",
        "c=0\n",
        "for j in  range(len(a)-1):\n",
        "  a1=False\n",
        "  for i in range(len(a)-1-j):\n",
        "    c+=1\n",
        "    if (a[i][0:1]>a[i+1][0:1]):\n",
        "      a[i],a[i+1]=a[i+1],a[i]\n",
        "      a1=True\n",
        "  if a1==False:\n",
        "    break\n",
        "print(a)"
      ],
      "metadata": {
        "id": "W3GZzI3z2wLF",
        "colab": {
          "base_uri": "https://localhost:8080/"
        },
        "outputId": "b7c18f26-0209-4cfb-e2d5-527c46860670"
      },
      "execution_count": null,
      "outputs": [
        {
          "output_type": "stream",
          "name": "stdout",
          "text": [
            "['apple', 'bat', 'cat', 'car', 'zebra']\n"
          ]
        }
      ]
    },
    {
      "cell_type": "code",
      "source": [
        "a=['school', 'car', 'hello', 'bet', 'apple','cat','bat']               #sir code\n",
        "for i in range(len(a)-1):\n",
        "  f=False\n",
        "  for j in range(len(a)-1-i):\n",
        "    if (a[j][0]>a[j+1][0]):\n",
        "      a[j],a[j+1]=a[j+1],a[j]\n",
        "      f=True\n",
        "    elif (a[j][0]==a[j+1][0] and a[j][1]>a[j+1][1]):\n",
        "      a[j],a[j+1]=a[j+1],a[j]\n",
        "      f=True\n",
        "  if f==False:\n",
        "    break\n",
        "print(a)\n"
      ],
      "metadata": {
        "id": "ZGZR8yNV2wIn",
        "colab": {
          "base_uri": "https://localhost:8080/"
        },
        "outputId": "06ac859a-436b-4634-a984-eaebdf42527a"
      },
      "execution_count": null,
      "outputs": [
        {
          "output_type": "stream",
          "name": "stdout",
          "text": [
            "['apple', 'bat', 'bet', 'car', 'cat', 'hello', 'school']\n"
          ]
        }
      ]
    },
    {
      "cell_type": "markdown",
      "source": [
        "Q7                  \n",
        "n=[[14,13,12],[8,10,5],[7,9,20],[14,8,3]]     \n",
        "output =[14,8,3],[8,10,5],[7,9,20],[14,13,12]         \n",
        "in the subarray there is a prime number arrange then in the order, using bubble sort\n",
        "\n"
      ],
      "metadata": {
        "id": "REYgrJZDNb7P"
      }
    },
    {
      "cell_type": "code",
      "source": [
        "#  ------------Q7\n",
        "# in the subarray there is a prime number arrange then in the order, using bubble sort\n",
        "# n=[[14,13,12],[8,10,5],[7,9,20],[14,8,3]]\n",
        "# output =[14,8,3],[8,10,5],[7,9,20],[14,13,12]\n",
        "\n",
        "\n",
        "def prime(x):                                  #sir\n",
        "  for i in x:\n",
        "    for j in range(2,int(i**0.5)+1):\n",
        "      if(i%j==0):\n",
        "        break\n",
        "    else:\n",
        "      return i\n",
        "a=[[14,13,12],[8,10,5],[7,9,20],[14,8,3]]\n",
        "b=[]\n",
        "for i in a:\n",
        "  b.append(prime(i))\n",
        "# print(b)  #print the prime numders       #op=[13, 5, 7, 3]\n",
        "for i in range(len(b)-1):                #bubble sort code\n",
        "  for j in range(len(b)-1-i):\n",
        "    f=0\n",
        "    for j in range(len(b)-1-i):\n",
        "        if(b[j]>b[j+1]):\n",
        "            b[j],b[j+1]=b[j+1],b[j]\n",
        "            a[j],a[j+1]=a[j+1],a[j]\n",
        "            f=1\n",
        "    if(f==0):\n",
        "        break\n",
        "print(a)"
      ],
      "metadata": {
        "colab": {
          "base_uri": "https://localhost:8080/"
        },
        "id": "RKLH5EBVNcpz",
        "outputId": "04dc88bb-72c4-4a7d-cd5b-9195bd70927c"
      },
      "execution_count": null,
      "outputs": [
        {
          "output_type": "stream",
          "name": "stdout",
          "text": [
            "[[14, 8, 3], [8, 10, 5], [7, 9, 20], [14, 13, 12]]\n"
          ]
        }
      ]
    },
    {
      "cell_type": "markdown",
      "source": [
        "#sort them based on the size of the words"
      ],
      "metadata": {
        "id": "GlrMvPqGNhWk"
      }
    },
    {
      "cell_type": "code",
      "source": [
        "# \"an apple a day keeps doctor away\"                #bubble sort\n",
        "#  output = a an day away apple keeps doctor\n",
        "# sort them based on the size of the words\n",
        "#---------------------------------------------------------------------\n",
        "\n",
        "\n",
        "# a=\"an apple a day keeps doctor away\".split()   # with using len()  #my\n",
        "# for i in range(len(a)-1):\n",
        "#   for j in range(len(a)-1-i):\n",
        "#     if (len(a[j])>len(a[j+1])):\n",
        "#       a[j],a[j+1]=a[j+1],a[j]\n",
        "\n",
        "# print(\" \".join(a))\n",
        "\n",
        "\n",
        "a=\"an apple a day keeps doctor away\".split()   # without using len()  #sir code\n",
        "b=[]\n",
        "for i in a:\n",
        "  b.append(len(i))\n",
        "for i in range(len(b)-1):\n",
        "  for j in range(len(b)-1-i):\n",
        "    if (b[j]>b[j+1]):\n",
        "      b[j],b[j+1]=b[j+1],b[j]\n",
        "      a[j],a[j+1]=a[j+1],a[j]\n",
        "      f=1\n",
        "    if(f==0):\n",
        "      break\n",
        "print(\" \".join(a))\n"
      ],
      "metadata": {
        "colab": {
          "base_uri": "https://localhost:8080/"
        },
        "id": "gep_tJzGNiPy",
        "outputId": "93464470-5e60-4dca-a697-7c1d65cbcf6d"
      },
      "execution_count": null,
      "outputs": [
        {
          "output_type": "stream",
          "name": "stdout",
          "text": [
            "an apple a day keeps doctor away\n"
          ]
        }
      ]
    },
    {
      "cell_type": "markdown",
      "source": [
        "#bucket sort"
      ],
      "metadata": {
        "id": "V98v9kUqNmbf"
      }
    },
    {
      "cell_type": "markdown",
      "source": [
        "sort the numbers according to the frequency/no of occerence-----> #bucket sort"
      ],
      "metadata": {
        "id": "bBD1OXA7NqqQ"
      }
    },
    {
      "cell_type": "code",
      "source": [
        "# input [7,2,6,3,6,7,7,2,2,2]         #sort the numbers according to the frequency/no of occerence  #bucket sort\n",
        "# output=[3,6,6,7,7,7,2,2,2,2]\n",
        "\n",
        "a=[7,2,6,3,6,7,7,2,2,2]         #sir code\n",
        "d={}\n",
        "for i in a:\n",
        "  if (i not in d):\n",
        "    d[i]=1\n",
        "  else:\n",
        "    d[i]+=1\n",
        "print(d)         #dict\n",
        "n=max(d.values())\n",
        "b=[]\n",
        "for i in range(n+1):\n",
        "  b.append([])\n",
        "print(b)               # bucket\n",
        "for i in d.items():\n",
        "  b[i[1]].append(i[0])\n",
        "print(d)                      #dict\n",
        "c=[]\n",
        "for i in range(len(b)):\n",
        "    for j in b[i]:\n",
        "        c.extend([j]*i)\n",
        "print(c)                           #output= [3, 6, 6, 7, 7, 7, 2, 2, 2, 2]"
      ],
      "metadata": {
        "colab": {
          "base_uri": "https://localhost:8080/"
        },
        "id": "QiJbyPHMNiyw",
        "outputId": "074c80dd-78d1-4bb1-8874-cd7803554820"
      },
      "execution_count": null,
      "outputs": [
        {
          "output_type": "stream",
          "name": "stdout",
          "text": [
            "{7: 3, 2: 4, 6: 2, 3: 1}\n",
            "[[], [], [], [], []]\n",
            "{7: 3, 2: 4, 6: 2, 3: 1}\n",
            "[3, 6, 6, 7, 7, 7, 2, 2, 2, 2]\n"
          ]
        }
      ]
    },
    {
      "cell_type": "code",
      "source": [
        "# input [7,2,6,3,6,7,7,2,2,2]         #sort the numbers according to the frequency/no of occerence\n",
        "# # output=[3,6,6,7,7,7,2,2,2,2]\n",
        "\n",
        "from collections import Counter               #used counter()\n",
        "a = [7, 2, 6, 3, 6, 7, 7, 2, 2, 2]\n",
        "counts = Counter(a)\n",
        "\n",
        "def sort_by_frequency(item):\n",
        "  return counts[item]\n",
        "\n",
        "a.sort(key=sort_by_frequency)\n",
        "print(a)"
      ],
      "metadata": {
        "colab": {
          "base_uri": "https://localhost:8080/"
        },
        "id": "xQgMevv0NivX",
        "outputId": "5b4ec528-6f28-4755-c14a-66abf1ca78c4"
      },
      "execution_count": null,
      "outputs": [
        {
          "output_type": "stream",
          "name": "stdout",
          "text": [
            "[3, 6, 6, 7, 7, 7, 2, 2, 2, 2]\n"
          ]
        }
      ]
    },
    {
      "cell_type": "markdown",
      "source": [
        "#recap"
      ],
      "metadata": {
        "id": "fmLX5if7NyLI"
      }
    },
    {
      "cell_type": "code",
      "source": [
        "a=['apple','hi','hey','students','hello']\n",
        "a.sort()\n",
        "print(a)\n",
        "a.sort(key=len)\n",
        "print(a)"
      ],
      "metadata": {
        "colab": {
          "base_uri": "https://localhost:8080/"
        },
        "id": "34JTVJ9FNiro",
        "outputId": "5d4df8db-656d-4b5e-bafb-ca75968e8853"
      },
      "execution_count": null,
      "outputs": [
        {
          "output_type": "stream",
          "name": "stdout",
          "text": [
            "['apple', 'hello', 'hey', 'hi', 'students']\n",
            "['hi', 'hey', 'apple', 'hello', 'students']\n"
          ]
        }
      ]
    },
    {
      "cell_type": "code",
      "source": [
        "def qwe(x):\n",
        "  return x[1]\n",
        "  # return x[0]+x[1]\n",
        "a=[[3,9],[4,2],[10,1],[5,7],[3,8]]\n",
        "a.sort()\n",
        "print(a)\n",
        "a.sort(key=qwe)\n",
        "print(a)"
      ],
      "metadata": {
        "colab": {
          "base_uri": "https://localhost:8080/"
        },
        "id": "_X8QT5adNip8",
        "outputId": "20e8de16-4691-4133-a6c0-985e41571134"
      },
      "execution_count": null,
      "outputs": [
        {
          "output_type": "stream",
          "name": "stdout",
          "text": [
            "[[3, 8], [3, 9], [4, 2], [5, 7], [10, 1]]\n",
            "[[10, 1], [4, 2], [5, 7], [3, 8], [3, 9]]\n"
          ]
        }
      ]
    },
    {
      "cell_type": "code",
      "source": [
        "def qwe(x):                              #prime number\n",
        "  for i in x:\n",
        "    for j in range(2,int(i**0.5)+1):\n",
        "      if(i%j==0):\n",
        "        break\n",
        "    else:\n",
        "      return i\n",
        "  return 0\n",
        "  # return x[1]\n",
        "  # return x[0]+x[1]\n",
        "a=[[3,9],[4,2],[10,1],[5,7],[3,8]]\n",
        "a.sort(key=qwe)\n",
        "print(a)\n",
        "a.sort(key=qwe,reverse=True)    #reverse\n",
        "print(a)"
      ],
      "metadata": {
        "colab": {
          "base_uri": "https://localhost:8080/"
        },
        "id": "5T5f4X6hNin7",
        "outputId": "93f564a4-c566-4d4f-d6dc-f178aba8c8af"
      },
      "execution_count": null,
      "outputs": [
        {
          "output_type": "stream",
          "name": "stdout",
          "text": [
            "[[10, 1], [4, 2], [3, 9], [3, 8], [5, 7]]\n",
            "[[5, 7], [3, 9], [3, 8], [4, 2], [10, 1]]\n"
          ]
        }
      ]
    }
  ]
}