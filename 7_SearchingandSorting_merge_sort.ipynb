{
  "nbformat": 4,
  "nbformat_minor": 0,
  "metadata": {
    "colab": {
      "provenance": [],
      "authorship_tag": "ABX9TyP1B6xoC3ut5/yhLE+MjQvd",
      "include_colab_link": true
    },
    "kernelspec": {
      "name": "python3",
      "display_name": "Python 3"
    },
    "language_info": {
      "name": "python"
    }
  },
  "cells": [
    {
      "cell_type": "markdown",
      "metadata": {
        "id": "view-in-github",
        "colab_type": "text"
      },
      "source": [
        "<a href=\"https://colab.research.google.com/github/Nikhilhello/Adv_DSA-PySnippets/blob/main/7_SearchingandSorting_merge_sort.ipynb\" target=\"_parent\"><img src=\"https://colab.research.google.com/assets/colab-badge.svg\" alt=\"Open In Colab\"/></a>"
      ]
    },
    {
      "cell_type": "markdown",
      "source": [
        "#7"
      ],
      "metadata": {
        "id": "MrXbZOhmkMPT"
      }
    },
    {
      "cell_type": "markdown",
      "source": [
        "#(2 sorted lists ,make it into 1 sorted list, ---merge_sort, ---find the Kth largest elements from the unsorted list, ---find the number of freq is > than (n/2) ,---index of last occerence of the element, ---)\n"
      ],
      "metadata": {
        "id": "j9ybpCF8kMLt"
      }
    },
    {
      "cell_type": "markdown",
      "source": [
        "--------------------------------------------\n",
        "1.             \n",
        "**there are 2 sorted lists ,make it into 1 sorted list**      \n",
        "input a=[2,4,5,8,9]                          \n",
        "      b=[3,5,6,9,11,12,13]             \n",
        "\n",
        " output  [2,3,4,5,5,6,8,9,11,12,13]      "
      ],
      "metadata": {
        "id": "TxOsYXWlkVdd"
      }
    },
    {
      "cell_type": "code",
      "execution_count": null,
      "metadata": {
        "id": "p-NsmGh1kJav",
        "colab": {
          "base_uri": "https://localhost:8080/"
        },
        "outputId": "e76e14bd-f2a3-45bc-d7ae-1b12e828c30f"
      },
      "outputs": [
        {
          "output_type": "stream",
          "name": "stdout",
          "text": [
            "[2, 3, 4, 5, 5, 6, 8, 9, 9, 11, 12, 13]\n"
          ]
        }
      ],
      "source": [
        "# there are 2 sorted lists ,make it into 1 sorted list\n",
        "# input a=[2,4,5,8,9]\n",
        "#       b=[3,5,6,9,11,12,13]\n",
        "\n",
        "# output  [2,3,4,5,5,6,8,9,11,12,13]\n",
        "\n",
        "a=[2,4,5,8,9]\n",
        "b=[3,5,6,9,11,12,13]           # i did using sort()\n",
        "c=[]\n",
        "for i in a:\n",
        "    c.append(i)\n",
        "for i in b:\n",
        "    c.append(i)\n",
        "c.sort()\n",
        "print(c)\n"
      ]
    },
    {
      "cell_type": "code",
      "source": [
        "                                                                   # sir code    #correct code\n",
        "a=[2,4,5,8,9]\n",
        "b=[3,5,6,9,11,12,13]\n",
        "c=[]\n",
        "i=j=0\n",
        "while(i<len(a) and j<len(b)):\n",
        "  if(a[i]<b[j]):\n",
        "    c.append(a[i])\n",
        "    i+=1\n",
        "  else:\n",
        "    c.append(b[j])\n",
        "    j+=1\n",
        "# print(c)   still some nubers are not comming\n",
        "while(j<len(b)):      #use in this case for the above question\n",
        "  c.append(b[j])\n",
        "  j+=1\n",
        "while(i<len(a)):     #comes into play  # used in this case if  #a=[2,4,5,8,9,17]\n",
        "  c.append(a[i])\n",
        "  i+=1\n",
        "print(c)"
      ],
      "metadata": {
        "colab": {
          "base_uri": "https://localhost:8080/"
        },
        "id": "KgKo6dVXwgu2",
        "outputId": "3bfa4754-db0e-41bf-96aa-65a8f272cb10"
      },
      "execution_count": null,
      "outputs": [
        {
          "output_type": "stream",
          "name": "stdout",
          "text": [
            "[2, 3, 4, 5, 5, 6, 8, 9, 9, 11, 12, 13]\n"
          ]
        }
      ]
    },
    {
      "cell_type": "markdown",
      "source": [
        "#merge_sort"
      ],
      "metadata": {
        "id": "p4S1lX2EwnhG"
      }
    },
    {
      "cell_type": "code",
      "source": [
        "#-------merge_sort---------------\n",
        "def merge_sort(x):\n",
        "  if(len(x)==1):\n",
        "    return x\n",
        "  m=len(x)//2\n",
        "  l=merge_sort(x[ :m])\n",
        "  r=merge_sort(x[m: ])\n",
        "  return merge(l,r)\n",
        "def merge(l,r):\n",
        "  i=j=0\n",
        "  c=[]\n",
        "  while (i<len(l) and j<len(r)):\n",
        "    if (l[i]<r[j]):\n",
        "      c.append(l[i])\n",
        "      i=i+1\n",
        "    else:\n",
        "      c.append(r[j])\n",
        "      j=j+1\n",
        "  while(i<len(l)):\n",
        "    c.append(l[i])\n",
        "    i=i+1\n",
        "  while(j<len(r)):\n",
        "    c.append(r[j])\n",
        "    j=j+1\n",
        "\n",
        "  return c\n",
        "\n",
        "x=[16,8,12,3,7,5,1,12]\n",
        "print(merge_sort(x))"
      ],
      "metadata": {
        "colab": {
          "base_uri": "https://localhost:8080/"
        },
        "id": "lb0JXtdbwpKv",
        "outputId": "1bfde98e-cf9f-4997-9311-2d6659ec3c17"
      },
      "execution_count": null,
      "outputs": [
        {
          "output_type": "stream",
          "name": "stdout",
          "text": [
            "[1, 3, 5, 7, 8, 12, 12, 16]\n"
          ]
        }
      ]
    },
    {
      "cell_type": "markdown",
      "source": [
        "#find the Kth largest elements from the unsorted list"
      ],
      "metadata": {
        "id": "B2H1y-YjwtbF"
      }
    },
    {
      "cell_type": "code",
      "source": [
        "#find the Kth largest elements from the unsorted list\n",
        "\n",
        "# a=[2,13,4,2,9,9,5,8,7,13,3]\n",
        "# k=3\n",
        "# x=list(set(a))\n",
        "# print(x)\n",
        "# print(x[-k])\n",
        "\n",
        "a=[3,6,13,8,5,4,7,13,8,2,7]\n",
        "k=3\n",
        "b=[0 for i in range(max(a)+1)]\n",
        "print(b)\n",
        "for i in a:\n",
        "  b[i]=1\n",
        "  # print(b)\n",
        "for i in range(len(b)-1,-1,-1):\n",
        "  if(b[i]==1):\n",
        "    k=k-1\n",
        "  if(k==0):\n",
        "    print(i)\n",
        "    break\n",
        "\n"
      ],
      "metadata": {
        "colab": {
          "base_uri": "https://localhost:8080/"
        },
        "id": "IzBKbcmzwvIt",
        "outputId": "8e6cac9c-8593-4703-8cf5-001afa2b8f5b"
      },
      "execution_count": null,
      "outputs": [
        {
          "output_type": "stream",
          "name": "stdout",
          "text": [
            "[0, 0, 0, 0, 0, 0, 0, 0, 0, 0, 0, 0, 0, 0]\n",
            "7\n"
          ]
        }
      ]
    },
    {
      "cell_type": "code",
      "source": [
        "a=[3,6,13,8,5,4,7,13,8,2,7]\n",
        "k=3\n",
        "b=[0 for i in range(max(a)+1)]\n",
        "print(b)\n",
        "for i in a:\n",
        "  b[i]+=1\n",
        "print(b)\n",
        "for i in range(len(b)-1,-1,-1):\n",
        "  if(b[i]!=1):\n",
        "    k=k-b[i]\n",
        "  if(k<=0):\n",
        "    print(i)        #op=8\n",
        "    break"
      ],
      "metadata": {
        "colab": {
          "base_uri": "https://localhost:8080/"
        },
        "id": "h4AH5p_Cw0dS",
        "outputId": "39f58c75-87d0-4972-a804-0076acde237c"
      },
      "execution_count": null,
      "outputs": [
        {
          "output_type": "stream",
          "name": "stdout",
          "text": [
            "[0, 0, 0, 0, 0, 0, 0, 0, 0, 0, 0, 0, 0, 0]\n",
            "[0, 0, 1, 1, 1, 1, 1, 2, 2, 0, 0, 0, 0, 2]\n",
            "8\n"
          ]
        }
      ]
    },
    {
      "cell_type": "code",
      "source": [
        "# find the number which has highest of frequency , list has lot of dublicates\n",
        "\n",
        "# from collections import Counter\n",
        "# a=[2,13,4,2,9,9,5,8,7,13,3,9]\n",
        "# d=dict(Counter(a))\n",
        "# print(d)\n",
        "# for k,v in d.items():\n",
        "#   max(d.values())\n",
        "# print()\n",
        "\n",
        "\n",
        "a=[3,6,13,8,5,4,7,8,8,13,8,2,7]\n",
        "d={}\n",
        "for i in a:\n",
        "  if(i not in d):\n",
        "    d[i]=1\n",
        "  else:\n",
        "    d[i]+=1\n",
        "print(d)\n",
        "m=0\n",
        "for i,j in d.items():\n",
        "  if(j>m):\n",
        "    m=j\n",
        "    res=i\n",
        "print(res)      #printing the largest frequesn"
      ],
      "metadata": {
        "colab": {
          "base_uri": "https://localhost:8080/"
        },
        "id": "qDVJGkMEw2iQ",
        "outputId": "9eb44c34-40e6-42c4-bb47-a523a81ebf41"
      },
      "execution_count": null,
      "outputs": [
        {
          "output_type": "stream",
          "name": "stdout",
          "text": [
            "{3: 1, 6: 1, 13: 2, 8: 4, 5: 1, 4: 1, 7: 2, 2: 1}\n",
            "8\n"
          ]
        }
      ]
    },
    {
      "cell_type": "code",
      "source": [
        "# find the kth largest for the freeq\n",
        "a=[3,6,4,5,3,4,2,3,6,7,8,8,7,6,7,7,1,1,1]\n",
        "freq = {}\n",
        "k=3\n",
        "for i in a:\n",
        "    if i not in freq:\n",
        "        freq[i] = 1\n",
        "    else:\n",
        "        freq[i] += 1\n",
        "print(freq)\n",
        "m=max(freq.values())\n",
        "# print(m)\n",
        "b=[0 for i in range(m+1)]\n",
        "for i in freq:\n",
        "    b[freq[i]]=i\n",
        "    print(b)\n",
        "print(b[-k])\n"
      ],
      "metadata": {
        "colab": {
          "base_uri": "https://localhost:8080/"
        },
        "id": "_GweTNWWw8oW",
        "outputId": "74995cc6-9a62-4b1a-b108-52feb4d027c9"
      },
      "execution_count": null,
      "outputs": [
        {
          "output_type": "stream",
          "name": "stdout",
          "text": [
            "{3: 3, 6: 3, 4: 2, 5: 1, 2: 1, 7: 4, 8: 2, 1: 3}\n",
            "[0, 0, 0, 3, 0]\n",
            "[0, 0, 0, 6, 0]\n",
            "[0, 0, 4, 6, 0]\n",
            "[0, 5, 4, 6, 0]\n",
            "[0, 2, 4, 6, 0]\n",
            "[0, 2, 4, 6, 7]\n",
            "[0, 2, 8, 6, 7]\n",
            "[0, 2, 8, 1, 7]\n",
            "8\n"
          ]
        }
      ]
    },
    {
      "cell_type": "markdown",
      "source": [
        "#solving a frequency sort-style problem using bucket sort"
      ],
      "metadata": {
        "id": "A_lIhNgORmVW"
      }
    },
    {
      "cell_type": "code",
      "source": [
        "from collections import Counter\n",
        "a=[2,13,4,2,9,9,5,8,7,13,3,9]\n",
        "d=dict(Counter(a))\n",
        "print(d)\n",
        "a=max(d.values())\n",
        "print(a)\n",
        "b=[[] for _ in range(a+1)]\n",
        "for k,v in d.items():\n",
        "  b[v].append(k)                                #should edit nagani      #wrong\n",
        "  # print(b)\n",
        "c=[]\n",
        "for i in range(len(b)):\n",
        "  for j in b[i]:\n",
        "    c.extend([j])\n",
        "print(c,b)"
      ],
      "metadata": {
        "colab": {
          "base_uri": "https://localhost:8080/"
        },
        "id": "kub6CBPQw_G3",
        "outputId": "8dbfd5ed-b8b3-488c-8dde-b3586a67d1cb"
      },
      "execution_count": null,
      "outputs": [
        {
          "output_type": "stream",
          "name": "stdout",
          "text": [
            "{2: 2, 13: 2, 4: 1, 9: 3, 5: 1, 8: 1, 7: 1, 3: 1}\n",
            "3\n",
            "[4, 5, 8, 7, 3, 2, 13, 9] [[], [4, 5, 8, 7, 3], [2, 13], [9]]\n"
          ]
        }
      ]
    },
    {
      "cell_type": "code",
      "source": [
        "from collections import Counter                #edited     #naga\n",
        "\n",
        "a = [2, 13, 4, 2, 9, 9, 5, 8, 7, 13, 3, 9]\n",
        "\n",
        "# Step 1: Count frequencies\n",
        "d = dict(Counter(a))\n",
        "print(\"Frequencies:\", d)\n",
        "\n",
        "# Step 2: Get the maximum frequency\n",
        "max_freq = max(d.values())\n",
        "\n",
        "# Step 3: Create buckets where index = frequency\n",
        "buckets = [[] for _ in range(max_freq + 1)]\n",
        "for key, freq in d.items():\n",
        "    buckets[freq].append(key)\n",
        "\n",
        "# Step 4: Flatten the bucket list\n",
        "result = []\n",
        "for i in range(1, len(buckets)):  # Skip index 0 (no frequency 0)\n",
        "    for num in buckets[i]:\n",
        "        result.extend([num] * i)  # Repeat the number based on its frequency\n",
        "\n",
        "print(\"Final result:\", result)\n",
        "print(\"Buckets:\", buckets)\n"
      ],
      "metadata": {
        "colab": {
          "base_uri": "https://localhost:8080/"
        },
        "id": "24ea8OQNRYg8",
        "outputId": "8f75ee55-93f4-4719-aaf9-2d77c11b0997"
      },
      "execution_count": null,
      "outputs": [
        {
          "output_type": "stream",
          "name": "stdout",
          "text": [
            "Frequencies: {2: 2, 13: 2, 4: 1, 9: 3, 5: 1, 8: 1, 7: 1, 3: 1}\n",
            "Final result: [4, 5, 8, 7, 3, 2, 2, 13, 13, 9, 9, 9]\n",
            "Buckets: [[], [4, 5, 8, 7, 3], [2, 13], [9]]\n"
          ]
        }
      ]
    },
    {
      "cell_type": "code",
      "source": [
        "# sir         #mahi\n",
        "# find the Kth largest elements from the unsorted list\n",
        "a=[3,6,13,8,5,4,7,13,8,2,7]\n",
        "k=3\n",
        "b=[0 for i in range(max(a)+1)]\n",
        "print(b)\n",
        "for i in a:\n",
        "  b[i]=1\n",
        "#   print(b)\n",
        "for i in range(len(b)-1,-1,-1):\n",
        "  if(b[i]==1):\n",
        "    k=k-1\n",
        "  if(k==0):\n",
        "    print(i)\n",
        "    break"
      ],
      "metadata": {
        "colab": {
          "base_uri": "https://localhost:8080/"
        },
        "id": "oIKRGdtvQNLq",
        "outputId": "bc35b308-f67b-4fad-e302-9a9f563e1681"
      },
      "execution_count": null,
      "outputs": [
        {
          "output_type": "stream",
          "name": "stdout",
          "text": [
            "[0, 0, 0, 0, 0, 0, 0, 0, 0, 0, 0, 0, 0, 0]\n",
            "7\n"
          ]
        }
      ]
    },
    {
      "cell_type": "code",
      "source": [
        "# find a num whose freq is greater than n/2  (boyer moore algorithm)       #mahi\n",
        "a=[2,1,1,2,3,1,1]\n",
        "a=[2,1,3,1,1,1,3]                              # res 2 1 3 1 ..\n",
        "c=0                                            # c=1,0,1,0,1,0,0...\n",
        "res=a[0]\n",
        "for i in range(len(a)-1):\n",
        "    if res==a[i]:\n",
        "        c+=1\n",
        "    else:\n",
        "        c-=1\n",
        "        if c==0:\n",
        "            res=a[i]\n",
        "            c=1\n",
        "print(res)"
      ],
      "metadata": {
        "colab": {
          "base_uri": "https://localhost:8080/"
        },
        "id": "I--PHusuQcjC",
        "outputId": "09cbb47b-0080-4bba-f0d3-9ba145e3fdb1"
      },
      "execution_count": null,
      "outputs": [
        {
          "output_type": "stream",
          "name": "stdout",
          "text": [
            "1\n"
          ]
        }
      ]
    },
    {
      "cell_type": "code",
      "source": [
        "# find the number which has highest of frequency , list has lot of duplicates\n",
        "a=[3,6,13,8,5,4,7,8,8,13,8,2,7]           #mahi\n",
        "d={}\n",
        "for i in a:\n",
        "  if(i not in d):\n",
        "    d[i]=1\n",
        "  else:\n",
        "    d[i]+=1\n",
        "print(d)\n",
        "m=0\n",
        "for i,j in d.items():\n",
        "  if(j>m):\n",
        "    m=j\n",
        "    res=i\n",
        "print(res)      #printing the largest frequency"
      ],
      "metadata": {
        "colab": {
          "base_uri": "https://localhost:8080/"
        },
        "id": "RssWo_ngQbJ_",
        "outputId": "caccd88c-8248-4286-9e89-d54cb2f5abed"
      },
      "execution_count": null,
      "outputs": [
        {
          "output_type": "stream",
          "name": "stdout",
          "text": [
            "{3: 1, 6: 1, 13: 2, 8: 4, 5: 1, 4: 1, 7: 2, 2: 1}\n",
            "8\n"
          ]
        }
      ]
    },
    {
      "cell_type": "code",
      "source": [
        "# linear search unsorterd array print the index of last occurance of the array if not found return -1\n",
        "ip=[2,4,3,2,4,2,3,4,5]                    #mahi\n",
        "x=4\n",
        "def index(ip,x):\n",
        "    ind=-1\n",
        "    for i in range(len(ip)):\n",
        "        if ip[i]==x:\n",
        "            ind=i\n",
        "    return ind\n",
        "print(index(ip,x))"
      ],
      "metadata": {
        "colab": {
          "base_uri": "https://localhost:8080/"
        },
        "id": "20kToTWBQo0B",
        "outputId": "f2743413-eb67-4c21-a2c5-19c744066660"
      },
      "execution_count": null,
      "outputs": [
        {
          "output_type": "stream",
          "name": "stdout",
          "text": [
            "7\n"
          ]
        }
      ]
    },
    {
      "cell_type": "markdown",
      "source": [
        "**majority  algoritham ----or----moors algo**\n",
        "  \n",
        "\n",
        "find the number of freq is > than (n/2)        \n",
        "a=[2,1,1,2,3,1,1]                        \n",
        "7/2=3.5 ---------  so,1s freq is more then n/2             \n",
        "op=1     \n"
      ],
      "metadata": {
        "id": "sMqhKFvcxDE-"
      }
    },
    {
      "cell_type": "code",
      "source": [
        "# find the number of freq is > than (n/2)                       #majority  algo  or moors voting algo\n",
        "# a=[2,1,1,2,3,1,1]\n",
        "# 7/2=3.5   so,1s freq is more then n/2\n",
        "# op=1\n",
        "\n",
        "from collections import Counter            #my\n",
        "a=[3,3,3,2,7,3]\n",
        "# a=[2,1,1,2,3,1,1]                         #used dict\n",
        "d=dict(Counter(a))\n",
        "print(d)\n",
        "for k,v in d.items():\n",
        "  if(v>len(a)//2):\n",
        "    print(k)\n"
      ],
      "metadata": {
        "colab": {
          "base_uri": "https://localhost:8080/"
        },
        "id": "-RzFNjyJxEqc",
        "outputId": "691ee29e-b25e-4e43-b738-a4a7a1dc06b9"
      },
      "execution_count": null,
      "outputs": [
        {
          "output_type": "stream",
          "name": "stdout",
          "text": [
            "{3: 4, 2: 1, 7: 1}\n",
            "3\n"
          ]
        }
      ]
    },
    {
      "cell_type": "code",
      "source": [
        "a=[2,1,3,1,1,1,3]                     #sir said      #without dict\n",
        "c=1                                   #t= O(n)   s= O(1)\n",
        "res=a[0]\n",
        "for i in range(1,len(a)):\n",
        "  if(res==a[i]):\n",
        "    c=c+1\n",
        "  else:\n",
        "    c=c-1\n",
        "    if(c==0):\n",
        "      res=a[i]\n",
        "      c=1\n",
        "print(res)\n"
      ],
      "metadata": {
        "colab": {
          "base_uri": "https://localhost:8080/"
        },
        "id": "IQ7G8fxKxFOS",
        "outputId": "853c018c-02dc-4526-cb93-61b1749fda00"
      },
      "execution_count": null,
      "outputs": [
        {
          "output_type": "stream",
          "name": "stdout",
          "text": [
            "1\n"
          ]
        }
      ]
    },
    {
      "cell_type": "markdown",
      "source": [
        "#sreaching"
      ],
      "metadata": {
        "id": "W9vjvVhwxMHR"
      }
    },
    {
      "cell_type": "markdown",
      "source": [
        "print the index of last occerence of the element               \n",
        "a=[2,4,3,1,4,2,3,4,5]      \n",
        "x=4                \n",
        "if not found -1                 \n",
        "if found print the index of last occerence of the element         \n",
        "output is 7  "
      ],
      "metadata": {
        "id": "s2o1_hOYxQh9"
      }
    },
    {
      "cell_type": "code",
      "source": [
        "# print the index of last occerence of the element         #using       #linear search\n",
        "# a=[2,4,3,1,4,2,3,4,5]\n",
        "# x=4\n",
        "# if not found -1\n",
        "# if found print the index of last occerence of the element\n",
        "# output is 7\n",
        "\n",
        "\n",
        "a=[2,4,3,1,4,2,3,4,5]            #my\n",
        "x=4\n",
        "for i in range(len(a)):\n",
        "  if (a[i]==x):\n",
        "    res=i\n",
        "print(res)"
      ],
      "metadata": {
        "colab": {
          "base_uri": "https://localhost:8080/"
        },
        "id": "TxRwHwDxxFMQ",
        "outputId": "422dc8da-7726-4064-88ec-f88ebab6e3d2"
      },
      "execution_count": null,
      "outputs": [
        {
          "output_type": "stream",
          "name": "stdout",
          "text": [
            "7\n"
          ]
        }
      ]
    },
    {
      "cell_type": "code",
      "source": [
        "# print the index of last occerence of the element         #using\n",
        "\n",
        "# a=[2,3,5,6,7,7,8,9,10,10,10,13,15]                       #binary search\n",
        "# # m=(l+r)/2\n",
        "# x=9\n",
        "# l=0\n",
        "# r=len(a)-1\n",
        "# while (l<=r):                               #basic code of binary\n",
        "#   m=(l+r)//2\n",
        "#   if(a[m]==x):\n",
        "#     print(\"found\")\n",
        "#     break\n",
        "#   elif(x<a[m]):\n",
        "#     r=m-1\n",
        "#   elif(x>a[m]):\n",
        "#     l=m+1\n",
        "# else:\n",
        "#   print(\"not found\")             #output=found\n",
        "\n",
        "#-----------------------------------------------------------------------------\n",
        "\n",
        "a=[2,4,3,1,4,2,3,4,5]                       #binary search\n",
        "x=3\n",
        "res=-1     #if not found print  -1\n",
        "l=0\n",
        "r=len(a)-1\n",
        "while (l<=r):                               #code of binary\n",
        "  m=(l+r)//2\n",
        "  if(a[m]==x):\n",
        "    res=m\n",
        "    l=m+1              #last index  m+1,front  index use m-1\n",
        "    # print(\"found\")\n",
        "    # break\n",
        "  elif(x<a[m]):\n",
        "    r=m-1\n",
        "  elif(x>a[m]):\n",
        "    l=m+1\n",
        "\n",
        "print(res)\n"
      ],
      "metadata": {
        "colab": {
          "base_uri": "https://localhost:8080/"
        },
        "id": "qTtPZlU1xFK8",
        "outputId": "8c3322e7-d6db-460a-bb9b-cf53b405efd0"
      },
      "execution_count": null,
      "outputs": [
        {
          "output_type": "stream",
          "name": "stdout",
          "text": [
            "-1\n"
          ]
        }
      ]
    },
    {
      "cell_type": "code",
      "source": [
        "# last occrance\n",
        "\n",
        "def last_occurrence(arr, target):\n",
        "    low = 0\n",
        "    high = len(arr) - 1\n",
        "    result = -1\n",
        "\n",
        "    while low <= high:\n",
        "        mid = (low + high) // 2\n",
        "\n",
        "        if arr[mid] == target:\n",
        "            result = mid             # Store result and go right\n",
        "            low = mid + 1\n",
        "        elif arr[mid] < target:\n",
        "            low = mid + 1\n",
        "        else:\n",
        "            high = mid - 1\n",
        "\n",
        "    return result\n",
        "arr = [1, 2, 2, 2, 3, 4, 5]\n",
        "target = 2\n",
        "\n",
        "index = last_occurrence(arr, target)\n",
        "print(index)"
      ],
      "metadata": {
        "colab": {
          "base_uri": "https://localhost:8080/"
        },
        "id": "XdcaNFluxFJc",
        "outputId": "17798889-6b74-4427-ab86-4232530f30b7"
      },
      "execution_count": null,
      "outputs": [
        {
          "output_type": "stream",
          "name": "stdout",
          "text": [
            "3\n"
          ]
        }
      ]
    },
    {
      "cell_type": "code",
      "source": [
        "# if element not found return at what index it should be plased in sorted list\n",
        "\n",
        "def binary_search(arr, target):\n",
        "    low = 0\n",
        "    high = len(arr) - 1\n",
        "\n",
        "    while low <= high:\n",
        "        mid = (low + high) // 2\n",
        "\n",
        "        if arr[mid] == target:\n",
        "            return mid  # Found at index mid\n",
        "        elif arr[mid] >= target:\n",
        "          high = mid - 1\n",
        "        else:\n",
        "          low = mid + 1\n",
        "\n",
        "\n",
        "    return low  # Not found\n",
        "arr = [1, 3, 5, 7, 9, 11, 13, 15]\n",
        "target = 12\n",
        "\n",
        "index = binary_search(arr, target)\n",
        "if index != -1:\n",
        "    print(f\"Element {target} found at index {index}\")\n",
        "else:\n",
        "  # for i in range(len(arr)):\n",
        "  #   if arr[i]>target:\n",
        "  #     ll=i\n",
        "  #     break\n",
        "  print(f\"Element should intert at index {index} because element not found\")"
      ],
      "metadata": {
        "colab": {
          "base_uri": "https://localhost:8080/"
        },
        "id": "7lS92UzGxFF-",
        "outputId": "db8c037f-a844-47e0-c6fe-1f6bf04bc816"
      },
      "execution_count": null,
      "outputs": [
        {
          "output_type": "stream",
          "name": "stdout",
          "text": [
            "Element 12 found at index 6\n"
          ]
        }
      ]
    },
    {
      "cell_type": "code",
      "source": [
        "## if element not found return at what index it should be plased in sorted list\n",
        "a=[2,3,5,6,7,7,9,10,10,10,13,15]          #index start from 1\n",
        "x=8\n",
        "l,r=0,len(a)-1\n",
        "f=-1\n",
        "while l<=r:\n",
        "    m=(l+r)//2\n",
        "    if a[m]==x:\n",
        "        f=m\n",
        "        l=m+1\n",
        "    elif x>a[m]:\n",
        "        l=m+1\n",
        "    elif x<a[m]:\n",
        "        r=m-1\n",
        "f=l                 #f=l-1   if u use     index start from 0\n",
        "print(f)"
      ],
      "metadata": {
        "colab": {
          "base_uri": "https://localhost:8080/"
        },
        "id": "X52Ma6AKxdwY",
        "outputId": "5e2ebc9d-3b4e-450f-a2f3-b095d589daf1"
      },
      "execution_count": null,
      "outputs": [
        {
          "output_type": "stream",
          "name": "stdout",
          "text": [
            "6\n"
          ]
        }
      ]
    },
    {
      "cell_type": "markdown",
      "source": [
        "#leetcode 34,35,"
      ],
      "metadata": {
        "id": "WdFiHdkbxgPK"
      }
    },
    {
      "cell_type": "code",
      "source": [
        "a=[2,2,7,10]   #exam\n",
        "b=[2,3]\n",
        "c=[]\n",
        "for i in a:\n",
        "    c.append(i)\n",
        "for i in b:\n",
        "    c.append(i)\n",
        "c.sort()\n",
        "print(c[:len(a)])\n",
        "print(c[len(a):])"
      ],
      "metadata": {
        "colab": {
          "base_uri": "https://localhost:8080/"
        },
        "id": "MlRVRh3rxmUf",
        "outputId": "e777a9f1-ed0d-4635-9f41-a7a19d6bd6c0"
      },
      "execution_count": null,
      "outputs": [
        {
          "output_type": "stream",
          "name": "stdout",
          "text": [
            "[2, 2, 2, 3]\n",
            "[7, 10]\n"
          ]
        }
      ]
    },
    {
      "cell_type": "code",
      "source": [
        "a=[2,2,7,10]           #exma\n",
        "b=[2,3]\n",
        "c=[]\n",
        "d=[]\n",
        "i=j=0\n",
        "while len(c)<len(a):\n",
        "  if(a[i]<b[j]):\n",
        "    c.append(a[i])\n",
        "    i+=1\n",
        "  else:\n",
        "    c.append(b[j])\n",
        "    j+=1\n",
        "print(c+d)\n",
        "while i<len(a):\n",
        "  d.append(a[i])\n",
        "  i+=1\n",
        "while j<len(b):\n",
        "  d.append(b[j])\n",
        "  j+=1\n",
        "print(d)"
      ],
      "metadata": {
        "colab": {
          "base_uri": "https://localhost:8080/"
        },
        "id": "BPzJJppixn73",
        "outputId": "0b6bf18d-8be3-434c-e300-2d3ecbeb2f15"
      },
      "execution_count": null,
      "outputs": [
        {
          "output_type": "stream",
          "name": "stdout",
          "text": [
            "[2, 2, 2, 3]\n",
            "[7, 10]\n"
          ]
        }
      ]
    },
    {
      "cell_type": "code",
      "source": [],
      "metadata": {
        "id": "_239tTH8xn4Q"
      },
      "execution_count": null,
      "outputs": []
    }
  ]
}