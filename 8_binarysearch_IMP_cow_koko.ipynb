{
  "nbformat": 4,
  "nbformat_minor": 0,
  "metadata": {
    "colab": {
      "provenance": [],
      "authorship_tag": "ABX9TyMplCLPOD5s4wke+vhN8Ylo",
      "include_colab_link": true
    },
    "kernelspec": {
      "name": "python3",
      "display_name": "Python 3"
    },
    "language_info": {
      "name": "python"
    }
  },
  "cells": [
    {
      "cell_type": "markdown",
      "metadata": {
        "id": "view-in-github",
        "colab_type": "text"
      },
      "source": [
        "<a href=\"https://colab.research.google.com/github/Nikhilhello/Adv_DSA-PySnippets/blob/main/8_binarysearch_IMP_cow_koko.ipynb\" target=\"_parent\"><img src=\"https://colab.research.google.com/assets/colab-badge.svg\" alt=\"Open In Colab\"/></a>"
      ]
    },
    {
      "cell_type": "markdown",
      "source": [
        "#8"
      ],
      "metadata": {
        "id": "Wd9uyNNNwWwb"
      }
    },
    {
      "cell_type": "markdown",
      "source": [
        "#(square root of the num,----, find the index of the target---find the peak element, ***---IMP koko question, ---IMP Aggressive Cows***)"
      ],
      "metadata": {
        "id": "Xg7hTiwnwWs-"
      }
    },
    {
      "cell_type": "code",
      "execution_count": 1,
      "metadata": {
        "colab": {
          "base_uri": "https://localhost:8080/"
        },
        "id": "KMucYw-9wQ6t",
        "outputId": "700c3d1d-e267-43e0-fc51-c21573e7231a"
      },
      "outputs": [
        {
          "output_type": "stream",
          "name": "stdout",
          "text": [
            "The square root of 4 is: 2.0\n"
          ]
        }
      ],
      "source": [
        "#find the square root of a number\n",
        "\n",
        "import math\n",
        "n=4\n",
        "print(f\"The square root of {n} is: {math.sqrt(n)}\")"
      ]
    },
    {
      "cell_type": "code",
      "source": [
        "# sir code              finding floor value\n",
        "n=38\n",
        "for i in range(1,n//2):           #O(n)\n",
        "  if(i*i==n):\n",
        "    print(i)\n",
        "    break\n",
        "  elif(i*i>n):\n",
        "    print(i-1)\n",
        "    break"
      ],
      "metadata": {
        "colab": {
          "base_uri": "https://localhost:8080/"
        },
        "id": "ZiGO7zCiwnYc",
        "outputId": "04c82c67-b727-4924-8a24-9886d81dea12"
      },
      "execution_count": 2,
      "outputs": [
        {
          "output_type": "stream",
          "name": "stdout",
          "text": [
            "6\n"
          ]
        }
      ]
    },
    {
      "cell_type": "code",
      "source": [
        "# sir code using binary search\n",
        "\n",
        "# Using binary search for an integer square root (floor)\n",
        "\n",
        "n = int(input(\"Enter a number: \"))\n",
        "l=1\n",
        "r=n/2\n",
        "while l<=r:\n",
        "  mid = (l + r) //2\n",
        "  if mid * mid == n:\n",
        "    print(f\"The integer square root (floor) of {n} is: {mid}\")\n",
        "    break\n",
        "  elif mid * mid > n:\n",
        "    r = mid - 1\n",
        "  else:\n",
        "    l = mid + 1\n",
        "print(r)            #floor\n",
        "print(l)            #seal"
      ],
      "metadata": {
        "colab": {
          "base_uri": "https://localhost:8080/"
        },
        "id": "yO2OmkChwtTx",
        "outputId": "ff8d91ba-be02-457b-f64d-c3eee91e48e2"
      },
      "execution_count": 3,
      "outputs": [
        {
          "output_type": "stream",
          "name": "stdout",
          "text": [
            "Enter a number: 50\n",
            "7.0\n",
            "8.0\n"
          ]
        }
      ]
    },
    {
      "cell_type": "code",
      "source": [
        "# #find the square root of a number\n",
        "import math\n",
        "\n",
        "n = int(input(\"Enter a number: \"))\n",
        "# Using math.sqrt() for a precise floating-point result\n",
        "print(f\"The square root of {n} is: {math.sqrt(n)}\")\n",
        "\n",
        "# Using binary search for an integer square root (floor)\n",
        "l, r = 0, n\n",
        "ans = 0\n",
        "while l <= r:\n",
        "  mid = (l + r) // 2\n",
        "  if mid * mid == n:\n",
        "    ans = mid\n",
        "    break\n",
        "  elif mid * mid < n:\n",
        "    ans = mid\n",
        "    l = mid + 1\n",
        "  else:\n",
        "    r = mid - 1\n",
        "print(f\"The integer square root (floor) of {n} is: {ans}\")\n",
        "\n"
      ],
      "metadata": {
        "colab": {
          "base_uri": "https://localhost:8080/"
        },
        "id": "YKFmgiVQwv0K",
        "outputId": "b0693fa3-8757-403c-8349-32ba17489dbd"
      },
      "execution_count": 4,
      "outputs": [
        {
          "output_type": "stream",
          "name": "stdout",
          "text": [
            "Enter a number: 38\n",
            "The square root of 38 is: 6.164414002968976\n",
            "The integer square root (floor) of 38 is: 6\n"
          ]
        }
      ]
    },
    {
      "cell_type": "code",
      "source": [
        "#input find the how many rotation have happend  #sorted and rotated array\n",
        "\n",
        "a=[10,20,30,40,50,60,70,80,90,3,4,5,6]       #sir code  incomplete\n",
        "l=0\n",
        "r=len(a)-1\n",
        "while(l<r):\n",
        "  m=(l+r)//2\n",
        "  if(a[m]>a[r]):\n",
        "    l=m+1\n",
        "  else:\n",
        "    r=m\n",
        "print(l,a[l]) #printing the index and the element"
      ],
      "metadata": {
        "colab": {
          "base_uri": "https://localhost:8080/"
        },
        "id": "gS_KsEFcw8y4",
        "outputId": "0d3eb830-732d-4a89-fb04-e9f5ab60a684"
      },
      "execution_count": 5,
      "outputs": [
        {
          "output_type": "stream",
          "name": "stdout",
          "text": [
            "9 3\n"
          ]
        }
      ]
    },
    {
      "cell_type": "code",
      "source": [
        "\n",
        "#---------------------------------------------------\n",
        "#find the index of the target\n",
        "#search in rotated sorted array  #leetcode 33\n",
        "def search(nums,target):\n",
        "    l=0\n",
        "    h=len(nums)-1\n",
        "    while l<=h:\n",
        "        m=(l+h)//2\n",
        "        if nums[m]==target:\n",
        "            return m\n",
        "        if  nums[l]<=nums[m]:\n",
        "            if target>=nums[l] and target<=nums[m]:\n",
        "                h=m-1\n",
        "            else:\n",
        "                l=m+1\n",
        "        else:\n",
        "            if target>=nums[m] and target<=nums[h]:\n",
        "                l=m+1\n",
        "            else:\n",
        "                h=m-1\n",
        "    return -1\n",
        "a=[10,20,30,40,50,60,70,0,5,6,7,8,9]\n",
        "t=0\n",
        "print(search(a,t))"
      ],
      "metadata": {
        "colab": {
          "base_uri": "https://localhost:8080/"
        },
        "id": "qe24L4zNw8xJ",
        "outputId": "c69a7589-d480-4de6-ec5c-aedf1567cbce"
      },
      "execution_count": 6,
      "outputs": [
        {
          "output_type": "stream",
          "name": "stdout",
          "text": [
            "7\n"
          ]
        }
      ]
    },
    {
      "cell_type": "markdown",
      "source": [
        "#find the peak element"
      ],
      "metadata": {
        "id": "bK8zVPkExDC1"
      }
    },
    {
      "cell_type": "code",
      "source": [
        "# find the peak element\n",
        "a=[2,3,4,6,3,2,1,5,8,10,1,4,2]       #sir code\n",
        "l=0\n",
        "r=len(a)-1\n",
        "while l<r:\n",
        "  m=(l+r)//2\n",
        "  if (m==0 or a[m]>a[m+1] and m==len(a)-1 or a[m]>a[m-1]):\n",
        "    print(a[m])\n",
        "    break\n",
        "  if(a[m+1]>a[m]):\n",
        "    l=m+1\n",
        "  else:\n",
        "    r=m-1\n",
        "\n",
        "# if(m==0 and a[m+1]<a[m]) or m=m-1\n",
        "\n",
        "# if(a[m]>a[m+1] and a[m] > a[m-1]):\n",
        "#   print(a[m])\n",
        "\n"
      ],
      "metadata": {
        "colab": {
          "base_uri": "https://localhost:8080/"
        },
        "id": "S1eFQbSbw8uN",
        "outputId": "61e131fc-7527-46ef-9020-735fe7c01e4b"
      },
      "execution_count": 7,
      "outputs": [
        {
          "output_type": "stream",
          "name": "stdout",
          "text": [
            "10\n"
          ]
        }
      ]
    },
    {
      "cell_type": "markdown",
      "source": [
        "***imp    question***"
      ],
      "metadata": {
        "id": "o5xd0eUgxKaG"
      }
    },
    {
      "cell_type": "markdown",
      "source": [
        "koko question # leetcode  875"
      ],
      "metadata": {
        "id": "JoQJiqBwxKWn"
      }
    },
    {
      "cell_type": "code",
      "source": [
        "# sir code using binary search\n",
        "\n",
        "# Using binary search for an integer square root (ceill)\n",
        "\n",
        "a=[3,6,7,11]\n",
        "h=8\n",
        "k=4                  #1,2,3,4,5,6,7......      #find yes or no\n",
        "s=0\n",
        "for i in a:\n",
        "  s=s+math.ceil(i/k)\n",
        "  # print(s)\n",
        "  if(s>h):\n",
        "    print(\"not\")\n",
        "    break\n",
        "else:\n",
        "  print(\"yes possible \")"
      ],
      "metadata": {
        "colab": {
          "base_uri": "https://localhost:8080/"
        },
        "id": "-Yn-d--_w8q8",
        "outputId": "1db1af1f-9d28-4132-c5b2-b07e0c0b1af5"
      },
      "execution_count": 8,
      "outputs": [
        {
          "output_type": "stream",
          "name": "stdout",
          "text": [
            "yes possible \n"
          ]
        }
      ]
    },
    {
      "cell_type": "code",
      "source": [
        "a=[3,6,7,11]                           #O(n*n)\n",
        "h=8\n",
        "k=4\n",
        "while(1):\n",
        "  s=0\n",
        "  for i in a:\n",
        "    s=s+math.ceil(i/k)\n",
        "    # print(s)\n",
        "    if(s>h):\n",
        "      k=k+1\n",
        "      # print(\"not\")\n",
        "      break\n",
        "  else:\n",
        "    print(k)\n",
        "    break\n",
        "    # print(\"yes possible\")"
      ],
      "metadata": {
        "colab": {
          "base_uri": "https://localhost:8080/"
        },
        "id": "dQG-PkDgw8lW",
        "outputId": "2db8ec81-29cc-4c2e-a36f-f4f846128192"
      },
      "execution_count": 9,
      "outputs": [
        {
          "output_type": "stream",
          "name": "stdout",
          "text": [
            "4\n"
          ]
        }
      ]
    },
    {
      "cell_type": "code",
      "source": [
        "import math                             #final code of the question\n",
        "def possibleornot(piles, k, h):\n",
        "    s = 0\n",
        "    for i in piles:\n",
        "        s += math.ceil(i / k)\n",
        "        if s > h:\n",
        "            break\n",
        "    if s<=h:\n",
        "        return True\n",
        "    else:\n",
        "        return False\n",
        "def minEatingSpeed(piles, h):\n",
        "    l = 1\n",
        "    r = max(piles)\n",
        "    res = r\n",
        "    while l <= r:\n",
        "        m = (l + r) // 2\n",
        "        if possibleornot(piles, m, h):\n",
        "            res = m\n",
        "            r = m - 1\n",
        "        else:\n",
        "            l = m + 1\n",
        "    return res\n",
        "piles = [3, 5, 7, 11]\n",
        "hours = 8\n",
        "print(minEatingSpeed(piles, hours))"
      ],
      "metadata": {
        "colab": {
          "base_uri": "https://localhost:8080/"
        },
        "id": "BbQgZMoRw8gF",
        "outputId": "6d5c75cf-07b8-488e-9263-4d44b5693ceb"
      },
      "execution_count": 10,
      "outputs": [
        {
          "output_type": "stream",
          "name": "stdout",
          "text": [
            "4\n"
          ]
        }
      ]
    },
    {
      "cell_type": "code",
      "source": [
        "class Solution:                        #leetcode code nagani              #incomplete\n",
        "    # def koko(self,n,h,k=1):\n",
        "    #     s=0\n",
        "    #     s=sum([math.ceil(i/k) for i in n])\n",
        "    #     if s>h:\n",
        "    #         k+=1\n",
        "    #         return self.koko(n,h,k)\n",
        "    #     elif s<=h:\n",
        "    #         return k\n",
        "    #     return koko(n,h)\n",
        "        # print(koko(n,h))\n",
        "\n",
        "\n",
        "\n",
        "        #method 2\n",
        "        def ispo(self,n,h,mid):\n",
        "            up=sum([math.ceil(i/mid) for i in n])\n",
        "            return up<=h\n",
        "        def minEatingSpeed(self, piles: List[int], h: int) -> int:\n",
        "            #method 1\n",
        "            # return self.koko(piles,h)\n",
        "\n",
        "\n",
        "            #method 2\n",
        "            l,r=1,max(piles)\n",
        "            while l<r:\n",
        "                mid = (l+r)//2\n",
        "\n",
        "                if(self.ispo(piles,h,mid)):\n",
        "                    r=mid\n",
        "                else:\n",
        "                    l=mid+1\n",
        "            return l"
      ],
      "metadata": {
        "colab": {
          "base_uri": "https://localhost:8080/",
          "height": 332
        },
        "id": "MI84UJ7bw8dJ",
        "outputId": "d5f83533-f57c-470c-9b66-b6054cc5e600"
      },
      "execution_count": 11,
      "outputs": [
        {
          "output_type": "error",
          "ename": "NameError",
          "evalue": "name 'List' is not defined",
          "traceback": [
            "\u001b[0;31m---------------------------------------------------------------------------\u001b[0m",
            "\u001b[0;31mNameError\u001b[0m                                 Traceback (most recent call last)",
            "\u001b[0;32m<ipython-input-11-58969dcfd6a3>\u001b[0m in \u001b[0;36m<cell line: 0>\u001b[0;34m()\u001b[0m\n\u001b[0;32m----> 1\u001b[0;31m \u001b[0;32mclass\u001b[0m \u001b[0mSolution\u001b[0m\u001b[0;34m:\u001b[0m                        \u001b[0;31m#leetcode code nagani\u001b[0m\u001b[0;34m\u001b[0m\u001b[0;34m\u001b[0m\u001b[0m\n\u001b[0m\u001b[1;32m      2\u001b[0m     \u001b[0;31m# def koko(self,n,h,k=1):\u001b[0m\u001b[0;34m\u001b[0m\u001b[0;34m\u001b[0m\u001b[0m\n\u001b[1;32m      3\u001b[0m     \u001b[0;31m#     s=0\u001b[0m\u001b[0;34m\u001b[0m\u001b[0;34m\u001b[0m\u001b[0m\n\u001b[1;32m      4\u001b[0m     \u001b[0;31m#     s=sum([math.ceil(i/k) for i in n])\u001b[0m\u001b[0;34m\u001b[0m\u001b[0;34m\u001b[0m\u001b[0m\n\u001b[1;32m      5\u001b[0m     \u001b[0;31m#     if s>h:\u001b[0m\u001b[0;34m\u001b[0m\u001b[0;34m\u001b[0m\u001b[0m\n",
            "\u001b[0;32m<ipython-input-11-58969dcfd6a3>\u001b[0m in \u001b[0;36mSolution\u001b[0;34m()\u001b[0m\n\u001b[1;32m     17\u001b[0m             \u001b[0mup\u001b[0m\u001b[0;34m=\u001b[0m\u001b[0msum\u001b[0m\u001b[0;34m(\u001b[0m\u001b[0;34m[\u001b[0m\u001b[0mmath\u001b[0m\u001b[0;34m.\u001b[0m\u001b[0mceil\u001b[0m\u001b[0;34m(\u001b[0m\u001b[0mi\u001b[0m\u001b[0;34m/\u001b[0m\u001b[0mmid\u001b[0m\u001b[0;34m)\u001b[0m \u001b[0;32mfor\u001b[0m \u001b[0mi\u001b[0m \u001b[0;32min\u001b[0m \u001b[0mn\u001b[0m\u001b[0;34m]\u001b[0m\u001b[0;34m)\u001b[0m\u001b[0;34m\u001b[0m\u001b[0;34m\u001b[0m\u001b[0m\n\u001b[1;32m     18\u001b[0m             \u001b[0;32mreturn\u001b[0m \u001b[0mup\u001b[0m\u001b[0;34m<=\u001b[0m\u001b[0mh\u001b[0m\u001b[0;34m\u001b[0m\u001b[0;34m\u001b[0m\u001b[0m\n\u001b[0;32m---> 19\u001b[0;31m         \u001b[0;32mdef\u001b[0m \u001b[0mminEatingSpeed\u001b[0m\u001b[0;34m(\u001b[0m\u001b[0mself\u001b[0m\u001b[0;34m,\u001b[0m \u001b[0mpiles\u001b[0m\u001b[0;34m:\u001b[0m \u001b[0mList\u001b[0m\u001b[0;34m[\u001b[0m\u001b[0mint\u001b[0m\u001b[0;34m]\u001b[0m\u001b[0;34m,\u001b[0m \u001b[0mh\u001b[0m\u001b[0;34m:\u001b[0m \u001b[0mint\u001b[0m\u001b[0;34m)\u001b[0m \u001b[0;34m->\u001b[0m \u001b[0mint\u001b[0m\u001b[0;34m:\u001b[0m\u001b[0;34m\u001b[0m\u001b[0;34m\u001b[0m\u001b[0m\n\u001b[0m\u001b[1;32m     20\u001b[0m             \u001b[0;31m#method 1\u001b[0m\u001b[0;34m\u001b[0m\u001b[0;34m\u001b[0m\u001b[0m\n\u001b[1;32m     21\u001b[0m             \u001b[0;31m# return self.koko(piles,h)\u001b[0m\u001b[0;34m\u001b[0m\u001b[0;34m\u001b[0m\u001b[0m\n",
            "\u001b[0;31mNameError\u001b[0m: name 'List' is not defined"
          ]
        }
      ]
    },
    {
      "cell_type": "code",
      "source": [
        "import math                     #ai\n",
        "from typing import List\n",
        "\n",
        "class Solution:\n",
        "\n",
        "    # Method 1: Recursive approach (not optimal for large inputs, for understanding only)\n",
        "    def koko(self, piles, h, k=1):\n",
        "        hours = sum([math.ceil(i / k) for i in piles])\n",
        "        if hours > h:\n",
        "            return self.koko(piles, h, k + 1)\n",
        "        else:\n",
        "            return k\n",
        "\n",
        "    # Method 2: Binary Search approach (optimal)\n",
        "    def isPossible(self, piles, h, mid):\n",
        "        # Check if Koko can eat all bananas at speed = mid within h hours\n",
        "        total_hours = sum([math.ceil(pile / mid) for pile in piles])\n",
        "        return total_hours <= h\n",
        "\n",
        "    def minEatingSpeed(self, piles: List[int], h: int) -> int:\n",
        "        # Uncomment below line to use the recursive (brute-force) method\n",
        "        # return self.koko(piles, h)\n",
        "\n",
        "        # Binary search for optimal speed\n",
        "        left, right = 1, max(piles)\n",
        "        while left < right:\n",
        "            mid = (left + right) // 2\n",
        "            if self.isPossible(piles, h, mid):\n",
        "                right = mid\n",
        "            else:\n",
        "                left = mid + 1\n",
        "        return left\n",
        "\n",
        "# -----------------------------\n",
        "# Example usage:\n",
        "# -----------------------------\n",
        "if __name__ == \"__main__\":\n",
        "    sol = Solution()\n",
        "    piles = [3, 6, 7, 11]\n",
        "    h = 8\n",
        "    print(\"Minimum Eating Speed:\", sol.minEatingSpeed(piles, h))\n"
      ],
      "metadata": {
        "colab": {
          "base_uri": "https://localhost:8080/"
        },
        "id": "N4hLz2vvzRcC",
        "outputId": "c61809b0-635c-4c4a-efca-0bcd1b8622a0"
      },
      "execution_count": 20,
      "outputs": [
        {
          "output_type": "stream",
          "name": "stdout",
          "text": [
            "Minimum Eating Speed: 4\n"
          ]
        }
      ]
    },
    {
      "cell_type": "code",
      "source": [
        "# Koko Eating Bananas      #mahi\n",
        "\n",
        "\n",
        "# import math\n",
        "# def koko(b,h,k):\n",
        "#     # possible=False\n",
        "#     s=0\n",
        "#     for i in b:\n",
        "#         s=s+math.ceil(i/k)\n",
        "#         if s>h:\n",
        "#             return False\n",
        "#     return True  #s<=h\n",
        "#     # if s<=h:\n",
        "#     #     possible=True\n",
        "#     # return [s,possible]\n",
        "# piles=[3,5,7,11]\n",
        "# hours=8\n",
        "# speed=4\n",
        "# print(koko(piles,hours,speed))        #op=true\n",
        "\n",
        "\n",
        "# o(n*m)\n",
        "# import math\n",
        "# def koko(b,h,k=1):\n",
        "#     s=0\n",
        "#     s = sum(math.ceil(i / k) for i in b)\n",
        "#     if s<=h:\n",
        "#         return k\n",
        "#     return koko(b,h,k+1)\n",
        "# piles=[3,5,7,11]\n",
        "# hours=8\n",
        "# print(koko(piles,hours))           #op=4\n",
        "\n",
        "\n",
        "# import math\n",
        "# def koko(b,h):\n",
        "#     k=1\n",
        "#     while(1):\n",
        "#         s=0\n",
        "#         for i in b:\n",
        "#             s=s+math.ceil(i/k)\n",
        "#             if s>h:\n",
        "#                 k+=1\n",
        "#                 break\n",
        "#         else:\n",
        "#             return k\n",
        "# piles=[3,5,7,11]\n",
        "# hours=8\n",
        "# print(koko(piles,hours))        #op=4\n",
        "\n",
        "\n",
        "def koko(piles,h):\n",
        "    l,r=0,max(piles)\n",
        "    while l<r:\n",
        "        k=(l+r)//2\n",
        "        hs=sum((p+k-1)//k for p in piles)\n",
        "        if hs>h:\n",
        "            l=k+1\n",
        "        else:\n",
        "            r=k\n",
        "    return l\n",
        "piles=[3,5,7,11]\n",
        "hours=8\n",
        "print(koko(piles,hours))          #op=4"
      ],
      "metadata": {
        "colab": {
          "base_uri": "https://localhost:8080/"
        },
        "id": "mKwKId-lylz8",
        "outputId": "37ae4fb9-d39b-4994-b66a-1f8057638f55"
      },
      "execution_count": 18,
      "outputs": [
        {
          "output_type": "stream",
          "name": "stdout",
          "text": [
            "4\n"
          ]
        }
      ]
    },
    {
      "cell_type": "code",
      "source": [
        "#KOKO THE MONKEY         #jay\n",
        "import math\n",
        "a = [3,6,17,18]\n",
        "h = 8\n",
        "k = 1\n",
        "while(1):\n",
        "  s= 0\n",
        "  for i in a:\n",
        "    s=s+math.ceil(i/k)\n",
        "    if(s>h):\n",
        "      k=k+1\n",
        "      break\n",
        "  else:\n",
        "    print(k)\n",
        "    break"
      ],
      "metadata": {
        "colab": {
          "base_uri": "https://localhost:8080/"
        },
        "id": "FcZ-WZn718nR",
        "outputId": "76459a8a-03a2-4d45-a259-d135fe296535"
      },
      "execution_count": 30,
      "outputs": [
        {
          "output_type": "stream",
          "name": "stdout",
          "text": [
            "6\n"
          ]
        }
      ]
    },
    {
      "cell_type": "code",
      "source": [
        "#----------------- sir o(nlogm)                 #mahi\n",
        "import math\n",
        "def possibleornot(piles, k, h):\n",
        "    s = 0\n",
        "    for i in piles:\n",
        "        s += math.ceil(i / k)\n",
        "        if s > h:\n",
        "            break\n",
        "    if s<=h:\n",
        "        return True\n",
        "    else:\n",
        "        return False\n",
        "def minEatingSpeed(piles, h):\n",
        "    l = 1\n",
        "    r = max(piles)\n",
        "    res = r\n",
        "    while l <= r:\n",
        "        m = (l + r) // 2\n",
        "        if possibleornot(piles, m, h):\n",
        "            res = m\n",
        "            r = m - 1\n",
        "        else:\n",
        "            l = m + 1\n",
        "    return res\n",
        "piles = [3, 5, 7, 11]\n",
        "hours = 8\n",
        "print(minEatingSpeed(piles, hours))"
      ],
      "metadata": {
        "colab": {
          "base_uri": "https://localhost:8080/"
        },
        "id": "UjmuCQ_myRXb",
        "outputId": "dfac4471-e0a2-4ce8-e54b-7ff096757e3b"
      },
      "execution_count": 14,
      "outputs": [
        {
          "output_type": "stream",
          "name": "stdout",
          "text": [
            "4\n"
          ]
        }
      ]
    },
    {
      "cell_type": "markdown",
      "source": [
        "**Aggressive Cows**\n",
        "\n",
        "[question link](https://www.geeksforgeeks.org/problems/aggressive-cows/1)"
      ],
      "metadata": {
        "id": "VftSnhqDz2U7"
      }
    },
    {
      "cell_type": "code",
      "source": [
        "a=[3,6,7,11]\n",
        "h=8\n",
        "k=4                  #1,2,3,4,5,6,7......      #find yes or no\n",
        "s=0\n",
        "for i in a:\n",
        "  s=s+math.ceil(i/k)\n",
        "  # print(s)\n",
        "  if(s>h):\n",
        "    print(\"not\")\n",
        "    break\n",
        "else:\n",
        "  print(\"yes possible \")"
      ],
      "metadata": {
        "colab": {
          "base_uri": "https://localhost:8080/"
        },
        "id": "Fm-vCXM1z4j2",
        "outputId": "721e77cf-ad75-4fbd-d7a6-687c67c40a87"
      },
      "execution_count": 21,
      "outputs": [
        {
          "output_type": "stream",
          "name": "stdout",
          "text": [
            "yes possible \n"
          ]
        }
      ]
    },
    {
      "cell_type": "code",
      "source": [
        "# firts lets try in linear search\n",
        "\n",
        "#k is numbers of cows\n",
        "#min distance between the cows is let 3 distance\n",
        "\n",
        "#find possible or not\n",
        "\n",
        "a=[1,2,5,7,10]\n",
        "k=3\n",
        "mini=1\n",
        "prev=a[0]\n",
        "k=k-1         #place one cow inthe first\n",
        "\n",
        "for i in a:\n",
        "  if(i-prev>=mini):\n",
        "    prev=i\n",
        "    k=k-1\n",
        "if(k==0):\n",
        "  print(f\"Is it possible to place cows with minimum distance {mini}\")\n",
        "else:\n",
        "  print(f\"Is it not possible to place cows with minimum distance {mini}\")\n",
        "\n"
      ],
      "metadata": {
        "colab": {
          "base_uri": "https://localhost:8080/"
        },
        "id": "mFZX_Hg7z9DS",
        "outputId": "5cc7aa18-67b3-42bc-bf1a-fc1687709e90"
      },
      "execution_count": 22,
      "outputs": [
        {
          "output_type": "stream",
          "name": "stdout",
          "text": [
            "Is it not possible to place cows with minimum distance 1\n"
          ]
        }
      ]
    },
    {
      "cell_type": "code",
      "source": [
        "a=[1,2,5,7,10]\n",
        "k=3\n",
        "mini=1\n",
        "prev=a[0]\n",
        "k=k-1         #place one cow inthe first\n",
        "\n",
        "for i in a:\n",
        "  if(i-prev>=mini):\n",
        "    prev=i\n",
        "    k=k-1\n",
        "if(k==0):\n",
        "  print(f\"Is it possible to place cows with minimum distance {mini}\")\n",
        "else:\n",
        "  print(f\"Is it not possible to place cows with minimum distance {mini}\")"
      ],
      "metadata": {
        "colab": {
          "base_uri": "https://localhost:8080/"
        },
        "id": "vVcN7qz6z9AM",
        "outputId": "dbae8d86-bdad-49f7-ad8b-47e36f9dcd77"
      },
      "execution_count": 23,
      "outputs": [
        {
          "output_type": "stream",
          "name": "stdout",
          "text": [
            "Is it not possible to place cows with minimum distance 1\n"
          ]
        }
      ]
    },
    {
      "cell_type": "code",
      "source": [
        "# firts lets try in linear search\n",
        "# #k is numbers of cows\n",
        "# #min distance between the cows is let 3 distance\n",
        "# #find possible or not\n",
        "# a=[1,2,5,7,10]\n",
        "# k=3\n",
        "# min=4\n",
        "\n",
        "def can_place_cows(stalls, k, min_dist):\n",
        "  \"\"\"\n",
        "  Checks if it's possible to place k cows in stalls such that the minimum\n",
        "  distance between any two cows is at least min_dist.\n",
        "\n",
        "  Args:\n",
        "    stalls: A sorted list of stall positions.\n",
        "    k: The number of cows to place.\n",
        "    min_dist: The minimum required distance between cows.\n",
        "\n",
        "  Returns:\n",
        "    True if it's possible to place the cows, False otherwise.\n",
        "  \"\"\"\n",
        "  last_cow_pos = stalls[0]\n",
        "  cows_placed = 1\n",
        "\n",
        "  for i in range(1, len(stalls)):\n",
        "    if stalls[i] - last_cow_pos >= min_dist:\n",
        "      cows_placed += 1\n",
        "      last_cow_pos = stalls[i]\n",
        "      if cows_placed == k:\n",
        "        return True\n",
        "  return False\n",
        "\n",
        "a = [1, 2, 5, 7, 10]\n",
        "k = 3\n",
        "min_dist = 4\n",
        "print(f\"Is it possible to place {k} cows with minimum distance {min_dist}? {can_place_cows(a, k, min_dist)}\")\n",
        "\n",
        "min_dist = 5\n",
        "print(f\"Is it possible to place {k} cows with minimum distance {min_dist}? {can_place_cows(a, k, min_dist)}\")\n"
      ],
      "metadata": {
        "colab": {
          "base_uri": "https://localhost:8080/"
        },
        "id": "FKxqaYNZz89A",
        "outputId": "22142129-8e93-4a43-fee7-136f5477e6d4"
      },
      "execution_count": 24,
      "outputs": [
        {
          "output_type": "stream",
          "name": "stdout",
          "text": [
            "Is it possible to place 3 cows with minimum distance 4? True\n",
            "Is it possible to place 3 cows with minimum distance 5? False\n"
          ]
        }
      ]
    },
    {
      "cell_type": "code",
      "source": [],
      "metadata": {
        "id": "kuHs6K7X0zEx"
      },
      "execution_count": null,
      "outputs": []
    },
    {
      "cell_type": "code",
      "source": [
        "#mahi\n",
        "\n",
        "\n",
        "#---------------------------- Aggressive Cows\n",
        "\n",
        "\n",
        "# def agressivecowsPossible(s,k,m):\n",
        "#     s.sort()\n",
        "#     prev=s[0]\n",
        "#     k-=1\n",
        "#     for i in range(1,len(s)):\n",
        "#         if s[i]-prev>=m:\n",
        "#             prev=s[i]\n",
        "#             k-=1\n",
        "#         if k==0:\n",
        "#             return True\n",
        "#     return False\n",
        "# stalls=[2, 12, 11, 3, 26, 7]\n",
        "# cows = 3\n",
        "# mindist=5\n",
        "# print(agressivecowsPossible(stalls,cows,mindist))         #op=true\n",
        "\n",
        "# s = [2, 12, 11, 3, 26, 7]\n",
        "# k = 3\n",
        "# m = 5\n",
        "# s.sort()\n",
        "# while True:\n",
        "#     prev = s[0]\n",
        "#     count = 1\n",
        "#     for i in range(1, len(s)):\n",
        "#         if s[i] - prev >= m:\n",
        "#             prev = s[i]\n",
        "#             count += 1\n",
        "#     if count >= k:\n",
        "#         m += 1\n",
        "#     else:\n",
        "#         break\n",
        "# print(m - 1)             #op=10\n",
        "\n",
        "# def can_place(s, k, m):\n",
        "#     count = 1\n",
        "#     prev = s[0]\n",
        "#     for i in range(1, len(s)):\n",
        "#         if s[i] - prev >= m:\n",
        "#             count += 1\n",
        "#             prev = s[i]\n",
        "#         if count == k:\n",
        "#             return True\n",
        "#     return False\n",
        "# def aggressive_cows(s, k, m=1):\n",
        "#     s.sort()\n",
        "#     if can_place(s, k, m):\n",
        "#         return aggressive_cows(s, k, m + 1)\n",
        "#     return m - 1\n",
        "# stalls = [2, 12, 11, 3, 26, 7]\n",
        "# cows = 3\n",
        "# print(aggressive_cows(stalls, cows))             #op=10\n",
        "\n",
        "\n",
        "\n",
        "# with binary\n",
        "def aggressiveCows(s, k):\n",
        "    def isPos(s,n,k,m):\n",
        "        laststall=s[0]\n",
        "        c=1\n",
        "        for i in range(1,n):\n",
        "            if s[i]-laststall>=m:\n",
        "                laststall=s[i]\n",
        "                c+=1\n",
        "            if c==k:\n",
        "                return True\n",
        "        return False\n",
        "    s.sort()\n",
        "    n=len(s)\n",
        "    ans=0\n",
        "    start=1\n",
        "    end=s[-1]-s[0] #max val -min val\n",
        "    while start<=end:\n",
        "        mid=(start+end)//2\n",
        "        if isPos(s,n,k,mid):\n",
        "            ans=mid\n",
        "            start=mid+1\n",
        "        else:\n",
        "            end=mid-1\n",
        "    return ans\n",
        "stalls = [2, 12, 11, 3, 26, 7]\n",
        "cows = 3\n",
        "print(aggressiveCows(stalls, cows))           #op=10"
      ],
      "metadata": {
        "colab": {
          "base_uri": "https://localhost:8080/"
        },
        "id": "DWjeWjCu0yBI",
        "outputId": "e3b2abb7-e51f-44c2-a2d8-c91eaad238b7"
      },
      "execution_count": 29,
      "outputs": [
        {
          "output_type": "stream",
          "name": "stdout",
          "text": [
            "10\n"
          ]
        }
      ]
    },
    {
      "cell_type": "code",
      "source": [
        "# AGGRESSIVE COWS         #jay\n",
        "\n",
        "n= [1, 2, 4, 8, 9]\n",
        "d=2\n",
        "cows=3\n",
        "k=1\n",
        "print(\"Places at\",n[0])\n",
        "for i in range(len(n)-1):\n",
        "  if n[i+1]-n[i]>=d:\n",
        "    print(\"Places at\",n[i+1])\n",
        "    k+=1\n",
        "if k>=cows:\n",
        "  print(\"Possible\")\n",
        "else:\n",
        "  print(\"unpossible\")"
      ],
      "metadata": {
        "colab": {
          "base_uri": "https://localhost:8080/"
        },
        "id": "hVv3Di3u2IQX",
        "outputId": "b1c07720-1dc7-4658-b69b-e4c6227fb82a"
      },
      "execution_count": 31,
      "outputs": [
        {
          "output_type": "stream",
          "name": "stdout",
          "text": [
            "Places at 1\n",
            "Places at 4\n",
            "Places at 8\n",
            "Possible\n"
          ]
        }
      ]
    },
    {
      "cell_type": "code",
      "source": [
        "# Question: Aggressive Cows Problem\n",
        "\n",
        "# #  Problem Statement:\n",
        "# # You are given an array of n stall positions in a barn (in sorted or unsorted order) and a number k,\n",
        "#  which represents the number of cows you want to place in those stalls. You need to place the cows in such a way\n",
        "#  that the minimum distance between any two of them is as large as possible.\n",
        "# # Return the maximum minimum distance between the cows.\n",
        "\n",
        "n, k = map(int, input().split())                 #5 3\n",
        "arr = list(map(int, input().split()))            #1 2 8 4 9\n",
        "arr.sort()\n",
        "low = 1\n",
        "high = arr[-1] - arr[0]\n",
        "res = 0\n",
        "while low <= high:\n",
        "    mid = (low + high) // 2\n",
        "    count = 1\n",
        "    last_pos = arr[0]\n",
        "    for i in range(1, n):\n",
        "        if arr[i] - last_pos >= mid:\n",
        "            count += 1\n",
        "            last_pos = arr[i]\n",
        "    if count >= k:\n",
        "        res = mid\n",
        "        low = mid + 1\n",
        "    else:\n",
        "        high = mid - 1\n",
        "print(res)                        #op=3\n",
        "\n",
        "#  Input:\n",
        "# First line contains two integers n and k — the number of stalls and number of cows.\n",
        "# Second line contains n integers — the positions of the stalls.\n",
        "\n",
        "# Explanation:\n",
        "# You can place the cows at positions: 1, 4, 8 (or 1, 4, 9), so the minimum distance between any two cows is 3, which is the maximum possible in this case."
      ],
      "metadata": {
        "colab": {
          "base_uri": "https://localhost:8080/"
        },
        "id": "iNU2mCZy2Wm_",
        "outputId": "df68d0b0-03d0-4c9f-b471-31dfdaadd1aa"
      },
      "execution_count": 34,
      "outputs": [
        {
          "output_type": "stream",
          "name": "stdout",
          "text": [
            "5 3\n",
            "1 2 8 4 9\n",
            "3\n"
          ]
        }
      ]
    },
    {
      "cell_type": "code",
      "source": [],
      "metadata": {
        "id": "JqpVty4U4Afq"
      },
      "execution_count": null,
      "outputs": []
    },
    {
      "cell_type": "markdown",
      "source": [],
      "metadata": {
        "id": "Nu12A-4cz2K-"
      }
    },
    {
      "cell_type": "code",
      "source": [
        "# 1Q is selection_sort           #exam\n",
        "# 2Q this\n",
        "\n",
        "def relsort(a1,a2):         #exam\n",
        "    c=[]\n",
        "    c2=[]\n",
        "    for i in range(len(a2)):\n",
        "        for j in range(len(a1)):\n",
        "            if a2[i]==a1[j]:\n",
        "                c.append(a1[j])\n",
        "    for k in a1:\n",
        "        if k not in c:\n",
        "            c2.append(k)\n",
        "    c2.sort()\n",
        "    for i in c2:\n",
        "        c.append(i)\n",
        "    return c\n",
        "a1=list(map(int,input().split()))\n",
        "a2=list(map(int,input().split()))\n",
        "print(relsort(a1,a2))\n",
        "\n",
        "\n",
        "# 2 3 1 3 2 4 6 7 9 2 19\n",
        "# 2 1 4 3 9 6\n",
        "\n",
        "\n",
        "\n",
        "\n",
        "\n",
        "# or\n",
        "\n",
        "# from collections import Counter\n",
        "\n",
        "# # Input two arrays\n",
        "# a = list(map(int, input(\"Enter arr1: \").split()))\n",
        "# b = list(map(int, input(\"Enter arr2: \").split()))\n",
        "\n",
        "# # Count occurrences of elements in a\n",
        "# count = Counter(a)\n",
        "\n",
        "# # Result array\n",
        "# c = []\n",
        "\n",
        "# # First, add elements in the order of b\n",
        "# for num in b:\n",
        "#     if num in count:\n",
        "#         c.extend([num] * count[num])\n",
        "#         del count[num]\n",
        "\n",
        "# # Then add remaining elements in sorted order\n",
        "# remaining = sorted(count.elements())\n",
        "# c.extend(remaining)\n",
        "\n",
        "# # Output result\n",
        "# print(c)\n"
      ],
      "metadata": {
        "colab": {
          "base_uri": "https://localhost:8080/"
        },
        "id": "mSYywLhp4BNw",
        "outputId": "5ac8d1e5-4e94-4b8c-deac-403a1a5eaee3"
      },
      "execution_count": 36,
      "outputs": [
        {
          "output_type": "stream",
          "name": "stdout",
          "text": [
            "2 3 1 3 2 4 6 7 9 2 19\n",
            "2 1 4 3 9 6\n",
            "[2, 2, 2, 1, 4, 3, 3, 9, 6, 7, 19]\n"
          ]
        }
      ]
    },
    {
      "cell_type": "code",
      "source": [],
      "metadata": {
        "id": "Z6P7-1IA4ZfD"
      },
      "execution_count": null,
      "outputs": []
    }
  ]
}