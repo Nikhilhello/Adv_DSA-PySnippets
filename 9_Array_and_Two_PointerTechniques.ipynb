{
  "nbformat": 4,
  "nbformat_minor": 0,
  "metadata": {
    "colab": {
      "provenance": [],
      "authorship_tag": "ABX9TyOsrbs1pMVBO3FvJA0Ro3C3",
      "include_colab_link": true
    },
    "kernelspec": {
      "name": "python3",
      "display_name": "Python 3"
    },
    "language_info": {
      "name": "python"
    }
  },
  "cells": [
    {
      "cell_type": "markdown",
      "metadata": {
        "id": "view-in-github",
        "colab_type": "text"
      },
      "source": [
        "<a href=\"https://colab.research.google.com/github/Nikhilhello/Adv_DSA-PySnippets/blob/main/9_Array_and_Two_PointerTechniques.ipynb\" target=\"_parent\"><img src=\"https://colab.research.google.com/assets/colab-badge.svg\" alt=\"Open In Colab\"/></a>"
      ]
    },
    {
      "cell_type": "markdown",
      "source": [
        "#9"
      ],
      "metadata": {
        "id": "xHTQqMj183N1"
      }
    },
    {
      "cell_type": "markdown",
      "source": [
        "#(search the element form the matrix,--- using binary search , ---Capacity To Ship Packages Within D Days,---find the element from 4x5 matrix,---2 poiters ,----3 SUM ,---Sort Colors,---Remove Element)"
      ],
      "metadata": {
        "id": "32kHyrf-83Kc"
      }
    },
    {
      "cell_type": "code",
      "execution_count": null,
      "metadata": {
        "colab": {
          "base_uri": "https://localhost:8080/"
        },
        "id": "C0g1EpKl8wCO",
        "outputId": "93bc7c75-fa9d-4ece-b180-cf2b92a4e0f2"
      },
      "outputs": [
        {
          "output_type": "stream",
          "name": "stdout",
          "text": [
            "Element 11 not found in the matrix\n"
          ]
        }
      ],
      "source": [
        "#search the element in the given 2d matrix\n",
        "\n",
        "a=[[1,2,3],[4,5,6],[7,8,9]]\n",
        "x=11\n",
        "n=3\n",
        "f=0\n",
        "for i in range(n):\n",
        "  for j in range(n):\n",
        "    if a[i][j]==x:\n",
        "      print(f\"Element {x} found at row {i} and column {j}\")\n",
        "      f=1\n",
        "      break\n",
        "  if f==1:\n",
        "    break\n",
        "if f==0:\n",
        "  print(f\"Element {x} not found in the matrix\")\n"
      ]
    },
    {
      "cell_type": "code",
      "source": [
        "a=[[1,2,3],[4,5,6],[7,8,9]]                      # O(m * n)\n",
        "x=8\n",
        "for i in range(len(a)):\n",
        "  for j in range(len(a[0])):\n",
        "    if a[i][j]==x:\n",
        "      print(f\"Element {x} found at row {i} and column {j}\")\n",
        "      break\n",
        "  else:\n",
        "    continue\n",
        "  break\n",
        "else:\n",
        "  print(f\"Element {x} not found in the matrix\")"
      ],
      "metadata": {
        "id": "nBqFAjKJ9K1O",
        "colab": {
          "base_uri": "https://localhost:8080/"
        },
        "outputId": "f2be00a5-ce18-432e-e3ca-a72c8a6095ca"
      },
      "execution_count": 1,
      "outputs": [
        {
          "output_type": "stream",
          "name": "stdout",
          "text": [
            "Element 8 found at row 2 and column 1\n"
          ]
        }
      ]
    },
    {
      "cell_type": "markdown",
      "source": [
        "#same but another question"
      ],
      "metadata": {
        "id": "v1ySq8IU9E68"
      }
    },
    {
      "cell_type": "code",
      "source": [
        "# a=[[2,3,7,8],[9,15,20,22],[23,26,35,37],[38,39,42,43]]        #leet code 74\n",
        "# x=23\n",
        "\n",
        "a=[[2,5,8,10],[13,15,17,22],[23,26,28,33]]     #sir code\n",
        "n=3\n",
        "m=4\n",
        "x=17\n",
        "l=0\n",
        "r=(n*m)-1\n",
        "while l<=r:\n",
        "  mid=(l+r)//2\n",
        "  if a[mid//m][mid%m]==x:\n",
        "    print(f\"Element {x} found at row {mid//m} and column {mid%m}\")\n",
        "    break\n",
        "  elif (x<a[mid//m][mid%m]):\n",
        "    r=mid-1\n",
        "  else:\n",
        "    l=mid+1\n",
        "else:\n",
        "  print(f\"Element {x} not found in the matrix\")\n"
      ],
      "metadata": {
        "colab": {
          "base_uri": "https://localhost:8080/"
        },
        "id": "Xkl-JCG9mKVW",
        "outputId": "fbe80033-1504-4465-cd9b-42898d3b7abc"
      },
      "execution_count": 2,
      "outputs": [
        {
          "output_type": "stream",
          "name": "stdout",
          "text": [
            "Element 17 found at row 1 and column 2\n"
          ]
        }
      ]
    },
    {
      "cell_type": "code",
      "source": [
        "def binary(arr,x):               #(n+logm)\n",
        "  l=0\n",
        "  r=len(arr)-1\n",
        "  while(l<=r):\n",
        "    m=(l+r)//2\n",
        "    if(arr[m]==x):\n",
        "      return l\n",
        "    elif(arr[m]>x):\n",
        "      r=m-1\n",
        "    else:\n",
        "      l=m+1\n",
        "  return 0\n",
        "\n",
        "\n",
        "a=[[2,3,7,8],[9,15,20,22],[23,26,35,37],[38,39,42,43]]\n",
        "for i in a:\n",
        "  f=1\n",
        "  if (a[0]<=x and a[-1]>=x):\n",
        "    if(binary(i,x)):\n",
        "      f=0\n",
        "      print(f\"Element {x} found at row {a.index(row)} and column {col_index}\")          #from here u should edit\n",
        "      found = True\n",
        "      break\n",
        "  else:\n",
        "    print(\"not fount\")\n",
        "# if not found:\n",
        "#   print(f\"Element {x} not found in the matrix\")"
      ],
      "metadata": {
        "colab": {
          "base_uri": "https://localhost:8080/",
          "height": 211
        },
        "id": "wqXIZTBRmKRC",
        "outputId": "29debf6a-8ee3-4dc3-ce53-d313a996d474"
      },
      "execution_count": 15,
      "outputs": [
        {
          "output_type": "error",
          "ename": "TypeError",
          "evalue": "'<=' not supported between instances of 'list' and 'int'",
          "traceback": [
            "\u001b[0;31m---------------------------------------------------------------------------\u001b[0m",
            "\u001b[0;31mTypeError\u001b[0m                                 Traceback (most recent call last)",
            "\u001b[0;32m<ipython-input-15-5c2a6c1b610b>\u001b[0m in \u001b[0;36m<cell line: 0>\u001b[0;34m()\u001b[0m\n\u001b[1;32m     16\u001b[0m \u001b[0;32mfor\u001b[0m \u001b[0mi\u001b[0m \u001b[0;32min\u001b[0m \u001b[0ma\u001b[0m\u001b[0;34m:\u001b[0m\u001b[0;34m\u001b[0m\u001b[0;34m\u001b[0m\u001b[0m\n\u001b[1;32m     17\u001b[0m   \u001b[0mf\u001b[0m\u001b[0;34m=\u001b[0m\u001b[0;36m1\u001b[0m\u001b[0;34m\u001b[0m\u001b[0;34m\u001b[0m\u001b[0m\n\u001b[0;32m---> 18\u001b[0;31m   \u001b[0;32mif\u001b[0m \u001b[0;34m(\u001b[0m\u001b[0ma\u001b[0m\u001b[0;34m[\u001b[0m\u001b[0;36m0\u001b[0m\u001b[0;34m]\u001b[0m\u001b[0;34m<=\u001b[0m\u001b[0mx\u001b[0m \u001b[0;32mand\u001b[0m \u001b[0ma\u001b[0m\u001b[0;34m[\u001b[0m\u001b[0;34m-\u001b[0m\u001b[0;36m1\u001b[0m\u001b[0;34m]\u001b[0m\u001b[0;34m>=\u001b[0m\u001b[0mx\u001b[0m\u001b[0;34m)\u001b[0m\u001b[0;34m:\u001b[0m\u001b[0;34m\u001b[0m\u001b[0;34m\u001b[0m\u001b[0m\n\u001b[0m\u001b[1;32m     19\u001b[0m     \u001b[0;32mif\u001b[0m\u001b[0;34m(\u001b[0m\u001b[0mbinary\u001b[0m\u001b[0;34m(\u001b[0m\u001b[0mi\u001b[0m\u001b[0;34m,\u001b[0m\u001b[0mx\u001b[0m\u001b[0;34m)\u001b[0m\u001b[0;34m)\u001b[0m\u001b[0;34m:\u001b[0m\u001b[0;34m\u001b[0m\u001b[0;34m\u001b[0m\u001b[0m\n\u001b[1;32m     20\u001b[0m       \u001b[0mf\u001b[0m\u001b[0;34m=\u001b[0m\u001b[0;36m0\u001b[0m\u001b[0;34m\u001b[0m\u001b[0;34m\u001b[0m\u001b[0m\n",
            "\u001b[0;31mTypeError\u001b[0m: '<=' not supported between instances of 'list' and 'int'"
          ]
        }
      ]
    },
    {
      "cell_type": "code",
      "source": [
        "# search an element in a 2D matrix using binary search on each row\n",
        "\n",
        "def binary(arr, x):                #ai                     #edited\n",
        "    l = 0\n",
        "    r = len(arr) - 1\n",
        "    while l <= r:\n",
        "        m = (l + r) // 2\n",
        "        if arr[m] == x:\n",
        "            return m  # Return the column index\n",
        "        elif arr[m] > x:\n",
        "            r = m - 1\n",
        "        else:\n",
        "            l = m + 1\n",
        "    return -1  # Not found\n",
        "\n",
        "a = [[2, 3, 7, 8], [9, 15, 20, 22], [23, 26, 35, 37], [38, 39, 42, 43]]\n",
        "x = int(input(\"Enter the element to search: \"))\n",
        "\n",
        "found = False\n",
        "for row_index, row in enumerate(a):\n",
        "    if row[0] <= x <= row[-1]:  # Check if x can be in this row\n",
        "        col_index = binary(row, x)\n",
        "        if col_index != -1:\n",
        "            print(f\"Element {x} found at row {row_index} and column {col_index}\")\n",
        "            found = True\n",
        "            break\n",
        "\n",
        "if not found:\n",
        "    print(f\"Element {x} not found in the matrix.\")\n"
      ],
      "metadata": {
        "colab": {
          "base_uri": "https://localhost:8080/"
        },
        "id": "buMuR4Vam_X0",
        "outputId": "a309ad96-a1cf-4602-e46b-7a322aa70325"
      },
      "execution_count": 12,
      "outputs": [
        {
          "output_type": "stream",
          "name": "stdout",
          "text": [
            "Enter the element to search: 20\n",
            "Element 20 found at row 1 and column 2\n"
          ]
        }
      ]
    },
    {
      "cell_type": "markdown",
      "source": [
        "#leet code 1011\n",
        "\n",
        "\n",
        "**Capacity To Ship Packages Within D Days **"
      ],
      "metadata": {
        "id": "5M1HodXNomt2"
      }
    },
    {
      "cell_type": "code",
      "source": [
        "# question                 #leet code 1011\n",
        "\n",
        "# Capacity To Ship Packages Within D Days\n",
        "#weights = [1,2,3,4,5,6,7,8,9,10], capacity=12\n",
        "#days = 6\n",
        "# chech weather its is possible or not\n",
        "\n",
        "\n",
        "\n",
        "# [1,2,3,4,5,6,7,8,9,10]\n",
        "# 1+2+3+4  --day 1   10<=capacity-12\n",
        "# 5+6  --day 1\n",
        "# 7  --day 1\n",
        "# 8 --day 1\n",
        "# 9  --day 1\n",
        "# 10  --day 1"
      ],
      "metadata": {
        "id": "aJire51SopKj"
      },
      "execution_count": 16,
      "outputs": []
    },
    {
      "cell_type": "code",
      "source": [
        "# weights = [1,2,3,4,5,6,7,8,9,10], capacity=12  ,find days ,if possible \"yes\" ,else \"no\"\n",
        "w= [1,2,3,4,5,6,7,8,9,10]\n",
        "cap=12\n",
        "d=0\n",
        "\n",
        "for i in range(len(w)):\n",
        "  if w[i]<=cap:\n",
        "    cap=cap-w[i]\n",
        "  else:\n",
        "    d=d+1\n",
        "    cap=cap-w[i]\n",
        "if(cap>0):\n",
        "  d=d+1\n",
        "print(d)\n"
      ],
      "metadata": {
        "colab": {
          "base_uri": "https://localhost:8080/"
        },
        "id": "oVYhqsVJouQ7",
        "outputId": "d97b8d10-58d4-4369-dbde-56dbbf5ca280"
      },
      "execution_count": 17,
      "outputs": [
        {
          "output_type": "stream",
          "name": "stdout",
          "text": [
            "6\n"
          ]
        }
      ]
    },
    {
      "cell_type": "code",
      "source": [
        "# 1011. Capacity To Ship Packages Within D Days\n",
        "# possible or not\n",
        "w=[1,2,3,4,5,6,7,8,9,10]\n",
        "c=12\n",
        "sh=0\n",
        "d=[]\n",
        "for i in range(len(w)):\n",
        "    if w[i]>c:\n",
        "        d.append(sh)\n",
        "        c=12\n",
        "        sh=0\n",
        "    sh+=w[i]\n",
        "    c-=w[i]\n",
        "if sh>c:\n",
        "    d.append(w[i])\n",
        "print(d)\n",
        "print(len(d))"
      ],
      "metadata": {
        "colab": {
          "base_uri": "https://localhost:8080/"
        },
        "id": "pz7L52nQq-ac",
        "outputId": "bd9dc68a-6169-4275-f0b3-d1efca942fdc"
      },
      "execution_count": 19,
      "outputs": [
        {
          "output_type": "stream",
          "name": "stdout",
          "text": [
            "[10, 11, 7, 8, 9, 10]\n",
            "6\n"
          ]
        }
      ]
    },
    {
      "cell_type": "code",
      "source": [
        "# using binary\n",
        "def canShip(weights,days,capacity):\n",
        "    d=1\n",
        "    curr=0\n",
        "    for w in weights:\n",
        "        if curr+w>capacity:\n",
        "            d+=1\n",
        "            curr=0\n",
        "        curr+=w\n",
        "    return d<=days\n",
        "def cap(w,d):\n",
        "    l,r=max(w),sum(w)\n",
        "    while l<r:\n",
        "        m=(l+r)//2\n",
        "        if canShip(w,d,m):\n",
        "            r=m\n",
        "        else:\n",
        "            l=m+1\n",
        "    return l\n",
        "w=[1,2,3,4,5,6,7,8,9,10]\n",
        "d=5\n",
        "print(cap(w,d))"
      ],
      "metadata": {
        "colab": {
          "base_uri": "https://localhost:8080/"
        },
        "id": "H4HK1MAJrK1E",
        "outputId": "393bf1c0-8c39-436e-f74a-d10e0122db4f"
      },
      "execution_count": 21,
      "outputs": [
        {
          "output_type": "stream",
          "name": "stdout",
          "text": [
            "15\n"
          ]
        }
      ]
    },
    {
      "cell_type": "markdown",
      "source": [
        "#leet code 240"
      ],
      "metadata": {
        "id": "jA1XcKz3oxTS"
      }
    },
    {
      "cell_type": "code",
      "source": [
        "# 5x4 matrix           #leet code 240\n",
        "# find x\n",
        "\n",
        "# a=[[3,4,6,8],[5,7,9,10],[8,12,13,15],[20,23,26,28],[30,36,40,45]]\n",
        "class Solution:\n",
        "    def searchMatrix(self, matrix: List[List[int]], target: int) -> bool:       #leet code\n",
        "        i=0\n",
        "        j=len(matrix[0])-1\n",
        "        while(i<len(matrix) and j>=0):\n",
        "            if(matrix[i][j]==target):\n",
        "                return True\n",
        "            elif(matrix[i][j]>target):\n",
        "                j=j-1\n",
        "            else:\n",
        "                i=i+1\n",
        "        return False\n"
      ],
      "metadata": {
        "id": "TOw2vCS9r8WX"
      },
      "execution_count": null,
      "outputs": []
    },
    {
      "cell_type": "code",
      "source": [
        "#  Leetcode Problem 240 – Search a 2D Matrix II:      #found - true       #not found - false\n",
        "# 5x4 matrix\n",
        "\n",
        "matrix = [\n",
        "    [3, 4, 6, 8],\n",
        "    [5, 7, 9, 10],\n",
        "    [8, 12, 13, 15],\n",
        "    [20, 23, 26, 28],\n",
        "    [30, 36, 40, 45]\n",
        "]\n",
        "\n",
        "x = int(input(\"Enter the number to search: \"))\n",
        "\n",
        "i = 0\n",
        "j = len(matrix[0]) - 1  # Start from top-right\n",
        "\n",
        "while i < len(matrix) and j >= 0:\n",
        "    if matrix[i][j] == x:\n",
        "        print(True)\n",
        "        break\n",
        "    elif matrix[i][j] > x:\n",
        "        j -= 1\n",
        "    else:\n",
        "        i += 1\n",
        "else:\n",
        "    print(False)\n"
      ],
      "metadata": {
        "colab": {
          "base_uri": "https://localhost:8080/"
        },
        "id": "ZwUh4kifpaIe",
        "outputId": "96d09a4c-a79e-4a04-a85b-d58ae392776a"
      },
      "execution_count": 27,
      "outputs": [
        {
          "output_type": "stream",
          "name": "stdout",
          "text": [
            "Enter the number to search: 50\n",
            "False\n"
          ]
        }
      ]
    },
    {
      "cell_type": "code",
      "source": [
        "# 5x4 matrix  #printing the position if there\n",
        "#  Finds and prints all positions where the element x appears in the matrix (even if multiple times).\n",
        "#  If not found, it prints \"Not found\".\n",
        "\n",
        "\n",
        "matrix = [\n",
        "    [3, 4, 6, 8],\n",
        "    [5, 7, 9, 10],\n",
        "    [8, 12, 13, 15],\n",
        "    [20, 23, 26, 28],\n",
        "    [30, 36, 40, 45]\n",
        "]\n",
        "\n",
        "x = int(input(\"Enter the number to search: \"))\n",
        "positions = []\n",
        "\n",
        "# Brute force scan for all occurrences\n",
        "for i in range(len(matrix)):\n",
        "    for j in range(len(matrix[0])):\n",
        "        if matrix[i][j] == x:\n",
        "            positions.append((i, j))\n",
        "\n",
        "if positions:\n",
        "    print(f\"{x} found at positions: {positions}\")\n",
        "else:\n",
        "    print(\"Not found\")\n"
      ],
      "metadata": {
        "colab": {
          "base_uri": "https://localhost:8080/"
        },
        "id": "VHWbQ_aVuixN",
        "outputId": "3e753b52-7072-4500-dada-1291e2e6e877"
      },
      "execution_count": 32,
      "outputs": [
        {
          "output_type": "stream",
          "name": "stdout",
          "text": [
            "Enter the number to search: 45\n",
            "45 found at positions: [(4, 3)]\n"
          ]
        }
      ]
    },
    {
      "cell_type": "code",
      "source": [
        "# when rows and col are sorted              #mahi\n",
        "def searchMatrix(a,k):\n",
        "    r = 0\n",
        "    c = len(a[0]) - 1\n",
        "    while r < len(a) and c >= 0:\n",
        "        if a[r][c] == k:\n",
        "            return [a[r][c],r,c]#True\n",
        "        elif a[r][c] < k:\n",
        "            r += 1\n",
        "        else:\n",
        "            if a[r][c]<k:\n",
        "                r+=1\n",
        "            c -= 1\n",
        "    return False\n",
        "a=[[2,4,6,8],[5,7,9,10],[8,12,13,15],[20,23,26,28],[30,36,37,45]]\n",
        "k = 45\n",
        "print(searchMatrix(a,k))"
      ],
      "metadata": {
        "colab": {
          "base_uri": "https://localhost:8080/"
        },
        "id": "c-7NAqFVouNO",
        "outputId": "c5beecbe-27c1-4159-fdf6-fb0bc8a99210"
      },
      "execution_count": 23,
      "outputs": [
        {
          "output_type": "stream",
          "name": "stdout",
          "text": [
            "[45, 4, 3]\n"
          ]
        }
      ]
    },
    {
      "cell_type": "markdown",
      "source": [
        "#2 poiters  from same side"
      ],
      "metadata": {
        "id": "cAnPvkkAwF3L"
      }
    },
    {
      "cell_type": "code",
      "source": [
        "# [2,7,11,15] ,target=9          #2 poiters  from same side\n",
        "#  i\n",
        "#    j\n",
        "a=[2,7,11,15]\n",
        "for i in range(len(a)):\n",
        "  for j in range(i+1,len(a)):\n",
        "    if a[i]+a[j]==9:\n",
        "      print(i,j)\n",
        "      break\n",
        "\n"
      ],
      "metadata": {
        "colab": {
          "base_uri": "https://localhost:8080/"
        },
        "id": "WvWM7H2louKx",
        "outputId": "85875269-3f12-4ce7-c53d-1d7ced6f51e0"
      },
      "execution_count": 33,
      "outputs": [
        {
          "output_type": "stream",
          "name": "stdout",
          "text": [
            "0 1\n"
          ]
        }
      ]
    },
    {
      "cell_type": "markdown",
      "source": [
        "#2 poiters  from oppesite side"
      ],
      "metadata": {
        "id": "_m_TZi3mwMxA"
      }
    },
    {
      "cell_type": "code",
      "source": [
        "# [2,7,11,15] ,target=9          ##2 poiters  from oppesite side\n",
        "  #i      j\n",
        "a=[2,7,11,15]\n",
        "t=9\n",
        "for i in range(len(a)):\n",
        "  for j in range(len(a)-1,i,-1):\n",
        "    if a[i]+a[j]==t:\n",
        "      print(i,j)"
      ],
      "metadata": {
        "colab": {
          "base_uri": "https://localhost:8080/"
        },
        "id": "691R8NGmouJB",
        "outputId": "74fa37ec-b0c3-4ca3-f9b8-414aa2186424"
      },
      "execution_count": 34,
      "outputs": [
        {
          "output_type": "stream",
          "name": "stdout",
          "text": [
            "0 1\n"
          ]
        }
      ]
    },
    {
      "cell_type": "markdown",
      "source": [
        "# subset king 1000 wines 1 is poisoned it will effect in 10 hrs and party is also within 10 hrs how many min soldiers required to test\n",
        "# answer= 10    1000 possibilities  2^10=1024\n",
        "# Each wine can be represented as a 10-bit binary number (2¹⁰ = 1024 > 1000).\n",
        "# So, assign each bit to a soldier. A soldier drinks from wines where their bit is set to 1.\n",
        "# Each soldier represents a bit position from 0 to 9. After 10 hours:\n",
        "# Soldiers who die form a binary pattern.\n",
        "# That binary number = index of poisoned wine."
      ],
      "metadata": {
        "id": "ieO3TJkl40uN"
      }
    },
    {
      "cell_type": "markdown",
      "source": [
        "#leet code\n",
        "\n",
        "\n",
        "15. 3Sum\n",
        "\n",
        "\n"
      ],
      "metadata": {
        "id": "Z5ri6PbOwTdi"
      }
    },
    {
      "cell_type": "code",
      "source": [
        "# Q1      #exam\n",
        "\n",
        "#common element\n",
        "\n",
        "n=list(map(int,input().split()))       # 2 4 3 5\n",
        "m=list(map(int,input().split()))      # 3 2 9 5\n",
        "o=list(map(int,input().split()))      # 8 2 3 5\n",
        "n=set(n)\n",
        "m=set(m)\n",
        "o=set(o)\n",
        "l=sorted(list(n&m&o))\n",
        "if len(l)==0:\n",
        "    print('-1')    # if not found\n",
        "else:\n",
        "    print(*l)                  #2 3 5"
      ],
      "metadata": {
        "colab": {
          "base_uri": "https://localhost:8080/"
        },
        "id": "DM9DSM6QouGn",
        "outputId": "9901842e-ac64-4886-af1d-821fb2083b80"
      },
      "execution_count": 35,
      "outputs": [
        {
          "output_type": "stream",
          "name": "stdout",
          "text": [
            "2 4 3 5\n",
            "3 2 9 5\n",
            "8 2 3 5\n",
            "2 3 5\n"
          ]
        }
      ]
    },
    {
      "cell_type": "code",
      "source": [
        "# Q 2\n",
        "# Floor in a sorted array\n",
        "\n",
        "a=list(map(int,input().split()))   #1 2 6 8 9 7 8\n",
        "x=int(input())                      #5\n",
        "n=-1\n",
        "for i in range(len(a)):\n",
        "  if a[i]<=x:\n",
        "    n=a[i]\n",
        "print(n)                      #op=2\n"
      ],
      "metadata": {
        "colab": {
          "base_uri": "https://localhost:8080/"
        },
        "id": "8JCtc_ADouCd",
        "outputId": "9cf38e5c-c832-45d2-f3b0-d69ddb875ff6"
      },
      "execution_count": 36,
      "outputs": [
        {
          "output_type": "stream",
          "name": "stdout",
          "text": [
            "1 2 6 8 9 7 8\n",
            "5\n",
            "2\n"
          ]
        }
      ]
    },
    {
      "cell_type": "code",
      "source": [
        "#75. Sort Colors #leetcode\n",
        "\n",
        "def sortColors(self, nums):\n",
        "  low = 0\n",
        "  mid = 0\n",
        "  high = len(nums) - 1\n",
        "  while mid <= high:\n",
        "    if nums[mid] == 0:\n",
        "      nums[low], nums[mid] = nums[mid], nums[low]\n",
        "      low += 1\n",
        "      mid += 1\n",
        "    elif nums[mid] == 1:\n",
        "      mid += 1\n",
        "    else:\n",
        "      nums[mid], nums[high] = nums[high], nums[mid]\n",
        "      high -= 1\n",
        "\n",
        "nums = [2,0,2,1,1,0]\n",
        "# Output: [0,0,1,1,2,2]\n"
      ],
      "metadata": {
        "id": "fzxF8RC4x9QF"
      },
      "execution_count": 37,
      "outputs": []
    },
    {
      "cell_type": "code",
      "source": [
        "#leet code #15 3sum\n",
        "\n",
        "class Solution:\n",
        "    def threeSum(self, nums: List[int]) -> List[List[int]]:\n",
        "        nums.sort()\n",
        "        result = []\n",
        "        n = len(nums)\n",
        "        for i in range(n - 2):\n",
        "            if i > 0 and nums[i] == nums[i - 1]:\n",
        "                continue\n",
        "            left = i + 1\n",
        "            right = n - 1\n",
        "            while left < right:\n",
        "                current_sum = nums[i] + nums[left] + nums[right]\n",
        "                if current_sum == 0:\n",
        "                    result.append([nums[i], nums[left], nums[right]])\n",
        "                    while left < right and nums[left] == nums[left + 1]:\n",
        "                        left += 1\n",
        "                    while left < right and nums[right] == nums[right - 1]:\n",
        "                        right -= 1\n",
        "                    left += 1\n",
        "                    right -= 1\n",
        "                elif current_sum < 0:\n",
        "                    left += 1\n",
        "                else:\n",
        "                    right -= 1\n",
        "        return result"
      ],
      "metadata": {
        "id": "yJlleGJux88k"
      },
      "execution_count": null,
      "outputs": []
    },
    {
      "cell_type": "markdown",
      "source": [
        "3Sum                   \n",
        "Given an integer array nums, return all the triplets [nums[i], nums[j], nums              \n",
        "[k]] such that:\n",
        "\n",
        "i != j,\n",
        "\n",
        "j != k,\n",
        "\n",
        "i != k,\n",
        "\n",
        "nums[i] + nums[j] + nums[k] == 0                \n",
        "\n",
        "Note: The solution set must not contain duplicate triplets."
      ],
      "metadata": {
        "id": "z6uTeSDRz_IL"
      }
    },
    {
      "cell_type": "code",
      "source": [
        "def threeSum(nums):            #ai code\n",
        "    nums.sort()\n",
        "    res = []\n",
        "    n = len(nums)\n",
        "\n",
        "    for i in range(n - 2):\n",
        "        if i > 0 and nums[i] == nums[i - 1]:  # skip duplicates for i\n",
        "            continue\n",
        "\n",
        "        left, right = i + 1, n - 1\n",
        "        while left < right:\n",
        "            s = nums[i] + nums[left] + nums[right]\n",
        "\n",
        "            if s == 0:\n",
        "                res.append([nums[i], nums[left], nums[right]])\n",
        "                # skip duplicates for left and right\n",
        "                while left < right and nums[left] == nums[left + 1]:\n",
        "                    left += 1\n",
        "                while left < right and nums[right] == nums[right - 1]:\n",
        "                    right -= 1\n",
        "                left += 1\n",
        "                right -= 1\n",
        "\n",
        "            elif s < 0:\n",
        "                left += 1\n",
        "            else:\n",
        "                right -= 1\n",
        "\n",
        "    return res\n",
        "\n",
        "# Example usage:\n",
        "nums = [-1, 0, 1, 2, -1, -4]\n",
        "print(threeSum(nums))\n",
        "\n",
        "\n",
        "# Input:\n",
        "# nums = [0, 1, 1]\n",
        "# Output:\n",
        "# []\n",
        "\n",
        "# Input:\n",
        "# nums = [0, 0, 0]\n",
        "# Output:\n",
        "# [[0, 0, 0]]\n"
      ],
      "metadata": {
        "colab": {
          "base_uri": "https://localhost:8080/"
        },
        "id": "y5XVrB4Px85b",
        "outputId": "1b4d0e0b-ca34-48fd-8ad3-6f2e942ae1ab"
      },
      "execution_count": 39,
      "outputs": [
        {
          "output_type": "stream",
          "name": "stdout",
          "text": [
            "[[-1, -1, 2], [-1, 0, 1]]\n"
          ]
        }
      ]
    },
    {
      "cell_type": "code",
      "source": [
        "# 3sum                 #mahi\n",
        "a = [-1, 0, 1, 2, -1, -4]\n",
        "a.sort()\n",
        "t = 0\n",
        "d = []\n",
        "for i in range(len(a) - 2):\n",
        "    if i > 0 and a[i] == a[i - 1]:\n",
        "        continue\n",
        "    j = i + 1\n",
        "    k = len(a) - 1\n",
        "    while j < k:\n",
        "        s = a[i] + a[j] + a[k]\n",
        "        if s == t:\n",
        "            d.append([a[i], a[j], a[k]])\n",
        "            j += 1\n",
        "            k -= 1\n",
        "            while j < k and a[j] == a[j - 1]:\n",
        "                j += 1\n",
        "            while j < k and a[k] == a[k + 1]:\n",
        "                k -= 1\n",
        "        elif s < t:\n",
        "            j += 1\n",
        "        else:\n",
        "            k -= 1\n",
        "print(d)"
      ],
      "metadata": {
        "colab": {
          "base_uri": "https://localhost:8080/"
        },
        "id": "vvCQA3bH5Ql1",
        "outputId": "d8b80452-db93-4479-de99-5b5579393499"
      },
      "execution_count": 41,
      "outputs": [
        {
          "output_type": "stream",
          "name": "stdout",
          "text": [
            "[[-1, -1, 2], [-1, 0, 1]]\n"
          ]
        }
      ]
    },
    {
      "cell_type": "markdown",
      "source": [
        "#leetcode    #27. Remove Element"
      ],
      "metadata": {
        "id": "LjFYQe0w1pmI"
      }
    },
    {
      "cell_type": "code",
      "source": [
        "nums=[3,2,2,3]             #leetcode    #27. Remove Element\n",
        "val=3\n",
        "c=0\n",
        "for i in range(len(nums)-1):\n",
        "  if nums[i]==val:\n",
        "    nums.pop(i)\n",
        "    c=c+1\n",
        "print(c,nums)"
      ],
      "metadata": {
        "colab": {
          "base_uri": "https://localhost:8080/"
        },
        "id": "ZbvdyDdBx82x",
        "outputId": "747717d3-9954-46de-a5c9-703d2fc80ba3"
      },
      "execution_count": 40,
      "outputs": [
        {
          "output_type": "stream",
          "name": "stdout",
          "text": [
            "2 [2, 2]\n"
          ]
        }
      ]
    }
  ]
}