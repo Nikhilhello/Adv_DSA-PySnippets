{
  "nbformat": 4,
  "nbformat_minor": 0,
  "metadata": {
    "colab": {
      "provenance": [],
      "collapsed_sections": [
        "Rqnf8qR0kwA7"
      ]
    },
    "kernelspec": {
      "name": "python3",
      "display_name": "Python 3"
    },
    "language_info": {
      "name": "python"
    }
  },
  "cells": [
    {
      "cell_type": "markdown",
      "source": [
        "#2"
      ],
      "metadata": {
        "id": "FacaTopokoL1"
      }
    },
    {
      "cell_type": "markdown",
      "source": [
        "\n",
        "#operaters --- & | _ ^ << >>                  \n",
        "# Even or odd\n",
        "#longest_subsequence                \n",
        "#string_compression         \n",
        "# sliding\n"
      ],
      "metadata": {
        "id": "Rqnf8qR0kwA7"
      }
    },
    {
      "cell_type": "code",
      "execution_count": 1,
      "metadata": {
        "colab": {
          "base_uri": "https://localhost:8080/"
        },
        "id": "ToVQfGCfjVzB",
        "outputId": "9c8871c2-d5e5-4d7d-b707-faffb4e7b564"
      },
      "outputs": [
        {
          "output_type": "execute_result",
          "data": {
            "text/plain": [
              "11"
            ]
          },
          "metadata": {},
          "execution_count": 1
        }
      ],
      "source": [
        "# 15 xor 4 program\n",
        "\n",
        "def xor_operation(num1, num2):\n",
        "  \"\"\"Performs the XOR operation on two numbers.\n",
        "\n",
        "  Args:\n",
        "    num1: The first number.\n",
        "    num2: The second number.\n",
        "\n",
        "  Returns:\n",
        "    The result of the XOR operation.\n",
        "  \"\"\"\n",
        "  return num1 ^ num2\n",
        "\n",
        "# Example usage\n",
        "result = xor_operation(15, 4)\n",
        "result\n"
      ]
    },
    {
      "cell_type": "code",
      "source": [
        "#5 left shiift 1\n",
        "\n",
        "def left_shift(x, n):\n",
        "    \"\"\"\n",
        "    Performs a left bitwise shift operation.\n",
        "\n",
        "    Args:\n",
        "        x: The number to shift.\n",
        "        n: The number of positions to shift.\n",
        "\n",
        "    Returns:\n",
        "        The result of the left bitwise shift.\n",
        "    \"\"\"\n",
        "\n",
        "    return x << n\n",
        "\n",
        "# Example usage\n",
        "number = 178  # Example number\n",
        "shift_amount = 13  # Number of positions to shift left\n",
        "\n",
        "shifted_number = left_shift(number, shift_amount)\n",
        "print(f\"The result of left shifting {number} by {shift_amount} positions is: {shifted_number}\")\n"
      ],
      "metadata": {
        "colab": {
          "base_uri": "https://localhost:8080/"
        },
        "id": "LAMh8uKilKYO",
        "outputId": "8f794a1a-7972-4714-cb7a-0b405b0b2885"
      },
      "execution_count": 2,
      "outputs": [
        {
          "output_type": "stream",
          "name": "stdout",
          "text": [
            "The result of left shifting 178 by 13 positions is: 1458176\n"
          ]
        }
      ]
    },
    {
      "cell_type": "code",
      "source": [
        "# even or odd using --------% operater\n",
        "n=int(input())\n",
        "if (n%2==0):\n",
        "  print(\"even\")\n",
        "else:\n",
        "  print(\"odd\")\n",
        ""
      ],
      "metadata": {
        "colab": {
          "base_uri": "https://localhost:8080/"
        },
        "id": "blDVIzrRlOgX",
        "outputId": "32e87fa8-931a-42b5-9cbe-08f361f82867"
      },
      "execution_count": 3,
      "outputs": [
        {
          "output_type": "stream",
          "name": "stdout",
          "text": [
            "5\n",
            "odd\n"
          ]
        }
      ]
    },
    {
      "cell_type": "code",
      "source": [
        "# even or odd using --------& operater\n",
        "n=int(input())\n",
        "if (n&1==0):\n",
        "  print(\"even\")\n",
        "else:\n",
        "  print(\"odd\")"
      ],
      "metadata": {
        "colab": {
          "base_uri": "https://localhost:8080/"
        },
        "id": "HQRcU1i8lOc6",
        "outputId": "cacf77cd-a841-4f8f-e6ec-5167cb6c2270"
      },
      "execution_count": 4,
      "outputs": [
        {
          "output_type": "stream",
          "name": "stdout",
          "text": [
            "89\n",
            "odd\n"
          ]
        }
      ]
    },
    {
      "cell_type": "code",
      "source": [
        "# even or odd with outusing --------& and % operater\n",
        "n=int(input())\n",
        "if (n^1==(n+1)):\n",
        "  print(\"even\")\n",
        "else:\n",
        "  print(\"odd\")"
      ],
      "metadata": {
        "colab": {
          "base_uri": "https://localhost:8080/"
        },
        "id": "FtJp-QPglOak",
        "outputId": "4e267273-2a21-4dda-f54a-a666d7dc0140"
      },
      "execution_count": 5,
      "outputs": [
        {
          "output_type": "stream",
          "name": "stdout",
          "text": [
            "9\n",
            "odd\n"
          ]
        }
      ]
    },
    {
      "cell_type": "code",
      "source": [
        "# perfrom number of ^ XOR opration     #1^^^^^n\n",
        "n=int(input())           # O(n)- u should convert--> O(1)\n",
        "s=0\n",
        "for i in range(1,n+1):\n",
        "    s=s^i\n",
        "print(s)"
      ],
      "metadata": {
        "colab": {
          "base_uri": "https://localhost:8080/"
        },
        "id": "Tpush7yulOX2",
        "outputId": "9a1fca10-6b75-4213-84ee-a374bb288145"
      },
      "execution_count": 6,
      "outputs": [
        {
          "output_type": "stream",
          "name": "stdout",
          "text": [
            "10\n",
            "11\n"
          ]
        }
      ]
    },
    {
      "cell_type": "code",
      "source": [
        "n=int(input())           # O(n)- converted --> O(1)\n",
        "if (n%4==1):\n",
        "  print(1)\n",
        "elif(n%4==2):\n",
        "  print(n+1)\n",
        "elif(n%4==3):\n",
        "  print(0)\n",
        "else:\n",
        "  print(n)\n"
      ],
      "metadata": {
        "colab": {
          "base_uri": "https://localhost:8080/"
        },
        "id": "7wp25_yglOWV",
        "outputId": "e28c269e-111d-4911-c090-cc840613eb3a"
      },
      "execution_count": 7,
      "outputs": [
        {
          "output_type": "stream",
          "name": "stdout",
          "text": [
            "10\n",
            "11\n"
          ]
        }
      ]
    },
    {
      "cell_type": "markdown",
      "source": [
        "#perfrom number of ^ XOR opration ---with a specfic range------- n^^^^^m"
      ],
      "metadata": {
        "id": "0cYR_vNQli_7"
      }
    },
    {
      "cell_type": "code",
      "source": [
        "n=int(input())           # O(n)- u should convert--> O(1)\n",
        "m=int(input())\n",
        "s=0\n",
        "for i in range(n,m+1):\n",
        "    s=s^i\n",
        "print(s)"
      ],
      "metadata": {
        "colab": {
          "base_uri": "https://localhost:8080/"
        },
        "id": "i6r0jN5wlOTs",
        "outputId": "d9cd46ea-c8f1-4cf8-86ab-78fd27ba7f6e"
      },
      "execution_count": 9,
      "outputs": [
        {
          "output_type": "stream",
          "name": "stdout",
          "text": [
            "5\n",
            "10\n",
            "15\n"
          ]
        }
      ]
    },
    {
      "cell_type": "code",
      "source": [
        "def xorwhole(x):\n",
        "  if (x%4==1):\n",
        "    return 1\n",
        "  elif(x%4==2):\n",
        "    return x+1\n",
        "  elif(x%4==3):\n",
        "    return 0\n",
        "  else:\n",
        "    return x\n",
        "n=int(input())           # O(n)-  converted --> O(1)\n",
        "m=int(input())\n",
        "print(xorwhole(n-1)^xorwhole(m))"
      ],
      "metadata": {
        "colab": {
          "base_uri": "https://localhost:8080/"
        },
        "id": "8TZlLybdluAd",
        "outputId": "9b09cbd2-6905-439c-aa4e-e797b3b07cba"
      },
      "execution_count": 10,
      "outputs": [
        {
          "output_type": "stream",
          "name": "stdout",
          "text": [
            "5\n",
            "10\n",
            "15\n"
          ]
        }
      ]
    },
    {
      "cell_type": "markdown",
      "source": [
        "#check wheather it is ^2\n"
      ],
      "metadata": {
        "id": "Psw-L6swly0N"
      }
    },
    {
      "cell_type": "markdown",
      "source": [],
      "metadata": {
        "id": "17Jul2J_l0jI"
      }
    },
    {
      "cell_type": "code",
      "source": [
        "# check wheather it is ^2\n",
        "n=int(input())\n",
        "i=0\n",
        "while(i<=n):\n",
        "  print(2**i)\n",
        "  i=i+1"
      ],
      "metadata": {
        "colab": {
          "base_uri": "https://localhost:8080/"
        },
        "id": "4XXxrydOl0_x",
        "outputId": "ff5bf8ce-e6e6-41d8-c4f7-5d8f8625a2f7"
      },
      "execution_count": 11,
      "outputs": [
        {
          "output_type": "stream",
          "name": "stdout",
          "text": [
            "10\n",
            "1\n",
            "2\n",
            "4\n",
            "8\n",
            "16\n",
            "32\n",
            "64\n",
            "128\n",
            "256\n",
            "512\n",
            "1024\n"
          ]
        }
      ]
    },
    {
      "cell_type": "markdown",
      "source": [
        "#check whether a given number is a power of 2"
      ],
      "metadata": {
        "id": "Qgx7B6rUmQsU"
      }
    },
    {
      "cell_type": "code",
      "source": [
        "n = int(input(\"Enter a number: \"))\n",
        "i = 0\n",
        "found = False\n",
        "\n",
        "while 2**i <= n:\n",
        "    if 2**i == n:\n",
        "        found = True\n",
        "        break\n",
        "    i += 1\n",
        "\n",
        "if found:\n",
        "    print(\"yes\")\n",
        "else:\n",
        "    print(\"no\")\n"
      ],
      "metadata": {
        "colab": {
          "base_uri": "https://localhost:8080/"
        },
        "id": "59m3acTvmRoI",
        "outputId": "db52359b-ead9-439e-ad8a-878b5ba5b4c9"
      },
      "execution_count": 12,
      "outputs": [
        {
          "output_type": "stream",
          "name": "stdout",
          "text": [
            "Enter a number: 18\n",
            "no\n"
          ]
        }
      ]
    },
    {
      "cell_type": "code",
      "source": [
        "# n/2 == n//2 yes  --------- O(log n)  method 2\n",
        "# n/2 != n//2 no\n",
        "\n",
        "\n",
        "\n",
        "# if  n&(n-1) == 0  yes --------------------O(1) method 3\n",
        "# else no\n",
        "\n",
        "n=int(input())\n",
        "if n&(n-1)==0:\n",
        "  print(\"yes\")\n",
        "else:\n",
        "  print(\"no\")\n"
      ],
      "metadata": {
        "colab": {
          "base_uri": "https://localhost:8080/"
        },
        "id": "e4oDZNnSmbIW",
        "outputId": "454a75d6-1d37-4691-c820-ffda615c3c88"
      },
      "execution_count": 14,
      "outputs": [
        {
          "output_type": "stream",
          "name": "stdout",
          "text": [
            "32\n",
            "yes\n"
          ]
        }
      ]
    },
    {
      "cell_type": "markdown",
      "source": [
        "#sliding"
      ],
      "metadata": {
        "id": "IVDPENrPmgYM"
      }
    },
    {
      "cell_type": "code",
      "source": [
        "# xor --> sliding --------->bineaysearch-O(logn)\n",
        "arr=[2,2,4,4,6,6,7,8,8,9,9]   #using xor\n",
        "# res=0\n",
        "# for i in arr:        #op: 7\n",
        "#   res=res^i\n",
        "# print(res)\n",
        "\n",
        "res=arr[0]\n",
        "for i in range(1,len(arr)-1,2):          #   O(n/2)\n",
        "  if(arr[i]!=arr[i+1]):\n",
        "    print(arr[i])                       #..............\n",
        "else:\n",
        "  print(arr[-1])\n",
        "\n"
      ],
      "metadata": {
        "colab": {
          "base_uri": "https://localhost:8080/"
        },
        "id": "nHa3OyUjmbEs",
        "outputId": "9fbb0582-5506-45af-d8d5-7f10b8e14a95"
      },
      "execution_count": 15,
      "outputs": [
        {
          "output_type": "stream",
          "name": "stdout",
          "text": [
            "2\n",
            "4\n",
            "6\n",
            "9\n"
          ]
        }
      ]
    },
    {
      "cell_type": "markdown",
      "source": [
        "#longest_subsequence"
      ],
      "metadata": {
        "id": "qlaXebEAmlp4"
      }
    },
    {
      "cell_type": "code",
      "source": [
        "def longest_subsequence(lst):                 #mahesh\n",
        "    m_len=0\n",
        "    c_len=1\n",
        "    for i in range(1,len(lst)):\n",
        "        if lst[i] > lst[i-1]:\n",
        "            c_len+=1\n",
        "        else:\n",
        "            m_len=max(m_len,c_len)\n",
        "            c_len=1\n",
        "    return max(m_len,c_len)\n",
        "print(longest_subsequence([8,7,6,5,4,3,2,1]))"
      ],
      "metadata": {
        "colab": {
          "base_uri": "https://localhost:8080/"
        },
        "id": "wfTTuRE3mmHR",
        "outputId": "f8216645-4039-4ad5-f869-582136b0f3df"
      },
      "execution_count": 16,
      "outputs": [
        {
          "output_type": "stream",
          "name": "stdout",
          "text": [
            "1\n"
          ]
        }
      ]
    },
    {
      "cell_type": "code",
      "source": [
        "# a=[8,7,6,5,4,3,2,1]              #longest_subsequence\n",
        "# l=[]\n",
        "# c=1\n",
        "# for i in range(len(a)-1):\n",
        "#     if(a[i]+1 == a[i+1]):\n",
        "#       c=c+1\n",
        "#     else:\n",
        "#       l.append(c)\n",
        "#       c=1\n",
        "# l.append(c)                             #doedit\n",
        "# print(l)\n",
        "\n",
        "\n",
        "\n",
        "#-------\n",
        "#-------------longest_subsequence\n",
        "a=[1,2,3,4,2,3,4,5,6]              #working\n",
        "max=1\n",
        "c=1\n",
        "for i in range(len(a)-1):\n",
        "    if(a[i]+1 == a[i+1]):\n",
        "      c=c+1\n",
        "    else:\n",
        "       if(c > max):\n",
        "          max=c\n",
        "       c=1\n",
        "if(c>max):\n",
        "  max=c\n",
        "print(max)\n"
      ],
      "metadata": {
        "colab": {
          "base_uri": "https://localhost:8080/"
        },
        "id": "jwPhtzfsmwft",
        "outputId": "9632d134-ce2d-4762-946c-f63d849c9b04"
      },
      "execution_count": 17,
      "outputs": [
        {
          "output_type": "stream",
          "name": "stdout",
          "text": [
            "5\n"
          ]
        }
      ]
    },
    {
      "cell_type": "markdown",
      "source": [
        "#string_compression"
      ],
      "metadata": {
        "id": "8mTtzKxym1pk"
      }
    },
    {
      "cell_type": "code",
      "source": [
        "from collections import Counter                      #string_compression using function\n",
        "\n",
        "def string_compression(s):\n",
        "    compressed_string = \"\"\n",
        "    char_counts = Counter(s)\n",
        "    for char, count in char_counts.items():\n",
        "        compressed_string += char + str(count)\n",
        "    return compressed_string\n",
        "\n",
        "s = \"aaabbaaaaccddddd\"\n",
        "output = string_compression(s)\n",
        "output\n"
      ],
      "metadata": {
        "colab": {
          "base_uri": "https://localhost:8080/",
          "height": 36
        },
        "id": "8H6Nk5JYm0XT",
        "outputId": "af59c77d-14e7-4826-b358-0a51085d79d8"
      },
      "execution_count": 18,
      "outputs": [
        {
          "output_type": "execute_result",
          "data": {
            "text/plain": [
              "'a7b2c2d5'"
            ],
            "application/vnd.google.colaboratory.intrinsic+json": {
              "type": "string"
            }
          },
          "metadata": {},
          "execution_count": 18
        }
      ]
    },
    {
      "cell_type": "code",
      "source": [
        "from collections import Counter                      #string_compression -my\n",
        "s = \"aaabbaaaaccddddd\"\n",
        "c=0\n",
        "final_str=\"\"\n",
        "char_c=Counter(s)\n",
        "for char,count in char_c.items():\n",
        "  final_str = final_str+char+str(count)\n",
        "print(final_str)\n",
        "\n",
        "\n"
      ],
      "metadata": {
        "colab": {
          "base_uri": "https://localhost:8080/"
        },
        "id": "CSzfEMWAm7PS",
        "outputId": "c1cdc0ab-cdeb-443f-ebf5-b9ab0b6721c3"
      },
      "execution_count": 19,
      "outputs": [
        {
          "output_type": "stream",
          "name": "stdout",
          "text": [
            "a7b2c2d5\n"
          ]
        }
      ]
    },
    {
      "cell_type": "code",
      "source": [
        "##string_compression     #sir code\n",
        "a = \"aaabbaaaaccddddd\"\n",
        "c=1\n",
        "s=''\n",
        "for i in range(len(a)-1):\n",
        "  if (a[i]==a[i+1]):            #string_compression  #string_compression  #----------------sliding window\n",
        "    c=c+1\n",
        "  else:\n",
        "    s=s+a[i]+str(c)\n",
        "    c=1\n",
        "s=s+a[-1]+str(c)\n",
        "print(s)"
      ],
      "metadata": {
        "colab": {
          "base_uri": "https://localhost:8080/"
        },
        "id": "vapcvAXfm-qx",
        "outputId": "0bab70b5-8faa-46cb-c6c5-beca80a85d0e"
      },
      "execution_count": 20,
      "outputs": [
        {
          "output_type": "stream",
          "name": "stdout",
          "text": [
            "a3b2a4c2d5\n"
          ]
        }
      ]
    }
  ]
}