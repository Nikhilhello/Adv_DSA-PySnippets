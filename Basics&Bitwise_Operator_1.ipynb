{
  "nbformat": 4,
  "nbformat_minor": 0,
  "metadata": {
    "colab": {
      "provenance": []
    },
    "kernelspec": {
      "name": "python3",
      "display_name": "Python 3"
    },
    "language_info": {
      "name": "python"
    }
  },
  "cells": [
    {
      "cell_type": "markdown",
      "source": [
        "#1"
      ],
      "metadata": {
        "id": "x1f5VWiK32UF"
      }
    },
    {
      "cell_type": "markdown",
      "source": [
        "#check whether a given number is prime or not"
      ],
      "metadata": {
        "id": "YAf6TC9531lh"
      }
    },
    {
      "cell_type": "code",
      "execution_count": null,
      "metadata": {
        "colab": {
          "base_uri": "https://localhost:8080/"
        },
        "id": "lZ6x7Ibx3Ebm",
        "outputId": "3d78b753-2c7e-45cc-a82f-e5bfde326e14"
      },
      "outputs": [
        {
          "output_type": "stream",
          "name": "stdout",
          "text": [
            "5\n",
            "is prime\n",
            "5 is less than 20\n"
          ]
        }
      ],
      "source": [
        "n=int(input())\n",
        "count=0\n",
        "for i in range(1,n+1):  #2,n//2+1\n",
        "  if(n%i==0):\n",
        "    count=count+1\n",
        "if(count==2):  #<\n",
        "  print(\"is prime\")\n",
        "  if(n>20):\n",
        "    print(n,\"is greater than 20\")\n",
        "  else:\n",
        "    print(n,\"is less than 20\")\n",
        "else:\n",
        "  print(\"not prime\")"
      ]
    },
    {
      "cell_type": "code",
      "source": [
        "import math\n",
        "def is_prime(x):\n",
        "    isPrime=True\n",
        "    if n<2:\n",
        "        isPrime=False\n",
        "    for i in range(2,int(math.sqrt(n)+1)): #int(n ** 0.5) + 1\n",
        "        if n%i==0:\n",
        "            isPrime=False\n",
        "            break\n",
        "    if isPrime:\n",
        "        if n>200:\n",
        "            print(\"Is prime and Greater than 200\")\n",
        "        else:\n",
        "            print(\"Is prime and Less than or equal to 200\")\n",
        "    else:\n",
        "        print(\"Not a prime\")\n",
        "n=int(input(\"enter a number: \"))\n",
        "is_prime(n)"
      ],
      "metadata": {
        "colab": {
          "base_uri": "https://localhost:8080/"
        },
        "id": "3n3K3deniptc",
        "outputId": "4f78e83d-95b6-4b45-ecff-4825d501fd5c"
      },
      "execution_count": null,
      "outputs": [
        {
          "output_type": "stream",
          "name": "stdout",
          "text": [
            "enter a number: 32\n",
            "Not a prime\n"
          ]
        }
      ]
    },
    {
      "cell_type": "markdown",
      "source": [],
      "metadata": {
        "id": "XUFOaGeXivHH"
      }
    },
    {
      "cell_type": "code",
      "source": [
        "a=7\n",
        "a=a-2\n",
        "b=0\n",
        "b=b+1+1\n",
        "b=b-1\n",
        "c=a^b\n",
        "print(c)"
      ],
      "metadata": {
        "colab": {
          "base_uri": "https://localhost:8080/"
        },
        "id": "9GD0pKVXivgq",
        "outputId": "8ef3cdca-ebd6-420b-affb-9e85d283e719"
      },
      "execution_count": null,
      "outputs": [
        {
          "output_type": "stream",
          "name": "stdout",
          "text": [
            "4\n"
          ]
        }
      ]
    },
    {
      "cell_type": "markdown",
      "source": [
        "#program to remove duplicate elements from a list"
      ],
      "metadata": {
        "id": "vHikR-4B4v_7"
      }
    },
    {
      "cell_type": "code",
      "source": [
        "list=[8,2,3,4,3,3,4,5,6,7,9,2]   #hetiro #dic ,set -----------hashing\n",
        "list_s=[]\n",
        "for i in list:\n",
        "  if i not in list_s:#in O(n^2)\n",
        "    list_s.append(i)\n",
        "list_s"
      ],
      "metadata": {
        "colab": {
          "base_uri": "https://localhost:8080/"
        },
        "id": "xqwMMx9Y4xVj",
        "outputId": "289830f6-e12b-4a60-f363-5ce7dd34da71"
      },
      "execution_count": null,
      "outputs": [
        {
          "output_type": "execute_result",
          "data": {
            "text/plain": [
              "[8, 2, 3, 4, 5, 6, 7, 9]"
            ]
          },
          "metadata": {},
          "execution_count": 2
        }
      ]
    },
    {
      "cell_type": "code",
      "source": [
        "list=[8,2,3,4,3,3,4,5,6,7,9,2]   #hetiro #dic ,set -----------hashing\n",
        "list_s=[]\n",
        "s = set()\n",
        "for i in list:\n",
        "  if i not in s:#in O(n^2)\n",
        "    list_s.append(i)\n",
        "    s.add(i)\n",
        "list_s\n"
      ],
      "metadata": {
        "colab": {
          "base_uri": "https://localhost:8080/"
        },
        "id": "UNhcAGEL44hT",
        "outputId": "4c6a3f2d-a102-450f-b682-8385bc23b6e7"
      },
      "execution_count": null,
      "outputs": [
        {
          "output_type": "execute_result",
          "data": {
            "text/plain": [
              "[8, 2, 3, 4, 5, 6, 7, 9]"
            ]
          },
          "metadata": {},
          "execution_count": 3
        }
      ]
    },
    {
      "cell_type": "markdown",
      "source": [
        "#program to calculate the sum of the first n natural numbers"
      ],
      "metadata": {
        "id": "6BzRwm7p40lR"
      }
    },
    {
      "cell_type": "code",
      "source": [
        "n = int(input())           #O(n)\n",
        "sum = 0\n",
        "for i in range(1, n + 1):\n",
        "  sum += i\n",
        "sum\n"
      ],
      "metadata": {
        "colab": {
          "base_uri": "https://localhost:8080/"
        },
        "id": "jKpw_tLp5KIW",
        "outputId": "4351d40a-a36a-4949-9d7e-6145e37b2716"
      },
      "execution_count": null,
      "outputs": [
        {
          "name": "stdout",
          "output_type": "stream",
          "text": [
            "6\n"
          ]
        },
        {
          "output_type": "execute_result",
          "data": {
            "text/plain": [
              "21"
            ]
          },
          "metadata": {},
          "execution_count": 4
        }
      ]
    },
    {
      "cell_type": "code",
      "source": [
        "list =[8, 2, 3, 4, 5, 6, 7, 9] #sum of even numbers\n",
        "s=0\n",
        "for i in range(1,len(list),2):  #(0,len(list),2) sum of odd numbers\n",
        "  s=s+list[i]\n",
        "print(s)"
      ],
      "metadata": {
        "colab": {
          "base_uri": "https://localhost:8080/"
        },
        "id": "5d6XMayB5ap7",
        "outputId": "6188344c-4ad4-4e50-ef80-d6b6e9e8cbf4"
      },
      "execution_count": null,
      "outputs": [
        {
          "output_type": "stream",
          "name": "stdout",
          "text": [
            "21\n"
          ]
        }
      ]
    },
    {
      "cell_type": "code",
      "source": [
        "#find the number which is alone\n",
        "\n",
        "from collections import Counter\n",
        "\n",
        "def find_alone(data):\n",
        "    counts = Counter(data)\n",
        "    for num, count in counts.items():\n",
        "        if count == 1:\n",
        "            return num\n",
        "    return None  # Return None if no number appears only once\n",
        "\n",
        "# Example usage\n",
        "numbers = [8, 2, 3, 4, 3, 3, 4, 5, 6, 7, 9, 2]\n",
        "alone_number = find_alone(numbers)\n",
        "if alone_number is not None:\n",
        "    print(\"The number that appears only once is:\", alone_number)\n",
        "else:\n",
        "    print(\"No number appears only once in the list.\")\n"
      ],
      "metadata": {
        "colab": {
          "base_uri": "https://localhost:8080/"
        },
        "id": "ZWwLY3g75qIk",
        "outputId": "e82ec0d1-3e06-4723-bb1b-1aa0ab39abbb"
      },
      "execution_count": null,
      "outputs": [
        {
          "output_type": "stream",
          "name": "stdout",
          "text": [
            "The number that appears only once is: 8\n"
          ]
        }
      ]
    },
    {
      "cell_type": "markdown",
      "source": [
        "#program to find and print the first non-repeating element in a list"
      ],
      "metadata": {
        "id": "cLQh1uIL54Rl"
      }
    },
    {
      "cell_type": "code",
      "source": [
        "a=[2,3,4,3,2,5,5]                      #O(n)\n",
        "# s=0\n",
        "# for i in a:\n",
        "#   s=s^1\n",
        "# print(s)\n",
        "\n",
        "for i in range(len(a)-1):\n",
        "  f=0\n",
        "  for j in range(len(a)):\n",
        "    if (a[i]==a[j] and i!=j):\n",
        "      f=1\n",
        "      break\n",
        "  if f==0:\n",
        "    print(a[i])\n",
        "\n"
      ],
      "metadata": {
        "colab": {
          "base_uri": "https://localhost:8080/"
        },
        "id": "TDM1wTT258Ju",
        "outputId": "d9091e80-62cb-43fc-98e4-5432d174627b"
      },
      "execution_count": null,
      "outputs": [
        {
          "output_type": "stream",
          "name": "stdout",
          "text": [
            "4\n"
          ]
        }
      ]
    },
    {
      "cell_type": "code",
      "source": [
        "# sorted arr inp using sliding window\n",
        "# O(n)\n",
        "a=[2,2,4,4,6,6,7,7,8,8,9]\n",
        "res=0\n",
        "for num in a:\n",
        "    res^=num\n",
        "print(res)"
      ],
      "metadata": {
        "colab": {
          "base_uri": "https://localhost:8080/"
        },
        "id": "O0GeDM04jHCk",
        "outputId": "e554dbf6-9706-474b-fa94-83c9cc458a0f"
      },
      "execution_count": null,
      "outputs": [
        {
          "output_type": "stream",
          "name": "stdout",
          "text": [
            "9\n"
          ]
        }
      ]
    },
    {
      "cell_type": "markdown",
      "source": [
        "#program to find and print all the elements that occur only once in a list of integers"
      ],
      "metadata": {
        "id": "NTpPEt0A6Tbe"
      }
    },
    {
      "cell_type": "code",
      "source": [
        "from collections import Counter\n",
        "\n",
        "m = list(map(int, input().split()))\n",
        "\n",
        "res = dict(Counter(m))\n",
        "\n",
        "for k, v in res.items():\n",
        "    if v == 1:\n",
        "        print(k)"
      ],
      "metadata": {
        "colab": {
          "base_uri": "https://localhost:8080/"
        },
        "id": "CbLlNdem6Uuh",
        "outputId": "29226462-681a-4208-cf78-400caef2fd04"
      },
      "execution_count": null,
      "outputs": [
        {
          "output_type": "stream",
          "name": "stdout",
          "text": [
            "2 3 4 3 2 5 6\n",
            "4\n",
            "5\n",
            "6\n"
          ]
        }
      ]
    },
    {
      "cell_type": "markdown",
      "source": [
        "---------"
      ],
      "metadata": {
        "id": "_EKyf-_IgZcd"
      }
    },
    {
      "cell_type": "markdown",
      "source": [
        "#Even and Odd without Modulo"
      ],
      "metadata": {
        "id": "LwH-4AhdgbOg"
      }
    },
    {
      "cell_type": "code",
      "source": [
        "\n",
        "number = int(input(\"Enter a Number : \"))\n",
        "c = bin(number)\n",
        "strc= str(c)\n",
        "if int(strc[-1])==1:\n",
        "    print(\"Odd\")\n",
        "else:\n",
        "    print(\"Even\")\n"
      ],
      "metadata": {
        "colab": {
          "base_uri": "https://localhost:8080/"
        },
        "id": "AUJUq-yugacg",
        "outputId": "625f316b-56da-40a3-fa8f-8395b6a1848f"
      },
      "execution_count": null,
      "outputs": [
        {
          "output_type": "stream",
          "name": "stdout",
          "text": [
            "Enter a Number : 5\n",
            "Odd\n"
          ]
        }
      ]
    },
    {
      "cell_type": "code",
      "source": [
        "\n",
        "number= int(input(\"Enter a Number : \"))\n",
        "if (number^(number-1))==1:\n",
        "  print(\"Odd\")\n",
        "else:\n",
        "  print(\"Even\")\n"
      ],
      "metadata": {
        "colab": {
          "base_uri": "https://localhost:8080/"
        },
        "id": "ACRN3niVgxUv",
        "outputId": "b4c9e963-8e06-4122-8853-919a719e4a6a"
      },
      "execution_count": null,
      "outputs": [
        {
          "output_type": "stream",
          "name": "stdout",
          "text": [
            "Enter a Number : 10\n",
            "Even\n"
          ]
        }
      ]
    },
    {
      "cell_type": "markdown",
      "source": [
        "#Bitwise Operators"
      ],
      "metadata": {
        "id": "2ygedGcDghBg"
      }
    },
    {
      "cell_type": "code",
      "source": [
        "\n",
        "number = int(input(\"Enter a Number : \"))\n",
        "if (number&1)==1:\n",
        "    print(\"Odd\")\n",
        "else:\n",
        "    print(\"Even\")\n"
      ],
      "metadata": {
        "colab": {
          "base_uri": "https://localhost:8080/"
        },
        "id": "TAyeGz8GggpO",
        "outputId": "72ed249d-3983-4cd5-cbb4-2c451377c4d4"
      },
      "execution_count": null,
      "outputs": [
        {
          "output_type": "stream",
          "name": "stdout",
          "text": [
            "Enter a Number : 10\n",
            "Even\n"
          ]
        }
      ]
    },
    {
      "cell_type": "code",
      "source": [
        "\n",
        "print(2^1)\n",
        "print(4^1)\n",
        "print(6^1)\n",
        "print(3^1)\n",
        "print(5^1)\n",
        "print(7^1)\n",
        "\n",
        "print(3^2)\n",
        "print(5^4)\n",
        "print(7^6)\n",
        "print(21^20)"
      ],
      "metadata": {
        "colab": {
          "base_uri": "https://localhost:8080/"
        },
        "id": "UlsFAf4VgmNd",
        "outputId": "15ceb67e-3bf2-4a5f-d57f-895c11f105b0"
      },
      "execution_count": null,
      "outputs": [
        {
          "output_type": "stream",
          "name": "stdout",
          "text": [
            "3\n",
            "5\n",
            "7\n",
            "2\n",
            "4\n",
            "6\n",
            "1\n",
            "1\n",
            "1\n",
            "1\n"
          ]
        }
      ]
    },
    {
      "cell_type": "code",
      "source": [
        "\n",
        "number= int(input(\"Enter a Number : \"))\n",
        "num = number^1\n",
        "if num>number:\n",
        "  print(\"Even\")\n",
        "else:\n",
        "  print(\"Odd\")"
      ],
      "metadata": {
        "colab": {
          "base_uri": "https://localhost:8080/"
        },
        "id": "qU5iKSmDgmrZ",
        "outputId": "57ac9e58-26f8-4ea4-92be-972ca770882c"
      },
      "execution_count": null,
      "outputs": [
        {
          "output_type": "stream",
          "name": "stdout",
          "text": [
            "Enter a Number : 20\n",
            "Even\n"
          ]
        }
      ]
    },
    {
      "cell_type": "code",
      "source": [
        "\n",
        "number= int(input(\"Enter a Number : \"))\n",
        "if(number%4==1):\n",
        "  print(1)\n",
        "elif(number%4==2):\n",
        "  print(number+1)\n",
        "elif(number%4==3):\n",
        "  print(0)\n",
        "else:\n",
        "  print(number)"
      ],
      "metadata": {
        "colab": {
          "base_uri": "https://localhost:8080/"
        },
        "id": "fP07Dc6og4UE",
        "outputId": "338a2ac6-5602-41f9-d26b-f04a438fb25c"
      },
      "execution_count": null,
      "outputs": [
        {
          "output_type": "stream",
          "name": "stdout",
          "text": [
            "Enter a Number : 10\n",
            "11\n"
          ]
        }
      ]
    },
    {
      "cell_type": "code",
      "source": [
        "\n",
        "number = int(input(\"Enter a Number : \"))\n",
        "print(1 if number % 4 == 1 else (number + 1 if number % 4 == 2 else (0 if number % 4 == 3 else number)))"
      ],
      "metadata": {
        "colab": {
          "base_uri": "https://localhost:8080/"
        },
        "id": "MRlc6BWSg4Ro",
        "outputId": "b2b42870-c034-44c1-9564-5c578ef6846f"
      },
      "execution_count": null,
      "outputs": [
        {
          "output_type": "stream",
          "name": "stdout",
          "text": [
            "Enter a Number : 13\n",
            "1\n"
          ]
        }
      ]
    },
    {
      "cell_type": "code",
      "source": [
        "\n",
        "print(f\"{input()}\"*5)\n"
      ],
      "metadata": {
        "colab": {
          "base_uri": "https://localhost:8080/"
        },
        "id": "4Bis1qXxg4PE",
        "outputId": "31323279-d727-4660-9377-06872cd28ad4"
      },
      "execution_count": null,
      "outputs": [
        {
          "output_type": "stream",
          "name": "stdout",
          "text": [
            "hi\n",
            "hihihihihi\n"
          ]
        }
      ]
    },
    {
      "cell_type": "code",
      "source": [
        "\n",
        "n = int(input())\n",
        "l = int(input())\n",
        "s=0\n",
        "for i in range(n,l+1):\n",
        "  s=s^i\n",
        "print(s)\n"
      ],
      "metadata": {
        "colab": {
          "base_uri": "https://localhost:8080/"
        },
        "id": "Lf2TP5Gcg4LJ",
        "outputId": "f08b92f3-df0c-497a-bd5f-41bd2d34c8e9"
      },
      "execution_count": null,
      "outputs": [
        {
          "output_type": "stream",
          "name": "stdout",
          "text": [
            "2\n",
            "7\n",
            "1\n"
          ]
        }
      ]
    },
    {
      "cell_type": "code",
      "source": [
        "# 5,10 do 5^6^7^8^9^10\n",
        "n,m = map(int,input().split())\n",
        "t = 1 if m%4==1 else(m+1 if m%4==2 else(0 if m%4==3 else m))\n",
        "req = 1 if (n-1)%4==1 else(n-1+1 if (n-1)%4==2 else(0 if (n-1)%4==3 else (n-1)))\n",
        "print(req ^ t)"
      ],
      "metadata": {
        "colab": {
          "base_uri": "https://localhost:8080/"
        },
        "id": "jB1s6GeNg4Ck",
        "outputId": "c32b9ba2-83fc-4a3f-9536-141f212e5949"
      },
      "execution_count": null,
      "outputs": [
        {
          "output_type": "stream",
          "name": "stdout",
          "text": [
            "2 9\n",
            "0\n"
          ]
        }
      ]
    },
    {
      "cell_type": "markdown",
      "source": [
        "#Check if 2 Powered Number 2 ^ n"
      ],
      "metadata": {
        "id": "X4HS1erehb1t"
      }
    },
    {
      "cell_type": "code",
      "source": [
        "\n",
        "num = int(input())\n",
        "print(\"yes\" if num&(num) else \"no\")\n"
      ],
      "metadata": {
        "colab": {
          "base_uri": "https://localhost:8080/"
        },
        "id": "mjKpfeUShWBK",
        "outputId": "e0e9d4c1-4f73-42e1-c972-cd325c6635fa"
      },
      "execution_count": null,
      "outputs": [
        {
          "output_type": "stream",
          "name": "stdout",
          "text": [
            "32\n",
            "yes\n"
          ]
        }
      ]
    },
    {
      "cell_type": "code",
      "source": [
        "\n",
        "print(\"Yes\" if bin(int(input())).count('1') == 1 else \"No\")\n"
      ],
      "metadata": {
        "colab": {
          "base_uri": "https://localhost:8080/"
        },
        "id": "4vLvibGVhhCO",
        "outputId": "01a5afc7-208c-49db-da72-93355308da15"
      },
      "execution_count": null,
      "outputs": [
        {
          "output_type": "stream",
          "name": "stdout",
          "text": [
            "128\n",
            "Yes\n"
          ]
        }
      ]
    },
    {
      "cell_type": "markdown",
      "source": [
        "#Input: encoded = [1,2,3], first = 1 Output: [1,0,2,1] Explanation: If arr = [1,0,2,1], then first = 1 and encoded = [1 XOR 0, 0 XOR 2, 2 XOR 1] = [1,2,3]"
      ],
      "metadata": {
        "id": "oEI15I5Mhlwb"
      }
    },
    {
      "cell_type": "code",
      "source": [
        "\n",
        "def decode(encoded, first):\n",
        "        arr=[first]\n",
        "        for x in range(len(encoded)):\n",
        "            arr.append(first ^ encoded[x])\n",
        "            first = arr[-1]\n",
        "        return arr\n",
        "encoded = list(map(int,input().split()))\n",
        "first = int(input())\n",
        "print(decode(encoded,first))\n"
      ],
      "metadata": {
        "colab": {
          "base_uri": "https://localhost:8080/"
        },
        "id": "tFCRZo7_hg_H",
        "outputId": "6ae9abc3-a7f4-4376-ab2f-c6ddb58bdbbb"
      },
      "execution_count": null,
      "outputs": [
        {
          "output_type": "stream",
          "name": "stdout",
          "text": [
            "1 2 3\n",
            "1\n",
            "[1, 0, 2, 1]\n"
          ]
        }
      ]
    },
    {
      "cell_type": "code",
      "source": [
        "\n",
        "x = -213\n",
        "n ='-' + str(x)[::-1]\n",
        "num = int(n[:-1])\n",
        "print(type(num))\n"
      ],
      "metadata": {
        "colab": {
          "base_uri": "https://localhost:8080/"
        },
        "id": "UjNJfvY2hg7s",
        "outputId": "4bec804f-646f-4eae-f4a3-7b444e657eff"
      },
      "execution_count": null,
      "outputs": [
        {
          "output_type": "stream",
          "name": "stdout",
          "text": [
            "<class 'int'>\n"
          ]
        }
      ]
    },
    {
      "cell_type": "code",
      "source": [
        "#Finding The Longest Sequence\n"
      ],
      "metadata": {
        "id": "WdeJKFm_hujl"
      },
      "execution_count": null,
      "outputs": []
    },
    {
      "cell_type": "markdown",
      "source": [],
      "metadata": {
        "id": "JurLIafshxZk"
      }
    },
    {
      "cell_type": "code",
      "source": [
        "\n",
        "nums = list(map(int,input().split()))\n",
        "max=0\n",
        "c=1\n",
        "for i in range(len(nums)-1):\n",
        "  if nums[i]+1==nums[i+1]:\n",
        "    c+=1\n",
        "  if nums[i]+1!=nums[i+1]:\n",
        "    c=1\n",
        "  if c>max:\n",
        "    max=c\n",
        "print(max)\n"
      ],
      "metadata": {
        "colab": {
          "base_uri": "https://localhost:8080/"
        },
        "id": "kdVLr7_vhx2q",
        "outputId": "c39f60c7-d380-432c-8318-e73dfb53e6b3"
      },
      "execution_count": null,
      "outputs": [
        {
          "output_type": "stream",
          "name": "stdout",
          "text": [
            "1 2 3 2 3 4 5 6 7 8 9\n",
            "8\n"
          ]
        }
      ]
    },
    {
      "cell_type": "code",
      "source": [
        "\n",
        "st = input()\n",
        "c=1\n",
        "for i in range(len(st)-1):\n",
        "  if st[i]==st[i+1]:\n",
        "    c+=1\n",
        "  else:\n",
        "    print(f\"{st[i]}{c}\",end='')\n",
        "    c=1\n",
        "print(f\"{st[i]}{c}\")"
      ],
      "metadata": {
        "colab": {
          "base_uri": "https://localhost:8080/"
        },
        "id": "bM8Q06_Kh3c9",
        "outputId": "b0c8fab8-a52c-4691-f00d-2140156415ea"
      },
      "execution_count": null,
      "outputs": [
        {
          "output_type": "stream",
          "name": "stdout",
          "text": [
            "aaabbbaaabb\n",
            "a3b3a3b2\n"
          ]
        }
      ]
    }
  ]
}