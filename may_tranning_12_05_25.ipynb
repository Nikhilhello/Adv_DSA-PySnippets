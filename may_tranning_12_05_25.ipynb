{
  "nbformat": 4,
  "nbformat_minor": 0,
  "metadata": {
    "colab": {
      "provenance": [],
      "collapsed_sections": [
        "COn5U0oyFFI2",
        "ulw-jmTa2KuI",
        "w7RljxuM6Q1e",
        "6Bsf6EY2EQ3l",
        "2NbMLi2PPUrl",
        "YqbzZqgfWSnI",
        "DOeEVx_qqBnQ",
        "XhiJxeeGzvPn",
        "OLuBiLmQ9NTK",
        "02iX-Ns0Gxhp",
        "Ah7sMZfnOWOn",
        "5ovOvbVtU7kn",
        "LcTZA-6PrwXh",
        "KQuQaaJa2LK2",
        "rlCcsTsN-umt",
        "qbz6CB-YJZE-",
        "JiQ5-GHKSWWm",
        "Hnfmpb89bC4w",
        "Z7oNUUZAtqM2",
        "S9Wcf3Gz7lz_"
      ]
    },
    "kernelspec": {
      "name": "python3",
      "display_name": "Python 3"
    },
    "language_info": {
      "name": "python"
    }
  },
  "cells": [
    {
      "cell_type": "markdown",
      "source": [
        "#12/05/25     ---DAY-01"
      ],
      "metadata": {
        "id": "COn5U0oyFFI2"
      }
    },
    {
      "cell_type": "code",
      "execution_count": null,
      "metadata": {
        "colab": {
          "base_uri": "https://localhost:8080/"
        },
        "id": "Ow2N4ozIyFZH",
        "outputId": "e1f3c702-e949-440f-91d5-77985cf0b7f8"
      },
      "outputs": [
        {
          "output_type": "stream",
          "name": "stdout",
          "text": [
            "6\n",
            "not prime\n"
          ]
        }
      ],
      "source": [
        "n=int(input())\n",
        "count=0\n",
        "for i in range(1,n+1):  #2,n//2+1\n",
        "  if(n%i==0):\n",
        "    count=count+1\n",
        "if(count==2):  #<\n",
        "  print(\"is prime\")\n",
        "  if(n>20):\n",
        "    print(n,\"is greater than 20\")\n",
        "  else:\n",
        "    print(n,\"is less than 20\")\n",
        "else:\n",
        "  print(\"not prime\")\n",
        "\n"
      ]
    },
    {
      "cell_type": "code",
      "source": [
        "list=[8,2,3,4,3,3,4,5,6,7,9,2]   #hetiro #dic ,set -----------hashing\n",
        "list_s=[]\n",
        "for i in list:\n",
        "  if i not in list_s:#in O(n^2)\n",
        "    list_s.append(i)\n",
        "list_s"
      ],
      "metadata": {
        "colab": {
          "base_uri": "https://localhost:8080/"
        },
        "id": "dQO088ff5Avc",
        "outputId": "c1a7b0bf-f00d-4f29-a552-c8a3c7ee0eb0"
      },
      "execution_count": null,
      "outputs": [
        {
          "output_type": "execute_result",
          "data": {
            "text/plain": [
              "[8, 2, 3, 4, 5, 6, 7, 9]"
            ]
          },
          "metadata": {},
          "execution_count": 24
        }
      ]
    },
    {
      "cell_type": "code",
      "source": [
        "list=[8,2,3,4,3,3,4,5,6,7,9,2]   #hetiro #dic ,set -----------hashing\n",
        "list_s=[]\n",
        "s = set()\n",
        "for i in list:\n",
        "  if i not in s:#in O(n^2)\n",
        "    list_s.append(i)\n",
        "    s.add(i)\n",
        "list_s"
      ],
      "metadata": {
        "id": "p-0sZ-vvAqWb",
        "colab": {
          "base_uri": "https://localhost:8080/"
        },
        "outputId": "af2f0fa6-a681-4587-8f50-b832b4c0af1c"
      },
      "execution_count": null,
      "outputs": [
        {
          "output_type": "execute_result",
          "data": {
            "text/plain": [
              "[8, 2, 3, 4, 5, 6, 7, 9]"
            ]
          },
          "metadata": {},
          "execution_count": 2
        }
      ]
    },
    {
      "cell_type": "code",
      "source": [
        "from collections import Counter\n",
        "n=list(map(int,input().split())) #..................................\n",
        "print(dict(Counter(n)))"
      ],
      "metadata": {
        "id": "XmQyyG41FI_F",
        "colab": {
          "base_uri": "https://localhost:8080/",
          "height": 193
        },
        "outputId": "e1ed6b63-d42c-40f7-aa40-e4f81de7a8a6"
      },
      "execution_count": null,
      "outputs": [
        {
          "name": "stdout",
          "output_type": "stream",
          "text": [
            "5 96 9 6 5 2 5 6 3 \n"
          ]
        },
        {
          "output_type": "error",
          "ename": "TypeError",
          "evalue": "'list' object is not callable",
          "traceback": [
            "\u001b[0;31m---------------------------------------------------------------------------\u001b[0m",
            "\u001b[0;31mTypeError\u001b[0m                                 Traceback (most recent call last)",
            "\u001b[0;32m<ipython-input-3-c82f0ddd9979>\u001b[0m in \u001b[0;36m<cell line: 0>\u001b[0;34m()\u001b[0m\n\u001b[1;32m      1\u001b[0m \u001b[0;32mfrom\u001b[0m \u001b[0mcollections\u001b[0m \u001b[0;32mimport\u001b[0m \u001b[0mCounter\u001b[0m\u001b[0;34m\u001b[0m\u001b[0;34m\u001b[0m\u001b[0m\n\u001b[0;32m----> 2\u001b[0;31m \u001b[0mn\u001b[0m\u001b[0;34m=\u001b[0m\u001b[0mlist\u001b[0m\u001b[0;34m(\u001b[0m\u001b[0mmap\u001b[0m\u001b[0;34m(\u001b[0m\u001b[0mint\u001b[0m\u001b[0;34m,\u001b[0m\u001b[0minput\u001b[0m\u001b[0;34m(\u001b[0m\u001b[0;34m)\u001b[0m\u001b[0;34m.\u001b[0m\u001b[0msplit\u001b[0m\u001b[0;34m(\u001b[0m\u001b[0;34m)\u001b[0m\u001b[0;34m)\u001b[0m\u001b[0;34m)\u001b[0m \u001b[0;31m#..................................\u001b[0m\u001b[0;34m\u001b[0m\u001b[0;34m\u001b[0m\u001b[0m\n\u001b[0m\u001b[1;32m      3\u001b[0m \u001b[0mprint\u001b[0m\u001b[0;34m(\u001b[0m\u001b[0mdict\u001b[0m\u001b[0;34m(\u001b[0m\u001b[0mCounter\u001b[0m\u001b[0;34m(\u001b[0m\u001b[0mn\u001b[0m\u001b[0;34m)\u001b[0m\u001b[0;34m)\u001b[0m\u001b[0;34m)\u001b[0m\u001b[0;34m\u001b[0m\u001b[0;34m\u001b[0m\u001b[0m\n",
            "\u001b[0;31mTypeError\u001b[0m: 'list' object is not callable"
          ]
        }
      ]
    },
    {
      "cell_type": "code",
      "source": [
        "n = int(input())           #O(n)\n",
        "sum = 0\n",
        "for i in range(1, n + 1):\n",
        "  sum += i\n",
        "sum\n"
      ],
      "metadata": {
        "colab": {
          "base_uri": "https://localhost:8080/"
        },
        "id": "bHZN709TFW5-",
        "outputId": "37b20d17-c8dd-45e0-8a8a-97b10ff2fd48"
      },
      "execution_count": null,
      "outputs": [
        {
          "name": "stdout",
          "output_type": "stream",
          "text": [
            "4\n"
          ]
        },
        {
          "output_type": "execute_result",
          "data": {
            "text/plain": [
              "10"
            ]
          },
          "metadata": {},
          "execution_count": 30
        }
      ]
    },
    {
      "cell_type": "code",
      "source": [
        "n=int(input())\n",
        "print(sum(range)) #................\n"
      ],
      "metadata": {
        "id": "aj0oAcAGHH_X"
      },
      "execution_count": null,
      "outputs": []
    },
    {
      "cell_type": "code",
      "source": [
        "list =[8, 2, 3, 4, 5, 6, 7, 9] #sum of even numbers\n",
        "s=0\n",
        "for i in range(1,len(list),2):  #(0,len(list),2) sum of odd numbers\n",
        "  s=s+list[i]\n",
        "print(s)"
      ],
      "metadata": {
        "colab": {
          "base_uri": "https://localhost:8080/"
        },
        "id": "jkWqf7WMLRgA",
        "outputId": "a9b1d4d0-23cf-4b8c-98d2-cdec75e62504"
      },
      "execution_count": null,
      "outputs": [
        {
          "output_type": "stream",
          "name": "stdout",
          "text": [
            "21\n"
          ]
        }
      ]
    },
    {
      "cell_type": "code",
      "source": [
        "O(n+m log n+m)\n",
        "list 1 i\n",
        "list 2 j\n",
        "c=[]\n",
        "print(c)"
      ],
      "metadata": {
        "id": "hcKH0aDzVl-r"
      },
      "execution_count": null,
      "outputs": []
    },
    {
      "cell_type": "markdown",
      "source": [
        "**afternoon**"
      ],
      "metadata": {
        "id": "3uwWvvy5pzlB"
      }
    },
    {
      "cell_type": "code",
      "source": [
        "# prompt: find the number which is alone\n",
        "\n",
        "from collections import Counter\n",
        "\n",
        "def find_alone(data):\n",
        "    counts = Counter(data)\n",
        "    for num, count in counts.items():\n",
        "        if count == 1:\n",
        "            return num\n",
        "    return None  # Return None if no number appears only once\n",
        "\n",
        "# Example usage\n",
        "numbers = [8, 2, 3, 4, 3, 3, 4, 5, 6, 7, 9, 2]\n",
        "alone_number = find_alone(numbers)\n",
        "if alone_number is not None:\n",
        "    print(\"The number that appears only once is:\", alone_number)\n",
        "else:\n",
        "    print(\"No number appears only once in the list.\")\n"
      ],
      "metadata": {
        "colab": {
          "base_uri": "https://localhost:8080/"
        },
        "id": "qHnUdXwZrkSH",
        "outputId": "6b8ad001-8fb1-4539-f3a1-f69b45392c5e"
      },
      "execution_count": null,
      "outputs": [
        {
          "output_type": "stream",
          "name": "stdout",
          "text": [
            "The number that appears only once is: 8\n"
          ]
        }
      ]
    },
    {
      "cell_type": "code",
      "source": [
        "from collections import Counter\n",
        "\n",
        "m = list(map(int, input().split()))\n",
        "\n",
        "res = dict(Counter(m))\n",
        "\n",
        "for k, v in res.items():\n",
        "    if v == 1:\n",
        "        print(k)\n"
      ],
      "metadata": {
        "colab": {
          "base_uri": "https://localhost:8080/"
        },
        "id": "2FF9i8FQp3kq",
        "outputId": "cae82683-6585-4ecf-df8c-5de95f6cab6f"
      },
      "execution_count": null,
      "outputs": [
        {
          "output_type": "stream",
          "name": "stdout",
          "text": [
            "2 3 4 3 2 5 6\n",
            "4\n",
            "5\n",
            "6\n"
          ]
        }
      ]
    },
    {
      "cell_type": "code",
      "source": [],
      "metadata": {
        "id": "zHEmOwpJf1GZ"
      },
      "execution_count": null,
      "outputs": []
    },
    {
      "cell_type": "code",
      "source": [
        "a=[2,3,4,3,2,5,5]                      #O(n)\n",
        "# s=0\n",
        "# for i in a:\n",
        "#   s=s^1\n",
        "# print(s)\n",
        "\n",
        "for i in range(len(a)-1):\n",
        "  f=0\n",
        "  for j in range(len(a)):\n",
        "    if (a[i]==a[j] and i!=j):\n",
        "      f=1\n",
        "      break\n",
        "  if f==0:\n",
        "    print(a[i])\n",
        "\n"
      ],
      "metadata": {
        "colab": {
          "base_uri": "https://localhost:8080/"
        },
        "id": "X_G1dpFCu5Im",
        "outputId": "53cd7ddd-ab7d-4c35-df29-20a1c59613da"
      },
      "execution_count": null,
      "outputs": [
        {
          "output_type": "stream",
          "name": "stdout",
          "text": [
            "4\n"
          ]
        }
      ]
    },
    {
      "cell_type": "markdown",
      "source": [
        "# ---**13/05/25**            ---------DAY-02\n",
        "\n",
        "\n",
        "\n",
        "operaters ---   & | _  ^ <<  >>   \n",
        "longest_subsequence                     \n",
        "string_compression                    \n"
      ],
      "metadata": {
        "id": "ulw-jmTa2KuI"
      }
    },
    {
      "cell_type": "code",
      "source": [
        "# 15 xor 4 program\n",
        "\n",
        "def xor_operation(num1, num2):\n",
        "  \"\"\"Performs the XOR operation on two numbers.\n",
        "\n",
        "  Args:\n",
        "    num1: The first number.\n",
        "    num2: The second number.\n",
        "\n",
        "  Returns:\n",
        "    The result of the XOR operation.\n",
        "  \"\"\"\n",
        "  return num1 ^ num2\n",
        "\n",
        "# Example usage\n",
        "result = xor_operation(15, 4)\n",
        "result\n"
      ],
      "metadata": {
        "colab": {
          "base_uri": "https://localhost:8080/"
        },
        "id": "g5jK-gaL2V06",
        "outputId": "2719292f-3c57-4ed1-a90e-ba4fb46f55c7"
      },
      "execution_count": null,
      "outputs": [
        {
          "output_type": "execute_result",
          "data": {
            "text/plain": [
              "11"
            ]
          },
          "metadata": {},
          "execution_count": 1
        }
      ]
    },
    {
      "cell_type": "code",
      "source": [
        "#5 left shiift 1\n",
        "\n",
        "def left_shift(x, n):\n",
        "    \"\"\"\n",
        "    Performs a left bitwise shift operation.\n",
        "\n",
        "    Args:\n",
        "        x: The number to shift.\n",
        "        n: The number of positions to shift.\n",
        "\n",
        "    Returns:\n",
        "        The result of the left bitwise shift.\n",
        "    \"\"\"\n",
        "\n",
        "    return x << n\n",
        "\n",
        "# Example usage\n",
        "number = 178  # Example number\n",
        "shift_amount = 13  # Number of positions to shift left\n",
        "\n",
        "shifted_number = left_shift(number, shift_amount)\n",
        "print(f\"The result of left shifting {number} by {shift_amount} positions is: {shifted_number}\")\n"
      ],
      "metadata": {
        "colab": {
          "base_uri": "https://localhost:8080/"
        },
        "id": "xANOhJSr23Z4",
        "outputId": "953adf98-e4d3-476f-f557-d781c1cd7ed2"
      },
      "execution_count": null,
      "outputs": [
        {
          "output_type": "stream",
          "name": "stdout",
          "text": [
            "The result of left shifting 178 by 13 positions is: 1458176\n"
          ]
        }
      ]
    },
    {
      "cell_type": "code",
      "source": [
        "# even or odd using --------% operater\n",
        "n=int(input())\n",
        "if (n%2==0):\n",
        "  print(\"even\")\n",
        "else:\n",
        "  print(\"odd\")"
      ],
      "metadata": {
        "colab": {
          "base_uri": "https://localhost:8080/"
        },
        "id": "ZMmAWzJf8MMh",
        "outputId": "971a30ae-5051-4b23-df84-960b4125df43"
      },
      "execution_count": null,
      "outputs": [
        {
          "output_type": "stream",
          "name": "stdout",
          "text": [
            "9\n",
            "even\n"
          ]
        }
      ]
    },
    {
      "cell_type": "code",
      "source": [
        "# even or odd using --------& operater\n",
        "n=int(input())\n",
        "if (n&1==0):\n",
        "  print(\"even\")\n",
        "else:\n",
        "  print(\"odd\")"
      ],
      "metadata": {
        "colab": {
          "base_uri": "https://localhost:8080/"
        },
        "id": "oiqJWqZi8scm",
        "outputId": "b08be15a-2b37-4ff8-f83b-1493df3d4404"
      },
      "execution_count": null,
      "outputs": [
        {
          "output_type": "stream",
          "name": "stdout",
          "text": [
            "6\n",
            "even\n"
          ]
        }
      ]
    },
    {
      "cell_type": "code",
      "source": [
        "# even or odd with outusing --------& and % operater\n",
        "n=int(input())\n",
        "if (n^1==(n+1)):\n",
        "  print(\"even\")\n",
        "else:\n",
        "  print(\"odd\")\n"
      ],
      "metadata": {
        "colab": {
          "base_uri": "https://localhost:8080/"
        },
        "id": "dO5g2AsE-3YQ",
        "outputId": "45f8c589-9bd2-4841-dd0a-2987a28f4bf1"
      },
      "execution_count": null,
      "outputs": [
        {
          "output_type": "stream",
          "name": "stdout",
          "text": [
            "17\n",
            "odd\n"
          ]
        }
      ]
    },
    {
      "cell_type": "code",
      "source": [
        "# perfrom number of ^ XOR opration     #1^^^^^n\n",
        "n=int(input())           # O(n)- u should convert--> O(1)\n",
        "s=0\n",
        "for i in range(1,n+1):\n",
        "    s=s^i\n",
        "print(s)"
      ],
      "metadata": {
        "colab": {
          "base_uri": "https://localhost:8080/"
        },
        "id": "aeOMoaq1Bp1f",
        "outputId": "50d77ccd-5562-40ae-be83-702e0d8f6ea0"
      },
      "execution_count": null,
      "outputs": [
        {
          "output_type": "stream",
          "name": "stdout",
          "text": [
            "10\n",
            "11\n"
          ]
        }
      ]
    },
    {
      "cell_type": "code",
      "source": [
        "n=int(input())           # O(n)- converted --> O(1)\n",
        "if (n%4==1):\n",
        "  print(1)\n",
        "elif(n%4==2):\n",
        "  print(n+1)\n",
        "elif(n%4==3):\n",
        "  print(0)\n",
        "else:\n",
        "  print(n)\n"
      ],
      "metadata": {
        "colab": {
          "base_uri": "https://localhost:8080/"
        },
        "id": "3YZtwg_zFNby",
        "outputId": "168d1544-660f-4bfa-b3d4-f3bfb23c20ed"
      },
      "execution_count": null,
      "outputs": [
        {
          "output_type": "stream",
          "name": "stdout",
          "text": [
            "10\n",
            "11\n"
          ]
        }
      ]
    },
    {
      "cell_type": "markdown",
      "source": [
        "**perfrom number of ^ XOR opration ---with a specfic range-------    n^^^^^m**"
      ],
      "metadata": {
        "id": "rJQEoS1hNqg1"
      }
    },
    {
      "cell_type": "code",
      "source": [
        "n=int(input())           # O(n)- u should convert--> O(1)\n",
        "m=int(input())\n",
        "s=0\n",
        "for i in range(n,m+1):\n",
        "    s=s^i\n",
        "print(s)"
      ],
      "metadata": {
        "colab": {
          "base_uri": "https://localhost:8080/"
        },
        "id": "G2U5wciBH6PZ",
        "outputId": "a7fe3e92-a696-4bf5-92f9-84e1e1cb676b"
      },
      "execution_count": null,
      "outputs": [
        {
          "output_type": "stream",
          "name": "stdout",
          "text": [
            "5\n",
            "10\n",
            "15\n"
          ]
        }
      ]
    },
    {
      "cell_type": "code",
      "source": [
        "def xorwhole(x):\n",
        "  if (x%4==1):\n",
        "    return 1\n",
        "  elif(x%4==2):\n",
        "    return x+1\n",
        "  elif(x%4==3):\n",
        "    return 0\n",
        "  else:\n",
        "    return x\n",
        "n=int(input())           # O(n)-  converted --> O(1)\n",
        "m=int(input())\n",
        "print(xorwhole(n-1)^xorwhole(m))"
      ],
      "metadata": {
        "colab": {
          "base_uri": "https://localhost:8080/"
        },
        "id": "iKUNKr1DItEo",
        "outputId": "79965691-29a7-4050-f766-751cdfaf7f1f"
      },
      "execution_count": null,
      "outputs": [
        {
          "output_type": "stream",
          "name": "stdout",
          "text": [
            "5\n",
            "10\n",
            "15\n"
          ]
        }
      ]
    },
    {
      "cell_type": "markdown",
      "source": [
        "**check wheather it is ^2**"
      ],
      "metadata": {
        "id": "SODVoU8TN_l5"
      }
    },
    {
      "cell_type": "code",
      "source": [
        "# check wheather it is ^2\n",
        "n=int(input())\n",
        "i=0\n",
        "while(i<=n):\n",
        "  print(2**i)\n",
        "  i=i+1\n"
      ],
      "metadata": {
        "colab": {
          "base_uri": "https://localhost:8080/"
        },
        "id": "w7mP5lhJOIV5",
        "outputId": "495bfbf7-81bb-4a71-ef2c-07304230b3ce"
      },
      "execution_count": null,
      "outputs": [
        {
          "output_type": "stream",
          "name": "stdout",
          "text": [
            "10\n",
            "1\n",
            "2\n",
            "4\n",
            "8\n",
            "16\n",
            "32\n",
            "64\n",
            "128\n",
            "256\n",
            "512\n",
            "1024\n"
          ]
        }
      ]
    },
    {
      "cell_type": "code",
      "source": [
        "# check wheather it is ^2            method -1\n",
        "n=int(input())\n",
        "i=0\n",
        "while(1):\n",
        "  if (2**i ==n):\n",
        "    print(yes)\n",
        "  i=i+1            #.........................."
      ],
      "metadata": {
        "colab": {
          "base_uri": "https://localhost:8080/",
          "height": 228
        },
        "id": "NCTPFoGEQgqr",
        "outputId": "a14f25bd-26ea-46e1-d000-420d33b83164"
      },
      "execution_count": null,
      "outputs": [
        {
          "name": "stdout",
          "output_type": "stream",
          "text": [
            "18\n"
          ]
        },
        {
          "output_type": "error",
          "ename": "KeyboardInterrupt",
          "evalue": "",
          "traceback": [
            "\u001b[0;31m---------------------------------------------------------------------------\u001b[0m",
            "\u001b[0;31mKeyboardInterrupt\u001b[0m                         Traceback (most recent call last)",
            "\u001b[0;32m<ipython-input-46-49f461c76bea>\u001b[0m in \u001b[0;36m<cell line: 0>\u001b[0;34m()\u001b[0m\n\u001b[1;32m      3\u001b[0m \u001b[0mi\u001b[0m\u001b[0;34m=\u001b[0m\u001b[0;36m0\u001b[0m\u001b[0;34m\u001b[0m\u001b[0;34m\u001b[0m\u001b[0m\n\u001b[1;32m      4\u001b[0m \u001b[0;32mwhile\u001b[0m\u001b[0;34m(\u001b[0m\u001b[0;36m1\u001b[0m\u001b[0;34m)\u001b[0m\u001b[0;34m:\u001b[0m\u001b[0;34m\u001b[0m\u001b[0;34m\u001b[0m\u001b[0m\n\u001b[0;32m----> 5\u001b[0;31m   \u001b[0;32mif\u001b[0m \u001b[0;34m(\u001b[0m\u001b[0;36m2\u001b[0m\u001b[0;34m**\u001b[0m\u001b[0mi\u001b[0m \u001b[0;34m==\u001b[0m\u001b[0mn\u001b[0m\u001b[0;34m)\u001b[0m\u001b[0;34m:\u001b[0m\u001b[0;34m\u001b[0m\u001b[0;34m\u001b[0m\u001b[0m\n\u001b[0m\u001b[1;32m      6\u001b[0m     \u001b[0mprint\u001b[0m\u001b[0;34m(\u001b[0m\u001b[0myes\u001b[0m\u001b[0;34m)\u001b[0m\u001b[0;34m\u001b[0m\u001b[0;34m\u001b[0m\u001b[0m\n\u001b[1;32m      7\u001b[0m   \u001b[0mi\u001b[0m\u001b[0;34m=\u001b[0m\u001b[0mi\u001b[0m\u001b[0;34m+\u001b[0m\u001b[0;36m1\u001b[0m\u001b[0;34m\u001b[0m\u001b[0;34m\u001b[0m\u001b[0m\n",
            "\u001b[0;31mKeyboardInterrupt\u001b[0m: "
          ]
        }
      ]
    },
    {
      "cell_type": "code",
      "source": [
        "n = int(input(\"Enter a number: \"))\n",
        "i = 0\n",
        "found = False\n",
        "\n",
        "while 2**i <= n:\n",
        "    if 2**i == n:\n",
        "        found = True\n",
        "        break\n",
        "    i += 1\n",
        "\n",
        "if found:\n",
        "    print(\"yes\")\n",
        "else:\n",
        "    print(\"no\")\n",
        "\n"
      ],
      "metadata": {
        "colab": {
          "base_uri": "https://localhost:8080/"
        },
        "id": "rRwRS893mHkL",
        "outputId": "6ab24838-9e11-4177-fc8c-100333a9f232"
      },
      "execution_count": null,
      "outputs": [
        {
          "output_type": "stream",
          "name": "stdout",
          "text": [
            "Enter a number: 18\n",
            "no\n"
          ]
        }
      ]
    },
    {
      "cell_type": "code",
      "source": [
        "# n/2 == n//2 yes  --------- O(log n)  method 2\n",
        "# n/2 != n//2 no\n",
        "\n",
        "\n",
        "\n",
        "# if  n&(n-1) == 0  yes --------------------O(1) method 3\n",
        "# else no\n",
        "\n",
        "n=int(input())\n",
        "if n&(n-1)==0:\n",
        "  print(\"yes\")\n",
        "else:\n",
        "  print(\"no\")\n"
      ],
      "metadata": {
        "colab": {
          "base_uri": "https://localhost:8080/"
        },
        "id": "eIwdQIvPReiK",
        "outputId": "4e645d98-4cba-4899-9058-91f64aa10055"
      },
      "execution_count": null,
      "outputs": [
        {
          "output_type": "stream",
          "name": "stdout",
          "text": [
            "32\n",
            "yes\n"
          ]
        }
      ]
    },
    {
      "cell_type": "markdown",
      "source": [
        "sliding"
      ],
      "metadata": {
        "id": "nwGKQamyuBRn"
      }
    },
    {
      "cell_type": "code",
      "source": [
        "# xor --> sliding --------->bineaysearch-O(logn)\n",
        "arr=[2,2,4,4,6,6,7,8,8,9,9]   #using xor\n",
        "# res=0\n",
        "# for i in arr:        #op: 7\n",
        "#   res=res^i\n",
        "# print(res)\n",
        "\n",
        "res=arr[0]\n",
        "for i in range(1,len(arr)-1,2):          #   O(n/2)\n",
        "  if(arr[i]!=arr[i+1]):\n",
        "    print(arr[i])                       #..............\n",
        "else:\n",
        "  print(arr[-1])\n",
        "\n"
      ],
      "metadata": {
        "colab": {
          "base_uri": "https://localhost:8080/"
        },
        "id": "GsY6g1mZvVyw",
        "outputId": "800c23fa-5089-4dff-e921-85b499abc3f7"
      },
      "execution_count": null,
      "outputs": [
        {
          "output_type": "stream",
          "name": "stdout",
          "text": [
            "2\n",
            "4\n",
            "6\n",
            "9\n"
          ]
        }
      ]
    },
    {
      "cell_type": "markdown",
      "source": [
        "**longest_subsequence**"
      ],
      "metadata": {
        "id": "X69ncE87__Rj"
      }
    },
    {
      "cell_type": "code",
      "source": [
        "def longest_subsequence(lst):                 #mahesh\n",
        "    m_len=0\n",
        "    c_len=1\n",
        "    for i in range(1,len(lst)):\n",
        "        if lst[i] > lst[i-1]:\n",
        "            c_len+=1\n",
        "        else:\n",
        "            m_len=max(m_len,c_len)\n",
        "            c_len=1\n",
        "    return max(m_len,c_len)\n",
        "print(longest_subsequence([8,7,6,5,4,3,2,1]))"
      ],
      "metadata": {
        "id": "i7lVACcM9J68"
      },
      "execution_count": null,
      "outputs": []
    },
    {
      "cell_type": "code",
      "source": [
        "# a=[8,7,6,5,4,3,2,1]              #longest_subsequence\n",
        "# l=[]\n",
        "# c=1\n",
        "# for i in range(len(a)-1):\n",
        "#     if(a[i]+1 == a[i+1]):\n",
        "#       c=c+1\n",
        "#     else:\n",
        "#       l.append(c)\n",
        "#       c=1\n",
        "# l.append(c)                             #doedit\n",
        "# print(l)\n",
        "\n",
        "\n",
        "\n",
        "#-------\n",
        "#-------------longest_subsequence\n",
        "a=[1,2,3,4,2,3,4,5,6]              #working\n",
        "max=1\n",
        "c=1\n",
        "for i in range(len(a)-1):\n",
        "    if(a[i]+1 == a[i+1]):\n",
        "      c=c+1\n",
        "    else:\n",
        "       if(c > max):\n",
        "          max=c\n",
        "       c=1\n",
        "if(c>max):\n",
        "  max=c\n",
        "print(max)\n"
      ],
      "metadata": {
        "colab": {
          "base_uri": "https://localhost:8080/"
        },
        "id": "bmvASq2h9Vn9",
        "outputId": "25477adc-6245-4f84-adf4-a12880d60453"
      },
      "execution_count": null,
      "outputs": [
        {
          "output_type": "stream",
          "name": "stdout",
          "text": [
            "5\n"
          ]
        }
      ]
    },
    {
      "cell_type": "markdown",
      "source": [
        "**string_compression**"
      ],
      "metadata": {
        "id": "DzcdGq4aIkTF"
      }
    },
    {
      "cell_type": "code",
      "source": [
        "from collections import Counter                      #string_compression using function\n",
        "\n",
        "def string_compression(s):\n",
        "    compressed_string = \"\"\n",
        "    char_counts = Counter(s)\n",
        "    for char, count in char_counts.items():\n",
        "        compressed_string += char + str(count)\n",
        "    return compressed_string\n",
        "\n",
        "s = \"aaabbaaaaccddddd\"\n",
        "output = string_compression(s)\n",
        "output\n"
      ],
      "metadata": {
        "colab": {
          "base_uri": "https://localhost:8080/",
          "height": 36
        },
        "id": "tBkfyuLKFJHp",
        "outputId": "b1ad8c1a-91ba-4a8a-f049-a8af416efac3"
      },
      "execution_count": null,
      "outputs": [
        {
          "output_type": "execute_result",
          "data": {
            "text/plain": [
              "'a7b2c2d5'"
            ],
            "application/vnd.google.colaboratory.intrinsic+json": {
              "type": "string"
            }
          },
          "metadata": {},
          "execution_count": 87
        }
      ]
    },
    {
      "cell_type": "code",
      "source": [
        "from collections import Counter                      #string_compression -my\n",
        "s = \"aaabbaaaaccddddd\"\n",
        "c=0\n",
        "final_str=\"\"\n",
        "char_c=Counter(s)\n",
        "for char,count in char_c.items():\n",
        "  final_str = final_str+char+str(count)\n",
        "print(final_str)\n",
        "\n"
      ],
      "metadata": {
        "colab": {
          "base_uri": "https://localhost:8080/"
        },
        "id": "rtXrPfxSFh9R",
        "outputId": "ac6cea4f-6a60-4f44-f0c8-6c5dd45ec968"
      },
      "execution_count": null,
      "outputs": [
        {
          "output_type": "stream",
          "name": "stdout",
          "text": [
            "a7b2c2d5\n"
          ]
        }
      ]
    },
    {
      "cell_type": "code",
      "source": [
        "##string_compression     #sir code\n",
        "a = \"aaabbaaaaccddddd\"\n",
        "c=1\n",
        "s=''\n",
        "for i in range(len(a)-1):\n",
        "  if (a[i]==a[i+1]):            #string_compression  #string_compression  #----------------sliding window\n",
        "    c=c+1\n",
        "  else:\n",
        "    s=s+a[i]+str(c)\n",
        "    c=1\n",
        "s=s+a[-1]+str(c)\n",
        "print(s)"
      ],
      "metadata": {
        "colab": {
          "base_uri": "https://localhost:8080/"
        },
        "id": "bo_JoufzGz2n",
        "outputId": "aea90537-08dd-4d58-c5e4-3816a82fc236"
      },
      "execution_count": null,
      "outputs": [
        {
          "output_type": "stream",
          "name": "stdout",
          "text": [
            "a3b2a4c2d5\n"
          ]
        }
      ]
    },
    {
      "cell_type": "markdown",
      "source": [
        "#14/05/25                    -------DAY-03\n",
        "\n",
        "Recursion(sum of even, reverse of a number, prime number)\n"
      ],
      "metadata": {
        "id": "w7RljxuM6Q1e"
      }
    },
    {
      "cell_type": "code",
      "source": [
        "#Recursion`     ----sum of only even numbers\n",
        "\n",
        "def even_sum(a,i=0):             #my\n",
        "  c=0\n",
        "  if i>=len(a):\n",
        "    return 0\n",
        "  if a[i]%2 ==0:\n",
        "    c = a[i]\n",
        "    return c+ even_sum(a,i+1)\n",
        "  return even_sum(x,i+1)   # else: step forword\n",
        "\n",
        "a=[2,5,6,7,2,1,4,3,6]\n",
        "print(even_sum(a))\n",
        "\n",
        "\n",
        "# def even_sum(x,i):\n",
        "#   if (i==len(x)):\n",
        "#     return 0\n",
        "#   return x[i]+even_sum(x,i+1)  #adding all ---sum all\n",
        "# x=[2,5,6,7,2,1,4,3,6]\n",
        "# print(even_sum(x,0))\n"
      ],
      "metadata": {
        "colab": {
          "base_uri": "https://localhost:8080/"
        },
        "id": "5sRo9iJg6Wy_",
        "outputId": "a327e479-1a42-4eb3-a42d-892acf178768"
      },
      "execution_count": null,
      "outputs": [
        {
          "output_type": "stream",
          "name": "stdout",
          "text": [
            "20\n"
          ]
        }
      ]
    },
    {
      "cell_type": "code",
      "source": [
        "#Recursion`     ----sum of only even numbers\n",
        "def even_sum(x,i):\n",
        "  if (i==len(x)):                       #O(n)space and time comp          sir code\n",
        "    return 0\n",
        "  if x[i]%2==0:\n",
        "    return x[i]+even_sum(x,i+1)\n",
        "  return even_sum(x,i+1)\n",
        "x=[2,5,6,7,2,1,4,3,6]\n",
        "print(even_sum(x,0))"
      ],
      "metadata": {
        "colab": {
          "base_uri": "https://localhost:8080/"
        },
        "id": "dlWrRW9zb-Cx",
        "outputId": "60d083ba-0f80-4750-9989-b91a68e2e2d5"
      },
      "execution_count": null,
      "outputs": [
        {
          "output_type": "stream",
          "name": "stdout",
          "text": [
            "20\n"
          ]
        }
      ]
    },
    {
      "cell_type": "markdown",
      "source": [
        "**fibonacci**"
      ],
      "metadata": {
        "id": "ulXs2iqUFKs1"
      }
    },
    {
      "cell_type": "code",
      "source": [
        "#fibonacci\n",
        "def qw(x):\n",
        "  if (x==1):\n",
        "    return 1\n",
        "  if(x==2):\n",
        "    return 1\n",
        "  return qw(x-1)+qw(x-2)\n",
        "b=qw(int(input()))\n",
        "print(b)\n"
      ],
      "metadata": {
        "colab": {
          "base_uri": "https://localhost:8080/"
        },
        "id": "yxGmUdLb4gHy",
        "outputId": "4835a70e-6eb1-4308-bab7-a3bfab05be9e"
      },
      "execution_count": null,
      "outputs": [
        {
          "output_type": "stream",
          "name": "stdout",
          "text": [
            "8\n",
            "21\n"
          ]
        }
      ]
    },
    {
      "cell_type": "code",
      "source": [
        "##fibonacci\n",
        "# def qw(x):\n",
        "#   if (x==1):\n",
        "#     return 1\n",
        "#   if(x==2):\n",
        "#     return 1\n",
        "#   return qw(x-1)+qw(x-2)\n",
        "# b=qw(int(input()))\n",
        "# print(b)\n",
        "# i need  fibonacci up to x, i the format of the above code using recurtion\n",
        "\n",
        "def fibonacci(n):\n",
        "  if n <= 0:\n",
        "    return []\n",
        "  elif n == 1:\n",
        "    return [0]\n",
        "  else:\n",
        "    list_fib = [0, 1]\n",
        "    while len(list_fib) < n:\n",
        "      next_fib = list_fib[-1] + list_fib[-2]\n",
        "      list_fib.append(next_fib)\n",
        "    return list_fib\n",
        "\n",
        "x = int(input())\n",
        "print(fibonacci(x))\n"
      ],
      "metadata": {
        "colab": {
          "base_uri": "https://localhost:8080/"
        },
        "id": "i_uvlFrDGf3E",
        "outputId": "ad241025-50ef-4f58-b715-dd70a53f27fe"
      },
      "execution_count": null,
      "outputs": [
        {
          "output_type": "stream",
          "name": "stdout",
          "text": [
            "8\n",
            "[0, 1, 1, 2, 3, 5, 8, 13]\n"
          ]
        }
      ]
    },
    {
      "cell_type": "markdown",
      "source": [
        "**reverse of a number**"
      ],
      "metadata": {
        "id": "YS0fmA1zeaQZ"
      }
    },
    {
      "cell_type": "code",
      "source": [
        "  #-------------      reverse of a number\n",
        "# n=123456          #without function and Recursion\n",
        "# re=0\n",
        "# while (n!=0):\n",
        "#   b=n%10\n",
        "#   re=re*10+b\n",
        "#   n=n//10\n",
        "# print(re)\n",
        "\n",
        "def rev(n,re=0):   #using function and Recursion\n",
        "    if(n==0):\n",
        "      return re\n",
        "    # b=n%10\n",
        "    re=re*10+n%10\n",
        "    return rev(n//10,re)\n",
        "print(rev(int(input())))"
      ],
      "metadata": {
        "colab": {
          "base_uri": "https://localhost:8080/"
        },
        "id": "CPekFSgzea4t",
        "outputId": "aa7aaca4-2b69-4649-d52b-159959a141e8"
      },
      "execution_count": null,
      "outputs": [
        {
          "output_type": "stream",
          "name": "stdout",
          "text": [
            "159\n",
            "951\n"
          ]
        }
      ]
    },
    {
      "cell_type": "markdown",
      "source": [
        "**prime number**"
      ],
      "metadata": {
        "id": "yJoEFRcpi20e"
      }
    },
    {
      "cell_type": "code",
      "source": [
        "# prime num -----------without using function  without Recursion\n",
        "n=12\n",
        "for i in range(2,(n//2)+1):\n",
        "  if(n%i==0):\n",
        "    print(\"not prime\")\n",
        "    break\n",
        "else:\n",
        "  print(\"prime\")"
      ],
      "metadata": {
        "colab": {
          "base_uri": "https://localhost:8080/"
        },
        "id": "1AgF32Gai73f",
        "outputId": "df80262f-93e4-4db0-e2eb-3f1054448bc5"
      },
      "execution_count": null,
      "outputs": [
        {
          "output_type": "stream",
          "name": "stdout",
          "text": [
            "not prime\n"
          ]
        }
      ]
    },
    {
      "cell_type": "code",
      "source": [
        "# prime num ----------- using function  and  Recursion\n",
        "# find the count of (prime numbers)                      #.....................\n",
        "def pr(a[]):\n"
      ],
      "metadata": {
        "id": "u4s1Z-31jZsf"
      },
      "execution_count": null,
      "outputs": []
    },
    {
      "cell_type": "code",
      "source": [
        "#ai code\n",
        "def is_prime(n, i=2):\n",
        "    if n <= 2:\n",
        "        return True if n == 2 else False\n",
        "    if n % i == 0:\n",
        "        return False\n",
        "    if i * i > n:\n",
        "        return True\n",
        "    return is_prime(n, i + 1)\n",
        "\n",
        "def count_primes(limit):\n",
        "  count = 0\n",
        "  for num in range(2, limit + 1):\n",
        "    if is_prime(num):\n",
        "      count += 1\n",
        "  return count\n"
      ],
      "metadata": {
        "id": "azX7JaCAk4e9"
      },
      "execution_count": null,
      "outputs": []
    },
    {
      "cell_type": "code",
      "source": [
        "def is_prime(i,x):                     #sir code #............\n",
        "  if(i==(x//2)+1):\n",
        "\n",
        "  return False\n",
        "return is_prime\n",
        "\n",
        "def count_p(x,i,c):\n",
        "  if(i==len(x)):\n",
        "    return c\n",
        "  if(is_prime(2,x)):\n",
        "\n",
        "\n",
        "\n",
        "a=[13,17,21,23,22,7,29]\n",
        "count_p(a,0,0)"
      ],
      "metadata": {
        "id": "DZf0VheU8TJf",
        "colab": {
          "base_uri": "https://localhost:8080/",
          "height": 106
        },
        "outputId": "b8fc2bc2-8774-4de5-c705-501a097f2e1c"
      },
      "execution_count": null,
      "outputs": [
        {
          "output_type": "error",
          "ename": "IndentationError",
          "evalue": "expected an indented block after 'if' statement on line 2 (<ipython-input-4-e91172283b98>, line 4)",
          "traceback": [
            "\u001b[0;36m  File \u001b[0;32m\"<ipython-input-4-e91172283b98>\"\u001b[0;36m, line \u001b[0;32m4\u001b[0m\n\u001b[0;31m    return False\u001b[0m\n\u001b[0m    ^\u001b[0m\n\u001b[0;31mIndentationError\u001b[0m\u001b[0;31m:\u001b[0m expected an indented block after 'if' statement on line 2\n"
          ]
        }
      ]
    },
    {
      "cell_type": "markdown",
      "source": [
        "*afternoon*"
      ],
      "metadata": {
        "id": "GxFUCIGj_1HK"
      }
    },
    {
      "cell_type": "code",
      "source": [
        "# input is                                            #weathe it is subtacting\n",
        "# 20\n",
        "# 3\n",
        "# 5     should reaching 1\n",
        "\n",
        "# output is true or fales\n",
        "\n",
        "def qw(x,n,m):\n",
        "  if (x==1):\n",
        "    return True\n",
        "  if(x<1):\n",
        "    return False\n",
        "  return qw(x-n,n,m) or qw(x-m,n,m)\n",
        "\n",
        "x=20\n",
        "n=3\n",
        "m=5\n",
        "print(qw(x,n,m))"
      ],
      "metadata": {
        "colab": {
          "base_uri": "https://localhost:8080/"
        },
        "id": "oRwjQCc8BNfB",
        "outputId": "1e875eb1-d1fa-4e79-9673-87d2d81e8aab"
      },
      "execution_count": null,
      "outputs": [
        {
          "output_type": "stream",
          "name": "stdout",
          "text": [
            "True\n"
          ]
        }
      ]
    },
    {
      "cell_type": "code",
      "source": [
        "# if it is true how many times it is subtacting\n",
        "\n",
        "def qw(x, n, m, count_n=0, count_m=0):\n",
        "    if x == 1:\n",
        "        print(f\"Subtracted {count_n} times by {n} and {count_m} times by {m}\")\n",
        "        return True\n",
        "    if x < 1:\n",
        "        return False\n",
        "\n",
        "    return qw(x - n, n, m, count_n + 1, count_m) or qw(x - m, n, m, count_n, count_m + 1)\n",
        "\n",
        "x = 20\n",
        "n = 3\n",
        "m = 5\n",
        "print(qw(x, n, m))\n"
      ],
      "metadata": {
        "colab": {
          "base_uri": "https://localhost:8080/"
        },
        "id": "mjmyhQbFDvlp",
        "outputId": "fde9321a-8954-45f1-ebb3-7818f375aa1d"
      },
      "execution_count": null,
      "outputs": [
        {
          "output_type": "stream",
          "name": "stdout",
          "text": [
            "Subtracted 3 times by 3 and 2 times by 5\n",
            "True\n"
          ]
        }
      ]
    },
    {
      "cell_type": "markdown",
      "source": [
        "**BFS and DFS**"
      ],
      "metadata": {
        "id": "crTu7TQCLpO9"
      }
    },
    {
      "cell_type": "code",
      "source": [
        "#dfs"
      ],
      "metadata": {
        "id": "aFqY9IL2Lw8C"
      },
      "execution_count": null,
      "outputs": []
    },
    {
      "cell_type": "code",
      "source": [
        "aa=[8,2,5,6,9,6,2]\n",
        "b=list(set(aa))\n",
        "print(b)"
      ],
      "metadata": {
        "colab": {
          "base_uri": "https://localhost:8080/"
        },
        "id": "F_lbUpyYRoAG",
        "outputId": "36e68687-d6d3-45e6-e676-732ec5503de8"
      },
      "execution_count": null,
      "outputs": [
        {
          "output_type": "stream",
          "name": "stdout",
          "text": [
            "[2, 5, 6, 8, 9]\n"
          ]
        }
      ]
    },
    {
      "cell_type": "markdown",
      "source": [
        "# 15/05/25          ----------DAY-04\n",
        "\n",
        "(subset, subset sum ,..greedy...)\n",
        "leet code start"
      ],
      "metadata": {
        "id": "6Bsf6EY2EQ3l"
      }
    },
    {
      "cell_type": "markdown",
      "source": [
        "**Counts the occurrences of a key in a list using recursion**"
      ],
      "metadata": {
        "id": "avK-RFbBNrda"
      }
    },
    {
      "cell_type": "code",
      "source": [
        "# given an array\n",
        "from collections import Counter                            # basic code\n",
        "a = [2, 4, 6, 3, 3, 2, 6, 1, 2, 3, 6, 6, 5]\n",
        "k = 6\n",
        "d = dict(Counter(a))\n",
        "for key, val in d.items():\n",
        "  if key == k:\n",
        "    print(val)\n"
      ],
      "metadata": {
        "colab": {
          "base_uri": "https://localhost:8080/"
        },
        "id": "IGNtw2dFEZcI",
        "outputId": "a85032f3-d823-40e8-a06b-fa0064f030ba"
      },
      "execution_count": null,
      "outputs": [
        {
          "output_type": "stream",
          "name": "stdout",
          "text": [
            "4\n"
          ]
        }
      ]
    },
    {
      "cell_type": "code",
      "source": [
        "from collections import Counter     #basic code\n",
        "\n",
        "a = [2, 4, 6, 3, 3, 2, 6, 1, 2, 3, 6, 6, 5]\n",
        "k = 6\n",
        "d = dict(Counter(a))\n",
        "print(d.get(k, 0))\n"
      ],
      "metadata": {
        "colab": {
          "base_uri": "https://localhost:8080/"
        },
        "id": "NC6B4G1xLXju",
        "outputId": "5844b2fb-1bba-4a8c-93f3-715e651d72c3"
      },
      "execution_count": null,
      "outputs": [
        {
          "output_type": "stream",
          "name": "stdout",
          "text": [
            "4\n"
          ]
        }
      ]
    },
    {
      "cell_type": "code",
      "source": [
        "# using functions without loops\n",
        "\n",
        "from collections import Counter\n",
        "\n",
        "def count_occurrences(data, key):\n",
        "  counts = dict(Counter(data))\n",
        "  return counts.get(key, 0)\n",
        "a = [2, 4, 6, 3, 3, 2, 6, 1, 2, 3, 6, 6, 5]\n",
        "k = 6\n",
        "occurrences = count_occurrences(a, k)\n",
        "occurrences\n"
      ],
      "metadata": {
        "colab": {
          "base_uri": "https://localhost:8080/"
        },
        "id": "uuKvSP7YLnh3",
        "outputId": "879928cd-ff83-4028-a93e-6d52632ff381"
      },
      "execution_count": null,
      "outputs": [
        {
          "output_type": "execute_result",
          "data": {
            "text/plain": [
              "4"
            ]
          },
          "metadata": {},
          "execution_count": 19
        }
      ]
    },
    {
      "cell_type": "code",
      "source": [
        "# -------------------using recurtion--------------------------\n",
        "#Counts the occurrences of a key in a list using recursion\n",
        "#find the val using  key is given     -------------#using dict\n",
        "def value(x,f,d,i=0):            #sir code\n",
        "  if(i==len(x)):\n",
        "    return \"not found\"\n",
        "  if (d[x[i]]==f):\n",
        "    return x[i]\n",
        "  return value(x,f,d,i+1)\n",
        "\n",
        "\n",
        "def feq_d(x,f,d={},i=0):\n",
        "  if(i==len(x)):\n",
        "    return value(list(d.keys()),f,d)\n",
        "\n",
        "  if(x[1] not in d)\n",
        "\n",
        "a = [2, 4, 6, 3, 3, 2, 6, 1, 2, 3, 6, 6, 5]\n",
        "f=3\n",
        "print(feq_d(a))\n",
        "\n",
        "\n",
        "#....................\n",
        "\n",
        "  # working         #edited\n",
        "def feq_d(x, f, d=None, i=0):\n",
        "    if d is None:\n",
        "        d = {}\n",
        "    if i == len(x):\n",
        "        return value(list(d.keys()), f, d)\n",
        "\n",
        "    if x[i] not in d:\n",
        "        d[x[i]] = 1\n",
        "    else:\n",
        "        d[x[i]] += 1\n",
        "\n",
        "    return feq_d(x, f, d, i + 1)\n",
        "\n",
        "# Example usage\n",
        "a = [2, 4, 6, 3, 3, 2, 6, 1, 2, 3, 6, 6, 5]\n",
        "f = 3\n",
        "print(feq_d(a, f))  # Output: 2 (because 2 appears 3 times)\n",
        "\n"
      ],
      "metadata": {
        "id": "nZSAkO9sWrMr"
      },
      "execution_count": null,
      "outputs": []
    },
    {
      "cell_type": "code",
      "source": [
        "# -------------------using recurtion--------------------------\n",
        "#Counts the occurrences of a key in a list using recursion\n",
        "#find the val using  key is given\n",
        "\n",
        "from collections import Counter       #my\n",
        "\n",
        "def count_o(a, k, index=0):\n",
        "  if index == len(a):\n",
        "    return 0\n",
        "  count = 0\n",
        "  if a[index] == k:\n",
        "    count = 1\n",
        "\n",
        "  return count + count_o(a, k, index + 1)\n",
        "\n",
        "a = [2, 4, 6, 3, 3, 2, 6, 1, 2, 3, 6, 6, 5]\n",
        "k = 6\n",
        "occur = count_o(a, k)\n",
        "occur\n"
      ],
      "metadata": {
        "colab": {
          "base_uri": "https://localhost:8080/"
        },
        "id": "JFbIVJkuMiEY",
        "outputId": "d456d1b0-9824-4470-e97c-a5ae6d0ef28d"
      },
      "execution_count": null,
      "outputs": [
        {
          "output_type": "execute_result",
          "data": {
            "text/plain": [
              "4"
            ]
          },
          "metadata": {},
          "execution_count": 27
        }
      ]
    },
    {
      "cell_type": "code",
      "source": [
        "def freq(a,x,i,c):              #sir code\n",
        "    if (i == len(a)):       # this is--- counter parameretzied recurtion #not working (edit it)\n",
        "      return c\n",
        "    if a[i]==x:\n",
        "      return freq(a,x,i+1,c)\n",
        "    else:\n",
        "      return freq(a,x,i+1,c+1)\n",
        "a = [2, 4, 6, 3, 3, 2, 6, 1, 2, 3, 6, 6, 5]\n",
        "k = 6\n",
        "print(freq(a,k,0,0))\n",
        "\n",
        "\n",
        "#-------------\n",
        "\n",
        "# def freq(a, x, i, c):  # Parameterized recursion\n",
        "#     if i == len(a):\n",
        "#         return c\n",
        "#     if a[i] == x:\n",
        "#         return freq(a, x, i + 1, c + 1)\n",
        "#     else:\n",
        "#         return freq(a, x, i + 1, c)\n",
        "\n",
        "# # Example usage\n",
        "# a = [2, 4, 6, 3, 3, 2, 6, 1, 2, 3, 6, 6, 5]\n",
        "# k = 6\n",
        "# print(freq(a, k, 0, 0))  # Output: 4\n"
      ],
      "metadata": {
        "colab": {
          "base_uri": "https://localhost:8080/"
        },
        "id": "EZ4Dry77Rb6d",
        "outputId": "fd24166a-66cf-4e67-d1b7-038c9f2bda24"
      },
      "execution_count": null,
      "outputs": [
        {
          "output_type": "stream",
          "name": "stdout",
          "text": [
            "9\n"
          ]
        }
      ]
    },
    {
      "cell_type": "code",
      "source": [
        "def fec(a,y,i):              #sir code\n",
        "    if (i == len(a)):       # this is  without parametr\n",
        "      return 0\n",
        "    if (a[i]==y):                 #not working (edit it) #.........\n",
        "      return 1+freq(a,y,i+1)\n",
        "a = [2, 4, 6, 3, 3, 2, 6, 1, 2, 3, 6, 6, 5]\n",
        "k = 3\n",
        "print(fec(a,k,0))"
      ],
      "metadata": {
        "colab": {
          "base_uri": "https://localhost:8080/"
        },
        "id": "JmRC3ViGTChr",
        "outputId": "05254017-f303-418d-f455-11d75b40dbb0"
      },
      "execution_count": null,
      "outputs": [
        {
          "output_type": "stream",
          "name": "stdout",
          "text": [
            "None\n"
          ]
        }
      ]
    },
    {
      "cell_type": "code",
      "source": [
        "\n",
        "from collections import Counter       #find the key -val is given\n",
        "\n",
        "def f_k(a, v, index=0):            #not working\n",
        "  if index == len(a):\n",
        "    return 0\n",
        "  count = 0\n",
        "  if a[index] == k:\n",
        "    count = 1\n",
        "\n",
        "  return count + count_o(a, k, index + 1)\n",
        "\n",
        "a = [2, 4, 6, 3, 3, 2, 6, 1, 2, 3, 6, 6, 5]\n",
        "v = 4\n",
        "occur = count_o(a, v)\n",
        "occur"
      ],
      "metadata": {
        "colab": {
          "base_uri": "https://localhost:8080/"
        },
        "id": "00gLcnz-OcwL",
        "outputId": "33c9614e-6af0-483c-a1b8-482763c05ae7"
      },
      "execution_count": null,
      "outputs": [
        {
          "output_type": "execute_result",
          "data": {
            "text/plain": [
              "1"
            ]
          },
          "metadata": {},
          "execution_count": 39
        }
      ]
    },
    {
      "cell_type": "markdown",
      "source": [
        "**subset and subsequence**"
      ],
      "metadata": {
        "id": "x-FM8kOmbt0J"
      }
    },
    {
      "cell_type": "markdown",
      "source": [
        "**subsets**"
      ],
      "metadata": {
        "id": "rWxEkbl-s3dV"
      }
    },
    {
      "cell_type": "code",
      "source": [
        "#print all subsets\n",
        "# [2,3,4] using Recursion\n",
        "\n",
        "def subset(a,i=0,current=[]):\n",
        "  if(i==len(a)):\n",
        "    print(current)\n",
        "    return\n",
        "  subset(a,i+1,current+[a[i]])  ## adding the current element\n",
        "  subset(a,i+1,current)           ## not adding the current element\n",
        "a=[2,3,4]\n",
        "subset(a)"
      ],
      "metadata": {
        "colab": {
          "base_uri": "https://localhost:8080/"
        },
        "id": "0qK_slr8cDsk",
        "outputId": "0c580653-3e8b-4cc1-f12e-3292b3a12413"
      },
      "execution_count": null,
      "outputs": [
        {
          "output_type": "stream",
          "name": "stdout",
          "text": [
            "[2, 3, 4]\n",
            "[2, 3]\n",
            "[2, 4]\n",
            "[2]\n",
            "[3, 4]\n",
            "[3]\n",
            "[4]\n",
            "[]\n"
          ]
        }
      ]
    },
    {
      "cell_type": "code",
      "source": [
        "#sub set sum is avaliable or not                   #sir said code\n",
        "# def sub_sum(x,k,i=0):\n",
        "#   if (i==len(x)):\n",
        "#     return False          #not working\n",
        "#   if(k==0):\n",
        "#     return True\n",
        "#   if(x[i]>k):\n",
        "#     return sub_sum(x,k,i+1)\n",
        "#   return sub_sum(x,k-x[i],i+1)\n",
        "\n",
        "# x=[2,3,4]\n",
        "# subset(x)\n",
        "\n",
        "\n",
        "\n",
        "#sub set sum is avaliable or not\n",
        "def sub_sum(x,k,i=0):\n",
        "  if(k==0):\n",
        "    return True\n",
        "  if (i==0):\n",
        "    return False\n",
        "  if(x[i-1]>k):\n",
        "    return sub_sum(x,k,i-1)\n",
        "  return sub_sum(x,k-x[i-1],i-1) or sub_sum(x,k,i-1)\n",
        "\n",
        "a=[2,3,4]\n",
        "k=7\n",
        "print(sub_sum(a,k,len(a)))"
      ],
      "metadata": {
        "colab": {
          "base_uri": "https://localhost:8080/"
        },
        "id": "93uNYN7kj_vB",
        "outputId": "32fbb7ac-0d2f-4ff3-db8f-85165916278c"
      },
      "execution_count": null,
      "outputs": [
        {
          "output_type": "stream",
          "name": "stdout",
          "text": [
            "True\n"
          ]
        }
      ]
    },
    {
      "cell_type": "markdown",
      "source": [
        "afternoon"
      ],
      "metadata": {
        "id": "U7SlwBLrCB5W"
      }
    },
    {
      "cell_type": "code",
      "source": [
        "# Q.print the subset sum =k\n",
        "def subset(a,k=0,i=0,current=[]):\n",
        "  if(i==len(a)):\n",
        "    if(k==0):\n",
        "      print(current)\n",
        "    return\n",
        "  if(a[i]<=k):\n",
        "    subset(a,k-a[i],i+1,current+[a[i]])  ## adding the current element\n",
        "  subset(a,k,i+1,current)           ## not adding the current element\n",
        "a=[2,3,4,5]\n",
        "k=9\n",
        "subset(a,k)"
      ],
      "metadata": {
        "colab": {
          "base_uri": "https://localhost:8080/"
        },
        "id": "O15qpGfmCBWH",
        "outputId": "f63b6722-c2f3-430c-a83a-76855f175626"
      },
      "execution_count": null,
      "outputs": [
        {
          "output_type": "stream",
          "name": "stdout",
          "text": [
            "[2, 3, 4]\n",
            "[4, 5]\n"
          ]
        }
      ]
    },
    {
      "cell_type": "markdown",
      "source": [
        "**Q.**  \n",
        "\n",
        "1. input: [2,4,6,8]        \n",
        "k=13            \n",
        "output: -1   \n",
        "\n",
        "--------------\n",
        "\n",
        "2. input: [2,4,6,8]            \n",
        "k=14                        \n",
        "\n",
        "  2+4+8=14 (3 coins used)          \n",
        "  6+8=14 (2 coins used)            \n",
        "  output: 2 min coins                   \n"
      ],
      "metadata": {
        "id": "O1jfz5s5FWNd"
      }
    },
    {
      "cell_type": "code",
      "source": [
        "# input: [2,4,6,8]\n",
        "# k=13\n",
        "# output: -1\n",
        "\n",
        "\n",
        "# input: [2,4,6,8]\n",
        "# k=14\n",
        "# 2+4+8=14 (3 coins used)\n",
        "# 6+8=14 (2 coins used)\n",
        "# output: 2 min coins\n",
        "\n",
        "\n",
        "def subset(a,t=0,i=0,current=0):      #incomplete code\n",
        "  if(i==len(a)):\n",
        "    if(t==0):\n",
        "      print(current)\n",
        "    return\n",
        "  if(a[i]<=t):\n",
        "    subset(a,t-a[i],i+1,current+1)\n",
        "  subset(a,t,i+1,current)\n",
        "\n",
        "a=[2,4,6,8]\n",
        "t=14\n",
        "subset(a,t)\n",
        "\n"
      ],
      "metadata": {
        "colab": {
          "base_uri": "https://localhost:8080/"
        },
        "id": "YmKxAiIYEPxu",
        "outputId": "a7f07a9e-9be8-4bc4-8fda-6cb4e1f4fb3e"
      },
      "execution_count": null,
      "outputs": [
        {
          "output_type": "stream",
          "name": "stdout",
          "text": [
            "3\n",
            "2\n"
          ]
        }
      ]
    },
    {
      "source": [
        "def subset(a, t=0, i=0, current=0, res=[]):\n",
        "  \"\"\"\n",
        "  Finds the minimum number of coins needed to reach the target value.\n",
        "\n",
        "  Args:\n",
        "      a: The list of coin denominations.\n",
        "      t: The target value.\n",
        "      i: The current index in the coin denominations list.\n",
        "      current: The number of coins used in the current subset.\n",
        "      res: The list to store the number of coins used in valid subsets.\n",
        "\n",
        "  Returns:\n",
        "      The minimum number of coins used in a valid subset, or -1 if no such subset exists.\n",
        "  \"\"\"\n",
        "\n",
        "  # If the target value is reached, append the current number of coins to the result list.\n",
        "  if t == 0:\n",
        "    res.append(current)\n",
        "    return\n",
        "\n",
        "  # If all coin denominations have been checked or the target value becomes negative, return.\n",
        "  if i == len(a) or t < 0:\n",
        "    return\n",
        "\n",
        "  # Explore two possibilities: include the current coin or exclude it.\n",
        "  # Include the current coin:\n",
        "  subset(a, t - a[i], i + 1, current + 1, res)\n",
        "\n",
        "  # Exclude the current coin:\n",
        "  subset(a, t, i + 1, current, res)\n",
        "\n",
        "  # Return the result list.\n",
        "  return res\n",
        "\n",
        "a = [2, 4, 6, 8]\n",
        "t = 13\n",
        "\n",
        "# Initialize the result list to store the number of coins used in valid subsets.\n",
        "res = []\n",
        "\n",
        "# Call the subset function to find the minimum number of coins.\n",
        "res = subset(a, t, 0, 0, res)\n",
        "\n",
        "# Print the minimum number of coins, or -1 if no valid subset exists.\n",
        "if res:\n",
        "  print(min(res))\n",
        "else:\n",
        "  print(\"-1\")"
      ],
      "cell_type": "code",
      "metadata": {
        "colab": {
          "base_uri": "https://localhost:8080/"
        },
        "id": "zb5DeglPKxlb",
        "outputId": "2c9e41bf-d4f8-41bd-fbe2-8b8e3c110033"
      },
      "execution_count": null,
      "outputs": [
        {
          "output_type": "stream",
          "name": "stdout",
          "text": [
            "-1\n"
          ]
        }
      ]
    },
    {
      "cell_type": "markdown",
      "source": [
        "greedy"
      ],
      "metadata": {
        "id": "hOK78Y7BMgm2"
      }
    },
    {
      "cell_type": "code",
      "source": [
        "a=[4,5,6,2,13,7,8]\n",
        "print(max(a))\n",
        "print(min(a))"
      ],
      "metadata": {
        "colab": {
          "base_uri": "https://localhost:8080/"
        },
        "id": "89DmgW7sPYdA",
        "outputId": "97404942-c314-4856-af69-5c780e475cbe"
      },
      "execution_count": null,
      "outputs": [
        {
          "output_type": "stream",
          "name": "stdout",
          "text": [
            "13\n",
            "2\n"
          ]
        }
      ]
    },
    {
      "cell_type": "code",
      "source": [
        "a=[4,5,6,2,13,7,8]             #incomplete\n",
        "b=[]\n",
        "for i in range(len(a)):\n",
        "  if(i%2==0):\n",
        "    b.append(max(a[i]))\n",
        "print(b)\n"
      ],
      "metadata": {
        "colab": {
          "base_uri": "https://localhost:8080/",
          "height": 193
        },
        "id": "2V68vFSkPmo0",
        "outputId": "d2ff88a0-b8f0-458f-8514-7a9643ca9831"
      },
      "execution_count": null,
      "outputs": [
        {
          "output_type": "error",
          "ename": "TypeError",
          "evalue": "'int' object is not iterable",
          "traceback": [
            "\u001b[0;31m---------------------------------------------------------------------------\u001b[0m",
            "\u001b[0;31mTypeError\u001b[0m                                 Traceback (most recent call last)",
            "\u001b[0;32m<ipython-input-106-fb78348a0467>\u001b[0m in \u001b[0;36m<cell line: 0>\u001b[0;34m()\u001b[0m\n\u001b[1;32m      3\u001b[0m \u001b[0;32mfor\u001b[0m \u001b[0mi\u001b[0m \u001b[0;32min\u001b[0m \u001b[0mrange\u001b[0m\u001b[0;34m(\u001b[0m\u001b[0mlen\u001b[0m\u001b[0;34m(\u001b[0m\u001b[0ma\u001b[0m\u001b[0;34m)\u001b[0m\u001b[0;34m)\u001b[0m\u001b[0;34m:\u001b[0m\u001b[0;34m\u001b[0m\u001b[0;34m\u001b[0m\u001b[0m\n\u001b[1;32m      4\u001b[0m   \u001b[0;32mif\u001b[0m\u001b[0;34m(\u001b[0m\u001b[0mi\u001b[0m\u001b[0;34m%\u001b[0m\u001b[0;36m2\u001b[0m\u001b[0;34m==\u001b[0m\u001b[0;36m0\u001b[0m\u001b[0;34m)\u001b[0m\u001b[0;34m:\u001b[0m\u001b[0;34m\u001b[0m\u001b[0;34m\u001b[0m\u001b[0m\n\u001b[0;32m----> 5\u001b[0;31m     \u001b[0mb\u001b[0m\u001b[0;34m.\u001b[0m\u001b[0mappend\u001b[0m\u001b[0;34m(\u001b[0m\u001b[0mmax\u001b[0m\u001b[0;34m(\u001b[0m\u001b[0ma\u001b[0m\u001b[0;34m[\u001b[0m\u001b[0mi\u001b[0m\u001b[0;34m]\u001b[0m\u001b[0;34m)\u001b[0m\u001b[0;34m)\u001b[0m\u001b[0;34m\u001b[0m\u001b[0;34m\u001b[0m\u001b[0m\n\u001b[0m\u001b[1;32m      6\u001b[0m \u001b[0mprint\u001b[0m\u001b[0;34m(\u001b[0m\u001b[0mb\u001b[0m\u001b[0;34m)\u001b[0m\u001b[0;34m\u001b[0m\u001b[0;34m\u001b[0m\u001b[0m\n",
            "\u001b[0;31mTypeError\u001b[0m: 'int' object is not iterable"
          ]
        }
      ]
    },
    {
      "cell_type": "code",
      "source": [
        "a=[4,5,6,2,13,7,8]                   #happening in max() #gold digger\n",
        "m=0\n",
        "for i in a:\n",
        "  if(i>m):\n",
        "    m=i\n",
        "print(m)"
      ],
      "metadata": {
        "colab": {
          "base_uri": "https://localhost:8080/"
        },
        "id": "0NEm26SrP9bb",
        "outputId": "53d612c0-231c-4111-dad2-4f6646c390e3"
      },
      "execution_count": null,
      "outputs": [
        {
          "output_type": "stream",
          "name": "stdout",
          "text": [
            "13\n"
          ]
        }
      ]
    },
    {
      "cell_type": "code",
      "source": [
        "a=[4,5,6,2,13,7,8]                   #happening in min)\n",
        "m=99999999999\n",
        "for i in a:\n",
        "  if(i<m):\n",
        "    m=i\n",
        "print(m)"
      ],
      "metadata": {
        "colab": {
          "base_uri": "https://localhost:8080/"
        },
        "id": "IZPjfHCnSql2",
        "outputId": "12df3324-ba3e-4494-c638-73c5aacaef82"
      },
      "execution_count": null,
      "outputs": [
        {
          "output_type": "stream",
          "name": "stdout",
          "text": [
            "2\n"
          ]
        }
      ]
    },
    {
      "cell_type": "code",
      "source": [
        "#find the max of even-index\n",
        "a=[4,5,6,2,13,7,8]\n",
        "m=0\n",
        "for i in a:\n",
        "  if(i>m and i%2==0):\n",
        "    m=i\n",
        "print(m)\n"
      ],
      "metadata": {
        "colab": {
          "base_uri": "https://localhost:8080/"
        },
        "id": "InTPJA_8MjH3",
        "outputId": "03fc55e2-7079-42ae-b1a9-fb381ce123e0"
      },
      "execution_count": null,
      "outputs": [
        {
          "output_type": "stream",
          "name": "stdout",
          "text": [
            "8\n"
          ]
        }
      ]
    },
    {
      "cell_type": "code",
      "source": [
        "#find the max of odd-index\n",
        "a=[4,5,6,2,13,7,8]              #incomplete\n",
        "m=0\n",
        "for i in a:\n",
        "  if(i>m and i%2==1):\n",
        "    m=i\n",
        "print(m)"
      ],
      "metadata": {
        "colab": {
          "base_uri": "https://localhost:8080/"
        },
        "id": "BgqACK0hUlyN",
        "outputId": "0e8d5398-af8d-4eff-a832-93da3bc33451"
      },
      "execution_count": null,
      "outputs": [
        {
          "output_type": "stream",
          "name": "stdout",
          "text": [
            "13\n"
          ]
        }
      ]
    },
    {
      "cell_type": "code",
      "source": [
        "#find the minimum odd and maximum even number\n",
        "# m= list(map(int,input().split()))\n",
        "\n",
        "\n"
      ],
      "metadata": {
        "id": "3p_vFLd7S5TC"
      },
      "execution_count": null,
      "outputs": []
    },
    {
      "cell_type": "code",
      "source": [
        "def find_min_odd_max_even(numbers):\n",
        "    \"\"\"\n",
        "    Finds the minimum odd and maximum even numbers in a list.\n",
        "\n",
        "    Args:\n",
        "    numbers: A list of integers.\n",
        "\n",
        "    Returns:\n",
        "    A tuple containing the minimum odd number and the maximum even number,\n",
        "    or (None, None) if no odd or even numbers are found.\n",
        "    \"\"\"\n",
        "    min_odd = None\n",
        "    max_even = None\n",
        "\n",
        "    for num in numbers:\n",
        "        if num % 2 == 0:  # Even number\n",
        "            if max_even is None or num > max_even:\n",
        "                max_even = num\n",
        "        else:  # Odd number\n",
        "            if min_odd is None or num < min_odd:\n",
        "                min_odd = num\n",
        "\n",
        "    return min_odd, max_even\n",
        "\n",
        "\n",
        "numbers = [1, 2, 3, 4, 5, 6, 7, 8, 9, 10]\n",
        "min_odd, max_even = find_min_odd_max_even(numbers)\n",
        "\n",
        "if min_odd is not None and max_even is not None:\n",
        "    print(\"Minimum odd number:\", min_odd)\n",
        "    print(\"Maximum even number:\", max_even)\n",
        "elif min_odd is None:\n",
        "    print(\"No odd numbers found.\")\n",
        "elif max_even is None:\n",
        "    print(\"No even numbers found.\")\n",
        "else:\n",
        "    print(\"No odd or even numbers found.\")\n"
      ],
      "metadata": {
        "colab": {
          "base_uri": "https://localhost:8080/"
        },
        "id": "qZPFP3ShOxeh",
        "outputId": "6fc599ae-4541-4b2a-9545-355b735657f1"
      },
      "execution_count": null,
      "outputs": [
        {
          "output_type": "stream",
          "name": "stdout",
          "text": [
            "Minimum odd number: 1\n",
            "Maximum even number: 10\n"
          ]
        }
      ]
    },
    {
      "cell_type": "code",
      "source": [
        "# find the second largest numbers\n",
        "a=[4,5,6,2,13,7,13,11]\n",
        "m=0\n",
        "m1=0\n",
        "for i in a:\n",
        "  if(i>m):\n",
        "    m1=m\n",
        "    m=i\n",
        "  elif(i>m1 and i!=m): # check weather duplicates are present ,if present use/ add (i!=m)\n",
        "    m1=i\n",
        "\n",
        "print(m1)"
      ],
      "metadata": {
        "colab": {
          "base_uri": "https://localhost:8080/"
        },
        "id": "9HiV-Bz8TQNa",
        "outputId": "885f215f-ae71-460f-e5e2-be473809cc99"
      },
      "execution_count": null,
      "outputs": [
        {
          "output_type": "stream",
          "name": "stdout",
          "text": [
            "11\n"
          ]
        }
      ]
    },
    {
      "cell_type": "markdown",
      "source": [
        "leetcode -2574"
      ],
      "metadata": {
        "id": "Gd4EBGF7abuz"
      }
    },
    {
      "cell_type": "markdown",
      "source": [
        "#16/05/25            --------- DAY-05\n",
        "\n",
        "\n",
        "(---buy and sell gold, --- in the row 1 means add the k[] value to it, ---rat route, ---iland, ---land and fire, ---frog path, ---print the binary numbers, ---print the number of possible  ((())) )"
      ],
      "metadata": {
        "id": "2NbMLi2PPUrl"
      }
    },
    {
      "cell_type": "markdown",
      "source": [
        "[3, 4, 2, 5, 8, 4, 1]             \n",
        " m  t  w  t  f  s  sun\n",
        "\n",
        " sunday -------> no buy and no sell             \n",
        "he will buy gold for minimum and sell for maximum           \n",
        "find the profit"
      ],
      "metadata": {
        "id": "WcdNnp9_hvie"
      }
    },
    {
      "cell_type": "code",
      "source": [
        "# Q. [3, 4, 2, 5, 8, 4, 1]\n",
        "#     m  t  w  t  f  s  sun\n",
        "\n",
        "#  sunday -------> no buy and no sell\n",
        "# he will buy gold for minimum and sell for maximum\n",
        "# find the profit\n",
        "\n",
        "\n",
        "# def gold(arr):                   #greedy\n",
        "#   max_p=0\n",
        "\n",
        "# a=[3,4,2,5,8,4,1]           # sir code\n",
        "# b=a[0]\n",
        "# p=0\n",
        "# for i in (a):\n",
        "#   if(i<b):\n",
        "#     b=i\n",
        "#   else:\n",
        "#     if(i-b>p):\n",
        "#       p=i-b\n",
        "# print(p)\n",
        "\n",
        "\n",
        "a=[3,4,2,5,8,4,1]               #my\n",
        "buy=0\n",
        "max_profit=0\n",
        "for i in range(len(a)):\n",
        "  if(i<buy):\n",
        "    buy=i\n",
        "  if(i-buy>max_profit):\n",
        "    max_profit=i-buy\n",
        "print(max_profit)\n"
      ],
      "metadata": {
        "colab": {
          "base_uri": "https://localhost:8080/"
        },
        "id": "yOmGG_irPavb",
        "outputId": "38c41b67-2aa4-4bcc-ff8c-f68fe97c899e"
      },
      "execution_count": null,
      "outputs": [
        {
          "output_type": "stream",
          "name": "stdout",
          "text": [
            "6\n"
          ]
        }
      ]
    },
    {
      "cell_type": "markdown",
      "source": [
        "Q.  one means add them and zero means not add them        \n",
        "a=  [0,1,1,0,1] ...  if 1 add them  => 7+6+1=15                \n",
        "k=  [8,7,6,5,2]                 "
      ],
      "metadata": {
        "id": "m2U8XuVyh-u1"
      }
    },
    {
      "cell_type": "code",
      "source": [
        "# Q.  one means add them and zero means not add them\n",
        "# a=  [0,1,1,0,1] ...  if 1 add them  => 7+6+1=15\n",
        "# k=  [8,7,6,5,2]\n",
        "\n",
        "a=[[0,1,1,0,1],[1,1,0,0,1],[0,0,0,1,1],[0,1,0,0,0]]             #working\n",
        "k=[8,7,6,5,2]\n",
        "ans=[]\n",
        "for i in range(len(a)):\n",
        "  sum=0\n",
        "  for j in range(len(a[0])):\n",
        "    if a[i][j]==1:\n",
        "      sum+=k[j]\n",
        "  ans.append(sum)\n",
        "print(ans)             #[15, 17, 7, 7] output\n",
        "\n",
        "\n",
        "\n",
        "\n",
        "# a=[[0,1,1,0,1],[1,1,0,0,1],[0,0,0,1,1],[0,1,0,0,0]]\n",
        "# b=[8,7,6,5,2]\n",
        "# for i in range(len(a)):                          #not working\n",
        "#   sum=0\n",
        "#   for j in range(len(a[0])):\n",
        "#     if a[i][j]==1:\n",
        "#       sum+=b[j]\n",
        "# print(sum)\n",
        "\n",
        "\n"
      ],
      "metadata": {
        "colab": {
          "base_uri": "https://localhost:8080/"
        },
        "id": "Kkwd-8ldh_R_",
        "outputId": "81e9ae36-1a8a-4640-fe91-ae27b590945e"
      },
      "execution_count": null,
      "outputs": [
        {
          "output_type": "stream",
          "name": "stdout",
          "text": [
            "[15, 17, 7, 7]\n"
          ]
        }
      ]
    },
    {
      "cell_type": "markdown",
      "source": [
        "rat route path"
      ],
      "metadata": {
        "id": "cgemhQirp_Fu"
      }
    },
    {
      "cell_type": "code",
      "source": [
        "def rat(a,i,j,n):\n",
        "  if i<0 or i>=n or j<0 or j>=n or a[i][j]==0:  # Check bounds and cell value  # this is sir said line -->if (a[i][j]==0 or i==n or j==n):\n",
        "    return 0\n",
        "  if(i==n-1 and j==n-1 and a[i][j]==1):\n",
        "      return 1\n",
        "  return rat(a,i,j+1,n) +rat(a,i+1,j,n)  #right and down   #backtracking\n",
        "\n",
        "a=[[1,0,0,0],[1,1,1,1],[1,0,0,1],[1,1,1,1]]\n",
        "n=4\n",
        "print(rat(a,0,0,n))\n",
        "\n"
      ],
      "metadata": {
        "colab": {
          "base_uri": "https://localhost:8080/"
        },
        "id": "vlX4G_XQqCDC",
        "outputId": "3b58b93c-42d3-40ea-ce53-5879530ca3fe"
      },
      "execution_count": null,
      "outputs": [
        {
          "output_type": "stream",
          "name": "stdout",
          "text": [
            "2\n"
          ]
        }
      ]
    },
    {
      "cell_type": "markdown",
      "source": [
        "iland"
      ],
      "metadata": {
        "id": "rAmhX-Fz0zrK"
      }
    },
    {
      "cell_type": "code",
      "source": [
        "def land(a,i,j,n):\n",
        "  if (i==n or j==n or i<0 or j<0 or a[i][j]==0 or a[i][j]==2 ):  # iland problem  , finding the number of ilands in the matrix   #backtracking\n",
        "    return 0\n",
        "  if(a[i][j]==1):\n",
        "    a[i][j]=2\n",
        "\n",
        "  land(a,i-1,j,n)    #top\n",
        "  land(a,i,j-1,n)    #left\n",
        "  land(a,i+1,j,n)    #bown\n",
        "  land(a,i,j+1,n)    #right\n",
        "\n",
        "\n",
        "a=[[1,0,0,1,1],[1,0,0,0,1],[0,0,0,1,0],[1,0,0,0,0],[1,0,0,0,1]]\n",
        "# for i in a:      #print the matrix\n",
        "#   print(i)\n",
        "\n",
        "count=0\n",
        "for i in range(5):\n",
        "  for j in range(5):\n",
        "    if(a[i][j]==1):\n",
        "      land(a,i,j,5)\n",
        "      count=count+1\n",
        "print(count)\n",
        "\n"
      ],
      "metadata": {
        "colab": {
          "base_uri": "https://localhost:8080/"
        },
        "id": "qswuKMjy0zVC",
        "outputId": "fd64dccf-6647-4a53-d726-a87c68eb1f07"
      },
      "execution_count": null,
      "outputs": [
        {
          "output_type": "stream",
          "name": "stdout",
          "text": [
            "5\n"
          ]
        }
      ]
    },
    {
      "cell_type": "markdown",
      "source": [
        "afternoon"
      ],
      "metadata": {
        "id": "SZZsEA4QJqBB"
      }
    },
    {
      "cell_type": "markdown",
      "source": [
        "land and fire"
      ],
      "metadata": {
        "id": "QyQEZyXNN5x9"
      }
    },
    {
      "cell_type": "code",
      "source": [
        "#fire-trees and land             ##backtracking\n",
        "# find how many trees are unburnt with the fire    (find the land)\n",
        "\n",
        "def land(a,i,j,n):\n",
        "  if (i==n or j==n or i<0 or j<0 or a[i][j]==0 or a[i][j]==2 ):  # fire land problem\n",
        "    return 0\n",
        "  if(a[i][j]==1):\n",
        "    a[i][j]=2\n",
        "\n",
        "  land(a,i-1,j,n)    #top\n",
        "  land(a,i,j-1,n)    #left\n",
        "  land(a,i+1,j,n)    #bown\n",
        "  land(a,i,j+1,n)    #right\n",
        "\n",
        "\n",
        "a=[[1,0,0,1,1,1],[1,1,1,0,0,0],[0,0,1,1,1,1],[1,1,1,0,0,0],[0,0,0,0,0,1],[1,0,0,1,0,0]]\n",
        "for i in a:      #print the matrix\n",
        "  print(i)\n",
        "\n",
        "count=0\n",
        "land(a,3-1,6-1,6)    #land(a,i,j,6)  moved to here # location 3,6 it means 2,5 based on code index start from 0\n",
        "for i in range(6):\n",
        "  for j in range(6):\n",
        "    if(a[i][j]==1):\n",
        "      # land(a,i,j,6)\n",
        "      count=count+1\n",
        "print(count)\n",
        "\n"
      ],
      "metadata": {
        "colab": {
          "base_uri": "https://localhost:8080/"
        },
        "id": "S15C3YTpOb3x",
        "outputId": "e5fc4dc7-c8a4-4ba0-d7c2-6d37c792ef64"
      },
      "execution_count": null,
      "outputs": [
        {
          "output_type": "stream",
          "name": "stdout",
          "text": [
            "[1, 0, 0, 1, 1, 1]\n",
            "[1, 1, 1, 0, 0, 0]\n",
            "[0, 0, 1, 1, 1, 1]\n",
            "[1, 1, 1, 0, 0, 0]\n",
            "[0, 0, 0, 0, 0, 1]\n",
            "[1, 0, 0, 1, 0, 0]\n",
            "6\n"
          ]
        }
      ]
    },
    {
      "cell_type": "markdown",
      "source": [
        "frog path         \n",
        "ot the destination ,it can move only to the right and bottom"
      ],
      "metadata": {
        "id": "z3RokVVDTfzT"
      }
    },
    {
      "cell_type": "code",
      "source": [
        "# frog path to the destination ,it can move only to the right and bottom              #backtracking\n",
        "# n=5  #5x5 grid\n",
        "# loc=[2,3] #x,y\n",
        "# trap=[((2,1),(4,1),(5,2),(3,5))]\n",
        "\n",
        "def frog_path(n, loc, traps):\n",
        "    \"\"\"\n",
        "    Calculates the number of paths a frog can take to reach the destination (bottom-right corner)\n",
        "    of an n x n grid, given its starting location and a set of traps.\n",
        "\n",
        "    Args:\n",
        "        n: The size of the grid (n x n).\n",
        "        loc: A list [x, y] representing the frog's starting location (1-based index).\n",
        "        traps: A list of tuples, where each tuple represents a trap location (1-based index).\n",
        "\n",
        "    Returns:\n",
        "        The number of valid paths the frog can take to reach the destination.\n",
        "    \"\"\"\n",
        "    x, y = loc[0] -1, loc[1] - 1  # Adjust to 0-based indexing\n",
        "    trap_set = set()\n",
        "    for trap_locations in traps:\n",
        "        for trap in trap_locations:\n",
        "            trap_set.add((trap[0]-1, trap[1]-1))\n",
        "\n",
        "\n",
        "    def dfs(x, y):\n",
        "        if x < 0 or x >= n or y < 0 or y >= n or (x,y) in trap_set:\n",
        "            return 0\n",
        "        if x == n - 1 and y == n - 1:\n",
        "            return 1\n",
        "\n",
        "        return dfs(x + 1, y) + dfs(x, y + 1)\n",
        "\n",
        "\n",
        "    return dfs(x,y)\n",
        "\n",
        "n = 5\n",
        "loc = [2, 3]\n",
        "traps = [((2, 1), (4, 1), (5, 2), (3, 5),(3,3))]\n",
        "paths = frog_path(n, loc, traps)\n",
        "paths\n"
      ],
      "metadata": {
        "colab": {
          "base_uri": "https://localhost:8080/"
        },
        "id": "THwAkiHGWAlC",
        "outputId": "7f6976fb-f8f8-44de-e5df-974b6fc4fadf"
      },
      "execution_count": null,
      "outputs": [
        {
          "output_type": "execute_result",
          "data": {
            "text/plain": [
              "2"
            ]
          },
          "metadata": {},
          "execution_count": 86
        }
      ]
    },
    {
      "cell_type": "code",
      "source": [
        "def paths(n,x,y,trap):\n",
        "    if x<=0 or y<=0 or x>n or y>n or (x,y) in trap:\n",
        "        return 0\n",
        "    if x==n and y==n:\n",
        "        return 1\n",
        "    return paths(n,x+1,y,trap) + paths(n,x,y+1,trap)\n",
        "n=5  #int(input())\n",
        "x,y=2,3  #map(int(input().split()))\n",
        "trap=[(2,1),(4,1),(5,2),(3,5)]\n",
        "print(paths(n,x,y,trap))"
      ],
      "metadata": {
        "colab": {
          "base_uri": "https://localhost:8080/"
        },
        "id": "d-Qr65G7ZwVl",
        "outputId": "e37550b4-86c5-4452-9513-42f4cc06e8bd"
      },
      "execution_count": null,
      "outputs": [
        {
          "output_type": "stream",
          "name": "stdout",
          "text": [
            "7\n"
          ]
        }
      ]
    },
    {
      "cell_type": "code",
      "source": [
        "def frog(n,i,j,trap):                               #backtracking\n",
        "  if (i==n or j==n or (i-1,j-1) in trap):         #sir code        changed from (i,j)--> (i-1,j-1)\n",
        "    return 0\n",
        "  if (i==n-1 and j==n-1):\n",
        "    return 1\n",
        "  return frog(n,i+1,j,trap) +frog(n,i,j+1,trap)\n",
        "\n",
        "n=5\n",
        "i=2\n",
        "j=3\n",
        "traps = [(2, 1), (4, 1), (5, 2), (3, 5)]\n",
        "frog(n,i-1,j-1,traps)"
      ],
      "metadata": {
        "colab": {
          "base_uri": "https://localhost:8080/"
        },
        "id": "puENpaNSYvdJ",
        "outputId": "eb69d62d-5f9b-47fb-d22d-856fc21516d4"
      },
      "execution_count": null,
      "outputs": [
        {
          "output_type": "execute_result",
          "data": {
            "text/plain": [
              "7"
            ]
          },
          "metadata": {},
          "execution_count": 87
        }
      ]
    },
    {
      "cell_type": "markdown",
      "source": [
        "print the binary numbers"
      ],
      "metadata": {
        "id": "XR0olmRwcJy9"
      }
    },
    {
      "cell_type": "code",
      "source": [
        "# print the binary numbers          #this is using bin()\n",
        "\n",
        "n=int(input())\n",
        "for i in range(0,n+1):\n",
        "  print(bin(i))"
      ],
      "metadata": {
        "colab": {
          "base_uri": "https://localhost:8080/"
        },
        "id": "nNrzJ0urckHc",
        "outputId": "dabf2b49-af93-42fb-bf18-a58119afa03f"
      },
      "execution_count": null,
      "outputs": [
        {
          "output_type": "stream",
          "name": "stdout",
          "text": [
            "3\n",
            "0b0\n",
            "0b1\n",
            "0b10\n",
            "0b11\n"
          ]
        }
      ]
    },
    {
      "cell_type": "code",
      "source": [
        "# print the binary numbers     #---without using bin()    #not the correct output\n",
        "\n",
        "import math\n",
        "def allbinary(a,n,s=''):\n",
        "  if len(s)==n:\n",
        "    print(s)\n",
        "    return\n",
        "  allbinary(a,n,s+'0')\n",
        "  allbinary(a,n,s+'1')\n",
        "a=18\n",
        "n=int(math.log(a,2))+1\n",
        "allbinary(a,n)"
      ],
      "metadata": {
        "colab": {
          "base_uri": "https://localhost:8080/"
        },
        "id": "j7L8e5-TdJQ_",
        "outputId": "28524668-74ea-472d-b4f0-76326caecd39"
      },
      "execution_count": null,
      "outputs": [
        {
          "output_type": "stream",
          "name": "stdout",
          "text": [
            "00000\n",
            "00001\n",
            "00010\n",
            "00011\n",
            "00100\n",
            "00101\n",
            "00110\n",
            "00111\n",
            "01000\n",
            "01001\n",
            "01010\n",
            "01011\n",
            "01100\n",
            "01101\n",
            "01110\n",
            "01111\n",
            "10000\n",
            "10001\n",
            "10010\n",
            "10011\n",
            "10100\n",
            "10101\n",
            "10110\n",
            "10111\n",
            "11000\n",
            "11001\n",
            "11010\n",
            "11011\n",
            "11100\n",
            "11101\n",
            "11110\n",
            "11111\n"
          ]
        }
      ]
    },
    {
      "cell_type": "code",
      "source": [
        "# print the binary numbers     #---without using bin()\n",
        "\n",
        "import math\n",
        "re=[]\n",
        "def allbinary(n,s=''):      #sir code  #incomplete\n",
        "  if len(s)==n:\n",
        "    re.append(s)\n",
        "    return\n",
        "  allbinary(n,s+'0')\n",
        "  allbinary(n,s+'1')\n",
        "\n",
        "\n",
        "\n",
        "a=18\n",
        "n=int(math.log(a,2))+1\n",
        "allbinary(n)\n",
        "for i in range(a+1):\n",
        "#....\n"
      ],
      "metadata": {
        "id": "DTBiXR0Shp34"
      },
      "execution_count": null,
      "outputs": []
    },
    {
      "cell_type": "code",
      "source": [
        "import math          #full code\n",
        "\n",
        "re = []\n",
        "\n",
        "def allbinary(n, s=''):\n",
        "    if len(s) == n:\n",
        "        re.append(s)\n",
        "        return\n",
        "    allbinary(n, s + '0')\n",
        "    allbinary(n, s + '1')\n",
        "\n",
        "a = 18\n",
        "n = int(math.log(a, 2)) + 1  # Find number of bits needed\n",
        "allbinary(n)\n",
        "\n",
        "# Convert each binary string to integer and filter <= a\n",
        "for binary in re:\n",
        "    if int(binary, 2) <= a:\n",
        "        print(binary)\n"
      ],
      "metadata": {
        "colab": {
          "base_uri": "https://localhost:8080/"
        },
        "id": "wYlR60lH8XRY",
        "outputId": "8bdda447-981f-4316-da96-771add92500b"
      },
      "execution_count": null,
      "outputs": [
        {
          "output_type": "stream",
          "name": "stdout",
          "text": [
            "00000\n",
            "00001\n",
            "00010\n",
            "00011\n",
            "00100\n",
            "00101\n",
            "00110\n",
            "00111\n",
            "01000\n",
            "01001\n",
            "01010\n",
            "01011\n",
            "01100\n",
            "01101\n",
            "01110\n",
            "01111\n",
            "10000\n",
            "10001\n",
            "10010\n"
          ]
        }
      ]
    },
    {
      "cell_type": "code",
      "source": [
        "import math          #without list #comming 2 extra numbers\n",
        "# re=[]\n",
        "def allbinary(a,n,s=''):\n",
        "    if a==-1:\n",
        "        return a\n",
        "    if(len(s)==n):\n",
        "        # re.append(s)\n",
        "        print(s)\n",
        "        a=a-1\n",
        "        return\n",
        "    allbinary(a,n,s+'0')\n",
        "    allbinary(a,n,s+'1')\n",
        "a=5\n",
        "n=int(math.log(a,2))+1\n",
        "allbinary(a,n)"
      ],
      "metadata": {
        "colab": {
          "base_uri": "https://localhost:8080/"
        },
        "id": "FQCzeMoukXhI",
        "outputId": "d2de641f-747b-4b57-81b8-029362817428"
      },
      "execution_count": null,
      "outputs": [
        {
          "output_type": "stream",
          "name": "stdout",
          "text": [
            "000\n",
            "001\n",
            "010\n",
            "011\n",
            "100\n",
            "101\n",
            "110\n",
            "111\n"
          ]
        }
      ]
    },
    {
      "cell_type": "code",
      "source": [
        "# print the binary numbers     #---without using bin()\n",
        "\n",
        "import math               #working\n",
        "re=[]\n",
        "def allbin(n,s=''):\n",
        "    if(len(s)==n):\n",
        "        re.append(s)\n",
        "        return\n",
        "    allbin(n,s+'0')\n",
        "    allbin(n,s+'1')\n",
        "n=int(input())\n",
        "m=int(math.log(n,2)+1)\n",
        "allbin(m)\n",
        "for i in range(n+1):\n",
        "    print(re[i])"
      ],
      "metadata": {
        "colab": {
          "base_uri": "https://localhost:8080/"
        },
        "id": "6N0-ecUAkcVp",
        "outputId": "dd5b05e0-828e-416f-a3b7-9888f59d6dc9"
      },
      "execution_count": null,
      "outputs": [
        {
          "output_type": "stream",
          "name": "stdout",
          "text": [
            "5\n",
            "000\n",
            "001\n",
            "010\n",
            "011\n",
            "100\n",
            "101\n"
          ]
        }
      ]
    },
    {
      "cell_type": "markdown",
      "source": [
        "n=3 print the number of possible ((())) u can get and print them"
      ],
      "metadata": {
        "id": "G6F24dTqlrbu"
      }
    },
    {
      "cell_type": "code",
      "source": [
        "#n=3 print the number of possible ((())) u can get and print them\n",
        "\n",
        "def occur(n,i=0,j=0,s=''):\n",
        "  if len(s)==2*n:\n",
        "    print(s)\n",
        "    return\n",
        "  if i<n:\n",
        "    occur(n,i+1,j,s+'(')\n",
        "  if j<i:\n",
        "    occur(n,i,j+1,s+')')\n",
        "occur(3)"
      ],
      "metadata": {
        "id": "LU1wPbPFl9BA",
        "colab": {
          "base_uri": "https://localhost:8080/"
        },
        "outputId": "b08125ad-ad65-4e0a-a027-7b7df1623cb8"
      },
      "execution_count": null,
      "outputs": [
        {
          "output_type": "stream",
          "name": "stdout",
          "text": [
            "((()))\n",
            "(()())\n",
            "(())()\n",
            "()(())\n",
            "()()()\n"
          ]
        }
      ]
    },
    {
      "cell_type": "markdown",
      "source": [
        "#17/05/25             -----------DAY-06\n",
        "\n",
        "(efficient version of bubble sort, ---print kth largest element, ---a,f,e,c sort , ---if the 1st and 2nd letters are same ,print the same order, ---subarray there is a prime number arrange then in the order, ---sort them based on the size of the words(doctor), ---#bucket sort)"
      ],
      "metadata": {
        "id": "YqbzZqgfWSnI"
      }
    },
    {
      "cell_type": "markdown",
      "source": [],
      "metadata": {
        "id": "F-TmMLxA2pAI"
      }
    },
    {
      "cell_type": "code",
      "source": [
        "#Q1\n",
        "# efficient version of bubble sort\n",
        "\n",
        "\n",
        "a = [64, 34, 25, 12, 22, 11, 90]\n",
        "c=0\n",
        "for j in range(len(a)-1):\n",
        "  f=False\n",
        "  for i in range(0,len(a)-1-j):\n",
        "    c=c+1\n",
        "    if (a[i]>a[i+1]):\n",
        "      f=True\n",
        "      a[i],a[i+1]=a[i+1],a[i]\n",
        "  if(f==False):\n",
        "    break\n",
        "  print(a)\n",
        "  print(c)\n",
        "\n",
        "\n"
      ],
      "metadata": {
        "colab": {
          "base_uri": "https://localhost:8080/"
        },
        "id": "zmf3cA_bWYJL",
        "outputId": "1f826eff-acba-414e-c798-464ab072eca2"
      },
      "execution_count": null,
      "outputs": [
        {
          "output_type": "stream",
          "name": "stdout",
          "text": [
            "[34, 25, 12, 22, 11, 64, 90]\n",
            "6\n",
            "[25, 12, 22, 11, 34, 64, 90]\n",
            "11\n",
            "[12, 22, 11, 25, 34, 64, 90]\n",
            "15\n",
            "[12, 11, 22, 25, 34, 64, 90]\n",
            "18\n",
            "[11, 12, 22, 25, 34, 64, 90]\n",
            "20\n"
          ]
        }
      ]
    },
    {
      "cell_type": "code",
      "source": [],
      "metadata": {
        "id": "tnbl3mbGffRb"
      },
      "execution_count": null,
      "outputs": []
    },
    {
      "cell_type": "code",
      "source": [
        "#----------normal bubble sort code\n",
        "def  #s\n",
        "\n",
        "\n",
        "\n",
        "\n",
        "# -------------------------------------------------------------------------------------------------\n",
        "\n",
        "# a = [64, 34, 25, 12, 22, 11, 90]         #sir code\n",
        "# n=len(a)\n",
        "# for _ in range(n):\n",
        "#   for i in range(0,n-1):\n",
        "#     if (a[i]>a[i+1]):\n",
        "#       a[i],a[i+1]=a[i+1],a[i]             # printing thr arr for n-1 times , already sorted arr is also printing\n",
        "#   print(a)\n",
        "#--\n",
        "a = [64, 34, 25, 12, 22, 11, 90]            # this this is the solution for the above problem\n",
        "n=len(a)\n",
        "for _ in range(n):\n",
        "  f=False\n",
        "  for i in range(0,n-1):\n",
        "    if (a[i]>a[i+1]):\n",
        "      f=True\n",
        "      a[i],a[i+1]=a[i+1],a[i]\n",
        "  if(f==False):\n",
        "    break\n",
        "  print(a)\n",
        "# ----------------------------------------------------------------------------------------------\n",
        "\n",
        "\n",
        "\n",
        "# def sort(arr):\n",
        "#   n=len(arr)\n",
        "#   for i in range(n):\n",
        "#     for j in range(0,n-i-1):\n",
        "#       if arr[j]>arr[j+1]:\n",
        "#         arr[j],arr[j+1]=arr[j+1],arr[j]\n",
        "#   return arr\n",
        "# arr = [64, 34, 25, 12, 22, 11, 90]\n",
        "# print(sort(arr))\n"
      ],
      "metadata": {
        "colab": {
          "base_uri": "https://localhost:8080/"
        },
        "id": "29LKw7AXcpBQ",
        "outputId": "a87ae14f-f4f5-4098-fe87-dfd121d717d9"
      },
      "execution_count": null,
      "outputs": [
        {
          "output_type": "stream",
          "name": "stdout",
          "text": [
            "[11, 12, 22, 25, 34, 64, 90]\n"
          ]
        }
      ]
    },
    {
      "cell_type": "code",
      "source": [
        "#Q2\n",
        "\n",
        "# a=[5,2,3,8,1,6,7]\n",
        "# k=2   remaining first and last 2 numbers\n",
        "# output= [5,2,1,3,8,6,7]\n",
        "\n",
        "a = [64, 34, 25, 12, 22, 11, 90]             #edit it\n",
        "c=0\n",
        "for j in range(len(a)-1):\n",
        "  f=False\n",
        "  for i in range(0,len(a)-1-j):\n",
        "    c=c+1\n",
        "    if (a[i]>a[i+1]):\n",
        "      f=True\n",
        "      a[i],a[i+1]=a[i+1],a[i]\n",
        "  if(f==False):\n",
        "    break\n",
        "  print(a)\n",
        "  print(c) # number of swaps count\n"
      ],
      "metadata": {
        "colab": {
          "base_uri": "https://localhost:8080/"
        },
        "id": "KkVmTF07cC48",
        "outputId": "25846b6c-602b-4e9b-86a9-f66eb7835ec7"
      },
      "execution_count": null,
      "outputs": [
        {
          "output_type": "stream",
          "name": "stdout",
          "text": [
            "[34, 25, 12, 22, 11, 64, 90]\n",
            "6\n",
            "[25, 12, 22, 11, 34, 64, 90]\n",
            "11\n",
            "[12, 22, 11, 25, 34, 64, 90]\n",
            "15\n",
            "[12, 11, 22, 25, 34, 64, 90]\n",
            "18\n",
            "[11, 12, 22, 25, 34, 64, 90]\n",
            "20\n"
          ]
        }
      ]
    },
    {
      "cell_type": "markdown",
      "source": [
        "TAKE K, DONT SORT 1ST K ELEMENTS AND LAST K ELEMENTS"
      ],
      "metadata": {
        "id": "wWl--Nx4ixUm"
      }
    },
    {
      "cell_type": "code",
      "source": [
        "def bubble(lst,k):                              #ja\n",
        "  for i in range(k,len(lst)-k):\n",
        "    f = False\n",
        "    for j in range(k+1,len(lst)-i-k):\n",
        "      if lst[j] > lst[j+1]:\n",
        "        lst[j], lst[j+1] = lst[j+1], lst[j]\n",
        "        f = True\n",
        "    if f == False:\n",
        "      break\n",
        "  return lst\n",
        "\n",
        "lst = [8,5,2,8,4,3,7,3,1,2,9,0,8]\n",
        "k = 2\n",
        "print(bubble(lst,2))"
      ],
      "metadata": {
        "colab": {
          "base_uri": "https://localhost:8080/"
        },
        "id": "givGeEPyixB4",
        "outputId": "569313e5-30fd-4992-ab82-793611c53b89"
      },
      "execution_count": null,
      "outputs": [
        {
          "output_type": "stream",
          "name": "stdout",
          "text": [
            "[8, 5, 2, 1, 2, 3, 3, 4, 7, 8, 9, 0, 8]\n"
          ]
        }
      ]
    },
    {
      "cell_type": "code",
      "source": [
        "#Q3\n",
        "\n",
        "# print the kth largest element       using bubble sort\n",
        "\n",
        "# a=[2,5,8,6,3,1,9,4,7]\n",
        "# k=3\n",
        "# output:7\n",
        "\n",
        "# a=[2,5,8,6,3,1,9,4,7]          #my\n",
        "# n=len(a)\n",
        "# k=3\n",
        "# for j in range(n):\n",
        "#   f=False\n",
        "#   for i in range(0,n-1-j):\n",
        "#     if (a[i]>a[i+1]):\n",
        "#       f=True\n",
        "#       a[i],a[i+1]=a[i+1],a[i]\n",
        "#   if i==k-1:\n",
        "#     print(a[-k])         #op=7\n",
        "#     break\n",
        "#   if(f==False):\n",
        "#     break\n",
        "\n",
        "\n",
        "\n",
        "#--------------\n",
        "\n",
        "a = [64, 34, 25, 12, 22, 11, 90]             #sir\n",
        "k=3                                                     #wrong op\n",
        "\n",
        "for j in range(len(a)-1):\n",
        "  f=False\n",
        "  for i in range(0,len(a)-1-j):\n",
        "\n",
        "    if (a[i]>a[i+1]):\n",
        "      f=True\n",
        "      a[i],a[i+1]=a[i+1],a[i]\n",
        "  k=k-1\n",
        "  if(f==False or k==0):\n",
        "    break\n",
        "  # print(a)\n",
        "  print(a[k-1])"
      ],
      "metadata": {
        "colab": {
          "base_uri": "https://localhost:8080/"
        },
        "id": "Td_lkHM1jrdR",
        "outputId": "35cca53f-e2d1-4b7e-e24b-04e98f815c3e"
      },
      "execution_count": null,
      "outputs": [
        {
          "output_type": "stream",
          "name": "stdout",
          "text": [
            "25\n",
            "25\n"
          ]
        }
      ]
    },
    {
      "cell_type": "code",
      "source": [
        "#Q4\n",
        "\n",
        "# a=['c','e','a','b','f']                       #using bubble sort\n",
        "# output = [a,b,c,e,f]                  #ord for ascii\n",
        "\n",
        "\n",
        "a=['c','e','a','b','f']             #\n",
        "for j in range(len(a)-1):\n",
        "  f=False\n",
        "  for i in range(0,len(a)-1-j):\n",
        "    # c=c+1\n",
        "    if (a[i]>a[i+1]):\n",
        "      f=True\n",
        "      a[i],a[i+1]=a[i+1],a[i]\n",
        "  if(f==False):\n",
        "    break\n",
        "print(a)\n",
        "  # print(c)"
      ],
      "metadata": {
        "colab": {
          "base_uri": "https://localhost:8080/"
        },
        "id": "io4XGsF-qlsy",
        "outputId": "0fe85c94-8d1d-4971-9c54-9e519e2b144a"
      },
      "execution_count": null,
      "outputs": [
        {
          "output_type": "stream",
          "name": "stdout",
          "text": [
            "['a', 'b', 'c', 'e', 'f']\n"
          ]
        }
      ]
    },
    {
      "cell_type": "code",
      "source": [
        "#Q5\n",
        "\n",
        "# a=[[2,3],[5,1],[1,4],[2,7],[1,3]]              # using bubble sort\n",
        "# output =[[5,1],[2,3],[1,3],[1,4],[2,7]]\n",
        "\n",
        "\n",
        "# a=[[2,3],[5,1],[1,4],[2,7],[1,3]]      #incomlete\n",
        "# for i in range(len(a)-1):\n",
        "#   i[i][1]>a[i+1][1]:\n",
        "\n",
        "\n",
        "\n",
        "a = [[2,3,],[5,1],[1,4],[2,7],[1,3]]\n",
        "c=0\n",
        "for j in  range(len(a)-1):\n",
        "  a1=False\n",
        "  for i in range(len(a)-1-j):\n",
        "    c+=1\n",
        "    if (a[i][1]>a[i+1][1]):\n",
        "      a[i],a[i+1]=a[i+1],a[i]\n",
        "      a1=True\n",
        "  if a1==False:\n",
        "    break\n",
        "print(a)"
      ],
      "metadata": {
        "colab": {
          "base_uri": "https://localhost:8080/"
        },
        "id": "jsMSxNccsXBu",
        "outputId": "21bd82b2-8962-477c-d182-22e4f5bdb252"
      },
      "execution_count": null,
      "outputs": [
        {
          "output_type": "stream",
          "name": "stdout",
          "text": [
            "[[5, 1], [2, 3], [1, 3], [1, 4], [2, 7]]\n"
          ]
        }
      ]
    },
    {
      "cell_type": "markdown",
      "source": [
        "Q6               \n",
        "a=[\"zebra\",\"cat\",\"apple\",\"car\",\"bat\"]    -------------#lexographical order           \n",
        "output=['apple', 'bat', 'cat', 'car', 'zebra']           \n",
        "if the 1st and 2nd letters are same ,print the same order"
      ],
      "metadata": {
        "id": "yr8ApPXy2VoS"
      }
    },
    {
      "cell_type": "code",
      "source": [
        "# #Q6\n",
        "# a=[\"zebra\",\"cat\",\"apple\",\"car\",\"bat\"]\n",
        "# output=['apple', 'bat', 'cat', 'car', 'zebra']                     #lexographical order\n",
        "# if the 1st and 2nd letters are same ,print the same order\n",
        "\n",
        "a=[\"zebra\",\"cat\",\"apple\",\"car\",\"bat\"]\n",
        "\n",
        "for j in range(len(a)-1):                           # slit different output\n",
        "  f=False\n",
        "  for i in range(0,len(a)-1-j):\n",
        "    if (a[i]>a[i+1]):\n",
        "      f=True\n",
        "      a[i],a[i+1]=a[i+1],a[i]\n",
        "  if(f==False):\n",
        "    break\n",
        "print(a)\n"
      ],
      "metadata": {
        "colab": {
          "base_uri": "https://localhost:8080/"
        },
        "id": "P92TFm-Hzjb3",
        "outputId": "6932f9ca-a6a8-4235-c036-c0ba1954f1cf"
      },
      "execution_count": null,
      "outputs": [
        {
          "output_type": "stream",
          "name": "stdout",
          "text": [
            "['apple', 'bat', 'car', 'cat', 'zebra']\n"
          ]
        }
      ]
    },
    {
      "cell_type": "code",
      "source": [
        "#\n",
        "# a=[\"zebra\",\"cat\",\"apple\",\"car\",\"bat\"]                     ## lexographical order\n",
        "# output=['apple', 'bat', 'cat', 'car', 'zebra']                     # correct code\n",
        "# if the 1st and 2nd letters are same ,print the same order\n",
        "\n",
        "a=[\"zebra\",\"cat\",\"apple\",\"car\",\"bat\"]\n",
        "c=0\n",
        "for j in  range(len(a)-1):\n",
        "  a1=False\n",
        "  for i in range(len(a)-1-j):\n",
        "    c+=1\n",
        "    if (a[i][0:1]>a[i+1][0:1]):\n",
        "      a[i],a[i+1]=a[i+1],a[i]\n",
        "      a1=True\n",
        "  if a1==False:\n",
        "    break\n",
        "print(a)"
      ],
      "metadata": {
        "colab": {
          "base_uri": "https://localhost:8080/"
        },
        "id": "dt3cf5uG17I1",
        "outputId": "dcce35b7-3698-4568-b4c8-56af2190771f"
      },
      "execution_count": null,
      "outputs": [
        {
          "output_type": "stream",
          "name": "stdout",
          "text": [
            "['apple', 'bat', 'cat', 'car', 'zebra']\n"
          ]
        }
      ]
    },
    {
      "cell_type": "code",
      "source": [
        "a=['school', 'car', 'hello', 'bet', 'apple','cat','bat']               #sir code\n",
        "for i in range(len(a)-1):\n",
        "  f=False\n",
        "  for j in range(len(a)-1-i):\n",
        "    if (a[j][0]>a[j+1][0]):\n",
        "      a[j],a[j+1]=a[j+1],a[j]\n",
        "      f=True\n",
        "    elif (a[j][0]==a[j+1][0] and a[j][1]>a[j+1][1]):\n",
        "      a[j],a[j+1]=a[j+1],a[j]\n",
        "      f=True\n",
        "  if f==False:\n",
        "    break\n",
        "print(a)\n"
      ],
      "metadata": {
        "colab": {
          "base_uri": "https://localhost:8080/"
        },
        "id": "GXRZvvms3EcJ",
        "outputId": "c235870b-5a59-4d66-91c4-2817e633542d"
      },
      "execution_count": null,
      "outputs": [
        {
          "output_type": "stream",
          "name": "stdout",
          "text": [
            "['apple', 'bat', 'bet', 'car', 'cat', 'hello', 'school']\n"
          ]
        }
      ]
    },
    {
      "cell_type": "markdown",
      "source": [
        "Q7                  \n",
        "n=[[14,13,12],[8,10,5],[7,9,20],[14,8,3]]     \n",
        "output =[14,8,3],[8,10,5],[7,9,20],[14,13,12]         \n",
        "in the subarray there is a prime number arrange then in the order, using bubble sort\n",
        "\n"
      ],
      "metadata": {
        "id": "CXdOph3m8SdG"
      }
    },
    {
      "cell_type": "code",
      "source": [
        "#  ------------Q7\n",
        "# in the subarray there is a prime number arrange then in the order, using bubble sort\n",
        "# n=[[14,13,12],[8,10,5],[7,9,20],[14,8,3]]\n",
        "# output =[14,8,3],[8,10,5],[7,9,20],[14,13,12]\n",
        "\n",
        "\n",
        "def prime(x):                                  #sir\n",
        "  for i in x:\n",
        "    for j in range(2,int(i**0.5)+1):\n",
        "      if(i%j==0):\n",
        "        break\n",
        "    else:\n",
        "      return i\n",
        "a=[[14,13,12],[8,10,5],[7,9,20],[14,8,3]]\n",
        "b=[]\n",
        "for i in a:\n",
        "  b.append(prime(i))\n",
        "# print(b)  #print the prime numders       #op=[13, 5, 7, 3]\n",
        "for i in range(len(b)-1):                #bubble sort code\n",
        "  for j in range(len(b)-1-i):\n",
        "    f=0\n",
        "    for j in range(len(b)-1-i):\n",
        "        if(b[j]>b[j+1]):\n",
        "            b[j],b[j+1]=b[j+1],b[j]\n",
        "            a[j],a[j+1]=a[j+1],a[j]\n",
        "            f=1\n",
        "    if(f==0):\n",
        "        break\n",
        "print(a)"
      ],
      "metadata": {
        "id": "2pGUCFWu7EPu",
        "colab": {
          "base_uri": "https://localhost:8080/"
        },
        "outputId": "732a7096-c4b0-400a-bf6e-7e8695aae697"
      },
      "execution_count": null,
      "outputs": [
        {
          "output_type": "stream",
          "name": "stdout",
          "text": [
            "[[14, 8, 3], [8, 10, 5], [7, 9, 20], [14, 13, 12]]\n"
          ]
        }
      ]
    },
    {
      "cell_type": "markdown",
      "source": [
        "afternoon"
      ],
      "metadata": {
        "id": "afIBOvrYXBzg"
      }
    },
    {
      "cell_type": "markdown",
      "source": [
        "sort them based on the size of the words"
      ],
      "metadata": {
        "id": "r9xTLK-6XujK"
      }
    },
    {
      "cell_type": "code",
      "source": [
        "# \"an apple a day keeps doctor away\"                #bubble sort\n",
        "#  output = a an day away apple keeps doctor\n",
        "# sort them based on the size of the words\n",
        "#---------------------------------------------------------------------\n",
        "\n",
        "\n",
        "# a=\"an apple a day keeps doctor away\".split()   # with using len()  #my\n",
        "# for i in range(len(a)-1):\n",
        "#   for j in range(len(a)-1-i):\n",
        "#     if (len(a[j])>len(a[j+1])):\n",
        "#       a[j],a[j+1]=a[j+1],a[j]\n",
        "\n",
        "# print(\" \".join(a))\n",
        "\n",
        "\n",
        "a=\"an apple a day keeps doctor away\".split()   # without using len()  #sir code\n",
        "b=[]\n",
        "for i in a:\n",
        "  b.append(len(i))\n",
        "for i in range(len(b)-1):\n",
        "  for j in range(len(b)-1-i):\n",
        "    if (b[j]>b[j+1]):\n",
        "      b[j],b[j+1]=b[j+1],b[j]\n",
        "      a[j],a[j+1]=a[j+1],a[j]\n",
        "      f=1\n",
        "    if(f==0):\n",
        "      break\n",
        "print(\" \".join(a))\n"
      ],
      "metadata": {
        "colab": {
          "base_uri": "https://localhost:8080/",
          "height": 211
        },
        "id": "KZ3ZluvtWucf",
        "outputId": "0c2a7a9c-0383-4ba8-ae6f-01c78493cec4"
      },
      "execution_count": null,
      "outputs": [
        {
          "output_type": "error",
          "ename": "NameError",
          "evalue": "name 'f' is not defined",
          "traceback": [
            "\u001b[0;31m---------------------------------------------------------------------------\u001b[0m",
            "\u001b[0;31mNameError\u001b[0m                                 Traceback (most recent call last)",
            "\u001b[0;32m<ipython-input-2-51076c7808db>\u001b[0m in \u001b[0;36m<cell line: 0>\u001b[0;34m()\u001b[0m\n\u001b[1;32m     24\u001b[0m       \u001b[0ma\u001b[0m\u001b[0;34m[\u001b[0m\u001b[0mj\u001b[0m\u001b[0;34m]\u001b[0m\u001b[0;34m,\u001b[0m\u001b[0ma\u001b[0m\u001b[0;34m[\u001b[0m\u001b[0mj\u001b[0m\u001b[0;34m+\u001b[0m\u001b[0;36m1\u001b[0m\u001b[0;34m]\u001b[0m\u001b[0;34m=\u001b[0m\u001b[0ma\u001b[0m\u001b[0;34m[\u001b[0m\u001b[0mj\u001b[0m\u001b[0;34m+\u001b[0m\u001b[0;36m1\u001b[0m\u001b[0;34m]\u001b[0m\u001b[0;34m,\u001b[0m\u001b[0ma\u001b[0m\u001b[0;34m[\u001b[0m\u001b[0mj\u001b[0m\u001b[0;34m]\u001b[0m\u001b[0;34m\u001b[0m\u001b[0;34m\u001b[0m\u001b[0m\n\u001b[1;32m     25\u001b[0m       \u001b[0mf\u001b[0m\u001b[0;34m=\u001b[0m\u001b[0;36m1\u001b[0m\u001b[0;34m\u001b[0m\u001b[0;34m\u001b[0m\u001b[0m\n\u001b[0;32m---> 26\u001b[0;31m     \u001b[0;32mif\u001b[0m\u001b[0;34m(\u001b[0m\u001b[0mf\u001b[0m\u001b[0;34m==\u001b[0m\u001b[0;36m0\u001b[0m\u001b[0;34m)\u001b[0m\u001b[0;34m:\u001b[0m\u001b[0;34m\u001b[0m\u001b[0;34m\u001b[0m\u001b[0m\n\u001b[0m\u001b[1;32m     27\u001b[0m       \u001b[0;32mbreak\u001b[0m\u001b[0;34m\u001b[0m\u001b[0;34m\u001b[0m\u001b[0m\n\u001b[1;32m     28\u001b[0m \u001b[0mprint\u001b[0m\u001b[0;34m(\u001b[0m\u001b[0;34m\" \"\u001b[0m\u001b[0;34m.\u001b[0m\u001b[0mjoin\u001b[0m\u001b[0;34m(\u001b[0m\u001b[0ma\u001b[0m\u001b[0;34m)\u001b[0m\u001b[0;34m)\u001b[0m\u001b[0;34m\u001b[0m\u001b[0;34m\u001b[0m\u001b[0m\n",
            "\u001b[0;31mNameError\u001b[0m: name 'f' is not defined"
          ]
        }
      ]
    },
    {
      "cell_type": "markdown",
      "source": [
        "**bucket sort**"
      ],
      "metadata": {
        "id": "PcJRDdHwuHDg"
      }
    },
    {
      "cell_type": "markdown",
      "source": [
        "sort the numbers according to the frequency/no of occerence----->  #bucket sort"
      ],
      "metadata": {
        "id": "gObdEOTGuDbL"
      }
    },
    {
      "cell_type": "code",
      "source": [
        "# input [7,2,6,3,6,7,7,2,2,2]         #sort the numbers according to the frequency/no of occerence  #bucket sort\n",
        "# output=[3,6,6,7,7,7,2,2,2,2]\n",
        "\n",
        "a=[7,2,6,3,6,7,7,2,2,2]         #sir code\n",
        "d={}\n",
        "for i in a:\n",
        "  if (i not in d):\n",
        "    d[i]=1\n",
        "  else:\n",
        "    d[i]+=1\n",
        "print(d)         #dict\n",
        "n=max(d.values())\n",
        "b=[]\n",
        "for i in range(n+1):\n",
        "  b.append([])\n",
        "print(b)               # bucket\n",
        "for i in d.items():\n",
        "  b[i[1]].append(i[0])\n",
        "print(d)                      #dict\n",
        "c=[]\n",
        "for i in range(len(b)):\n",
        "    for j in b[i]:\n",
        "        c.extend([j]*i)\n",
        "print(c)                           #output= [3, 6, 6, 7, 7, 7, 2, 2, 2, 2]"
      ],
      "metadata": {
        "colab": {
          "base_uri": "https://localhost:8080/"
        },
        "id": "p27gGF5_aN1C",
        "outputId": "cfd88584-68f5-4b73-9ea4-3c8b5c988a7f"
      },
      "execution_count": null,
      "outputs": [
        {
          "output_type": "stream",
          "name": "stdout",
          "text": [
            "{7: 3, 2: 4, 6: 2, 3: 1}\n",
            "[[], [], [], [], []]\n",
            "{7: 3, 2: 4, 6: 2, 3: 1}\n",
            "[3, 6, 6, 7, 7, 7, 2, 2, 2, 2]\n"
          ]
        }
      ]
    },
    {
      "cell_type": "code",
      "source": [
        "# input [7,2,6,3,6,7,7,2,2,2]         #sort the numbers according to the frequency/no of occerence\n",
        "# # output=[3,6,6,7,7,7,2,2,2,2]\n",
        "\n",
        "from collections import Counter               #used counter()\n",
        "a = [7, 2, 6, 3, 6, 7, 7, 2, 2, 2]\n",
        "counts = Counter(a)\n",
        "\n",
        "def sort_by_frequency(item):\n",
        "  return counts[item]\n",
        "\n",
        "a.sort(key=sort_by_frequency)\n",
        "print(a)"
      ],
      "metadata": {
        "colab": {
          "base_uri": "https://localhost:8080/"
        },
        "id": "g-pZo5y5giGI",
        "outputId": "eae329a0-a885-45f8-d11e-1cc8b18b8351"
      },
      "execution_count": null,
      "outputs": [
        {
          "output_type": "stream",
          "name": "stdout",
          "text": [
            "[3, 6, 6, 7, 7, 7, 2, 2, 2, 2]\n"
          ]
        }
      ]
    },
    {
      "cell_type": "markdown",
      "source": [
        "**recap**"
      ],
      "metadata": {
        "id": "daPqKtNUv8ib"
      }
    },
    {
      "cell_type": "code",
      "source": [
        "a=['apple','hi','hey','students','hello']\n",
        "a.sort()\n",
        "print(a)\n",
        "a.sort(key=len)\n",
        "print(a)"
      ],
      "metadata": {
        "colab": {
          "base_uri": "https://localhost:8080/"
        },
        "id": "Yt6LjNvqv9BQ",
        "outputId": "7165e6b9-fbbf-4ec4-aa84-ba20f7bc2023"
      },
      "execution_count": null,
      "outputs": [
        {
          "output_type": "stream",
          "name": "stdout",
          "text": [
            "['apple', 'hello', 'hey', 'hi', 'students']\n",
            "['hi', 'hey', 'apple', 'hello', 'students']\n"
          ]
        }
      ]
    },
    {
      "cell_type": "code",
      "source": [
        "def qwe(x):\n",
        "  return x[1]\n",
        "  # return x[0]+x[1]\n",
        "a=[[3,9],[4,2],[10,1],[5,7],[3,8]]\n",
        "a.sort()\n",
        "print(a)\n",
        "a.sort(key=qwe)\n",
        "print(a)"
      ],
      "metadata": {
        "colab": {
          "base_uri": "https://localhost:8080/"
        },
        "id": "CG5nbuJBwMm_",
        "outputId": "8069680a-e83e-48ed-9a67-54429f6f67e5"
      },
      "execution_count": null,
      "outputs": [
        {
          "output_type": "stream",
          "name": "stdout",
          "text": [
            "[[3, 8], [3, 9], [4, 2], [5, 7], [10, 1]]\n",
            "[[10, 1], [4, 2], [5, 7], [3, 8], [3, 9]]\n"
          ]
        }
      ]
    },
    {
      "cell_type": "code",
      "source": [
        "def qwe(x):                              #prime number\n",
        "  for i in x:\n",
        "    for j in range(2,int(i**0.5)+1):\n",
        "      if(i%j==0):\n",
        "        break\n",
        "    else:\n",
        "      return i\n",
        "  return 0\n",
        "  # return x[1]\n",
        "  # return x[0]+x[1]\n",
        "a=[[3,9],[4,2],[10,1],[5,7],[3,8]]\n",
        "a.sort(key=qwe)\n",
        "print(a)\n",
        "a.sort(key=qwe,reverse=True)    #reverse\n",
        "print(a)"
      ],
      "metadata": {
        "colab": {
          "base_uri": "https://localhost:8080/"
        },
        "id": "5pgf45x-x2RG",
        "outputId": "5c6ea859-4503-4a59-99e5-6f3335bea95f"
      },
      "execution_count": null,
      "outputs": [
        {
          "output_type": "stream",
          "name": "stdout",
          "text": [
            "[[10, 1], [4, 2], [3, 9], [3, 8], [5, 7]]\n",
            "[[5, 7], [3, 9], [3, 8], [4, 2], [10, 1]]\n"
          ]
        }
      ]
    },
    {
      "cell_type": "markdown",
      "source": [
        "#19/05/25             ----------DAY-07  ---------monday\n",
        "\n",
        "(2 sorted lists ,make it into 1 sorted list, ---merge_sort, ---find the Kth largest elements from the unsorted list, ---find the number of freq is > than (n/2) ,---index of last occerence of the element, ---)\n"
      ],
      "metadata": {
        "id": "DOeEVx_qqBnQ"
      }
    },
    {
      "cell_type": "markdown",
      "source": [
        "--------------------------------------------\n",
        "\n",
        "there are 2 sorted lists ,make it into 1 sorted list          \n",
        "input a=[2,4,5,8,9]                          \n",
        "      b=[3,5,6,9,11,12,13]             \n",
        "\n",
        " output  [2,3,4,5,5,6,8,9,11,12,13]           "
      ],
      "metadata": {
        "id": "uYpnXBtcqZh3"
      }
    },
    {
      "cell_type": "code",
      "source": [
        "# there are 2 sorted lists ,make it into 1 sorted list\n",
        "# input a=[2,4,5,8,9]\n",
        "#       b=[3,5,6,9,11,12,13]\n",
        "\n",
        "# output  [2,3,4,5,5,6,8,9,11,12,13]\n",
        "\n",
        "a=[2,4,5,8,9]\n",
        "b=[3,5,6,9,11,12,13]           # i did using sort()\n",
        "c=[]\n",
        "for i in a:\n",
        "    c.append(i)\n",
        "for i in b:\n",
        "    c.append(i)\n",
        "c.sort()\n",
        "print(c)"
      ],
      "metadata": {
        "colab": {
          "base_uri": "https://localhost:8080/"
        },
        "id": "cUSAEVESqaBG",
        "outputId": "c49b9f83-0140-4460-8f6d-b27812937bff"
      },
      "execution_count": null,
      "outputs": [
        {
          "output_type": "stream",
          "name": "stdout",
          "text": [
            "[2, 3, 4, 5, 5, 6, 8, 9, 9, 11, 12, 13]\n"
          ]
        }
      ]
    },
    {
      "cell_type": "code",
      "source": [
        "                                                                   # sir code    #correct code\n",
        "a=[2,4,5,8,9]\n",
        "b=[3,5,6,9,11,12,13]\n",
        "c=[]\n",
        "i=j=0\n",
        "while(i<len(a) and j<len(b)):\n",
        "  if(a[i]<b[j]):\n",
        "    c.append(a[i])\n",
        "    i+=1\n",
        "  else:\n",
        "    c.append(b[j])\n",
        "    j+=1\n",
        "# print(c)   still some nubers are not comming\n",
        "while(j<len(b)):      #use in this case for the above question\n",
        "  c.append(b[j])\n",
        "  j+=1\n",
        "while(i<len(a)):     #comes into play  # used in this case if  #a=[2,4,5,8,9,17]\n",
        "  c.append(a[i])\n",
        "  i+=1\n",
        "print(c)"
      ],
      "metadata": {
        "colab": {
          "base_uri": "https://localhost:8080/"
        },
        "id": "6g8TPcElykyw",
        "outputId": "8740cb22-4cf5-41a9-e468-37885725c824"
      },
      "execution_count": null,
      "outputs": [
        {
          "output_type": "stream",
          "name": "stdout",
          "text": [
            "[2, 3, 4, 5, 5, 6, 8, 9, 9, 11, 12, 13]\n"
          ]
        }
      ]
    },
    {
      "cell_type": "markdown",
      "source": [
        "**merge_sort**"
      ],
      "metadata": {
        "id": "KTTGY9ZW8pwo"
      }
    },
    {
      "cell_type": "code",
      "source": [
        "#-------merge_sort---------------\n",
        "def merge_sort(x):\n",
        "  if(len(x)==1):\n",
        "    return x\n",
        "  m=len(x)//2\n",
        "  l=merge_sort(x[ :m])\n",
        "  r=merge_sort(x[m: ])\n",
        "  return merge(l,r)\n",
        "def merge(l,r):\n",
        "  i=j=0\n",
        "  c=[]\n",
        "  while (i<len(l) and j<len(r)):\n",
        "    if (l[i]<r[j]):\n",
        "      c.append(l[i])\n",
        "      i=i+1\n",
        "    else:\n",
        "      c.append(r[j])\n",
        "      j=j+1\n",
        "  while(i<len(l)):\n",
        "    c.append(l[i])\n",
        "    i=i+1\n",
        "  while(j<len(r)):\n",
        "    c.append(r[j])\n",
        "    j=j+1\n",
        "\n",
        "  return c\n",
        "\n",
        "x=[16,8,12,3,7,5,1,12]\n",
        "print(merge_sort(x))"
      ],
      "metadata": {
        "colab": {
          "base_uri": "https://localhost:8080/"
        },
        "id": "sudumr6Bxp7_",
        "outputId": "d9780a71-19ad-47dc-f385-81210097619c"
      },
      "execution_count": null,
      "outputs": [
        {
          "output_type": "stream",
          "name": "stdout",
          "text": [
            "[1, 3, 5, 7, 8, 12, 12, 16]\n"
          ]
        }
      ]
    },
    {
      "cell_type": "markdown",
      "source": [
        "find the Kth largest elements from the unsorted list"
      ],
      "metadata": {
        "id": "jym2Djc5ABmm"
      }
    },
    {
      "cell_type": "code",
      "source": [
        "#find the Kth largest elements from the unsorted list\n",
        "\n",
        "# a=[2,13,4,2,9,9,5,8,7,13,3]\n",
        "# k=3\n",
        "# x=list(set(a))\n",
        "# print(x)\n",
        "# print(x[-k])\n",
        "\n",
        "a=[3,6,13,8,5,4,7,13,8,2,7]\n",
        "k=3\n",
        "b=[0 for i in range(max(a)+1)]\n",
        "print(b)\n",
        "for i in a:\n",
        "  b[i]=1\n",
        "  # print(b)\n",
        "for i in range(len(b)-1,-1,-1):\n",
        "  if(b[i]==1):\n",
        "    k=k-1\n",
        "  if(k==0):\n",
        "    print(i)\n",
        "    break\n",
        "\n"
      ],
      "metadata": {
        "colab": {
          "base_uri": "https://localhost:8080/"
        },
        "id": "sQaQ_k4k_A3Y",
        "outputId": "c3bb6c5c-dea2-456a-e93f-f75618b91e48"
      },
      "execution_count": null,
      "outputs": [
        {
          "output_type": "stream",
          "name": "stdout",
          "text": [
            "[0, 0, 0, 0, 0, 0, 0, 0, 0, 0, 0, 0, 0, 0]\n",
            "7\n"
          ]
        }
      ]
    },
    {
      "cell_type": "code",
      "source": [
        "a=[3,6,13,8,5,4,7,13,8,2,7]\n",
        "k=3\n",
        "b=[0 for i in range(max(a)+1)]\n",
        "print(b)\n",
        "for i in a:\n",
        "  b[i]+=1\n",
        "print(b)\n",
        "for i in range(len(b)-1,-1,-1):\n",
        "  if(b[i]!=1):\n",
        "    k=k-b[i]\n",
        "  if(k<=0):\n",
        "    print(i)        #op=8\n",
        "    break"
      ],
      "metadata": {
        "colab": {
          "base_uri": "https://localhost:8080/"
        },
        "id": "JU2LCmXoMJgU",
        "outputId": "4874acfc-8be8-461f-bdc8-dd8f71862ab3"
      },
      "execution_count": null,
      "outputs": [
        {
          "output_type": "stream",
          "name": "stdout",
          "text": [
            "[0, 0, 0, 0, 0, 0, 0, 0, 0, 0, 0, 0, 0, 0]\n",
            "[0, 0, 1, 1, 1, 1, 1, 2, 2, 0, 0, 0, 0, 2]\n",
            "8\n"
          ]
        }
      ]
    },
    {
      "cell_type": "code",
      "source": [
        "# find the number which has highest of frequency , list has lot of dublicates\n",
        "\n",
        "# from collections import Counter\n",
        "# a=[2,13,4,2,9,9,5,8,7,13,3,9]\n",
        "# d=dict(Counter(a))\n",
        "# print(d)\n",
        "# for k,v in d.items():\n",
        "#   max(d.values())\n",
        "# print()\n",
        "\n",
        "\n",
        "a=[3,6,13,8,5,4,7,8,8,13,8,2,7]\n",
        "d={}\n",
        "for i in a:\n",
        "  if(i not in d):\n",
        "    d[i]=1\n",
        "  else:\n",
        "    d[i]+=1\n",
        "print(d)\n",
        "m=0\n",
        "for i,j in d.items():\n",
        "  if(j>m):\n",
        "    m=j\n",
        "    res=i\n",
        "print(res)      #printing the largest frequesn"
      ],
      "metadata": {
        "colab": {
          "base_uri": "https://localhost:8080/"
        },
        "id": "H-7O7UkED9bk",
        "outputId": "443daf3d-c392-4126-d1b7-dbc3fbdbd066"
      },
      "execution_count": null,
      "outputs": [
        {
          "output_type": "stream",
          "name": "stdout",
          "text": [
            "{3: 1, 6: 1, 13: 2, 8: 4, 5: 1, 4: 1, 7: 2, 2: 1}\n",
            "8\n"
          ]
        }
      ]
    },
    {
      "cell_type": "code",
      "source": [
        "# find the kth largest for the freeq\n",
        "a=[3,6,4,5,3,4,2,3,6,7,8,8,7,6,7,7,1,1,1]\n",
        "freq = {}\n",
        "k=3\n",
        "for i in a:\n",
        "    if i not in freq:\n",
        "        freq[i] = 1\n",
        "    else:\n",
        "        freq[i] += 1\n",
        "print(freq)\n",
        "m=max(freq.values())\n",
        "# print(m)\n",
        "b=[0 for i in range(m+1)]\n",
        "for i in freq:\n",
        "    b[freq[i]]=i\n",
        "    print(b)\n",
        "print(b[-k])\n"
      ],
      "metadata": {
        "colab": {
          "base_uri": "https://localhost:8080/"
        },
        "id": "Dku4y9I5NX_r",
        "outputId": "906fc733-da84-4a7b-9c33-e27095f7337d"
      },
      "execution_count": null,
      "outputs": [
        {
          "output_type": "stream",
          "name": "stdout",
          "text": [
            "{3: 3, 6: 3, 4: 2, 5: 1, 2: 1, 7: 4, 8: 2, 1: 3}\n",
            "[0, 0, 0, 3, 0]\n",
            "[0, 0, 0, 6, 0]\n",
            "[0, 0, 4, 6, 0]\n",
            "[0, 5, 4, 6, 0]\n",
            "[0, 2, 4, 6, 0]\n",
            "[0, 2, 4, 6, 7]\n",
            "[0, 2, 8, 6, 7]\n",
            "[0, 2, 8, 1, 7]\n",
            "8\n"
          ]
        }
      ]
    },
    {
      "cell_type": "code",
      "source": [
        "from collections import Counter\n",
        "a=[2,13,4,2,9,9,5,8,7,13,3,9]\n",
        "d=dict(Counter(a))\n",
        "print(d)\n",
        "a=max(d.values())\n",
        "print(a)\n",
        "b=[[] for _ in range(a+1)]\n",
        "for k,v in d.items():\n",
        "  b[v].append(k)                                #should edit nagani\n",
        "  # print(b)\n",
        "c=[]\n",
        "for i in range(len(b)):\n",
        "  for j in b[i]:\n",
        "    c.extend([j])\n",
        "print(c,b)"
      ],
      "metadata": {
        "colab": {
          "base_uri": "https://localhost:8080/"
        },
        "id": "8oX-cexkOzZ4",
        "outputId": "26f3449e-ae01-4356-c399-79328ba62c13"
      },
      "execution_count": null,
      "outputs": [
        {
          "output_type": "stream",
          "name": "stdout",
          "text": [
            "{2: 2, 13: 2, 4: 1, 9: 3, 5: 1, 8: 1, 7: 1, 3: 1}\n",
            "3\n",
            "[4, 5, 8, 7, 3, 2, 13, 9] [[], [4, 5, 8, 7, 3], [2, 13], [9]]\n"
          ]
        }
      ]
    },
    {
      "cell_type": "code",
      "source": [
        "from collections import Counter          # edited\n",
        "\n",
        "a = [2, 13, 4, 2, 9, 9, 5, 8, 7, 13, 3, 9]\n",
        "\n",
        "# Step 1: Count frequencies\n",
        "d = dict(Counter(a))\n",
        "print(\"Frequencies:\", d)\n",
        "\n",
        "# Step 2: Get the maximum frequency\n",
        "max_freq = max(d.values())\n",
        "\n",
        "# Step 3: Create buckets where index = frequency\n",
        "buckets = [[] for _ in range(max_freq + 1)]\n",
        "for key, freq in d.items():\n",
        "    buckets[freq].append(key)\n",
        "\n",
        "# Step 4: Flatten the bucket list\n",
        "result = []\n",
        "for i in range(1, len(buckets)):  # Skip index 0 (no frequency 0)\n",
        "    for num in buckets[i]:\n",
        "        result.extend([num] * i)  # Repeat the number based on its frequency\n",
        "\n",
        "print(\"Final result:\", result)\n",
        "print(\"Buckets:\", buckets)\n"
      ],
      "metadata": {
        "colab": {
          "base_uri": "https://localhost:8080/"
        },
        "id": "3_NJPw1zSICJ",
        "outputId": "805a7a7c-d2ee-48fd-c782-0d211752b386"
      },
      "execution_count": null,
      "outputs": [
        {
          "output_type": "stream",
          "name": "stdout",
          "text": [
            "Frequencies: {2: 2, 13: 2, 4: 1, 9: 3, 5: 1, 8: 1, 7: 1, 3: 1}\n",
            "Final result: [4, 5, 8, 7, 3, 2, 2, 13, 13, 9, 9, 9]\n",
            "Buckets: [[], [4, 5, 8, 7, 3], [2, 13], [9]]\n"
          ]
        }
      ]
    },
    {
      "cell_type": "markdown",
      "source": [
        "**majority  algoritham ----or----moors algo**\n",
        "  \n",
        "\n",
        "find the number of freq is > than (n/2)        \n",
        "a=[2,1,1,2,3,1,1]                        \n",
        "7/2=3.5 ---------  so,1s freq is more then n/2             \n",
        "op=1     \n"
      ],
      "metadata": {
        "id": "9R8QrayESh89"
      }
    },
    {
      "cell_type": "code",
      "source": [
        "# find the number of freq is > than (n/2)                       #majority  algo  or moors voting algo\n",
        "# a=[2,1,1,2,3,1,1]\n",
        "# 7/2=3.5   so,1s freq is more then n/2\n",
        "# op=1\n",
        "\n",
        "from collections import Counter            #my\n",
        "a=[3,3,3,2,7,3]\n",
        "# a=[2,1,1,2,3,1,1]                         #used dict\n",
        "d=dict(Counter(a))\n",
        "print(d)\n",
        "for k,v in d.items():\n",
        "  if(v>len(a)//2):\n",
        "    print(k)\n"
      ],
      "metadata": {
        "colab": {
          "base_uri": "https://localhost:8080/"
        },
        "id": "8bDYeKueSiZs",
        "outputId": "c9e58e81-2953-43a5-990e-6e549a87e9c2"
      },
      "execution_count": null,
      "outputs": [
        {
          "output_type": "stream",
          "name": "stdout",
          "text": [
            "{3: 4, 2: 1, 7: 1}\n",
            "3\n"
          ]
        }
      ]
    },
    {
      "cell_type": "markdown",
      "source": [
        "afternoon"
      ],
      "metadata": {
        "id": "FnUuPNLemZ3g"
      }
    },
    {
      "cell_type": "code",
      "source": [
        "a=[2,1,3,1,1,1,3]                     #sir said      #without dict\n",
        "c=1                                   #t= O(n)   s= O(1)\n",
        "res=a[0]\n",
        "for i in range(1,len(a)):\n",
        "  if(res==a[i]):\n",
        "    c=c+1\n",
        "  else:\n",
        "    c=c-1\n",
        "    if(c==0):\n",
        "      res=a[i]\n",
        "      c=1\n",
        "print(res)\n"
      ],
      "metadata": {
        "id": "WC5grtwzUfxy",
        "colab": {
          "base_uri": "https://localhost:8080/"
        },
        "outputId": "c6e09ed7-af68-4776-8ef8-9141ecc4e180"
      },
      "execution_count": null,
      "outputs": [
        {
          "output_type": "stream",
          "name": "stdout",
          "text": [
            "1\n"
          ]
        }
      ]
    },
    {
      "cell_type": "markdown",
      "source": [
        "**sreaching**"
      ],
      "metadata": {
        "id": "k0yzw3G4qGDs"
      }
    },
    {
      "cell_type": "markdown",
      "source": [
        "print the index of last occerence of the element               \n",
        "a=[2,4,3,1,4,2,3,4,5]      \n",
        "x=4                \n",
        "if not found -1                 \n",
        "if found print the index of last occerence of the element         \n",
        "output is 7  "
      ],
      "metadata": {
        "id": "DD5i0dhFrjTP"
      }
    },
    {
      "cell_type": "code",
      "source": [
        "# print the index of last occerence of the element         #using       #linear search\n",
        "# a=[2,4,3,1,4,2,3,4,5]\n",
        "# x=4\n",
        "# if not found -1\n",
        "# if found print the index of last occerence of the element\n",
        "# output is 7\n",
        "\n",
        "\n",
        "a=[2,4,3,1,4,2,3,4,5]            #my\n",
        "x=4\n",
        "for i in range(len(a)):\n",
        "  if (a[i]==x):\n",
        "    res=i\n",
        "print(res)"
      ],
      "metadata": {
        "colab": {
          "base_uri": "https://localhost:8080/"
        },
        "id": "uYOracSKqbGv",
        "outputId": "18a8a194-c7f9-4ee4-8141-46239758d9b6"
      },
      "execution_count": null,
      "outputs": [
        {
          "output_type": "stream",
          "name": "stdout",
          "text": [
            "7\n"
          ]
        }
      ]
    },
    {
      "cell_type": "code",
      "source": [
        "# print the index of last occerence of the element         #using\n",
        "\n",
        "# a=[2,3,5,6,7,7,8,9,10,10,10,13,15]                       #binary search\n",
        "# # m=(l+r)/2\n",
        "# x=9\n",
        "# l=0\n",
        "# r=len(a)-1\n",
        "# while (l<=r):                               #basic code of binary\n",
        "#   m=(l+r)//2\n",
        "#   if(a[m]==x):\n",
        "#     print(\"found\")\n",
        "#     break\n",
        "#   elif(x<a[m]):\n",
        "#     r=m-1\n",
        "#   elif(x>a[m]):\n",
        "#     l=m+1\n",
        "# else:\n",
        "#   print(\"not found\")             #output=found\n",
        "\n",
        "#-----------------------------------------------------------------------------\n",
        "\n",
        "a=[2,4,3,1,4,2,3,4,5]                       #binary search\n",
        "x=3\n",
        "res=-1     #if not found print  -1\n",
        "l=0\n",
        "r=len(a)-1\n",
        "while (l<=r):                               #code of binary\n",
        "  m=(l+r)//2\n",
        "  if(a[m]==x):\n",
        "    res=m\n",
        "    l=m+1              #last index  m+1,front  index use m-1\n",
        "    # print(\"found\")\n",
        "    # break\n",
        "  elif(x<a[m]):\n",
        "    r=m-1\n",
        "  elif(x>a[m]):\n",
        "    l=m+1\n",
        "\n",
        "print(res)\n"
      ],
      "metadata": {
        "colab": {
          "base_uri": "https://localhost:8080/"
        },
        "id": "DE9k4_r3s_8G",
        "outputId": "4393f24b-06f9-4827-a455-1e9c3cfc215d"
      },
      "execution_count": null,
      "outputs": [
        {
          "output_type": "stream",
          "name": "stdout",
          "text": [
            "-1\n"
          ]
        }
      ]
    },
    {
      "cell_type": "code",
      "source": [
        "# last occrance\n",
        "\n",
        "def last_occurrence(arr, target):\n",
        "    low = 0\n",
        "    high = len(arr) - 1\n",
        "    result = -1\n",
        "\n",
        "    while low <= high:\n",
        "        mid = (low + high) // 2\n",
        "\n",
        "        if arr[mid] == target:\n",
        "            result = mid       # Store result and go right\n",
        "            low = mid + 1\n",
        "        elif arr[mid] < target:\n",
        "            low = mid + 1\n",
        "        else:\n",
        "            high = mid - 1\n",
        "\n",
        "    return result\n",
        "arr = [1, 2, 2, 2, 3, 4, 5]\n",
        "target = 2\n",
        "\n",
        "index = last_occurrence(arr, target)\n",
        "print(index)"
      ],
      "metadata": {
        "colab": {
          "base_uri": "https://localhost:8080/"
        },
        "id": "mPaS491pFYCf",
        "outputId": "aa5b7aff-78b9-4f5e-a6dd-69a81fdc4801"
      },
      "execution_count": null,
      "outputs": [
        {
          "output_type": "stream",
          "name": "stdout",
          "text": [
            "6\n"
          ]
        }
      ]
    },
    {
      "cell_type": "code",
      "source": [
        "# if element not found return at what index it should be plased in sorted list\n",
        "\n",
        "def binary_search(arr, target):\n",
        "    low = 0\n",
        "    high = len(arr) - 1\n",
        "\n",
        "    while low <= high:\n",
        "        mid = (low + high) // 2\n",
        "\n",
        "        if arr[mid] == target:\n",
        "            return mid  # Found at index mid\n",
        "        elif arr[mid] >= target:\n",
        "          high = mid - 1\n",
        "        else:\n",
        "          low = mid + 1\n",
        "\n",
        "\n",
        "    return low  # Not found\n",
        "arr = [1, 3, 5, 7, 9, 11, 13, 15]\n",
        "target = 12\n",
        "\n",
        "index = binary_search(arr, target)\n",
        "if index != -1:\n",
        "    print(f\"Element {target} found at index {index}\")\n",
        "else:\n",
        "  # for i in range(len(arr)):\n",
        "  #   if arr[i]>target:\n",
        "  #     ll=i\n",
        "  #     break\n",
        "  print(f\"Element should intert at index {index} because element not found\")"
      ],
      "metadata": {
        "colab": {
          "base_uri": "https://localhost:8080/"
        },
        "id": "IJ6q8kRBGP1B",
        "outputId": "afb4e13e-871f-4a9c-b12f-05d609a07460"
      },
      "execution_count": null,
      "outputs": [
        {
          "output_type": "stream",
          "name": "stdout",
          "text": [
            "Element 12 found at index 6\n"
          ]
        }
      ]
    },
    {
      "cell_type": "code",
      "source": [
        "## if element not found return at what index it should be plased in sorted list\n",
        "a=[2,3,5,6,7,7,9,10,10,10,13,15]          #index start from 1\n",
        "x=8\n",
        "l,r=0,len(a)-1\n",
        "f=-1\n",
        "while l<=r:\n",
        "    m=(l+r)//2\n",
        "    if a[m]==x:\n",
        "        f=m\n",
        "        l=m+1\n",
        "    elif x>a[m]:\n",
        "        l=m+1\n",
        "    elif x<a[m]:\n",
        "        r=m-1\n",
        "f=l                 #f=l-1   if u use     index start from 0\n",
        "print(f)"
      ],
      "metadata": {
        "colab": {
          "base_uri": "https://localhost:8080/"
        },
        "id": "uHHGajQE5wuv",
        "outputId": "9f34e643-26a1-4507-ee85-15b17ed98b17"
      },
      "execution_count": null,
      "outputs": [
        {
          "output_type": "stream",
          "name": "stdout",
          "text": [
            "6\n"
          ]
        }
      ]
    },
    {
      "cell_type": "markdown",
      "source": [
        "leetcode 34,35,"
      ],
      "metadata": {
        "id": "vIBL2ZMI7mG7"
      }
    },
    {
      "cell_type": "code",
      "source": [
        "a=[2,2,7,10]   #exam\n",
        "b=[2,3]\n",
        "c=[]\n",
        "for i in a:\n",
        "    c.append(i)\n",
        "for i in b:\n",
        "    c.append(i)\n",
        "c.sort()\n",
        "print(c[:len(a)])\n",
        "print(c[len(a):])"
      ],
      "metadata": {
        "colab": {
          "base_uri": "https://localhost:8080/"
        },
        "id": "WdHZhf2fNpgw",
        "outputId": "8121d760-bc49-44ed-fed1-06213d898566"
      },
      "execution_count": null,
      "outputs": [
        {
          "output_type": "stream",
          "name": "stdout",
          "text": [
            "[2, 2, 2, 3]\n",
            "[7, 10]\n"
          ]
        }
      ]
    },
    {
      "cell_type": "code",
      "source": [
        "a=[2,2,7,10]           #exma\n",
        "b=[2,3]\n",
        "c=[]\n",
        "d=[]\n",
        "i=j=0\n",
        "while len(c)<len(a):\n",
        "  if(a[i]<b[j]):\n",
        "    c.append(a[i])\n",
        "    i+=1\n",
        "  else:\n",
        "    c.append(b[j])\n",
        "    j+=1\n",
        "print(c+d)\n",
        "while i<len(a):\n",
        "  d.append(a[i])\n",
        "  i+=1\n",
        "while j<len(b):\n",
        "  d.append(b[j])\n",
        "  j+=1\n",
        "print(d)"
      ],
      "metadata": {
        "colab": {
          "base_uri": "https://localhost:8080/"
        },
        "id": "mvLIngUx67Fv",
        "outputId": "d82aaeaa-a982-494e-eefd-f20f2709cde7"
      },
      "execution_count": null,
      "outputs": [
        {
          "output_type": "stream",
          "name": "stdout",
          "text": [
            "[2, 2, 2, 3]\n",
            "[7, 10]\n"
          ]
        }
      ]
    },
    {
      "cell_type": "markdown",
      "source": [
        "#20/05/25      -----       imp question      ---------DAY-08\n",
        "(square root of the num,----, find the index of the target---find the peak element, ***---IMP koko question, ---IMP Aggressive Cows***)"
      ],
      "metadata": {
        "id": "XhiJxeeGzvPn"
      }
    },
    {
      "cell_type": "code",
      "source": [
        "#find the square root of a number\n",
        "\n",
        "import math\n",
        "n=4\n",
        "print(f\"The square root of {n} is: {math.sqrt(n)}\")"
      ],
      "metadata": {
        "colab": {
          "base_uri": "https://localhost:8080/"
        },
        "id": "zDWkshvA0s8u",
        "outputId": "7a9660bd-dacb-4f4d-b2d5-9899991ad4b9"
      },
      "execution_count": null,
      "outputs": [
        {
          "output_type": "stream",
          "name": "stdout",
          "text": [
            "The square root of 4 is: 2.0\n"
          ]
        }
      ]
    },
    {
      "cell_type": "code",
      "source": [
        "# sir code              finding floor value\n",
        "n=38\n",
        "for i in range(1,n//2):           #O(n)\n",
        "  if(i*i==n):\n",
        "    print(i)\n",
        "    break\n",
        "  elif(i*i>n):\n",
        "    print(i-1)\n",
        "    break"
      ],
      "metadata": {
        "colab": {
          "base_uri": "https://localhost:8080/"
        },
        "id": "avrsb9_Z5hWp",
        "outputId": "d2470752-4db5-4152-88ac-b5dabba49edd"
      },
      "execution_count": null,
      "outputs": [
        {
          "output_type": "stream",
          "name": "stdout",
          "text": [
            "6\n"
          ]
        }
      ]
    },
    {
      "cell_type": "code",
      "source": [
        "# sir code using binary search\n",
        "\n",
        "# Using binary search for an integer square root (floor)\n",
        "\n",
        "n = int(input(\"Enter a number: \"))\n",
        "l=1\n",
        "r=n/2\n",
        "while l<=r:\n",
        "  mid = (l + r) //2\n",
        "  if mid * mid == n:\n",
        "    print(f\"The integer square root (floor) of {n} is: {mid}\")\n",
        "    break\n",
        "  elif mid * mid > n:\n",
        "    r = mid - 1\n",
        "  else:\n",
        "    l = mid + 1\n",
        "print(r)            #floor\n",
        "print(l)            #seal"
      ],
      "metadata": {
        "colab": {
          "base_uri": "https://localhost:8080/"
        },
        "id": "ZobR8XWh6XTN",
        "outputId": "3811cf8f-2749-48b9-e004-7bab96300908"
      },
      "execution_count": null,
      "outputs": [
        {
          "output_type": "stream",
          "name": "stdout",
          "text": [
            "Enter a number: 50\n",
            "7.0\n",
            "8.0\n"
          ]
        }
      ]
    },
    {
      "cell_type": "code",
      "source": [
        "# prompt: #find the square root of a number\n",
        "import math\n",
        "\n",
        "n = int(input(\"Enter a number: \"))\n",
        "# Using math.sqrt() for a precise floating-point result\n",
        "print(f\"The square root of {n} is: {math.sqrt(n)}\")\n",
        "\n",
        "# Using binary search for an integer square root (floor)\n",
        "l, r = 0, n\n",
        "ans = 0\n",
        "while l <= r:\n",
        "  mid = (l + r) // 2\n",
        "  if mid * mid == n:\n",
        "    ans = mid\n",
        "    break\n",
        "  elif mid * mid < n:\n",
        "    ans = mid\n",
        "    l = mid + 1\n",
        "  else:\n",
        "    r = mid - 1\n",
        "print(f\"The integer square root (floor) of {n} is: {ans}\")\n",
        "\n"
      ],
      "metadata": {
        "colab": {
          "base_uri": "https://localhost:8080/"
        },
        "id": "-Y0TMSxd1mQA",
        "outputId": "b2035f8f-5914-40bd-e4d7-cefc3c99da1b"
      },
      "execution_count": null,
      "outputs": [
        {
          "output_type": "stream",
          "name": "stdout",
          "text": [
            "Enter a number: 38\n",
            "The square root of 38 is: 6.164414002968976\n",
            "The integer square root (floor) of 38 is: 6\n"
          ]
        }
      ]
    },
    {
      "cell_type": "code",
      "source": [
        "#input find the how many rotation have happend  #sorted and rotated array\n",
        "\n",
        "a=[10,20,30,40,50,60,70,80,90,3,4,5,6]       #sir code  incomplete\n",
        "l=0\n",
        "r=len(a)-1\n",
        "while(l<r):\n",
        "  m=(l+r)//2\n",
        "  if(a[m]>a[r]):\n",
        "    l=m+1\n",
        "  else:\n",
        "    r=m\n",
        "print(l,a[l]) #printing the index and the element"
      ],
      "metadata": {
        "colab": {
          "base_uri": "https://localhost:8080/"
        },
        "id": "KZBwI6pASwx1",
        "outputId": "44bbc0ee-3f30-4c41-a5cc-2e8036d92d62"
      },
      "execution_count": null,
      "outputs": [
        {
          "output_type": "stream",
          "name": "stdout",
          "text": [
            "9 3\n"
          ]
        }
      ]
    },
    {
      "cell_type": "code",
      "source": [
        "\n",
        "#---------------------------------------------------\n",
        "#find the index of the target\n",
        "#search in rotated sorted array  #leetcode 33\n",
        "def search(nums,target):\n",
        "    l=0\n",
        "    h=len(nums)-1\n",
        "    while l<=h:\n",
        "        m=(l+h)//2\n",
        "        if nums[m]==target:\n",
        "            return m\n",
        "        if  nums[l]<=nums[m]:\n",
        "            if target>=nums[l] and target<=nums[m]:\n",
        "                h=m-1\n",
        "            else:\n",
        "                l=m+1\n",
        "        else:\n",
        "            if target>=nums[m] and target<=nums[h]:\n",
        "                l=m+1\n",
        "            else:\n",
        "                h=m-1\n",
        "    return -1\n",
        "a=[10,20,30,40,50,60,70,0,5,6,7,8,9]\n",
        "t=0\n",
        "print(search(a,t))"
      ],
      "metadata": {
        "colab": {
          "base_uri": "https://localhost:8080/"
        },
        "id": "tJUXGt3x-RfX",
        "outputId": "064b617a-ad47-4476-a9bb-d0cd3ab2e4ff"
      },
      "execution_count": null,
      "outputs": [
        {
          "output_type": "stream",
          "name": "stdout",
          "text": [
            "6\n"
          ]
        }
      ]
    },
    {
      "cell_type": "markdown",
      "source": [
        "find the peak element"
      ],
      "metadata": {
        "id": "ZyGuq3XdMNhp"
      }
    },
    {
      "cell_type": "code",
      "source": [
        "# find the peak element\n",
        "a=[2,3,4,6,3,2,1,5,8,10,1,4,2]       #sir code\n",
        "l=0\n",
        "r=len(a)-1\n",
        "while l<r:\n",
        "  m=(l+r)//2\n",
        "  if (m==0 or a[m]>a[m+1] and m==len(a)-1 or a[m]>a[m-1]):\n",
        "    print(a[m])\n",
        "    break\n",
        "  if(a[m+1]>a[m]):\n",
        "    l=m+1\n",
        "  else:\n",
        "    r=m-1\n",
        "\n",
        "# if(m==0 and a[m+1]<a[m]) or m=m-1\n",
        "\n",
        "# if(a[m]>a[m+1] and a[m] > a[m-1]):\n",
        "#   print(a[m])\n",
        "\n"
      ],
      "metadata": {
        "colab": {
          "base_uri": "https://localhost:8080/"
        },
        "id": "b9Y7tEinLB7y",
        "outputId": "a8ff5f8d-b423-4a6d-9825-eb19e34c0cc2"
      },
      "execution_count": null,
      "outputs": [
        {
          "output_type": "stream",
          "name": "stdout",
          "text": [
            "10\n"
          ]
        }
      ]
    },
    {
      "cell_type": "markdown",
      "source": [
        "***imp    question***"
      ],
      "metadata": {
        "id": "k7BLlO7AYIR-"
      }
    },
    {
      "cell_type": "markdown",
      "source": [
        "koko question # leetcode  875"
      ],
      "metadata": {
        "id": "q8QsMpnPZfQZ"
      }
    },
    {
      "cell_type": "code",
      "source": [
        "# sir code using binary search\n",
        "\n",
        "# Using binary search for an integer square root (ceill)\n",
        "\n",
        "a=[3,6,7,11]\n",
        "h=8\n",
        "k=4                  #1,2,3,4,5,6,7......      #find yes or no\n",
        "s=0\n",
        "for i in a:\n",
        "  s=s+math.ceil(i/k)\n",
        "  # print(s)\n",
        "  if(s>h):\n",
        "    print(\"not\")\n",
        "    break\n",
        "else:\n",
        "  print(\"yes possible \")"
      ],
      "metadata": {
        "colab": {
          "base_uri": "https://localhost:8080/"
        },
        "id": "ziazID0RYHlM",
        "outputId": "ef8e4a05-0f48-4e47-eae6-aa70385f5121"
      },
      "execution_count": null,
      "outputs": [
        {
          "output_type": "stream",
          "name": "stdout",
          "text": [
            "yes possible \n"
          ]
        }
      ]
    },
    {
      "cell_type": "code",
      "source": [
        "a=[3,6,7,11]                           #O(n*n)\n",
        "h=8\n",
        "k=4\n",
        "while(1):\n",
        "  s=0\n",
        "  for i in a:\n",
        "    s=s+math.ceil(i/k)\n",
        "    # print(s)\n",
        "    if(s>h):\n",
        "      k=k+1\n",
        "      # print(\"not\")\n",
        "      break\n",
        "  else:\n",
        "    print(k)\n",
        "    break\n",
        "    # print(\"yes possible\")"
      ],
      "metadata": {
        "colab": {
          "base_uri": "https://localhost:8080/"
        },
        "id": "Mv8gV8JIh5RH",
        "outputId": "5d272e42-f286-45f4-aa17-5cab8c2dbc8a"
      },
      "execution_count": null,
      "outputs": [
        {
          "output_type": "stream",
          "name": "stdout",
          "text": [
            "4\n"
          ]
        }
      ]
    },
    {
      "cell_type": "markdown",
      "source": [
        "afternoon"
      ],
      "metadata": {
        "id": "JlbiXx7BAFPh"
      }
    },
    {
      "cell_type": "code",
      "source": [
        "import math                             #final code of the question\n",
        "def possibleornot(piles, k, h):\n",
        "    s = 0\n",
        "    for i in piles:\n",
        "        s += math.ceil(i / k)\n",
        "        if s > h:\n",
        "            break\n",
        "    if s<=h:\n",
        "        return True\n",
        "    else:\n",
        "        return False\n",
        "def minEatingSpeed(piles, h):\n",
        "    l = 1\n",
        "    r = max(piles)\n",
        "    res = r\n",
        "    while l <= r:\n",
        "        m = (l + r) // 2\n",
        "        if possibleornot(piles, m, h):\n",
        "            res = m\n",
        "            r = m - 1\n",
        "        else:\n",
        "            l = m + 1\n",
        "    return res\n",
        "piles = [3, 5, 7, 11]\n",
        "hours = 8\n",
        "print(minEatingSpeed(piles, hours))"
      ],
      "metadata": {
        "colab": {
          "base_uri": "https://localhost:8080/"
        },
        "id": "ExQuhP_TxG3Q",
        "outputId": "da84f861-683f-48c4-f96a-8fe996a3a9f2"
      },
      "execution_count": null,
      "outputs": [
        {
          "output_type": "stream",
          "name": "stdout",
          "text": [
            "4\n"
          ]
        }
      ]
    },
    {
      "cell_type": "code",
      "source": [
        "class Solution:                        #leetcode code nagani\n",
        "    # def koko(self,n,h,k=1):\n",
        "    #     s=0\n",
        "    #     s=sum([math.ceil(i/k) for i in n])\n",
        "    #     if s>h:\n",
        "    #         k+=1\n",
        "    #         return self.koko(n,h,k)\n",
        "    #     elif s<=h:\n",
        "    #         return k\n",
        "    #     return koko(n,h)\n",
        "        # print(koko(n,h))\n",
        "\n",
        "\n",
        "\n",
        "        #method 2\n",
        "        def ispo(self,n,h,mid):\n",
        "            up=sum([math.ceil(i/mid) for i in n])\n",
        "            return up<=h\n",
        "        def minEatingSpeed(self, piles: List[int], h: int) -> int:\n",
        "            #method 1\n",
        "            # return self.koko(piles,h)\n",
        "\n",
        "\n",
        "            #method 2\n",
        "            l,r=1,max(piles)\n",
        "            while l<r:\n",
        "                mid = (l+r)//2\n",
        "\n",
        "                if(self.ispo(piles,h,mid)):\n",
        "                    r=mid\n",
        "                else:\n",
        "                    l=mid+1\n",
        "            return l"
      ],
      "metadata": {
        "id": "LYs3YYhw_rsv"
      },
      "execution_count": null,
      "outputs": []
    },
    {
      "cell_type": "code",
      "source": [
        "import math             #ai\n",
        "from typing import List\n",
        "\n",
        "class Solution:\n",
        "\n",
        "    # Method 1: Recursive approach (not optimal for large inputs, for understanding only)\n",
        "    def koko(self, piles, h, k=1):\n",
        "        hours = sum([math.ceil(i / k) for i in piles])\n",
        "        if hours > h:\n",
        "            return self.koko(piles, h, k + 1)\n",
        "        else:\n",
        "            return k\n",
        "\n",
        "    # Method 2: Binary Search approach (optimal)\n",
        "    def isPossible(self, piles, h, mid):\n",
        "        # Check if Koko can eat all bananas at speed = mid within h hours\n",
        "        total_hours = sum([math.ceil(pile / mid) for pile in piles])\n",
        "        return total_hours <= h\n",
        "\n",
        "    def minEatingSpeed(self, piles: List[int], h: int) -> int:\n",
        "        # Uncomment below line to use the recursive (brute-force) method\n",
        "        # return self.koko(piles, h)\n",
        "\n",
        "        # Binary search for optimal speed\n",
        "        left, right = 1, max(piles)\n",
        "        while left < right:\n",
        "            mid = (left + right) // 2\n",
        "            if self.isPossible(piles, h, mid):\n",
        "                right = mid\n",
        "            else:\n",
        "                left = mid + 1\n",
        "        return left\n",
        "\n",
        "# -----------------------------\n",
        "#Example usage:\n",
        "# -----------------------------\n",
        "if __name__ == \"__main__\":\n",
        "    sol = Solution()\n",
        "    piles = [3, 6, 7, 11]\n",
        "    h = 8\n",
        "    print(\"Minimum Eating Speed:\", sol.minEatingSpeed(piles, h))\n"
      ],
      "metadata": {
        "id": "hy-1zu9-zukL"
      },
      "execution_count": null,
      "outputs": []
    },
    {
      "cell_type": "markdown",
      "source": [
        "**Aggressive Cows**\n",
        "\n",
        "[question link](https://www.geeksforgeeks.org/problems/aggressive-cows/1)\n"
      ],
      "metadata": {
        "id": "sEJMcXuM_kIO"
      }
    },
    {
      "cell_type": "code",
      "source": [
        "a=[3,6,7,11]\n",
        "h=8\n",
        "k=4                  #1,2,3,4,5,6,7......      #find yes or no\n",
        "s=0\n",
        "for i in a:\n",
        "  s=s+math.ceil(i/k)\n",
        "  # print(s)\n",
        "  if(s>h):\n",
        "    print(\"not\")\n",
        "    break\n",
        "else:\n",
        "  print(\"yes possible \")"
      ],
      "metadata": {
        "colab": {
          "base_uri": "https://localhost:8080/"
        },
        "id": "htpCgPEtGfCJ",
        "outputId": "d83b990f-8410-42ab-d9c6-960f8edd4387"
      },
      "execution_count": null,
      "outputs": [
        {
          "output_type": "stream",
          "name": "stdout",
          "text": [
            "yes possible \n"
          ]
        }
      ]
    },
    {
      "cell_type": "code",
      "source": [
        "# firts lets try in linear search\n",
        "\n",
        "#k is numbers of cows\n",
        "#min distance between the cows is let 3 distance\n",
        "\n",
        "#find possible or not\n",
        "\n",
        "a=[1,2,5,7,10]\n",
        "k=3\n",
        "mini=1\n",
        "prev=a[0]\n",
        "k=k-1         #place one cow inthe first\n",
        "\n",
        "for i in a:\n",
        "  if(i-prev>=mini):\n",
        "    prev=i\n",
        "    k=k-1\n",
        "if(k==0):\n",
        "  print(f\"Is it possible to place cows with minimum distance {mini}\")\n",
        "else:\n",
        "  print(f\"Is it not possible to place cows with minimum distance {mini}\")\n",
        "\n"
      ],
      "metadata": {
        "colab": {
          "base_uri": "https://localhost:8080/"
        },
        "id": "_4KZUMsdABRa",
        "outputId": "0ebea6a4-b02c-4a2f-e08a-3634814846e1"
      },
      "execution_count": null,
      "outputs": [
        {
          "output_type": "stream",
          "name": "stdout",
          "text": [
            "Is it not possible to place cows with minimum distance 1\n"
          ]
        }
      ]
    },
    {
      "cell_type": "code",
      "source": [
        "a=[1,2,5,7,10]\n",
        "k=3\n",
        "mini=1\n",
        "prev=a[0]\n",
        "k=k-1         #place one cow inthe first\n",
        "\n",
        "for i in a:\n",
        "  if(i-prev>=mini):\n",
        "    prev=i\n",
        "    k=k-1\n",
        "if(k==0):\n",
        "  print(f\"Is it possible to place cows with minimum distance {mini}\")\n",
        "else:\n",
        "  print(f\"Is it not possible to place cows with minimum distance {mini}\")"
      ],
      "metadata": {
        "id": "lP32qpNKO636"
      },
      "execution_count": null,
      "outputs": []
    },
    {
      "cell_type": "code",
      "source": [
        "# firts lets try in linear search\n",
        "# #k is numbers of cows\n",
        "# #min distance between the cows is let 3 distance\n",
        "# #find possible or not\n",
        "# a=[1,2,5,7,10]\n",
        "# k=3\n",
        "# min=4\n",
        "\n",
        "def can_place_cows(stalls, k, min_dist):\n",
        "  \"\"\"\n",
        "  Checks if it's possible to place k cows in stalls such that the minimum\n",
        "  distance between any two cows is at least min_dist.\n",
        "\n",
        "  Args:\n",
        "    stalls: A sorted list of stall positions.\n",
        "    k: The number of cows to place.\n",
        "    min_dist: The minimum required distance between cows.\n",
        "\n",
        "  Returns:\n",
        "    True if it's possible to place the cows, False otherwise.\n",
        "  \"\"\"\n",
        "  last_cow_pos = stalls[0]\n",
        "  cows_placed = 1\n",
        "\n",
        "  for i in range(1, len(stalls)):\n",
        "    if stalls[i] - last_cow_pos >= min_dist:\n",
        "      cows_placed += 1\n",
        "      last_cow_pos = stalls[i]\n",
        "      if cows_placed == k:\n",
        "        return True\n",
        "  return False\n",
        "\n",
        "a = [1, 2, 5, 7, 10]\n",
        "k = 3\n",
        "min_dist = 4\n",
        "print(f\"Is it possible to place {k} cows with minimum distance {min_dist}? {can_place_cows(a, k, min_dist)}\")\n",
        "\n",
        "min_dist = 5\n",
        "print(f\"Is it possible to place {k} cows with minimum distance {min_dist}? {can_place_cows(a, k, min_dist)}\")\n"
      ],
      "metadata": {
        "colab": {
          "base_uri": "https://localhost:8080/"
        },
        "id": "9NBtYhEPHx0T",
        "outputId": "66d50379-ddca-4145-fe22-f3673dff1a66"
      },
      "execution_count": null,
      "outputs": [
        {
          "output_type": "stream",
          "name": "stdout",
          "text": [
            "Is it possible to place 3 cows with minimum distance 4? True\n",
            "Is it possible to place 3 cows with minimum distance 5? False\n"
          ]
        }
      ]
    },
    {
      "cell_type": "code",
      "source": [
        "# final code\n",
        "\n",
        "\n"
      ],
      "metadata": {
        "id": "tZsHfMS1RuZ7"
      },
      "execution_count": null,
      "outputs": []
    },
    {
      "cell_type": "code",
      "source": [
        "# AGGRESSIVE COWS         #jay\n",
        "\n",
        "n= [1, 2, 4, 8, 9]\n",
        "d=2\n",
        "cows=3\n",
        "k=1\n",
        "print(\"Places at\",n[0])\n",
        "for i in range(len(n)-1):\n",
        "  if n[i+1]-n[i]>=d:\n",
        "    print(\"Places at\",n[i+1])\n",
        "    k+=1\n",
        "if k>=cows:\n",
        "  print(\"Possible\")\n",
        "else:\n",
        "  print(\"unpossible\")"
      ],
      "metadata": {
        "colab": {
          "base_uri": "https://localhost:8080/"
        },
        "id": "-6HsrT-f35B2",
        "outputId": "bc304424-474f-4de1-bd3a-85098bd87501"
      },
      "execution_count": null,
      "outputs": [
        {
          "output_type": "stream",
          "name": "stdout",
          "text": [
            "Places at 1\n",
            "Places at 4\n",
            "Places at 8\n",
            "Possible\n"
          ]
        }
      ]
    },
    {
      "cell_type": "code",
      "source": [
        "# Question: Aggressive Cows Problem\n",
        "\n",
        "# #  Problem Statement:\n",
        "# # You are given an array of n stall positions in a barn (in sorted or unsorted order) and a number k,\n",
        "#  which represents the number of cows you want to place in those stalls. You need to place the cows in such a way\n",
        "#  that the minimum distance between any two of them is as large as possible.\n",
        "# # Return the maximum minimum distance between the cows.\n",
        "\n",
        "n, k = map(int, input().split())                 #5 3\n",
        "arr = list(map(int, input().split()))            #1 2 8 4 9\n",
        "arr.sort()\n",
        "low = 1\n",
        "high = arr[-1] - arr[0]\n",
        "res = 0\n",
        "while low <= high:\n",
        "    mid = (low + high) // 2\n",
        "    count = 1\n",
        "    last_pos = arr[0]\n",
        "    for i in range(1, n):\n",
        "        if arr[i] - last_pos >= mid:\n",
        "            count += 1\n",
        "            last_pos = arr[i]\n",
        "    if count >= k:\n",
        "        res = mid\n",
        "        low = mid + 1\n",
        "    else:\n",
        "        high = mid - 1\n",
        "print(res)                        #op=3\n",
        "\n",
        "#  Input:\n",
        "# First line contains two integers n and k — the number of stalls and number of cows.\n",
        "# Second line contains n integers — the positions of the stalls.\n",
        "\n",
        "# Explanation:\n",
        "# You can place the cows at positions: 1, 4, 8 (or 1, 4, 9), so the minimum distance between any two cows is 3, which is the maximum possible in this case."
      ],
      "metadata": {
        "colab": {
          "base_uri": "https://localhost:8080/"
        },
        "id": "d4xIY-253nbJ",
        "outputId": "66ab4148-8174-4544-8095-4668ab9025fa"
      },
      "execution_count": null,
      "outputs": [
        {
          "output_type": "stream",
          "name": "stdout",
          "text": [
            "5 3\n",
            "1 2 8 4 9\n",
            "3\n"
          ]
        }
      ]
    },
    {
      "cell_type": "code",
      "source": [
        "# 1Q is selection_sort            #exam\n",
        "# 2Q this\n",
        "\n",
        "def relsort(a1,a2):         #exam\n",
        "    c=[]\n",
        "    c2=[]\n",
        "    for i in range(len(a2)):\n",
        "        for j in range(len(a1)):\n",
        "            if a2[i]==a1[j]:\n",
        "                c.append(a1[j])\n",
        "    for k in a1:\n",
        "        if k not in c:\n",
        "            c2.append(k)\n",
        "    c2.sort()\n",
        "    for i in c2:\n",
        "        c.append(i)\n",
        "    return c\n",
        "a1=list(map(int,input().split()))\n",
        "a2=list(map(int,input().split()))\n",
        "print(relsort(a1,a2))\n",
        "\n",
        "\n",
        "# 2 3 1 3 2 4 6 7 9 2 19\n",
        "# 2 1 4 3 9 6\n",
        "\n",
        "\n",
        "\n",
        "\n",
        "\n",
        "# or\n",
        "\n",
        "# from collections import Counter\n",
        "\n",
        "# # Input two arrays\n",
        "# a = list(map(int, input(\"Enter arr1: \").split()))\n",
        "# b = list(map(int, input(\"Enter arr2: \").split()))\n",
        "\n",
        "# # Count occurrences of elements in a\n",
        "# count = Counter(a)\n",
        "\n",
        "# # Result array\n",
        "# c = []\n",
        "\n",
        "# # First, add elements in the order of b\n",
        "# for num in b:\n",
        "#     if num in count:\n",
        "#         c.extend([num] * count[num])\n",
        "#         del count[num]\n",
        "\n",
        "# # Then add remaining elements in sorted order\n",
        "# remaining = sorted(count.elements())\n",
        "# c.extend(remaining)\n",
        "\n",
        "# # Output result\n",
        "# print(c)\n"
      ],
      "metadata": {
        "colab": {
          "base_uri": "https://localhost:8080/"
        },
        "id": "LFDQB06BUi1N",
        "outputId": "96cf6295-ed1d-4a7d-91a0-ed138e942273"
      },
      "execution_count": null,
      "outputs": [
        {
          "output_type": "stream",
          "name": "stdout",
          "text": [
            "2 3 1 3 2 4 6 7 9 2 19\n",
            "2 1 4 3 9 6\n",
            "[2, 2, 2, 1, 4, 3, 3, 9, 6, 7, 19]\n"
          ]
        }
      ]
    },
    {
      "cell_type": "markdown",
      "source": [
        "#21/05/25   ---------    DAY---9\n",
        "\n",
        "(search the element form the matrix,--- using binary search , ---Capacity To Ship Packages Within D Days,---find the element from 4x5 matrix,---2 poiters ,----3 SUM ,---Sort Colors,---Remove Element)"
      ],
      "metadata": {
        "id": "OLuBiLmQ9NTK"
      }
    },
    {
      "cell_type": "code",
      "source": [
        "#search the element in the given 2d matrix\n",
        "\n",
        "a=[[1,2,3],[4,5,6],[7,8,9]]\n",
        "x=11\n",
        "n=3\n",
        "f=0\n",
        "for i in range(n):\n",
        "  for j in range(n):\n",
        "    if a[i][j]==x:\n",
        "      print(f\"Element {x} found at row {i} and column {j}\")\n",
        "      f=1\n",
        "      break\n",
        "  if f==1:\n",
        "    break\n",
        "if f==0:\n",
        "  print(f\"Element {x} not found in the matrix\")\n",
        "\n",
        "\n"
      ],
      "metadata": {
        "colab": {
          "base_uri": "https://localhost:8080/"
        },
        "id": "0Gk52f_a9dyZ",
        "outputId": "f51e15c6-b75e-4666-aa6f-2e607077ea7c"
      },
      "execution_count": null,
      "outputs": [
        {
          "output_type": "stream",
          "name": "stdout",
          "text": [
            "Element 11 not found in the matrix\n"
          ]
        }
      ]
    },
    {
      "cell_type": "code",
      "source": [
        "a=[[1,2,3],[4,5,6],[7,8,9]]                      # O(m * n)\n",
        "x=8\n",
        "for i in range(len(a)):\n",
        "  for j in range(len(a[0])):\n",
        "    if a[i][j]==x:\n",
        "      print(f\"Element {x} found at row {i} and column {j}\")\n",
        "      break\n",
        "  else:\n",
        "    continue\n",
        "  break\n",
        "else:\n",
        "  print(f\"Element {x} not found in the matrix\")"
      ],
      "metadata": {
        "colab": {
          "base_uri": "https://localhost:8080/"
        },
        "id": "KIW2_TwSAQdh",
        "outputId": "070cf164-ae23-4c49-8d5f-00a6093a567d"
      },
      "execution_count": null,
      "outputs": [
        {
          "output_type": "stream",
          "name": "stdout",
          "text": [
            "Element 8 found at row 2 and column 1\n"
          ]
        }
      ]
    },
    {
      "cell_type": "markdown",
      "source": [
        "same but another question\n"
      ],
      "metadata": {
        "id": "07p0uIdSGS9O"
      }
    },
    {
      "cell_type": "code",
      "source": [
        "# a=[[2,3,7,8],[9,15,20,22],[23,26,35,37],[38,39,42,43]]        #leet code 74\n",
        "# x=23\n",
        "\n",
        "a=[[2,5,8,10],[13,15,17,22],[23,26,28,33]]     #sir code\n",
        "n=3\n",
        "m=4\n",
        "x=17\n",
        "l=0\n",
        "r=(n*m)-1\n",
        "while l<=r:\n",
        "  mid=(l+r)//2\n",
        "  if a[mid//m][mid%m]==x:\n",
        "    print(f\"Element {x} found at row {mid//m} and column {mid%m}\")\n",
        "    break\n",
        "  elif (x<a[mid//m][mid%m]):\n",
        "    r=mid-1\n",
        "  else:\n",
        "    l=mid+1\n",
        "else:\n",
        "  print(f\"Element {x} not found in the matrix\")\n"
      ],
      "metadata": {
        "colab": {
          "base_uri": "https://localhost:8080/"
        },
        "id": "_11KBP3ECROR",
        "outputId": "937436c6-9af4-4190-b4d4-1e7f327fa372"
      },
      "execution_count": null,
      "outputs": [
        {
          "output_type": "stream",
          "name": "stdout",
          "text": [
            "Element 17 found at row 1 and column 2\n"
          ]
        }
      ]
    },
    {
      "cell_type": "code",
      "source": [
        "def binary(arr,x):               #(n+logm)\n",
        "  l=0\n",
        "  r=len(arr)-1\n",
        "  while(l<=r):\n",
        "    m=(l+r)//2\n",
        "    if(arr[m]==x):\n",
        "      return l\n",
        "    elif(arr[m]>x):\n",
        "      r=m-1\n",
        "    else:\n",
        "      l=m+1\n",
        "  return 0\n",
        "\n",
        "\n",
        "a=[[2,3,7,8],[9,15,20,22],[23,26,35,37],[38,39,42,43]]\n",
        "for i in a:\n",
        "  f=1\n",
        "  if (a[0]<=x and a[-1]>=x):\n",
        "    if(binary(i,x)):\n",
        "      f=0\n",
        "      print(f\"Element {x} found at row {a.index(row)} and column {col_index}\")          #from here u should edit\n",
        "      found = True\n",
        "      break\n",
        "  else:\n",
        "    print(\"not fount\")\n",
        "# if not found:\n",
        "#   print(f\"Element {x} not found in the matrix\")"
      ],
      "metadata": {
        "colab": {
          "base_uri": "https://localhost:8080/",
          "height": 211
        },
        "id": "LHXvmwaaGbe7",
        "outputId": "00ccdd73-7876-4e3c-ea76-befd38f1d5bc"
      },
      "execution_count": null,
      "outputs": [
        {
          "output_type": "error",
          "ename": "TypeError",
          "evalue": "'<=' not supported between instances of 'list' and 'int'",
          "traceback": [
            "\u001b[0;31m---------------------------------------------------------------------------\u001b[0m",
            "\u001b[0;31mTypeError\u001b[0m                                 Traceback (most recent call last)",
            "\u001b[0;32m<ipython-input-25-93b15c78adc2>\u001b[0m in \u001b[0;36m<cell line: 0>\u001b[0;34m()\u001b[0m\n\u001b[1;32m     16\u001b[0m \u001b[0;32mfor\u001b[0m \u001b[0mi\u001b[0m \u001b[0;32min\u001b[0m \u001b[0ma\u001b[0m\u001b[0;34m:\u001b[0m\u001b[0;34m\u001b[0m\u001b[0;34m\u001b[0m\u001b[0m\n\u001b[1;32m     17\u001b[0m   \u001b[0mf\u001b[0m\u001b[0;34m=\u001b[0m\u001b[0;36m1\u001b[0m\u001b[0;34m\u001b[0m\u001b[0;34m\u001b[0m\u001b[0m\n\u001b[0;32m---> 18\u001b[0;31m   \u001b[0;32mif\u001b[0m \u001b[0;34m(\u001b[0m\u001b[0ma\u001b[0m\u001b[0;34m[\u001b[0m\u001b[0;36m0\u001b[0m\u001b[0;34m]\u001b[0m\u001b[0;34m<=\u001b[0m\u001b[0mx\u001b[0m \u001b[0;32mand\u001b[0m \u001b[0ma\u001b[0m\u001b[0;34m[\u001b[0m\u001b[0;34m-\u001b[0m\u001b[0;36m1\u001b[0m\u001b[0;34m]\u001b[0m\u001b[0;34m>=\u001b[0m\u001b[0mx\u001b[0m\u001b[0;34m)\u001b[0m\u001b[0;34m:\u001b[0m\u001b[0;34m\u001b[0m\u001b[0;34m\u001b[0m\u001b[0m\n\u001b[0m\u001b[1;32m     19\u001b[0m     \u001b[0;32mif\u001b[0m\u001b[0;34m(\u001b[0m\u001b[0mbinary\u001b[0m\u001b[0;34m(\u001b[0m\u001b[0mi\u001b[0m\u001b[0;34m,\u001b[0m\u001b[0mx\u001b[0m\u001b[0;34m)\u001b[0m\u001b[0;34m)\u001b[0m\u001b[0;34m:\u001b[0m\u001b[0;34m\u001b[0m\u001b[0;34m\u001b[0m\u001b[0m\n\u001b[1;32m     20\u001b[0m       \u001b[0mf\u001b[0m\u001b[0;34m=\u001b[0m\u001b[0;36m0\u001b[0m\u001b[0;34m\u001b[0m\u001b[0;34m\u001b[0m\u001b[0m\n",
            "\u001b[0;31mTypeError\u001b[0m: '<=' not supported between instances of 'list' and 'int'"
          ]
        }
      ]
    },
    {
      "cell_type": "markdown",
      "source": [
        "leet code 1011\n",
        "\n",
        "\n",
        "**Capacity To Ship Packages Within D Days **"
      ],
      "metadata": {
        "id": "kyfzrN1tWkwR"
      }
    },
    {
      "cell_type": "code",
      "source": [
        "# question                 #leet code 1011\n",
        "\n",
        "# Capacity To Ship Packages Within D Days\n",
        "#weights = [1,2,3,4,5,6,7,8,9,10], capacity=12\n",
        "#days = 6\n",
        "# chech weather its is possible or not\n",
        "\n",
        "\n",
        "\n",
        "# [1,2,3,4,5,6,7,8,9,10]\n",
        "# 1+2+3+4  --day 1   10<=capacity-12\n",
        "# 5+6  --day 1\n",
        "# 7  --day 1\n",
        "# 8 --day 1\n",
        "# 9  --day 1\n",
        "# 10  --day 1"
      ],
      "metadata": {
        "id": "JmjjwxHCX041"
      },
      "execution_count": null,
      "outputs": []
    },
    {
      "cell_type": "code",
      "source": [
        "# weights = [1,2,3,4,5,6,7,8,9,10], capacity=12  ,find days ,if possible \"yes\" ,else \"no\"\n",
        "w= [1,2,3,4,5,6,7,8,9,10]\n",
        "cap=12\n",
        "d=0\n",
        "\n",
        "for i in range(len(w)):\n",
        "  if w[i]<=cap:\n",
        "    cap=cap-w[i]\n",
        "  else:\n",
        "    d=d+1\n",
        "    cap=cap-w[i]\n",
        "if(cap>0):\n",
        "  d=d+1\n",
        "print(d)\n"
      ],
      "metadata": {
        "colab": {
          "base_uri": "https://localhost:8080/"
        },
        "id": "COyNno3VZPp7",
        "outputId": "58953f00-96dc-4a26-c4d5-bb38e07f0cc1"
      },
      "execution_count": null,
      "outputs": [
        {
          "output_type": "stream",
          "name": "stdout",
          "text": [
            "6\n"
          ]
        }
      ]
    },
    {
      "cell_type": "markdown",
      "source": [
        " leet code 240"
      ],
      "metadata": {
        "id": "9mODWPRHlBik"
      }
    },
    {
      "cell_type": "code",
      "source": [
        "# 5x4 matrix           #leet code 240\n",
        "# find x\n",
        "\n",
        "\n",
        "\n",
        "\n",
        "# a=[[3,4,6,8],[5,7,9,10],[8,12,13,15],[20,23,26,28],[30,36,40,45]]\n",
        "\n",
        "\n",
        "class Solution:\n",
        "    def searchMatrix(self, matrix: List[List[int]], target: int) -> bool:\n",
        "        i=0\n",
        "        j=len(matrix[0])-1\n",
        "        while(i<len(matrix) and j>=0):\n",
        "            if(matrix[i][j]==target):\n",
        "                return True\n",
        "            elif(matrix[i][j]>target):\n",
        "                j=j-1\n",
        "            else:\n",
        "                i=i+1\n",
        "        return False\n"
      ],
      "metadata": {
        "id": "96UgRbKZvy9I"
      },
      "execution_count": null,
      "outputs": []
    },
    {
      "cell_type": "code",
      "source": [
        "# 5x4 matrix  #printing the position if there\n",
        "#  Finds and prints all positions where the element x appears in the matrix (even if multiple times).\n",
        "#  If not found, it prints \"Not found\".\n",
        "\n",
        "\n",
        "matrix = [\n",
        "    [3, 4, 6, 8],\n",
        "    [5, 7, 9, 10],\n",
        "    [8, 12, 13, 15],\n",
        "    [20, 23, 26, 28],\n",
        "    [30, 36, 40, 45]\n",
        "]\n",
        "\n",
        "x = int(input(\"Enter the number to search: \"))\n",
        "positions = []\n",
        "\n",
        "# Brute force scan for all occurrences\n",
        "for i in range(len(matrix)):\n",
        "    for j in range(len(matrix[0])):\n",
        "        if matrix[i][j] == x:\n",
        "            positions.append((i, j))\n",
        "\n",
        "if positions:\n",
        "    print(f\"{x} found at positions: {positions}\")\n",
        "else:\n",
        "    print(\"Not found\")\n"
      ],
      "metadata": {
        "colab": {
          "base_uri": "https://localhost:8080/"
        },
        "id": "o_8DVo4WvwBp",
        "outputId": "9acfcc01-6e51-44bd-b062-bfe0f3ef6885"
      },
      "execution_count": null,
      "outputs": [
        {
          "output_type": "stream",
          "name": "stdout",
          "text": [
            "Enter the number to search: 40\n",
            "40 found at positions: [(4, 2)]\n"
          ]
        }
      ]
    },
    {
      "cell_type": "markdown",
      "source": [
        "afternoon"
      ],
      "metadata": {
        "id": "yyXvTVLG72Ps"
      }
    },
    {
      "cell_type": "code",
      "source": [
        "# [2,7,11,15] ,target=9          #2 poiters  from same side\n",
        "#  i\n",
        "#    j\n",
        "a=[2,7,11,15]\n",
        "for i in range(len(a)):\n",
        "  for j in range(i+1,len(a)):\n",
        "    if a[i]+a[j]==9:\n",
        "      print(i,j)\n",
        "      break\n",
        "\n"
      ],
      "metadata": {
        "colab": {
          "base_uri": "https://localhost:8080/"
        },
        "id": "c2784I9W74bL",
        "outputId": "e02e0d9a-0834-413a-df8f-ad41199c370f"
      },
      "execution_count": null,
      "outputs": [
        {
          "output_type": "stream",
          "name": "stdout",
          "text": [
            "0 1\n"
          ]
        }
      ]
    },
    {
      "cell_type": "code",
      "source": [
        "# [2,7,11,15] ,target=9          ##2 poiters  from oppesite side\n",
        "  #i      j\n",
        "a=[2,7,11,15]\n",
        "t=9\n",
        "for i in range(len(a)):\n",
        "  for j in range(len(a)-1,i,-1):\n",
        "    if a[i]+a[j]==t:\n",
        "      print(i,j)"
      ],
      "metadata": {
        "colab": {
          "base_uri": "https://localhost:8080/"
        },
        "id": "CC7wOLbFCYLR",
        "outputId": "75faa42b-ba6f-43ef-f9c3-6921b6de4b09"
      },
      "execution_count": null,
      "outputs": [
        {
          "output_type": "stream",
          "name": "stdout",
          "text": [
            "0 1\n"
          ]
        }
      ]
    },
    {
      "cell_type": "markdown",
      "source": [
        "leet code\n",
        "\n",
        "\n",
        "15. 3Sum\n",
        "\n",
        "\n"
      ],
      "metadata": {
        "id": "2n4IrA49Md-Z"
      }
    },
    {
      "cell_type": "code",
      "source": [
        "# Q1      #exam\n",
        "\n",
        "#common element\n",
        "\n",
        "n=list(map(int,input().split()))       # 2 4 3 5\n",
        "m=list(map(int,input().split()))      # 3 2 9 5\n",
        "o=list(map(int,input().split()))      # 8 2 3 5\n",
        "n=set(n)\n",
        "m=set(m)\n",
        "o=set(o)\n",
        "l=sorted(list(n&m&o))\n",
        "if len(l)==0:\n",
        "    print('-1')    # if not found\n",
        "else:\n",
        "    print(*l)                  #2 3 5"
      ],
      "metadata": {
        "id": "7NL4UkKAxqwi"
      },
      "execution_count": null,
      "outputs": []
    },
    {
      "cell_type": "code",
      "source": [
        "# Q 2\n",
        "# Floor in a sorted array\n",
        "\n",
        "a=list(map(int,input().split()))   #1 2 6 8 9 7 8\n",
        "x=int(input())                      #5\n",
        "n=-1\n",
        "for i in range(len(a)):\n",
        "  if a[i]<=x:\n",
        "    n=a[i]\n",
        "print(n)                      #op=2\n"
      ],
      "metadata": {
        "id": "lGY7HqtIgAf-",
        "colab": {
          "base_uri": "https://localhost:8080/"
        },
        "outputId": "644dfad2-6fe7-4ab0-b544-41de36ad2bab"
      },
      "execution_count": null,
      "outputs": [
        {
          "output_type": "stream",
          "name": "stdout",
          "text": [
            "1 2 6 8 9 7 8 \n",
            "5\n",
            "2\n"
          ]
        }
      ]
    },
    {
      "cell_type": "code",
      "source": [
        "#75. Sort Colors #leetcode\n",
        "\n",
        "def sortColors(self, nums):\n",
        "  low = 0\n",
        "  mid = 0\n",
        "  high = len(nums) - 1\n",
        "  while mid <= high:\n",
        "    if nums[mid] == 0:\n",
        "      nums[low], nums[mid] = nums[mid], nums[low]\n",
        "      low += 1\n",
        "      mid += 1\n",
        "    elif nums[mid] == 1:\n",
        "      mid += 1\n",
        "    else:\n",
        "      nums[mid], nums[high] = nums[high], nums[mid]\n",
        "      high -= 1\n",
        "\n",
        "nums = [2,0,2,1,1,0]\n",
        "# Output: [0,0,1,1,2,2]\n"
      ],
      "metadata": {
        "id": "nIrdCupaHBrn"
      },
      "execution_count": null,
      "outputs": []
    },
    {
      "cell_type": "code",
      "source": [
        "#leet code #15 3sum\n",
        "\n",
        "class Solution:\n",
        "    def threeSum(self, nums: List[int]) -> List[List[int]]:\n",
        "        nums.sort()\n",
        "        result = []\n",
        "        n = len(nums)\n",
        "        for i in range(n - 2):\n",
        "            if i > 0 and nums[i] == nums[i - 1]:\n",
        "                continue\n",
        "            left = i + 1\n",
        "            right = n - 1\n",
        "            while left < right:\n",
        "                current_sum = nums[i] + nums[left] + nums[right]\n",
        "                if current_sum == 0:\n",
        "                    result.append([nums[i], nums[left], nums[right]])\n",
        "                    while left < right and nums[left] == nums[left + 1]:\n",
        "                        left += 1\n",
        "                    while left < right and nums[right] == nums[right - 1]:\n",
        "                        right -= 1\n",
        "                    left += 1\n",
        "                    right -= 1\n",
        "                elif current_sum < 0:\n",
        "                    left += 1\n",
        "                else:\n",
        "                    right -= 1\n",
        "        return result"
      ],
      "metadata": {
        "id": "R4DDEuTCIwfV"
      },
      "execution_count": null,
      "outputs": []
    },
    {
      "cell_type": "code",
      "source": [
        "def threeSum(nums):\n",
        "    nums.sort()\n",
        "    res = []\n",
        "    n = len(nums)\n",
        "\n",
        "    for i in range(n - 2):\n",
        "        if i > 0 and nums[i] == nums[i - 1]:  # skip duplicates for i\n",
        "            continue\n",
        "\n",
        "        left, right = i + 1, n - 1\n",
        "        while left < right:\n",
        "            s = nums[i] + nums[left] + nums[right]\n",
        "\n",
        "            if s == 0:\n",
        "                res.append([nums[i], nums[left], nums[right]])\n",
        "                # skip duplicates for left and right\n",
        "                while left < right and nums[left] == nums[left + 1]:\n",
        "                    left += 1\n",
        "                while left < right and nums[right] == nums[right - 1]:\n",
        "                    right -= 1\n",
        "                left += 1\n",
        "                right -= 1\n",
        "\n",
        "            elif s < 0:\n",
        "                left += 1\n",
        "            else:\n",
        "                right -= 1\n",
        "\n",
        "    return res\n",
        "\n",
        "# Example usage:\n",
        "nums = [-1, 0, 1, 2, -1, -4]\n",
        "print(threeSum(nums))\n"
      ],
      "metadata": {
        "colab": {
          "base_uri": "https://localhost:8080/"
        },
        "id": "ofR0bNpTzexV",
        "outputId": "f209d22c-8102-4b6f-b74e-3ecc13e5a8ab"
      },
      "execution_count": null,
      "outputs": [
        {
          "output_type": "stream",
          "name": "stdout",
          "text": [
            "[[-1, -1, 2], [-1, 0, 1]]\n"
          ]
        }
      ]
    },
    {
      "cell_type": "code",
      "source": [
        "nums=[3,2,2,3]             #leetcode    #27. Remove Element\n",
        "val=3\n",
        "c=0\n",
        "for i in range(len(nums)-1):\n",
        "  if nums[i]==val:\n",
        "    nums.pop(i)\n",
        "    c=c+1\n",
        "print(c,nums)"
      ],
      "metadata": {
        "colab": {
          "base_uri": "https://localhost:8080/"
        },
        "id": "67UfZq-yhjaN",
        "outputId": "7894eee0-5a2c-4de5-9e04-25f009c3149d"
      },
      "execution_count": null,
      "outputs": [
        {
          "output_type": "stream",
          "name": "stdout",
          "text": [
            "2 [2, 2]\n"
          ]
        }
      ]
    },
    {
      "cell_type": "markdown",
      "source": [
        "#22/05/25       --------DAY-10   \n",
        "\n",
        "(petrol, ---jump ,---jump2, ---860(lemon),---job,----assign cookies,---jump2 (again,),---Find Minimum in Rotated Sorted Array using binary search )"
      ],
      "metadata": {
        "id": "02iX-Ns0Gxhp"
      }
    },
    {
      "cell_type": "code",
      "source": [
        "#petrol problem\n",
        "# a=[3,2,1,0,1,3,1]            #[3,2,1,0,4]np\n",
        "#------------------------------------------------\n",
        "# a=[3,2,1,0,1,3,1]    #no comming correct\n",
        "# a=[3,2,1,0,4]  # no comming error             #my code    #fully not correct\n",
        "a=[2,3,1,0,1,3,0]  #yes comming correct\n",
        "p=a[i]\n",
        "for i in (a):\n",
        "  if(a[i]-1<a[i+1]):\n",
        "    p=a[i+1]\n",
        "  else:\n",
        "    p=p-1\n",
        "if p>0:\n",
        "  print(\"yes\")\n",
        "else:\n",
        "  print(\"np\")\n",
        "\n",
        "#----------------------------------------------"
      ],
      "metadata": {
        "colab": {
          "base_uri": "https://localhost:8080/"
        },
        "id": "QUxtsSpMG5G5",
        "outputId": "a1b977e1-dbea-42f1-f6b2-23300b2a9a78"
      },
      "execution_count": null,
      "outputs": [
        {
          "output_type": "stream",
          "name": "stdout",
          "text": [
            "yes\n"
          ]
        }
      ]
    },
    {
      "cell_type": "code",
      "source": [
        "# correct code\n",
        "a=[3,2,1,0,4]  # no --> comming correct\n",
        "# a=[2,3,1,0,1,3,0]  #yes comming correct\n",
        "p=0\n",
        "for i in a:\n",
        "  if p<i:\n",
        "    p=i\n",
        "  if(p==0):\n",
        "    print(\"np\")\n",
        "    break\n",
        "  p=p-1\n",
        "else:\n",
        "  print(\"yes\")"
      ],
      "metadata": {
        "colab": {
          "base_uri": "https://localhost:8080/"
        },
        "id": "rVnEzzHAbOnR",
        "outputId": "d607961f-46e7-4528-c554-7ff2c9fa7490"
      },
      "execution_count": null,
      "outputs": [
        {
          "output_type": "stream",
          "name": "stdout",
          "text": [
            "np\n"
          ]
        }
      ]
    },
    {
      "source": [
        "# a=[3,2,1,0,1,3,1]    #np\n",
        "a=[3,2,1,0,4]   #np\n",
        "# a=[2,3,1,0,1,3,0]  #yes\n",
        "\n",
        "# Initialize the maximum reach from the current position\n",
        "max_reach = 0\n",
        "# Iterate through the list up to the second to last element\n",
        "for i in range(len(a) - 1):\n",
        "    # Update the maximum reach if the current position plus its value is greater\n",
        "    max_reach = max(max_reach, i + a[i])\n",
        "    # If the maximum reach is less than or equal to the current index,\n",
        "    # it's not possible to move forward\n",
        "    if max_reach <= i:\n",
        "        print(\"np\")\n",
        "        break\n",
        "# If the loop completes, it means the end (or beyond) was reachable\n",
        "else:\n",
        "    print(\"yes\")"
      ],
      "cell_type": "code",
      "metadata": {
        "colab": {
          "base_uri": "https://localhost:8080/"
        },
        "id": "_HE0vsUHX05w",
        "outputId": "53f0bef8-861c-4e26-d210-15056eb049fb"
      },
      "execution_count": null,
      "outputs": [
        {
          "output_type": "stream",
          "name": "stdout",
          "text": [
            "np\n"
          ]
        }
      ]
    },
    {
      "cell_type": "markdown",
      "source": [
        "\n",
        "leetCode\n",
        "55. Jump Game"
      ],
      "metadata": {
        "id": "61iInO8FM_vk"
      }
    },
    {
      "cell_type": "code",
      "source": [
        "#jump game 1  55\n",
        "\n",
        "# [2,3,1,1,4]\n",
        "\n",
        "class Solution:\n",
        "    def canJump(self, nums: List[int]) -> bool:\n",
        "        a=0\n",
        "        for i in range(len(nums)):\n",
        "            if i>a:\n",
        "                return False\n",
        "            a=max(a,i+nums[i])\n",
        "            if a>=len(nums)-1:\n",
        "                return True\n",
        "    #     return False\n",
        "\n",
        "\n",
        "\n",
        "\n"
      ],
      "metadata": {
        "id": "xzJ1y0idVDga"
      },
      "execution_count": null,
      "outputs": []
    },
    {
      "cell_type": "code",
      "source": [
        "nums=[2,3,1,1,4]\n",
        "a=0\n",
        "for i in range(len(nums)):\n",
        "  if i>a:\n",
        "    print(False)\n",
        "  a=max(a,i+nums[i])\n",
        "  if a>=len(nums)-1:\n",
        "    print(True)"
      ],
      "metadata": {
        "colab": {
          "base_uri": "https://localhost:8080/"
        },
        "id": "pr0VO3kHbAnp",
        "outputId": "3c08f0b1-c9a7-4bb0-e2db-90e04ac9a4e7"
      },
      "execution_count": null,
      "outputs": [
        {
          "output_type": "stream",
          "name": "stdout",
          "text": [
            "True\n",
            "True\n",
            "True\n",
            "True\n"
          ]
        }
      ]
    },
    {
      "cell_type": "code",
      "source": [
        "\n",
        "#jump game 2  45         use greed-O(n)"
      ],
      "metadata": {
        "id": "yZN8iS5ALk8Q"
      },
      "execution_count": null,
      "outputs": []
    },
    {
      "cell_type": "markdown",
      "source": [
        "\n",
        "leetCode\n",
        "\n",
        "860. Lemonade Change"
      ],
      "metadata": {
        "id": "yE6ap6s9jt9b"
      }
    },
    {
      "cell_type": "code",
      "source": [
        "#soda                #leetcode 860\n",
        "# a=[5,10,20,5]  #not satisfied\n",
        "a=[5,5,10,20]  # satisfied\n",
        "# a=[5,5,10,10,20]  #not satisfied\n",
        "soda=5\n",
        "remaing=0\n",
        "for i in range(len(a)):                      #my code\n",
        "  if a[i]==soda:\n",
        "    remaing += a[i]\n",
        "    # print(remaing)\n",
        "  if a[i]==10:\n",
        "    remaing += a[i]\n",
        "    remaing -= soda\n",
        "    # print(remaing)\n",
        "  elif(a[i]==20):\n",
        "    remaing +=a[i]\n",
        "    remaing -=soda\n",
        "\n",
        "  if(remaing<0):\n",
        "    print(\"no\")\n",
        "    break\n",
        "else:\n",
        "  print(remaing)\n",
        "  print(\"yes\")\n",
        "\n",
        "\n"
      ],
      "metadata": {
        "colab": {
          "base_uri": "https://localhost:8080/"
        },
        "id": "j9QclrSGZdYI",
        "outputId": "4e8700f3-de4e-4d69-896f-dbb02c532d36"
      },
      "execution_count": null,
      "outputs": [
        {
          "output_type": "stream",
          "name": "stdout",
          "text": [
            "30\n",
            "yes\n"
          ]
        }
      ]
    },
    {
      "cell_type": "code",
      "source": [
        "# a=[3,2,1,0,4]  # no         #leetcode 860       #sir code    #Lemonade Change      #correct code\n",
        "a=[5,10,20,5]  # no\n",
        "# a=[5,5,10,20]  # yes\n",
        "# a=[5,5,10,20,5,10]  # yes\n",
        "c5=0\n",
        "c10=0\n",
        "for i in a:\n",
        "  if i==5:\n",
        "    c5=c5+1\n",
        "  elif i==10:\n",
        "    if c5>0:\n",
        "      c5=c5-1\n",
        "      c10=c10+1\n",
        "    else:\n",
        "      print(\"no\")\n",
        "      break\n",
        "  else:\n",
        "    if (c5!=0 and c10!=0):\n",
        "      c5=c5-1\n",
        "      c10=c10-1\n",
        "    elif c5>=3:\n",
        "      c5=c5-3\n",
        "    else:\n",
        "      print(\"no\")\n",
        "      break\n",
        "else:\n",
        "  print(\"yes\")\n"
      ],
      "metadata": {
        "colab": {
          "base_uri": "https://localhost:8080/"
        },
        "id": "drrLIxOTgaer",
        "outputId": "bca7f7d2-f998-42f6-a4d8-cc7ad839d9ee"
      },
      "execution_count": null,
      "outputs": [
        {
          "output_type": "stream",
          "name": "stdout",
          "text": [
            "no\n"
          ]
        }
      ]
    },
    {
      "cell_type": "code",
      "source": [
        "class Solution:                           #naga    #leetcode\n",
        "    def lemonadeChange(self, bills: List[int]) -> bool:\n",
        "        a,b,c=0,0,0\n",
        "        for i in range(len(bills)):\n",
        "            if bills[0]>5:\n",
        "                return False\n",
        "            if bills[i]==5:\n",
        "                a+=1\n",
        "            elif bills[i]==10:\n",
        "                b+=1\n",
        "                if a>=1:\n",
        "                    a-=1\n",
        "            else:\n",
        "                c+=1\n",
        "                if b>=1 and a>=1:\n",
        "                    b-=1\n",
        "                    a-=1\n",
        "                elif(a>=3):\n",
        "                    a-=3\n",
        "                else:\n",
        "                    return False\n",
        "        return True"
      ],
      "metadata": {
        "id": "sDQarCHlRoDJ"
      },
      "execution_count": null,
      "outputs": []
    },
    {
      "cell_type": "markdown",
      "source": [
        "job"
      ],
      "metadata": {
        "id": "xlJZGQkBndjU"
      }
    },
    {
      "cell_type": "code",
      "source": [
        "#job           #min avg time\n",
        "\n",
        "\n",
        "def avg_min(l):        #naga\n",
        "    s1 = s2= 0\n",
        "    for i in range(len(l) - 1):\n",
        "        s1 = s1+l[i]\n",
        "        s2 = s1+s2\n",
        "    avg = s2/(len(l)  - 1)\n",
        "    print(s2)\n",
        "    return avg\n",
        "#l = [4,3,7,1,6,2]\n",
        "l = [1,2,3,4,6,7]\n",
        "print(avg_min(l))"
      ],
      "metadata": {
        "id": "T1i01qYKgabI"
      },
      "execution_count": null,
      "outputs": []
    },
    {
      "cell_type": "markdown",
      "source": [
        "\n",
        "leetCode\n",
        "\n",
        "455. Assign Cookies"
      ],
      "metadata": {
        "id": "VIM7rE2Qu1_1"
      }
    },
    {
      "cell_type": "code",
      "source": [
        "# find the max who will get the bills      #leetcode 455\n",
        "# p=[1,6,2,3,4,5]\n",
        "# b=[4,2,3,1,1,2]\n",
        "p=[1,2,3]\n",
        "b=[3]\n",
        "p.sort()\n",
        "b.sort()\n",
        "c=0\n",
        "for i in p:\n",
        "  for j in b:\n",
        "    if i<=j:                         #not working for all the testcases\n",
        "      c=c+1\n",
        "      b.remove(j)\n",
        "      break\n",
        "print(c)\n",
        "\n"
      ],
      "metadata": {
        "colab": {
          "base_uri": "https://localhost:8080/"
        },
        "id": "8BtI0gadqSoG",
        "outputId": "2152d3e7-41f1-459f-caff-6160735be356"
      },
      "execution_count": null,
      "outputs": [
        {
          "output_type": "stream",
          "name": "stdout",
          "text": [
            "1\n"
          ]
        }
      ]
    },
    {
      "cell_type": "code",
      "source": [
        "# find the max who will get the bills      #leetcode 455\n",
        "p=[1,6,2,3,4,5]\n",
        "b=[4,2,3,1,1,2]                               #correct code\n",
        "# p=[1,2,3]\n",
        "# b=[3]\n",
        "\n",
        "p.sort()                                  #O(n log n)for sort\n",
        "b.sort()\n",
        "\n",
        "i = 0  # Pointer for p (people's greed)\n",
        "j = 0  # Pointer for b (cookie sizes)\n",
        "count = 0\n",
        "while i < len(p) and j < len(b):\n",
        "    if p[i] <= b[j]:\n",
        "        count += 1\n",
        "        i += 1\n",
        "        j += 1\n",
        "    else:\n",
        "        j += 1\n",
        "count\n"
      ],
      "metadata": {
        "colab": {
          "base_uri": "https://localhost:8080/"
        },
        "id": "DF1riW-3xKxm",
        "outputId": "6bbca0a1-3f73-48a5-c944-657eb02c3fb1"
      },
      "execution_count": null,
      "outputs": [
        {
          "output_type": "execute_result",
          "data": {
            "text/plain": [
              "4"
            ]
          },
          "metadata": {},
          "execution_count": 68
        }
      ]
    },
    {
      "cell_type": "markdown",
      "source": [
        "Find Minimum in Rotated Sorted Array         #leetcode   153\n"
      ],
      "metadata": {
        "id": "66hX_w1ISL8P"
      }
    },
    {
      "cell_type": "code",
      "source": [
        "# Find Minimum in Rotated Sorted Array  #leetcode\n",
        "\n",
        "\n",
        "class Solution:\n",
        "    def findMin(self, nums: List[int]) -> int:\n",
        "        l,h=0,len(nums)-1\n",
        "        while l<h:\n",
        "            mid=(l+h)//2\n",
        "            if nums[mid]>nums[h]:\n",
        "                l=mid+1\n",
        "            else:\n",
        "                h=mid\n",
        "        return nums[l]"
      ],
      "metadata": {
        "id": "g4IteyLSSRb8"
      },
      "execution_count": null,
      "outputs": []
    },
    {
      "cell_type": "markdown",
      "source": [
        "afternoon"
      ],
      "metadata": {
        "id": "V9UCjlPrFXZV"
      }
    },
    {
      "cell_type": "code",
      "source": [
        "# #find the min jump\n",
        "                                 # -----------#leetcode 45      jump2\n",
        "\n",
        "#jump game 2  45         use greed-O(n)\n",
        "\n",
        "\n",
        "# Input: nums = [2,3,1,1,4]\n",
        "# Output: 2\n",
        "# Explanation: The minimum number of jumps to reach the last index is 2. Jump 1 step from index 0 to 1, then 3 steps to the last index.\n",
        "\n",
        "\n",
        "a = [2,3,1,1,4]            #sir code       #correct\n",
        "l=0\n",
        "r=0\n",
        "jump=0\n",
        "while r<len(a)-1:\n",
        "  farthest=0\n",
        "  for i in range(l,r+1):\n",
        "    if(i+a[i]>farthest):\n",
        "      farthest=i+a[i]\n",
        "  l=r+1\n",
        "  r=farthest\n",
        "  jump=jump+1\n",
        "print(jump)\n",
        "\n",
        "\n",
        "\n"
      ],
      "metadata": {
        "colab": {
          "base_uri": "https://localhost:8080/"
        },
        "id": "EDdAAmt9FZC8",
        "outputId": "8b2d327d-a183-4748-e1aa-e4ac2ac3dc20"
      },
      "execution_count": null,
      "outputs": [
        {
          "output_type": "stream",
          "name": "stdout",
          "text": [
            "2\n"
          ]
        }
      ]
    },
    {
      "cell_type": "code",
      "source": [
        " # -----------#leetcode 45      jump2\n",
        "class Solution:                                         #my leetcode code\n",
        "    def jump(self, nums: List[int]) -> int:\n",
        "        j=0\n",
        "        current_end=0\n",
        "        a=0\n",
        "        for i in range(len(nums)-1):\n",
        "            a=max(a,i+nums[i])\n",
        "            if i == current_end:\n",
        "                j=j+1\n",
        "                current_end=a\n",
        "        return j"
      ],
      "metadata": {
        "id": "MU3nA07v8N9J"
      },
      "execution_count": null,
      "outputs": []
    },
    {
      "cell_type": "code",
      "source": [
        "#  Q 1\n",
        "Problem Statement:\n",
        "Given a positive number n and precision p, find the square root of number upto p decimal places using binary search.\n",
        "\n",
        "Example 1:\n",
        "\n",
        "Input :\n",
        "\n",
        "number = 50\n",
        "\n",
        "precision = 3\n",
        "\n",
        "\n",
        "Output : 7.071\n",
        "\n",
        "#exam\n",
        "# Find square root of number\n",
        "\n",
        "\n",
        "# Using binary search for an integer square root (floor)\n",
        "\n",
        "n = int(input(\"Enter a number: \"))\n",
        "l=1\n",
        "r=n/2\n",
        "while l<=r:\n",
        "  mid = (l + r) //2\n",
        "  if mid * mid == n:\n",
        "    print(f\"The integer square root (floor) of {n} is: {mid}\")\n",
        "    break\n",
        "  elif mid * mid > n:\n",
        "    r = mid - 1\n",
        "  else:\n",
        "    l = mid + 1\n",
        "print(r)            #floor"
      ],
      "metadata": {
        "colab": {
          "base_uri": "https://localhost:8080/"
        },
        "id": "Z0sS-4a8khlL",
        "outputId": "c3146feb-e7b3-4db0-f92b-de0a09174ce3"
      },
      "execution_count": null,
      "outputs": [
        {
          "output_type": "stream",
          "name": "stdout",
          "text": [
            "Enter a number: 50\n",
            "7.0\n"
          ]
        }
      ]
    },
    {
      "cell_type": "code",
      "source": [
        "n = int(input())       # correct code\n",
        "p = int(input())\n",
        "l = 0\n",
        "h = n\n",
        "ans = 0\n",
        "while l <= h:\n",
        "    mid = (l + h) // 2\n",
        "    if mid * mid == n:\n",
        "        ans = mid\n",
        "        break\n",
        "    elif mid * mid < n:\n",
        "        ans = mid\n",
        "        l = mid + 1\n",
        "    else:\n",
        "        h = mid - 1\n",
        "increment = 0.1\n",
        "for i in range(p):\n",
        "    while ans * ans <= n:\n",
        "        ans += increment\n",
        "    ans -= increment\n",
        "    increment /= 10\n",
        "\n",
        "print(f\"{round(ans, p)}\")"
      ],
      "metadata": {
        "colab": {
          "base_uri": "https://localhost:8080/"
        },
        "id": "dFBnyiG7suDc",
        "outputId": "2f322c95-afa1-45ea-f5d5-4b1cc7e97ab5"
      },
      "execution_count": null,
      "outputs": [
        {
          "output_type": "stream",
          "name": "stdout",
          "text": [
            "50\n",
            "3\n",
            "7.071\n"
          ]
        }
      ]
    },
    {
      "cell_type": "code",
      "source": [
        "#Q2\n",
        "\n",
        "# Find the closest pair from two sorted arrays\n",
        "\n",
        "# Input:\n",
        "# arr1[] = {1, 4, 5, 7}\n",
        "# arr2[] = {10, 20, 30, 40}\n",
        "# x = 32\n",
        "# Output:\n",
        "# 1 and 30\n",
        "\n",
        "\n",
        "arr1= [1, 4, 5, 7]\n",
        "arr2= [10, 20, 30, 40]\n",
        "for i in arr1:\n",
        "  for j in arr2:\n",
        "    if i+j<=32:\n",
        "      print(i,j)\n",
        "\n",
        "\n"
      ],
      "metadata": {
        "colab": {
          "base_uri": "https://localhost:8080/"
        },
        "id": "iDg7L-VmkjbL",
        "outputId": "ebaa6c0e-d8e5-4c23-962e-5068ac8ed313"
      },
      "execution_count": null,
      "outputs": [
        {
          "output_type": "stream",
          "name": "stdout",
          "text": [
            "1 10\n",
            "1 20\n",
            "1 30\n",
            "4 10\n",
            "4 20\n",
            "5 10\n",
            "5 20\n",
            "7 10\n",
            "7 20\n"
          ]
        }
      ]
    },
    {
      "cell_type": "code",
      "source": [
        "arr1 = list(map(int, input().split()))             #correct\n",
        "arr2 = list(map(int, input().split()))\n",
        "x = int(input())\n",
        "min_diff = float('inf')\n",
        "res1,res2 = 0,0\n",
        "for i in arr1:\n",
        "    for j in arr2:\n",
        "        s=i+j\n",
        "        diff=abs(s-x)\n",
        "        if diff<min_diff:\n",
        "            min_diff=diff\n",
        "            res1,res2=i,j\n",
        "\n",
        "print(f\"{res1}and{res2}\")"
      ],
      "metadata": {
        "colab": {
          "base_uri": "https://localhost:8080/"
        },
        "id": "6AHyu7tBp-7Y",
        "outputId": "82bb9d72-2e14-41b4-b16e-f0553aa16dca"
      },
      "execution_count": null,
      "outputs": [
        {
          "output_type": "stream",
          "name": "stdout",
          "text": [
            "1 4 5 7\n",
            "10 20 30 40\n",
            "32\n",
            "1 and 30\n"
          ]
        }
      ]
    },
    {
      "cell_type": "markdown",
      "source": [
        "#23/05/25    -------- DAY-11\n",
        "\n",
        "\n",
        "(meeting problem,---revese the string without changing the position of vowels, --- max possible discount of the books(sliding window, ----print the length of longest palindromic substring, --- **exam :Aggressive Cows** )"
      ],
      "metadata": {
        "id": "Ah7sMZfnOWOn"
      }
    },
    {
      "cell_type": "markdown",
      "source": [],
      "metadata": {
        "id": "lNEQRG5WOcWt"
      }
    },
    {
      "cell_type": "code",
      "source": [
        "# find the max number of meets u will be able to conduct             ------#job scheduling algorithm\n",
        "\n",
        "# a=[0,3,8,1,5,7,9]\n",
        "# b=[5,6,10,2,6,9,11]\n",
        "\n",
        "\n",
        "\n",
        "def fun(x):    --------------------    #sir code # correct\n",
        "  return x[1]\n",
        "s=[0,3,8,1,5,7,9] #start times\n",
        "e=[5,7,10,2,6,9,11] #end times\n",
        "b=list(zip(s,e))\n",
        "  # for i,j in zip(a,b):\n",
        "  #   b.append((i,j))\n",
        "  # print(b)\n",
        "b.sort(key=fun)\n",
        "print(b)\n",
        "st=0\n",
        "c=0\n",
        "for i in b:\n",
        "  if(i[0]>=st):\n",
        "    c=c+1\n",
        "    st=i[1]+1\n",
        "print(c)\n",
        "\n",
        "\n",
        "\n",
        "\n"
      ],
      "metadata": {
        "colab": {
          "base_uri": "https://localhost:8080/"
        },
        "id": "WRAtNkbHVBm1",
        "outputId": "cee43ffc-b50a-48c9-a220-185cd1377711"
      },
      "execution_count": null,
      "outputs": [
        {
          "output_type": "stream",
          "name": "stdout",
          "text": [
            "[(1, 2), (0, 5), (5, 6), (3, 7), (7, 9), (8, 10), (9, 11)]\n",
            "3\n"
          ]
        }
      ]
    },
    {
      "cell_type": "code",
      "source": [
        "# prompt: # find the max number of meets u will be able to conduct\n",
        "# a=[0,3,8,1,5,7,9]\n",
        "# b=[5,6,10,2,6,9,11]\n",
        "\n",
        "# find the max number of meets u will be able to conduct\n",
        "a=[0,3,8,1,5,7,9] #start times\n",
        "b=[5,6,10,2,6,9,11] #end times\n",
        "\n",
        "# a=[0,3,8,1,5,7,9] #start times\n",
        "# b=[5,7,10,2,6,9,11] #end times\n",
        "\n",
        "# Combine start and end times into pairs and sort by end time\n",
        "meets = sorted(zip(a, b), key=lambda x: x[1])\n",
        "\n",
        "count = 0\n",
        "last_end_time = -1\n",
        "\n",
        "for start, end in meets:\n",
        "  if start > last_end_time:  #>=\n",
        "    count += 1\n",
        "    last_end_time = end\n",
        "\n",
        "count\n"
      ],
      "metadata": {
        "colab": {
          "base_uri": "https://localhost:8080/"
        },
        "id": "KinZn2eyXqdG",
        "outputId": "2331fc81-f4ad-4cec-bfd1-fa36fe0c7f52"
      },
      "execution_count": null,
      "outputs": [
        {
          "output_type": "execute_result",
          "data": {
            "text/plain": [
              "3"
            ]
          },
          "metadata": {},
          "execution_count": 6
        }
      ]
    },
    {
      "cell_type": "markdown",
      "source": [
        "*revese the string without changing the position of vowels    #a,e,i,o,u              #345 leet code *"
      ],
      "metadata": {
        "id": "YVSN9inJzvcw"
      }
    },
    {
      "cell_type": "code",
      "source": [
        "# revese the string without changing the position of vowels    #a,e,i,o,u              #345 leet code\n",
        "\n",
        "# a=\"hippopotamus\"                              #correct code\n",
        "# output= \"simtopopapuh\"\n",
        "vowels = \"aeiouAEIOU\"\n",
        "vowels = list(vowels)\n",
        "print(vowels)\n",
        "a=\"hippopotamus\"           #use pointer\n",
        "ans=list(a)\n",
        "print(ans)\n",
        "i=0\n",
        "j=len(ans)-1\n",
        "\n",
        "while (i<j):\n",
        "  if ans[i] in vowels:\n",
        "    i+=1\n",
        "  elif(ans[j] in vowels):\n",
        "    j-=1\n",
        "  else:\n",
        "    ans[i],ans[j]=ans[j],ans[i]\n",
        "    i+=1\n",
        "    j-=1\n",
        "print(\"\".join(ans))             #output= \"simtopopapuh\"\n",
        "\n",
        "\n",
        "\n"
      ],
      "metadata": {
        "colab": {
          "base_uri": "https://localhost:8080/"
        },
        "id": "4cstZ0jSfjv_",
        "outputId": "c04ad492-5760-43a6-8f77-691fdcb4d13d"
      },
      "execution_count": null,
      "outputs": [
        {
          "output_type": "stream",
          "name": "stdout",
          "text": [
            "['a', 'e', 'i', 'o', 'u', 'A', 'E', 'I', 'O', 'U']\n",
            "['h', 'i', 'p', 'p', 'o', 'p', 'o', 't', 'a', 'm', 'u', 's']\n",
            "simtopopapuh\n"
          ]
        }
      ]
    },
    {
      "cell_type": "markdown",
      "source": [
        "**find the max possible discount of the books**"
      ],
      "metadata": {
        "id": "j5JQ1xquzmj6"
      }
    },
    {
      "cell_type": "code",
      "source": [
        "#find the max possible discount of the books\n",
        "a=[2,1,6,4,2,3,1,1,4,2,6,7,3]       #op=22                 #2pointer worest -->O(k+n..)    #use sliding window-->O(n)\n",
        "l=0\n",
        "r=5-1\n",
        "sun=0\n",
        "max=0\n",
        "for i in range(len(a)):\n",
        "  sum = sum+a[i]\n",
        "\n",
        "\n",
        "\n",
        "\n",
        "\n"
      ],
      "metadata": {
        "id": "9NAvvASmm-SV"
      },
      "execution_count": null,
      "outputs": []
    },
    {
      "cell_type": "code",
      "source": [
        "a=[2,1,6,4,2,3,1,1,4,2,6,7,3]        #sir code   #correct\n",
        "#  l       r\n",
        "k=5\n",
        "s=0\n",
        "for i in range(k):\n",
        "  s=s+a[i]\n",
        "l=0\n",
        "m=0\n",
        "for r in range(k,len(a)):\n",
        "  s=s+a[r]-a[l]\n",
        "  l=l+1\n",
        "  if s>m:\n",
        "    m=s\n",
        "print(m)"
      ],
      "metadata": {
        "colab": {
          "base_uri": "https://localhost:8080/"
        },
        "id": "a_beW1M7s4qO",
        "outputId": "4efe6890-96c2-4113-bf96-70fabcf10e33"
      },
      "execution_count": null,
      "outputs": [
        {
          "output_type": "stream",
          "name": "stdout",
          "text": [
            "22\n"
          ]
        }
      ]
    },
    {
      "cell_type": "code",
      "source": [
        "n=[2,1,6,4,2,3,1,1,4,2,6,7,3]         #maruthi\n",
        "l=0\n",
        "temp=0\n",
        "ans=0\n",
        "k=5\n",
        "for r in range(len(n)):\n",
        "    temp+=n[r]\n",
        "    if(r-l==k):\n",
        "        temp-=n[l]\n",
        "        l=l+1\n",
        "    if(r-l+1==k):\n",
        "        ans=max(ans,temp)\n",
        "print(ans)"
      ],
      "metadata": {
        "colab": {
          "base_uri": "https://localhost:8080/"
        },
        "id": "EOjZrUScsbN9",
        "outputId": "9715b21a-371f-4436-ca54-baa23aff5180"
      },
      "execution_count": null,
      "outputs": [
        {
          "output_type": "stream",
          "name": "stdout",
          "text": [
            "22\n"
          ]
        }
      ]
    },
    {
      "cell_type": "markdown",
      "source": [
        "print the longest length of subarray"
      ],
      "metadata": {
        "id": "OUhu4j8bzdjd"
      }
    },
    {
      "cell_type": "code",
      "source": [
        "#same above question   but sum<=k  #k is not fixed  #sliding\n",
        " #print the c of subarrys\n",
        "\n",
        "n=[2,1,6,4,2,3,1,1,4,2,6,7,3]            #my code #not a full code\n",
        "k=7\n",
        "s=0\n",
        "max=0\n",
        "for i in range(len(n)):               #O(n*n)\n",
        " for j in range(len(n)):\n",
        "  if s<=k :\n",
        "   s=s+n[j]\n",
        "   max+=1\n",
        "\n",
        "#  print(m)\n"
      ],
      "metadata": {
        "colab": {
          "base_uri": "https://localhost:8080/"
        },
        "id": "mVN3B5K40fB2",
        "outputId": "efde4e84-5e6a-4cb7-d721-359d243b4cdc"
      },
      "execution_count": null,
      "outputs": [
        {
          "output_type": "stream",
          "name": "stdout",
          "text": [
            "22\n",
            "22\n",
            "22\n",
            "22\n",
            "22\n",
            "22\n",
            "22\n",
            "22\n",
            "22\n",
            "22\n",
            "22\n",
            "22\n",
            "22\n"
          ]
        }
      ]
    },
    {
      "cell_type": "code",
      "source": [
        "a=[2,1,6,4,2,3,1,1,4,2,6,7,3]      #sir code  #incomplete\n",
        "# k=7\n",
        "k=6\n",
        "l=0\n",
        "s=0\n",
        "m_l=0\n",
        "for i in range(len(a)):\n",
        "  s=s+a[i]\n",
        "  if s<=k:\n",
        "    m_l=max(m_l,i-l+1)\n",
        "  else:\n",
        "    s=s-a[l]\n",
        "    l=l+1\n",
        "\n",
        "print(m_l)\n"
      ],
      "metadata": {
        "id": "L3-ZkuQa-cL0",
        "colab": {
          "base_uri": "https://localhost:8080/",
          "height": 211
        },
        "outputId": "b060a222-0290-4135-ed71-210fbc8b62ac"
      },
      "execution_count": null,
      "outputs": [
        {
          "output_type": "error",
          "ename": "TypeError",
          "evalue": "'int' object is not callable",
          "traceback": [
            "\u001b[0;31m---------------------------------------------------------------------------\u001b[0m",
            "\u001b[0;31mTypeError\u001b[0m                                 Traceback (most recent call last)",
            "\u001b[0;32m<ipython-input-51-846ed819c0c3>\u001b[0m in \u001b[0;36m<cell line: 0>\u001b[0;34m()\u001b[0m\n\u001b[1;32m      8\u001b[0m   \u001b[0ms\u001b[0m\u001b[0;34m=\u001b[0m\u001b[0ms\u001b[0m\u001b[0;34m+\u001b[0m\u001b[0ma\u001b[0m\u001b[0;34m[\u001b[0m\u001b[0mi\u001b[0m\u001b[0;34m]\u001b[0m\u001b[0;34m\u001b[0m\u001b[0;34m\u001b[0m\u001b[0m\n\u001b[1;32m      9\u001b[0m   \u001b[0;32mif\u001b[0m \u001b[0ms\u001b[0m\u001b[0;34m<=\u001b[0m\u001b[0mk\u001b[0m\u001b[0;34m:\u001b[0m\u001b[0;34m\u001b[0m\u001b[0;34m\u001b[0m\u001b[0m\n\u001b[0;32m---> 10\u001b[0;31m     \u001b[0mm_l\u001b[0m\u001b[0;34m=\u001b[0m\u001b[0mmax\u001b[0m\u001b[0;34m(\u001b[0m\u001b[0mm_l\u001b[0m\u001b[0;34m,\u001b[0m\u001b[0mi\u001b[0m\u001b[0;34m-\u001b[0m\u001b[0ml\u001b[0m\u001b[0;34m+\u001b[0m\u001b[0;36m1\u001b[0m\u001b[0;34m)\u001b[0m\u001b[0;34m\u001b[0m\u001b[0;34m\u001b[0m\u001b[0m\n\u001b[0m\u001b[1;32m     11\u001b[0m   \u001b[0;32melse\u001b[0m\u001b[0;34m:\u001b[0m\u001b[0;34m\u001b[0m\u001b[0;34m\u001b[0m\u001b[0m\n\u001b[1;32m     12\u001b[0m     \u001b[0ms\u001b[0m\u001b[0;34m=\u001b[0m\u001b[0ms\u001b[0m\u001b[0;34m-\u001b[0m\u001b[0ma\u001b[0m\u001b[0;34m[\u001b[0m\u001b[0ml\u001b[0m\u001b[0;34m]\u001b[0m\u001b[0;34m\u001b[0m\u001b[0;34m\u001b[0m\u001b[0m\n",
            "\u001b[0;31mTypeError\u001b[0m: 'int' object is not callable"
          ]
        }
      ]
    },
    {
      "cell_type": "markdown",
      "source": [
        "afternoon"
      ],
      "metadata": {
        "id": "F1SJwUsuPdNR"
      }
    },
    {
      "cell_type": "markdown",
      "source": [
        "**print the longest palindromic substring**"
      ],
      "metadata": {
        "id": "3liHr9NuP6O7"
      }
    },
    {
      "cell_type": "code",
      "source": [
        "# print the length of longest palindromic substring\n",
        "\n",
        "a=list(a)\n",
        "# f=a[i]\n",
        "l=0\n",
        "r=0\n",
        "\n",
        "\n",
        "\n",
        "for i in range(len(a)-1):\n",
        "  temp=a[l]\n",
        "  if a[i] == a[i+1]:\n",
        "    print(a)\n"
      ],
      "metadata": {
        "colab": {
          "base_uri": "https://localhost:8080/"
        },
        "id": "KebJdsJiPfAX",
        "outputId": "b2343f5b-7615-4ee0-9b54-77e656e00ec0"
      },
      "execution_count": null,
      "outputs": [
        {
          "output_type": "stream",
          "name": "stdout",
          "text": [
            "['a', 'b', 'a', 'a', 'b', 'b', 'a']\n",
            "['a', 'b', 'a', 'a', 'b', 'b', 'a']\n"
          ]
        }
      ]
    },
    {
      "cell_type": "code",
      "source": [
        "a=\"ababba\"                                 #total numbers lo  sub strings\n",
        "m=0                             #maruthi\n",
        "st=0\n",
        "count=0\n",
        "for i in range(len(a)):\n",
        "    l=i\n",
        "    r=i\n",
        "    while(l>=0 and r<len(a) and a[l]==a[r]):\n",
        "        if(r-l+1>m):\n",
        "            m=r-l+1\n",
        "            st=l\n",
        "        count+=1\n",
        "        # m=max(m,r-l+1)\n",
        "        l=l-1\n",
        "        r=r+1\n",
        "    l=i\n",
        "    r=i+1\n",
        "    while(l>=0 and r<len(a) and a[l]==a[r]):\n",
        "        if(r-l+1>m):\n",
        "            m=r-l+1\n",
        "            st=l\n",
        "        count+=1\n",
        "        l=l-1\n",
        "        r=r+1\n",
        "print(count)"
      ],
      "metadata": {
        "colab": {
          "base_uri": "https://localhost:8080/"
        },
        "id": "WK5924NIiuX_",
        "outputId": "25b827e3-9165-49e4-f870-48a5ca7fab22"
      },
      "execution_count": null,
      "outputs": [
        {
          "output_type": "stream",
          "name": "stdout",
          "text": [
            "10\n"
          ]
        }
      ]
    },
    {
      "cell_type": "code",
      "source": [
        "a=\"abaabba\"\n",
        "max_length=0\n",
        "for i in range(len(a)):\n",
        "  l=i\n",
        "  r=i\n",
        "  while(l>=0 and r<len(a) and a[l]==a[r]):       #odd\n",
        "    max_length=max(max_length,r-l+1)\n",
        "    l=l-1\n",
        "    r=r+1\n",
        "\n",
        "  l=i\n",
        "  r=i+1\n",
        "  while(l>=0 and r<len(a) and a[l]==a[r]):       #even\n",
        "    max_length=max(max_length,r-l+1)\n",
        "    l=l-1\n",
        "    r=r+1\n",
        "print(max_length)                                        #op=4\n"
      ],
      "metadata": {
        "colab": {
          "base_uri": "https://localhost:8080/",
          "height": 211
        },
        "id": "__bj8ZtuYEH-",
        "outputId": "d65ef451-aabe-48f7-c4e1-ce9ebfba25db"
      },
      "execution_count": null,
      "outputs": [
        {
          "output_type": "error",
          "ename": "TypeError",
          "evalue": "'int' object is not callable",
          "traceback": [
            "\u001b[0;31m---------------------------------------------------------------------------\u001b[0m",
            "\u001b[0;31mTypeError\u001b[0m                                 Traceback (most recent call last)",
            "\u001b[0;32m<ipython-input-74-1a6b6dfe57a7>\u001b[0m in \u001b[0;36m<cell line: 0>\u001b[0;34m()\u001b[0m\n\u001b[1;32m      6\u001b[0m   \u001b[0;32mwhile\u001b[0m\u001b[0;34m(\u001b[0m\u001b[0ml\u001b[0m\u001b[0;34m>=\u001b[0m\u001b[0;36m0\u001b[0m \u001b[0;32mand\u001b[0m \u001b[0mr\u001b[0m\u001b[0;34m<\u001b[0m\u001b[0mlen\u001b[0m\u001b[0;34m(\u001b[0m\u001b[0ma\u001b[0m\u001b[0;34m)\u001b[0m \u001b[0;32mand\u001b[0m \u001b[0ma\u001b[0m\u001b[0;34m[\u001b[0m\u001b[0ml\u001b[0m\u001b[0;34m]\u001b[0m\u001b[0;34m==\u001b[0m\u001b[0ma\u001b[0m\u001b[0;34m[\u001b[0m\u001b[0mr\u001b[0m\u001b[0;34m]\u001b[0m\u001b[0;34m)\u001b[0m\u001b[0;34m:\u001b[0m       \u001b[0;31m#odd\u001b[0m\u001b[0;34m\u001b[0m\u001b[0;34m\u001b[0m\u001b[0m\n\u001b[1;32m      7\u001b[0m     \u001b[0mcurrent_length\u001b[0m \u001b[0;34m=\u001b[0m \u001b[0mr\u001b[0m\u001b[0;34m-\u001b[0m\u001b[0ml\u001b[0m\u001b[0;34m+\u001b[0m\u001b[0;36m1\u001b[0m\u001b[0;34m\u001b[0m\u001b[0;34m\u001b[0m\u001b[0m\n\u001b[0;32m----> 8\u001b[0;31m     \u001b[0mmax_length\u001b[0m\u001b[0;34m=\u001b[0m\u001b[0mmax\u001b[0m\u001b[0;34m(\u001b[0m\u001b[0mmax_length\u001b[0m\u001b[0;34m,\u001b[0m\u001b[0mr\u001b[0m\u001b[0;34m-\u001b[0m\u001b[0ml\u001b[0m\u001b[0;34m+\u001b[0m\u001b[0;36m1\u001b[0m\u001b[0;34m)\u001b[0m\u001b[0;34m\u001b[0m\u001b[0;34m\u001b[0m\u001b[0m\n\u001b[0m\u001b[1;32m      9\u001b[0m     \u001b[0ml\u001b[0m\u001b[0;34m=\u001b[0m\u001b[0ml\u001b[0m\u001b[0;34m-\u001b[0m\u001b[0;36m1\u001b[0m\u001b[0;34m\u001b[0m\u001b[0;34m\u001b[0m\u001b[0m\n\u001b[1;32m     10\u001b[0m     \u001b[0mr\u001b[0m\u001b[0;34m=\u001b[0m\u001b[0mr\u001b[0m\u001b[0;34m+\u001b[0m\u001b[0;36m1\u001b[0m\u001b[0;34m\u001b[0m\u001b[0;34m\u001b[0m\u001b[0m\n",
            "\u001b[0;31mTypeError\u001b[0m: 'int' object is not callable"
          ]
        }
      ]
    },
    {
      "source": [
        "a=\"abaabba\"\n",
        "max_length = 0 # Use a different variable name\n",
        "st=0\n",
        "for i in range(len(a)):\n",
        "  l=i\n",
        "  r=i\n",
        "  while(l>=0 and r<len(a) and a[l]==a[r]):       #odd\n",
        "    max_length = max(max_length,r-l+1) # Use the correct function name\n",
        "    if(r-l+1>max_length):\n",
        "      m=r-1+1\n",
        "      st=l\n",
        "    l=l-1\n",
        "    r=r+1\n",
        "\n",
        "  l=i\n",
        "  r=i+1\n",
        "  while(l>=0 and r<len(a) and a[l]==a[r]):       #even\n",
        "    max_length = max(max_length,r-l+1) # Use the correct function name\n",
        "    if(r-l+1>max_length):\n",
        "      m=r-1+1\n",
        "      st=l\n",
        "    l=l-1\n",
        "    r=r+1\n",
        "\n",
        "print(a[st:st+max_length])"
      ],
      "cell_type": "code",
      "metadata": {
        "colab": {
          "base_uri": "https://localhost:8080/",
          "height": 211
        },
        "id": "70Cg20RygWMb",
        "outputId": "12a88b3b-bac8-4eac-a74a-43a89a8715e7"
      },
      "execution_count": null,
      "outputs": [
        {
          "output_type": "error",
          "ename": "TypeError",
          "evalue": "'int' object is not callable",
          "traceback": [
            "\u001b[0;31m---------------------------------------------------------------------------\u001b[0m",
            "\u001b[0;31mTypeError\u001b[0m                                 Traceback (most recent call last)",
            "\u001b[0;32m<ipython-input-78-ba45a3761337>\u001b[0m in \u001b[0;36m<cell line: 0>\u001b[0;34m()\u001b[0m\n\u001b[1;32m      6\u001b[0m   \u001b[0mr\u001b[0m\u001b[0;34m=\u001b[0m\u001b[0mi\u001b[0m\u001b[0;34m\u001b[0m\u001b[0;34m\u001b[0m\u001b[0m\n\u001b[1;32m      7\u001b[0m   \u001b[0;32mwhile\u001b[0m\u001b[0;34m(\u001b[0m\u001b[0ml\u001b[0m\u001b[0;34m>=\u001b[0m\u001b[0;36m0\u001b[0m \u001b[0;32mand\u001b[0m \u001b[0mr\u001b[0m\u001b[0;34m<\u001b[0m\u001b[0mlen\u001b[0m\u001b[0;34m(\u001b[0m\u001b[0ma\u001b[0m\u001b[0;34m)\u001b[0m \u001b[0;32mand\u001b[0m \u001b[0ma\u001b[0m\u001b[0;34m[\u001b[0m\u001b[0ml\u001b[0m\u001b[0;34m]\u001b[0m\u001b[0;34m==\u001b[0m\u001b[0ma\u001b[0m\u001b[0;34m[\u001b[0m\u001b[0mr\u001b[0m\u001b[0;34m]\u001b[0m\u001b[0;34m)\u001b[0m\u001b[0;34m:\u001b[0m       \u001b[0;31m#odd\u001b[0m\u001b[0;34m\u001b[0m\u001b[0;34m\u001b[0m\u001b[0m\n\u001b[0;32m----> 8\u001b[0;31m     \u001b[0mmax_length\u001b[0m \u001b[0;34m=\u001b[0m \u001b[0mmax\u001b[0m\u001b[0;34m(\u001b[0m\u001b[0mmax_length\u001b[0m\u001b[0;34m,\u001b[0m\u001b[0mr\u001b[0m\u001b[0;34m-\u001b[0m\u001b[0ml\u001b[0m\u001b[0;34m+\u001b[0m\u001b[0;36m1\u001b[0m\u001b[0;34m)\u001b[0m \u001b[0;31m# Use the correct function name\u001b[0m\u001b[0;34m\u001b[0m\u001b[0;34m\u001b[0m\u001b[0m\n\u001b[0m\u001b[1;32m      9\u001b[0m     \u001b[0;32mif\u001b[0m\u001b[0;34m(\u001b[0m\u001b[0mr\u001b[0m\u001b[0;34m-\u001b[0m\u001b[0ml\u001b[0m\u001b[0;34m+\u001b[0m\u001b[0;36m1\u001b[0m\u001b[0;34m>\u001b[0m\u001b[0mmax_length\u001b[0m\u001b[0;34m)\u001b[0m\u001b[0;34m:\u001b[0m\u001b[0;34m\u001b[0m\u001b[0;34m\u001b[0m\u001b[0m\n\u001b[1;32m     10\u001b[0m       \u001b[0mm\u001b[0m\u001b[0;34m=\u001b[0m\u001b[0mr\u001b[0m\u001b[0;34m-\u001b[0m\u001b[0;36m1\u001b[0m\u001b[0;34m+\u001b[0m\u001b[0;36m1\u001b[0m\u001b[0;34m\u001b[0m\u001b[0;34m\u001b[0m\u001b[0m\n",
            "\u001b[0;31mTypeError\u001b[0m: 'int' object is not callable"
          ]
        }
      ]
    },
    {
      "source": [
        "a=\"abaabba\"\n",
        "max_length = 0\n",
        "st=0\n",
        "for i in range(len(a)):\n",
        "  l=i\n",
        "  r=i\n",
        "  while(l>=0 and r<len(a) and a[l]==a[r]):       #odd\n",
        "    # Check if the current palindrome is longer than the maximum found so far\n",
        "    current_length = r-l+1\n",
        "    if current_length > max_length:\n",
        "      max_length = current_length\n",
        "      st = l\n",
        "    l=l-1\n",
        "    r=r+1\n",
        "\n",
        "  l=i\n",
        "  r=i+1\n",
        "  while(l>=0 and r<len(a) and a[l]==a[r]):       #even\n",
        "    # Check if the current palindrome is longer than the maximum found so far\n",
        "    current_length = r-l+1\n",
        "    if current_length > max_length:\n",
        "      max_length = current_length\n",
        "      st = l\n",
        "    l=l-1\n",
        "    r=r+1\n",
        "\n",
        "print(a[st:st+max_length])"
      ],
      "cell_type": "code",
      "metadata": {
        "colab": {
          "base_uri": "https://localhost:8080/"
        },
        "id": "xrkl_vHuiWOS",
        "outputId": "ce7b7eb3-dcf3-4856-f88b-72154b1b1530"
      },
      "execution_count": null,
      "outputs": [
        {
          "output_type": "stream",
          "name": "stdout",
          "text": [
            "baab\n"
          ]
        }
      ]
    },
    {
      "cell_type": "code",
      "source": [
        "# print the length of longest palindromic substring       #ai\n",
        "# a=\"abaabba\"\n",
        "\n",
        "def longest_palindrome_substring(s):\n",
        "    n = len(s)\n",
        "    if n < 2:\n",
        "        return n\n",
        "\n",
        "    start = 0\n",
        "    max_len = 1\n",
        "\n",
        "    for i in range(n):\n",
        "        # Check for odd length palindromes (center is a single character)\n",
        "        l, r = i, i\n",
        "        while l >= 0 and r < n and s[l] == s[r]:\n",
        "            if r - l + 1 > max_len:\n",
        "                max_len = r - l + 1\n",
        "                start = l\n",
        "            l -= 1\n",
        "            r += 1\n",
        "\n",
        "        # Check for even length palindromes (center is between two characters)\n",
        "        l, r = i, i + 1\n",
        "        while l >= 0 and r < n and s[l] == s[r]:\n",
        "            if r - l + 1 > max_len:\n",
        "                max_len = r - l + 1\n",
        "                start = l\n",
        "            l -= 1\n",
        "            r += 1\n",
        "\n",
        "    return max_len\n",
        "\n",
        "a = \"abaabba\"\n",
        "print(longest_palindrome_substring(a))\n"
      ],
      "metadata": {
        "colab": {
          "base_uri": "https://localhost:8080/"
        },
        "id": "cAddJW1qRbHh",
        "outputId": "017f19de-4001-4741-d235-df6cb6880065"
      },
      "execution_count": null,
      "outputs": [
        {
          "output_type": "stream",
          "name": "stdout",
          "text": [
            "4\n"
          ]
        }
      ]
    },
    {
      "cell_type": "markdown",
      "source": [
        "length of largest sub string with out repeating the char"
      ],
      "metadata": {
        "id": "paZaVNRUnNcq"
      }
    },
    {
      "cell_type": "code",
      "source": [
        "#length of largest sub string with out repeating the char                  #leetcode 3\n",
        "\n",
        "# a=\"abcdaecdb\"                 #4\n",
        "\n",
        "# m=max(m,r-l+1)\n",
        "# l=d[s[r]]+1  sir explaind  in class\n",
        "# while (r<n-1  ... )\n",
        "\n",
        "a=\"abcdecfbgce\"                 #6(decfbg)\n",
        "#  l              #  6(decfbg)\n",
        "#  r-->\n",
        "# l,m,d=0,0,{}\n",
        "d={}\n",
        "l=0\n",
        "m=0\n",
        "for r in range(len(a)):\n",
        "  if a[r] not in d:\n",
        "    d[a[r]]=r\n",
        "  else:\n",
        "    if (d[a[r]]>=l):\n",
        "      l=d[a[r]]+1\n",
        "    d[a[r]]=r\n",
        "  m=max(m,r-l+1)     #here u should change  to print the string\n",
        "print(m)"
      ],
      "metadata": {
        "id": "6lET7LOBnNCo",
        "colab": {
          "base_uri": "https://localhost:8080/"
        },
        "outputId": "4101ad07-a6cf-41db-e8dd-be9d77b6ea39"
      },
      "execution_count": null,
      "outputs": [
        {
          "output_type": "stream",
          "name": "stdout",
          "text": [
            "6\n"
          ]
        }
      ]
    },
    {
      "cell_type": "code",
      "source": [
        "a=\"abcdecfbgce\"\n",
        "#  l              #  6(decfbg)\n",
        "#  r\n",
        "# l,m,d=0,0,{}\n",
        "d={}\n",
        "l=0\n",
        "m=0\n",
        "st=0\n",
        "for r in range(len(a)):\n",
        "  if a[r] not in d:\n",
        "    d[a[r]]=r\n",
        "  else:\n",
        "    if (d[a[r]]>=l):\n",
        "      l=d[a[r]]+1\n",
        "    d[a[r]]=r\n",
        "  if (r-l+1)>m:     #printing the string\n",
        "    m=r-l+1\n",
        "    st=l\n",
        "print(a[st:st+m],m)     #max(string and numbers)"
      ],
      "metadata": {
        "colab": {
          "base_uri": "https://localhost:8080/"
        },
        "id": "vM3cCrm8oNBj",
        "outputId": "d4d55639-bb12-4058-a57c-bc05d68e7b13"
      },
      "execution_count": null,
      "outputs": [
        {
          "output_type": "stream",
          "name": "stdout",
          "text": [
            "decfbg 6\n"
          ]
        }
      ]
    },
    {
      "cell_type": "code",
      "source": [
        "#exam\n",
        "\n",
        "\n",
        "# Q1 three pointer\n",
        "\n",
        "def minimize_max_abs_diff(X, Y, Z):\n",
        "    i = j = k = 0\n",
        "    min_diff = float('inf')\n",
        "\n",
        "    while i < len(X) and j < len(Y) and k < len(Z):\n",
        "        a, b, c = X[i], Y[j], Z[k]\n",
        "        current_max = max(abs(a - b), abs(b - c), abs(c - a))\n",
        "        min_diff = min(min_diff, current_max)\n",
        "\n",
        "        # Move the pointer of the smallest element\n",
        "        if a <= b and a <= c:\n",
        "            i += 1\n",
        "        elif b <= a and b <= c:\n",
        "            j += 1\n",
        "        else:\n",
        "            k += 1\n",
        "\n",
        "    return min_diff\n",
        "\n",
        "# Input reading\n",
        "A = int(input())\n",
        "X = list(map(int, input().split()))\n",
        "B = int(input())\n",
        "Y = list(map(int, input().split()))\n",
        "C = int(input())\n",
        "Z = list(map(int, input().split()))\n",
        "\n",
        "# Function call\n",
        "print(minimize_max_abs_diff(X, Y, Z))"
      ],
      "metadata": {
        "colab": {
          "base_uri": "https://localhost:8080/",
          "height": 408
        },
        "id": "aWqXgSjaVYuo",
        "outputId": "71772bc1-c95f-4f55-da81-8d6a88c220b7"
      },
      "execution_count": null,
      "outputs": [
        {
          "name": "stdout",
          "output_type": "stream",
          "text": [
            "2356\n",
            "2635\n",
            "562\n"
          ]
        },
        {
          "output_type": "error",
          "ename": "KeyboardInterrupt",
          "evalue": "Interrupted by user",
          "traceback": [
            "\u001b[0;31m---------------------------------------------------------------------------\u001b[0m",
            "\u001b[0;31mKeyboardInterrupt\u001b[0m                         Traceback (most recent call last)",
            "\u001b[0;32m<ipython-input-2-b48a5993ad4b>\u001b[0m in \u001b[0;36m<cell line: 0>\u001b[0;34m()\u001b[0m\n\u001b[1;32m     24\u001b[0m \u001b[0mX\u001b[0m \u001b[0;34m=\u001b[0m \u001b[0mlist\u001b[0m\u001b[0;34m(\u001b[0m\u001b[0mmap\u001b[0m\u001b[0;34m(\u001b[0m\u001b[0mint\u001b[0m\u001b[0;34m,\u001b[0m \u001b[0minput\u001b[0m\u001b[0;34m(\u001b[0m\u001b[0;34m)\u001b[0m\u001b[0;34m.\u001b[0m\u001b[0msplit\u001b[0m\u001b[0;34m(\u001b[0m\u001b[0;34m)\u001b[0m\u001b[0;34m)\u001b[0m\u001b[0;34m)\u001b[0m\u001b[0;34m\u001b[0m\u001b[0;34m\u001b[0m\u001b[0m\n\u001b[1;32m     25\u001b[0m \u001b[0mB\u001b[0m \u001b[0;34m=\u001b[0m \u001b[0mint\u001b[0m\u001b[0;34m(\u001b[0m\u001b[0minput\u001b[0m\u001b[0;34m(\u001b[0m\u001b[0;34m)\u001b[0m\u001b[0;34m)\u001b[0m\u001b[0;34m\u001b[0m\u001b[0;34m\u001b[0m\u001b[0m\n\u001b[0;32m---> 26\u001b[0;31m \u001b[0mY\u001b[0m \u001b[0;34m=\u001b[0m \u001b[0mlist\u001b[0m\u001b[0;34m(\u001b[0m\u001b[0mmap\u001b[0m\u001b[0;34m(\u001b[0m\u001b[0mint\u001b[0m\u001b[0;34m,\u001b[0m \u001b[0minput\u001b[0m\u001b[0;34m(\u001b[0m\u001b[0;34m)\u001b[0m\u001b[0;34m.\u001b[0m\u001b[0msplit\u001b[0m\u001b[0;34m(\u001b[0m\u001b[0;34m)\u001b[0m\u001b[0;34m)\u001b[0m\u001b[0;34m)\u001b[0m\u001b[0;34m\u001b[0m\u001b[0;34m\u001b[0m\u001b[0m\n\u001b[0m\u001b[1;32m     27\u001b[0m \u001b[0mC\u001b[0m \u001b[0;34m=\u001b[0m \u001b[0mint\u001b[0m\u001b[0;34m(\u001b[0m\u001b[0minput\u001b[0m\u001b[0;34m(\u001b[0m\u001b[0;34m)\u001b[0m\u001b[0;34m)\u001b[0m\u001b[0;34m\u001b[0m\u001b[0;34m\u001b[0m\u001b[0m\n\u001b[1;32m     28\u001b[0m \u001b[0mZ\u001b[0m \u001b[0;34m=\u001b[0m \u001b[0mlist\u001b[0m\u001b[0;34m(\u001b[0m\u001b[0mmap\u001b[0m\u001b[0;34m(\u001b[0m\u001b[0mint\u001b[0m\u001b[0;34m,\u001b[0m \u001b[0minput\u001b[0m\u001b[0;34m(\u001b[0m\u001b[0;34m)\u001b[0m\u001b[0;34m.\u001b[0m\u001b[0msplit\u001b[0m\u001b[0;34m(\u001b[0m\u001b[0;34m)\u001b[0m\u001b[0;34m)\u001b[0m\u001b[0;34m)\u001b[0m\u001b[0;34m\u001b[0m\u001b[0;34m\u001b[0m\u001b[0m\n",
            "\u001b[0;32m/usr/local/lib/python3.11/dist-packages/ipykernel/kernelbase.py\u001b[0m in \u001b[0;36mraw_input\u001b[0;34m(self, prompt)\u001b[0m\n\u001b[1;32m   1175\u001b[0m                 \u001b[0;34m\"raw_input was called, but this frontend does not support input requests.\"\u001b[0m\u001b[0;34m\u001b[0m\u001b[0;34m\u001b[0m\u001b[0m\n\u001b[1;32m   1176\u001b[0m             )\n\u001b[0;32m-> 1177\u001b[0;31m         return self._input_request(\n\u001b[0m\u001b[1;32m   1178\u001b[0m             \u001b[0mstr\u001b[0m\u001b[0;34m(\u001b[0m\u001b[0mprompt\u001b[0m\u001b[0;34m)\u001b[0m\u001b[0;34m,\u001b[0m\u001b[0;34m\u001b[0m\u001b[0;34m\u001b[0m\u001b[0m\n\u001b[1;32m   1179\u001b[0m             \u001b[0mself\u001b[0m\u001b[0;34m.\u001b[0m\u001b[0m_parent_ident\u001b[0m\u001b[0;34m[\u001b[0m\u001b[0;34m\"shell\"\u001b[0m\u001b[0;34m]\u001b[0m\u001b[0;34m,\u001b[0m\u001b[0;34m\u001b[0m\u001b[0;34m\u001b[0m\u001b[0m\n",
            "\u001b[0;32m/usr/local/lib/python3.11/dist-packages/ipykernel/kernelbase.py\u001b[0m in \u001b[0;36m_input_request\u001b[0;34m(self, prompt, ident, parent, password)\u001b[0m\n\u001b[1;32m   1217\u001b[0m             \u001b[0;32mexcept\u001b[0m \u001b[0mKeyboardInterrupt\u001b[0m\u001b[0;34m:\u001b[0m\u001b[0;34m\u001b[0m\u001b[0;34m\u001b[0m\u001b[0m\n\u001b[1;32m   1218\u001b[0m                 \u001b[0;31m# re-raise KeyboardInterrupt, to truncate traceback\u001b[0m\u001b[0;34m\u001b[0m\u001b[0;34m\u001b[0m\u001b[0m\n\u001b[0;32m-> 1219\u001b[0;31m                 \u001b[0;32mraise\u001b[0m \u001b[0mKeyboardInterrupt\u001b[0m\u001b[0;34m(\u001b[0m\u001b[0;34m\"Interrupted by user\"\u001b[0m\u001b[0;34m)\u001b[0m \u001b[0;32mfrom\u001b[0m \u001b[0;32mNone\u001b[0m\u001b[0;34m\u001b[0m\u001b[0;34m\u001b[0m\u001b[0m\n\u001b[0m\u001b[1;32m   1220\u001b[0m             \u001b[0;32mexcept\u001b[0m \u001b[0mException\u001b[0m\u001b[0;34m:\u001b[0m\u001b[0;34m\u001b[0m\u001b[0;34m\u001b[0m\u001b[0m\n\u001b[1;32m   1221\u001b[0m                 \u001b[0mself\u001b[0m\u001b[0;34m.\u001b[0m\u001b[0mlog\u001b[0m\u001b[0;34m.\u001b[0m\u001b[0mwarning\u001b[0m\u001b[0;34m(\u001b[0m\u001b[0;34m\"Invalid Message:\"\u001b[0m\u001b[0;34m,\u001b[0m \u001b[0mexc_info\u001b[0m\u001b[0;34m=\u001b[0m\u001b[0;32mTrue\u001b[0m\u001b[0;34m)\u001b[0m\u001b[0;34m\u001b[0m\u001b[0;34m\u001b[0m\u001b[0m\n",
            "\u001b[0;31mKeyboardInterrupt\u001b[0m: Interrupted by user"
          ]
        }
      ]
    },
    {
      "cell_type": "code",
      "source": [
        "#Q2\n",
        "# Aggressive Cows          n=numberof elem ,k=numbers of cows\n",
        "\n",
        "n, k = map(int, input().split())\n",
        "arr = list(map(int, input().split()))\n",
        "arr.sort()\n",
        "low = 1\n",
        "high = arr[-1] - arr[0]\n",
        "res = 0\n",
        "while low <= high:\n",
        "    mid = (low + high) // 2\n",
        "    count = 1\n",
        "    last_pos = arr[0]\n",
        "    for i in range(1, n):\n",
        "        if arr[i] - last_pos >= mid:\n",
        "            count += 1\n",
        "            last_pos = arr[i]\n",
        "    if count >= k:\n",
        "        res = mid\n",
        "        low = mid + 1\n",
        "    else:\n",
        "        high = mid - 1\n",
        "print(res)"
      ],
      "metadata": {
        "id": "jn3dhzg5W-lO"
      },
      "execution_count": null,
      "outputs": []
    },
    {
      "cell_type": "markdown",
      "source": [
        "#24/05/25  --------DAY-12\n",
        "\n",
        "(length of largest sub string with out repeating the char,---remove k numbers cards either from front and back, ---1004 ,---904. Fruit Into Baskets, ---doctor and patient timmings)"
      ],
      "metadata": {
        "id": "5ovOvbVtU7kn"
      }
    },
    {
      "cell_type": "markdown",
      "source": [
        "length of largest sub string with out repeating the char            -------leetcode 3         "
      ],
      "metadata": {
        "id": "DIeo0bBflu8Y"
      }
    },
    {
      "cell_type": "code",
      "source": [
        "#Q1\n",
        "\n",
        "#length of largest sub string with out repeating the char                  #leetcode 3    #corerct code\n",
        "a=\"abcdecfbgce\"\n",
        "#  l              #  6(decfbg)\n",
        "#  r\n",
        "# l,m,d=0,0,{}\n",
        "d={}\n",
        "l=0\n",
        "m=0\n",
        "for r in range(len(a)):\n",
        "  if a[r] not in d:\n",
        "    d[a[r]]=r\n",
        "    print(d)\n",
        "  else:\n",
        "    if (d[a[r]]>=l):\n",
        "      l=d[a[r]]+1\n",
        "    d[a[r]]=r\n",
        "  m=max(m,r-l+1)     #here u should change  to print the string\n",
        "print(m)"
      ],
      "metadata": {
        "colab": {
          "base_uri": "https://localhost:8080/"
        },
        "id": "QI0UJWbtVL_7",
        "outputId": "167e28fd-5ab4-49f3-e85f-091d2c724cc7"
      },
      "execution_count": null,
      "outputs": [
        {
          "output_type": "stream",
          "name": "stdout",
          "text": [
            "{'a': 0}\n",
            "{'a': 0, 'b': 1}\n",
            "{'a': 0, 'b': 1, 'c': 2}\n",
            "{'a': 0, 'b': 1, 'c': 2, 'd': 3}\n",
            "{'a': 0, 'b': 1, 'c': 2, 'd': 3, 'e': 4}\n",
            "{'a': 0, 'b': 1, 'c': 5, 'd': 3, 'e': 4, 'f': 6}\n",
            "{'a': 0, 'b': 7, 'c': 5, 'd': 3, 'e': 4, 'f': 6, 'g': 8}\n",
            "6\n"
          ]
        }
      ]
    },
    {
      "cell_type": "code",
      "source": [
        "#printing the max string and number   #correct code\n",
        "\n",
        "a=\"abcdecfbgce\"\n",
        "#  l              #  6(decfbg)\n",
        "#  r\n",
        "# l,m,d,st=0,0,{},0\n",
        "d={}\n",
        "l=0\n",
        "m=0\n",
        "st=0\n",
        "for r in range(len(a)):\n",
        "  if a[r] not in d:\n",
        "    d[a[r]]=r\n",
        "  else:\n",
        "    if (d[a[r]]>=l):\n",
        "      l=d[a[r]]+1\n",
        "    d[a[r]]=r\n",
        "  if (r-l+1)>m:     #printing the string\n",
        "    m=r-l+1\n",
        "    st=l\n",
        "print(a[st:st+m],m)     #max(string and numbers)"
      ],
      "metadata": {
        "colab": {
          "base_uri": "https://localhost:8080/"
        },
        "id": "uT3H2fxDpR-y",
        "outputId": "860dfd18-ae56-4956-8402-8ebceeb643a1"
      },
      "execution_count": null,
      "outputs": [
        {
          "output_type": "stream",
          "name": "stdout",
          "text": [
            "decfbg 6\n"
          ]
        }
      ]
    },
    {
      "cell_type": "code",
      "source": [
        "#Q2\n",
        "#print non reperating and longest string and u,v should be present in that string\n",
        "\n",
        "#printing the max string and number   #sir code  #correct code\n",
        "\n",
        "a=\"abcdedacefaebghd\"\n",
        "#  l                 #op is 5\n",
        "#  r\n",
        "# l,m,d,st=0,0,{},0\n",
        "d={}\n",
        "l=0\n",
        "m=0\n",
        "st=0\n",
        "u,v='c','d'\n",
        "for r in range(len(a)):\n",
        "  if a[r] not in d:\n",
        "    d[a[r]]=r\n",
        "  else:\n",
        "    if (d[a[r]]>=l):\n",
        "      l=d[a[r]]+1\n",
        "    d[a[r]]=r\n",
        "  if (r-l+1)>m and u in d and v in d and d[u]>=l and d[v]>=l:     #printing the string  #this was added\n",
        "    m=r-l+1\n",
        "    st=l\n",
        "print(a[st:st+m],m)     #max(string and numbers with u,v)\n"
      ],
      "metadata": {
        "colab": {
          "base_uri": "https://localhost:8080/"
        },
        "id": "K3eyZ5_blvpM",
        "outputId": "a539fd3a-6b1f-468c-e096-661799274f38"
      },
      "execution_count": null,
      "outputs": [
        {
          "output_type": "stream",
          "name": "stdout",
          "text": [
            "abcde 5\n"
          ]
        }
      ]
    },
    {
      "cell_type": "markdown",
      "source": [
        "Q3     *------cards remove"
      ],
      "metadata": {
        "id": "onn9atEXHdkG"
      }
    },
    {
      "cell_type": "code",
      "source": [
        "# Q3     *------cards\n",
        "# remove k numbers cards either from front and back\n",
        "\n",
        "a=[4,2,7,20,8,6,4,1]   #op=13 (4,2,7)\n",
        "# a=[4,2,7,20,8,60,4,1]   #op=65 (60,4,1)\n",
        "# a=[4,2,7,20,8,6,8,1]   #op=15  (6,8,1)\n",
        "k=3\n",
        "l_s=0\n",
        "n=len(a)\n",
        "for i in range(k):\n",
        "  l_s=l_s+a[i]\n",
        "\n",
        "r_s=0\n",
        "m=l_s\n",
        "print(l_s)\n",
        "for i in range(k-1,-1,-1):\n",
        "  l_s=l_s-a[i]\n",
        "  r_s=r_s+a[n-1]\n",
        "  m=max(m,l_s+r_s)           #adding and finding the max\n",
        "  n=n-1\n",
        "  print(l_s,r_s)\n",
        "print(m)\n"
      ],
      "metadata": {
        "colab": {
          "base_uri": "https://localhost:8080/"
        },
        "id": "vZfLXSOmwKc8",
        "outputId": "d3f151d7-5dbf-411e-9fa2-f33ad624ee91"
      },
      "execution_count": null,
      "outputs": [
        {
          "output_type": "stream",
          "name": "stdout",
          "text": [
            "13\n",
            "6 1\n",
            "4 5\n",
            "0 11\n",
            "13\n"
          ]
        }
      ]
    },
    {
      "cell_type": "code",
      "source": [
        "# now print  the  max cards u took   (4,2,7)"
      ],
      "metadata": {
        "id": "uW6Uhsfj_9d-"
      },
      "execution_count": null,
      "outputs": []
    },
    {
      "cell_type": "markdown",
      "source": [
        "leetcode #1004  \n",
        "\n",
        "1004. Max Consecutive Ones III"
      ],
      "metadata": {
        "id": "3-yeCfPoBcWM"
      }
    },
    {
      "cell_type": "markdown",
      "source": [
        "afternoon"
      ],
      "metadata": {
        "id": "zIuq192RVbT-"
      }
    },
    {
      "cell_type": "code",
      "source": [
        "# Q4\n",
        "# Input: nums = [1,1,1,0,0,0,1,1,1,1,0], k = 2                 #leet code  1004\n",
        "# Output: 6\n",
        "# Explanation: [1,1,1,0,0,1,1,1,1,1,1]\n",
        "# Bolded numbers were flipped from 0 to 1. The longest subarray is underlined.\n",
        "\n",
        "\n",
        "a= [1,1,1,0,0,0,1,1,1,1,0]\n",
        "#   l\n",
        "#   r-->\n",
        "k = 2\n",
        "l=0\n",
        "z=0  #zero\n",
        "m=0\n",
        "for r in range(len(a)):\n",
        "  if(a[r]== 0):\n",
        "    z=z+1\n",
        "  if(z>k):\n",
        "    if(a[l]==0):\n",
        "      z=z-1\n",
        "    l=l+1\n",
        "  if(z<=k):\n",
        "    m=max(m,r-l+1)\n",
        "print(m)\n",
        "\n"
      ],
      "metadata": {
        "id": "doC-OFkYBkHc",
        "colab": {
          "base_uri": "https://localhost:8080/"
        },
        "outputId": "7087f0b3-9c56-4dc8-b63b-8bca35ee4caf"
      },
      "execution_count": null,
      "outputs": [
        {
          "output_type": "stream",
          "name": "stdout",
          "text": [
            "6\n"
          ]
        }
      ]
    },
    {
      "cell_type": "markdown",
      "source": [
        "leetcode\n",
        "904. Fruit Into Baskets"
      ],
      "metadata": {
        "id": "VAnkx66VckEt"
      }
    },
    {
      "cell_type": "code",
      "source": [
        "#Q 5      #leetcode  904\n",
        "# 904. Fruit Into Baskets\n",
        "\n",
        "# Input: fruits = [1,2,3,2,2]\n",
        "# Output: 4\n",
        "# Explanation: We can pick from trees [2,3,2,2].\n",
        "# If we had started at the first tree, we would only pick from trees [1,2].\n",
        "\n",
        "# f= [1,2,3,2,2]  #op=4 (2,3,2,2)\n",
        "f=[3,3,3,1,2,1,1,2,3,3,4]   #op=5 (1,2,1,1,2)\n",
        "c=0\n",
        "l=0\n",
        "dic={}\n",
        "for i in range(len(f)-1):          # trying\n",
        "  if f[i] not in dic:\n",
        "    dic[f[i]]=1\n",
        "    print(dic)\n",
        "  else:\n",
        "\n",
        "\n",
        "\n",
        "\n"
      ],
      "metadata": {
        "colab": {
          "base_uri": "https://localhost:8080/"
        },
        "id": "hLCn6-Y-cknR",
        "outputId": "0c609bb9-3d0e-4c50-b6de-3f935da7db3c"
      },
      "execution_count": null,
      "outputs": [
        {
          "output_type": "stream",
          "name": "stdout",
          "text": [
            "{3: 1}\n",
            "{3: 1, 1: 1}\n",
            "{3: 1, 1: 1, 2: 1}\n"
          ]
        }
      ]
    },
    {
      "cell_type": "code",
      "source": [
        "#Q 5      #leetcode  904\n",
        "# 904. Fruit Into Baskets\n",
        "\n",
        "# a= [1,2,3,2,2]  #op=4 (2,3,2,2)                 #sir code #correct\n",
        "a=[3,3,3,1,2,1,1,2,3,3,4]   #op=5 (1,2,1,1,2)\n",
        "m=0\n",
        "l=0\n",
        "d={}\n",
        "for i in range(len(a)):\n",
        "  if a[i] not in d:\n",
        "    d[a[i]]=1\n",
        "  else:\n",
        "    d[a[i]]+=1\n",
        "  if(len(d)>2):\n",
        "    d[a[l]]-=1\n",
        "    # l=l+1\n",
        "    if d[a[l]]==0:\n",
        "      del d[a[l]]\n",
        "    l=l+1\n",
        "  if(len(d)<=2):\n",
        "    m=max(m,i-l+1)\n",
        "print(m)\n"
      ],
      "metadata": {
        "colab": {
          "base_uri": "https://localhost:8080/"
        },
        "id": "uXkNXm3Us9Dh",
        "outputId": "0d20688c-eaa7-4586-8479-ce253bed2f00"
      },
      "execution_count": null,
      "outputs": [
        {
          "output_type": "stream",
          "name": "stdout",
          "text": [
            "5\n"
          ]
        }
      ]
    },
    {
      "cell_type": "markdown",
      "source": [
        "Q6\n",
        "doctor and patient timmings"
      ],
      "metadata": {
        "id": "bRII_yP6wrKt"
      }
    },
    {
      "cell_type": "code",
      "source": [
        "#Q6\n",
        "#doctor and patient timmings\n",
        "# find the max numbers doctors required to check the patient  for the whole day timmings\n",
        "\n",
        "s=[900,945,1110,1230,1235,1245,1340,1700]\n",
        "e=[930,1130,1120,1250,1250,1415,1400,1730]    #op=3 doctors\n",
        "\n"
      ],
      "metadata": {
        "id": "kWxOFIGIxLDX"
      },
      "execution_count": null,
      "outputs": []
    },
    {
      "cell_type": "code",
      "source": [
        "# prompt: #Q6\n",
        "# #doctor and patient timmings\n",
        "# # find the max numbers doctors required to check the patient  for the whole day timmings\n",
        "# s=[900,945,1110,1230,1235,1245,1340,1700]\n",
        "# e=[930,1130,1120,1250,1250,1415,1400,1730]    #op=3 doctors\n",
        "# i need the logic to write the code\n",
        "\n",
        "s.sort()\n",
        "e.sort()\n",
        "\n",
        "i = j = 0\n",
        "doctors_needed = 0\n",
        "max_doctors = 0\n",
        "\n",
        "while i < len(s) and j < len(e):\n",
        "    if s[i] < e[j]:\n",
        "        doctors_needed += 1\n",
        "        i += 1\n",
        "        max_doctors = max(max_doctors, doctors_needed)\n",
        "    else:\n",
        "        doctors_needed -= 1\n",
        "        j += 1\n",
        "\n",
        "max_doctors\n"
      ],
      "metadata": {
        "id": "RVMMudqk1ez2"
      },
      "execution_count": null,
      "outputs": []
    },
    {
      "cell_type": "code",
      "source": [
        "# #exam   #Q1\n",
        "# Problem Statement:\n",
        "# Given an array of pairs arr[], a pair (a, b) is said to be symmetric with (c, d) if b = c and a = d. In other words, reversing the elements of one pair should result in the other pair. The first element of each pair is guaranteed to be distinct.\n",
        "\n",
        "# Example 1:\n",
        "\n",
        "# Input:\n",
        "\n",
        "# arr[] = [[10, 20], [30, 40], [20, 10], [50, 60]]   (note:input should be considered as mentioned)\n",
        "# Output:\n",
        "\n",
        "# [10, 20]\n",
        "\n",
        "\n",
        "\n",
        "# Explanation:\n",
        "\n",
        "# [10, 20] and [20, 10] form a symmetric pair.\n",
        "\n",
        "\n",
        "\n",
        "a=eval(input())        #sanjay code passed 4 testcases\n",
        "# print(n)\n",
        "for i in range(len(a)):\n",
        "    for j in range(i,len(a)):\n",
        "        if a[i][1]==a[j][0] and a[i][0]==a[j][1]:\n",
        "            print(a[i])"
      ],
      "metadata": {
        "id": "Or4h4AE_8dBA",
        "colab": {
          "base_uri": "https://localhost:8080/"
        },
        "outputId": "39ea6b4d-dadf-43be-9ed7-62b8c00893b8"
      },
      "execution_count": null,
      "outputs": [
        {
          "output_type": "stream",
          "name": "stdout",
          "text": [
            "[[5, 8], [7, 9], [8, 5], [9, 7], [6, 10]]\n",
            "[5, 8]\n",
            "[7, 9]\n"
          ]
        }
      ]
    },
    {
      "cell_type": "code",
      "source": [
        "arr=input().strip()\n",
        "arr=eval(arr)   #[[5, 8], [7, 9], [8, 5], [9, 7], [6, 10]]\n",
        "seen={}\n",
        "result=[]\n",
        "for a,b in arr:\n",
        "    if b in seen and seen[b]==a:\n",
        "        result.append([b,a])\n",
        "    else:\n",
        "        seen[a]=b\n",
        "for pair in result:\n",
        "    print(pair)"
      ],
      "metadata": {
        "colab": {
          "base_uri": "https://localhost:8080/"
        },
        "id": "9yJa1G8E8hga",
        "outputId": "578d7f13-387f-4484-9f56-0e8c2817dff8"
      },
      "execution_count": null,
      "outputs": [
        {
          "output_type": "stream",
          "name": "stdout",
          "text": [
            "[[5, 8], [7, 9], [8, 5], [9, 7], [6, 10]]\n",
            "[5, 8]\n",
            "[7, 9]\n"
          ]
        }
      ]
    },
    {
      "cell_type": "code",
      "source": [
        "# #exam #Q2\n",
        "\n",
        "# Problem Statement:\n",
        "# Given an array of integers, check if there are four elements in the array with given sum.\n",
        "\n",
        "# Example 1:\n",
        "\n",
        "# Input:\n",
        "\n",
        "# arr = {10, 20, 30, 40, 1, 2}\n",
        "\n",
        "# target = 91\n",
        "# Output: True\n",
        "# Explanation:\n",
        "# Sum of 20 + 30 + 40 + 1 = 91\n",
        "\n",
        "\n",
        "# 1 1 2  2 #arr\n",
        "# 4  #t\n",
        "# 0  #op"
      ],
      "metadata": {
        "id": "v-jXzPuV8iE3"
      },
      "execution_count": null,
      "outputs": []
    },
    {
      "cell_type": "code",
      "source": [
        "n = list(map(int, input().split()))\n",
        "t = int(input())\n",
        "n.sort()\n",
        "f = False\n",
        "\n",
        "for i in range(len(n) - 3):\n",
        "    for j in range(i + 1, len(n) - 2):\n",
        "        left = j + 1\n",
        "        right = len(n) - 1\n",
        "        while left < right:\n",
        "            s = n[i] + n[j] + n[left] + n[right]\n",
        "            if s == t:\n",
        "                f = True\n",
        "                break\n",
        "            elif s < t:\n",
        "                left += 1\n",
        "            else:\n",
        "                right -= 1\n",
        "        if f:\n",
        "            break\n",
        "    if f:\n",
        "        break\n",
        "\n",
        "print(f)"
      ],
      "metadata": {
        "colab": {
          "base_uri": "https://localhost:8080/"
        },
        "id": "4w5-Qcuq-uqM",
        "outputId": "34b4526b-0f7d-403b-f3a9-4929ad7edbf2"
      },
      "execution_count": null,
      "outputs": [
        {
          "output_type": "stream",
          "name": "stdout",
          "text": [
            "1 1 2 2\n",
            "4\n",
            "False\n"
          ]
        }
      ]
    },
    {
      "cell_type": "markdown",
      "source": [
        "#26/05/25   --------Day-13   ----    monday\n",
        "\n",
        "(linked list, ---, perfroming bubble sortin linked lits ---, using fast and slow pointer ---)"
      ],
      "metadata": {
        "id": "LcTZA-6PrwXh"
      }
    },
    {
      "cell_type": "markdown",
      "source": [
        "**linkedlist**"
      ],
      "metadata": {
        "id": "6zpkLPjgu2zl"
      }
    },
    {
      "cell_type": "code",
      "source": [
        "class node:\n",
        "  def __init__(self.data):\n",
        "    self.data =data\n",
        "    self.next=None\n",
        "\n",
        "class linkedlist:\n",
        "  def __init__(self):      #pra #i tryed\n",
        "    self.head=None\n",
        "  def insert(self,data):\n",
        "    new_node=node(data)\n",
        "\n"
      ],
      "metadata": {
        "id": "MgfWrQTasugL"
      },
      "execution_count": null,
      "outputs": []
    },
    {
      "cell_type": "code",
      "source": [
        "class node:\n",
        "  def __init__(self,u):\n",
        "    self.data =u\n",
        "    self.next=None\n",
        "class Linked:\n",
        "  def __init__(self):\n",
        "    self.head=None\n",
        "  def add_back(self,x):\n",
        "    t=self.head\n",
        "    while t.next!=None:\n",
        "      t=t.next\n",
        "    t.next=node(x)\n",
        "  def display(self):\n",
        "    t=self.head\n",
        "    while t!=None:\n",
        "      print(t.data,end='->')\n",
        "      t=t.next\n",
        "    print(\"None\")\n",
        "l1 =Linked()\n",
        "l1.head=node(10)\n",
        "l1.add_back(20)\n",
        "l1.add_back(30)\n",
        "l1.add_back(40)\n",
        "l1.add_back(50)\n",
        "l1.add_back(60)\n",
        "l1.add_back(70)\n",
        "l1.add_back(80)\n",
        "l1.add_back(90)\n",
        "l1.display()"
      ],
      "metadata": {
        "colab": {
          "base_uri": "https://localhost:8080/"
        },
        "id": "40MiSojx4NrV",
        "outputId": "dbee00f0-dcb1-4420-b8ea-8c254b40d2ab"
      },
      "execution_count": null,
      "outputs": [
        {
          "output_type": "stream",
          "name": "stdout",
          "text": [
            "10->20->30->40->50->60->70->80->90->None\n"
          ]
        }
      ]
    },
    {
      "cell_type": "code",
      "source": [
        "#Q1\n",
        "# sum of all nodes\n",
        "\n",
        "class node:\n",
        "  def __init__(self,u):\n",
        "    self.data =u\n",
        "    self.next=None\n",
        "class Linked:\n",
        "  def __init__(self):\n",
        "    self.head=None\n",
        "  def add_back(self,x):\n",
        "    t=self.head\n",
        "    while t.next!=None:\n",
        "      t=t.next\n",
        "    t.next=node(x)\n",
        "  def display(self):\n",
        "    t=self.head\n",
        "    while t!=None:\n",
        "      print(t.data,end='->')\n",
        "      t=t.next\n",
        "    print(\"None\")\n",
        "  def sum(self):                  # sum of nodes\n",
        "    t=self.head\n",
        "    s=0\n",
        "    while t!=None:\n",
        "      s=s+t.data\n",
        "      t=t.next\n",
        "    print(s)\n",
        "l1 =Linked()\n",
        "l1.head=node(10)\n",
        "l1.add_back(20)\n",
        "l1.add_back(30)\n",
        "l1.add_back(40)\n",
        "l1.display()\n",
        "l1.sum()\n"
      ],
      "metadata": {
        "colab": {
          "base_uri": "https://localhost:8080/"
        },
        "id": "SjnZSgsa3_OB",
        "outputId": "ca00ad32-2237-42b4-d1bb-1295e174b4ad"
      },
      "execution_count": null,
      "outputs": [
        {
          "output_type": "stream",
          "name": "stdout",
          "text": [
            "10->20->30->40->None\n",
            "100\n"
          ]
        }
      ]
    },
    {
      "cell_type": "code",
      "source": [
        "# sum of all even numbers\n",
        "\n",
        "#Q2\n",
        "# sum of all nodes\n",
        "\n",
        "class node:\n",
        "  def __init__(self,u):\n",
        "    self.data =u\n",
        "    self.next=None\n",
        "class Linked:\n",
        "  def __init__(self):\n",
        "    self.head=None\n",
        "  def add_back(self,x):\n",
        "    t=self.head\n",
        "    while t.next!=None:\n",
        "      t=t.next\n",
        "    t.next=node(x)\n",
        "  def display(self):\n",
        "    t=self.head\n",
        "    while t!=None:\n",
        "      print(t.data,end='->')\n",
        "      t=t.next\n",
        "    print(\"None\")\n",
        "  def sum_even(self):                  # sum of even num\n",
        "    t=self.head\n",
        "    s=0\n",
        "    while t!=None:\n",
        "      if t.data%2==0:\n",
        "        s=s+t.data\n",
        "      t=t.next\n",
        "    print(s)\n",
        "l1 =Linked()\n",
        "l1.head=node(9)\n",
        "l1.add_back(20)   #even\n",
        "l1.add_back(17)\n",
        "l1.add_back(40) #even\n",
        "l1.display()\n",
        "l1.sum_even()\n"
      ],
      "metadata": {
        "colab": {
          "base_uri": "https://localhost:8080/"
        },
        "id": "-7P3x2o-5LYM",
        "outputId": "88fc24f4-f940-4436-be7c-eabc2aca6eba"
      },
      "execution_count": null,
      "outputs": [
        {
          "output_type": "stream",
          "name": "stdout",
          "text": [
            "9->20->17->40->None\n",
            "60\n"
          ]
        }
      ]
    },
    {
      "cell_type": "code",
      "source": [
        "# sum of all even nodes(position)\n",
        "\n",
        "#Q3\n",
        "# sum of all nodes\n",
        "\n",
        "class node:\n",
        "  def __init__(self,u):\n",
        "    self.data =u\n",
        "    self.next=None\n",
        "class Linked:\n",
        "  def __init__(self):\n",
        "    self.head=None\n",
        "  def add_back(self,x):\n",
        "    t=self.head\n",
        "    while t.next!=None:\n",
        "      t=t.next\n",
        "    t.next=node(x)\n",
        "  def display(self):\n",
        "    t=self.head\n",
        "    while t!=None:\n",
        "      print(t.data,end='->')\n",
        "      t=t.next\n",
        "    print(\"None\")\n",
        "  def sum_even_node(self):                  # sum of all even nodes(position)\n",
        "    t=self.head\n",
        "    s=0\n",
        "    pos=1\n",
        "    while t!=None:\n",
        "      if pos %2==0:\n",
        "        s=s+t.data\n",
        "      pos=pos+1\n",
        "      t=t.next\n",
        "    print(s)\n",
        "l1 =Linked()\n",
        "l1.head=node(10)\n",
        "l1.add_back(50)   #even node\n",
        "l1.add_back(30)\n",
        "l1.add_back(40) #even node\n",
        "l1.display()\n",
        "l1.sum_even_node()\n"
      ],
      "metadata": {
        "colab": {
          "base_uri": "https://localhost:8080/"
        },
        "id": "oxrc6heN5N_v",
        "outputId": "4a52aa72-1852-463e-e395-a19e3b8f8b5e"
      },
      "execution_count": null,
      "outputs": [
        {
          "output_type": "stream",
          "name": "stdout",
          "text": [
            "10->50->30->40->None\n",
            "90\n"
          ]
        }
      ]
    },
    {
      "cell_type": "code",
      "source": [
        "# Q 4\n",
        "\n",
        "# find secodn largest number in the linked list\n",
        "\n",
        "class node:\n",
        "  def __init__(self,u):\n",
        "    self.data =u\n",
        "    self.next=None\n",
        "class Linked:\n",
        "  def __init__(self):\n",
        "    self.head=None\n",
        "  def add_back(self,x):\n",
        "    t=self.head\n",
        "    while t.next!=None:\n",
        "      t=t.next\n",
        "    t.next=node(x)\n",
        "  def display(self):\n",
        "    t=self.head\n",
        "    while t!=None:\n",
        "      print(t.data,end='->')\n",
        "      t=t.next\n",
        "    print(\"None\")\n",
        "  def find_second(self):                  # secodn largest number in the linked list\n",
        "    t=self.head\n",
        "    s=0\n",
        "    l1=0\n",
        "    l2=0\n",
        "    while t!=None:\n",
        "      if (t.data>=l1):      #0->50\n",
        "        l2=l1\n",
        "        l1=t.data\n",
        "      elif (t.data>=l2):  #0-->10->30->40  #work without dup   #--->   #elif (t.data>=l2  and l2!=l1): it will work when we have  with dup\n",
        "        l2=t.data\n",
        "      t=t.next\n",
        "    print(l2)\n",
        "l1 =Linked()\n",
        "l1.head=node(10)\n",
        "l1.add_back(50)   #1st highest node\n",
        "# l1.add_back(30) #dup\n",
        "l1.add_back(30)\n",
        "l1.add_back(40) #2st highest node\n",
        "l1.display()\n",
        "l1.find_second()\n"
      ],
      "metadata": {
        "colab": {
          "base_uri": "https://localhost:8080/"
        },
        "id": "Pw9hBQ2O8eFR",
        "outputId": "2be67d94-205f-4350-ef63-1c10a091d225"
      },
      "execution_count": null,
      "outputs": [
        {
          "output_type": "stream",
          "name": "stdout",
          "text": [
            "10->50->30->30->40->None\n",
            "40\n"
          ]
        }
      ]
    },
    {
      "cell_type": "code",
      "source": [
        "# Q 5\n",
        "\n",
        "# find the count of 2 consecutive pair with (sum <=k) in the linked list\n",
        "\n",
        "class node:\n",
        "  def __init__(self,u):\n",
        "    self.data =u\n",
        "    self.next=None\n",
        "class Linked:\n",
        "  def __init__(self):\n",
        "    self.head=None\n",
        "  def add_back(self,x):\n",
        "    t=self.head\n",
        "    while t.next!=None:\n",
        "      t=t.next\n",
        "    t.next=node(x)\n",
        "  def display(self):\n",
        "    t=self.head\n",
        "    while t!=None:\n",
        "      print(t.data,end='->')\n",
        "      t=t.next\n",
        "    print(\"None\")\n",
        "  def con_pair(self,k):                  #2 consecutive pair with (sum <=k)\n",
        "    t=self.head\n",
        "    c=0\n",
        "    while(t.next!=None):\n",
        "      if(t.data+t.next.data<=k):\n",
        "        c=c+1\n",
        "      t=t.next\n",
        "    print(c)\n",
        "l1 =Linked()\n",
        "l1.head=node(5)\n",
        "l1.add_back(2)\n",
        "l1.add_back(4)\n",
        "l1.add_back(3)\n",
        "l1.add_back(6)\n",
        "l1.add_back(5)\n",
        "l1.add_back(8)\n",
        "l1.display()\n",
        "l1.con_pair(10)         #k=10   #op=4 pairs\n"
      ],
      "metadata": {
        "colab": {
          "base_uri": "https://localhost:8080/"
        },
        "id": "3cnka9m19i2R",
        "outputId": "4735d9d9-6c1d-403f-ef24-a4b5756f4560"
      },
      "execution_count": null,
      "outputs": [
        {
          "output_type": "stream",
          "name": "stdout",
          "text": [
            "5->2->4->3->6->5->8->None\n",
            "4\n"
          ]
        }
      ]
    },
    {
      "cell_type": "code",
      "source": [
        "# Q 6\n",
        "# find the count of all possible pairs with (sum <=k) in the linked list\n",
        "\n",
        "class node:\n",
        "  def __init__(self,u):\n",
        "    self.data =u\n",
        "    self.next=None\n",
        "class Linked:\n",
        "  def __init__(self):\n",
        "    self.head=None\n",
        "  def add_back(self,x):\n",
        "    t=self.head\n",
        "    while t.next!=None:\n",
        "      t=t.next\n",
        "    t.next=node(x)\n",
        "  def display(self):\n",
        "    t=self.head\n",
        "    while t!=None:\n",
        "      print(t.data,end='->')\n",
        "      t=t.next\n",
        "    print(\"None\")#2\n",
        "  # def count_all_pair(self,k):\n",
        "  #   t=self.head\n",
        "  #   c=0\n",
        "  #   while(t.next!=None):\n",
        "  #     t1=t.data\n",
        "  #     while(t.next!=None):\n",
        "  #       if(t.data+t1.data<=k):\n",
        "  #         c=c+1\n",
        "  #       t1=t1.next\n",
        "  #     t=t.next\n",
        "  #   print(c)\n",
        "  def count_all_pair(self,k):   #count_all_pairs with (sum <=k)\n",
        "      t=self.head\n",
        "      c=0\n",
        "      while t.next!=None:\n",
        "        t1=t.next\n",
        "        k=10\n",
        "        while t1!=None:\n",
        "          if t.data+t1.data<=k:\n",
        "            c+=1\n",
        "          t1=t1.next\n",
        "        t=t.next\n",
        "      print(c)\n",
        "\n",
        "l1 =Linked()\n",
        "l1.head=node(5)\n",
        "l1.add_back(2)\n",
        "l1.add_back(4)\n",
        "l1.add_back(3)\n",
        "l1.add_back(6)\n",
        "l1.add_back(5)\n",
        "l1.add_back(8)\n",
        "l1.display()\n",
        "l1.count_all_pair(10)  #k=10   #op=14 pairs\n",
        "\n"
      ],
      "metadata": {
        "colab": {
          "base_uri": "https://localhost:8080/"
        },
        "id": "lDmjROSeFCDi",
        "outputId": "3997c223-5cf3-4a2a-b2ab-b8b6cdef216a"
      },
      "execution_count": null,
      "outputs": [
        {
          "output_type": "stream",
          "name": "stdout",
          "text": [
            "5->2->4->3->6->5->8->None\n",
            "14\n"
          ]
        }
      ]
    },
    {
      "cell_type": "code",
      "source": [
        "#Q 7\n",
        "  # find/print the second half of the linked list       #-----------slow pointer and fast pointer  --concept\n",
        "\n",
        "\n",
        "class node:\n",
        "  def __init__(self,u):\n",
        "    self.data =u\n",
        "    self.next=None\n",
        "class Linked:\n",
        "  def __init__(self):\n",
        "    self.head=None\n",
        "  def add_back(self,x):\n",
        "    t=self.head\n",
        "    while t.next!=None:\n",
        "      t=t.next\n",
        "    t.next=node(x)\n",
        "  def display(self):\n",
        "    t=self.head\n",
        "    while t!=None:\n",
        "      print(t.data,end='->')\n",
        "      t=t.next\n",
        "    print(\"None\")\n",
        "  def second_half(self):                 # second half of the linked list\n",
        "    f=self.head\n",
        "    s=self.head\n",
        "    while (f!=None and f.next!=None):   #arrage them in the same order or else u get error #1--> #(f!=None) for even length  #2--> #(f.next!=None) works in odd length\n",
        "      f=f.next.next        #2 steps\n",
        "      s=s.next              #1 step\n",
        "    print(s.data)     #print the mid val\n",
        "    while(s!=None):         #printing from mid val\n",
        "      print(s.data,end=\"->\")\n",
        "      s=s.next\n",
        "    print(None)\n",
        "\n",
        "\n",
        "\n",
        "l1 =Linked()\n",
        "l1.head=node(5)\n",
        "l1.add_back(2)\n",
        "l1.add_back(4)\n",
        "l1.add_back(3)\n",
        "l1.add_back(6)\n",
        "l1.add_back(5)\n",
        "# l1.add_back(8)\n",
        "l1.display()\n",
        "l1.second_half()\n",
        "\n"
      ],
      "metadata": {
        "colab": {
          "base_uri": "https://localhost:8080/"
        },
        "id": "Pv4LTHF8LkdC",
        "outputId": "9a15d98b-1b4b-4088-b218-e5361482b6fd"
      },
      "execution_count": null,
      "outputs": [
        {
          "output_type": "stream",
          "name": "stdout",
          "text": [
            "5->2->4->3->6->5->None\n",
            "3\n",
            "3->6->5->None\n"
          ]
        }
      ]
    },
    {
      "cell_type": "code",
      "source": [
        "# leet code 876\n",
        "#Q 8                         #------------------ #slow pointer and fast pointer   --- concept\n",
        "#find the  middle node value  from the linked list\n",
        "\n",
        "\n",
        "class node:\n",
        "  def __init__(self,u):\n",
        "    self.data =u\n",
        "    self.next=None\n",
        "class Linked:\n",
        "  def __init__(self):\n",
        "    self.head=None\n",
        "  def add_back(self,x):\n",
        "    t=self.head\n",
        "    while t.next!=None:\n",
        "      t=t.next\n",
        "    t.next=node(x)\n",
        "  def display(self):\n",
        "    t=self.head\n",
        "    while t!=None:\n",
        "      print(t.data,end='->')\n",
        "      t=t.next\n",
        "    print(\"None\")\n",
        "  def find_mid(self):    #-----------             # find the mid val from the linked list\n",
        "    f=self.head\n",
        "    s=self.head\n",
        "    while (f!=None and f.next!=None):   #arrage them in the same order or else u get error #1--> #(f!=None) for even length  #2--> #(f.next!=None) works in odd length\n",
        "      f=f.next.next      #2 steps\n",
        "      s=s.next            #1 step\n",
        "    print(s.data)\n",
        "\n",
        "l1 =Linked()\n",
        "l1.head=node(5)\n",
        "l1.add_back(2)\n",
        "l1.add_back(4)\n",
        "l1.add_back(3)\n",
        "l1.add_back(6)\n",
        "l1.add_back(5)\n",
        "l1.add_back(8)\n",
        "# l1.add_back(8)     #even numbers\n",
        "l1.display()\n",
        "l1.find_mid()\n",
        "\n"
      ],
      "metadata": {
        "colab": {
          "base_uri": "https://localhost:8080/"
        },
        "id": "3PuUoWGUNszo",
        "outputId": "6a7b4a00-cac0-494b-a453-815559073c76"
      },
      "execution_count": null,
      "outputs": [
        {
          "output_type": "stream",
          "name": "stdout",
          "text": [
            "5->2->4->3->6->5->8->None\n",
            "3\n"
          ]
        }
      ]
    },
    {
      "cell_type": "code",
      "source": [
        "# Q 9\n",
        "# find the Kth node from the last\n",
        "\n",
        "\n",
        "class node:\n",
        "  def __init__(self,u):\n",
        "    self.data =u\n",
        "    self.next=None\n",
        "class Linked:\n",
        "  def __init__(self):\n",
        "    self.head=None\n",
        "  def add_back(self,x):\n",
        "    t=self.head\n",
        "    while t.next!=None:\n",
        "      t=t.next\n",
        "    t.next=node(x)\n",
        "  def display(self):\n",
        "    t=self.head\n",
        "    while t!=None:\n",
        "      print(t.data,end='->')\n",
        "      t=t.next\n",
        "    print(\"None\")\n",
        "\n",
        "  def find_kth(self,k):      #find the Kth node from the last\n",
        "    f=self.head\n",
        "    s=self.head\n",
        "    for i in range(k):  #--------\n",
        "      if f!=None:    #add this to pass the edge testcases ,comes to the 1st element\n",
        "        f=f.next   #----------\n",
        "    # for i in range(k):\n",
        "    #   f=f.next\n",
        "    while f!=None:\n",
        "      f=f.next\n",
        "      s=s.next\n",
        "    print(s.data)\n",
        "\n",
        "l1 =Linked()\n",
        "l1.head=node(5)\n",
        "l1.add_back(2)\n",
        "l1.add_back(4)\n",
        "l1.add_back(3)\n",
        "l1.add_back(6)\n",
        "l1.add_back(5)\n",
        "l1.add_back(8)\n",
        "# l1.add_back(8)     #even numbers\n",
        "l1.display()\n",
        "l1.find_kth(3)\n",
        "\n"
      ],
      "metadata": {
        "colab": {
          "base_uri": "https://localhost:8080/"
        },
        "id": "7qseicRzU4nB",
        "outputId": "4390f5ad-6dcd-41d1-d8eb-4cafcb37ffc3"
      },
      "execution_count": null,
      "outputs": [
        {
          "output_type": "stream",
          "name": "stdout",
          "text": [
            "5->2->4->3->6->5->8->None\n",
            "6\n"
          ]
        }
      ]
    },
    {
      "cell_type": "markdown",
      "source": [
        "afternoon"
      ],
      "metadata": {
        "id": "feqoXBh5a-PQ"
      }
    },
    {
      "cell_type": "code",
      "source": [
        "# Q 10                  #leet code  19\n",
        "\n",
        "# delete the Kth node from the last\n",
        "\n",
        "\n",
        "\n",
        "class node:\n",
        "  def __init__(self,u):\n",
        "    self.data =u\n",
        "    self.next=None\n",
        "class Linked:\n",
        "  def __init__(self):\n",
        "    self.head=None\n",
        "  def add_back(self,x):\n",
        "    t=self.head\n",
        "    while t.next!=None:\n",
        "      t=t.next\n",
        "    t.next=node(x)\n",
        "  def display(self):\n",
        "    t=self.head\n",
        "    while t!=None:\n",
        "      print(t.data,end='->')\n",
        "      t=t.next\n",
        "    print(\"None\")\n",
        "\n",
        "  def kth_del(self,k):      #delete the Kth node\n",
        "    # k=4\n",
        "    f=self.head\n",
        "    for i in range(k):\n",
        "      f=f.next\n",
        "    s=self.head\n",
        "    while f!=None:\n",
        "      prev=s\n",
        "      s=s.next\n",
        "      f=f.next\n",
        "    prev.next=s.next\n",
        "    # s.next=None\n",
        "    # del s\n",
        "  # def\n",
        "\n",
        "\n",
        "l1 =Linked()\n",
        "l1.head=node(5)\n",
        "l1.add_back(2)\n",
        "l1.add_back(4)\n",
        "l1.add_back(3)\n",
        "l1.add_back(6)\n",
        "l1.add_back(5)\n",
        "l1.add_back(8)\n",
        "# l1.add_back(8)     #even numbers\n",
        "l1.display()\n",
        "l1.kth_del(2)\n",
        "print(\"after deleting\")\n",
        "l1.display()\n"
      ],
      "metadata": {
        "id": "dE-wWtcJbC6K",
        "colab": {
          "base_uri": "https://localhost:8080/"
        },
        "outputId": "54e02270-d796-410e-cb1f-90747513c243"
      },
      "execution_count": null,
      "outputs": [
        {
          "output_type": "stream",
          "name": "stdout",
          "text": [
            "5->2->4->3->6->5->8->None\n",
            "after deleting\n",
            "5->2->4->3->6->8->None\n"
          ]
        }
      ]
    },
    {
      "cell_type": "code",
      "source": [
        "# Q 11                     # swap the node in pairs     #leet code 24\n",
        "# even length and odd length  every 2 elements in the linked list should swaped\n",
        "\n",
        "\n",
        "\n",
        "class node:\n",
        "  def __init__(self,u):\n",
        "    self.data =u\n",
        "    self.next=None\n",
        "class Linked:\n",
        "  def __init__(self):\n",
        "    self.head=None\n",
        "  def add_back(self,x):\n",
        "    t=self.head\n",
        "    while t.next!=None:\n",
        "      t=t.next\n",
        "    t.next=node(x)\n",
        "  def display(self):\n",
        "    t=self.head\n",
        "    while t!=None:\n",
        "      print(t.data,end='->')\n",
        "      t=t.next\n",
        "    print(\"None\")\n",
        "\n",
        "  def swap_pairs(self):   ##swap every 2 elements\n",
        "    t=self.head\n",
        "    while(t!=None and t.next!=None):\n",
        "      t.data,t.next.data=t.next.data,t.data\n",
        "      t=t.next.next\n",
        "\n",
        "l1 =Linked()\n",
        "l1.head=node(5)\n",
        "l1.add_back(2)\n",
        "l1.add_back(4)\n",
        "l1.add_back(3)\n",
        "l1.add_back(6)\n",
        "l1.add_back(5)\n",
        "l1.add_back(8)\n",
        "# l1.add_back(10)     #even numbers\n",
        "l1.display()\n",
        "l1.swap_pairs()\n",
        "print(\"after swapping\")\n",
        "l1.display()\n"
      ],
      "metadata": {
        "colab": {
          "base_uri": "https://localhost:8080/"
        },
        "id": "4KihAswkx6rS",
        "outputId": "7692104d-66b3-4bef-c22c-ff615a8a213c"
      },
      "execution_count": null,
      "outputs": [
        {
          "output_type": "stream",
          "name": "stdout",
          "text": [
            "5->2->4->3->6->5->8->None\n",
            "after swapping\n",
            "2->5->3->4->5->6->8->None\n"
          ]
        }
      ]
    },
    {
      "cell_type": "code",
      "source": [
        "# Q 12\n",
        "\n",
        "# given list is unsorted perfrom bubble sort              #in linked list (selection is better then bubble )\n",
        "\n",
        "\n",
        "class node:\n",
        "  def __init__(self,u):\n",
        "    self.data =u\n",
        "    self.next=None\n",
        "class Linked:\n",
        "  def __init__(self):\n",
        "    self.head=None\n",
        "  def add_back(self,x):\n",
        "    t=self.head\n",
        "    while t.next!=None:\n",
        "      t=t.next\n",
        "    t.next=node(x)\n",
        "  def display(self):\n",
        "    t=self.head\n",
        "    while t!=None:\n",
        "      print(t.data,end='->')\n",
        "      t=t.next\n",
        "    print(\"None\")\n",
        "\n",
        "  # def bubble_sort(self):   ## unsorted list perfrom bubble sort\n",
        "  #   t=self.head\n",
        "  #   while(t.next!=None):                           #normal code\n",
        "  #     t1=self.head\n",
        "  #     while(t1.next!=None):\n",
        "  #       if(t1.data>t1.next.data):\n",
        "  #         t1.data,t1.next.data=t1.next.data,t1.data\n",
        "  #       t1=t1.next\n",
        "  #     t=t.next\n",
        "\n",
        "  def bubble_sort(self):   ## unsorted list perfrom bubble sort\n",
        "    t=self.head\n",
        "    while(t.next!=None):\n",
        "      t1=self.head\n",
        "      f=0                                        #effectent\n",
        "      while(t1.next!=None):\n",
        "        if(t1.data>t1.next.data):\n",
        "          f=1\n",
        "          t1.data,t1.next.data=t1.next.data,t1.data\n",
        "        t1=t1.next\n",
        "      if(f==0):\n",
        "        break\n",
        "\n",
        "l1 =Linked()\n",
        "l1.head=node(5)\n",
        "l1.add_back(2)\n",
        "l1.add_back(4)\n",
        "l1.add_back(3)\n",
        "l1.add_back(6)\n",
        "l1.add_back(7)\n",
        "l1.add_back(1)\n",
        "# l1.add_back(10)     #even numbers\n",
        "l1.display()\n",
        "l1.bubble_sort()\n",
        "print(\"after bubble sort swapping\")\n",
        "l1.display()\n"
      ],
      "metadata": {
        "colab": {
          "base_uri": "https://localhost:8080/"
        },
        "id": "tfBMgD-q3MwD",
        "outputId": "2eb63958-3c7a-43a8-d319-e98bd523423e"
      },
      "execution_count": null,
      "outputs": [
        {
          "output_type": "stream",
          "name": "stdout",
          "text": [
            "5->2->4->3->6->7->1->None\n",
            "after bubble sort swapping\n",
            "1->2->3->4->5->6->7->None\n"
          ]
        }
      ]
    },
    {
      "cell_type": "code",
      "source": [
        "# Q 13\n",
        "\n",
        "# find the k th largest element in an unsorted linked list\n",
        "\n",
        "\n",
        "\n",
        "class node:\n",
        "  def __init__(self,u):\n",
        "    self.data =u\n",
        "    self.next=None\n",
        "class Linked:\n",
        "  def __init__(self):\n",
        "    self.head=None\n",
        "  def add_back(self,x):\n",
        "    t=self.head\n",
        "    while t.next!=None:\n",
        "      t=t.next\n",
        "    t.next=node(x)\n",
        "  def display(self):\n",
        "    t=self.head\n",
        "    while t!=None:\n",
        "      print(t.data,end='->')\n",
        "      t=t.next\n",
        "    print(\"None\")\n",
        "\n",
        "  # def bubble_sort(self):   ## unsorted list perfrom bubble sort\n",
        "  #   t=self.head\n",
        "  #   while(t.next!=None):                           #normal code\n",
        "  #     t1=self.head\n",
        "  #     while(t1.next!=None):\n",
        "  #       if(t1.data>t1.next.data):\n",
        "  #         t1.data,t1.next.data=t1.next.data,t1.data\n",
        "  #       t1=t1.next\n",
        "  #     t=t.next\n",
        "\n",
        "  def bubble_sort(self):   ## unsorted list perfrom bubble sort\n",
        "    t=self.head\n",
        "    while(t.next!=None ):\n",
        "      t1=self.head\n",
        "      f=0                                        #effectent\n",
        "      while(t1.next!=None):\n",
        "        if(t1.data>t1.next.data):\n",
        "          f=1\n",
        "          t1.data,t1.next.data=t1.next.data,t1.data\n",
        "        t1=t1.next\n",
        "      if(f==0):\n",
        "        break\n",
        "\n",
        "  def find_kth(self,k):      #find the Kth node from the last\n",
        "    f=self.head\n",
        "    s=self.head\n",
        "    for i in range(k):  #--------\n",
        "      if f!=None:    #add this to pass the edge testcases ,comes to the 1st element\n",
        "        f=f.next   #----------\n",
        "    # for i in range(k):\n",
        "    #   f=f.next\n",
        "    while f!=None:\n",
        "      f=f.next\n",
        "      s=s.next\n",
        "    print(s.data)\n",
        "\n",
        "l1 =Linked()\n",
        "l1.head=node(5)\n",
        "l1.add_back(2)\n",
        "l1.add_back(4)\n",
        "l1.add_back(3)\n",
        "l1.add_back(6)\n",
        "l1.add_back(7)\n",
        "l1.add_back(1)\n",
        "# l1.add_back(10)     #even numbers\n",
        "l1.display()\n",
        "l1.bubble_sort()\n",
        "print(\"after bubble sort swapping\")\n",
        "l1.display()\n",
        "l1.find_kth(3)\n"
      ],
      "metadata": {
        "colab": {
          "base_uri": "https://localhost:8080/"
        },
        "id": "VSlOO73S-K74",
        "outputId": "24b8fa80-4297-4a26-a50e-f3accf734a2b"
      },
      "execution_count": null,
      "outputs": [
        {
          "output_type": "stream",
          "name": "stdout",
          "text": [
            "5->2->4->3->6->7->1->None\n",
            "after bubble sort swapping\n",
            "1->2->3->4->5->6->7->None\n",
            "5\n"
          ]
        }
      ]
    },
    {
      "cell_type": "code",
      "source": [
        "# Q 14\n",
        "# check weather we have loop or not                #using fast and slow pointer\n",
        "\n",
        "\n",
        "class node:\n",
        "  def __init__(self,u):\n",
        "    self.data =u\n",
        "    self.next=None\n",
        "class Linked:\n",
        "  def __init__(self):\n",
        "    self.head=None\n",
        "  def add_back(self,x):\n",
        "    t=self.head\n",
        "    while t.next!=None:\n",
        "      t=t.next\n",
        "    t.next=node(x)\n",
        "  def display(self):\n",
        "    t=self.head\n",
        "    while t!=None:\n",
        "      print(t.data,end='->')\n",
        "      t=t.next\n",
        "    print(\"None\")\n",
        "\n",
        "  def has_loop(self):\n",
        "    f=self.head\n",
        "    s=self.head\n",
        "    while (f!=None and f.next!=None):\n",
        "      f=f.next.next\n",
        "      s=s.next\n",
        "      if(f==s):\n",
        "        print(\"loop\")\n",
        "        return\n",
        "    print(\"no loop\")\n",
        "\n",
        "l1 =Linked()\n",
        "l1.head=node(5)\n",
        "l1.add_back(2)\n",
        "l1.add_back(4)\n",
        "l1.add_back(3)\n",
        "l1.add_back(6)\n",
        "l1.add_back(7)\n",
        "l1.add_back(1)\n",
        "# l1.add_back(10)     #even numbers\n",
        "l1.display()\n",
        "l1.has_loop()          # op = no loop\n",
        "\n",
        "l2=Linked()\n",
        "l2.head=node(100)\n",
        "l2.head.next=node(200)\n",
        "l2.head.next.next=node(300)\n",
        "l2.head.next.next.next=node(400)\n",
        "l2.head.next.next.next.next=node(400)\n",
        "l2.head.next.next.next.next.next=l2.head.next.next\n",
        "# l2.display()\n",
        "l2.has_loop()          # op = loop\n",
        "\n"
      ],
      "metadata": {
        "colab": {
          "base_uri": "https://localhost:8080/"
        },
        "id": "UYxdWCnW-K10",
        "outputId": "4e86293c-439c-4b0e-b734-4a2cbd17e528"
      },
      "execution_count": null,
      "outputs": [
        {
          "output_type": "stream",
          "name": "stdout",
          "text": [
            "5->2->4->3->6->7->1->None\n",
            "no loop\n",
            "loop\n"
          ]
        }
      ]
    },
    {
      "cell_type": "code",
      "source": [
        "# exam    #Q1\n",
        "# ---------------Longest Subarray with 0 Sum\n",
        "\n",
        "# Problem Statement:\n",
        "# Given an array arr[] of size n, the task is to find the length of the longest subarray with sum equal to 0.\n",
        "\n",
        "# Example 1:\n",
        "\n",
        "# Input: arr[] = 15 -2 2 -8 1 7 10 23\n",
        "# Output: 5\n",
        "# Explanation:\n",
        "\n",
        "# The longest subarray with sum equals to 0 is {-2, 2, -8, 1, 7}\n",
        "\n",
        "\n",
        "\n",
        "# Example 2:\n",
        "\n",
        "# Input: arr[] = 1 2 3\n",
        "# Output: 0\n",
        "# Explanation:\n",
        "\n",
        "# There is no subarray with 0 sum"
      ],
      "metadata": {
        "id": "Zq2pMEqmIKx1"
      },
      "execution_count": null,
      "outputs": []
    },
    {
      "cell_type": "code",
      "source": [],
      "metadata": {
        "id": "Gag3dVIXIKsT"
      },
      "execution_count": null,
      "outputs": []
    },
    {
      "cell_type": "code",
      "source": [
        "#Q2\n",
        "\n",
        "#Array 3 Pointers\n",
        "\n",
        "# Problem Statement:\n",
        "# You are given 3 arrays A, B and C. All 3 of the arrays are sorted.\n",
        "\n",
        "# Find i, j, k such that :\n",
        "# max(abs(A[i] - B[j]), abs(B[j] - C[k]), abs(C[k] - A[i])) is minimized.\n",
        "# Return the minimum max(abs(A[i] - B[j]), abs(B[j] - C[k]), abs(C[k] - A[i]))\n",
        "\n",
        "# **abs(x) is absolute value of x and is implemented in the following manner : **\n",
        "\n",
        "#       if (x < 0) return -x;\n",
        "#       else return x;\n",
        "# Example 1:\n",
        "\n",
        "# Input :\n",
        "#         A : [1, 4, 10]      (taken in the format:  1 4 10\n",
        "#         B : [2, 15, 20]                            2 15 20\n",
        "#         C : [10, 12]                               10 12\n",
        "\n",
        "# Output : 5\n",
        "# Explanation:\n",
        "#          With 10 from A, 15 from B and 10 from C.\n",
        "# Example  1:\n",
        "\n",
        "# Input :\n",
        "#         A : [3, 5, 6]\n",
        "#         B : [2, 8, 10]\n",
        "#         C : [1, 6, 9]\n",
        "\n",
        "# Output : 2\n"
      ],
      "metadata": {
        "id": "7FJ85UCnMWCg"
      },
      "execution_count": null,
      "outputs": []
    },
    {
      "cell_type": "code",
      "source": [
        "\n",
        "def minimize_max_abs_diff(X, Y, Z):\n",
        "    i = j = k = 0\n",
        "    min_diff = float('inf')\n",
        "\n",
        "    while i < len(X) and j < len(Y) and k < len(Z):\n",
        "        a, b, c = X[i], Y[j], Z[k]\n",
        "        current_max = max(abs(a - b), abs(b - c), abs(c - a))\n",
        "        min_diff = min(min_diff, current_max)\n",
        "\n",
        "        # Move the pointer of the smallest element\n",
        "        if a <= b and a <= c:\n",
        "            i += 1\n",
        "        elif b <= a and b <= c:\n",
        "            j += 1\n",
        "        else:\n",
        "            k += 1\n",
        "\n",
        "    return min_diff\n",
        "\n",
        "# Input reading\n",
        "A = int(input())\n",
        "X = list(map(int, input().split()))\n",
        "B = int(input())\n",
        "Y = list(map(int, input().split()))\n",
        "C = int(input())\n",
        "Z = list(map(int, input().split()))\n",
        "\n",
        "# Function call\n",
        "print(minimize_max_abs_diff(X, Y, Z))"
      ],
      "metadata": {
        "colab": {
          "base_uri": "https://localhost:8080/",
          "height": 228
        },
        "id": "edeqjYLLMhoO",
        "outputId": "ea6b62d7-23c7-4512-cb3b-161cac059c96"
      },
      "execution_count": null,
      "outputs": [
        {
          "name": "stdout",
          "output_type": "stream",
          "text": [
            "3 5 6\n"
          ]
        },
        {
          "output_type": "error",
          "ename": "ValueError",
          "evalue": "invalid literal for int() with base 10: '3 5 6'",
          "traceback": [
            "\u001b[0;31m---------------------------------------------------------------------------\u001b[0m",
            "\u001b[0;31mValueError\u001b[0m                                Traceback (most recent call last)",
            "\u001b[0;32m<ipython-input-161-4cb15fef5e15>\u001b[0m in \u001b[0;36m<cell line: 0>\u001b[0;34m()\u001b[0m\n\u001b[1;32m     19\u001b[0m \u001b[0;34m\u001b[0m\u001b[0m\n\u001b[1;32m     20\u001b[0m \u001b[0;31m# Input reading\u001b[0m\u001b[0;34m\u001b[0m\u001b[0;34m\u001b[0m\u001b[0m\n\u001b[0;32m---> 21\u001b[0;31m \u001b[0mA\u001b[0m \u001b[0;34m=\u001b[0m \u001b[0mint\u001b[0m\u001b[0;34m(\u001b[0m\u001b[0minput\u001b[0m\u001b[0;34m(\u001b[0m\u001b[0;34m)\u001b[0m\u001b[0;34m)\u001b[0m\u001b[0;34m\u001b[0m\u001b[0;34m\u001b[0m\u001b[0m\n\u001b[0m\u001b[1;32m     22\u001b[0m \u001b[0mX\u001b[0m \u001b[0;34m=\u001b[0m \u001b[0mlist\u001b[0m\u001b[0;34m(\u001b[0m\u001b[0mmap\u001b[0m\u001b[0;34m(\u001b[0m\u001b[0mint\u001b[0m\u001b[0;34m,\u001b[0m \u001b[0minput\u001b[0m\u001b[0;34m(\u001b[0m\u001b[0;34m)\u001b[0m\u001b[0;34m.\u001b[0m\u001b[0msplit\u001b[0m\u001b[0;34m(\u001b[0m\u001b[0;34m)\u001b[0m\u001b[0;34m)\u001b[0m\u001b[0;34m)\u001b[0m\u001b[0;34m\u001b[0m\u001b[0;34m\u001b[0m\u001b[0m\n\u001b[1;32m     23\u001b[0m \u001b[0mB\u001b[0m \u001b[0;34m=\u001b[0m \u001b[0mint\u001b[0m\u001b[0;34m(\u001b[0m\u001b[0minput\u001b[0m\u001b[0;34m(\u001b[0m\u001b[0;34m)\u001b[0m\u001b[0;34m)\u001b[0m\u001b[0;34m\u001b[0m\u001b[0;34m\u001b[0m\u001b[0m\n",
            "\u001b[0;31mValueError\u001b[0m: invalid literal for int() with base 10: '3 5 6'"
          ]
        }
      ]
    },
    {
      "cell_type": "markdown",
      "source": [
        "#27/05/25  -----------DAY ---14\n",
        "\n",
        "(finding the starting point of the loop,---)"
      ],
      "metadata": {
        "id": "KQuQaaJa2LK2"
      }
    },
    {
      "cell_type": "code",
      "source": [
        "#1 Q\n",
        "# check weather we have loop or not     #and find the starting point of the loop            #using fast and slow pointer\n",
        "\n",
        "\n",
        "class node:\n",
        "  def __init__(self,u):\n",
        "    self.data =u\n",
        "    self.next=None\n",
        "class Linked:\n",
        "  def __init__(self):\n",
        "    self.head=None\n",
        "  def add_back(self,x):\n",
        "    t=self.head\n",
        "    while t.next!=None:\n",
        "      t=t.next\n",
        "    t.next=node(x)\n",
        "  def display(self):\n",
        "    t=self.head\n",
        "    while t!=None:\n",
        "      print(t.data,end='->')\n",
        "      t=t.next\n",
        "    print(\"None\")\n",
        "\n",
        "  def has_loop(self):               #finding the loop\n",
        "    f=self.head\n",
        "    s=self.head\n",
        "    while (f!=None and f.next!=None):\n",
        "      f=f.next.next\n",
        "      s=s.next\n",
        "      if(f==s):\n",
        "        print(\"has a loop\")\n",
        "        return\n",
        "    print(\"no loop\")\n",
        "\n",
        "  # def find_stating_point(self):     # finding the stating point\n",
        "  #   f=self.head\n",
        "  #   s=self.head\n",
        "  #   while (f!=None and f.next!=None):\n",
        "  #     f=f.next.next\n",
        "  #     s=s.next\n",
        "  #     if(f==s):\n",
        "  #       print(\"loop\")\n",
        "  #       break                           #my code   #small edit once see\n",
        "  #     temp=self.head\n",
        "  #     f=f.next\n",
        "  #     temp=temp.next\n",
        "  #     while(f.data!=temp.data):\n",
        "  #       f=f.next\n",
        "  #       temp=temp.next\n",
        "  #     print(temp.data)\n",
        "  #     return\n",
        "  #   print(\"no loop\")\n",
        "\n",
        "  def find_stating_point(self):     # finding the stating point\n",
        "    f=self.head\n",
        "    s=self.head\n",
        "    while (f!=None and f.next!=None):\n",
        "      f=f.next.next\n",
        "      s=s.next\n",
        "      if(f==s):\n",
        "        print(\"loop\")                   #sir code\n",
        "        break\n",
        "    else:\n",
        "      return \"no loop\"\n",
        "    temp=self.head\n",
        "    while(f!=temp):\n",
        "      f=f.next\n",
        "      temp=temp.next\n",
        "    print(temp.data)\n",
        "    return\n",
        "\n",
        "l1 =Linked()\n",
        "l1.head=node(5)\n",
        "l1.add_back(2)\n",
        "l1.add_back(4)\n",
        "l1.add_back(3)\n",
        "l1.add_back(6)\n",
        "l1.add_back(7)\n",
        "l1.add_back(1)\n",
        "# l1.add_back(10)     #even numbers\n",
        "l1.display()\n",
        "# l1.has_loop()          # op = no loop\n",
        "\n",
        "print(\"linked list 2\")\n",
        "l2=Linked()\n",
        "l2.head=node(100)\n",
        "l2.head.next=node(200)\n",
        "l2.head.next.next=node(300)\n",
        "l2.head.next.next.next=node(400)\n",
        "l2.head.next.next.next.next=node(500)\n",
        "l2.head.next.next.next.next.next=l2.head.next.next       #(300)\n",
        "# l2.display()\n",
        "l2.has_loop()          # op = loop\n",
        "l2.find_stating_point()\n",
        "\n"
      ],
      "metadata": {
        "colab": {
          "base_uri": "https://localhost:8080/"
        },
        "id": "ZcyiFKDV2cU-",
        "outputId": "02bc2e62-b41b-4836-b629-cd20e6c16fee"
      },
      "execution_count": null,
      "outputs": [
        {
          "output_type": "stream",
          "name": "stdout",
          "text": [
            "5->2->4->3->6->7->1->None\n",
            "linked list 2\n",
            "has a loop\n",
            "loop\n",
            "300\n"
          ]
        }
      ]
    },
    {
      "cell_type": "code",
      "source": [
        "#Q 2\n",
        "# it has a loop ,find how many nodes are there in the loop\n",
        "\n",
        "\n",
        "class node:\n",
        "  def __init__(self,u):\n",
        "    self.data =u\n",
        "    self.next=None\n",
        "class Linked:\n",
        "  def __init__(self):\n",
        "    self.head=None\n",
        "  def add_back(self,x):\n",
        "    t=self.head\n",
        "    while t.next!=None:\n",
        "      t=t.next\n",
        "    t.next=node(x)\n",
        "  def display(self):\n",
        "    t=self.head\n",
        "    while t!=None:\n",
        "      print(t.data,end='->')\n",
        "      t=t.next\n",
        "    print(\"None\")\n",
        "\n",
        "\n",
        "  def find_stating_point(self):     # finding the stating point\n",
        "    f=self.head\n",
        "    s=self.head\n",
        "    while (f!=None and f.next!=None):\n",
        "      f=f.next.next\n",
        "      s=s.next\n",
        "      if(f==s):\n",
        "        print(\"loop\")                   #sir code\n",
        "        break\n",
        "    else:\n",
        "      return \"no loop\"\n",
        "    temp=self.head\n",
        "    while(f!=temp):\n",
        "      f=f.next\n",
        "      temp=temp.next\n",
        "    print(temp.data)\n",
        "    return\n",
        "\n",
        "  # def count_nodes_in_loop(self):\n",
        "  #   f=self.head\n",
        "  #   s=self.head\n",
        "  #   while (f!=None and f.next!=None):\n",
        "  #     f=f.next.next\n",
        "  #     s=s.next\n",
        "  #     if(f==s):\n",
        "  #       print(\"loop\")\n",
        "  #       break                           #my code\n",
        "  #     temp=self.head\n",
        "  #     f=f.next\n",
        "  #     temp=temp.next\n",
        "  #     while(f.data!=temp.data):\n",
        "  #       f=f.next\n",
        "  #       temp=temp.next\n",
        "  #     temp_c=temp.next\n",
        "  #     count=1\n",
        "  #     temp=temp.next\n",
        "  #     while(temp.next!=temp_c):\n",
        "  #       count+=1\n",
        "  #       temp=temp.next\n",
        "  #     print(count)\n",
        "  #     return\n",
        "  #   print(\"no loop\")\n",
        "  # #   return\n",
        "\n",
        "  def count_nodes_in_loop(self):\n",
        "    f=self.head\n",
        "    s=self.head\n",
        "    while (f!=None and f.next!=None):\n",
        "      f=f.next.next\n",
        "      s=s.next\n",
        "      if(f==s):\n",
        "        print(\"loop\")\n",
        "        break\n",
        "    else:\n",
        "      return \"no loop\"\n",
        "    c=1\n",
        "    s=s.next\n",
        "    while(s!=f):\n",
        "      s=s.next\n",
        "      c+=1\n",
        "    return c\n",
        "\n",
        "\n",
        "l1 =Linked()\n",
        "l1.head=node(5)\n",
        "l1.add_back(2)\n",
        "l1.add_back(4)\n",
        "l1.add_back(3)\n",
        "l1.add_back(6)\n",
        "l1.add_back(7)\n",
        "l1.add_back(1)\n",
        "# l1.add_back(10)     #even numbers\n",
        "l1.display()\n",
        "# l1.has_loop()          # op = no loop\n",
        "\n",
        "print(\"linked list 2\")\n",
        "l2=Linked()\n",
        "l2.head=node(100)\n",
        "l2.head.next=node(200)\n",
        "l2.head.next.next=node(300)\n",
        "l2.head.next.next.next=node(400)\n",
        "l2.head.next.next.next.next=node(500)\n",
        "l2.head.next.next.next.next.next=l2.head.next.next       #(300)\n",
        "l2.find_stating_point()\n",
        "l2.count_nodes_in_loop()\n",
        "\n",
        "\n"
      ],
      "metadata": {
        "colab": {
          "base_uri": "https://localhost:8080/"
        },
        "id": "N--bhMmC-rHH",
        "outputId": "1c60e162-c556-4a38-db90-9ca1969de2a0"
      },
      "execution_count": null,
      "outputs": [
        {
          "output_type": "stream",
          "name": "stdout",
          "text": [
            "5->2->4->3->6->7->1->None\n",
            "linked list 2\n",
            "loop\n",
            "300\n",
            "loop\n"
          ]
        },
        {
          "output_type": "execute_result",
          "data": {
            "text/plain": [
              "3"
            ]
          },
          "metadata": {},
          "execution_count": 45
        }
      ]
    },
    {
      "cell_type": "code",
      "source": [
        "#Q 3\n",
        "\n",
        "#dectect the cycle and remove the cycle\n",
        "\n",
        "\n",
        "class node:\n",
        "  def __init__(self,u):\n",
        "    self.data =u\n",
        "    self.next=None\n",
        "class Linked:\n",
        "  def __init__(self):\n",
        "    self.head=None\n",
        "  def add_back(self,x):\n",
        "    t=self.head\n",
        "    while t.next!=None:\n",
        "      t=t.next\n",
        "    t.next=node(x)\n",
        "  def display(self):\n",
        "    t=self.head\n",
        "    while t!=None:\n",
        "      print(t.data,end='->')\n",
        "      t=t.next\n",
        "    print(\"None\")\n",
        "\n",
        "  def has_loop(self):               #finding the loop\n",
        "    f=self.head\n",
        "    s=self.head\n",
        "    while (f!=None and f.next!=None):\n",
        "      f=f.next.next\n",
        "      s=s.next\n",
        "      if(f==s):\n",
        "        print(\"has a loop\")\n",
        "        return\n",
        "    print(\"no loop\")\n",
        "\n",
        "  # def find_stating_point(self):     # finding the stating point\n",
        "  #   f=self.head\n",
        "  #   s=self.head\n",
        "  #   while (f!=None and f.next!=None):\n",
        "  #     f=f.next.next\n",
        "  #     s=s.next\n",
        "  #     if(f==s):\n",
        "  #       print(\"loop\")\n",
        "  #       break                           #my code   #small edit once see\n",
        "  #     temp=self.head\n",
        "  #     f=f.next\n",
        "  #     temp=temp.next\n",
        "  #     while(f.data!=temp.data):\n",
        "  #       f=f.next\n",
        "  #       temp=temp.next\n",
        "  #     print(temp.data)\n",
        "  #     return\n",
        "  #   print(\"no loop\")\n",
        "\n",
        "  def find_stating_point(self):     # finding the stating point\n",
        "    f=self.head\n",
        "    s=self.head\n",
        "    while (f!=None and f.next!=None):\n",
        "      f=f.next.next\n",
        "      s=s.next\n",
        "      if(f==s):\n",
        "        print(\"loop\")                   #sir code\n",
        "        break\n",
        "    else:\n",
        "      return \"no loop\"\n",
        "    temp=self.head\n",
        "    while(f!=temp):\n",
        "      f=f.next\n",
        "      temp=temp.next\n",
        "    print(temp.data)\n",
        "    return\n",
        "\n",
        "  def rev_loop(self):\n",
        "    f=self.head\n",
        "    s=self.head\n",
        "    while (f!=None and f.next!=None):\n",
        "      f=f.next.next\n",
        "      s=s.next\n",
        "      if(f==s):\n",
        "        print(\"has a loop loop\")\n",
        "        break\n",
        "    else:\n",
        "      return \"no loop\"\n",
        "    s=self.head\n",
        "    while(s.next!=f.next):\n",
        "      s=s.next\n",
        "      f=f.next\n",
        "    f.next=None\n",
        "    return\n",
        "\n",
        "\n",
        "\n",
        "l1 =Linked()\n",
        "l1.head=node(5)\n",
        "l1.add_back(2)\n",
        "l1.add_back(4)\n",
        "l1.add_back(3)\n",
        "l1.add_back(6)\n",
        "l1.add_back(7)\n",
        "l1.add_back(1)\n",
        "# l1.add_back(10)     #even numbers\n",
        "l1.display()\n",
        "# l1.has_loop()          # op = no loop\n",
        "\n",
        "print(\"linked list 2\")\n",
        "l2=Linked()\n",
        "l2.head=node(100)\n",
        "l2.head.next=node(200)\n",
        "l2.head.next.next=node(300)\n",
        "l2.head.next.next.next=node(400)\n",
        "l2.head.next.next.next.next=node(500)\n",
        "l2.head.next.next.next.next.next=l2.head.next.next       #(300)\n",
        "# l2.display()\n",
        "l2.has_loop()          # op = loop\n",
        "l2.find_stating_point()\n",
        "l2.rev_loop()\n",
        "l2.display()\n",
        "\n",
        "\n"
      ],
      "metadata": {
        "colab": {
          "base_uri": "https://localhost:8080/"
        },
        "id": "0WJMxJV4H3cL",
        "outputId": "b3e96ae8-c243-4ef6-e6cf-c3575bcaefe1"
      },
      "execution_count": null,
      "outputs": [
        {
          "output_type": "stream",
          "name": "stdout",
          "text": [
            "5->2->4->3->6->7->1->None\n",
            "linked list 2\n",
            "has a loop\n",
            "loop\n",
            "300\n",
            "has a loop loop\n",
            "100->200->300->400->500->None\n"
          ]
        }
      ]
    },
    {
      "cell_type": "code",
      "source": [
        "# from pickle import NONE\n",
        "\n",
        "# Q 4                        #leetcode 92\n",
        "\n",
        "# reverse the linked list\n",
        "\n",
        "class node:\n",
        "  def __init__(self,u):\n",
        "    self.data =u\n",
        "    self.next=None\n",
        "class Linked:\n",
        "  def __init__(self):\n",
        "    self.head=None\n",
        "  def add_back(self,x):\n",
        "    t=self.head\n",
        "    while t.next!=None:\n",
        "      t=t.next\n",
        "    t.next=node(x)\n",
        "  def display(self):\n",
        "    t=self.head\n",
        "    while t!=None:\n",
        "      print(t.data,end='->')\n",
        "      t=t.next\n",
        "    print(\"None\")\n",
        "\n",
        "  # def reverse(self):      #reverse the linked list  #internet\n",
        "  #   prev=None\n",
        "  #   curr=self.head\n",
        "  #   while curr!=None:\n",
        "  #     next=curr.next\n",
        "  #     curr.next=prev\n",
        "  #     prev=curr\n",
        "  #     curr=next\n",
        "  #   self.head=prev\n",
        "  #   return\n",
        "\n",
        "  # def reverse(self):           #O(2n)   #using stack\n",
        "  #   temp=self.head\n",
        "  #   stack=[]\n",
        "  #   while temp!=None:\n",
        "  #     stack.append(temp.data)\n",
        "  #     temp=temp.next\n",
        "  #   temp=self.head              #tail becomes head\n",
        "  #   while temp!=None:\n",
        "  #     temp.data=stack.pop()       #pop\n",
        "  #     temp=temp.next\n",
        "  #   return\n",
        "\n",
        "\n",
        "\n",
        "  # none- 1->2->4->3->6->10->8->None\n",
        "  # p     c  n\n",
        "  #       p  c  n\n",
        "  #          p  c  n         #explain\n",
        "  def reverse(self):                   #using 3 pointer approch  #prv curr next\n",
        "    prev=None\n",
        "    curr=self.head\n",
        "    n=curr.next\n",
        "    while curr!=None:  #p!=n or\n",
        "      curr.next=prev\n",
        "      prev=curr\n",
        "      curr=n\n",
        "      if(curr!=None):\n",
        "        n=curr.next\n",
        "    self.head=prev\n",
        "    return\n",
        "\n",
        "\n",
        "\n",
        "\n",
        "l1 =Linked()\n",
        "l1.head=node(1)\n",
        "l1.add_back(2)\n",
        "l1.add_back(4)\n",
        "l1.add_back(3)\n",
        "l1.add_back(6)\n",
        "l1.add_back(10)\n",
        "l1.add_back(8)\n",
        "# l1.add_back(8)     #even numbers\n",
        "l1.display()\n",
        "l1.reverse()\n",
        "l1.display()\n"
      ],
      "metadata": {
        "colab": {
          "base_uri": "https://localhost:8080/"
        },
        "id": "6418QBVAesjP",
        "outputId": "b14194e8-28fe-40c5-b50f-73aabf35dbe0"
      },
      "execution_count": null,
      "outputs": [
        {
          "output_type": "stream",
          "name": "stdout",
          "text": [
            "1->2->4->3->6->10->8->None\n",
            "8->10->6->3->4->2->1->None\n"
          ]
        }
      ]
    },
    {
      "cell_type": "code",
      "source": [
        "# Q 5\n",
        "\n",
        "# find the given linked list is panlindrom or not\n",
        "\n",
        "\n",
        "class node:\n",
        "  def __init__(self,u):\n",
        "    self.data =u\n",
        "    self.next=None\n",
        "class Linked:\n",
        "  def __init__(self):\n",
        "    self.head=None\n",
        "  def add_back(self,x):\n",
        "    t=self.head\n",
        "    while t.next!=None:\n",
        "      t=t.next\n",
        "    t.next=node(x)\n",
        "  def display(self):\n",
        "    t=self.head\n",
        "    while t!=None:\n",
        "      print(t.data,end='->')\n",
        "      t=t.next\n",
        "    print(\"None\")\n",
        "\n",
        "  def palindrom(self):          # panlindrom or not\n",
        "    f=self.head\n",
        "    s=self.head\n",
        "    while (f!=None and f.next!=None):\n",
        "      f=f.next.next\n",
        "      pr=s\n",
        "      s=s.next\n",
        "    print(s.data)\n",
        "    p=None             # rev\n",
        "    c=s\n",
        "    while(c!=None):\n",
        "      n=c.next\n",
        "      c.next=p\n",
        "      p=c\n",
        "      c=n\n",
        "    pr.next=p\n",
        "    s=self.head\n",
        "    while(s.data!=p.data):\n",
        "      if(s.data==p.data):\n",
        "        s=s.next\n",
        "        p=p.next\n",
        "      else:\n",
        "        print(\"not palindrom\")\n",
        "        return\n",
        "    print(\"palindrom\")\n",
        "    return\n",
        "\n",
        "\n",
        "\n",
        "\n",
        "\n",
        "\n",
        "l1 =Linked()\n",
        "l1.head=node(9)\n",
        "l1.add_back(8)\n",
        "l1.add_back(4)\n",
        "l1.add_back(8)\n",
        "l1.add_back(9)\n",
        "# l1.add_back(10)\n",
        "# l1.add_back(8)\n",
        "l1.display()\n",
        "l1.palindrom()            #yes\n",
        "l1.display()\n",
        "\n",
        "# print(\"linked list 2\")\n",
        "# l2=Linked()\n",
        "# l2.head=node(100)\n",
        "# l2.head.next=node(200)\n",
        "# l2.head.next.next=node(300)\n",
        "# l2.head.next.next.next=node(400)\n",
        "# l2.head.next.next.next.next=node(100)\n",
        "# l2.head.next.next.next.next.next=node(600)            #no\n",
        "# l2.display()\n",
        "# l2.palindrom()\n",
        "# l2.display()\n",
        "\n"
      ],
      "metadata": {
        "colab": {
          "base_uri": "https://localhost:8080/"
        },
        "id": "nj_jvH9senfT",
        "outputId": "d87a0bc8-f534-4788-c920-a3d78cdb85c6"
      },
      "execution_count": null,
      "outputs": [
        {
          "output_type": "stream",
          "name": "stdout",
          "text": [
            "9->8->4->8->9->None\n",
            "4\n",
            "palindrom\n",
            "9->8->9->8->4->None\n"
          ]
        }
      ]
    },
    {
      "cell_type": "code",
      "source": [
        "# Q 6\n",
        "# print the second half reverse\n",
        "\n",
        "\n",
        "class node:\n",
        "  def __init__(self,u):\n",
        "    self.data =u\n",
        "    self.next=None\n",
        "class Linked:\n",
        "  def __init__(self):\n",
        "    self.head=None\n",
        "  def add_back(self,x):\n",
        "    t=self.head\n",
        "    while t.next!=None:\n",
        "      t=t.next\n",
        "    t.next=node(x)\n",
        "  def display(self):\n",
        "    t=self.head\n",
        "    while t!=None:\n",
        "      print(t.data,end='->')\n",
        "      t=t.next\n",
        "    print(\"None\")\n",
        "\n",
        "  def second_half_reverse(self):           # second half reverse\n",
        "    f=self.head\n",
        "    s=self.head\n",
        "    while (f!=None and f.next!=None):\n",
        "      f=f.next.next\n",
        "      pr=s\n",
        "      s=s.next\n",
        "    print(s.data)\n",
        "    p=None               # rev\n",
        "    c=s\n",
        "    while(c!=None):\n",
        "      n=c.next\n",
        "      c.next=p\n",
        "      p=c\n",
        "      c=n\n",
        "    pr.next=p\n",
        "\n",
        "\n",
        "# l1 =Linked()\n",
        "# l1.head=node(1)\n",
        "# l1.add_back(2)\n",
        "# l1.add_back(4)\n",
        "# l1.add_back(3)\n",
        "# l1.add_back(6)\n",
        "# l1.add_back(10)\n",
        "# l1.add_back(8)\n",
        "# # l1.add_back(8)     #even numbers\n",
        "# l1.display()\n",
        "\n",
        "print(\"linked list 2\")\n",
        "l2=Linked()\n",
        "l2.head=node(100)\n",
        "l2.head.next=node(200)\n",
        "l2.head.next.next=node(300)\n",
        "l2.head.next.next.next=node(400)\n",
        "l2.head.next.next.next.next=node(500)\n",
        "l2.head.next.next.next.next.next=node(600)\n",
        "l2.display()\n",
        "l2.second_half_reverse()\n",
        "l2.display()\n"
      ],
      "metadata": {
        "colab": {
          "base_uri": "https://localhost:8080/"
        },
        "id": "-ycW9iiHzwDe",
        "outputId": "07f114c0-a5d1-4e53-dd4d-de420ff8ab86"
      },
      "execution_count": null,
      "outputs": [
        {
          "output_type": "stream",
          "name": "stdout",
          "text": [
            "linked list 2\n",
            "100->200->300->400->500->600->None\n",
            "400\n",
            "100->200->300->600->500->400->None\n"
          ]
        }
      ]
    },
    {
      "cell_type": "code",
      "source": [
        "# Q 7                    #leet code 160\n",
        "\n",
        "# find the intesectting point of 2 linked list              #incomplete code\n",
        "\n",
        "class node:\n",
        "  def __init__(self,u):\n",
        "    self.data =u\n",
        "    self.next=None\n",
        "class Linked:\n",
        "  def __init__(self):\n",
        "    self.head=None\n",
        "  def add_back(self,x):\n",
        "    t=self.head\n",
        "    while t.next!=None:\n",
        "      t=t.next\n",
        "    if(t.data==3):          #\n",
        "      p=node(x)\n",
        "      t.next=p\n",
        "      return             #\n",
        "    t.next=node(x)\n",
        "  def display(self):\n",
        "    t=self.head\n",
        "    while t!=None:\n",
        "      print(t.data,end='->')\n",
        "      t=t.next\n",
        "    print(\"None\")\n",
        "\n",
        "  def find_intersection(self):\n",
        "    t1=self.head\n",
        "    t2=self.head\n",
        "    while(t1!=t2):\n",
        "      # print(t1.data,t2.data)\n",
        "      if(t1==None):\n",
        "        t1=t1.next\n",
        "      else:\n",
        "        t1=t2.next\n",
        "      if(t2==None):\n",
        "        t2=t2.next\n",
        "      else:\n",
        "        t2=t1.head\n",
        "    print(t1.data,t2.data)\n",
        "    return\n",
        "\n",
        "\n",
        "l1 =Linked()\n",
        "l1.head=node(1)\n",
        "l1.add_back(2)\n",
        "p=l1.add_back(3)\n",
        "l1.add_back(4)\n",
        "l1.add_back(5)\n",
        "l1.add_back(6)\n",
        "# l1.display()\n",
        "\n",
        "# print(\"linked list 2\")\n",
        "l2=Linked()\n",
        "l2.head=node(100)\n",
        "l2.head.next=node(200)\n",
        "l2.head.next.next=node(300)\n",
        "l2.head.next.next.next=node(400)\n",
        "l2.head.next.next.next.next=node(500)\n",
        "l2.head.next.next.next.next.next=node(600)\n",
        "l2.display()\n",
        "l1.display()\n",
        "l2.find_intersection()\n",
        "\n",
        "\n"
      ],
      "metadata": {
        "colab": {
          "base_uri": "https://localhost:8080/"
        },
        "id": "wmofdENH9Tpt",
        "outputId": "c8c39cfb-6e74-4ce3-9496-d090055b2387"
      },
      "execution_count": null,
      "outputs": [
        {
          "output_type": "stream",
          "name": "stdout",
          "text": [
            "100->200->300->400->500->600->None\n",
            "1->2->3->4->5->6->None\n",
            "100 100\n"
          ]
        }
      ]
    },
    {
      "cell_type": "markdown",
      "source": [
        "leetcode\n",
        " 21. Merge Two Sorted Lists"
      ],
      "metadata": {
        "id": "43HeA3kyFIBH"
      }
    },
    {
      "cell_type": "code",
      "source": [
        "# exam\n"
      ],
      "metadata": {
        "id": "f3wTtGZwTcam"
      },
      "execution_count": null,
      "outputs": []
    },
    {
      "cell_type": "markdown",
      "source": [
        "#28/05/25  ----DAY-15\n",
        "\n",
        "(Stack,---trees)"
      ],
      "metadata": {
        "id": "rlCcsTsN-umt"
      }
    },
    {
      "cell_type": "markdown",
      "source": [
        "Stack"
      ],
      "metadata": {
        "id": "tfVU1KbmA6mH"
      }
    },
    {
      "cell_type": "code",
      "source": [
        "# Q1\n",
        "\n",
        "\n",
        "# a=\"15,3,+,6,2,-,*\".split(',')\n",
        "# print(a)\n",
        "# stack=[]\n",
        "# # op=[/,*,+,-]\n",
        "# for i in range(len(a)):                    #my code\n",
        "#   if(a[i].isdigit()):\n",
        "#     stack.append(int(a[i]))\n",
        "#   else:\n",
        "#     op1=stack.pop()\n",
        "#     op2=stack.pop()\n",
        "#     if a[i]==\"+\":\n",
        "#       stack.append(op2+op1)\n",
        "#     elif a[i]==\"-\":\n",
        "#       stack.append(op2-op1)\n",
        "#     elif a[i]==\"*\":\n",
        "#       stack.append(op2*op1)\n",
        "#     elif a[i]==\"/\":\n",
        "#       stack.append(op2/op1)\n",
        "# print(stack)                 #printing the stack             #[72]\n",
        "\n",
        "\n",
        "\n",
        "# a=\"15,3,+,6,2,-,*\"\n",
        "# a=a.split(',')                 #sir code\n",
        "# s=[]\n",
        "# for i in a:\n",
        "#   if(i.isdigit()):\n",
        "#     s.append(int(i))\n",
        "#   else:\n",
        "#     u=s.pop()\n",
        "#     v=s.pop()\n",
        "#     if(i=='+'):\n",
        "#       s.append(v+u)\n",
        "#     elif(i=='-'):\n",
        "#       s.append(v-u)\n",
        "#     elif(i=='*'):\n",
        "#       s.append(v*u)\n",
        "#     elif(i=='/'):\n",
        "#       s.append(v/u)\n",
        "#     else:\n",
        "#       s.append(v**u)\n",
        "# print(s[-1])         #printing the top element  #72\n",
        "\n",
        "\n",
        "#----------------------------------------------------------------------------------------\n",
        "\n",
        "a=\"15,-3,+,6,2,-,*\"\n",
        "a=a.split(',')\n",
        "print(a)\n",
        "s=[]\n",
        "for i in a:\n",
        "  if(i[-1].isdigit()):    # -3 is considered     #just add i[-1]\n",
        "    s.append(int(i))\n",
        "  else:\n",
        "    u=s.pop()\n",
        "    v=s.pop()\n",
        "    if(i=='+'):\n",
        "      s.append(v+u)\n",
        "    elif(i=='-'):\n",
        "      s.append(v-u)\n",
        "    elif(i=='*'):\n",
        "      s.append(v*u)\n",
        "    elif(i=='/'):\n",
        "      s.append(v/u)\n",
        "    else:\n",
        "      s.append(v**u)\n",
        "print(s[-1])         #printing the top element"
      ],
      "metadata": {
        "colab": {
          "base_uri": "https://localhost:8080/"
        },
        "id": "OeJyqAgK_bSC",
        "outputId": "4dfcc59c-8640-4393-f52a-b77e3b9e7f83"
      },
      "execution_count": null,
      "outputs": [
        {
          "output_type": "stream",
          "name": "stdout",
          "text": [
            "['15', '-3', '+', '6', '2', '-', '*']\n",
            "48\n"
          ]
        }
      ]
    },
    {
      "cell_type": "code",
      "source": [
        "# Q 2\n",
        "#  leetcode 2390"
      ],
      "metadata": {
        "id": "zoBw6zG8VlGp"
      },
      "execution_count": null,
      "outputs": []
    },
    {
      "cell_type": "code",
      "source": [
        "# Q 3          #leetcode 20 #Valid Parentheses\n",
        "\n",
        "#find valid or invalid                 #Valid Parentheses\n",
        "\n",
        "\n",
        "\n",
        "# a=\"(({}))\"          #v                       #sir codes\n",
        "# a=\"()[]{}\"         #v\n",
        "# a=\"(([]))(([]))\"   #v\n",
        "a=\"(([\"   #inv\n",
        "\n",
        "s=[]\n",
        "for i in range(len(a)):\n",
        "#   if(a[i]=='(' or a[i]=='{' or a[i]=='['):\n",
        "#     s.append(a[i])\n",
        "  if (a[i] in {'(','{','['}):\n",
        "    s.append(a[i])\n",
        "  elif s:          #not empty\n",
        "    if (a[i]=='}' and s[-1]=='{'):\n",
        "      s.pop()\n",
        "    elif(a[i]==')' and s[-1]=='('):\n",
        "      s.pop()\n",
        "    elif(a[i]==']' and s[-1]=='['):\n",
        "      s.pop()\n",
        "    else:\n",
        "      print(\"invalid\")\n",
        "      break\n",
        "  else:\n",
        "    print(\"invalid\")\n",
        "    break\n",
        "else:\n",
        "  if s:\n",
        "    print(\"invalid\")\n",
        "  else:\n",
        "    print(\"valid\")\n",
        "\n",
        "\n",
        "\n",
        "# a=\"(({{}}))\"          #vaild\n",
        "# d={'{':'}','[':']','(':')'}           #using dict\n",
        "# s=[]\n",
        "# for i in range(len(a)):\n",
        "#   if (a[i] in {'(','{','['}):\n",
        "#     s.append(a[i])\n",
        "#   elif s:                     #not empty\n",
        "#     if (d[s[-1]]==a[i]):\n",
        "#       s.pop()\n",
        "#     else:\n",
        "#       print(\"invalid\")\n",
        "#       break\n",
        "#   else:\n",
        "#     print(\"invalid\")\n",
        "#     break\n",
        "# else:\n",
        "#   if s:\n",
        "#     print(\"invalid\")\n",
        "#   else:\n",
        "#     print(\"valid\")\n"
      ],
      "metadata": {
        "colab": {
          "base_uri": "https://localhost:8080/"
        },
        "id": "Ijy1FX2vY6J_",
        "outputId": "c7177256-e442-4616-e65f-e489ba054d95"
      },
      "execution_count": null,
      "outputs": [
        {
          "output_type": "stream",
          "name": "stdout",
          "text": [
            "invalid\n"
          ]
        }
      ]
    },
    {
      "cell_type": "code",
      "source": [
        "# Q4                 #\n",
        "\n",
        "#  ************list 1 is always the subset of list 2\n",
        "#find the next greatest element\n",
        "\n",
        "# a=[4,1,2]      #4--> -1  # 1-->3  #2-->3\n",
        "# b=[2,1,3,4]                #op=[-1,3,3]\n",
        "\n",
        "a = [4, 1, 2]\n",
        "# b=[2,1,3,4]       #op=[-1,3,3]\n",
        "# b=[2,1,3,4,6,9]  #op=[6, 3, 3]\n",
        "b=[2,5,1,3,4,6,9]  #op=[6, 3, 5]\n",
        "\n",
        "# Create a dictionary to store the next greater element for each number in b\n",
        "next_greater = {}\n",
        "stack = []\n",
        "\n",
        "# Traverse list b from right to left\n",
        "for num in reversed(b):\n",
        "    while stack and stack[-1] <= num:\n",
        "        stack.pop()\n",
        "    if stack:\n",
        "        next_greater[num] = stack[-1]\n",
        "    else:\n",
        "        next_greater[num] = -1\n",
        "    stack.append(num)\n",
        "\n",
        "# Build the result for elements in a\n",
        "result = [next_greater[num] for num in a]\n",
        "print(result)\n",
        "\n"
      ],
      "metadata": {
        "id": "r-Uf6DvigriX",
        "colab": {
          "base_uri": "https://localhost:8080/"
        },
        "outputId": "f2b1b45f-e633-4dc7-c236-fcd5f295e2ee"
      },
      "execution_count": null,
      "outputs": [
        {
          "output_type": "stream",
          "name": "stdout",
          "text": [
            "[6, 3, 5]\n"
          ]
        }
      ]
    },
    {
      "cell_type": "markdown",
      "source": [
        "afternoon"
      ],
      "metadata": {
        "id": "S_AXkLoqSYxY"
      }
    },
    {
      "cell_type": "markdown",
      "source": [
        "**trees**"
      ],
      "metadata": {
        "id": "QX9fDHZhCaA2"
      }
    },
    {
      "cell_type": "code",
      "source": [
        "class node:\n",
        "  def __init__(self,u):\n",
        "    self.data =u\n",
        "    self.left=None\n",
        "    self.right=None\n"
      ],
      "metadata": {
        "id": "UlP18o6WIkYu"
      },
      "execution_count": null,
      "outputs": []
    },
    {
      "cell_type": "code",
      "source": [
        "class node:\n",
        "    def __init__(self,u):\n",
        "        self.data =u\n",
        "        self.left=None\n",
        "        self.right=None\n",
        "    def inorder(self,root):\n",
        "        if(root==None):\n",
        "            return\n",
        "        self.inorder(root.left)\n",
        "        print(root.data,end=\" \")\n",
        "        self.inorder(root.right)\n",
        "\n",
        "    def preorder(self,root):            #leetcode 144\n",
        "        if(root==None):\n",
        "            return\n",
        "        print(root.data,end=\" \")\n",
        "        self.preorder(root.left)\n",
        "        self.preorder(root.right)\n",
        "\n",
        "    def postorder(self,root):         #leetcode 145\n",
        "        if(root==None):\n",
        "            return\n",
        "        self.postorder(root.left)\n",
        "        self.postorder(root.right)\n",
        "        print(root.data,end=\" \")\n",
        "\n",
        "    #find sum of all the nodes\n",
        "    def sum(self,root):\n",
        "        if(root==None):\n",
        "            return 0\n",
        "        return root.data+self.sum(root.left)+self.sum(root.right)\n",
        "\n",
        "    #find the sum of all even numbers\n",
        "    def even(self,root):\n",
        "        if(root==None):\n",
        "            return 0\n",
        "        if(root.data%2==0):\n",
        "            return root.data+self.even(root.left)+self.even(root.right)\n",
        "        else:\n",
        "            return self.even(root.left)+self.even(root.right)\n",
        "\n",
        "    #height of a tree\n",
        "    def height_tree(self,root):\n",
        "        if(root==None):\n",
        "            return -1\n",
        "        return max(self.height_tree(root.left),self.height_tree(root.right))+1\n",
        "\n",
        "    #searching an element from the tree BST\n",
        "    def search(self,root,k):\n",
        "        if(root==None):\n",
        "            return \"vunna danni vethuku... lenidanni vethakaku dorakadhu\"\n",
        "        if(root.data==k):\n",
        "            return \"True it is found\"\n",
        "        elif(k<root.data):\n",
        "            return self.search(root.left,k)\n",
        "        elif(k>root.data):\n",
        "            return self.search(root.right,k)\n",
        "\n",
        "\n",
        "root=node(10)\n",
        "root.left=node(5)\n",
        "root.right=node(20)\n",
        "root.left.left=node(2)\n",
        "root.left.right=node(8)\n",
        "print(\"inOrder:\")\n",
        "root.inorder(root)\n",
        "\n",
        "print(\"\\npreOrder:\")\n",
        "root.preorder(root)\n",
        "\n",
        "print(\"\\npostOrder:\")\n",
        "root.postorder(root)\n",
        "\n",
        "print(\"\\nSum of all numbers:\")\n",
        "print(root.sum(root))  #45\n",
        "\n",
        "print(\"\\nsum of even numbers:\")\n",
        "print(root.even(root))  #40\n",
        "\n",
        "print(\"\\nheight of the tree:\")\n",
        "print(root.height_tree(root))  #2\n",
        "\n",
        "print(\"\\nsearching an element in BST:\")\n",
        "print(root.search(root,22))\n",
        "\n"
      ],
      "metadata": {
        "colab": {
          "base_uri": "https://localhost:8080/"
        },
        "id": "kDsrgF0gRsJS",
        "outputId": "0dcc0b8d-39d3-46a7-a048-2e08654fa291"
      },
      "execution_count": null,
      "outputs": [
        {
          "output_type": "stream",
          "name": "stdout",
          "text": [
            "inOrder:\n",
            "2 5 8 10 20 \n",
            "preOrder:\n",
            "10 5 2 8 20 \n",
            "postOrder:\n",
            "2 8 5 20 10 \n",
            "Sum of all numbers:\n",
            "45\n",
            "\n",
            "sum of even numbers:\n",
            "40\n",
            "\n",
            "height of the tree:\n",
            "2\n",
            "\n",
            "searching an element in BST:\n",
            "vunna danni vethuku... lenidanni vethakaku dorakadhu\n"
          ]
        }
      ]
    },
    {
      "cell_type": "markdown",
      "source": [
        "#29/05/25  ---------DAY-16\n",
        "\n",
        "(trees,--)           \n",
        "(count of leaf nodes,--all the paths from root to leaf,--level order traversal,--count of leaf nodes using  level order treversal,--left view of the tree,--right view of the tree,--top view of the tree,--buttom view of the tree.)              \n",
        "(find the p and q lowest commen ancester,--check weather the tree is balanced or not)"
      ],
      "metadata": {
        "id": "qbz6CB-YJZE-"
      }
    },
    {
      "cell_type": "code",
      "source": [
        "class node:\n",
        "  def __init__(self,u):\n",
        "    self.data =u\n",
        "    self.left=None\n",
        "    self.right=None\n",
        "def inorder(root):\n",
        "  if(root==None):\n",
        "    return\n",
        "  inorder(root.left)\n",
        "  print(root.data,end=\" \")\n",
        "  inorder(root.right)\n",
        "\n",
        "\n",
        "    #Q1-----------creating BST tree                             #today\n",
        "def insert(root,x):\n",
        "  if(root==None):\n",
        "    return node(x)\n",
        "  if(x<root.data):\n",
        "    root.left=insert(root.left,x)\n",
        "  else:\n",
        "    root.right=insert(root.right,x)\n",
        "  return root\n",
        "\n",
        "\n",
        "  #Q2-------count of leaf node\n",
        "def count_leaf(root):\n",
        "  if(root==None):\n",
        "    return 0\n",
        "  if (root.left==None and root.right==None):\n",
        "    return 1\n",
        "  return count_leaf(root.left)+count_leaf(root.right)\n",
        "\n",
        "  #-----print all the leaf nodes\n",
        "def print_leaf(root):\n",
        "  if(root==None):\n",
        "    return 0\n",
        "  if(root.left==None and root.right==None):\n",
        "    print(root.data)\n",
        "  print_leaf(root.left)\n",
        "  print_leaf(root.right)\n",
        "\n",
        "\n",
        "  #Q3-----print all the paths from root to leaf\n",
        "def all_path(root,l):\n",
        "  if(root==None):\n",
        "    return\n",
        "  l.append(root.data)\n",
        "  if(root.left==None and root.right==None):\n",
        "    print(l)\n",
        "    l.pop()\n",
        "    return\n",
        "  all_path(root.left,l)\n",
        "  all_path(root.right,l)\n",
        "  l.pop()\n",
        "\n",
        "\n",
        "  #Q4 ----------level order traversal  BFS(used),queue\n",
        "  #always pop 0th element\n",
        "def level_order(root):\n",
        "  q=[]\n",
        "  if(root==None):\n",
        "    return\n",
        "  q.append(root)\n",
        "  while(q):\n",
        "    curr=q.pop(0)\n",
        "    # print(curr.data,end=\" \")\n",
        "    if(curr.left!=None):\n",
        "      q.append(curr.left)\n",
        "    if(curr.right!=None):\n",
        "      q.append(curr.right)\n",
        "    print(curr.data,end=\" \")\n",
        "\n",
        "  #Q5 -----count of leaf nodes using  level order treversal\n",
        "def count_l_trav(root):\n",
        "  q=[]\n",
        "  if(root==None):\n",
        "    return\n",
        "  q.append(root)\n",
        "  c=0\n",
        "  while(q):\n",
        "    curr=q.pop(0)\n",
        "    if(curr.left==None and curr.right==None):\n",
        "      c=c+1\n",
        "    if(curr.left!=None):\n",
        "      q.append(curr.left)\n",
        "    if(curr.right!=None):\n",
        "      q.append(curr.right)\n",
        "    # print(curr.data,end=\" \")\n",
        "  print(c)\n",
        "\n",
        "  #Q6 ------ left view --- of the tree using dict\n",
        "def left_view(root,c):\n",
        "  if(root==None):\n",
        "    return\n",
        "  if(c not in d):\n",
        "    d[c]=root.data\n",
        "  left_view(root.left,c+1)\n",
        "  left_view(root.right,c+1)\n",
        "\n",
        "  #Q7 --------- right view--- of the tree      #not comming\n",
        "# def right_view(root,c):\n",
        "\n",
        "#     if root is None:\n",
        "#       return\n",
        "#     r[c]=root.data\n",
        "#     right_view(root.right,c+1)\n",
        "#     right_view(root.left,c+1)\n",
        "\n",
        "def rv(root, c):\n",
        "  if root is None:\n",
        "    return\n",
        "  d[c] = root.data\n",
        "  rv(root.left, c + 1)\n",
        "  rv(root.right, c + 1)\n",
        "\n",
        "  #Q8 ----- top view ------- of the tree\n",
        "def top_view(root):\n",
        "  c=0\n",
        "  l=[(root,c)]\n",
        "  d={}\n",
        "  while(l):\n",
        "    curr,c=l.pop(0)\n",
        "    if(c not in d):\n",
        "       d[c]=curr.data\n",
        "    if(curr.left!=None):\n",
        "      l.append((curr.left,c-1))\n",
        "    if(curr.right!=None):\n",
        "      l.append((curr.right,c+1))\n",
        "  print(d)\n",
        "  for i in sorted(d):\n",
        "    print(d[i],end=\" \")\n",
        "\n",
        "  #Q9 ---- buttom view --- of the tree\n",
        "def buttom_view(root):\n",
        "  c=0\n",
        "  l=[(root,c)]\n",
        "  d={}\n",
        "  while(l):\n",
        "    curr,c=l.pop(0)\n",
        "    # if(c not in d):\n",
        "    d[c]=curr.data\n",
        "    if(curr.left!=None):\n",
        "      l.append((curr.left,c-1))\n",
        "    if(curr.right!=None):\n",
        "      l.append((curr.right,c+1))\n",
        "  print(d)\n",
        "  for i in sorted(d):\n",
        "    print(d[i],end=\" \")\n",
        "\n",
        "  #Q10 ---given a BST\n",
        "\n",
        "# root=node(10)\n",
        "root=None\n",
        "root=insert(root,10)\n",
        "root=insert(root,5)\n",
        "root=insert(root,2)\n",
        "root=insert(root,8)\n",
        "root=insert(root,20)\n",
        "print(\"inOrder:\")\n",
        "inorder(root)          #2 5 8 10 20\n",
        "print(\"\\ncount of leaf nodes:\")\n",
        "print(count_leaf(root))   #3\n",
        "print(\"\\nprint all the leaf nodes:\")\n",
        "print_leaf(root)      #2 8 20\n",
        "\n",
        "print(\"\\nprint all the paths from root to leaf:\")\n",
        "# l=[]\n",
        "all_path(root,l=[])\n",
        "\n",
        "print(\"\\nlevel order traversal:\")\n",
        "level_order(root)         #10 5 20 2 8\n",
        "\n",
        "print(\"\\ncount of leaf nodes using  level order treversal:\")\n",
        "count_l_trav(root)  #3\n",
        "\n",
        "print(\"\\nleft view of the tree:\")\n",
        "d={}   #globaly\n",
        "left_view(root,0)   #10 5 2\n",
        "print(d)\n",
        "\n",
        "# print(\"\\nright view of the tree:\")\n",
        "# r={}                #comming wrong op\n",
        "# right_view(root,0)    #10 20 8\n",
        "# print(r)\n",
        "print(\"\\nright view of the tree:\")\n",
        "d = {}                     #correct\n",
        "rv(root, 0)\n",
        "print(d)         #10 20 8\n",
        "\n",
        "print(\"\\ntop view of the tree:\")\n",
        "top_view(root)          #2 5 10 20\n",
        "\n",
        "print(\"\\nbuttom view of the tree:\")\n",
        "buttom_view(root)       #2 5 8 20\n",
        "\n"
      ],
      "metadata": {
        "colab": {
          "base_uri": "https://localhost:8080/"
        },
        "id": "4vr6cWugJtQn",
        "outputId": "b35726de-a89a-4c22-a85a-91a773d382ca"
      },
      "execution_count": null,
      "outputs": [
        {
          "output_type": "stream",
          "name": "stdout",
          "text": [
            "inOrder:\n",
            "2 5 8 10 20 \n",
            "count of leaf nodes:\n",
            "3\n",
            "\n",
            "print all the leaf nodes:\n",
            "2\n",
            "8\n",
            "20\n",
            "\n",
            "print all the paths from root to leaf:\n",
            "[10, 5, 2]\n",
            "[10, 5, 8]\n",
            "[10, 20]\n",
            "\n",
            "level order traversal:\n",
            "10 5 20 2 8 \n",
            "count of leaf nodes using  level order treversal:\n",
            "3\n",
            "\n",
            "left view of the tree:\n",
            "{0: 10, 1: 5, 2: 2}\n",
            "\n",
            "right view of the tree:\n",
            "{0: 10, 1: 20, 2: 8}\n",
            "\n",
            "top view of the tree:\n",
            "{0: 10, -1: 5, 1: 20, -2: 2}\n",
            "2 5 10 20 \n",
            "buttom view of the tree:\n",
            "{0: 8, -1: 5, 1: 20, -2: 2}\n",
            "2 5 8 20 "
          ]
        }
      ]
    },
    {
      "cell_type": "markdown",
      "source": [
        "afternoon"
      ],
      "metadata": {
        "id": "Uxo0D0UgO6MI"
      }
    },
    {
      "cell_type": "code",
      "source": [
        "class node:\n",
        "  def __init__(self,u):\n",
        "    self.data =u\n",
        "    self.left=None\n",
        "    self.right=None\n",
        "def inorder(root):\n",
        "  if(root==None):\n",
        "    return\n",
        "  inorder(root.left)\n",
        "  print(root.data,end=\" \")\n",
        "  inorder(root.right)\n",
        "\n",
        "\n",
        "  #Q10 ---given a BST ,, find the p and q lowest commen ancester          #leet code 236\n",
        "\n",
        "# def lca(root,p,q):\n",
        "#   if(root==None):                              #\n",
        "#     return None\n",
        "#   if(root.data==p or root.data==q):\n",
        "#     return root.data\n",
        "#   left=lca(root.left,p,q)\n",
        "#   right=lca(root.right,p,q)\n",
        "#   if(left!=None and right!=None):\n",
        "#     return root.data\n",
        "#   if(left==None and right==None):\n",
        "#     return None\n",
        "#   if(left!=None):\n",
        "#     return left\n",
        "#   else:\n",
        "#     return right\n",
        "\n",
        "#if both are lesser go left ,if both are greater go right ,if one is greater and one is lesser same root is the answer\n",
        "def lca_BST(root,p,q):                   #sir code   #this is for BST\n",
        "  if(root==None):\n",
        "    return None\n",
        "  else:\n",
        "    if(p<root.data and q<root.data):\n",
        "      lca_BST(root.left,p,q)\n",
        "    if(p>root.data and q>root.data):\n",
        "      lca_BST(root.right,p,q)\n",
        "    return root.data\n",
        "\n",
        "def lca_BT(root,p,q):      #this is for BT\n",
        "  if(root==None):                         #sir code\n",
        "    return None\n",
        "  if(root.data==p or root.data==q):\n",
        "    return root.data\n",
        "  left=lca_BT(root.left,p,q)\n",
        "  right=lca_BT(root.right,p,q)\n",
        "  if(left!=None and right!=None):\n",
        "    return root.data\n",
        "  # if(left==None and right==None):\n",
        "  #   return None\n",
        "  if(left!=None):\n",
        "    return left\n",
        "  else:\n",
        "    return right\n",
        "\n",
        "\n",
        "  #Q 11 -----check weather the tree is balanced or not\n",
        "def height_tree(root):            #sir code\n",
        "  if(root==None):\n",
        "    return -1\n",
        "  return max(height_tree(root.left),height_tree(root.right))+1\n",
        "def is_balanced(root):\n",
        "  if(root==None):\n",
        "    return True\n",
        "  lh=height_tree(root.left)\n",
        "  rh=height_tree(root.right)\n",
        "  if(abs(lh-rh)>1):\n",
        "    return False\n",
        "  return is_balanced(root.left) and is_balanced(root.right)\n",
        "\n",
        "\n",
        "\n",
        "\n",
        "# root=None\n",
        "# root=insert(root,10)\n",
        "# root=insert(root,5)\n",
        "# root=insert(root,2)\n",
        "# root=insert(root,8)\n",
        "# root=insert(root,20)\n",
        "# print(\"inOrder:\")\n",
        "# inorder(root)          #2 5 8 10 20\n",
        "# print()\n",
        "#-----------------------------------------\n",
        "\n",
        "\n",
        "root=None\n",
        "root=insert(root,10)\n",
        "root=insert(root,5)\n",
        "root=insert(root,2)\n",
        "root=insert(root,6)\n",
        "root=insert(root,7)\n",
        "root=insert(root,15)\n",
        "root=insert(root,22)\n",
        "root=insert(root,8)\n",
        "root=insert(root,20)\n",
        "print(\"inOrder:\")\n",
        "inorder(root)          #2 5 6 7 8 10 15 20 22\n",
        "\n",
        "# print(\"\\nlowest commen ancester:\")\n",
        "# print(lca(root,2,20))\n",
        "\n",
        "print(\"\\nlowest commen ancester for BST:\")\n",
        "print(lca_BST(root,2,20))\n",
        "\n",
        "print(\"\\nlowest commen ancester for BT:\")\n",
        "print(lca_BT(root,2,20))\n",
        "\n",
        "print(\"\\ncheck weather the tree is balanced or not:\")\n",
        "print(is_balanced(root))  #False/True\n"
      ],
      "metadata": {
        "colab": {
          "base_uri": "https://localhost:8080/"
        },
        "id": "HZPFjUw5PCFy",
        "outputId": "438fab28-32ce-43ff-f5bd-918f1c30d150"
      },
      "execution_count": null,
      "outputs": [
        {
          "output_type": "stream",
          "name": "stdout",
          "text": [
            "inOrder:\n",
            "2 5 6 7 8 10 15 20 22 \n",
            "lowest commen ancester for BST:\n",
            "10\n",
            "\n",
            "lowest commen ancester for BT:\n",
            "10\n",
            "\n",
            "check weather the tree is balanced or not:\n",
            "False\n"
          ]
        }
      ]
    },
    {
      "cell_type": "markdown",
      "source": [
        "#30/05/25 ------DAY-17\n",
        "\n",
        "(Graphs,--BFS and DFS)"
      ],
      "metadata": {
        "id": "JiQ5-GHKSWWm"
      }
    },
    {
      "cell_type": "code",
      "source": [
        "#  1.matrix   (or)                   #for understand to the algoritham    #shold use in c language hard to use\n",
        "#  2.adjacency list      possible                                        #c++,java,py(easy python using dict{})\n",
        "\n",
        "#undirected graph\n",
        "from collections import defaultdict\n",
        "graph=[(5,2),(5,7),(5,8),(2,7),(2,8),(8,7),(8,3),(2,3)]\n",
        "d=defaultdict(list)\n",
        "for i,j in graph:\n",
        "  d[i].append(j)\n",
        "  d[j].append(i)\n",
        "print(d)\n",
        "\n",
        "# directed graph\n",
        "graph=[(5,2),(5,7),(5,8),(2,7),(2,8),(8,7),(8,3),(2,3)]\n",
        "d=defaultdict(list)\n",
        "for i,j in graph:\n",
        "  d[i].append(j)\n",
        "  # d[j].append(i)  #to make directed graph\n",
        "print(d,\"-------directed graph\")\n"
      ],
      "metadata": {
        "colab": {
          "base_uri": "https://localhost:8080/"
        },
        "id": "M009N69Hy02s",
        "outputId": "e70eed92-557a-494d-aafb-1e8df7b43637"
      },
      "execution_count": null,
      "outputs": [
        {
          "output_type": "stream",
          "name": "stdout",
          "text": [
            "defaultdict(<class 'list'>, {5: [2, 7, 8], 2: [5, 7, 8, 3], 7: [5, 2, 8], 8: [5, 2, 7, 3], 3: [8, 2]})\n",
            "defaultdict(<class 'list'>, {5: [2, 7, 8], 2: [7, 8, 3], 8: [7, 3]}) -------directed graph\n"
          ]
        }
      ]
    },
    {
      "cell_type": "code",
      "source": [
        "#\n",
        "#print all the paths          and length of each path\n",
        "\n",
        "from collections import defaultdict\n",
        "def print_all_path(u,v,path=[]):        #print all the paths\n",
        "  path.append(u)\n",
        "  if(u==v):\n",
        "    print(path)                #print(path,len(path))<------ to show the len of each path\n",
        "    # path.pop()        without this also it will work\n",
        "    # return\n",
        "  # else:\n",
        "  for i in d[u]:\n",
        "    if(i not in path):\n",
        "      print_all_path(i,v,path)\n",
        "  path.pop()\n",
        "  return\n",
        "\n",
        "#undirected graph\n",
        "graph=[(5,2),(5,7),(5,8),(2,7),(2,8),(8,7),(8,3),(2,3)]\n",
        "d=defaultdict(list)\n",
        "for i,j in graph:\n",
        "  d[i].append(j)\n",
        "  d[j].append(i)\n",
        "print(d)\n",
        "\n",
        "# DFS\n",
        "print_all_path(5,3)"
      ],
      "metadata": {
        "colab": {
          "base_uri": "https://localhost:8080/"
        },
        "id": "7nNdFeNRy2bK",
        "outputId": "43c5cca2-ca6f-42e8-93c1-feb866b84fd1"
      },
      "execution_count": null,
      "outputs": [
        {
          "output_type": "stream",
          "name": "stdout",
          "text": [
            "defaultdict(<class 'list'>, {5: [2, 7, 8], 2: [5, 7, 8, 3], 7: [5, 2, 8], 8: [5, 2, 7, 3], 3: [8, 2]})\n",
            "[5, 2, 7, 8, 3]\n",
            "[5, 2, 8, 3]\n",
            "[5, 2, 3]\n",
            "[5, 7, 2, 8, 3]\n",
            "[5, 7, 2, 3]\n",
            "[5, 7, 8, 2, 3]\n",
            "[5, 7, 8, 3]\n",
            "[5, 8, 2, 3]\n",
            "[5, 8, 7, 2, 3]\n",
            "[5, 8, 3]\n"
          ]
        }
      ]
    },
    {
      "cell_type": "code",
      "source": [
        "#\n",
        "#count  all the paths\n",
        "\n",
        "# from collections import defaultdict\n",
        "# def print_all_path(u,v,path=[],c=0):        #print all the paths\n",
        "#   path.append(u)\n",
        "#   if(u==v):\n",
        "#     c+=1\n",
        "#     # print(path)\n",
        "#     # path.pop()        #without this also it will work\n",
        "#     # return\n",
        "#   # else:\n",
        "#   for i in d[u]:\n",
        "#     if(i not in path):\n",
        "#       c=print_all_path(i,v,path,c)\n",
        "#   path.pop()\n",
        "#   return c\n",
        "\n",
        "# #undirected graph\n",
        "# graph=[(5,2),(5,7),(5,8),(2,7),(2,8),(8,7),(8,3),(2,3)]\n",
        "# d=defaultdict(list)\n",
        "# for i,j in graph:\n",
        "#   d[i].append(j)\n",
        "#   d[j].append(i)\n",
        "# # print(d)\n",
        "\n",
        "# # DFS\n",
        "# print(print_all_path(5,3))\n",
        "\n",
        "#------------------------------------------------------------\n",
        "                                                #use the set() ,saves the time\n",
        "from collections import defaultdict\n",
        "def print_all_path(u,v,path=set(),c=0):        #print all the paths total count\n",
        "  path.add(u)\n",
        "  if(u==v):\n",
        "    c+=1\n",
        "  else:\n",
        "    for i in d[u]:                            #effective code\n",
        "      if(i not in path):\n",
        "        c=print_all_path(i,v,path,c)\n",
        "  path.remove(u)\n",
        "  return c\n",
        "\n",
        "#undirected graph\n",
        "graph=[(5,2),(5,7),(5,8),(2,7),(2,8),(8,7),(8,3),(2,3)]\n",
        "d=defaultdict(list)\n",
        "for i,j in graph:\n",
        "  d[i].append(j)\n",
        "  d[j].append(i)\n",
        "# print(d)\n",
        "\n",
        "# DFS\n",
        "print(print_all_path(5,3))"
      ],
      "metadata": {
        "colab": {
          "base_uri": "https://localhost:8080/"
        },
        "id": "a7KRdtzR3J-0",
        "outputId": "971b423e-db95-47ea-9d5b-75d1e61ee49c"
      },
      "execution_count": null,
      "outputs": [
        {
          "output_type": "stream",
          "name": "stdout",
          "text": [
            "10\n"
          ]
        }
      ]
    },
    {
      "cell_type": "code",
      "source": [
        "# path is existting or not              #leet code 1971\n",
        "\n",
        "from collections import defaultdict\n",
        "\n",
        "def print_all_path(u,v,path=[]):        #print all the paths\n",
        "  path.append(u)\n",
        "  if(u==v):\n",
        "    print(path)                #print(path,len(path))<------ to show the len of each path\n",
        "    # path.pop()        without this also it will work\n",
        "    # return\n",
        "  # else:\n",
        "  for i in d[u]:\n",
        "    if(i not in path):\n",
        "      print_all_path(i,v,path)\n",
        "  path.pop()\n",
        "  return\n",
        "\n",
        "def check_if_path(u,v,path=[]):        #check the path  #leet code 1971\n",
        "  path.append(u)\n",
        "  if(u==v):\n",
        "    return True\n",
        "  else:\n",
        "    for i in d[u]:                            #sir code\n",
        "      if(i not in path):\n",
        "        if check_if_path(i,v,path):\n",
        "          return True\n",
        "  path.pop()\n",
        "  return False\n",
        "\n",
        "#undirected graph\n",
        "graph=[(5,2),(5,7),(5,8),(2,7),(2,8),(8,7),(8,3),(2,3)]\n",
        "d=defaultdict(list)\n",
        "for i,j in graph:\n",
        "  d[i].append(j)\n",
        "  d[j].append(i)\n",
        "print(d)\n",
        "#DFS\n",
        "print_all_path(5,3)\n",
        "\n",
        "print(check_if_path(5,3))"
      ],
      "metadata": {
        "colab": {
          "base_uri": "https://localhost:8080/"
        },
        "id": "bRkrXlmx5ls5",
        "outputId": "001c1ee8-bf07-407a-ffd3-6d359f60e607"
      },
      "execution_count": null,
      "outputs": [
        {
          "output_type": "stream",
          "name": "stdout",
          "text": [
            "defaultdict(<class 'list'>, {5: [2, 7, 8], 2: [5, 7, 8, 3], 7: [5, 2, 8], 8: [5, 2, 7, 3], 3: [8, 2]})\n",
            "[5, 2, 7, 8, 3]\n",
            "[5, 2, 8, 3]\n",
            "[5, 2, 3]\n",
            "[5, 7, 2, 8, 3]\n",
            "[5, 7, 2, 3]\n",
            "[5, 7, 8, 2, 3]\n",
            "[5, 7, 8, 3]\n",
            "[5, 8, 2, 3]\n",
            "[5, 8, 7, 2, 3]\n",
            "[5, 8, 3]\n",
            "True\n"
          ]
        }
      ]
    },
    {
      "cell_type": "markdown",
      "source": [
        "afternoon            \n",
        "\n",
        "BFS"
      ],
      "metadata": {
        "id": "BN0cb-OkPDZV"
      }
    },
    {
      "cell_type": "code",
      "source": [
        "#BFS           #no recursion\n",
        "#using queue\n",
        "\n",
        "# use BFS visite all the nodes or search for an node             #\n",
        "\n",
        "from collections import defaultdict\n",
        "\n",
        "def print_all_path(u,v,path=[]):        #print all the paths\n",
        "  path.append(u)\n",
        "  if(u==v):\n",
        "    print(path)                #print(path,len(path))<------ to show the len of each path\n",
        "    # path.pop()        without this also it will work\n",
        "    # return\n",
        "  # else:\n",
        "  for i in d[u]:\n",
        "    if(i not in path):\n",
        "      print_all_path(i,v,path)\n",
        "  path.pop()\n",
        "  return\n",
        "\n",
        "def check_if_path(u,v,path=[]):        #check the path  #leet code 1971\n",
        "  path.append(u)\n",
        "  if(u==v):\n",
        "    return True\n",
        "  else:\n",
        "    for i in d[u]:                            #sir code\n",
        "      if(i not in path):\n",
        "        if check_if_path(i,v,path):\n",
        "          return True\n",
        "  path.pop()\n",
        "  return False\n",
        "\n",
        "# def BFS(u):           #printing all the nodes\n",
        "#   v=set()                             #sir code\n",
        "#   q=[u]\n",
        "#   while(q):\n",
        "#     curr=q.pop(0)\n",
        "#     print(curr,end=\" \")\n",
        "#     for i in d[curr]:\n",
        "#       if(i not in v):\n",
        "#         v.add(i)\n",
        "#         q.append(i)\n",
        "#     v.add(curr)\n",
        "\n",
        "def BFS(u):           #printing all the nodes\n",
        "  v=[]                            #sir code\n",
        "  q=[u]\n",
        "  while(q):\n",
        "    curr=q.pop(0)\n",
        "    v.append(curr)\n",
        "    print(curr)\n",
        "    for i in d[curr]:\n",
        "      if(i not in v and i not in q):\n",
        "        q.append(i)\n",
        "  return v\n",
        "\n",
        "\n",
        "#undirected graph\n",
        "graph=[(5,2),(5,7),(5,8),(2,7),(2,8),(8,7),(8,3),(2,3)]\n",
        "d=defaultdict(list)\n",
        "for i,j in graph:\n",
        "  d[i].append(j)\n",
        "  d[j].append(i)\n",
        "print(d)\n",
        "#DFS\n",
        "print_all_path(5,3)\n",
        "print(check_if_path(5,3))\n",
        "\n",
        "print(\"-+-+-+-+-+-+-+-+BFS\")\n",
        "#BFS\n",
        "print(BFS(5))\n",
        "\n",
        "\n"
      ],
      "metadata": {
        "colab": {
          "base_uri": "https://localhost:8080/"
        },
        "id": "_SfXVNcXPIa9",
        "outputId": "a4acbd77-3c23-4cce-a16f-2e2ae80c4f8b"
      },
      "execution_count": null,
      "outputs": [
        {
          "output_type": "stream",
          "name": "stdout",
          "text": [
            "defaultdict(<class 'list'>, {5: [2, 7, 8], 2: [5, 7, 8, 3], 7: [5, 2, 8], 8: [5, 2, 7, 3], 3: [8, 2]})\n",
            "[5, 2, 7, 8, 3]\n",
            "[5, 2, 8, 3]\n",
            "[5, 2, 3]\n",
            "[5, 7, 2, 8, 3]\n",
            "[5, 7, 2, 3]\n",
            "[5, 7, 8, 2, 3]\n",
            "[5, 7, 8, 3]\n",
            "[5, 8, 2, 3]\n",
            "[5, 8, 7, 2, 3]\n",
            "[5, 8, 3]\n",
            "True\n",
            "-+-+-+-+-+-+-+-+BFS\n",
            "5\n",
            "2\n",
            "7\n",
            "8\n",
            "3\n",
            "[5, 2, 7, 8, 3]\n"
          ]
        }
      ]
    },
    {
      "cell_type": "code",
      "source": [
        "from os import confstr\n",
        "#weighted graph\n",
        "\n",
        "\n",
        "\n",
        "#print all the paths\n",
        "def print_all(u,v,path=[]):\n",
        "  path.append(u)\n",
        "  if(u==v):\n",
        "    print(path)\n",
        "  for i,w in d[u]:\n",
        "    if (i not in path):\n",
        "      print_all(i,v,path)\n",
        "  path.pop()\n",
        "  return\n",
        "\n",
        "#print all the path and cost\n",
        "def print_all_cost(u,v,path=[],cost=0):\n",
        "  path.append(u)\n",
        "  if(u==v):\n",
        "    print(path,cost)\n",
        "  for i,w in d[u]:\n",
        "    if (i not in path):\n",
        "      cost+=w\n",
        "      print_all_cost(i,v,path,cost)\n",
        "      cost-=w\n",
        "  path.pop()\n",
        "  return\n",
        "\n",
        "\n",
        "from collections import defaultdict\n",
        "a=[(5,2,3),(5,7,2),(5,8,1),(2,7,2),(2,8,4),(8,7,1),(8,3,3),(2,3,2)]\n",
        "d=defaultdict(list)\n",
        "for i,j,w in a:\n",
        "  d[i].append([j,w])\n",
        "  d[j].append([i,w])\n",
        "print(d)\n",
        "print(dict(d))\n",
        "print(\"\\nprinting all the paths:\")\n",
        "print_all(5,3)\n",
        "print(\"\\nprint all the path and cost:\")\n",
        "print_all_cost(5,3)\n"
      ],
      "metadata": {
        "colab": {
          "base_uri": "https://localhost:8080/"
        },
        "id": "yeGjX1z7cyr2",
        "outputId": "46455af8-0757-4789-fadf-f2e8b09b4037"
      },
      "execution_count": null,
      "outputs": [
        {
          "output_type": "stream",
          "name": "stdout",
          "text": [
            "defaultdict(<class 'list'>, {5: [[2, 3], [7, 2], [8, 1]], 2: [[5, 3], [7, 2], [8, 4], [3, 2]], 7: [[5, 2], [2, 2], [8, 1]], 8: [[5, 1], [2, 4], [7, 1], [3, 3]], 3: [[8, 3], [2, 2]]})\n",
            "{5: [[2, 3], [7, 2], [8, 1]], 2: [[5, 3], [7, 2], [8, 4], [3, 2]], 7: [[5, 2], [2, 2], [8, 1]], 8: [[5, 1], [2, 4], [7, 1], [3, 3]], 3: [[8, 3], [2, 2]]}\n",
            "\n",
            "printing all the paths:\n",
            "[5, 2, 7, 8, 3]\n",
            "[5, 2, 8, 3]\n",
            "[5, 2, 3]\n",
            "[5, 7, 2, 8, 3]\n",
            "[5, 7, 2, 3]\n",
            "[5, 7, 8, 2, 3]\n",
            "[5, 7, 8, 3]\n",
            "[5, 8, 2, 3]\n",
            "[5, 8, 7, 2, 3]\n",
            "[5, 8, 3]\n",
            "\n",
            "print all the path and cost:\n",
            "[5, 2, 7, 8, 3] 9\n",
            "[5, 2, 8, 3] 10\n",
            "[5, 2, 3] 5\n",
            "[5, 7, 2, 8, 3] 11\n",
            "[5, 7, 2, 3] 6\n",
            "[5, 7, 8, 2, 3] 9\n",
            "[5, 7, 8, 3] 6\n",
            "[5, 8, 2, 3] 7\n",
            "[5, 8, 7, 2, 3] 6\n",
            "[5, 8, 3] 4\n"
          ]
        }
      ]
    },
    {
      "cell_type": "markdown",
      "source": [
        "| Aspect            | BFS                    | DFS                          |\n",
        "| ----------------- | ---------------------- | ---------------------------- |\n",
        "| Data Structure    | Queue (FIFO)           | Stack (LIFO) or Recursion    |\n",
        "| Traversal Pattern | Level by level (broad) | Deep into one path first     |\n",
        "| Implementation    | Iterative (queue)      | Usually recursive (or stack) |\n"
      ],
      "metadata": {
        "id": "_Je94ZtMBdNE"
      }
    },
    {
      "cell_type": "markdown",
      "source": [
        " BFS and DFS"
      ],
      "metadata": {
        "id": "LIm_ZDSzBsBm"
      }
    },
    {
      "cell_type": "code",
      "source": [
        "#------------ BFS and DFS ---------------\n",
        "\n",
        "\n",
        "# How It Works:         #DFS\n",
        "# Starts at node u.\n",
        "# Marks u as visited and prints it.\n",
        "# For each unvisited neighbor i, recursively calls DFS(i).\n",
        "\n",
        "\n",
        "from collections import defaultdict\n",
        " #--------------------------------------DFS\n",
        "def DFS(u, visited=None):\n",
        "    if visited is None:\n",
        "        visited = []\n",
        "\n",
        "    visited.append(u)\n",
        "    print(u)\n",
        "\n",
        "    for i in d[u]:\n",
        "        if i not in visited:\n",
        "            DFS(i, visited)\n",
        "\n",
        "    return visited\n",
        "\n",
        "\n",
        "#-----------------------------------------------BFS\n",
        "def BFS(u):           #printing all the nodes\n",
        "  v=[]                            #sir code\n",
        "  q=[u]\n",
        "  while(q):\n",
        "    curr=q.pop(0)\n",
        "    v.append(curr)\n",
        "    print(curr)co\n",
        "    for i in d[curr]:\n",
        "      if(i not in v and i not in q):\n",
        "        q.append(i)\n",
        "  return v\n",
        "\n",
        "#------------------------\n",
        "graph = [(5,2),(5,7),(5,8),(2,7),(2,8),(8,7),(8,3),(2,3)]\n",
        "d = defaultdict(list)\n",
        "for i, j in graph:\n",
        "    d[i].append(j)\n",
        "    d[j].append(i)\n",
        "\n",
        "# Run DFS\n",
        "print(\"--+-+-+-+-+DFS\")\n",
        "print(DFS(5))\n",
        "\n",
        "print(\"--+-+-+-+-+BFS\")\n",
        "# Run BFS\n",
        "print(BFS(5))\n",
        "\n",
        "\n"
      ],
      "metadata": {
        "colab": {
          "base_uri": "https://localhost:8080/"
        },
        "id": "HmGuSOxSBac1",
        "outputId": "c8cb905e-6905-478c-edc8-2245fc231dfb"
      },
      "execution_count": null,
      "outputs": [
        {
          "output_type": "stream",
          "name": "stdout",
          "text": [
            "--+-+-+-+-+DFS\n",
            "5\n",
            "2\n",
            "7\n",
            "8\n",
            "3\n",
            "[5, 2, 7, 8, 3]\n",
            "--+-+-+-+-+BFS\n",
            "5\n",
            "2\n",
            "7\n",
            "8\n",
            "3\n",
            "[5, 2, 7, 8, 3]\n"
          ]
        }
      ]
    },
    {
      "cell_type": "markdown",
      "source": [
        "#31/05/25 ----------DAY-18\n",
        "\n",
        "(connected graph,----dijkstra algorithm,---prims algoritham,---)"
      ],
      "metadata": {
        "id": "Hnfmpb89bC4w"
      }
    },
    {
      "cell_type": "code",
      "source": [
        "# leet code   547\n",
        "#find the number of connected graph\n",
        "\n",
        "def no_pro(i):\n",
        "  l[i]=True\n",
        "  for j in range(n):\n",
        "    if(g[i][j]==1 and i!=j and l[i]!=true):\n",
        "      no_pro(j)\n",
        "  l=[False]*n\n",
        "  c=0\n",
        "  for j in range(n):\n",
        "    if(l[j]==False):\n",
        "      c+=1\n",
        "      no_pro(j)\n",
        "\n",
        "  return c\n",
        "\n",
        "\n"
      ],
      "metadata": {
        "id": "TXFBdwMxbZMQ"
      },
      "execution_count": null,
      "outputs": []
    },
    {
      "cell_type": "markdown",
      "source": [
        "**dijkstra algorithm**"
      ],
      "metadata": {
        "id": "POIq63cI4Tew"
      }
    },
    {
      "cell_type": "code",
      "source": [
        "# dijkstra algorithm\n",
        "# SSSP --->>Single Source Shortest Path (SSSP)\n",
        "\n",
        "# --------finding the each  cost  and next shortest path\n",
        "\n",
        "\n",
        "from collections import defaultdict\n",
        "\n",
        "def sssp_cost(u):                   # dijkstra algorithm     #finding only the cost\n",
        "  dis=defaultdict(lambda:float('inf')) # result\n",
        "  dis[u]=0\n",
        "  q=[u]\n",
        "  v=set()\n",
        "  while(q):\n",
        "    curr=q.pop(0)\n",
        "    v.add(curr)\n",
        "    for i,w in d[curr]:\n",
        "      if(dis[curr]+w < dis[i]):\n",
        "        dis[i]=dis[curr]+w\n",
        "      if(i not in q and i not in v):\n",
        "        q.append(i)\n",
        "  print(dis)\n",
        "\n",
        "\n",
        "# def sssp_path(u):\n",
        "\n",
        "\n",
        "a=[(10,5,2),(10,7,4),(5,7,1),(5,8,3),(5,3,2),(7,8,1),(8,3,1)]\n",
        "d=defaultdict(list)\n",
        "for i,j,w in a:\n",
        "  d[i].append([j,w])\n",
        "  d[j].append([i,w])\n",
        "# print(d)\n",
        "print(dict(d))\n",
        "\n",
        "sssp_cost(10)  #{10: 0, 5: 2, 7: 3, 8: 4, 3: 4}"
      ],
      "metadata": {
        "colab": {
          "base_uri": "https://localhost:8080/"
        },
        "id": "4nhPiB9y2VxX",
        "outputId": "04b43f15-89b1-4786-dc1d-f5976829a248"
      },
      "execution_count": null,
      "outputs": [
        {
          "output_type": "stream",
          "name": "stdout",
          "text": [
            "{10: [[5, 2], [7, 4]], 5: [[10, 2], [7, 1], [8, 3], [3, 2]], 7: [[10, 4], [5, 1], [8, 1]], 8: [[5, 3], [7, 1], [3, 1]], 3: [[5, 2], [8, 1]]}\n",
            "defaultdict(<function sssp_cost.<locals>.<lambda> at 0x7b85ca47bec0>, {10: 0, 5: 2, 7: 3, 8: 4, 3: 4})\n"
          ]
        }
      ]
    },
    {
      "cell_type": "markdown",
      "source": [
        "afternoon"
      ],
      "metadata": {
        "id": "_E33vhKVtqD6"
      }
    },
    {
      "cell_type": "markdown",
      "source": [
        "prims algoritham"
      ],
      "metadata": {
        "id": "XRVpjj2yo_76"
      }
    },
    {
      "cell_type": "code",
      "source": [
        "#BFS\n",
        "#prims\n",
        "\n",
        "\n",
        "#find the cost of min spanning tree   and path\n",
        "\n",
        "import heapq\n",
        "                                            #sir code\n",
        "def mst_prims(u):                        #finding the min cost\n",
        "  v=set()\n",
        "  mh=[(0,u)]\n",
        "  cost=0\n",
        "  while(mh):\n",
        "    curr_w,n=heapq.heappop(mh)\n",
        "    if n in v:\n",
        "      continue\n",
        "    v.add(n)\n",
        "    cost+=curr_w\n",
        "    for i,w in d[n]:\n",
        "      if(i not in v):\n",
        "        heapq.heappush(mh,(w,i))\n",
        "  print(cost)\n",
        "\n",
        "\n",
        "\n",
        "def mst_prims_print_path(u):         # printting the mst path\n",
        "  v=set()\n",
        "  mh=[(0,u)]\n",
        "  cost=0\n",
        "  ed=[]                         #added  a list\n",
        "  while(mh):\n",
        "    curr_w,n=heapq.heappop(mh)\n",
        "    if n in v:\n",
        "      continue\n",
        "    v.add(n)\n",
        "    cost+=curr_w\n",
        "    ed.append((n,curr_w))        #add\n",
        "    for i,w in d[n]:\n",
        "      if(i not in v):\n",
        "        heapq.heappush(mh,(w,i))\n",
        "  print(ed)\n",
        "\n",
        "\n",
        "a=[(10,5,2),(10,7,4),(5,7,1),(5,8,3),(5,3,2),(7,8,1),(8,3,1)]\n",
        "d=defaultdict(list)\n",
        "for i,j,w in a:\n",
        "  d[i].append([j,w])\n",
        "  d[j].append([i,w])\n",
        "# print(d)\n",
        "print(dict(d))\n",
        "\n",
        "mst_prims(10)              #print min cost\n",
        "mst_prims_print_path(10)   #print the path\n"
      ],
      "metadata": {
        "colab": {
          "base_uri": "https://localhost:8080/"
        },
        "id": "wZXD8JqykXEO",
        "outputId": "d01a3af0-6880-4353-fc76-b975f2d6e105"
      },
      "execution_count": null,
      "outputs": [
        {
          "output_type": "stream",
          "name": "stdout",
          "text": [
            "{10: [[5, 2], [7, 4]], 5: [[10, 2], [7, 1], [8, 3], [3, 2]], 7: [[10, 4], [5, 1], [8, 1]], 8: [[5, 3], [7, 1], [3, 1]], 3: [[5, 2], [8, 1]]}\n",
            "5\n",
            "[(10, 0), (5, 2), (7, 1), (8, 1), (3, 1)]\n"
          ]
        }
      ]
    },
    {
      "cell_type": "code",
      "source": [
        "from collections import defaultdict\n",
        "import heapq                                        #maruthi code\n",
        "d = defaultdict(list)\n",
        "graph = [\n",
        "    [10,5,2],[10,7,4],[5,7,1],[5,8,3],[5,10,2],\n",
        "    [5,3,2],[7,10,4],[7,5,1],[7,8,1],[8,5,3],\n",
        "    [8,7,1],[8,3,1],[3,8,1],[3,5,2]\n",
        "]\n",
        "for u,v,w in graph:\n",
        "    d[u].append((v, w))\n",
        "    d[v].append((u, w))\n",
        "start=10\n",
        "vi=set()\n",
        "minheap=[(0,start)]\n",
        "cost=0\n",
        "edg=[]\n",
        "while minheap:\n",
        "    wt,u=heapq.heappop(minheap)\n",
        "    if u in vi:\n",
        "        continue\n",
        "    vi.add(u)\n",
        "    cost+=wt\n",
        "    edg.append((u, wt))\n",
        "    for v, w in d[u]:\n",
        "        if v not in vi:\n",
        "            heapq.heappush(minheap,(w,v))\n",
        "print(cost)\n",
        "print(edg)"
      ],
      "metadata": {
        "colab": {
          "base_uri": "https://localhost:8080/"
        },
        "id": "lLGLdIdt0NSR",
        "outputId": "f6d38a11-9189-4c61-e043-94779b85de44"
      },
      "execution_count": null,
      "outputs": [
        {
          "output_type": "stream",
          "name": "stdout",
          "text": [
            "5\n",
            "[(10, 0), (5, 2), (7, 1), (8, 1), (3, 1)]\n"
          ]
        }
      ]
    },
    {
      "cell_type": "code",
      "source": [],
      "metadata": {
        "id": "QODMI4gm2mTN"
      },
      "execution_count": null,
      "outputs": []
    },
    {
      "cell_type": "markdown",
      "source": [
        "#02/06/25 ------DAY-19    -----Monday\n",
        "\n",
        "\n",
        "(fibono,----frog jump,---t=timmings p=earnings,---coins)"
      ],
      "metadata": {
        "id": "Z7oNUUZAtqM2"
      }
    },
    {
      "cell_type": "markdown",
      "source": [
        "**DP**"
      ],
      "metadata": {
        "id": "Xgr1aFLCxdrS"
      }
    },
    {
      "cell_type": "markdown",
      "source": [
        "💡 What is DP (Dynamic Programming)?\n",
        "Dynamic Programming (DP) is a problem-solving technique used to solve complex problems by breaking them down into simpler subproblems, solving each subproblem only once, and storing their solutions — so you don’t recompute them.\n",
        "\n",
        "<br>\n",
        "\n",
        "🚀 When Do You Use DP?\n",
        "You use DP when:\n",
        "\n",
        "Overlapping subproblems — The same subproblems appear again and again.\n",
        "\n",
        "Optimal substructure — The solution to a problem depends on the solution to its subproblems.\n",
        "\n",
        "<br>\n",
        "\n",
        "🧠 Classic Example: Climbing Stairs\n",
        "To climb to step n, you can:\n",
        "\n",
        "come from step n-1 (1 step)\n",
        "\n",
        "or from step n-2 (2 steps)\n",
        "\n",
        "So the number of ways to reach step n is:\n",
        "\n",
        "ways(n) = ways(n-1) + ways(n-2)\n",
        "This is like the Fibonacci sequence:\n",
        "\n",
        "ways(1) = 1\n",
        "\n",
        "ways(2) = 2\n",
        "\n",
        "ways(3) = ways(2) + ways(1) = 3\n",
        "\n",
        "Instead of solving the same subproblems over and over, we store them in a memo (dictionary or array) and reuse the results.\n",
        "\n",
        "<br>\n",
        "\n",
        "🔄 Two Types of DP                     \n",
        "Type\t-----------------Description-------------------------------\tExample Syntax              \n",
        "Top-Down  || Use recursion + memoization ||\tdp(n) = dp(n-1) + dp(n-2) with memo                    \n",
        "Bottom-Up\t|| Use iteration + tabulation (usually a loop) ||\tBuild up from base cases\n",
        "\n",
        "<br>\n",
        "\n",
        "✅ Why Use DP?               \n",
        "❌ Without DP: Exponential time due to repeated subproblems\n",
        "\n",
        "✅ With DP: Linear time (O(n)) because we solve each subproblem once\n",
        "\n"
      ],
      "metadata": {
        "id": "nOA1zhexei3t"
      }
    },
    {
      "cell_type": "markdown",
      "source": [
        "recurtion ,memorisation,tablulation"
      ],
      "metadata": {
        "id": "qIdHLZit53ov"
      }
    },
    {
      "cell_type": "code",
      "source": [
        "#Q1\n",
        "\n",
        "\n",
        "# def fibo(n):\n",
        "#   if(dp[n-1]!=-1):\n",
        "#     return dp[n-1]                      #Type 1\n",
        "#   # if(n==0):\n",
        "#   #   return 0\n",
        "#   # if (n==1):\n",
        "#   #   return 1\n",
        "#   dp[n-1]=fibo(n-1)+fibo(n-2)\n",
        "#   return dp[n-1]\n",
        "# dp=[1,1,-1,-1,-1,-1,-1]\n",
        "# fibo(7)\n",
        "# print(dp)\n",
        "\n",
        "\n",
        "# dp=[1,1]                                    #type 2\n",
        "# for i in range(2,7):\n",
        "#   dp.append (dp[i-1]+dp[i-2])\n",
        "# print(dp[7-1])                        #13\n",
        "# print(dp)\n",
        "\n",
        "\n",
        "f1=1                                         #type 3\n",
        "f2=1\n",
        "ans=0\n",
        "for i in range(2,7):\n",
        "  ans=f1+f2\n",
        "  f1=f2\n",
        "  f2=ans\n",
        "print(ans)      #13\n",
        "\n"
      ],
      "metadata": {
        "colab": {
          "base_uri": "https://localhost:8080/"
        },
        "id": "nykl7s3t54cT",
        "outputId": "a56d6ef4-22e9-4210-c1b2-2cd048c3f68c"
      },
      "execution_count": null,
      "outputs": [
        {
          "output_type": "stream",
          "name": "stdout",
          "text": [
            "13\n"
          ]
        }
      ]
    },
    {
      "cell_type": "code",
      "source": [
        "# Q2\n",
        "\n",
        "#frog jump       #dp\n",
        "\n",
        "# a=[10,20,30,10]     # output :20\n",
        "\n",
        "\n",
        "def frog(n):                #memorization\n",
        "  if(n<=1):\n",
        "    return dp[n]\n",
        "  # dp[n]=min(frog(n-1)+dp[n-1]+abs(a[n]-a[n-1]),frog(n-2)+dp[n-2]+abs(a[n]-a[n-2]))\n",
        "  dp[n]=min(frog(n-1)+abs(a[n]-a[n-1]),frog(n-2)+abs(a[n]-a[n-2]))\n",
        "  return dp[n]\n",
        "\n",
        "\n",
        "# a=[10,20,30,10]\n",
        "# dp=[0,abs(a[1]-a[0]),0,0]\n",
        "# frog(3)\n",
        "# print(frog(1))\n",
        "# print(dp)\n",
        "\n",
        "a=[10,20,30,10,30,20,10]\n",
        "dp=[0,abs(a[1]-a[0]),0,0,0,0,0]\n",
        "frog(6)\n",
        "print(frog(6))\n",
        "print(dp)\n",
        "\n"
      ],
      "metadata": {
        "colab": {
          "base_uri": "https://localhost:8080/"
        },
        "id": "eByUvc2gCx6N",
        "outputId": "2f9fce1c-7593-4a71-9f58-59d742a181e7"
      },
      "execution_count": null,
      "outputs": [
        {
          "output_type": "stream",
          "name": "stdout",
          "text": [
            "40\n",
            "[0, 10, 20, 20, 20, 30, 40]\n"
          ]
        }
      ]
    },
    {
      "cell_type": "code",
      "source": [
        "#same problem         in                #tabulation\n",
        "\n",
        "a=[10,20,30,10,30,20,10]\n",
        "dp=[0]*len(a)\n",
        "dp[0]=0\n",
        "dp[1]=abs(a[1]-a[0])\n",
        "for i in range(2,len(a)):\n",
        "  dp[i]=min(dp[i-1]+abs(a[i]-a[i-1]),dp[i-2]+abs(a[i]-a[i-2]))\n",
        "print(dp)\n",
        "print(dp[-1])\n"
      ],
      "metadata": {
        "colab": {
          "base_uri": "https://localhost:8080/"
        },
        "id": "-gfkzdXiU1pM",
        "outputId": "97521b20-ce4e-4038-b910-aac16a55c7e3"
      },
      "execution_count": null,
      "outputs": [
        {
          "output_type": "stream",
          "name": "stdout",
          "text": [
            "[0, 10, 20, 20, 20, 30, 40]\n",
            "40\n"
          ]
        }
      ]
    },
    {
      "cell_type": "code",
      "source": [
        "# for k jumps\n",
        "\n",
        "#same problem         for k jumps               #tabulation  for k jumps\n",
        "\n",
        "a=[10,20,30,10,30,20,10]\n",
        "dp=[99999]*len(a)\n",
        "dp[0]=0\n",
        "dp[1]=abs(a[1]-a[0])\n",
        "# k=2   #don't  define\n",
        "for i in range(2,len(a)):\n",
        "  for j in range(1,k+1):                    #for the k jumps\n",
        "    temp=dp[i-j]+abs(a[i]-a[i-j])\n",
        "    dp[i]=min(dp[i],temp)\n",
        "  # dp[i]=min(dp[i-1]+abs(a[i]-a[i-1]),dp[i-2]+abs(a[i]-a[i-2]))  #this for know num of jumps\n",
        "print(dp)\n",
        "print(dp[-1])\n"
      ],
      "metadata": {
        "colab": {
          "base_uri": "https://localhost:8080/"
        },
        "id": "rotrZtGtbnUy",
        "outputId": "f11bedfb-c2ff-4aff-e648-15e63a940253"
      },
      "execution_count": null,
      "outputs": [
        {
          "output_type": "stream",
          "name": "stdout",
          "text": [
            "[0, 10, 20, 20, 20, 30, 40]\n",
            "40\n"
          ]
        }
      ]
    },
    {
      "cell_type": "markdown",
      "source": [
        "afternoon"
      ],
      "metadata": {
        "id": "x1EStIM7tytF"
      }
    },
    {
      "cell_type": "code",
      "source": [
        "# Q3\n",
        "# t=timmings ,p=earnings\n",
        "                                  #job\n",
        "\n",
        "t=[(1,3),(2,5),(4,6),(6,7),(5,8),(7,9)]\n",
        "p=[5,6,5,4,11,2]                             #printiing the max profit\n",
        "\n",
        "cost=[]\n",
        "for i in range(len(t)):                      #my code\n",
        "  max_p=p[i]\n",
        "  for j in range(i):\n",
        "    if (t[j][1]<=t[i][0]):\n",
        "      max_p=max(max_p,cost[j]+p[i])\n",
        "  cost.append(max_p)\n",
        "print(cost)\n",
        "print(max(cost))\n",
        "\n",
        "\n",
        "#------------------------------------------------------------------\n",
        "# t=[(1,3),(2,5),(4,6),(6,7),(5,8),(7,9)]            #sir code\n",
        "# p=[5,6,5,4,11,2]\n",
        "# dp=p.copy()                               #[5,6,5,4,11,2] copy and update the values\n",
        "# for j in range(1,len(p)):\n",
        "#   for i in range(j):\n",
        "#     if(t[i][1]<=t[j][0]):\n",
        "#       dp[j]=max(dp[j],dp[i]+p[j])\n",
        "# print(dp)                                   #[5, 6, 10, 14, 17, 16]\n",
        "# print(max(dp))                              #17\n",
        "\n"
      ],
      "metadata": {
        "id": "rPf8JAmMcpKq",
        "colab": {
          "base_uri": "https://localhost:8080/"
        },
        "outputId": "7f48d855-34a3-492c-ecac-32719b3d535c"
      },
      "execution_count": null,
      "outputs": [
        {
          "output_type": "stream",
          "name": "stdout",
          "text": [
            "[5, 6, 10, 14, 17, 16]\n",
            "17\n"
          ]
        }
      ]
    },
    {
      "cell_type": "code",
      "source": [
        "# Q3\n",
        "\n",
        "# a=coins   , t=target     , if target is possible print yes else no    #subset sum\n",
        "\n",
        "a=[2,3,4,5]\n",
        "t=13\n",
        "\n",
        "\n",
        "coin=[2,3,4,5]\n",
        "amt=13\n",
        "dp=[[0]*(amt+1) for i in range(len(coin))]\n",
        "for i in range(len(coin)):\n",
        "  dp[i][0]=1\n",
        "dp[0][coin[0]]=1\n",
        "for i in range(1,len(coin)):\n",
        "  for j in range(1,amt+1):\n",
        "    if(j<coin[i]):\n",
        "      dp[i][j]=dp[i-1][j]          #1. copying the upper section untill j<amt\n",
        "    else:\n",
        "      if(dp[i-1][j]==1):           #2     check 1 or 0\n",
        "        dp[i][j]=dp[i-1][j]\n",
        "      else:\n",
        "        if(dp[i-1][j-coin[i]]==1):\n",
        "          dp[i][j]=1\n",
        "        else:\n",
        "          dp[i][j]=0\n",
        "for i in dp:     #print the dp\n",
        "  print(i)"
      ],
      "metadata": {
        "id": "yQHkpLMjC_Fu",
        "colab": {
          "base_uri": "https://localhost:8080/"
        },
        "outputId": "11f13edc-e87c-4b04-82f4-56c62a31b94a"
      },
      "execution_count": null,
      "outputs": [
        {
          "output_type": "stream",
          "name": "stdout",
          "text": [
            "[1, 0, 1, 0, 0, 0, 0, 0, 0, 0, 0, 0, 0, 0]\n",
            "[1, 0, 1, 1, 0, 1, 0, 0, 0, 0, 0, 0, 0, 0]\n",
            "[1, 0, 1, 1, 1, 1, 1, 1, 0, 1, 0, 0, 0, 0]\n",
            "[1, 0, 1, 1, 1, 1, 1, 1, 1, 1, 1, 1, 1, 0]\n"
          ]
        }
      ]
    },
    {
      "cell_type": "markdown",
      "source": [
        "#03/06/25 ----------DAY-20"
      ],
      "metadata": {
        "id": "S9Wcf3Gz7lz_"
      }
    },
    {
      "cell_type": "markdown",
      "source": [],
      "metadata": {
        "id": "tnfenTXfHcI-"
      }
    },
    {
      "cell_type": "code",
      "source": [
        "# Q         #yestaday's\n",
        "\n",
        "# a=coins   , t=target     , #if target is possible print yes else no    #subset sum\n",
        "\n",
        "# a=[2,3,4,5]\n",
        "# t=13\n",
        "\n",
        "\n",
        "# coin=[2,3,4,5]\n",
        "# amt=13\n",
        "# dp=[]\n",
        "# for i in range(len(coin)):               #or   #dp=[[0]*(amt+1) for i in range(len(coin))]  #list comprehension\n",
        "#   dp.append([0]*(amt+1))\n",
        "# for i in dp:     #print the dp\n",
        "#   print(i)\n",
        "\n",
        "\n",
        "coin=[2,3,4,5]\n",
        "amt=13\n",
        "dp=[[0]*(amt+1) for i in range(len(coin))]\n",
        "for i in range(len(coin)):\n",
        "  dp[i][0]=1\n",
        "dp[0][coin[0]]=1\n",
        "for i in range(1,len(coin)):\n",
        "  for j in range(1,amt+1):\n",
        "    if(j<coin[i]):\n",
        "      dp[i][j]=dp[i-1][j]          #1\n",
        "    else:\n",
        "      dp[i][j]=dp[i-1][j] or dp[i-1][j-coin[i]]  #in one line\n",
        "\n",
        "      # if(dp[i-1][j]==1):           #2\n",
        "      #   dp[i][j]=dp[i-1][j]\n",
        "      # else:\n",
        "      #   if(dp[i-1][j-coin[i]]==1):\n",
        "      #     dp[i][j]=1\n",
        "      #   else:\n",
        "      #     dp[i][j]=0\n",
        "\n",
        "  if dp[i][amt]==1:\n",
        "    print(\"yes possible with\",amt)\n",
        "    break\n",
        "else:\n",
        "  print(\"no, not possible withs\", amt)\n",
        "\n",
        "for i in dp:     #print the dp\n",
        "  print(i)\n",
        "\n"
      ],
      "metadata": {
        "colab": {
          "base_uri": "https://localhost:8080/"
        },
        "id": "NEOs9L4h7sWO",
        "outputId": "5733e2a3-1a65-4512-d683-4801547c2dd8"
      },
      "execution_count": null,
      "outputs": [
        {
          "output_type": "stream",
          "name": "stdout",
          "text": [
            "no, not possible withs 13\n",
            "[1, 0, 1, 0, 0, 0, 0, 0, 0, 0, 0, 0, 0, 0]\n",
            "[1, 0, 1, 1, 0, 1, 0, 0, 0, 0, 0, 0, 0, 0]\n",
            "[1, 0, 1, 1, 1, 1, 1, 1, 0, 1, 0, 0, 0, 0]\n",
            "[1, 0, 1, 1, 1, 1, 1, 1, 1, 1, 1, 1, 1, 0]\n"
          ]
        }
      ]
    },
    {
      "cell_type": "code",
      "source": [
        "# Q2\n",
        "\n",
        "#min length of subset whose sum is amt\n",
        "\n",
        "# a=[2,3,4,5]\n",
        "# amt=12  op=3 coins (3,4,5)\n",
        "# amt=5   op=1 coin --min(5,2+3)\n",
        "\n",
        "\n",
        "\n",
        "coin=[2,3,4,5]\n",
        "amt=12\n",
        "\n",
        "# if(amt>sum(coin)):      # u can use this\n",
        "#     print(False)\n",
        "# else:\n",
        "dp=[[0]*(amt+1) for i in range(len(coin))]\n",
        "dp[0][coin[0]]=1\n",
        "for i in range(1,len(coin)):\n",
        "  for j in range(1,amt+1):\n",
        "    if(j<coin[i]):\n",
        "      dp[i][j]=dp[i-1][j]      #coping\n",
        "    elif(coin[i]==j):\n",
        "      dp[i][j]=1\n",
        "    else:\n",
        "      if(dp[i-1][j]!=0 and dp[i-1][j-coin[i]]!=0):\n",
        "        dp[i][j]=min(dp[i-1][j],1+dp[i-1][j-coin[i]])\n",
        "      elif(dp[i-1][j]!=0):\n",
        "        dp[i][j]=dp[i-1][j]\n",
        "      elif(dp[i-1][j-coin[i]]!=0):\n",
        "        dp[i][j]=1+dp[i-1][j-coin[i]]\n",
        "\n",
        "print(dp[-1][-1],\"coins\")            #number of coins\n",
        "for i in dp:\n",
        "  print(i)\n"
      ],
      "metadata": {
        "colab": {
          "base_uri": "https://localhost:8080/"
        },
        "id": "tt3gsWzfPDc2",
        "outputId": "d103822b-3d62-473f-abad-c80aea0f22e2"
      },
      "execution_count": null,
      "outputs": [
        {
          "output_type": "stream",
          "name": "stdout",
          "text": [
            "3 coins\n",
            "[0, 0, 1, 0, 0, 0, 0, 0, 0, 0, 0, 0, 0]\n",
            "[0, 0, 1, 1, 0, 2, 0, 0, 0, 0, 0, 0, 0]\n",
            "[0, 0, 1, 1, 1, 2, 2, 2, 0, 3, 0, 0, 0]\n",
            "[0, 0, 1, 1, 1, 1, 2, 2, 2, 2, 3, 3, 3]\n"
          ]
        }
      ]
    },
    {
      "cell_type": "code",
      "source": [
        "# Q3\n",
        "\n",
        "#if target is possible print yes else no\n",
        "#each has inf coins\n",
        "# a=[2,3,4,5]  #amt=12   #----------->each has inf coins<----------\n",
        "\n",
        "\n",
        "coin=[2,3,4,5]\n",
        "amt=12\n",
        "dp=[[0]*(amt+1) for i in range(len(coin))]               #----2d matrix\n",
        "for i in range(len(coin)):\n",
        "  dp[i][0]=1\n",
        "# dp[0][coin[0]]=1\n",
        "for i in range(coin[0],amt+1):\n",
        "  dp[0][i]=dp[0][i-coin[0]]\n",
        "\n",
        "for i in range(1,len(coin)):\n",
        "  for j in range(1,amt+1):\n",
        "    if(j<coin[i]):\n",
        "      dp[i][j]=dp[i-1][j]\n",
        "    else:\n",
        "      dp[i][j]=dp[i-1][j] or dp[i][j-coin[i]]\n",
        "\n",
        "\n",
        "print(\"---using 2D matrix---\")\n",
        "for i in dp:     #print the dp\n",
        "  print(i)\n",
        "\n",
        "if dp[-1][amt]==1:\n",
        "  print(\"yes possible with\",amt)\n",
        "else:\n",
        "  print(\"no, not possible withs\", amt)\n",
        "\n",
        "\n",
        "print(\"---------------------------------------------------\")\n",
        "\n",
        "#-----------------------------------------------------------------------------------------------------------------------------------------\n",
        "# using 1d matrix\n",
        "\n",
        "coin=[2,3,4,5]\n",
        "amt=13\n",
        "dp=[0]*(amt+1)\n",
        "for i in range(len(coin)):\n",
        "  for j in range (coin[i],amt+1):\n",
        "    if (j==coin[i]):\n",
        "      dp[j]=1\n",
        "    if (dp[j]!=0 and dp[j-coin[i]]!=0):\n",
        "      dp[j]=min(dp[j],1+dp[j-coin[i]])\n",
        "    elif (dp[j-coin[i]]!=0):\n",
        "      dp[j]=dp[j-coin[i]]+1\n",
        "  # print(dp)\n",
        "\n",
        "print(\"---using 1D matrix---\")\n",
        "print(dp)\n",
        "\n",
        "if dp[-1]>0:\n",
        "  print(\"yes possible with\",amt)\n",
        "else:\n",
        "  print(\"no, not possible withs\", amt)\n"
      ],
      "metadata": {
        "colab": {
          "base_uri": "https://localhost:8080/"
        },
        "id": "Ulha0kHAhcLb",
        "outputId": "ea83ed2a-71e1-47a3-aba8-c3cded3e36ea"
      },
      "execution_count": null,
      "outputs": [
        {
          "output_type": "stream",
          "name": "stdout",
          "text": [
            "---using 2D matrix---\n",
            "[1, 0, 1, 0, 1, 0, 1, 0, 1, 0, 1, 0, 1]\n",
            "[1, 0, 1, 1, 1, 1, 1, 1, 1, 1, 1, 1, 1]\n",
            "[1, 0, 1, 1, 1, 1, 1, 1, 1, 1, 1, 1, 1]\n",
            "[1, 0, 1, 1, 1, 1, 1, 1, 1, 1, 1, 1, 1]\n",
            "yes possible with 12\n",
            "---------------------------------------------------\n",
            "---using 1D matrix---\n",
            "[0, 0, 1, 1, 1, 1, 2, 2, 2, 2, 2, 3, 3, 3]\n",
            "yes possible with 13\n"
          ]
        }
      ]
    },
    {
      "cell_type": "code",
      "source": [
        "# Q4\n",
        "\n",
        "\n",
        "a=\n",
        "b="
      ],
      "metadata": {
        "id": "dFpYwMy9D8p0"
      },
      "execution_count": null,
      "outputs": []
    },
    {
      "cell_type": "markdown",
      "source": [
        "***Trie***"
      ],
      "metadata": {
        "id": "WrJFgDTYHqWZ"
      }
    },
    {
      "cell_type": "code",
      "source": [
        "# trie DS\n",
        "\n",
        "# one is dict and one is flag val\n",
        "\n",
        "class node:\n",
        "  def __init__(self):\n",
        "    self.data={}\n",
        "    self.flag=False\n",
        "    self.count\n"
      ],
      "metadata": {
        "id": "KK1a7YV1Huae"
      },
      "execution_count": null,
      "outputs": []
    },
    {
      "cell_type": "code",
      "source": [
        "# prompt: # trie DS\n",
        "# # one is dict and one is flag val\n",
        "# class node:\n",
        "#   def __init__(self):\n",
        "#     self.data={}\n",
        "#     self.flag=False\n",
        "#     self.count\n",
        "\n",
        "class node:\n",
        "  def __init__(self):\n",
        "    self.data={}\n",
        "    self.flag=False\n",
        "    # self.count # Removed count as it was not initialized and not used in typical Trie implementations\n",
        "\n",
        "class Trie:\n",
        "  def __init__(self):\n",
        "    self.root = node()\n",
        "\n",
        "  def insert(self, word):\n",
        "    t = self.root\n",
        "    for i in word:\n",
        "      if i not in t.data:\n",
        "        t.data[i] = node()\n",
        "      t = t.data[i]\n",
        "    t.flag = True\n",
        "\n",
        "  def search(self, word):\n",
        "    t = self.root\n",
        "    for i in word:\n",
        "      if i not in t.data:\n",
        "        return False\n",
        "      t = t.data[i]\n",
        "    return t.flag\n",
        "\n",
        "  def startsWith(self, prefix):\n",
        "    t = self.root\n",
        "    for i in prefix:\n",
        "      if i not in t.data:\n",
        "        return False\n",
        "      t = t.data[i]\n",
        "    return True\n",
        "\n",
        "  # Optional: Function to collect all words in the trie (for demonstration)\n",
        "  def collect_words(self, node, word, word_list):\n",
        "    if node.flag:\n",
        "      word_list.append(word)\n",
        "    for char, next_node in node.data.items():\n",
        "      self.collect_words(next_node, word + char, word_list)\n",
        "\n",
        "  def get_all_words(self):\n",
        "    word_list = []\n",
        "    self.collect_words(self.root, \"\", word_list)\n",
        "    return word_list\n",
        "\n",
        "# Example usage:\n",
        "trie = Trie()\n",
        "trie.insert(\"apple\")\n",
        "trie.insert(\"app\")\n",
        "trie.insert(\"banana\")\n",
        "\n",
        "print(trie.search(\"apple\"))     # Output: True\n",
        "print(trie.search(\"app\"))       # Output: True\n",
        "print(trie.search(\"ap\"))        # Output: False\n",
        "print(trie.search(\"banana\"))    # Output: True\n",
        "print(trie.startsWith(\"app\"))   # Output: True\n",
        "print(trie.startsWith(\"ban\"))   # Output: True\n",
        "print(trie.startsWith(\"grape\")) # Output: False\n",
        "\n",
        "print(\"All words in the trie:\", trie.get_all_words())\n",
        "\n"
      ],
      "metadata": {
        "id": "OFIBH38rR7iU"
      },
      "execution_count": null,
      "outputs": []
    }
  ]
}