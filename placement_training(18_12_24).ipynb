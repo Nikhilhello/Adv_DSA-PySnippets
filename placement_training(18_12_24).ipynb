{
  "nbformat": 4,
  "nbformat_minor": 0,
  "metadata": {
    "colab": {
      "provenance": [],
      "collapsed_sections": [
        "sOyx5HsPdjkW",
        "6XgexhftHfMK",
        "EK3iNoyzLx2a",
        "PojOig51mrP9",
        "ylunQ1sonOF_",
        "l4RNZk3twLz6",
        "b_GPyYfqFRQI"
      ]
    },
    "kernelspec": {
      "name": "python3",
      "display_name": "Python 3"
    },
    "language_info": {
      "name": "python"
    }
  },
  "cells": [
    {
      "cell_type": "markdown",
      "source": [],
      "metadata": {
        "id": "W6FpO9Fgdjn4"
      }
    },
    {
      "cell_type": "markdown",
      "source": [
        "#day 03 ----18/12/24"
      ],
      "metadata": {
        "id": "sOyx5HsPdjkW"
      }
    },
    {
      "cell_type": "markdown",
      "source": [
        "**01**   \n",
        "The environmental eco club has discovered a new Amoeba that grows in the order of a Fibonacci series every month. They are exhibiting their amoeba in a national conference. They want to know the size of the amoeba at a particular time instant. If a particular month’s index is given, write a program to displays the amoeba’s size……??? For Example, The size of the amoeba on month 1, 2, 3, 4, 5, 6, ..will be 0, 1, 1, 2, 3, 5, 8 respectively. Input format: The first input containing an integer which denotes the number of the month Output format: Print the amoeba size. Refer the sample output for formatting.\n",
        "\n",
        "\n",
        "Input (stdin)\n",
        "\n",
        "7\n",
        "\n",
        "Output (stdout)\n",
        "\n",
        "8\n",
        "\n",
        "Input (stdin)\n",
        "\n",
        "3\n",
        "\n",
        "Output (stdout)\n",
        "\n",
        "1"
      ],
      "metadata": {
        "id": "DpnrAMlRdjg0"
      }
    },
    {
      "cell_type": "code",
      "source": [
        "n=int(input())\n",
        "a=0\n",
        "b=1\n",
        "# print(a,b,end=\" \")\n",
        "if n==1:\n",
        "    print(0)\n",
        "elif n==2:\n",
        "    print(1)\n",
        "\n",
        "else:\n",
        "    for i in range(2,n):\n",
        "        c=a+b\n",
        "        a=b\n",
        "        b=c\n",
        "    print(c,end=\" \")"
      ],
      "metadata": {
        "colab": {
          "base_uri": "https://localhost:8080/"
        },
        "id": "Ge5JxzNKGTi9",
        "outputId": "b6c08526-cb96-4108-900d-1ec29b59cac5"
      },
      "execution_count": null,
      "outputs": [
        {
          "output_type": "stream",
          "name": "stdout",
          "text": [
            "7\n",
            "8 "
          ]
        }
      ]
    },
    {
      "cell_type": "code",
      "source": [
        "a=0\n",
        "b=1\n",
        "print(a,b,end=\" \")\n",
        "for i in range(0,n):\n",
        "    c=a+b\n",
        "    a=b\n",
        "    b=c\n",
        "    print(a,end=\" \")\n"
      ],
      "metadata": {
        "colab": {
          "base_uri": "https://localhost:8080/"
        },
        "id": "MzlO2Whg_5Fy",
        "outputId": "71fc0589-3f13-4545-9df0-fdb8ba5a215c"
      },
      "execution_count": null,
      "outputs": [
        {
          "output_type": "stream",
          "name": "stdout",
          "text": [
            "0 1 1 1 2 3 5 8 13 21 34 55 "
          ]
        }
      ]
    },
    {
      "cell_type": "code",
      "source": [
        "n = int(input())\n",
        "f1=0\n",
        "f2=1\n",
        "size = 0\n",
        "for i in range(n-1):\n",
        "  f1=f2\n",
        "  f2=size\n",
        "  size = f1+f2\n",
        "print(size)"
      ],
      "metadata": {
        "colab": {
          "base_uri": "https://localhost:8080/"
        },
        "id": "8gTTnMAIGiIS",
        "outputId": "95072f5c-77ac-4325-dd3d-3510f3578547"
      },
      "execution_count": null,
      "outputs": [
        {
          "output_type": "stream",
          "name": "stdout",
          "text": [
            "7\n",
            "8\n"
          ]
        }
      ]
    },
    {
      "cell_type": "markdown",
      "source": [],
      "metadata": {
        "id": "7U7OPTZpeGFp"
      }
    },
    {
      "cell_type": "markdown",
      "source": [
        "**02**    \n",
        "Write a program to determine whether 'n' is a factorial number or not. Factorial of a number is the product of all positive numbers from 1 to 'n'. Input format: The input containing an integer 'n' which denotes the given number. Output format: If the given number is factorial, print \"Yes\". Otherwise, print \"No\". Refer the sample output for formatting.\n",
        "\n",
        "\n",
        "Input (stdin)\n",
        "\n",
        "6\n",
        "\n",
        "Output (stdout)\n",
        "\n",
        "Yes\n",
        "\n",
        "Input (stdin)\n",
        "\n",
        "2\n",
        "\n",
        "Output (stdout)\n",
        "\n",
        "Yes"
      ],
      "metadata": {
        "id": "L4jzc7lseGCK"
      }
    },
    {
      "cell_type": "code",
      "source": [
        "n=int(input())\n",
        "i=1\n",
        "factorial=1\n",
        "while factorial<n:\n",
        "    i=i+1\n",
        "    factorial*=i\n",
        "if factorial==n:\n",
        "    print(\"Yes\")\n",
        "else:\n",
        "    print(\"No\")"
      ],
      "metadata": {
        "colab": {
          "base_uri": "https://localhost:8080/"
        },
        "id": "Eb2IoVoIXkob",
        "outputId": "55759a56-809a-4471-91f6-2025c7213978"
      },
      "execution_count": null,
      "outputs": [
        {
          "output_type": "stream",
          "name": "stdout",
          "text": [
            "6\n",
            "Yes\n"
          ]
        }
      ]
    },
    {
      "cell_type": "code",
      "source": [
        "n=int(input())\n",
        "product=1\n",
        "lists=[]\n",
        "for i in range(1,n+1):\n",
        "  product*=i\n",
        "  lists+=[product]\n",
        "if(n in lists):\n",
        "  print(\"Yes\")\n",
        "elif(n<0):\n",
        "  print(\"No\")\n",
        "else:\n",
        "  print(\"No\")"
      ],
      "metadata": {
        "colab": {
          "base_uri": "https://localhost:8080/"
        },
        "id": "nvvlf7S0esvz",
        "outputId": "e3ed224e-be3d-4f57-f9c1-6cb65e75f73a"
      },
      "execution_count": null,
      "outputs": [
        {
          "output_type": "stream",
          "name": "stdout",
          "text": [
            "9\n",
            "No\n"
          ]
        }
      ]
    },
    {
      "cell_type": "markdown",
      "source": [
        "**03**  \n",
        "Description:\n",
        "A vending machine continues to accept money until the total amount entered reaches or exceeds 100. The program will display a message once the target is achieved.\n",
        "\n",
        "Input Format:\n",
        "\n",
        "Multiple integers, one per line, representing money input.\n",
        "Input terminates when the total reaches or exceeds 100.\n",
        "\n",
        "Output Format:\n",
        "\n",
        "Print Target achieved.\n",
        "\n",
        "Sample Input:\n",
        "20  \n",
        "30  \n",
        "50\n",
        "\n",
        "Sample Output:\n",
        "Target achieved"
      ],
      "metadata": {
        "id": "mDxJR6bpeyKL"
      }
    },
    {
      "cell_type": "code",
      "source": [
        "i=0\n",
        "while(i<101):\n",
        "  a=int(input())\n",
        "  i+=a\n",
        "  if i==100:\n",
        "    break\n",
        "\n",
        "print(\"Target achieved\")"
      ],
      "metadata": {
        "id": "ObDJuoS1e4Gq",
        "colab": {
          "base_uri": "https://localhost:8080/"
        },
        "outputId": "e4c07898-34e1-48f3-97fd-2c17f7023133"
      },
      "execution_count": null,
      "outputs": [
        {
          "output_type": "stream",
          "name": "stdout",
          "text": [
            "52\n",
            "93\n",
            "Target achieved\n"
          ]
        }
      ]
    },
    {
      "cell_type": "markdown",
      "source": [
        "**04**    \n",
        "A supervisor needs to identify how many employees worked overtime (more than 8 hours). The program will accept the working hours for 6 employees and display the count of overtime workers.\n",
        "\n",
        "Input Format:\n",
        "first line of input contains n value integer.\n",
        "next n integers.\n",
        "Output Format:\n",
        "Print Overtime workers: X, where X is the count.\n",
        "Sample Input:   \n",
        "6   \n",
        "7  \n",
        "9  \n",
        "8  \n",
        "10  \n",
        "6  \n",
        "9    \n",
        "Sample Output:\n",
        "Overtime workers: 3"
      ],
      "metadata": {
        "id": "ezC1sxLJfLck"
      }
    },
    {
      "cell_type": "code",
      "source": [
        "ott=0\n",
        "n=int(input())\n",
        "for i in range(n):\n",
        "    h=int(input())\n",
        "    if h>8:\n",
        "        ott+=1\n",
        "print(f\"Overtime workers:{ott}\")"
      ],
      "metadata": {
        "colab": {
          "base_uri": "https://localhost:8080/"
        },
        "id": "6DX-O5nDfSrj",
        "outputId": "f79b923b-5d51-4434-c2e3-da9825d73d52"
      },
      "execution_count": null,
      "outputs": [
        {
          "output_type": "stream",
          "name": "stdout",
          "text": [
            "6\n",
            "7\n",
            "9\n",
            "8\n",
            "10\n",
            "6\n",
            "9\n",
            "Overtime workers:3\n"
          ]
        }
      ]
    },
    {
      "cell_type": "markdown",
      "source": [
        "**05**    \n",
        "A program calculates the sum of digits of an integer input using a while loop.\n",
        "\n",
        "Input Format:   \n",
        "A single integer.   \n",
        "Output Format:    \n",
        "Print Sum of digits: X, where X is the sum.    \n",
        "Sample Input:    \n",
        "1234    \n",
        "Sample Output:   \n",
        "Sum of digits: 10"
      ],
      "metadata": {
        "id": "UyfIpIRZfXs7"
      }
    },
    {
      "cell_type": "code",
      "source": [
        "n=int(input())\n",
        "sum=0\n",
        "while(n>0):\n",
        "  r=n%10\n",
        "  sum+=r\n",
        "  n//=10\n",
        "print(\"Sum of digits:\",sum)"
      ],
      "metadata": {
        "colab": {
          "base_uri": "https://localhost:8080/"
        },
        "id": "Zm6MXWsjf6Wh",
        "outputId": "687edc40-fcac-4785-97fc-34dc87792ebd"
      },
      "execution_count": null,
      "outputs": [
        {
          "output_type": "stream",
          "name": "stdout",
          "text": [
            "1234\n",
            "Sum of digits: 10\n"
          ]
        }
      ]
    },
    {
      "cell_type": "markdown",
      "source": [
        "**06**     \n",
        "A program repeatedly sums the digits of a number until a single-digit result is obtained.\n",
        "\n",
        "Input Format:   \n",
        "A single integer.   \n",
        "Output Format:    \n",
        "Print Single digit: X, where X is the result.   \n",
        "Sample Input:      \n",
        "Copy code    \n",
        "987   \n",
        "Sample Output:    \n",
        "Single digit: 6    "
      ],
      "metadata": {
        "id": "Dzvv9YP3gSp2"
      }
    },
    {
      "cell_type": "code",
      "source": [
        "n=int(input())\n",
        "\n",
        "while(n>9):\n",
        "  sum=0\n",
        "  while(n>0):\n",
        "      r=n%10\n",
        "      sum+=r\n",
        "      n//=10\n",
        "  n=sum\n",
        "\n",
        "print(\"Sum of digits:\",n)"
      ],
      "metadata": {
        "id": "mQLwrDvkglCE",
        "colab": {
          "base_uri": "https://localhost:8080/"
        },
        "outputId": "30871593-959a-42bd-a9fb-edff7f291433"
      },
      "execution_count": null,
      "outputs": [
        {
          "output_type": "stream",
          "name": "stdout",
          "text": [
            "987\n",
            "Sum of digits: 6\n"
          ]
        }
      ]
    },
    {
      "cell_type": "markdown",
      "source": [
        "**07**   \n",
        "\n",
        "A program counts the number of words in a given sentence.\n",
        "\n",
        "Input Format:\n",
        "\n",
        "A single line of text.\n",
        "\n",
        "Output Format:\n",
        "\n",
        "Print Word count: X, where X is the number of words.\n",
        "\n",
        "Sample Input:\n",
        "\n",
        "I love programming.\n",
        "\n",
        "Sample Output:\n",
        "\n",
        "Word count: 3"
      ],
      "metadata": {
        "id": "oHOkKkJ3nNrA"
      }
    },
    {
      "cell_type": "code",
      "source": [
        "#logic-1\n",
        "\n",
        "print(len(input().split()))\n"
      ],
      "metadata": {
        "id": "yF104NyZj2ZC",
        "colab": {
          "base_uri": "https://localhost:8080/"
        },
        "outputId": "c53ca159-e0ca-4b69-c7f8-f62bd015b84a"
      },
      "execution_count": null,
      "outputs": [
        {
          "output_type": "stream",
          "name": "stdout",
          "text": [
            "nikhil\n",
            "1\n"
          ]
        }
      ]
    },
    {
      "cell_type": "code",
      "source": [
        "#logic-2\n",
        "\n",
        "sentence = input()\n",
        "words = sentence.split()\n",
        "word_count = len(words)\n",
        "print(f\"Word count: {word_count}\")\n"
      ],
      "metadata": {
        "id": "SkbbftOzj5Ix",
        "colab": {
          "base_uri": "https://localhost:8080/"
        },
        "outputId": "45553554-c634-47be-d3e5-2fb8a805bb6c"
      },
      "execution_count": null,
      "outputs": [
        {
          "output_type": "stream",
          "name": "stdout",
          "text": [
            "nikhil\n",
            "Word count: 1\n"
          ]
        }
      ]
    },
    {
      "cell_type": "code",
      "source": [
        "#logic-3\n",
        "\n",
        "stg=input()\n",
        "r= len(stg.split())\n",
        "print(str(r))"
      ],
      "metadata": {
        "id": "PtR1QZJ2j5FP"
      },
      "execution_count": null,
      "outputs": []
    },
    {
      "cell_type": "markdown",
      "source": [
        "**08**      \n",
        "A program determines if a given number is an Armstrong number.\n",
        "\n",
        "Input Format:   \n",
        "A single integer.   \n",
        "Output Format:   \n",
        "Print X is an Armstrong number or X is not an Armstrong number.   \n",
        "Sample Input:    \n",
        "153   \n",
        "Sample Output:   \n",
        "153 is an Armstrong number."
      ],
      "metadata": {
        "id": "ookQmETrjbyV"
      }
    },
    {
      "cell_type": "code",
      "source": [
        "n = int(input())\n",
        "my_number= n\n",
        "sum = 0\n",
        "\n",
        "while n > 0:\n",
        "    digit = n % 10\n",
        "    sum += digit ** 3\n",
        "    n = n // 10\n",
        "if my_number == sum:\n",
        "    print(my_number, \"is a amstrong number\")\n",
        "else:\n",
        "    print(my_number,\"not a amstrong\")"
      ],
      "metadata": {
        "colab": {
          "base_uri": "https://localhost:8080/"
        },
        "id": "u2fJA2mRjmnO",
        "outputId": "51ae5d5d-df53-4d5c-db84-8f25ef6fec35"
      },
      "execution_count": null,
      "outputs": [
        {
          "output_type": "stream",
          "name": "stdout",
          "text": [
            "153\n",
            "153 is a amstrong number\n"
          ]
        }
      ]
    },
    {
      "cell_type": "markdown",
      "source": [
        "**09**\n",
        "\n",
        "Write a program to generate the following series 5, 16, 49, 104, 181... Input format: The input containing an integer which denotes 'n' Output format: Print the series and refer the sample output for formatting.\n",
        "\n",
        "\n",
        "Input (stdin)\n",
        "\n",
        "5   \n",
        "Output (stdout)\n",
        "\n",
        "5\n",
        "16\n",
        "49\n",
        "104\n",
        "181\n",
        "\n",
        "Input (stdin)\n",
        "\n",
        "10\n",
        "\n",
        "Output (stdout)\n",
        "\n",
        "5\n",
        "16\n",
        "49\n",
        "104\n",
        "181\n",
        "280\n",
        "401\n",
        "544\n",
        "709\n",
        "896"
      ],
      "metadata": {
        "id": "DUaJMCSG1TFH"
      }
    },
    {
      "cell_type": "code",
      "source": [
        "n=int(input())\n",
        "t=5\n",
        "d=11\n",
        "for i in range(n):\n",
        "  print(t,end=\" \")\n",
        "  t+=d\n",
        "  d+=22"
      ],
      "metadata": {
        "colab": {
          "base_uri": "https://localhost:8080/"
        },
        "id": "lgdT-ZQP1i9A",
        "outputId": "e3bf7387-d001-4008-bff9-5ea8831c6fbc"
      },
      "execution_count": null,
      "outputs": [
        {
          "output_type": "stream",
          "name": "stdout",
          "text": [
            "10\n",
            "5 16 49 104 181 280 401 544 709 896 "
          ]
        }
      ]
    },
    {
      "cell_type": "markdown",
      "source": [
        "**Patterns**"
      ],
      "metadata": {
        "id": "k3gXY5Rt41LB"
      }
    },
    {
      "cell_type": "code",
      "source": [
        "n=int(input())\n",
        "for i in range(1,n+1): #(n)\n",
        "  for j in range(1,n+1): #(n)\n",
        "    print(\"*\",end=\" \")\n",
        "  print()\n",
        "\n",
        "#other way\n",
        "n=int(input())\n",
        "for i in range(n):\n",
        "  for j in range(n):\n",
        "    print(\"*\",end=\" \")\n",
        "  print()\n"
      ],
      "metadata": {
        "colab": {
          "base_uri": "https://localhost:8080/"
        },
        "id": "sfkI1ctp7GFi",
        "outputId": "948e11a5-1095-446a-9962-15885be9cc40"
      },
      "execution_count": null,
      "outputs": [
        {
          "output_type": "stream",
          "name": "stdout",
          "text": [
            "5\n",
            "* * * * * \n",
            "* * * * * \n",
            "* * * * * \n",
            "* * * * * \n",
            "* * * * * \n",
            "3\n",
            "* * * \n",
            "* * * \n",
            "* * * \n"
          ]
        }
      ]
    },
    {
      "cell_type": "code",
      "source": [
        "n=int(input())\n",
        "for i in range(1,n+1):  #(n)\n",
        "  for j in range(1,i+1):  #(i+1)\n",
        "    print(\"*\",end=\" \")\n",
        "  print()\n",
        "\n",
        "\n",
        "\n",
        "#other way\n",
        "\n",
        "n=int(input())\n",
        "for i in range(n):\n",
        "  for j in range(i+1):\n",
        "    print(\"*\",end=\" \")\n",
        "  print()"
      ],
      "metadata": {
        "colab": {
          "base_uri": "https://localhost:8080/"
        },
        "id": "Y-eoHC1l7YX5",
        "outputId": "962297cc-8b62-49d7-d2e6-95dbabb2aaee"
      },
      "execution_count": null,
      "outputs": [
        {
          "output_type": "stream",
          "name": "stdout",
          "text": [
            "3\n",
            "* \n",
            "* * \n",
            "* * * \n",
            "5\n",
            "* \n",
            "* * \n",
            "* * * \n",
            "* * * * \n",
            "* * * * * \n"
          ]
        }
      ]
    },
    {
      "cell_type": "code",
      "source": [
        "n=int(input())\n",
        "for i in range(1,n+1):\n",
        "  for j in range(1,n+1):\n",
        "    if (i+j>=n+1):     #>\n",
        "      print(\"* \",end=\"\")\n",
        "    else:\n",
        "      print(\"  \",end=\"\")\n",
        "  print()\n",
        "\n",
        "\n",
        "print(\"-------------------\")\n",
        "#hgfjerhj\n",
        "n=int(input())\n",
        "for i in range(1,n+1):\n",
        "  for j in range(1,n+1):\n",
        "    if (i+j<=n+1):   #<\n",
        "      print(\"* \",end=\"\")\n",
        "    else:\n",
        "      print(\"  \",end=\"\")\n",
        "  print()\n",
        "\n",
        "print(\"-------------------\")\n",
        "#hgfjerhj\n",
        "n=int(input())\n",
        "for i in range(1,n+1):\n",
        "  for j in range(1,n+1):\n",
        "    if (i<=j):   #<\n",
        "      print(\"* \",end=\"\")\n",
        "    else:\n",
        "      print(\"  \",end=\"\")\n",
        "  print()\n",
        "\n",
        "print(\"-------------------\")\n",
        "\n",
        "#hgfjerhj\n",
        "n=int(input())\n",
        "for i in range(1,n+1):\n",
        "  for j in range(1,n+1):\n",
        "    if (i>=j):   #>5\n",
        "      print(\"* \",end=\"\")\n",
        "    else:\n",
        "      print(\"  \",end=\"\")\n",
        "  print()"
      ],
      "metadata": {
        "colab": {
          "base_uri": "https://localhost:8080/"
        },
        "id": "1JYW6-zP_x4v",
        "outputId": "f68a4864-b511-4a1b-ddbf-9d5d9015f105"
      },
      "execution_count": null,
      "outputs": [
        {
          "output_type": "stream",
          "name": "stdout",
          "text": [
            "5\n",
            "        * \n",
            "      * * \n",
            "    * * * \n",
            "  * * * * \n",
            "* * * * * \n",
            "-------------------\n",
            "5\n",
            "* * * * * \n",
            "* * * *   \n",
            "* * *     \n",
            "* *       \n",
            "*         \n",
            "-------------------\n",
            "5\n",
            "* * * * * \n",
            "  * * * * \n",
            "    * * * \n",
            "      * * \n",
            "        * \n",
            "-------------------\n",
            "5\n",
            "*         \n",
            "* *       \n",
            "* * *     \n",
            "* * * *   \n",
            "* * * * * \n"
          ]
        }
      ]
    },
    {
      "cell_type": "code",
      "source": [
        "print(\"-------------------\")\n",
        "#hgfjerhj\n",
        "n=int(input())\n",
        "for i in range(1,n+1):\n",
        "  for j in range(1,n+1):\n",
        "    if (i+j>=n+1):   #<\n",
        "      print(\"* \",end=\"\")\n",
        "    else:\n",
        "      print(\" \",end=\"\")\n",
        "  print()\n",
        "\n",
        "print(\"-------------------\")\n",
        "#hgfjerhj\n",
        "n=int(input())\n",
        "for i in range(1,n+1):\n",
        "  for j in range(1,n+1):\n",
        "    if (i<=j):   #<\n",
        "      print(\"* \",end=\"\")\n",
        "    else:\n",
        "      print(\" \",end=\"\")\n",
        "  print()\n",
        "\n",
        "\n",
        "\n"
      ],
      "metadata": {
        "colab": {
          "base_uri": "https://localhost:8080/"
        },
        "id": "S5hUL0F6Czxb",
        "outputId": "e78e98dd-e454-4de5-86e5-ba37b6c0512e"
      },
      "execution_count": null,
      "outputs": [
        {
          "output_type": "stream",
          "name": "stdout",
          "text": [
            "-------------------\n",
            "5\n",
            "    * \n",
            "   * * \n",
            "  * * * \n",
            " * * * * \n",
            "* * * * * \n",
            "-------------------\n",
            "5\n",
            "* * * * * \n",
            " * * * * \n",
            "  * * * \n",
            "   * * \n",
            "    * \n"
          ]
        }
      ]
    },
    {
      "cell_type": "code",
      "source": [
        "print(\"-------------------\")\n",
        "#hgfjerhj\n",
        "n=int(input())\n",
        "for i in range(1,n+1):\n",
        "  for j in range(1,n+1):\n",
        "    if (i+j>n+1):   #>=\n",
        "      print(\"* \",end=\"\")\n",
        "    else:\n",
        "      print(\" \",end=\"\")\n",
        "  print()\n",
        "for i in range(1,n+1):\n",
        "  for j in range(1,n+1):\n",
        "    if (i<=j):   #<\n",
        "      print(\"* \",end=\"\")\n",
        "    else:\n",
        "      print(\" \",end=\"\")\n",
        "  print()\n"
      ],
      "metadata": {
        "colab": {
          "base_uri": "https://localhost:8080/"
        },
        "id": "ncijy6JNE3SN",
        "outputId": "53696d08-35fd-4752-a48a-f11687b1460b"
      },
      "execution_count": null,
      "outputs": [
        {
          "output_type": "stream",
          "name": "stdout",
          "text": [
            "-------------------\n",
            "5\n",
            "     \n",
            "    * \n",
            "   * * \n",
            "  * * * \n",
            " * * * * \n",
            "* * * * * \n",
            " * * * * \n",
            "  * * * \n",
            "   * * \n",
            "    * \n"
          ]
        }
      ]
    },
    {
      "cell_type": "code",
      "source": [
        "#hgfjerhj\n",
        "n=int(input())\n",
        "for i in range(1,n+1):\n",
        "  for j in range(1,n+1):\n",
        "    if (i<=j):   #<\n",
        "      print(\"* \",end=\"\")\n",
        "    else:\n",
        "      print(\" \",end=\"\")\n",
        "  print()\n",
        "for i in range(1,n+1):\n",
        "  for j in range(1,n+1):\n",
        "    if (i+j>=n+1):   #>=\n",
        "      print(\"* \",end=\"\")\n",
        "    else:\n",
        "      print(\" \",end=\"\")\n",
        "  print()"
      ],
      "metadata": {
        "colab": {
          "base_uri": "https://localhost:8080/"
        },
        "id": "i8ZZkESWKdXg",
        "outputId": "3e71b994-6b33-484f-9de2-117db202a13e"
      },
      "execution_count": null,
      "outputs": [
        {
          "output_type": "stream",
          "name": "stdout",
          "text": [
            "5\n",
            "* * * * * \n",
            " * * * * \n",
            "  * * * \n",
            "   * * \n",
            "    * \n",
            "    * \n",
            "   * * \n",
            "  * * * \n",
            " * * * * \n",
            "* * * * * \n"
          ]
        }
      ]
    },
    {
      "cell_type": "code",
      "source": [
        "n=int(input())\n",
        "for i in range(1,n+1):\n",
        "  for j in range(1,n+1):\n",
        "    if i>=j and j==1 or i==j or i==n:\n",
        "      print(\"*\",end=\" \")\n",
        "    else:\n",
        "      print(\" \",end=\" \")\n",
        "  print()\n",
        "\n",
        "#n=int(input())\n",
        "for i in range(1,n+1):\n",
        "  for j in range(1,n+1):\n",
        "    if i<=j and i==1 or i==j or j==n:\n",
        "      print(\"*\",end=\" \")\n",
        "    else:\n",
        "      print(\" \",end=\" \")\n",
        "  print()"
      ],
      "metadata": {
        "colab": {
          "base_uri": "https://localhost:8080/"
        },
        "id": "WgjPRyliPFzH",
        "outputId": "0ecfe38f-ce7d-4ec8-cd43-bb1a11d371f1"
      },
      "execution_count": null,
      "outputs": [
        {
          "output_type": "stream",
          "name": "stdout",
          "text": [
            "5\n",
            "*         \n",
            "* *       \n",
            "*   *     \n",
            "*     *   \n",
            "* * * * * \n",
            "* * * * * \n",
            "  *     * \n",
            "    *   * \n",
            "      * * \n",
            "        * \n"
          ]
        }
      ]
    },
    {
      "cell_type": "code",
      "source": [
        "n=int(input())\n",
        "for i in range(1,n+1):\n",
        "    for j in range(1,n+1):\n",
        "        if(i>=j):\n",
        "            print(j,end=\" \")\n",
        "    print()"
      ],
      "metadata": {
        "colab": {
          "base_uri": "https://localhost:8080/"
        },
        "id": "sd--8hynQiM6",
        "outputId": "41861f78-526b-4b1c-c96f-3ed772e2cceb"
      },
      "execution_count": null,
      "outputs": [
        {
          "output_type": "stream",
          "name": "stdout",
          "text": [
            "5\n",
            "1 \n",
            "1 2 \n",
            "1 2 3 \n",
            "1 2 3 4 \n",
            "1 2 3 4 5 \n"
          ]
        }
      ]
    },
    {
      "cell_type": "code",
      "source": [
        "n=int(input())\n",
        "a=1\n",
        "for i in range(1,n+1):\n",
        "  for j in range(1,n+1):\n",
        "    if (i>=j):\n",
        "      print(a,end=\" \")\n",
        "      a+=1\n",
        "    else:\n",
        "      print(\" \",end=\" \")\n",
        "  print()\n",
        "\n",
        "  #gfegfh\n",
        "for i in range(1,n+1):\n",
        "  for j in range(1,n+1):\n",
        "    if (i>=j):\n",
        "      print(a,end=\"  \")\n",
        "      a+=1\n",
        "    else:\n",
        "      print(\" \",end=\" \")\n",
        "  print()"
      ],
      "metadata": {
        "colab": {
          "base_uri": "https://localhost:8080/"
        },
        "id": "CfghEEGpQnJY",
        "outputId": "e6d56372-342a-48fd-9445-34b7bd4d07aa"
      },
      "execution_count": null,
      "outputs": [
        {
          "output_type": "stream",
          "name": "stdout",
          "text": [
            "5\n",
            "1         \n",
            "2 3       \n",
            "4 5 6     \n",
            "7 8 9 10   \n",
            "11 12 13 14 15 \n",
            "16          \n",
            "17  18        \n",
            "19  20  21      \n",
            "22  23  24  25    \n",
            "26  27  28  29  30  \n"
          ]
        }
      ]
    },
    {
      "cell_type": "code",
      "source": [
        "n=int(input())\n",
        "c=ord(\"A\")\n",
        "for i in range(1,n+1):\n",
        "    for j in range(1,i+1):\n",
        "\n",
        "        print(chr(c),end=\" \")\n",
        "        c+=1\n",
        "\n",
        "    print()\n",
        "\n",
        "# A\n",
        "# B  C\n",
        "# D E F\n",
        "# G H I J\n",
        "# K L M N O"
      ],
      "metadata": {
        "colab": {
          "base_uri": "https://localhost:8080/"
        },
        "id": "JuJs-jOYT9bz",
        "outputId": "7b2983c9-58b5-47cc-8b6a-f981cb0774a4"
      },
      "execution_count": null,
      "outputs": [
        {
          "output_type": "stream",
          "name": "stdout",
          "text": [
            "5\n",
            "A \n",
            "B C \n",
            "D E F \n",
            "G H I J \n",
            "K L M N O \n"
          ]
        }
      ]
    },
    {
      "cell_type": "code",
      "source": [
        "n=int(input())\n",
        "c=ord(\"A\")\n",
        "for i in range(1,n+1):\n",
        "    for j in range(1,n+1):\n",
        "\n",
        "        print(chr(c),end=\" \")\n",
        "        c+=1\n",
        "\n",
        "    print()\n",
        "\n",
        "# A B C D\n",
        "# E F G H\n",
        "# I J K L\n",
        "# M N O P"
      ],
      "metadata": {
        "colab": {
          "base_uri": "https://localhost:8080/"
        },
        "id": "UMeYTTFPUA8x",
        "outputId": "a5ca256c-3506-42da-bad1-0d24b1612f50"
      },
      "execution_count": null,
      "outputs": [
        {
          "output_type": "stream",
          "name": "stdout",
          "text": [
            "5\n",
            "A B C D E \n",
            "F G H I J \n",
            "K L M N O \n",
            "P Q R S T \n",
            "U V W X Y \n"
          ]
        }
      ]
    },
    {
      "cell_type": "markdown",
      "source": [
        "#Day-04---19/12/24"
      ],
      "metadata": {
        "id": "6XgexhftHfMK"
      }
    },
    {
      "cell_type": "markdown",
      "source": [
        "**break,continue**"
      ],
      "metadata": {
        "id": "6hOhl7imHt-m"
      }
    },
    {
      "cell_type": "code",
      "source": [
        "n=int(input())\n",
        "for i in range(n):\n",
        "    if i==3:\n",
        "        print()\n",
        "        print(\"excution is stoped at value of 3\")\n",
        "        break\n",
        "    print(i,end=\" \")"
      ],
      "metadata": {
        "colab": {
          "base_uri": "https://localhost:8080/"
        },
        "id": "wrQZA3rpHncd",
        "outputId": "52b5f770-c9d8-4d20-af2d-1e9d942a9fb7"
      },
      "execution_count": null,
      "outputs": [
        {
          "output_type": "stream",
          "name": "stdout",
          "text": [
            "10\n",
            "0 1 2 \n",
            "excution is stoped at value of 3\n"
          ]
        }
      ]
    },
    {
      "cell_type": "code",
      "source": [
        "n=int(input())\n",
        "for i in range(n):\n",
        "    if i==3:\n",
        "        print()\n",
        "        print(\"excution is paussed at value of 3\")\n",
        "        continue\n",
        "    print(i,end=\" \")"
      ],
      "metadata": {
        "colab": {
          "base_uri": "https://localhost:8080/"
        },
        "id": "3LMCUr3hJo8K",
        "outputId": "6f86a61e-0cd2-43bd-f237-ba118b9bf005"
      },
      "execution_count": null,
      "outputs": [
        {
          "output_type": "stream",
          "name": "stdout",
          "text": [
            "10\n",
            "0 1 2 \n",
            "excution is paussed at value of 3\n",
            "4 5 6 7 8 9 "
          ]
        }
      ]
    },
    {
      "cell_type": "markdown",
      "source": [
        "**List and tuples**"
      ],
      "metadata": {
        "id": "iN3fnAX_JpRm"
      }
    },
    {
      "cell_type": "code",
      "source": [
        "h=[1,2,3,5,5,8]   #list----Lists is Mutable------can be replaced or changed----allow duplicates\n",
        "g=(1,2,5,9,9,9)   #tuple----Tuple is Immutable-----tuple cannot be changed or replaced----allow duplicates\n",
        "c={1,2,2,3,6,3}    #set---mutable (can be modified after creation)--do not allow duplicates\n",
        "print(h)\n",
        "print(g)\n",
        "print(c)\n"
      ],
      "metadata": {
        "colab": {
          "base_uri": "https://localhost:8080/"
        },
        "id": "e_-JuMpHJyzU",
        "outputId": "b0cfd3af-b800-42d0-bb5d-dc8e49167f3c"
      },
      "execution_count": null,
      "outputs": [
        {
          "output_type": "stream",
          "name": "stdout",
          "text": [
            "[1, 2, 3, 5, 5, 8]\n",
            "(1, 2, 5, 9, 9, 9)\n",
            "{1, 2, 3, 6}\n"
          ]
        }
      ]
    },
    {
      "cell_type": "markdown",
      "source": [
        "*list*"
      ],
      "metadata": {
        "id": "MufV0drVMZY9"
      }
    },
    {
      "cell_type": "code",
      "source": [
        "a=[1,2,3]\n",
        "print(a)\n",
        "print(atype(a))"
      ],
      "metadata": {
        "colab": {
          "base_uri": "https://localhost:8080/"
        },
        "id": "mOGhmmSbK7D6",
        "outputId": "36ba48dd-2869-4bfa-b13c-b518d8140afe"
      },
      "execution_count": null,
      "outputs": [
        {
          "output_type": "stream",
          "name": "stdout",
          "text": [
            "[1, 2, 3]\n",
            "<class 'list'>\n"
          ]
        }
      ]
    },
    {
      "cell_type": "markdown",
      "source": [
        "**01**  \n",
        "Sita has been promoted as a Team Leader and she has been shifted to Multimedia Team. As she needs to extensively work on audio, image and video signals, she is planning to spend a day in mastering the basics of 1-D and 2-D arrays. Can you please help her out? Write a program to find the maximum element in an array. Input Format: Input consists of n+1 integers. The first line of the input contains an integer corresponds to ‘n’ , the size of the array. The next ‘n’ integers correspond to the elements in the array. Assume that the maximum value of n is 15. Output Format: Refer sample input and output for formatting details.\n",
        "\n",
        "Input (stdin)\n",
        "\n",
        "5\n",
        "\n",
        "2\n",
        "\n",
        "3\n",
        "\n",
        "6\n",
        "\n",
        "8\n",
        "\n",
        "1   \n",
        "\n",
        "Output (stdout)\n",
        "\n",
        "8\n",
        "\n",
        "Input (stdin)\n",
        "\n",
        "4\n",
        "6\n",
        "3\n",
        "2\n",
        "1   \n",
        "Output (stdout)\n",
        "\n",
        "6\n",
        "\n",
        "Input (stdin)\n",
        "\n",
        "3\n",
        "4\n",
        "5\n",
        "7     \n",
        "Output (stdout)\n",
        "\n",
        "7"
      ],
      "metadata": {
        "id": "1N8gX-9zPVwQ"
      }
    },
    {
      "cell_type": "code",
      "source": [
        "#my code\n",
        "list=[]\n",
        "n=int(input())\n",
        "for i in range(n):\n",
        "  list.append(int(input()))\n",
        "print(max(list))"
      ],
      "metadata": {
        "colab": {
          "base_uri": "https://localhost:8080/"
        },
        "id": "rnAfyABcNg7e",
        "outputId": "ed4fcc07-8802-44fe-ead0-d4e65f4e1c24"
      },
      "execution_count": null,
      "outputs": [
        {
          "output_type": "stream",
          "name": "stdout",
          "text": [
            "3\n",
            "4\n",
            "5\n",
            "7\n",
            "7\n"
          ]
        }
      ]
    },
    {
      "cell_type": "code",
      "source": [
        "#sir code\n",
        "list=[]\n",
        "n=int(input())\n",
        "for i in range(1,n+1):\n",
        "    list.append(int(input()))\n",
        "max=list[0]\n",
        "for i in list:\n",
        "    if i>max:\n",
        "        max=i\n",
        "print(max)"
      ],
      "metadata": {
        "colab": {
          "base_uri": "https://localhost:8080/"
        },
        "id": "iSxGhvMBRw1j",
        "outputId": "f7a05d98-c0de-4c11-b42a-cf69262a0d48"
      },
      "execution_count": null,
      "outputs": [
        {
          "output_type": "stream",
          "name": "stdout",
          "text": [
            "4\n",
            "6\n",
            "3\n",
            "2\n",
            "1\n",
            "6\n"
          ]
        }
      ]
    },
    {
      "cell_type": "markdown",
      "source": [
        "**02**   \n",
        "Write a Python program to find the sum of the elements in an array. Input Format: Input consists of n+1 integers. The first integer corresponds to ‘n’ , the size of the array. The next ‘n’ integers correspond to the elements in the array. Assume that the maximum value of n is 15. Output Format: Refer sample input and output for formatting details.\n",
        "\n",
        "Input (stdin)\n",
        "\n",
        "5\n",
        "2\n",
        "3\n",
        "6\n",
        "8\n",
        "1\n",
        "\n",
        "Output (stdout)\n",
        "\n",
        "20\n",
        "\n",
        "Input (stdin)\n",
        "\n",
        "4\n",
        "3\n",
        "2\n",
        "1\n",
        "5\n",
        "\n",
        "Output (stdout)\n",
        "\n",
        "11"
      ],
      "metadata": {
        "id": "b22h5BooR-Zp"
      }
    },
    {
      "cell_type": "code",
      "source": [
        "n=int(input())\n",
        "ls=[]\n",
        "summ=0\n",
        "if(n<=15):\n",
        "    for i in range(n):\n",
        "        j=int(input())\n",
        "        ls.append(j)\n",
        "    max_val=max(ls)\n",
        "    min_val=min(ls)\n",
        "    for i in ls:\n",
        "        if(min_val==i):\n",
        "            continue\n",
        "        elif(max_val==i):\n",
        "            continue\n",
        "        else:\n",
        "            summ+=i\n",
        "    print(\"sum:\",summ)\n",
        "else:\n",
        "    print(\"Maximum input\")"
      ],
      "metadata": {
        "colab": {
          "base_uri": "https://localhost:8080/"
        },
        "id": "XRP0501qWG8p",
        "outputId": "46509830-124f-4216-fe84-e812ae4f95a9"
      },
      "execution_count": null,
      "outputs": [
        {
          "output_type": "stream",
          "name": "stdout",
          "text": [
            "4\n",
            "3\n",
            "2\n",
            "1\n",
            "5\n",
            "sum: 5\n"
          ]
        }
      ]
    },
    {
      "cell_type": "code",
      "source": [
        "list=[]\n",
        "n=int(input())\n",
        "sum=0\n",
        "for i in range(1,n+1):\n",
        "    list.append(int(input()))\n",
        "    sum+=i\n",
        "# for i in list:\n",
        "#     if i>max:\n",
        "#         max=i\n",
        "#     if i<min:\n",
        "#         min=i\n",
        "#print(\"max \"+str(max))\n",
        "print(\"sum \"+str(sum))\n",
        "#print(\"Min \"+str(min))"
      ],
      "metadata": {
        "colab": {
          "base_uri": "https://localhost:8080/",
          "height": 356
        },
        "id": "m_LlKfaDSIzO",
        "outputId": "39f81616-651c-40e2-be69-21058c8d95f6"
      },
      "execution_count": null,
      "outputs": [
        {
          "output_type": "error",
          "ename": "KeyboardInterrupt",
          "evalue": "Interrupted by user",
          "traceback": [
            "\u001b[0;31m---------------------------------------------------------------------------\u001b[0m",
            "\u001b[0;31mKeyboardInterrupt\u001b[0m                         Traceback (most recent call last)",
            "\u001b[0;32m<ipython-input-22-e9d11cf18d5b>\u001b[0m in \u001b[0;36m<cell line: 2>\u001b[0;34m()\u001b[0m\n\u001b[1;32m      1\u001b[0m \u001b[0mlist\u001b[0m\u001b[0;34m=\u001b[0m\u001b[0;34m[\u001b[0m\u001b[0;34m]\u001b[0m\u001b[0;34m\u001b[0m\u001b[0;34m\u001b[0m\u001b[0m\n\u001b[0;32m----> 2\u001b[0;31m \u001b[0mn\u001b[0m\u001b[0;34m=\u001b[0m\u001b[0mint\u001b[0m\u001b[0;34m(\u001b[0m\u001b[0minput\u001b[0m\u001b[0;34m(\u001b[0m\u001b[0;34m)\u001b[0m\u001b[0;34m)\u001b[0m\u001b[0;34m\u001b[0m\u001b[0;34m\u001b[0m\u001b[0m\n\u001b[0m\u001b[1;32m      3\u001b[0m \u001b[0msum\u001b[0m\u001b[0;34m=\u001b[0m\u001b[0;36m0\u001b[0m\u001b[0;34m\u001b[0m\u001b[0;34m\u001b[0m\u001b[0m\n\u001b[1;32m      4\u001b[0m \u001b[0;32mfor\u001b[0m \u001b[0mi\u001b[0m \u001b[0;32min\u001b[0m \u001b[0mrange\u001b[0m\u001b[0;34m(\u001b[0m\u001b[0;36m1\u001b[0m\u001b[0;34m,\u001b[0m\u001b[0mn\u001b[0m\u001b[0;34m+\u001b[0m\u001b[0;36m1\u001b[0m\u001b[0;34m)\u001b[0m\u001b[0;34m:\u001b[0m\u001b[0;34m\u001b[0m\u001b[0;34m\u001b[0m\u001b[0m\n\u001b[1;32m      5\u001b[0m     \u001b[0mlist\u001b[0m\u001b[0;34m.\u001b[0m\u001b[0mappend\u001b[0m\u001b[0;34m(\u001b[0m\u001b[0mint\u001b[0m\u001b[0;34m(\u001b[0m\u001b[0minput\u001b[0m\u001b[0;34m(\u001b[0m\u001b[0;34m)\u001b[0m\u001b[0;34m)\u001b[0m\u001b[0;34m)\u001b[0m\u001b[0;34m\u001b[0m\u001b[0;34m\u001b[0m\u001b[0m\n",
            "\u001b[0;32m/usr/local/lib/python3.10/dist-packages/ipykernel/kernelbase.py\u001b[0m in \u001b[0;36mraw_input\u001b[0;34m(self, prompt)\u001b[0m\n\u001b[1;32m    849\u001b[0m                 \u001b[0;34m\"raw_input was called, but this frontend does not support input requests.\"\u001b[0m\u001b[0;34m\u001b[0m\u001b[0;34m\u001b[0m\u001b[0m\n\u001b[1;32m    850\u001b[0m             )\n\u001b[0;32m--> 851\u001b[0;31m         return self._input_request(str(prompt),\n\u001b[0m\u001b[1;32m    852\u001b[0m             \u001b[0mself\u001b[0m\u001b[0;34m.\u001b[0m\u001b[0m_parent_ident\u001b[0m\u001b[0;34m,\u001b[0m\u001b[0;34m\u001b[0m\u001b[0;34m\u001b[0m\u001b[0m\n\u001b[1;32m    853\u001b[0m             \u001b[0mself\u001b[0m\u001b[0;34m.\u001b[0m\u001b[0m_parent_header\u001b[0m\u001b[0;34m,\u001b[0m\u001b[0;34m\u001b[0m\u001b[0;34m\u001b[0m\u001b[0m\n",
            "\u001b[0;32m/usr/local/lib/python3.10/dist-packages/ipykernel/kernelbase.py\u001b[0m in \u001b[0;36m_input_request\u001b[0;34m(self, prompt, ident, parent, password)\u001b[0m\n\u001b[1;32m    893\u001b[0m             \u001b[0;32mexcept\u001b[0m \u001b[0mKeyboardInterrupt\u001b[0m\u001b[0;34m:\u001b[0m\u001b[0;34m\u001b[0m\u001b[0;34m\u001b[0m\u001b[0m\n\u001b[1;32m    894\u001b[0m                 \u001b[0;31m# re-raise KeyboardInterrupt, to truncate traceback\u001b[0m\u001b[0;34m\u001b[0m\u001b[0;34m\u001b[0m\u001b[0m\n\u001b[0;32m--> 895\u001b[0;31m                 \u001b[0;32mraise\u001b[0m \u001b[0mKeyboardInterrupt\u001b[0m\u001b[0;34m(\u001b[0m\u001b[0;34m\"Interrupted by user\"\u001b[0m\u001b[0;34m)\u001b[0m \u001b[0;32mfrom\u001b[0m \u001b[0;32mNone\u001b[0m\u001b[0;34m\u001b[0m\u001b[0;34m\u001b[0m\u001b[0m\n\u001b[0m\u001b[1;32m    896\u001b[0m             \u001b[0;32mexcept\u001b[0m \u001b[0mException\u001b[0m \u001b[0;32mas\u001b[0m \u001b[0me\u001b[0m\u001b[0;34m:\u001b[0m\u001b[0;34m\u001b[0m\u001b[0;34m\u001b[0m\u001b[0m\n\u001b[1;32m    897\u001b[0m                 \u001b[0mself\u001b[0m\u001b[0;34m.\u001b[0m\u001b[0mlog\u001b[0m\u001b[0;34m.\u001b[0m\u001b[0mwarning\u001b[0m\u001b[0;34m(\u001b[0m\u001b[0;34m\"Invalid Message:\"\u001b[0m\u001b[0;34m,\u001b[0m \u001b[0mexc_info\u001b[0m\u001b[0;34m=\u001b[0m\u001b[0;32mTrue\u001b[0m\u001b[0;34m)\u001b[0m\u001b[0;34m\u001b[0m\u001b[0;34m\u001b[0m\u001b[0m\n",
            "\u001b[0;31mKeyboardInterrupt\u001b[0m: Interrupted by user"
          ]
        }
      ]
    },
    {
      "cell_type": "code",
      "source": [
        "list=[]\n",
        "n=int(input())\n",
        "sum=0\n",
        "for i in range(1,n+1):\n",
        "    list.append(int(input()))\n",
        "    sum+=i\n",
        "max=list[0]\n",
        "min=list[0]\n",
        "for i in list:\n",
        "    if i>max:\n",
        "        max=i\n",
        "    if i<min:\n",
        "        min=i\n",
        "print(\"max \"+str(max))\n",
        "print(\"sum \"+str(sum))\n",
        "print(\"Min \"+str(min))"
      ],
      "metadata": {
        "colab": {
          "base_uri": "https://localhost:8080/"
        },
        "id": "As8fTmwxT_-w",
        "outputId": "e8b41be1-fa4d-48b2-fe21-e87797c3600a"
      },
      "execution_count": null,
      "outputs": [
        {
          "output_type": "stream",
          "name": "stdout",
          "text": [
            "3\n",
            "2\n",
            "1\n",
            "6\n",
            "max 6\n",
            "sum 6\n",
            "Min 1\n"
          ]
        }
      ]
    },
    {
      "cell_type": "code",
      "source": [],
      "metadata": {
        "id": "mxUeaxnAXVE2"
      },
      "execution_count": null,
      "outputs": []
    },
    {
      "cell_type": "markdown",
      "source": [],
      "metadata": {
        "id": "ZCV4PQ2yXVrr"
      }
    },
    {
      "cell_type": "code",
      "source": [
        "#codewars code\n",
        "def sum_array(arr):\n",
        "    if arr == None or len(arr) < 3:\n",
        "        return 0\n",
        "    return sum(arr) - max(arr) - min(arr)\n",
        "\n",
        "\n",
        "#other way\n",
        "def sum_array(arr):\n",
        "    return 0 if arr==None or len(arr)<3 else sum(sorted(arr)[1:-1])\n",
        "\n",
        "\n",
        "#other way\n",
        "def sum_array(arr):\n",
        "    if arr is None or len(arr) <= 1:\n",
        "        return 0\n",
        "    min_val = min(arr)\n",
        "    max_val = max(arr)\n",
        "    total_sum = sum(arr)\n",
        "    return total_sum - min_val - max_val"
      ],
      "metadata": {
        "id": "JO6xLgwCboNT"
      },
      "execution_count": null,
      "outputs": []
    },
    {
      "cell_type": "markdown",
      "source": [
        "**03**    \n",
        "Write a program to find the number of distinct elements in a sorted array. Input Format: Input consists of n+1 integers. The first integer corresponds to n, the number of elements in the array. The next n integers correspond to the elements in the array. Assume that the maximum value of n is 15. Output Format: Output consists of a single integer which corresponds to the number of distinct elements in the array.\n",
        "\n",
        "Input (stdin)\n",
        "\n",
        "5\n",
        "3\n",
        "3\n",
        "3\n",
        "78\n",
        "90\n",
        "\n",
        "Output (stdout)\n",
        "\n",
        "3"
      ],
      "metadata": {
        "id": "vDnIZU8XgTVy"
      }
    },
    {
      "cell_type": "code",
      "source": [],
      "metadata": {
        "id": "JS7A_Gr-gPz1"
      },
      "execution_count": null,
      "outputs": []
    },
    {
      "cell_type": "markdown",
      "source": [
        "Python has a set of built-in methods that you can use on lists.\n",
        "\n",
        "Method\tDescription   \n",
        "append()\tAdds an element at the end of the list    \n",
        "clear()\tRemoves all the elements from the list    \n",
        "copy()\tReturns a copy of the list   \n",
        "count()\tReturns the number of elements with the specified value   \n",
        "extend()\tAdd the elements of a list (or any iterable), to the end of the current list    \n",
        "index()\tReturns the index of the first element with the specified value    \n",
        "insert()\tAdds an element at the specified position    \n",
        "pop()\tRemoves the element at the specified position   \n",
        "remove()\tRemoves the item with the specified value   \n",
        "reverse()\tReverses the order of the list    \n",
        "sort()\tSorts the list    "
      ],
      "metadata": {
        "id": "rbwJdbEVk5QO"
      }
    },
    {
      "cell_type": "code",
      "source": [
        "# Initializing a list\n",
        "my_list = [1, 2, 3, 4, 5]\n",
        "\n",
        "# 1. append() - Adds an element at the end of the list\n",
        "my_list.append(6)\n",
        "print(\"After append:\", my_list)\n",
        "\n",
        "# 2. clear() - Removes all the elements from the list\n",
        "my_list.clear()\n",
        "print(\"After clear:\", my_list)\n",
        "\n",
        "# Reinitializing the list for further operations\n",
        "my_list = [1, 2, 3, 4, 5]\n",
        "\n",
        "# 3. copy() - Returns a copy of the list\n",
        "my_list_copy = my_list.copy()\n",
        "print(\"Copied list:\", my_list_copy)\n",
        "\n",
        "# 4. count() - Returns the number of elements with the specified value\n",
        "count_of_3 = my_list.count(3)\n",
        "print(\"Count of 3:\", count_of_3)\n",
        "\n",
        "# 5. extend() - Add the elements of a list (or any iterable), to the end of the current list\n",
        "my_list.extend([6, 7])\n",
        "print(\"After extend:\", my_list)\n",
        "\n",
        "# 6. index() - Returns the index of the first element with the specified value\n",
        "index_of_4 = my_list.index(4)\n",
        "print(\"Index of 4:\", index_of_4)\n",
        "\n",
        "# 7. insert() - Adds an element at the specified position\n",
        "my_list.insert(2, 10)\n",
        "print(\"After insert:\", my_list)\n",
        "\n",
        "# 8. pop() - Removes the element at the specified position\n",
        "popped_element = my_list.pop(3)\n",
        "print(\"After pop, popped element:\", popped_element)\n",
        "print(\"List after pop:\", my_list)\n",
        "\n",
        "# 9. remove() - Removes the item with the specified value\n",
        "my_list.remove(10)\n",
        "print(\"After remove:\", my_list)\n",
        "\n",
        "# 10. reverse() - Reverses the order of the list\n",
        "my_list.reverse()\n",
        "print(\"After reverse:\", my_list)\n",
        "\n",
        "# 11. sort() - Sorts the list\n",
        "my_list.sort()\n",
        "print(\"After sort:\", my_list)\n"
      ],
      "metadata": {
        "colab": {
          "base_uri": "https://localhost:8080/"
        },
        "id": "TNsnFjVPn4IK",
        "outputId": "0be39ac3-84e4-4eb1-9b09-de14d1f0b964"
      },
      "execution_count": null,
      "outputs": [
        {
          "output_type": "stream",
          "name": "stdout",
          "text": [
            "After append: [1, 2, 3, 4, 5, 6]\n",
            "After clear: []\n",
            "Copied list: [1, 2, 3, 4, 5]\n",
            "Count of 3: 1\n",
            "After extend: [1, 2, 3, 4, 5, 6, 7]\n",
            "Index of 4: 3\n",
            "After insert: [1, 2, 10, 3, 4, 5, 6, 7]\n",
            "After pop, popped element: 3\n",
            "List after pop: [1, 2, 10, 4, 5, 6, 7]\n",
            "After remove: [1, 2, 4, 5, 6, 7]\n",
            "After reverse: [7, 6, 5, 4, 2, 1]\n",
            "After sort: [1, 2, 4, 5, 6, 7]\n"
          ]
        }
      ]
    },
    {
      "cell_type": "code",
      "source": [
        "# list.append(\"one\")\n",
        "# # list.clear()\n",
        "# l2=list.copy()\n",
        "# print(l2.count(2))\n",
        "# print(l2)\n",
        "list=[1,2,2,3] # 0 1 2 3 n//2 + (n//2)-1\n",
        "list2=[6,7,8]# 0 1 2 n//2\n",
        "list2.extend(list)\n",
        "list.reverse()\n",
        "print(list)\n",
        "\n",
        "print(list2)"
      ],
      "metadata": {
        "colab": {
          "base_uri": "https://localhost:8080/"
        },
        "id": "nTk7So5wpg5K",
        "outputId": "939b88d7-0454-4353-a9f8-ce6c2d61fa6c"
      },
      "execution_count": null,
      "outputs": [
        {
          "output_type": "stream",
          "name": "stdout",
          "text": [
            "[3, 2, 2, 1]\n",
            "[6, 7, 8, 1, 2, 2, 3]\n"
          ]
        }
      ]
    },
    {
      "cell_type": "markdown",
      "source": [
        "**04**   \n",
        "Write a Python program to reverse a tuple\n",
        "\n",
        "Input (stdin)\n",
        "\n",
        "python\n",
        "\n",
        "Output (stdout)\n",
        "\n",
        "('n', 'o', 'h', 't', 'y', 'p')"
      ],
      "metadata": {
        "id": "EiHdwHpUoWU4"
      }
    },
    {
      "cell_type": "code",
      "source": [
        "a=input()\n",
        "print(tuple(reversed(a)))"
      ],
      "metadata": {
        "colab": {
          "base_uri": "https://localhost:8080/"
        },
        "id": "9dcdKEXaqveP",
        "outputId": "316b7f39-14ff-4fc9-9a8b-df0c15b125be"
      },
      "execution_count": null,
      "outputs": [
        {
          "output_type": "stream",
          "name": "stdout",
          "text": [
            "nikhil\n",
            "('l', 'i', 'h', 'k', 'i', 'n')\n"
          ]
        }
      ]
    },
    {
      "cell_type": "code",
      "source": [
        "# Input tuple\n",
        "input_tuple = ('p', 'y', 't', 'h', 'o', 'n')\n",
        "\n",
        "# Reversing the tuple\n",
        "reversed_tuple = input_tuple[::-1]\n",
        "\n",
        "# Output the reversed tuple\n",
        "print(reversed_tuple)"
      ],
      "metadata": {
        "colab": {
          "base_uri": "https://localhost:8080/"
        },
        "id": "pJLry8y3oZAG",
        "outputId": "ccbc1c6c-52c4-411b-bc53-b8ebf8214fe1"
      },
      "execution_count": null,
      "outputs": [
        {
          "output_type": "stream",
          "name": "stdout",
          "text": [
            "('n', 'o', 'h', 't', 'y', 'p')\n"
          ]
        }
      ]
    },
    {
      "cell_type": "code",
      "source": [
        "a=(\"one\",\"two\",\"three\")\n",
        "b=(1,2,3)\n",
        "print(a+b)\n",
        "\n",
        "print(\"--------------\")\n",
        "#dhgfrefgj\n",
        "a=(\"one\",\"two\",\"three\")\n",
        "for i in a:\n",
        "    print(i)\n",
        "\n",
        "print(\"----------------------\")\n",
        "#gfecdgaj\n",
        "b=(\"one\",\"two\",\"three\")\n",
        "t=list(b)\n",
        "t[1]=\"five\"\n",
        "print(t)"
      ],
      "metadata": {
        "colab": {
          "base_uri": "https://localhost:8080/",
          "height": 315
        },
        "id": "hQcdslTFr12L",
        "outputId": "d2ecf061-e2d0-4adc-c4df-99fc4512e69c"
      },
      "execution_count": null,
      "outputs": [
        {
          "output_type": "stream",
          "name": "stdout",
          "text": [
            "('one', 'two', 'three', 1, 2, 3)\n",
            "--------------\n",
            "one\n",
            "two\n",
            "three\n",
            "----------------------\n"
          ]
        },
        {
          "output_type": "error",
          "ename": "TypeError",
          "evalue": "'list' object is not callable",
          "traceback": [
            "\u001b[0;31m---------------------------------------------------------------------------\u001b[0m",
            "\u001b[0;31mTypeError\u001b[0m                                 Traceback (most recent call last)",
            "\u001b[0;32m<ipython-input-20-98fda52ab220>\u001b[0m in \u001b[0;36m<cell line: 14>\u001b[0;34m()\u001b[0m\n\u001b[1;32m     12\u001b[0m \u001b[0;31m#gfecdgaj\u001b[0m\u001b[0;34m\u001b[0m\u001b[0;34m\u001b[0m\u001b[0m\n\u001b[1;32m     13\u001b[0m \u001b[0mb\u001b[0m\u001b[0;34m=\u001b[0m\u001b[0;34m(\u001b[0m\u001b[0;34m\"one\"\u001b[0m\u001b[0;34m,\u001b[0m\u001b[0;34m\"two\"\u001b[0m\u001b[0;34m,\u001b[0m\u001b[0;34m\"three\"\u001b[0m\u001b[0;34m)\u001b[0m\u001b[0;34m\u001b[0m\u001b[0;34m\u001b[0m\u001b[0m\n\u001b[0;32m---> 14\u001b[0;31m \u001b[0mt\u001b[0m\u001b[0;34m=\u001b[0m\u001b[0mlist\u001b[0m\u001b[0;34m(\u001b[0m\u001b[0mb\u001b[0m\u001b[0;34m)\u001b[0m\u001b[0;34m\u001b[0m\u001b[0;34m\u001b[0m\u001b[0m\n\u001b[0m\u001b[1;32m     15\u001b[0m \u001b[0mt\u001b[0m\u001b[0;34m[\u001b[0m\u001b[0;36m1\u001b[0m\u001b[0;34m]\u001b[0m\u001b[0;34m=\u001b[0m\u001b[0;34m\"five\"\u001b[0m\u001b[0;34m\u001b[0m\u001b[0;34m\u001b[0m\u001b[0m\n\u001b[1;32m     16\u001b[0m \u001b[0mprint\u001b[0m\u001b[0;34m(\u001b[0m\u001b[0mt\u001b[0m\u001b[0;34m)\u001b[0m\u001b[0;34m\u001b[0m\u001b[0;34m\u001b[0m\u001b[0m\n",
            "\u001b[0;31mTypeError\u001b[0m: 'list' object is not callable"
          ]
        }
      ]
    },
    {
      "cell_type": "code",
      "source": [
        "a=(\"one\",\"two\",\"three\")\n",
        "b=(1,2,3)\n",
        "print(a+b)\n"
      ],
      "metadata": {
        "colab": {
          "base_uri": "https://localhost:8080/"
        },
        "id": "-wlYWVQvuB6T",
        "outputId": "c216fe75-6751-44a0-dca3-7d1d5190bff8"
      },
      "execution_count": null,
      "outputs": [
        {
          "output_type": "stream",
          "name": "stdout",
          "text": [
            "('one', 'two', 'three', 1, 2, 3)\n"
          ]
        }
      ]
    },
    {
      "cell_type": "markdown",
      "source": [
        "**05**\n",
        "\n",
        "Write a Python program to unzip a list of tuples into individual lists.\n",
        "\n",
        "Input (stdin)\n",
        "\n",
        "[(1,2), (3,4), (8,9)]\n",
        "\n",
        "Output (stdout)\n",
        "\n",
        "[(1, 3, 8), (2, 4, 9)]"
      ],
      "metadata": {
        "id": "f3vf-cTyumpb"
      }
    },
    {
      "cell_type": "code",
      "source": [
        "n=int(input())\n",
        "a=[]  # [(1, 3, 8), (2, 4, 9)]\n",
        "for i in range(n):\n",
        "    tup=tuple(map(int,input().split()))\n",
        "    a.append(tup)\n",
        "print(list(zip(*a)))"
      ],
      "metadata": {
        "id": "5QeTazFmxSsD"
      },
      "execution_count": null,
      "outputs": []
    },
    {
      "cell_type": "code",
      "source": [
        "a=[(1,2),(3,4),(8,9)]\n",
        "print(list(zip(*a))"
      ],
      "metadata": {
        "colab": {
          "base_uri": "https://localhost:8080/",
          "height": 106
        },
        "id": "jFoSokUquo9K",
        "outputId": "80210ee3-178c-462a-d957-6bbcf7947a7f"
      },
      "execution_count": null,
      "outputs": [
        {
          "output_type": "error",
          "ename": "SyntaxError",
          "evalue": "incomplete input (<ipython-input-23-1290dc548c40>, line 2)",
          "traceback": [
            "\u001b[0;36m  File \u001b[0;32m\"<ipython-input-23-1290dc548c40>\"\u001b[0;36m, line \u001b[0;32m2\u001b[0m\n\u001b[0;31m    print(list(zip(*a))\u001b[0m\n\u001b[0m                        ^\u001b[0m\n\u001b[0;31mSyntaxError\u001b[0m\u001b[0;31m:\u001b[0m incomplete input\n"
          ]
        }
      ]
    },
    {
      "cell_type": "markdown",
      "source": [
        "packing and *unoacking*"
      ],
      "metadata": {
        "id": "_xYFPhchAfdR"
      }
    },
    {
      "cell_type": "code",
      "source": [
        "a=10\n",
        "b=20\n",
        "c=30\n",
        "t=a,b,c  #packing\n",
        "print(t)\n",
        "a,b,c=t  #unpacking\n",
        "print(a,b,c)"
      ],
      "metadata": {
        "colab": {
          "base_uri": "https://localhost:8080/"
        },
        "id": "SwSnGKo2AmiG",
        "outputId": "89d7328c-f588-421e-86af-ca61a00b063c"
      },
      "execution_count": null,
      "outputs": [
        {
          "output_type": "stream",
          "name": "stdout",
          "text": [
            "(10, 20, 30)\n",
            "10 20 30\n"
          ]
        }
      ]
    },
    {
      "cell_type": "code",
      "source": [
        "set={\"one\",\"two\",\"three\"}\n",
        "print(set)\n",
        "print(atype(set))\n",
        "\n",
        "print(\"--------------\")\n",
        "\n",
        "\n",
        "#fggfjw\n",
        "set={\"one\",\"two\",\"three\"}\n",
        "for i in set:\n",
        "    print(i)\n",
        "\n",
        "print(\"---------------\")\n",
        "\n",
        "#fggfjw\n",
        "set={\"one\",\"two\",\"three\"}\n",
        "for i in sorted(set):\n",
        "    print(i)\n",
        "\n",
        "print(set)"
      ],
      "metadata": {
        "colab": {
          "base_uri": "https://localhost:8080/"
        },
        "id": "FvhX0SENA9GG",
        "outputId": "8e8d6cd7-38a4-48de-96ba-693650884d96"
      },
      "execution_count": null,
      "outputs": [
        {
          "output_type": "stream",
          "name": "stdout",
          "text": [
            "{'two', 'one', 'three'}\n",
            "<class 'set'>\n",
            "--------------\n",
            "two\n",
            "one\n",
            "three\n",
            "---------------\n",
            "one\n",
            "three\n",
            "two\n",
            "{'two', 'one', 'three'}\n"
          ]
        }
      ]
    },
    {
      "cell_type": "code",
      "source": [
        "#fggfjw\n",
        "set={\"one\",\"two\",\"three\"}\n",
        "set.add(\"four\")\n",
        "print(set)\n",
        "\n",
        "set.remove(\"two\")\n",
        "print(set)\n",
        "\n",
        "set.discard(\"three\")\n",
        "print(set)\n",
        "\n",
        "set.pop()\n",
        "print(set)\n",
        "\n",
        "set.clear()\n",
        "print(set)"
      ],
      "metadata": {
        "colab": {
          "base_uri": "https://localhost:8080/"
        },
        "id": "Qy8zBXlmEebz",
        "outputId": "ddcd701b-9217-41c8-ed39-dc89cf9c74ba"
      },
      "execution_count": null,
      "outputs": [
        {
          "output_type": "stream",
          "name": "stdout",
          "text": [
            "{'two', 'one', 'four', 'three'}\n",
            "{'one', 'four', 'three'}\n",
            "{'one', 'four'}\n",
            "{'four'}\n",
            "set()\n"
          ]
        }
      ]
    },
    {
      "cell_type": "code",
      "source": [
        "#fggfjw\n",
        "set={\"one\",\"two\",\"three\"}\n",
        "set2={1,2,3}\n",
        "print(set.union(set2))\n",
        "\n",
        "\n",
        "print(\"-------------------\")\n",
        "\n",
        "#gwavfrhreshgr\n",
        "set={\"one\",\"two\",\"three\",1}\n",
        "set2={1,2,3,\"two\"}\n",
        "print(set.intersection(set2))\n",
        "\n",
        "print(\"-------------------\")\n",
        "\n",
        "#gwavfrhreshgr\n",
        "set={\"one\",\"two\",\"three\"}\n",
        "set2={1,2,3}\n",
        "print(set.update(set2))\n",
        "print(set)\n",
        "\n",
        "print(\"-------------------\")\n",
        "\n",
        "#gwavfrh\n",
        "set={\"one\",\"two\",\"three\",1}\n",
        "set2={1,2,3,\"two\"}\n",
        "print(set.difference(set2))\n",
        "\n",
        "print(\"-------------------\")\n"
      ],
      "metadata": {
        "colab": {
          "base_uri": "https://localhost:8080/"
        },
        "id": "xirbU3hfF7Cn",
        "outputId": "76302627-c41f-4673-a1b3-fe1ee6e2dce8"
      },
      "execution_count": null,
      "outputs": [
        {
          "output_type": "stream",
          "name": "stdout",
          "text": [
            "{1, 2, 'three', 3, 'two', 'one'}\n",
            "-------------------\n",
            "{'two', 1}\n",
            "-------------------\n",
            "None\n",
            "{1, 2, 'three', 3, 'two', 'one'}\n",
            "-------------------\n",
            "{'one', 'three'}\n",
            "-------------------\n"
          ]
        }
      ]
    },
    {
      "cell_type": "markdown",
      "source": [
        "Python has a set of built-in methods that you can use on dictionaries.\n",
        "\n",
        "Method\tDescription   \n",
        "clear()\tRemoves all the elements from the dictionary  \n",
        "copy()\tReturns a copy of the dictionary   \n",
        "fromkeys()\tReturns a dictionary with the specified keys and value   \n",
        "get()\tReturns the value of the specified key   \n",
        "items()\tReturns a list containing a tuple for each key value pair   \n",
        "keys()\tReturns a list containing the dictionary's keys   \n",
        "pop()\tRemoves the element with the specified key   \n",
        "popitem()\tRemoves the last inserted key-value pair   \n",
        "setdefault()\tReturns the value of the specified key. If the key does not exist: insert the key, with the specified value   \n",
        "update()\tUpdates the dictionary with the specified key-value pairs   \n",
        "values()\tReturns a list of all the values in the dictionary    "
      ],
      "metadata": {
        "id": "imBCP4OYLgud"
      }
    },
    {
      "cell_type": "code",
      "source": [
        "dict={\"roll\":11,\"name\":\"nikhil\",\"year\":3}\n",
        "print(dict)\n",
        "print(\"--------\")\n",
        "print(atype(dict))\n",
        "print(\"--------\")\n",
        "print(dict[\"roll\"])\n",
        "print(\"--------\")\n",
        "\n",
        "dict.update({\"roll\":101})\n",
        "print(dict)\n",
        "print(\"--------\")\n",
        "dict.pop(\"year\")\n",
        "print(dict)\n",
        "print(\"--------\")\n",
        "print(dict.keys())\n",
        "print(dict.values())\n",
        "print(dict.items())\n",
        "print(\"--------\")\n",
        "dict.clear()\n",
        "print(dict)\n",
        "print(\"--------\")"
      ],
      "metadata": {
        "colab": {
          "base_uri": "https://localhost:8080/"
        },
        "id": "jsJAMKoZLhFA",
        "outputId": "7429ef60-28a2-4617-b1d7-39ac060ea509"
      },
      "execution_count": null,
      "outputs": [
        {
          "output_type": "stream",
          "name": "stdout",
          "text": [
            "{'roll': 11, 'name': 'nikhil', 'year': 3}\n",
            "--------\n",
            "<class 'dict'>\n",
            "--------\n",
            "11\n",
            "--------\n",
            "{'roll': 101, 'name': 'nikhil', 'year': 3}\n",
            "--------\n",
            "{'roll': 101, 'name': 'nikhil'}\n",
            "--------\n",
            "dict_keys(['roll', 'name'])\n",
            "dict_values([101, 'nikhil'])\n",
            "dict_items([('roll', 101), ('name', 'nikhil')])\n",
            "--------\n",
            "{}\n",
            "--------\n"
          ]
        }
      ]
    },
    {
      "cell_type": "markdown",
      "source": [
        "**06**    \n",
        "The program takes a dictionary and checks if a given key exists in a dictionary or not. Problem Solution 1. Declare and initialize a dictionary to have some key-value pairs.{'A':1,'B':2,'C':3} 2. Take a key from the user and store it in a variable. 3. Using an if statement and the in operator, check if the key is present in the dictionary using the dictionary.keys() method. 4. If it is present, print the value of the key. 5. If it isn’t present, display that the key isn’t present in the dictionary. 6. Exit.\n",
        "\n",
        "Input (stdin)\n",
        "\n",
        "A\n",
        "\n",
        "Output (stdout)\n",
        "\n",
        "1\n",
        "\n",
        "Input (stdin)\n",
        "\n",
        "D  \n",
        "Output (stdout)\n",
        "\n",
        "Key isn't present"
      ],
      "metadata": {
        "id": "I0OTlH1tQeDe"
      }
    },
    {
      "cell_type": "code",
      "source": [
        "dict={\"A\":1,\"B\":2,\"C\":3}\n",
        "key=input()\n",
        "if key in dict.keys():\n",
        "    print(dict[key])\n",
        "else:\n",
        "    print(\"Key isn't present\")"
      ],
      "metadata": {
        "colab": {
          "base_uri": "https://localhost:8080/"
        },
        "id": "k-59Pb35Qdpl",
        "outputId": "8737d502-c7f4-489f-b5aa-fcd2a43c4c67"
      },
      "execution_count": null,
      "outputs": [
        {
          "output_type": "stream",
          "name": "stdout",
          "text": [
            "A\n",
            "1\n"
          ]
        }
      ]
    },
    {
      "cell_type": "markdown",
      "source": [
        "#day-05 ------20/12/24"
      ],
      "metadata": {
        "id": "EK3iNoyzLx2a"
      }
    },
    {
      "cell_type": "markdown",
      "source": [
        "*strings*"
      ],
      "metadata": {
        "id": "m45LjZF1L6tD"
      }
    },
    {
      "cell_type": "code",
      "source": [
        "s=\"hello\"\n",
        "b='python'\n",
        "c='''is'''\n",
        "d=\"\"\"not a vef\"\"\"\n",
        "print(type(s))\n",
        "print(type(b))\n",
        "print(type(c))\n",
        "print(type(d))\n",
        "print(s+\" \"+b)#cancatination\n",
        "print(s*3) #repetation\n",
        "print(s[0])\n",
        "print(len(s))\n",
        "print(len(s[0]))\n",
        "\n",
        "print(\"-----------------------\")\n",
        "#hjfgrhefbe\n",
        "#slicing\n",
        "s=\"hello world\"\n",
        "print(len(s))\n",
        "print(s[::])\n",
        "print(s[:7:])\n",
        "print(s[0:10:3])#  (start:end:step)\n",
        "print(s[::-1]) #revers\n",
        "print(\"---------------------------\")\n",
        "#sprit  ---it will remove spaces both sides\n",
        "t=\" hello world \"\n",
        "print(t)\n",
        "print(len(s))\n",
        "print(t.lstrip())\n",
        "print(t.rstrip())\n",
        "print(t.split())\n",
        "\n",
        "\n"
      ],
      "metadata": {
        "colab": {
          "base_uri": "https://localhost:8080/"
        },
        "id": "jY430tEsc_6Z",
        "outputId": "64681ca9-a787-492f-e9be-26cad4e86c46"
      },
      "execution_count": null,
      "outputs": [
        {
          "output_type": "stream",
          "name": "stdout",
          "text": [
            "<class 'str'>\n",
            "<class 'str'>\n",
            "<class 'str'>\n",
            "<class 'str'>\n",
            "hello python\n",
            "hellohellohello\n",
            "h\n",
            "5\n",
            "1\n",
            "-----------------------\n",
            "11\n",
            "hello world\n",
            "hello w\n",
            "hlwl\n",
            "dlrow olleh\n",
            "---------------------------\n",
            " hello world \n",
            "11\n",
            "hello world \n",
            " hello world\n",
            "['hello', 'world']\n"
          ]
        }
      ]
    },
    {
      "cell_type": "code",
      "source": [
        "from posixpath import split\n",
        "s=\"hello world \"\n",
        "b='python'\n",
        "print(s.find(\" \")) #5\n",
        "print(s.find(\"hello\"))#\n",
        "print(s.index(\"w\")) #6\n",
        "print(\"----\")\n",
        "w=s.split()\n",
        "for i in w:\n",
        "    print(len(i))\n",
        "\n"
      ],
      "metadata": {
        "colab": {
          "base_uri": "https://localhost:8080/"
        },
        "id": "M_8SIklNjvGS",
        "outputId": "ae5b53f2-a5fa-4f2d-c026-0281a38a95c4"
      },
      "execution_count": null,
      "outputs": [
        {
          "output_type": "stream",
          "name": "stdout",
          "text": [
            "5\n",
            "0\n",
            "6\n",
            "----\n",
            "5\n",
            "5\n"
          ]
        }
      ]
    },
    {
      "cell_type": "code",
      "source": [
        "s=\"ohellooo word\"\n",
        "\n",
        "b=\"python\"\n",
        "\n",
        "print(s.find(\" \")) #8\n",
        "\n",
        "print(s.index(\"w\")) #9\n",
        "\n",
        "print(\"----\")\n",
        "\n",
        "w=s.split()\n",
        "\n",
        "for i in range(len(s)):\n",
        "\n",
        "    if s[i]=='o':\n",
        "\n",
        "       print(i)"
      ],
      "metadata": {
        "colab": {
          "base_uri": "https://localhost:8080/"
        },
        "id": "FiNPGGqgs1X5",
        "outputId": "d9e9b3e0-b7f8-4063-860f-d068313dea6c"
      },
      "execution_count": null,
      "outputs": [
        {
          "output_type": "stream",
          "name": "stdout",
          "text": [
            "8\n",
            "9\n",
            "----\n",
            "0\n",
            "5\n",
            "6\n",
            "7\n",
            "10\n"
          ]
        }
      ]
    },
    {
      "cell_type": "code",
      "source": [
        "# strings:\n",
        "\n",
        "# it is a sequence of collection of characters which are enclosed with in double quotes\n",
        "\n",
        "# but in python we can represent the strings in single quotes ,double quotes and as well as triple quotes\n",
        "\n",
        "\n",
        "s=\"hello world\"\n",
        "print(type(s))\n",
        "\n",
        "s1='hello python'\n",
        "print(type(s))\n",
        "\n",
        "s2 = '''hello Strings'''\n",
        "print(type(s))\n",
        "\n",
        "s3=\"\"\"Hello double strings\"\"\"\n",
        "print(type(s))\n",
        "\n",
        "s4 = input()\n",
        "print(type(s4))\n",
        "\n",
        "\n",
        "#string concatination\n",
        "s=\"hello \"\n",
        "s1=\"World\"\n",
        "s2=s+s1\n",
        "print(s2)\n",
        "\n",
        "#string repetition\n",
        "s=\"universal \"\n",
        "print(s*5)\n",
        "\n",
        "\n",
        "s=\"hello wolrd\"\n",
        "\n",
        "#we can access charecters of string by using index positions\n",
        "\n",
        "# indeX starts with 0  and ends with size -1 negative index starts with -1\n",
        "print(s)\n",
        "print(s[0])\n",
        "print(s[len(s)-1])\n",
        "print(s[-1])\n",
        "\n",
        "\n",
        "#slicing\n",
        "\n",
        "# [start:stop:step]\n",
        "\n",
        "s=\"hello wolrd\"\n",
        "\n",
        "print(s[3::])   #lo world\n",
        "\n",
        "print(s[:7:])   #hello w\n",
        "\n",
        "print(s[::3])   #hlwr\n",
        "\n",
        "\n",
        "print(s[1:4:])   #ell\n",
        "\n",
        "print(s[:8:2])  #hlow\n",
        "\n",
        "print(s[1::3])  #eood\n",
        "\n",
        "print(s[0:10:2])    #hl0wl\n",
        "\n",
        "\n",
        "#reverse the string by using slice operator\n",
        "s=\"hello wolrd\"\n",
        "print(s[::-1])\n",
        "\n",
        "\n",
        "#how to remove spacews in the string\n",
        "\n",
        "s=\"   hello wolrd   \"\n",
        "\n",
        "# rstrip() ->it will removes spcaes at right hand side\n",
        "# lstrip() ->it will removes apces at left hand side\n",
        "# strip() ->it will removes spaces both sides\n",
        "\n",
        "print(s.rstrip())\n",
        "print(s.lstrip())\n",
        "print(s.strip())\n",
        "\n",
        "#finding substrings\n",
        "\n",
        "# to find substrings we can follow 4 methods\n",
        "\n",
        "# for forward direction\n",
        "\n",
        "# ->find()\n",
        "# ->index()\n",
        "\n",
        "# for backward direction\n",
        "\n",
        "# ->rfind()\n",
        "# ->rindex()\n",
        "\n",
        "#find()\n",
        "# it returns index of first occurence of the given substring.if it is not available\n",
        "# then will get -1\n",
        "s=\"Hello world\"\n",
        "print(s.find(\"Hello\"))\n",
        "\n",
        "print(s.find(\"hi\"))\n",
        "\n",
        "# index() ->will returns index values if the specified charecter is not available in the string\n",
        "# it will raise a value error\n",
        "\n",
        "print(s.index(\"w\")) #6\n",
        "\n",
        "# print(s.index(\"n\")) #valueError\n",
        "\n",
        "\n",
        "#count() - count method will returns count of a character in a string\n",
        "\n",
        "\n",
        "s=\"aaasdb sdfkajsndskdjfhrkf rgsf\"\n",
        "print(s.count('a'))\t#4\n",
        "print(s.count('s'))\t#5\n",
        "print(s.count('z'))\t#0"
      ],
      "metadata": {
        "colab": {
          "base_uri": "https://localhost:8080/"
        },
        "id": "DL0-Dze3oPmd",
        "outputId": "aca38545-2f95-4c4d-e671-397e2da94a1c"
      },
      "execution_count": null,
      "outputs": [
        {
          "output_type": "stream",
          "name": "stdout",
          "text": [
            "<class 'str'>\n",
            "<class 'str'>\n",
            "<class 'str'>\n",
            "<class 'str'>\n",
            "nikhil\n",
            "<class 'str'>\n",
            "hello World\n",
            "universal universal universal universal universal \n",
            "hello wolrd\n",
            "h\n",
            "d\n",
            "d\n",
            "lo wolrd\n",
            "hello w\n",
            "hlwr\n",
            "ell\n",
            "hlow\n",
            "eood\n",
            "hlowl\n",
            "drlow olleh\n",
            "   hello wolrd\n",
            "hello wolrd   \n",
            "hello wolrd\n",
            "0\n",
            "-1\n",
            "6\n",
            "4\n",
            "5\n",
            "0\n"
          ]
        }
      ]
    },
    {
      "cell_type": "code",
      "source": [
        "#By using split method we can split the string and will convert it as a list\n",
        "\n",
        "s=\"india russia america canada\"\n",
        "l=s.split()\n",
        "print(l)\n",
        "print(type(l))\n",
        "\n",
        "# Output:\n",
        "# ['india', 'russia', 'america', 'canada']\n",
        "# <class 'list'>\n",
        "\n",
        "#we can convert a list into string by using join method\n",
        "\n",
        "l=['india', 'russia', 'america', 'canada']\n",
        "s=\" \".join(l)\n",
        "print(s)\n",
        "print(type(s))\n",
        "\n",
        "# india russia america canada\n",
        "# <class 'str'>\n",
        "\n",
        "# replace() method -> by using replace method we can change the string value\n",
        "\n",
        "# Syntax: variable_name.replace(old sub string, new sub string)\n",
        "\n",
        "s=\"india russia america canada\"\n",
        "print(s)\n",
        "s1=s.replace(\"russia\",\"Africa\")\n",
        "print(s1)"
      ],
      "metadata": {
        "colab": {
          "base_uri": "https://localhost:8080/"
        },
        "id": "x-hq8dn2rlRh",
        "outputId": "edc8c1ee-7277-4a96-ec8a-f6df66246ce6"
      },
      "execution_count": null,
      "outputs": [
        {
          "output_type": "stream",
          "name": "stdout",
          "text": [
            "['india', 'russia', 'america', 'canada']\n",
            "<class 'list'>\n",
            "india russia america canada\n",
            "<class 'str'>\n",
            "india russia america canada\n",
            "india Africa america canada\n"
          ]
        }
      ]
    },
    {
      "cell_type": "code",
      "source": [
        "text = \"  Hello, World!  \"\n",
        "print(len(text))  # Output: 16\n",
        "print(text.lower())  # Output: \"  hello, world!  \"\n",
        "print(text.upper())  # Output: \"  HELLO, WORLD!  \"\n",
        "print(text.replace(\"World\", \"Python\"))#Hello, Python!\n",
        "print(text.isalpha())  # Output: False\n",
        "print(text.isdigit())  # Output: False\n",
        "print(text.isalnum())  # Output: False\n",
        "print(text.islower())  # Output: False\n",
        "print(text.isupper())\n",
        "print(text.startswith(\"  Hello\"))  # Output: True\n",
        "print(text.endswith(\"World!  \"))#true\n",
        "print(text.lstrip())#remove left space\n",
        "print(text.rstrip())#remove right space\n",
        "print(text.strip())  # Output: \"Hello, World!\"\n",
        "print(text.split(\",\"))  # Output: ['  Hello', ' World!  ']\n",
        "print(\"-\".join(['a', 'b', 'c']))  # Ou{I(tput: \"a-b-c\"\n",
        "print(text.find(\"W\"))  # Output: 8"
      ],
      "metadata": {
        "colab": {
          "base_uri": "https://localhost:8080/"
        },
        "id": "abGzlXQIr4Ft",
        "outputId": "753309d7-1085-4171-ab58-1a4faccdbcef"
      },
      "execution_count": null,
      "outputs": [
        {
          "output_type": "stream",
          "name": "stdout",
          "text": [
            "17\n",
            "  hello, world!  \n",
            "  HELLO, WORLD!  \n",
            "  Hello, Python!  \n",
            "False\n",
            "False\n",
            "False\n",
            "False\n",
            "False\n",
            "True\n",
            "True\n",
            "Hello, World!  \n",
            "  Hello, World!\n",
            "Hello, World!\n",
            "['  Hello', ' World!  ']\n",
            "a-b-c\n",
            "9\n"
          ]
        }
      ]
    },
    {
      "cell_type": "code",
      "source": [
        "s=\"Hello world \"\n",
        "print(s.upper())\n",
        "print(s.lower())\n",
        "print(s.replace(\"world\",\"WORLD\"))\n",
        "# isalpha\n",
        "# islower\n",
        "# isupper\n",
        "# isdigit\n",
        "print(s.startswith(\"hel\"))\n",
        "# endswith\n",
        "# lstrip\n",
        "# rstrip\n",
        "# strip\n",
        "# split(\" \")\n",
        "print(\"-\".join([\"a\",\"b\",\"c\"]))\n",
        "# find(\"w\")  first index of w\n",
        "# rfind(\"w\")  last  index of w\n",
        "# index()\n",
        "# rindex()\n",
        "# len()\n",
        "b=\"sr University\"\n",
        "# print(b.istitle())\n",
        "#isspace\n",
        "# print(b.isspace())\n",
        "print(b.swapcase())\n",
        "print(b.capitalize())"
      ],
      "metadata": {
        "colab": {
          "base_uri": "https://localhost:8080/"
        },
        "id": "KDf6Qk-k4g1k",
        "outputId": "a2b9efa3-29ca-4b05-9681-39449149d589"
      },
      "execution_count": null,
      "outputs": [
        {
          "output_type": "stream",
          "name": "stdout",
          "text": [
            "HELLO WORLD \n",
            "hello world \n",
            "Hello WORLD \n",
            "False\n",
            "a-b-c\n",
            "SR uNIVERSITY\n",
            "Sr university\n"
          ]
        }
      ]
    },
    {
      "cell_type": "markdown",
      "source": [
        "**01**    \n",
        "There is an interview process going on in a company. In that recruitment 200 people came for an interview. For HR it is very difficult to take an interview for those 200 peoples. So help the HR to disqualify the person who is sufficient for the proper work( remove the nth index character from a non-empty string..) Problem Description The program takes a string and removes the nth index character from the non-empty string. Program Explanation 1. User must enter a string and store it in a variable. 2. User must also enter the index of the character to remove. 3. The string and the index of the character to remove are passed as arguments to the remove function. 4. In the function, the string is split into two halves before the index character and after the index character. 5. The first half and the last half is then merged together using the ‘+’ operator. 6. The modified string is printed.\n",
        "\n",
        "\n",
        "Input (stdin)\n",
        "\n",
        "Hello\n",
        "3\n",
        "\n",
        "Output (stdout)\n",
        "\n",
        "Helo\n",
        "\n",
        "Input (stdin)\n",
        "\n",
        "welcome\n",
        "2\n",
        "\n",
        "Output (stdout)\n",
        "\n",
        "wecome"
      ],
      "metadata": {
        "id": "O8z72n_j4uYV"
      }
    },
    {
      "cell_type": "code",
      "source": [
        "n=input()\n",
        "m=int(input())\n",
        "print(n[:m]+n[m+1:])"
      ],
      "metadata": {
        "colab": {
          "base_uri": "https://localhost:8080/"
        },
        "id": "gDFuMCh74rtC",
        "outputId": "2d1ecf66-192f-4aea-cc67-470b43ccef41"
      },
      "execution_count": null,
      "outputs": [
        {
          "output_type": "stream",
          "name": "stdout",
          "text": [
            "welcome\n",
            "2\n",
            "wecome\n"
          ]
        }
      ]
    },
    {
      "cell_type": "markdown",
      "source": [
        "**02**     \n",
        "Students in a class going to write an exam. In a bench there are 5 members were sitting. Staff wants the students to sit three in bench. So he/she told that odd number people who is sitting in the bench should move out and sit in another bench. Help the staff to find out the odd people out. Problem Description The program takes a string and removes the characters of odd index values in the string. Problem Solution 1. Take a string from the user and store it in a variable. 2. Pass the string as an argument to a function. 3. In the function, initialize a variable to an empty character. 4. Use a for loop to traverse through the string. 5. Use an if statement to check if the index of the string is odd or even. 6. If the index is odd, append the no character to the string. 7. Then print the modified string. 8. Exit.\n",
        "\n",
        "\n",
        "Input (stdin)\n",
        "\n",
        "hello\n",
        "\n",
        "Output (stdout)\n",
        "\n",
        "hlo\n",
        "\n",
        "Input (stdin)\n",
        "\n",
        "welcome\n",
        "\n",
        "Output (stdout)\n",
        "\n",
        "wloe"
      ],
      "metadata": {
        "id": "zphhS1aTLGTP"
      }
    },
    {
      "cell_type": "code",
      "source": [
        "n=input()\n",
        "for i in range(len(n)):\n",
        "    if i%2==0:\n",
        "        print(n[i],end=\"\")"
      ],
      "metadata": {
        "colab": {
          "base_uri": "https://localhost:8080/"
        },
        "id": "ES_6pGXJLOJA",
        "outputId": "61e035ce-4e6d-4c19-ddef-5a72e6602b6e"
      },
      "execution_count": null,
      "outputs": [
        {
          "output_type": "stream",
          "name": "stdout",
          "text": [
            "welcome\n",
            "wloe"
          ]
        }
      ]
    },
    {
      "cell_type": "code",
      "source": [
        "print(input()[::2])"
      ],
      "metadata": {
        "colab": {
          "base_uri": "https://localhost:8080/"
        },
        "id": "jqB0gxi3MC48",
        "outputId": "0739cd12-7c8f-4f0b-a77e-66a2ccc5dff3"
      },
      "execution_count": null,
      "outputs": [
        {
          "output_type": "stream",
          "name": "stdout",
          "text": [
            "hello\n",
            "hlo\n"
          ]
        }
      ]
    },
    {
      "cell_type": "markdown",
      "source": [
        "**03**   \n",
        "Write a Python Program to take in two strings and display the larger string without using built-in functions. Problem Description The program takes in two strings and display the larger string without using built-in function. Problem Solution 1. Take in two strings from the user and store it in separate variables. 2. Initialize the two count variables to zero. 3. Use a for loop to traverse through the characters in the string and increment the count variables each time a character is encountered. 4. Compare the count variables of both the strings. 5. Print the larger string. 6. Exit.\n",
        "\n",
        "\n",
        "Input (stdin)\n",
        "\n",
        "Delhi   \n",
        "Bangalore\n",
        "\n",
        "Output (stdout)\n",
        "\n",
        "Bangalore"
      ],
      "metadata": {
        "id": "hcGdSKrBMR2O"
      }
    },
    {
      "cell_type": "code",
      "source": [
        "n=input()\n",
        "m=input()\n",
        "if len(n)>len(m):    #using build in functions\n",
        "    print(n)\n",
        "else:\n",
        "    print(m)\n",
        "\n",
        "print(\"-----------\")\n",
        "#another way\n",
        "a=input()\n",
        "b=input()\n",
        "c1=0\n",
        "c2=0\n",
        "for i in a:\n",
        "    c1=c1+1\n",
        "for i in b:\n",
        "    c2=c2+1\n",
        "if c1>c2:\n",
        "    print(a)\n",
        "else:\n",
        "    print(b)"
      ],
      "metadata": {
        "colab": {
          "base_uri": "https://localhost:8080/"
        },
        "id": "TytOypZvMdRU",
        "outputId": "9e8a5edf-e5e6-40c5-c158-a4806352869c"
      },
      "execution_count": null,
      "outputs": [
        {
          "output_type": "stream",
          "name": "stdout",
          "text": [
            "nikhil\n",
            "ram\n",
            "nikhil\n",
            "-----------\n",
            "tweryetwuuei\n",
            "dchgrf\n",
            "tweryetwuuei\n"
          ]
        }
      ]
    },
    {
      "cell_type": "code",
      "source": [
        "#using  def functions\n",
        "a=input()\n",
        "b=input()\n",
        "def fun(a,b):\n",
        "  if len(a)>len(b):\n",
        "    print(a)\n",
        "  else:\n",
        "    print(b)\n",
        "fun(a,b)"
      ],
      "metadata": {
        "colab": {
          "base_uri": "https://localhost:8080/"
        },
        "id": "LTeOfKOVMiPO",
        "outputId": "68225315-7535-49a4-a60b-aaebe3307bc3"
      },
      "execution_count": null,
      "outputs": [
        {
          "output_type": "stream",
          "name": "stdout",
          "text": [
            "nikhil\n",
            "ram\n",
            "nikhil\n"
          ]
        }
      ]
    },
    {
      "cell_type": "code",
      "source": [
        "\n",
        "\n",
        "#in other way\n",
        "a=input()\n",
        "b=input()\n",
        "def print1(a,b):\n",
        "    c1,c2=0,0\n",
        "    for i in a:\n",
        "        c1=c1+1\n",
        "    for i in b:\n",
        "        c2=c2+1\n",
        "    if c1>c2:\n",
        "        return a\n",
        "    else:\n",
        "        return b\n",
        "r=print1(a,b)\n",
        "print(r)\n"
      ],
      "metadata": {
        "colab": {
          "base_uri": "https://localhost:8080/"
        },
        "id": "hNQu13jKZR6p",
        "outputId": "67b36a77-614c-4443-da1a-e589e39170b8"
      },
      "execution_count": null,
      "outputs": [
        {
          "output_type": "stream",
          "name": "stdout",
          "text": [
            "nikhil\n",
            "sai\n",
            "nikhil\n"
          ]
        }
      ]
    },
    {
      "cell_type": "markdown",
      "source": [
        "**04**     \n",
        "write a Python Program to form a new string made of the first 2 characters and last 2 characters from a given string. Problem Description The program takes a string and forms a new string made of the first 2 characters and last 2 characters from a given string. Problem Solution 1. Take a string from the user and store it in a variable. 2. Initialize a count variable to 0. 3. Use a for loop to traverse through the characters in the string and increment the count variable each time. 4. Form the new string using string slicing. 5. Print the newly formed string. 6. Exit.\n",
        "\n",
        "\n",
        "Input (stdin)\n",
        "\n",
        "Hello World\n",
        "\n",
        "Output (stdout)\n",
        "\n",
        "Held"
      ],
      "metadata": {
        "id": "regV1QNoPz47"
      }
    },
    {
      "cell_type": "code",
      "source": [
        "#codes without using functions\n",
        "str=input()\n",
        "c1=0\n",
        "for i in str:\n",
        "    c1=c1+1\n",
        "print(str[0:2]+str[c1-2:c1])\n",
        "print(\"---------------\")\n",
        "\n",
        "#other way\n",
        "n=input()\n",
        "print(n[:2]+n[-2:])\n",
        "\n",
        "print(\"---------------\")\n",
        "#other way\n",
        "s=input()\n",
        "e,g=s[:2],s[-2:]\n",
        "print(e+g)"
      ],
      "metadata": {
        "colab": {
          "base_uri": "https://localhost:8080/"
        },
        "id": "fQqQxrCoQBhC",
        "outputId": "869d91bb-d275-4ab8-e67c-51663b7d75b1"
      },
      "execution_count": null,
      "outputs": [
        {
          "output_type": "stream",
          "name": "stdout",
          "text": [
            "gfgre\n",
            "gfre\n",
            "---------------\n",
            "rbrhfb\n",
            "rbfb\n",
            "---------------\n",
            "rferfrfuhu\n",
            "rfhu\n"
          ]
        }
      ]
    },
    {
      "cell_type": "code",
      "source": [
        "#code using functions\n",
        "s=input()\n",
        "def fun(s):\n",
        "    print(s[:2]+s[-2:])\n",
        "fun(s)\n",
        "print(\"---------------\")\n",
        "\n",
        "\n",
        "\n",
        "#other way\n",
        "s=input()\n",
        "def fun(s):\n",
        "  if len(s)>=2:\n",
        "    return s[:2]+s[-2:]\n",
        "  else:\n",
        "    return \"\"\n",
        "result = fun(s)\n",
        "print(result)\n"
      ],
      "metadata": {
        "colab": {
          "base_uri": "https://localhost:8080/"
        },
        "id": "SI17wOXlWxzY",
        "outputId": "344eba8c-e69c-4f13-8f37-bc0f2f6d92c2"
      },
      "execution_count": null,
      "outputs": [
        {
          "output_type": "stream",
          "name": "stdout",
          "text": [
            "nikhil\n",
            "niil\n",
            "---------------\n",
            "nikhil\n",
            "niil\n"
          ]
        }
      ]
    },
    {
      "cell_type": "markdown",
      "source": [
        "square"
      ],
      "metadata": {
        "id": "NIQF0KCAP59T"
      }
    },
    {
      "cell_type": "code",
      "source": [
        "def square(n):\n",
        "  return n*n\n",
        "n=int(input())\n",
        "result=square(n)\n",
        "print(result)\n",
        "\n"
      ],
      "metadata": {
        "colab": {
          "base_uri": "https://localhost:8080/"
        },
        "id": "CHeq6zgoLd9i",
        "outputId": "938e1205-0b1c-4034-ed6b-dc0dc056ddc0"
      },
      "execution_count": null,
      "outputs": [
        {
          "output_type": "stream",
          "name": "stdout",
          "text": [
            "5\n",
            "25\n"
          ]
        }
      ]
    },
    {
      "cell_type": "markdown",
      "source": [
        "#day-06 ---------21/12/24"
      ],
      "metadata": {
        "id": "PojOig51mrP9"
      }
    },
    {
      "cell_type": "markdown",
      "source": [
        "**01**   \n",
        "Write a program that merges two sorted lists into a single sorted list. Do not use built-in sorting functions.\n",
        "For example, [1, 3, 5], [2, 4, 6] should print [1, 2, 3, 4, 5, 6].\n",
        "\n",
        "Input Format:\n",
        "Input format consists of 2 lines,\n",
        "First line consists of list1 elements separated by space\n",
        "Second line consists of list2 elements separated by space\n",
        "\n",
        "Output Format:\n",
        "Print the merged sorted list\n",
        "\n",
        "Sample Input:   \n",
        "1 3 5     \n",
        "2 4 6\n",
        "\n",
        "Sample Output:     \n",
        "1 2 3 4 5 6"
      ],
      "metadata": {
        "id": "pNwRdjaoME48"
      }
    },
    {
      "cell_type": "code",
      "source": [
        "list1=list(map(int,input().split(\" \")))  #1 3 5\n",
        "list2=list(map(int,input().split()))  #2 4 6\n",
        "list=[]  #1 3 5  #for second loop 2 4 6\n",
        "for i in list1:\n",
        "    list.append(i)\n",
        "for i in list2:\n",
        "    list.append(i)\n",
        "list.sort()  #it will be sorted\n",
        "print(\"printing in list format :\",list)\n",
        "for i in list:\n",
        "    print(i,end=\" \")     #1 2 3 4 5 6\n",
        "\n",
        "#-------------------------plz u should run in VScode\n",
        "\n",
        "\n",
        "#inother way\n",
        "list1 = list(map(int,input().split()))\n",
        "list2 = list(map(int,input().split()))\n",
        "listt = list1 + list2\n",
        "listt.sort()\n",
        "print(*listt)"
      ],
      "metadata": {
        "id": "8wB_0sBhcTMM"
      },
      "execution_count": null,
      "outputs": []
    },
    {
      "cell_type": "markdown",
      "source": [
        "**02**   \n",
        "Write a program that takes a list containing n unique integers from 0 to n (inclusive) with one number missing and returns the missing number.\n",
        "\n",
        "Input Format:\n",
        "Input consists of list elements separated by space\n",
        "\n",
        "Output Format:\n",
        "Print the missing number, if all numbers are available print the n+1th number\n",
        "\n",
        "Sample Input:   \n",
        "0 2 3 4 5\n",
        "\n",
        "Sample Output:  \n",
        "1"
      ],
      "metadata": {
        "id": "adP7AZeXcT_j"
      }
    },
    {
      "cell_type": "code",
      "source": [
        "#run in VScode\n",
        "lst = list(map(int,input().split(' ')))\n",
        "count,flag = 0,0\n",
        "for i in lst:\n",
        "    if(count!=i):          #---------question 02\n",
        "        break              #0 2 3 4\n",
        "    count+=1                #o/p--1\n",
        "print(count)"
      ],
      "metadata": {
        "id": "O0sAt4YxdPex"
      },
      "execution_count": null,
      "outputs": []
    },
    {
      "cell_type": "markdown",
      "source": [
        "**03**   \n",
        "Write a program that returns a list of all duplicate numbers in the input list. Each duplicate should appear only once in the result.\n",
        "For example, [4, 3, 2, 7, 8, 2, 3, 1] should return [2, 3].\n",
        "\n",
        "Input Format:\n",
        "Input consists of list elements separated by space\n",
        "\n",
        "Output Format:\n",
        "Print the duplicate list or \"No duplicate\"\n",
        "\n",
        "Sample Input:   \n",
        "1 2 3 4 5 2 3 6\n",
        "\n",
        "Sample Output:    \n",
        "2 3"
      ],
      "metadata": {
        "id": "4zjHH2TKdQY8"
      }
    },
    {
      "cell_type": "code",
      "source": [
        "#run in vscose\n",
        "#question----------03 ------------duplicate values\n",
        "list1=list(map(int,input().split(\" \")))   #1 2 3 5 8 9 6 6 1 6\n",
        "dup=[]\n",
        "for i in range(len(list1)):\n",
        "    for j in range(i+1,len(list1)):\n",
        "        if(list1[i] not in dup and list1[i]==list1[j]):\n",
        "            dup.append(list1[i])\n",
        "if(len(dup)>0):\n",
        "    for i in dup:\n",
        "        print(i,end=\" \")    #o/p-----1 6\n",
        "else:\n",
        "    print(\"No duplicate\")"
      ],
      "metadata": {
        "id": "GjBjKQUQdpD_"
      },
      "execution_count": null,
      "outputs": []
    },
    {
      "cell_type": "markdown",
      "source": [
        "**04**   \n",
        "Write a program that takes a list of integers and returns a dictionary where the keys are the unique elements of the list, and the values are the frequency of each element.\n",
        "For example, [1, 2, 2, 3, 3, 3] should return {1: 1, 2: 2, 3: 3}.\n",
        "\n",
        "Input Format:\n",
        "Input consists of list elements separated by space\n",
        "\n",
        "Output Format:\n",
        "Print the frequency of each element\n",
        "\n",
        "Sample Input:    \n",
        "1 2 2 3 3 3\n",
        "\n",
        "Sample Output:    \n",
        "1 : 1    \n",
        "2 : 2   \n",
        "3 : 3    "
      ],
      "metadata": {
        "id": "MZSHtQFPiiCF"
      }
    },
    {
      "cell_type": "code",
      "source": [
        "#run in vscode\n",
        "#question------------04----how many times it is repeating\n",
        "list1=list(input().split(\" \"))  #1 2 2 3 3 3 3\n",
        "d={}\n",
        "for i in list1:\n",
        "    if(i not in d.keys()):\n",
        "        count=0\n",
        "        for j in list1:\n",
        "            if(i==j):\n",
        "                count+=1\n",
        "        d[i]=count\n",
        "for i,j in d.items():\n",
        "    print(i,\":\",j)              #o/p---1:1 2:2 3:4"
      ],
      "metadata": {
        "id": "18XQnhYmoA-4"
      },
      "execution_count": null,
      "outputs": []
    },
    {
      "cell_type": "markdown",
      "source": [
        "**05**    \n",
        "Write a program that takes two dictionaries and returns a merged dictionary. If a key is present in both dictionaries, the value from the second dictionary should overwrite the value from the first.\n",
        "For example, {'a': 1, 'b': 2}, {'b': 3, 'c': 4} should return {'a': 1, 'b': 3, 'c': 4}.\n",
        "\n",
        "Input Format:\n",
        "Input format consists of 2 lines,\n",
        "First line consists of n number of elements in dict\n",
        "Next n line consists of 2 elements separated by space (key & value) for dict 1\n",
        "Next n line consists of 2 elements separated by space (key & value) for dict 2\n",
        "\n",
        "Output Format:\n",
        "Print the merged dict\n",
        "\n",
        "Sample Input:   \n",
        "2  \n",
        "a 1   \n",
        "b 2    \n",
        "b 3  \n",
        "c 4    \n",
        "\n",
        "\n",
        "Sample Output:    \n",
        "a 1    \n",
        "b 3   \n",
        "c 4    \n"
      ],
      "metadata": {
        "id": "w4BdM4W4nikY"
      }
    },
    {
      "cell_type": "code",
      "source": [
        "n = int(input())    #2\n",
        "d = {}\n",
        "for i in range(n):\n",
        "    a,b = input().split()    #a 1   b 2\n",
        "    d[a] = b\n",
        "for i in range(n):\n",
        "    a,b = input().split()   #b 3 c 4\n",
        "    d[a] = b\n",
        "for i,j in d.items():\n",
        "    print(i,j)      #o/p----a 1   b 3   c 4"
      ],
      "metadata": {
        "colab": {
          "base_uri": "https://localhost:8080/"
        },
        "id": "8RbjbaRopQ-M",
        "outputId": "a3049b45-b40f-4385-c5c0-5e7fa8dc6459"
      },
      "execution_count": null,
      "outputs": [
        {
          "output_type": "stream",
          "name": "stdout",
          "text": [
            "2\n",
            "a 1\n",
            "b 2\n",
            "b 3\n",
            "c 4\n",
            "a 1\n",
            "b 3\n",
            "c 4\n"
          ]
        }
      ]
    },
    {
      "cell_type": "markdown",
      "source": [
        "**06**   \n",
        "Write a python program takes a number and finds the binary equivalent of a number recursively.\n",
        "\n",
        "Input (stdin)\n",
        "\n",
        "5\n",
        "\n",
        "Output (stdout)\n",
        "\n",
        "1 0 1\n",
        "\n",
        "Input (stdin)\n",
        "\n",
        "7   \n",
        "Output (stdout)\n",
        "\n",
        "1 1 1"
      ],
      "metadata": {
        "id": "3W1s5UtRtjKu"
      }
    },
    {
      "cell_type": "code",
      "source": [
        "n=int(input())\n",
        "def binary(n):\n",
        "    if n<0:\n",
        "        print(0)\n",
        "        return\n",
        "    if n>1:\n",
        "        binary(n//2)\n",
        "    print(n%2,end=\"\")\n",
        "\n",
        "binary(n)"
      ],
      "metadata": {
        "colab": {
          "base_uri": "https://localhost:8080/"
        },
        "id": "dD75Ff9P4YzG",
        "outputId": "68614f3c-452b-45d2-d7ba-af7931fdb404"
      },
      "execution_count": null,
      "outputs": [
        {
          "output_type": "stream",
          "name": "stdout",
          "text": [
            "7\n",
            "111"
          ]
        }
      ]
    },
    {
      "cell_type": "code",
      "source": [
        "n=int(input())\n",
        "def fun(n):\n",
        "    if n>1:\n",
        "        fun(n//2)\n",
        "    print(n%2,end=\" \")\n",
        "fun(n)"
      ],
      "metadata": {
        "colab": {
          "base_uri": "https://localhost:8080/"
        },
        "id": "H7DMUN03trp1",
        "outputId": "ea001ce9-fb43-4bad-aab2-dc7e4588e529"
      },
      "execution_count": null,
      "outputs": [
        {
          "output_type": "stream",
          "name": "stdout",
          "text": [
            "5\n",
            "1 0 1 "
          ]
        }
      ]
    },
    {
      "cell_type": "code",
      "source": [
        "n=int(input())\n",
        "print(bin(n)[2:])"
      ],
      "metadata": {
        "colab": {
          "base_uri": "https://localhost:8080/"
        },
        "id": "8lmH3gWayIbr",
        "outputId": "56f92c13-9587-4b24-c0db-a958f729c581"
      },
      "execution_count": null,
      "outputs": [
        {
          "output_type": "stream",
          "name": "stdout",
          "text": [
            "5\n",
            "101\n"
          ]
        }
      ]
    },
    {
      "cell_type": "markdown",
      "source": [
        "**07**  \n",
        "Write a Python Program to find the fibonacci series using recursion.\n",
        "\n",
        "Input (stdin)\n",
        "\n",
        "5  \n",
        "Output (stdout)   \n",
        "\n",
        "0  \n",
        "1  \n",
        "1  \n",
        "2  \n",
        "3   \n",
        "\n",
        "Input (stdin)\n",
        "\n",
        "6  \n",
        "Output (stdout)      \n",
        "\n",
        "0  \n",
        "1  \n",
        "1  \n",
        "2  \n",
        "3  \n",
        "5  "
      ],
      "metadata": {
        "id": "g8iD9mXN3Nq2"
      }
    },
    {
      "cell_type": "code",
      "source": [
        "n=int(input())\n",
        "def fib(n):\n",
        "    if n<=1:\n",
        "        return n\n",
        "    else:\n",
        "        return(fib(n-1)+fib(n-2))\n",
        "if n<=0:\n",
        "    print(\"It is -ve input\")\n",
        "else:\n",
        "    for i in range(n):\n",
        "        print(fib(i))\n",
        "\n",
        "print(\"------------\")\n",
        "# in other way\n",
        "n=int(input())\n",
        "def fib(n):\n",
        "   return n if n<=1 else fib(n-1)+fib(n-2)\n",
        "if n<=0:\n",
        "    print(\"Invalid\")\n",
        "else:\n",
        "    print(*[fib(i) for i in range(n)])\n",
        "\n",
        "print(\"------------\")\n",
        "# in other way\n",
        "n=int(input())\n",
        "def fib(n): return n if n<=1 else fib(n-1)+fib(n-2)\n",
        "print(*[fib(i) for i in range(n)]  if n>0 else \"Invalid\")\n",
        "\n"
      ],
      "metadata": {
        "colab": {
          "base_uri": "https://localhost:8080/"
        },
        "id": "aqhW4iKt4hOe",
        "outputId": "b269815f-eae3-431e-a315-792ff8957838"
      },
      "execution_count": null,
      "outputs": [
        {
          "output_type": "stream",
          "name": "stdout",
          "text": [
            "5\n",
            "0\n",
            "1\n",
            "1\n",
            "2\n",
            "3\n",
            "------------\n",
            "6\n",
            "0 1 1 2 3 5\n",
            "------------\n",
            "10\n",
            "0 1 1 2 3 5 8 13 21 34\n"
          ]
        }
      ]
    },
    {
      "cell_type": "markdown",
      "source": [
        "**08**   \n",
        "Write a python program takes a number and finds the sum of the digits of the number recursively.\n",
        "\n",
        "Input (stdin)\n",
        "\n",
        "135\n",
        "\n",
        "Output (stdout)\n",
        "\n",
        "9\n",
        "\n",
        "Input (stdin)  \n",
        "\n",
        "5678  \n",
        "Output (stdout)  \n",
        "\n",
        "26"
      ],
      "metadata": {
        "id": "f8RulD1U9Dog"
      }
    },
    {
      "cell_type": "code",
      "source": [
        "n=input()\n",
        "sum=0\n",
        "for i in n:\n",
        "    sum=sum+int(i)\n",
        "print(sum)\n",
        "\n",
        "print(\"------------\")\n",
        "#----------------------\n",
        "n=input()\n",
        "def sum(n):\n",
        "    if len(n)==0:\n",
        "        return 0\n",
        "    else:\n",
        "        return int(n[0])+sum(n[1:])\n",
        "print(sum(n))"
      ],
      "metadata": {
        "colab": {
          "base_uri": "https://localhost:8080/"
        },
        "id": "2D1KAPLGS2Hg",
        "outputId": "c4ffae4c-0540-4c4d-d3ed-65287267dd70"
      },
      "execution_count": null,
      "outputs": [
        {
          "output_type": "stream",
          "name": "stdout",
          "text": [
            "123\n",
            "6\n",
            "5678\n",
            "26\n"
          ]
        }
      ]
    },
    {
      "cell_type": "code",
      "source": [
        "n=int(input())\n",
        "print(abs(n))"
      ],
      "metadata": {
        "colab": {
          "base_uri": "https://localhost:8080/"
        },
        "id": "8e-esUz_X1Rc",
        "outputId": "bba158e0-71af-4d74-fee4-65b344888cc3"
      },
      "execution_count": null,
      "outputs": [
        {
          "output_type": "stream",
          "name": "stdout",
          "text": [
            "-20\n",
            "20\n"
          ]
        }
      ]
    },
    {
      "cell_type": "code",
      "source": [
        "n=int(input())\n",
        "def digitsum(n):\n",
        "    n=abs(n)\n",
        "    if n==0:\n",
        "        return 0\n",
        "    else:\n",
        "        return (n%10+digitsum(n//10))\n",
        "result=digitsum(n)\n",
        "print(result)"
      ],
      "metadata": {
        "colab": {
          "base_uri": "https://localhost:8080/"
        },
        "id": "pBu-O8Koc-n4",
        "outputId": "ee821ff1-eb36-4ff6-dfa3-7eb3cdd6e7c4"
      },
      "execution_count": null,
      "outputs": [
        {
          "output_type": "stream",
          "name": "stdout",
          "text": [
            "-253\n",
            "10\n"
          ]
        }
      ]
    },
    {
      "cell_type": "markdown",
      "source": [
        "**09**  \n",
        "Write a Python Program to reverse a string using recursion.\n",
        "\n",
        "Input (stdin)\n",
        "\n",
        "hello world\n",
        "\n",
        "Output (stdout)\n",
        "\n",
        "dlrow olleh\n",
        "\n",
        "---------------\n",
        "Input (stdin)\n",
        "\n",
        "Hello programmer   \n",
        "Output (stdout)\n",
        "\n",
        "remmargorp olleH"
      ],
      "metadata": {
        "id": "xk_ZkoJbdLvM"
      }
    },
    {
      "cell_type": "code",
      "source": [
        "def reverse_string(s):\n",
        "    if len(s) == 0:\n",
        "        return s\n",
        "    return reverse_string(s[1:]) + s[0]\n",
        "input_string = input()\n",
        "print(reverse_string(input_string))"
      ],
      "metadata": {
        "id": "c5SBd-KDde3X",
        "colab": {
          "base_uri": "https://localhost:8080/"
        },
        "outputId": "69b98e30-378d-4a14-b5bf-34ecdf6502de"
      },
      "execution_count": null,
      "outputs": [
        {
          "output_type": "stream",
          "name": "stdout",
          "text": [
            "hello world\n",
            "dlrow olleh\n"
          ]
        }
      ]
    },
    {
      "cell_type": "markdown",
      "source": [],
      "metadata": {
        "id": "aDH5dRlr37ri"
      }
    },
    {
      "cell_type": "code",
      "source": [
        "try:\n",
        "    n=int(input())\n",
        "    result=10/n\n",
        "    print(f\"Result: {result}\")\n",
        "except ZeroDivisionError:\n",
        "    print(\"Zero division error\")\n",
        "except ValueError:\n",
        "    print(\"Invalid Input\")\n",
        "finally:\n",
        "    print(\"This message always prints\")"
      ],
      "metadata": {
        "colab": {
          "base_uri": "https://localhost:8080/"
        },
        "id": "-I4a079338Ss",
        "outputId": "3b65df6a-6062-482e-aa96-a7af9e2b976c"
      },
      "execution_count": null,
      "outputs": [
        {
          "output_type": "stream",
          "name": "stdout",
          "text": [
            "0\n",
            "Zero division error\n",
            "This message always prints\n"
          ]
        }
      ]
    },
    {
      "cell_type": "markdown",
      "source": [
        "#Day07---23/12/24"
      ],
      "metadata": {
        "id": "ylunQ1sonOF_"
      }
    },
    {
      "cell_type": "markdown",
      "source": [
        "**OOPS**"
      ],
      "metadata": {
        "id": "8TehYGm8yg1R"
      }
    },
    {
      "cell_type": "code",
      "source": [
        "a=99\n",
        "class sru:\n",
        "  a=10\n",
        "  def display(self):\n",
        "    b=15\n",
        "    print(b)\n",
        "obj=sru()\n",
        "obj.display()\n",
        "print(obj.a)\n",
        "print(a)"
      ],
      "metadata": {
        "colab": {
          "base_uri": "https://localhost:8080/"
        },
        "id": "BGU8KoJlnmA2",
        "outputId": "18d78f0f-b44f-434f-b52f-983367729cc5"
      },
      "execution_count": null,
      "outputs": [
        {
          "output_type": "stream",
          "name": "stdout",
          "text": [
            "15\n",
            "10\n",
            "99\n"
          ]
        }
      ]
    },
    {
      "cell_type": "code",
      "source": [
        "class Mobile:\n",
        "    def __init__(self,brand,ram,camera,battery):\n",
        "        self.brand=brand\n",
        "        self.ram=ram\n",
        "        self.camera=camera\n",
        "        self.battery=battery\n",
        "    def display(self):\n",
        "        print(\"Brand: \",self.brand)\n",
        "        print(\"Ram :\",self.ram)\n",
        "        print(\"Camera :\",self.camera)\n",
        "        print(\"Battery :\",self.battery)\n",
        "obj=Mobile(\"Apple\",\"8gb\",\"48mp\",\"98%\")\n",
        "obj.display()\n",
        "\n",
        "\n",
        "print(\"----------------\")\n",
        "class Mobile:\n",
        "    def __init__(self,brand,ram,camera,battery):\n",
        "        self.brand=brand\n",
        "        self.ram=ram\n",
        "        self.camera=camera\n",
        "        self.battery=battery\n",
        "        print(\"Brand: \",self.brand)\n",
        "        print(\"Ram :\",self.ram)\n",
        "        print(\"Camera :\",self.camera)\n",
        "        print(\"Battery :\",self.battery)\n",
        "obj=Mobile(\"Apple\",\"8gb\",\"48mp\",\"98%\")\n",
        "\n",
        "print(\"-------------\")\n",
        "class Mobile:\n",
        "    def  __init__(self,brand,ram,camera,battery):\n",
        "        self.brand=brand\n",
        "        self.ram=ram\n",
        "        self.camera=camera\n",
        "        self.battery=battery\n",
        "    def display(self):\n",
        "        print(\"Brand :\",self.brand)\n",
        "        print(\"RAM : \",self.ram)\n",
        "        print(\"Camera : \",self.camera)\n",
        "        print(\"Battery : \",self.battery)\n",
        "brand=input(\"Enter the Brand : \")\n",
        "ram=input(\"Enter the RAM : \")\n",
        "camera=input(\"Enter the Camera : \")\n",
        "battery=input(\"Enter the Battery : \")\n",
        "obj=Mobile(brand,ram,camera,battery)\n",
        "obj.display()"
      ],
      "metadata": {
        "colab": {
          "base_uri": "https://localhost:8080/"
        },
        "id": "R8NtppIQ0W-L",
        "outputId": "93572a8d-02a4-4df4-e518-bef77afbe991"
      },
      "execution_count": null,
      "outputs": [
        {
          "output_type": "stream",
          "name": "stdout",
          "text": [
            "Brand:  Apple\n",
            "Ram : 8gb\n",
            "Camera : 48mp\n",
            "Battery : 98%\n",
            "----------------\n",
            "Brand:  Apple\n",
            "Ram : 8gb\n",
            "Camera : 48mp\n",
            "Battery : 98%\n",
            "-------------\n",
            "Enter the Brand : xyz\n",
            "Enter the RAM : 2\n",
            "Enter the Camera : 45\n",
            "Enter the Battery : 5000\n",
            "Brand : xyz\n",
            "RAM :  2\n",
            "Camera :  45\n",
            "Battery :  5000\n"
          ]
        }
      ]
    },
    {
      "cell_type": "code",
      "source": [
        "class Mobile:\n",
        "    def __init__(self):\n",
        "        print(\"Init Method\")\n",
        "    def display(self):\n",
        "        print(\"Normal Method\")\n",
        "obj=Mobile()\n",
        "obj.display()"
      ],
      "metadata": {
        "colab": {
          "base_uri": "https://localhost:8080/"
        },
        "id": "R1YFGOne511m",
        "outputId": "e5b7eaa9-f328-49ab-e668-d391824aa77a"
      },
      "execution_count": null,
      "outputs": [
        {
          "output_type": "stream",
          "name": "stdout",
          "text": [
            "Init Method\n",
            "Normal Method\n"
          ]
        }
      ]
    },
    {
      "cell_type": "markdown",
      "source": [
        "*inheritance*"
      ],
      "metadata": {
        "id": "3ZkaUsrq96ll"
      }
    },
    {
      "cell_type": "code",
      "source": [
        "#-------single inheritance---\n",
        "class parent:\n",
        "    def display(Self):\n",
        "        print(\"from Parent Class\")\n",
        "class child(parent):\n",
        "    def display1(Self):\n",
        "        print(\"from Child Class\")\n",
        "#obj=parent()\n",
        "obj=child()\n",
        "obj.display1()  #from child class\n",
        "obj.display()   #form parent class"
      ],
      "metadata": {
        "colab": {
          "base_uri": "https://localhost:8080/"
        },
        "id": "CTzapN_S93A6",
        "outputId": "219f5517-025e-4e85-8117-0de0a2e2368d"
      },
      "execution_count": null,
      "outputs": [
        {
          "output_type": "stream",
          "name": "stdout",
          "text": [
            "from Child Class\n",
            "from Parent Class\n"
          ]
        }
      ]
    },
    {
      "cell_type": "code",
      "source": [
        "#------------multilevel ----------------\n",
        "class parent:\n",
        "    def display(Self):\n",
        "        print(\"from Parent Class\")\n",
        "class childA(parent):\n",
        "    def display1(Self):\n",
        "        print(\"from ChildA Class\")\n",
        "class childB(childA):\n",
        "    def display2(Self):\n",
        "        print(\"from ChildB Class\")\n",
        "#obj=parent()\n",
        "obj=childB()\n",
        "obj.display1()\n",
        "obj.display()\n",
        "obj.display2()"
      ],
      "metadata": {
        "colab": {
          "base_uri": "https://localhost:8080/"
        },
        "id": "5WbGLIev-5nw",
        "outputId": "d5340df8-832f-4d97-9b1f-023f36f8c789"
      },
      "execution_count": null,
      "outputs": [
        {
          "output_type": "stream",
          "name": "stdout",
          "text": [
            "from ChildA Class\n",
            "from Parent Class\n",
            "from ChildB Class\n"
          ]
        }
      ]
    },
    {
      "cell_type": "markdown",
      "source": [
        "**01**   \n",
        "A car manufacturing company has multiple levels of hierarchy in its class structure. The base class is Vehicle, which defines the general attributes of a vehicle. The second level is Car, which inherits from Vehicle and adds car-specific features. Finally, the third level is SportsCar, which inherits from Car and includes high-performance features.\n",
        "\n",
        "Your task is to implement a Python program using multilevel inheritance to simulate this hierarchy. Write classes for Vehicle, Car, and SportsCar with relevant attributes and methods.\n",
        "\n",
        "Input and Output Format:\n",
        "Input:\n",
        "A string representing the brand of the vehicle.\n",
        "An integer max_speed for the maximum speed of the vehicle.\n",
        "A string representing the type of the car (e.g., sedan, hatchback).\n",
        "A boolean indicating whether it is a high-performance car (e.g., True or False).\n",
        "Output:\n",
        "Display the details of the SportsCar using methods from all three classes in the hierarchy.\n",
        "\n",
        "Test Case 1:\n",
        "\n",
        "Input:    \n",
        "Tesla   \n",
        "250   \n",
        "Electric    \n",
        "True\n",
        "\n",
        "Output:   \n",
        "Vehicle Info:   \n",
        "Brand: Tesla, Max Speed: 250 km/h\n",
        "Car Info:   \n",
        "Type: Electric   \n",
        "Sports Car Info:   \n",
        "High-Performance: Yes    \n",
        "\n",
        "\n",
        "--------------------------\n",
        "Test Case 2:\n",
        "\n",
        "Input:   \n",
        "Toyota    \n",
        "180    \n",
        "Sedan    \n",
        "False    \n",
        "\n",
        "Output:    \n",
        "Vehicle Info:    \n",
        "Brand: Toyota, Max Speed: 180 km/h    \n",
        "Car Info:     \n",
        "Type: Sedan     \n",
        "Sports Car Info:     \n",
        "High-Performance: No    "
      ],
      "metadata": {
        "id": "jLQiuq14Am3Y"
      }
    },
    {
      "cell_type": "code",
      "source": [
        "class Vehicle:\n",
        "    def __init__(self,brand,speed,type,per):\n",
        "        self.brand=brand\n",
        "        self.speed=speed\n",
        "        self.type=type\n",
        "        self.per=per\n",
        "    def display(self,brand,speed):\n",
        "        print(\"Vehicle Info:\")\n",
        "        print(f\"Brand : {self.brand} Max Speed : {self.speed} kmph\")\n",
        "\n",
        "\n",
        "class carinfo(Vehicle):\n",
        "    def print(self,type):\n",
        "        print(\"Car Info:\")\n",
        "        print(\"Type : \",self.type)\n",
        "\n",
        "class sports(carinfo):\n",
        "    def show(self,per):\n",
        "        print(\"Sports Car Info:\")\n",
        "        if per==\"True\" or per==\"true\":\n",
        "            print(\"High Performance : Yes\")\n",
        "        elif per==\"False\" or per==\"false\":\n",
        "            print(\"High Performance : No\")\n",
        "        else:\n",
        "            print(\"Invalid Input\")\n",
        "brand=input()\n",
        "speed=int(input())\n",
        "type=input()\n",
        "per=bool(input())\n",
        "obj=sports(brand,speed,type,per)\n",
        "obj.display(brand,speed)\n",
        "obj.print(type)\n",
        "obj.show(per)"
      ],
      "metadata": {
        "colab": {
          "base_uri": "https://localhost:8080/"
        },
        "id": "Oc7lwkLXArZv",
        "outputId": "09ee4e03-1629-4b5b-c4ac-f8dcd623c4aa"
      },
      "execution_count": null,
      "outputs": [
        {
          "output_type": "stream",
          "name": "stdout",
          "text": [
            "fghj\n",
            "152\n",
            "ghjk\n",
            "true\n",
            "Vehicle Info:\n",
            "Brand : fghj Max Speed : 152 kmph\n",
            "Car Info:\n",
            "Type :  ghjk\n",
            "Sports Car Info:\n",
            "Invalid Input\n"
          ]
        }
      ]
    },
    {
      "cell_type": "code",
      "source": [
        "class vehicle:\n",
        "    def  __init__(self,brand,speed,type,per):\n",
        "        self.brand=brand\n",
        "        self.speed=speed\n",
        "        self.type=type\n",
        "        self.per=per\n",
        "    def display(self):\n",
        "        print(\"vehicle Info: \")\n",
        "        print(f\"Brand :{self.brand} max speed:{self.speed} kmph\")\n",
        "        print(\"Car Info:\")\n",
        "        print(\"Type : \",self.type)\n",
        "        perf=\"Yes\" if self.per else \"No\"\n",
        "        print(f\"Sports Car Info:\\nHigh-Performance: {per}\")\n",
        "brand=input()\n",
        "speed=input()\n",
        "type=input()\n",
        "per=bool(input())\n",
        "obj=vehicle(brand,speed,type,per)\n",
        "obj.display()"
      ],
      "metadata": {
        "colab": {
          "base_uri": "https://localhost:8080/"
        },
        "id": "RXga21nuNLSC",
        "outputId": "693fe122-0e78-4906-a68a-08bf44861313"
      },
      "execution_count": null,
      "outputs": [
        {
          "output_type": "stream",
          "name": "stdout",
          "text": [
            "hjk\n",
            "15\n",
            "kl\n",
            "false\n",
            "vehicle Info: \n",
            "Brand :hjk max speed:15 kmph\n",
            "Car Info:\n",
            "Type :  kl\n",
            "Sports Car Info:\n",
            "Sports Car Info:\n",
            "High-Performance: True\n"
          ]
        }
      ]
    },
    {
      "cell_type": "code",
      "source": [
        "#sir code\n",
        "class Vehicle:\n",
        "    def __init__(self,brand,speed):\n",
        "        self.brand=brand\n",
        "        self.speed=speed\n",
        "\n",
        "    def display_vehicle(self):\n",
        "        print(\"Vehicle Info:\")\n",
        "        print(f\"Brand : {self.brand} Max Speed : {self.speed} kmph\")\n",
        "\n",
        "\n",
        "class carinfo(Vehicle):\n",
        "    def __init__(self,brand,speed,car_type):\n",
        "        super().__init__(brand,speed)\n",
        "        self.car_type=car_type\n",
        "\n",
        "    def display_car(self):\n",
        "        print(f\"Car Info : \\nType :{self.car_type}\")\n",
        "\n",
        "class sports(carinfo):\n",
        "    def __init__(self,brand,speed,car_type,perf):\n",
        "        super().__init__(brand,speed,car_type)\n",
        "        self.perf=perf\n",
        "\n",
        "    def display_perf(self):\n",
        "        perf=\"Yes\" if self.perf else \"No\"\n",
        "        print(f\"Sports Car Info:\\nHigh-Performance: {perf}\")\n",
        "\n",
        "brand=input()\n",
        "speed=int(input())\n",
        "type=input()\n",
        "per=input().lower()==\"true\"\n",
        "obj=sports(brand,speed,type,per)\n",
        "\n",
        "obj.display_vehicle()\n",
        "obj.display_car()\n",
        "obj.display_perf()"
      ],
      "metadata": {
        "id": "zlrjg820Qj_L"
      },
      "execution_count": null,
      "outputs": []
    },
    {
      "cell_type": "markdown",
      "source": [
        "**02**   \n",
        "A cricket organization maintains a hierarchy for different types of players. The base class is Player, which defines the general details of a cricket player. The second level is Batsman, which inherits from Player and adds attributes specific to a batsman. Finally, the third level is Captain, which inherits from Batsman and includes captain-specific responsibilities.\n",
        "\n",
        "Your task is to implement a Python program using multilevel inheritance to simulate this hierarchy. Write classes for Player, Batsman, and Captain with relevant attributes and methods.\n",
        "\n",
        "Input and Output Format     \n",
        "Input:\n",
        "\n",
        "A string representing the name of the player.\n",
        "An integer representing the player's age.\n",
        "An integer representing the total runs scored by the batsman.\n",
        "A float representing the batsman's average.\n",
        "A boolean indicating if the player is a captain (True/False).\n",
        "Output: Display the details of the captain using methods from all three classes in the hierarchy.\n",
        "\n",
        "Test Case 1\n",
        "\n",
        "Input:     \n",
        "Virat Kohli     \n",
        "34   \n",
        "12000    \n",
        "57.68   \n",
        "True    \n",
        "\n",
        "Output:    \n",
        "Player Info:    \n",
        "Name: Virat Kohli, Age: 34   \n",
        "Batsman Info:    \n",
        "Total Runs: 12000, Average: 57.68    \n",
        "Captain Info:   \n",
        "Is Captain: Yes   \n",
        "\n",
        " ----------------------------\n",
        "Test Case 2    \n",
        "\n",
        "Input:    \n",
        "Rohit Sharma   \n",
        "36    \n",
        "9800   \n",
        "48.15   \n",
        "False    \n",
        "\n",
        "Output:    \n",
        "Player Info:                \n",
        "Name: Rohit Sharma, Age: 36       \n",
        "Batsman Info:                      \n",
        "Total Runs: 9800, Average: 48.15            \n",
        "Captain Info:        \n",
        "Is Captain: No    "
      ],
      "metadata": {
        "id": "OJkiNngJSfqB"
      }
    },
    {
      "cell_type": "code",
      "source": [
        "class player:\n",
        "    def __init__(self,name,age):\n",
        "        self.name=name\n",
        "        self.age=age\n",
        "\n",
        "    def display_player(self):\n",
        "        print(\"player Info:\")\n",
        "        print(f\"name : {self.name}, age: {self.age}\")\n",
        "\n",
        "\n",
        "class Batsman(player):\n",
        "    def __init__(self,name,age,runs,avg):\n",
        "        super().__init__(name,age)\n",
        "        self.runs=runs\n",
        "        self.avg=avg\n",
        "\n",
        "    def display_car(self):\n",
        "        print(f\"Batsman Info:\\nTotal Runs : {self.runs},Average: {self.avg}\")\n",
        "\n",
        "class Captain(Batsman):\n",
        "    def __init__(self,name,age,runs,avg,c_info):\n",
        "        super().__init__(name,age,runs,avg)\n",
        "        self.c_info=c_info\n",
        "\n",
        "    def cap_details(self):\n",
        "        c_info=\"Yes\" if self.c_info else \"No\"\n",
        "        print(f\"Captain Info:\\nIs Captain : {c_info}\")\n",
        "\n",
        "name=input()\n",
        "age=int(input())\n",
        "runs=int(input())\n",
        "avg=float(input())\n",
        "c_info=input().lower()==\"true\"\n",
        "obj=Captain(name,age,runs,avg,c_info)\n",
        "obj.display_player()\n",
        "obj.display_car()\n",
        "obj.cap_details()"
      ],
      "metadata": {
        "id": "LNCHamm1S3DE",
        "colab": {
          "base_uri": "https://localhost:8080/"
        },
        "outputId": "3d30cd14-85d3-487c-b463-01d202efeec0"
      },
      "execution_count": null,
      "outputs": [
        {
          "output_type": "stream",
          "name": "stdout",
          "text": [
            "fgh\n",
            "25\n",
            "8956\n",
            "0.52\n",
            "true\n",
            "player Info:\n",
            "name : fgh, age: 25\n",
            "Batsman Info:\n",
            "Total Runs : 8956,Average: 0.52\n",
            "Captain Info:\n",
            "Is Captain : Yes\n"
          ]
        }
      ]
    },
    {
      "cell_type": "code",
      "source": [
        "#--------multiple inheritance----------------\n",
        "class Vehicle:\n",
        "  def __init__(self, brand, speed):\n",
        "    self.brand = brand\n",
        "    self.speed = speed\n",
        "\n",
        "  def display_vehicle(self):\n",
        "    print(\"Vehicle Info:\")\n",
        "    print(f\"Brand: {self.brand}, Max Speed: {self.speed} kmph\")\n",
        "\n",
        "class CarInfo(Vehicle):\n",
        "  def __init__(self, brand, speed, car_type):\n",
        "    super().__init__(brand, speed)\n",
        "    self.car_type = car_type\n",
        "\n",
        "  def display_car(self):\n",
        "    print(\"Car Info:\")\n",
        "    print(f\"Type: {self.car_type}\")\n",
        "\n",
        "\n",
        "class Sports(Vehicle):\n",
        "  def __init__(self, brand, speed, perf):\n",
        "    super().__init__(brand, speed)\n",
        "    self.perf = perf\n",
        "\n",
        "  def display_perf(self):\n",
        "    perf_status = \"Yes\" if self.perf else \"No\"\n",
        "    print(\"Sports Car Info:\")\n",
        "    print(f\"High-Performance: {perf_status}\")\n",
        "\n",
        "\n",
        "brand = input()\n",
        "speed = int(input())\n",
        "car_type = input()\n",
        "perf = input().lower() == \"true\"\n",
        "\n",
        "car_obj = CarInfo(brand, speed, car_type)\n",
        "sports_obj = Sports(brand, speed, perf)\n",
        "\n",
        "car_obj.display_vehicle()\n",
        "car_obj.display_car()\n",
        "\n",
        "sports_obj.display_vehicle()\n",
        "sports_obj.display_perf()"
      ],
      "metadata": {
        "colab": {
          "base_uri": "https://localhost:8080/"
        },
        "id": "yXt_FQtcrFsY",
        "outputId": "bc4c618e-8265-4c0d-a4dc-cb1721627ee7"
      },
      "execution_count": null,
      "outputs": [
        {
          "output_type": "stream",
          "name": "stdout",
          "text": [
            "frfhgrf\n",
            "55\n",
            "fhrfr\n",
            "true\n",
            "Vehicle Info:\n",
            "Brand: frfhgrf, Max Speed: 55 kmph\n",
            "Car Info:\n",
            "Type: fhrfr\n",
            "Vehicle Info:\n",
            "Brand: frfhgrf, Max Speed: 55 kmph\n",
            "Sports Car Info:\n",
            "High-Performance: Yes\n"
          ]
        }
      ]
    },
    {
      "cell_type": "markdown",
      "source": [
        "#Day-08   -----24/12/24"
      ],
      "metadata": {
        "id": "l4RNZk3twLz6"
      }
    },
    {
      "source": [
        "def p(n):\n",
        "    for i in range(1, n + 1):\n",
        "        print(\"*\" * i + \"  \" * (n - i) + \"*\" * i)  # Upper half\n",
        "    for i in range(n, 0, -1):\n",
        "        print(\"*\" * i + \"  \" * (n - i) + \"*\" * i)  # Lower half\n",
        "\n",
        "n = int(input())\n",
        "p(n)"
      ],
      "cell_type": "code",
      "metadata": {
        "colab": {
          "base_uri": "https://localhost:8080/"
        },
        "id": "npDOiRUd2Ikr",
        "outputId": "7570d85a-e9c0-4831-b67d-8affc272b4c7"
      },
      "execution_count": null,
      "outputs": [
        {
          "output_type": "stream",
          "name": "stdout",
          "text": [
            "5\n",
            "*        *\n",
            "**      **\n",
            "***    ***\n",
            "****  ****\n",
            "**********\n",
            "**********\n",
            "****  ****\n",
            "***    ***\n",
            "**      **\n",
            "*        *\n"
          ]
        }
      ]
    },
    {
      "cell_type": "code",
      "source": [
        "n=int(input())\n",
        "def pyrami(n):\n",
        "  for i in range(1,n+1):\n",
        "    left=\" \".join(map(str,range(1,i+1)))\n",
        "    right=\" \".join(map(str,range(i-1,0,-1)))\n",
        "    space=\" \"*(2*(n-i))\n",
        "    print(space+left+\" \"+right)\n",
        "\n",
        "\n",
        "  for i in range(n-1,0,-1):\n",
        "    left=\" \".join(map(str,range(1,i+1)))\n",
        "    right=\" \".join(map(str,range(i-1,0,-1)))\n",
        "    space=\" \"*(2*(n-i))\n",
        "    print(space+left+\" \"+right)\n",
        "pyrami(n)\n"
      ],
      "metadata": {
        "colab": {
          "base_uri": "https://localhost:8080/"
        },
        "id": "4R6hvmjG3bsL",
        "outputId": "3a983a44-5ae6-479b-9475-e9c0a1c3ff12"
      },
      "execution_count": null,
      "outputs": [
        {
          "output_type": "stream",
          "name": "stdout",
          "text": [
            "5\n",
            "        1 \n",
            "      1 2 1\n",
            "    1 2 3 2 1\n",
            "  1 2 3 4 3 2 1\n",
            "1 2 3 4 5 4 3 2 1\n",
            "  1 2 3 4 3 2 1\n",
            "    1 2 3 2 1\n",
            "      1 2 1\n",
            "        1 \n"
          ]
        }
      ]
    },
    {
      "cell_type": "code",
      "source": [
        "n=int(input())\n",
        "def butterfly(n):\n",
        "  for i in range(1,n+1): #upper\n",
        "    right=\"* \"*i\n",
        "    left=\"* \"*i\n",
        "    space=\"  \"*(n-i)*2  #give \"_ _\"\n",
        "    print(right+space+left)\n",
        "\n",
        "  for i in range(n,0,-1): #lower\n",
        "    right=\"* \"*i\n",
        "    left=\"* \"*i\n",
        "    space=\"  \"*(n-i)*23\n",
        "    print(right+space+left)\n",
        "butterfly(n)"
      ],
      "metadata": {
        "colab": {
          "base_uri": "https://localhost:8080/"
        },
        "id": "SBIfIylQ-2gX",
        "outputId": "64cd1bd7-d439-4268-9f5c-5f3546cb7338"
      },
      "execution_count": null,
      "outputs": [
        {
          "output_type": "stream",
          "name": "stdout",
          "text": [
            "4\n",
            "*             * \n",
            "* *         * * \n",
            "* * *     * * * \n",
            "* * * * * * * * \n",
            "* * * * * * * * \n",
            "* * *     * * * \n",
            "* *         * * \n",
            "*             * \n"
          ]
        }
      ]
    },
    {
      "cell_type": "code",
      "source": [
        "class addtion:\n",
        "  def add(self,a,b):\n",
        "    return a+b\n",
        "  def add(self,a,b,c):\n",
        "    return a+b+c\n",
        "  def add(self,a,b,c=0,d=0):\n",
        "    return a+b+c+d\n",
        "obj=addtion()\n",
        "print(obj.add(1,2))\n",
        "s=obj.add(10,20,30)\n",
        "print(obj.add(100,200,300,400))\n",
        "print(s)"
      ],
      "metadata": {
        "colab": {
          "base_uri": "https://localhost:8080/"
        },
        "id": "WK79O8PpGVn9",
        "outputId": "c5145d6b-6bc4-4770-afc2-6da31df1d233"
      },
      "execution_count": null,
      "outputs": [
        {
          "output_type": "stream",
          "name": "stdout",
          "text": [
            "3\n",
            "1000\n",
            "60\n"
          ]
        }
      ]
    },
    {
      "cell_type": "code",
      "source": [
        "class husband:\n",
        "    def house(self):\n",
        "        print(\"Husband House\")\n",
        "    def land(self):\n",
        "        print(\"Husband land\")\n",
        "    def money(self):\n",
        "        print(\"Husband money\")\n",
        "class wife:\n",
        "    def house(self):\n",
        "        print(\"wife House\")\n",
        "    def land(self):\n",
        "        print(\"wife land\")\n",
        "    def money(self):\n",
        "        print(\"wife money\")\n",
        "\n",
        "obj=wife()\n",
        "obj.house()\n",
        "obj.money()"
      ],
      "metadata": {
        "colab": {
          "base_uri": "https://localhost:8080/"
        },
        "id": "wQT8SqzASOaI",
        "outputId": "2f529e19-5421-4453-b9b9-83f5c02225f0"
      },
      "execution_count": null,
      "outputs": [
        {
          "output_type": "stream",
          "name": "stdout",
          "text": [
            "wife House\n",
            "wife money\n"
          ]
        }
      ]
    },
    {
      "cell_type": "code",
      "source": [
        "class husband:\n",
        "    def house(self):\n",
        "        print(\"Husband House\")\n",
        "    def land(self):\n",
        "        print(\"Husband land\")\n",
        "    def money(self):\n",
        "        print(\"Husband money\")\n",
        "class wife(husband):\n",
        "    def house(self):\n",
        "        super().house()\n",
        "        print(\"wife House\")\n",
        "    def land(self):\n",
        "        super().land()\n",
        "        print(\"wife land\")\n",
        "    def money(self):\n",
        "        super().money()\n",
        "        print(\"wife money\")\n",
        "\n",
        "obj=wife()\n",
        "obj.house()\n",
        "obj.money()"
      ],
      "metadata": {
        "colab": {
          "base_uri": "https://localhost:8080/"
        },
        "id": "mX-aUqSqSPSM",
        "outputId": "eb602c3a-36eb-4f32-93ad-e159d00b8a21"
      },
      "execution_count": null,
      "outputs": [
        {
          "output_type": "stream",
          "name": "stdout",
          "text": [
            "Husband House\n",
            "wife House\n",
            "Husband money\n",
            "wife money\n"
          ]
        }
      ]
    },
    {
      "cell_type": "markdown",
      "source": [
        "**01**   \n",
        "A zoo management system is designed to manage various animals. The system needs to display details about different animals, and each type of animal can have a unique way of making a sound. The system should implement polymorphism to allow different types of animals to make their own sounds.\n",
        "\n",
        "You need to create a base class Animal and two derived classes Dog and Cat. Both the Dog and Cat classes will override the make_sound() method to provide their own implementation. The Animal class will contain a method display_info() which will print the general information about the animal, such as its name and type. The Dog and Cat classes will provide their own version of make_sound() which will print the sound made by the respective animal.\n",
        "\n",
        "Input and Output Format:\n",
        "\n",
        "Input:\n",
        "\n",
        "The input consists of an animal name and type.\n",
        "After that, the program will display the animal's sound.   \n",
        "Output:\n",
        "\n",
        "Print the name, type, and sound made by the animal.    \n",
        "Example Input and Output:\n",
        "\n",
        "Test Case 1:   \n",
        "\n",
        "Input:   \n",
        "Dog   \n",
        "Buddy   \n",
        "\n",
        "Output:   \n",
        "Animal Info:    \n",
        "Type: Dog    \n",
        "Name: Buddy   \n",
        "Sound: Bark   \n",
        "\n",
        "-------------------------------------\n",
        "Test Case 2:   \n",
        "\n",
        "Input:   \n",
        "Cat     \n",
        "Whiskers      \n",
        "\n",
        "Output:      \n",
        "Animal Info:      \n",
        "Type: Cat    \n",
        "Name: Whiskers     \n",
        "Sound: Meow      "
      ],
      "metadata": {
        "id": "Hz1tiRRqSXCV"
      }
    },
    {
      "cell_type": "code",
      "source": [
        "#multipul inheritance\n",
        "class animal:\n",
        "    def __init__(self,name,atype):\n",
        "        self.name=name\n",
        "        self.atype=atype\n",
        "    def display_info(self):\n",
        "        print(\"Animal Info:\")\n",
        "        print(f\"type : {atype}\")\n",
        "        print(f\"Name : {self.name}\")\n",
        "class dog(animal):\n",
        "    def __init__(self,name):\n",
        "        self.name=name\n",
        "    def make_sound(self):\n",
        "        print(\"Sound : Bark\")\n",
        "class cat(animal):\n",
        "    def __init__(self,name):\n",
        "        self.name=name\n",
        "    def make_sound(self):\n",
        "        print(\"Sound : Meow\")\n",
        "\n",
        "name=input()\n",
        "atype=input()\n",
        "if atype==\"Dog\" or atype==\"dog\":\n",
        "    obj=dog(name)\n",
        "    obj.display_info()\n",
        "    obj.make_sound()\n",
        "else:\n",
        "    obj1=cat(name)\n",
        "    obj1.display_info()\n",
        "    obj1.make_sound()\n",
        "\n"
      ],
      "metadata": {
        "colab": {
          "base_uri": "https://localhost:8080/"
        },
        "id": "axMzejiVSRAm",
        "outputId": "9d7bddbb-615c-45c2-d966-e7b3788dff2a"
      },
      "execution_count": null,
      "outputs": [
        {
          "output_type": "stream",
          "name": "stdout",
          "text": [
            "fgh\n",
            "dog\n",
            "Animal Info:\n",
            "type : dog\n",
            "Name : fgh\n",
            "Sound : Bark\n"
          ]
        }
      ]
    },
    {
      "cell_type": "code",
      "source": [
        "#encapculation   #buinding\n",
        "class Student:\n",
        "    def __init__(self,name,roll_no,fees):\n",
        "        self.name=name\n",
        "        self.roll_no=roll_no\n",
        "        self.__fees=fees\n",
        "        self.__fees_paid=0\n",
        "\n",
        "    def pay_fees(self,amount):\n",
        "        if 0<amount<=self.__fees-self.__fees_paid:\n",
        "            self.__fees_paid+=amount\n",
        "            print(f\"Paid:{amount}\")\n",
        "\n",
        "    def display(self):\n",
        "        print(f\"Name : {self.name},Roll No : {self.roll_no}\")\n",
        "        print(f\"Total : {self.__fees},Paid : {self.__fees_paid},Remaining : {self.__fees-self.__fees_paid}\")\n",
        "\n",
        "student=Student(\"DHEERAJ\",32,130000)\n",
        "student.display()\n",
        "student.pay_fees(20000)\n",
        "student.display()\n",
        "student.pay_fees(46000)\n",
        "student.display()"
      ],
      "metadata": {
        "colab": {
          "base_uri": "https://localhost:8080/"
        },
        "id": "OoSq5m5lwSuw",
        "outputId": "819fb0f3-8ce5-4eb9-af2c-82451cdffb9d"
      },
      "execution_count": null,
      "outputs": [
        {
          "output_type": "stream",
          "name": "stdout",
          "text": [
            "Name : DHEERAJ,Roll No : 32\n",
            "Total : 130000,Paid : 0,Remaining : 130000\n",
            "Paid:20000\n",
            "Name : DHEERAJ,Roll No : 32\n",
            "Total : 130000,Paid : 20000,Remaining : 110000\n",
            "Paid:46000\n",
            "Name : DHEERAJ,Roll No : 32\n",
            "Total : 130000,Paid : 66000,Remaining : 64000\n"
          ]
        }
      ]
    },
    {
      "cell_type": "markdown",
      "source": [
        "**02**    \n",
        "A university library needs an efficient way to track book transactions. Each student can borrow up to 3 books at a time, and they must return the books within 7 days. Late returns are charged a fine of ₹5 per day after the due date. The librarian wants a system where students can borrow, return books, and view their transaction history. The system should also calculate fines automatically for late returns and show a summary of borrowed books and fines when requested.\n",
        "\n",
        "Students will perform actions like borrowing a book, returning a book, or viewing account details. The librarian needs a detailed summary for each student, which includes the names of books currently borrowed and any accumulated fines. This system ensures that the borrowing process is streamlined and reduces manual work for the librarian.\n",
        "\n",
        "Each student interaction will include their name, roll number, and the action they want to perform. If a student returns a book, the system will check the duration for which the book was borrowed and calculate the fine if it exceeds the due date. The system will provide clear and concise feedback for every action.\n",
        "\n",
        "Input Format:   \n",
        "Student Name   \n",
        "Roll Number    \n",
        "Action to Perform:    \n",
        "1: Borrow a Book (requires book name).    \n",
        "2: Return a Book (requires book name and number of days borrowed).   \n",
        "3: View Account Details (displays borrowed books and fines).    \n",
        "\n",
        "Output Format:           \n",
        "Confirmation of actions (e.g., borrowed or returned books).      \n",
        "Fine calculation for late returns.     \n",
        "Detailed account summary including borrowed books and total fine.\n",
        "\n",
        "-----------------------------------------------\n",
        "\n",
        "Test Case 1:\n",
        "Input:  \n",
        "Alice  \n",
        "101  \n",
        "1  \n",
        "Pride and Prejudice  \n",
        "1  \n",
        "Harry Potter  \n",
        "2  \n",
        "Harry Potter  \n",
        "10  \n",
        "3  \n",
        "\n",
        "Output:\n",
        "Alice (Roll No: 101) borrowed \"Pride and Prejudice\".  \n",
        "Alice (Roll No: 101) borrowed \"Harry Potter\".  \n",
        "Alice (Roll No: 101) returned \"Harry Potter\" after 10 days.  \n",
        "Fine for \"Harry Potter\": ₹15.  \n",
        "Account Details:    \n",
        "Borrowed Books: Pride and Prejudice    \n",
        "Total Fine: ₹15    \n",
        "\n",
        "--------------------------------------------------\n",
        "\n",
        "Test Case 2:\n",
        "Input:   \n",
        "Bob  \n",
        "202  \n",
        "1  \n",
        "The Great Gatsby  \n",
        "1  \n",
        "1984  \n",
        "3  \n",
        "\n",
        "Output:\n",
        "Bob (Roll No: 202) borrowed \"The Great Gatsby\".  \n",
        "Bob (Roll No: 202) borrowed \"1984\".  \n",
        "Bob (Roll No: 202) viewed account details.  \n",
        "Account Details:  \n",
        "Borrowed Books: The Great Gatsby, 1984  \n",
        "Total Fine: ₹0"
      ],
      "metadata": {
        "id": "U3DO98U_8H2k"
      }
    },
    {
      "cell_type": "code",
      "source": [
        "#abstractmethod\n",
        "from abc import ABC, abstractmethod\n",
        "\n",
        "class Student(ABC):\n",
        "    def __init__(self, name, roll_no, fees):\n",
        "        self.name = name\n",
        "        self.roll_no = roll_no\n",
        "        self.__fees = fees\n",
        "        self.__fees_paid = 0\n",
        "\n",
        "    @abstractmethod\n",
        "    def pay_fees(self, amount):\n",
        "        pass\n",
        "\n",
        "    @abstractmethod\n",
        "    def display(self):\n",
        "        pass\n",
        "\n",
        "class Student1(Student):\n",
        "    def pay_fees(self, amount):\n",
        "        if 0 < amount <= self.__fees - self.__fees_paid:\n",
        "            self.__fees_paid += amount\n",
        "            print(f\"Paid: {amount}\")\n",
        "\n",
        "    def display(self):\n",
        "        print(f\"Name : {self.name}, Roll No : {self.roll_no}\")\n",
        "        print(f\"Total : {self.__fees}, Paid : {self.__fees_paid}, Remaining : {self.__fees - self.__fees_paid}\")\n",
        "\n",
        "student = Student1(\"DHEERAJ\", 32, 130000)\n",
        "student.display()\n",
        "student.pay_fees(20000)\n",
        "student.display()\n",
        "student.pay_fees(46000)\n",
        "student.display()"
      ],
      "metadata": {
        "colab": {
          "base_uri": "https://localhost:8080/",
          "height": 349
        },
        "id": "buUYt-ACCEL_",
        "outputId": "0a960b4f-e024-44d1-a9df-80d076cd5ae0"
      },
      "execution_count": null,
      "outputs": [
        {
          "output_type": "stream",
          "name": "stdout",
          "text": [
            "Name : DHEERAJ, Roll No : 32\n"
          ]
        },
        {
          "output_type": "error",
          "ename": "AttributeError",
          "evalue": "'Student1' object has no attribute '_Student1__fees'",
          "traceback": [
            "\u001b[0;31m---------------------------------------------------------------------------\u001b[0m",
            "\u001b[0;31mAttributeError\u001b[0m                            Traceback (most recent call last)",
            "\u001b[0;32m<ipython-input-70-991ade936d8c>\u001b[0m in \u001b[0;36m<cell line: 30>\u001b[0;34m()\u001b[0m\n\u001b[1;32m     28\u001b[0m \u001b[0;34m\u001b[0m\u001b[0m\n\u001b[1;32m     29\u001b[0m \u001b[0mstudent\u001b[0m \u001b[0;34m=\u001b[0m \u001b[0mStudent1\u001b[0m\u001b[0;34m(\u001b[0m\u001b[0;34m\"DHEERAJ\"\u001b[0m\u001b[0;34m,\u001b[0m \u001b[0;36m32\u001b[0m\u001b[0;34m,\u001b[0m \u001b[0;36m130000\u001b[0m\u001b[0;34m)\u001b[0m\u001b[0;34m\u001b[0m\u001b[0;34m\u001b[0m\u001b[0m\n\u001b[0;32m---> 30\u001b[0;31m \u001b[0mstudent\u001b[0m\u001b[0;34m.\u001b[0m\u001b[0mdisplay\u001b[0m\u001b[0;34m(\u001b[0m\u001b[0;34m)\u001b[0m\u001b[0;34m\u001b[0m\u001b[0;34m\u001b[0m\u001b[0m\n\u001b[0m\u001b[1;32m     31\u001b[0m \u001b[0mstudent\u001b[0m\u001b[0;34m.\u001b[0m\u001b[0mpay_fees\u001b[0m\u001b[0;34m(\u001b[0m\u001b[0;36m20000\u001b[0m\u001b[0;34m)\u001b[0m\u001b[0;34m\u001b[0m\u001b[0;34m\u001b[0m\u001b[0m\n\u001b[1;32m     32\u001b[0m \u001b[0mstudent\u001b[0m\u001b[0;34m.\u001b[0m\u001b[0mdisplay\u001b[0m\u001b[0;34m(\u001b[0m\u001b[0;34m)\u001b[0m\u001b[0;34m\u001b[0m\u001b[0;34m\u001b[0m\u001b[0m\n",
            "\u001b[0;32m<ipython-input-70-991ade936d8c>\u001b[0m in \u001b[0;36mdisplay\u001b[0;34m(self)\u001b[0m\n\u001b[1;32m     25\u001b[0m     \u001b[0;32mdef\u001b[0m \u001b[0mdisplay\u001b[0m\u001b[0;34m(\u001b[0m\u001b[0mself\u001b[0m\u001b[0;34m)\u001b[0m\u001b[0;34m:\u001b[0m\u001b[0;34m\u001b[0m\u001b[0;34m\u001b[0m\u001b[0m\n\u001b[1;32m     26\u001b[0m         \u001b[0mprint\u001b[0m\u001b[0;34m(\u001b[0m\u001b[0;34mf\"Name : {self.name}, Roll No : {self.roll_no}\"\u001b[0m\u001b[0;34m)\u001b[0m\u001b[0;34m\u001b[0m\u001b[0;34m\u001b[0m\u001b[0m\n\u001b[0;32m---> 27\u001b[0;31m         \u001b[0mprint\u001b[0m\u001b[0;34m(\u001b[0m\u001b[0;34mf\"Total : {self.__fees}, Paid : {self.__fees_paid}, Remaining : {self.__fees - self.__fees_paid}\"\u001b[0m\u001b[0;34m)\u001b[0m\u001b[0;34m\u001b[0m\u001b[0;34m\u001b[0m\u001b[0m\n\u001b[0m\u001b[1;32m     28\u001b[0m \u001b[0;34m\u001b[0m\u001b[0m\n\u001b[1;32m     29\u001b[0m \u001b[0mstudent\u001b[0m \u001b[0;34m=\u001b[0m \u001b[0mStudent1\u001b[0m\u001b[0;34m(\u001b[0m\u001b[0;34m\"DHEERAJ\"\u001b[0m\u001b[0;34m,\u001b[0m \u001b[0;36m32\u001b[0m\u001b[0;34m,\u001b[0m \u001b[0;36m130000\u001b[0m\u001b[0;34m)\u001b[0m\u001b[0;34m\u001b[0m\u001b[0;34m\u001b[0m\u001b[0m\n",
            "\u001b[0;31mAttributeError\u001b[0m: 'Student1' object has no attribute '_Student1__fees'"
          ]
        }
      ]
    },
    {
      "cell_type": "code",
      "source": [
        "# prompt: **02**\n",
        "# A university library needs an efficient way to track book transactions. Each student can borrow up to 3 books at a time, and they must return the books within 7 days. Late returns are charged a fine of ₹5 per day after the due date. The librarian wants a system where students can borrow, return books, and view their transaction history. The system should also calculate fines automatically for late returns and show a summary of borrowed books and fines when requested.\n",
        "# Students will perform actions like borrowing a book, returning a book, or viewing account details. The librarian needs a detailed summary for each student, which includes the names of books currently borrowed and any accumulated fines. This system ensures that the borrowing process is streamlined and reduces manual work for the librarian.\n",
        "# Each student interaction will include their name, roll number, and the action they want to perform. If a student returns a book, the system will check the duration for which the book was borrowed and calculate the fine if it exceeds the due date. The system will provide clear and concise feedback for every action.\n",
        "# Input Format:\n",
        "# Student Name\n",
        "# Roll Number\n",
        "# Action to Perform:\n",
        "# 1: Borrow a Book (requires book name).\n",
        "# 2: Return a Book (requires book name and number of days borrowed).\n",
        "# 3: View Account Details (displays borrowed books and fines).\n",
        "# Output Format:\n",
        "# Confirmation of actions (e.g., borrowed or returned books).\n",
        "# Fine calculation for late returns.\n",
        "# Detailed account summary including borrowed books and total fine.\n",
        "# -----------------------------------------------\n",
        "# Test Case 1:\n",
        "# Input:\n",
        "# Alice\n",
        "# 101\n",
        "# 1\n",
        "# Pride and Prejudice\n",
        "# 1\n",
        "# Harry Potter\n",
        "# 2\n",
        "# Harry Potter\n",
        "# 10\n",
        "# 3\n",
        "# Output:\n",
        "# Alice (Roll No: 101) borrowed \"Pride and Prejudice\".\n",
        "# Alice (Roll No: 101) borrowed \"Harry Potter\".\n",
        "# Alice (Roll No: 101) returned \"Harry Potter\" after 10 days.\n",
        "# Fine for \"Harry Potter\": ₹15.\n",
        "# Account Details:\n",
        "# Borrowed Books: Pride\n",
        "\n",
        "class Library:\n",
        "    def __init__(self):\n",
        "        self.borrowed_books = {}\n",
        "        self.fines = {}\n",
        "\n",
        "    def borrow_book(self, student_name, roll_number, book_name):\n",
        "        if roll_number not in self.borrowed_books:\n",
        "            self.borrowed_books[roll_number] = []\n",
        "        if len(self.borrowed_books[roll_number]) < 3:\n",
        "            self.borrowed_books[roll_number].append(book_name)\n",
        "            print(f\"{student_name} (Roll No: {roll_number}) borrowed \\\"{book_name}\\\".\")\n",
        "        else:\n",
        "            print(f\"{student_name} (Roll No: {roll_number}) cannot borrow more than 3 books.\")\n",
        "\n",
        "    def return_book(self, student_name, roll_number, book_name, days_borrowed):\n",
        "        if roll_number in self.borrowed_books and book_name in self.borrowed_books[roll_number]:\n",
        "            self.borrowed_books[roll_number].remove(book_name)\n",
        "            fine = 0\n",
        "            if days_borrowed > 7:\n",
        "                fine = (days_borrowed - 7) * 5\n",
        "                if roll_number not in self.fines:\n",
        "                    self.fines[roll_number] = 0\n",
        "                self.fines[roll_number] += fine\n",
        "            print(f\"{student_name} (Roll No: {roll_number}) returned \\\"{book_name}\\\" after {days_borrowed} days.\")\n",
        "            if fine > 0:\n",
        "                print(f\"Fine for \\\"{book_name}\\\": ₹{fine}\")\n",
        "        else:\n",
        "            print(f\"{student_name} (Roll No: {roll_number}) did not borrow \\\"{book_name}\\\".\")\n",
        "\n",
        "    def view_account_details(self, student_name, roll_number):\n",
        "        borrowed_books_str = \", \".join(self.borrowed_books.get(roll_number, []))\n",
        "        total_fine = self.fines.get(roll_number, 0)\n",
        "        print(\"Account Details:\")\n",
        "        print(f\"Borrowed Books: {borrowed_books_str}\")\n",
        "        print(f\"Total Fine: ₹{total_fine}\")\n",
        "\n",
        "\n",
        "library = Library()\n",
        "\n",
        "student_name = input()\n",
        "roll_number = int(input())\n",
        "\n",
        "while True:\n",
        "    action = int(input())\n",
        "    if action == 1:\n",
        "        book_name = input()\n",
        "        library.borrow_book(student_name, roll_number, book_name)\n",
        "    elif action == 2:\n",
        "        book_name = input()\n",
        "        days_borrowed = int(input())\n",
        "        library.return_book(student_name, roll_number, book_name, days_borrowed)\n",
        "    elif action == 3:\n",
        "        library.view_account_details(student_name, roll_number)\n",
        "        break\n",
        "    else:\n",
        "        print(\"Invalid action.\")\n",
        "        break"
      ],
      "metadata": {
        "colab": {
          "base_uri": "https://localhost:8080/",
          "height": 356
        },
        "id": "IYnxCOdP8r0d",
        "outputId": "a9a8e3c6-d825-4487-b52f-40309d96cd01"
      },
      "execution_count": null,
      "outputs": [
        {
          "output_type": "error",
          "ename": "KeyboardInterrupt",
          "evalue": "Interrupted by user",
          "traceback": [
            "\u001b[0;31m---------------------------------------------------------------------------\u001b[0m",
            "\u001b[0;31mKeyboardInterrupt\u001b[0m                         Traceback (most recent call last)",
            "\u001b[0;32m<ipython-input-66-647f7edb6f6e>\u001b[0m in \u001b[0;36m<cell line: 76>\u001b[0;34m()\u001b[0m\n\u001b[1;32m     74\u001b[0m \u001b[0mlibrary\u001b[0m \u001b[0;34m=\u001b[0m \u001b[0mLibrary\u001b[0m\u001b[0;34m(\u001b[0m\u001b[0;34m)\u001b[0m\u001b[0;34m\u001b[0m\u001b[0;34m\u001b[0m\u001b[0m\n\u001b[1;32m     75\u001b[0m \u001b[0;34m\u001b[0m\u001b[0m\n\u001b[0;32m---> 76\u001b[0;31m \u001b[0mstudent_name\u001b[0m \u001b[0;34m=\u001b[0m \u001b[0minput\u001b[0m\u001b[0;34m(\u001b[0m\u001b[0;34m)\u001b[0m\u001b[0;34m\u001b[0m\u001b[0;34m\u001b[0m\u001b[0m\n\u001b[0m\u001b[1;32m     77\u001b[0m \u001b[0mroll_number\u001b[0m \u001b[0;34m=\u001b[0m \u001b[0mint\u001b[0m\u001b[0;34m(\u001b[0m\u001b[0minput\u001b[0m\u001b[0;34m(\u001b[0m\u001b[0;34m)\u001b[0m\u001b[0;34m)\u001b[0m\u001b[0;34m\u001b[0m\u001b[0;34m\u001b[0m\u001b[0m\n\u001b[1;32m     78\u001b[0m \u001b[0;34m\u001b[0m\u001b[0m\n",
            "\u001b[0;32m/usr/local/lib/python3.10/dist-packages/ipykernel/kernelbase.py\u001b[0m in \u001b[0;36mraw_input\u001b[0;34m(self, prompt)\u001b[0m\n\u001b[1;32m    849\u001b[0m                 \u001b[0;34m\"raw_input was called, but this frontend does not support input requests.\"\u001b[0m\u001b[0;34m\u001b[0m\u001b[0;34m\u001b[0m\u001b[0m\n\u001b[1;32m    850\u001b[0m             )\n\u001b[0;32m--> 851\u001b[0;31m         return self._input_request(str(prompt),\n\u001b[0m\u001b[1;32m    852\u001b[0m             \u001b[0mself\u001b[0m\u001b[0;34m.\u001b[0m\u001b[0m_parent_ident\u001b[0m\u001b[0;34m,\u001b[0m\u001b[0;34m\u001b[0m\u001b[0;34m\u001b[0m\u001b[0m\n\u001b[1;32m    853\u001b[0m             \u001b[0mself\u001b[0m\u001b[0;34m.\u001b[0m\u001b[0m_parent_header\u001b[0m\u001b[0;34m,\u001b[0m\u001b[0;34m\u001b[0m\u001b[0;34m\u001b[0m\u001b[0m\n",
            "\u001b[0;32m/usr/local/lib/python3.10/dist-packages/ipykernel/kernelbase.py\u001b[0m in \u001b[0;36m_input_request\u001b[0;34m(self, prompt, ident, parent, password)\u001b[0m\n\u001b[1;32m    893\u001b[0m             \u001b[0;32mexcept\u001b[0m \u001b[0mKeyboardInterrupt\u001b[0m\u001b[0;34m:\u001b[0m\u001b[0;34m\u001b[0m\u001b[0;34m\u001b[0m\u001b[0m\n\u001b[1;32m    894\u001b[0m                 \u001b[0;31m# re-raise KeyboardInterrupt, to truncate traceback\u001b[0m\u001b[0;34m\u001b[0m\u001b[0;34m\u001b[0m\u001b[0m\n\u001b[0;32m--> 895\u001b[0;31m                 \u001b[0;32mraise\u001b[0m \u001b[0mKeyboardInterrupt\u001b[0m\u001b[0;34m(\u001b[0m\u001b[0;34m\"Interrupted by user\"\u001b[0m\u001b[0;34m)\u001b[0m \u001b[0;32mfrom\u001b[0m \u001b[0;32mNone\u001b[0m\u001b[0;34m\u001b[0m\u001b[0;34m\u001b[0m\u001b[0m\n\u001b[0m\u001b[1;32m    896\u001b[0m             \u001b[0;32mexcept\u001b[0m \u001b[0mException\u001b[0m \u001b[0;32mas\u001b[0m \u001b[0me\u001b[0m\u001b[0;34m:\u001b[0m\u001b[0;34m\u001b[0m\u001b[0;34m\u001b[0m\u001b[0m\n\u001b[1;32m    897\u001b[0m                 \u001b[0mself\u001b[0m\u001b[0;34m.\u001b[0m\u001b[0mlog\u001b[0m\u001b[0;34m.\u001b[0m\u001b[0mwarning\u001b[0m\u001b[0;34m(\u001b[0m\u001b[0;34m\"Invalid Message:\"\u001b[0m\u001b[0;34m,\u001b[0m \u001b[0mexc_info\u001b[0m\u001b[0;34m=\u001b[0m\u001b[0;32mTrue\u001b[0m\u001b[0;34m)\u001b[0m\u001b[0;34m\u001b[0m\u001b[0;34m\u001b[0m\u001b[0m\n",
            "\u001b[0;31mKeyboardInterrupt\u001b[0m: Interrupted by user"
          ]
        }
      ]
    },
    {
      "cell_type": "markdown",
      "source": [
        "#Day-09 ---------26/12/24"
      ],
      "metadata": {
        "id": "b_GPyYfqFRQI"
      }
    },
    {
      "cell_type": "markdown",
      "source": [
        "linkedlist\n"
      ],
      "metadata": {
        "id": "ERH8zdSfFY5f"
      }
    },
    {
      "cell_type": "code",
      "source": [
        "class Node:\n",
        "    def __init__(self,data):\n",
        "        self.data=data\n",
        "        self.next=None\n",
        "class LinkedList:\n",
        "    def __init__(self):\n",
        "        self.head=None\n",
        "\n",
        "    def append(self,data):\n",
        "        new_node=Node(data)\n",
        "        if not self.head:\n",
        "            self.head=new_node\n",
        "        else:\n",
        "            current=self.head\n",
        "            while current.next:\n",
        "                current=current.next\n",
        "            current.next=new_node\n",
        "    def display(self):\n",
        "        if not self.head:\n",
        "            print(\"The list is empty\")\n",
        "        nodes=[]\n",
        "        current=self.head\n",
        "        while current:\n",
        "            nodes.append(str(current.data))\n",
        "            current=current.next\n",
        "        print(\"-> \".join(nodes))\n",
        "l=LinkedList()\n",
        "l.append('a')\n",
        "l.append(10)\n",
        "l.append(10.345)\n",
        "l.display()"
      ],
      "metadata": {
        "colab": {
          "base_uri": "https://localhost:8080/"
        },
        "id": "j0xeO6RfU0di",
        "outputId": "98bc449c-dffc-4fcc-9478-3b956e52d528"
      },
      "execution_count": null,
      "outputs": [
        {
          "output_type": "stream",
          "name": "stdout",
          "text": [
            "a-> 10-> 10.345\n"
          ]
        }
      ]
    },
    {
      "cell_type": "code",
      "source": [
        "class Node:\n",
        "    def __init__(self,data):\n",
        "        self.data=data\n",
        "        self.next=None\n",
        "class LinkedList:\n",
        "    def __init__(self):\n",
        "        self.head=None\n",
        "\n",
        "    def append(self,data):\n",
        "        new_node=Node(data)\n",
        "        if not self.head:\n",
        "            self.head=new_node\n",
        "        else:\n",
        "            current=self.head\n",
        "            while current.next:\n",
        "                current=current.next\n",
        "            current.next=new_node\n",
        "    def display(self):\n",
        "        if not self.head:\n",
        "            print(\"The list is empty\")\n",
        "        nodes=[]\n",
        "        current=self.head\n",
        "        while current:\n",
        "            nodes.append(str(current.data))\n",
        "            current=current.next\n",
        "        print(\"-> \".join(nodes))\n",
        "\n",
        "l=LinkedList()\n",
        "n=int(input())\n",
        "for i in range(n):\n",
        "    data=input()\n",
        "    l.append(data)\n",
        "l.display()"
      ],
      "metadata": {
        "colab": {
          "base_uri": "https://localhost:8080/"
        },
        "id": "lEoezw7wbLeJ",
        "outputId": "07075fcb-769a-41df-a4d7-a2c217129e4a"
      },
      "execution_count": null,
      "outputs": [
        {
          "output_type": "stream",
          "name": "stdout",
          "text": [
            "3\n",
            "nikhi\n",
            "tdfw\n",
            "525.0\n",
            "nikhi-> tdfw-> 525.0\n"
          ]
        }
      ]
    },
    {
      "cell_type": "code",
      "source": [
        "class Node:\n",
        "    def __init__(self,data):\n",
        "        self.data=data\n",
        "        self.next=None\n",
        "class LinkedList:\n",
        "    def __init__(self):\n",
        "        self.head=None\n",
        "\n",
        "    def append(self,data):\n",
        "        new_node=Node(data)\n",
        "        if not self.head:\n",
        "            self.head=new_node\n",
        "        else:\n",
        "            current=self.head\n",
        "            while current.next:\n",
        "                current=current.next\n",
        "            current.next=new_node\n",
        "    def insert_at_beginning(self, data):\n",
        "        new_node = Node(data)\n",
        "        new_node.next = self.head\n",
        "        self.head = new_node\n",
        "\n",
        "    # def insert_at_beginning(self,data):\n",
        "    #     new_node=Node(data)\n",
        "    #     new_node.next=self.head\n",
        "    #     self.head=new_node\n",
        "\n",
        "    def delete(self, data):\n",
        "        if not self.head:\n",
        "            print(\"List is empty.\")\n",
        "            return\n",
        "        if self.head.data == data:\n",
        "            self.head = self.head.next\n",
        "            return\n",
        "        current = self.head\n",
        "        while current.next and current.next.data != data:\n",
        "            current = current.next\n",
        "        if current.next:\n",
        "            current.next = current.next.next\n",
        "        else:\n",
        "            print(\"Node not found.\")\n",
        "    def display(self):\n",
        "        if not self.head:\n",
        "            print(\"The list is empty\")\n",
        "        nodes=[]\n",
        "        current=self.head\n",
        "        while current:\n",
        "            nodes.append(str(current.data))\n",
        "            current=current.next\n",
        "        print(\"-> \".join(nodes))\n",
        "def user_interface():\n",
        "    ll = LinkedList()\n",
        "    while True:\n",
        "        print(\"\\nChoose an option:\")\n",
        "        print(\"1. Append an element\")\n",
        "        print(\"2. Insert at the beginning\")\n",
        "        print(\"3. Delete an element\")\n",
        "        print(\"4. Display the list\")\n",
        "        print(\"5. Exit\")\n",
        "        choice = input(\"Enter your choice: \")\n",
        "\n",
        "        if choice == \"1\":\n",
        "            data =input(\"Enter the element to append: \")\n",
        "            ll.append(data)\n",
        "        elif choice == \"2\":\n",
        "            data = int(input(\"Enter the element to insert at the beginning: \"))\n",
        "            ll.insert_at_beginning(data)\n",
        "        elif choice == \"3\":\n",
        "            data = int(input(\"Enter the element to delete: \"))\n",
        "            ll.delete(data)\n",
        "        elif choice == \"4\":\n",
        "            print(\"Current list:\")\n",
        "            ll.display()\n",
        "        elif choice == \"5\":\n",
        "            print(\"Exiting...\")\n",
        "            break\n",
        "        else:\n",
        "            print(\"Invalid choice. Please try again.\")\n",
        "\n",
        "user_interface()"
      ],
      "metadata": {
        "colab": {
          "base_uri": "https://localhost:8080/"
        },
        "id": "A_WmQNhhgbF8",
        "outputId": "bd9b0a99-dfcb-4316-be28-de86781731e8"
      },
      "execution_count": null,
      "outputs": [
        {
          "output_type": "stream",
          "name": "stdout",
          "text": [
            "\n",
            "Choose an option:\n",
            "1. Append an element\n",
            "2. Insert at the beginning\n",
            "3. Delete an element\n",
            "4. Display the list\n",
            "5. Exit\n",
            "Enter your choice: 1\n",
            "Enter the element to append: ram\n",
            "\n",
            "Choose an option:\n",
            "1. Append an element\n",
            "2. Insert at the beginning\n",
            "3. Delete an element\n",
            "4. Display the list\n",
            "5. Exit\n",
            "Enter your choice: 2\n",
            "Enter the element to insert at the beginning: 258\n",
            "\n",
            "Choose an option:\n",
            "1. Append an element\n",
            "2. Insert at the beginning\n",
            "3. Delete an element\n",
            "4. Display the list\n",
            "5. Exit\n",
            "Enter your choice: 1\n",
            "Enter the element to append: 2\n",
            "\n",
            "Choose an option:\n",
            "1. Append an element\n",
            "2. Insert at the beginning\n",
            "3. Delete an element\n",
            "4. Display the list\n",
            "5. Exit\n",
            "Enter your choice: 1\n",
            "Enter the element to append: gg\n",
            "\n",
            "Choose an option:\n",
            "1. Append an element\n",
            "2. Insert at the beginning\n",
            "3. Delete an element\n",
            "4. Display the list\n",
            "5. Exit\n",
            "Enter your choice: 1\n",
            "Enter the element to append: 63\n",
            "\n",
            "Choose an option:\n",
            "1. Append an element\n",
            "2. Insert at the beginning\n",
            "3. Delete an element\n",
            "4. Display the list\n",
            "5. Exit\n",
            "Enter your choice: 4\n",
            "Current list:\n",
            "258-> ram-> 2-> gg-> 63\n",
            "\n",
            "Choose an option:\n",
            "1. Append an element\n",
            "2. Insert at the beginning\n",
            "3. Delete an element\n",
            "4. Display the list\n",
            "5. Exit\n",
            "Enter your choice: 1\n",
            "Enter the element to append: 5\n",
            "\n",
            "Choose an option:\n",
            "1. Append an element\n",
            "2. Insert at the beginning\n",
            "3. Delete an element\n",
            "4. Display the list\n",
            "5. Exit\n",
            "Enter your choice: 3\n",
            "Enter the element to delete: 2\n",
            "Node not found.\n",
            "\n",
            "Choose an option:\n",
            "1. Append an element\n",
            "2. Insert at the beginning\n",
            "3. Delete an element\n",
            "4. Display the list\n",
            "5. Exit\n",
            "Enter your choice: 4\n",
            "Current list:\n",
            "258-> ram-> 2-> gg-> 63-> 5\n",
            "\n",
            "Choose an option:\n",
            "1. Append an element\n",
            "2. Insert at the beginning\n",
            "3. Delete an element\n",
            "4. Display the list\n",
            "5. Exit\n",
            "Enter your choice: 5\n",
            "Exiting...\n"
          ]
        }
      ]
    },
    {
      "cell_type": "code",
      "source": [
        "class Node:\n",
        "    def __init__(self,data):\n",
        "        self.data=data\n",
        "        self.next=None\n",
        "class Stack:\n",
        "    def __init__(self):\n",
        "        self.top=None\n",
        "    def push(self,data):\n",
        "        new_node=Node(data)\n",
        "        new_node.next=self.top\n",
        "        self.top=new_node\n",
        "\n",
        "    def display(self):\n",
        "        if not self.top:\n",
        "            print(\"Stack is empty\")\n",
        "            return\n",
        "\n",
        "        nodes=[]\n",
        "        current=self.top\n",
        "        while current:\n",
        "            nodes.append(str(current.data))\n",
        "            current=current.next\n",
        "        print(\"-> \".join(nodes))\n",
        "\n",
        "    def pop(self):\n",
        "        if not self.top:\n",
        "            print(\"Stack is empty\")\n",
        "            return\n",
        "        popped_data=self.top.data\n",
        "        self.top=self.top.next\n",
        "        return popped_data\n",
        "\n",
        "stack=Stack()\n",
        "stack.push(30)\n",
        "stack.push(20)\n",
        "stack.push(100)\n",
        "stack.pop()\n",
        "stack.display()"
      ],
      "metadata": {
        "colab": {
          "base_uri": "https://localhost:8080/"
        },
        "id": "P61-2hTjmfBm",
        "outputId": "efb21a40-b7a4-460c-c127-4bb1d3b363e2"
      },
      "execution_count": null,
      "outputs": [
        {
          "output_type": "stream",
          "name": "stdout",
          "text": [
            "20-> 30\n"
          ]
        }
      ]
    },
    {
      "cell_type": "code",
      "source": [
        " class Node:\n",
        "    def __init__(self,data):\n",
        "        self.data=data\n",
        "        self.next=None\n",
        "class Stack:\n",
        "    def __init__(self):\n",
        "        self.top=None\n",
        "    def push(self,data):\n",
        "        new_node=Node(data)\n",
        "        new_node.next=self.top\n",
        "        self.top=new_node\n",
        "\n",
        "    def display(self):\n",
        "        if not self.top:\n",
        "            print(\"Stack is empty\")\n",
        "            return\n",
        "\n",
        "        nodes=[]\n",
        "        current=self.top\n",
        "        while current:\n",
        "            nodes.append(str(current.data))\n",
        "            current=current.next\n",
        "        print(\"-> \".join(nodes))\n",
        "\n",
        "    def pop(self):\n",
        "        if not self.top:\n",
        "            print(\"Stack is empty\")\n",
        "            return\n",
        "        popped_data=self.top.data\n",
        "        self.top=self.top.next\n",
        "        return popped_data\n",
        "\n",
        "    def peek(self):\n",
        "        if not self.top:\n",
        "            print(\"Stack is Empty\")\n",
        "            return None\n",
        "        return self.top.data\n",
        "    def is_empty(self):\n",
        "        return self.top is None\n",
        "stack=Stack()\n",
        "stack.push(30)\n",
        "stack.push(20)\n",
        "stack.push(100)\n",
        "stack.pop()\n",
        "stack.pop()\n",
        "# stack.pop()\n",
        "print(\"Peek Element :\",stack.peek())\n",
        "print(\"Stack is Empty ? \",stack.is_empty())\n",
        "stack.display()"
      ],
      "metadata": {
        "colab": {
          "base_uri": "https://localhost:8080/"
        },
        "id": "8wCfxkLxAVKH",
        "outputId": "2cd21c8f-d149-4c4c-ee57-eccb4a7367d2"
      },
      "execution_count": null,
      "outputs": [
        {
          "output_type": "stream",
          "name": "stdout",
          "text": [
            "Peek Element : 30\n",
            "Stack is Empty ?  False\n",
            "30\n"
          ]
        }
      ]
    },
    {
      "cell_type": "markdown",
      "source": [
        "#Day-10 ----27/12/24"
      ],
      "metadata": {
        "id": "Y1CbI-n7Mev0"
      }
    },
    {
      "cell_type": "markdown",
      "source": [
        "**01**   \n",
        "A Robot wants to move through a cave grid of size M x N. (M- Rows N- Columns). It starts from (0,0) and destination is (M-1,N-1). It can only move right or down. Calculate the total number of ways robot can reach the destination.\n",
        "\n",
        "Sample input 1:   \n",
        "2 2    \n",
        "Sample Output 1:    \n",
        "2                \n",
        "\n",
        "Sample input 2:    \n",
        "3 3      \n",
        "Sample Output 2:     \n",
        "\n",
        "Sample input 3:     \n",
        "5 5      \n",
        "Sample Output 3:     \n",
        "70"
      ],
      "metadata": {
        "id": "WdBHeU5SMkN7"
      }
    },
    {
      "cell_type": "code",
      "source": [],
      "metadata": {
        "id": "7-qaklslZ1Ss"
      },
      "execution_count": null,
      "outputs": []
    },
    {
      "cell_type": "markdown",
      "source": [
        "**02**   \n",
        "In this lockdown a family of N members decided to play a game the rules of which are :-\n",
        "=>All N members are made to sit uniformly in a circle (ie. from 1 to N in clockwise direction).\n",
        "The game start with the person sitting at first position.\n",
        "A song is played in the background. The lyrics of the song are denoted by a string which consists of only letters 'x' and 'y'. Assume that each lyric of the song is a single letter.\n",
        "\n",
        "=>If the lyric 'x' occurs in the song, the member who is currently holding the Parcel passes it on to the next member. This passing takes place in clockwise direction.\n",
        "\n",
        "=>If the lyric 'y' occurs in the song, the member who is currently holding the Parcel loses his/her chances of winning the game. He/she hands over the parcel to the next member (in clockwise direction) and moves out.    \n",
        "\n",
        "=>The game continues until a single member survives in the end. He/she will be the winner of the game.     \n",
        "Note that the song repeats continuously ie. while the game is going on, if at all the song ends, the stereo system will automatically start playing the song from the start without any delay.      \n",
        "You have to find out the member who wins the game.    \n",
        "  \n",
        "Input :    \n",
        "The input consists of 2 lines. The first line consists of N, the member of family in the class. The next line consists of a string denoting the lyrics of the song the teacher plays.    \n",
        "Output:    \n",
        "Print a single integer denoting the roll number of the student who wins the game.       \n",
        "\n",
        "Constraints:  \n",
        "2≤N≤100000      \n",
        "1≤|S|≤10000, where |S| denotes the length of the input string. It is guaranteed that at least 1 lyric in the song will be a 'y'    \n",
        "Note: Copy and paste is disabled for all the questions. Try not to use other ideas.\n",
        "\n",
        "Sample input:   \n",
        "3   \n",
        "xyx   \n",
        "\n",
        "Sample output:    \n",
        "1    \n",
        "Explanation: Starting from 1 lyrics : 'x' therefore he passes the ballto 2nd     \n",
        "2nd turn lyrics : 'y' therefore 2nd member gets out of game and passes to 3rd   \n",
        "3rd turn lyrics : 'x' therefore 3rd passes ball to first.     \n",
        "4th turn lyrics : 'x' passes to 3rd           \n",
        "5th turn lyrics: 'y' therefore gets eliminated.      \n",
        "Hence person sitting at position 1 won this game.           "
      ],
      "metadata": {
        "id": "8T-551IgZ1w3"
      }
    },
    {
      "cell_type": "code",
      "source": [],
      "metadata": {
        "id": "vr_GMqgXcrCM"
      },
      "execution_count": null,
      "outputs": []
    }
  ]
}