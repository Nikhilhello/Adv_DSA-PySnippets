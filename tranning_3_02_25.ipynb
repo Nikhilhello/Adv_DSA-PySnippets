{
  "nbformat": 4,
  "nbformat_minor": 0,
  "metadata": {
    "colab": {
      "provenance": [],
      "collapsed_sections": [
        "WQm9VEssYSAE",
        "cxqvoZzXBpxl",
        "bu0WZiNrSFOU",
        "ryTbgZeoBV9G",
        "sZod6r2THYYa",
        "3tPqZ4rQH6CY",
        "GGVvCPuLQONO",
        "Frysc9hGcnM0",
        "dm4YxWUxVX_C",
        "I7dF_MLYk6vc"
      ]
    },
    "kernelspec": {
      "name": "python3",
      "display_name": "Python 3"
    },
    "language_info": {
      "name": "python"
    }
  },
  "cells": [
    {
      "cell_type": "markdown",
      "source": [
        "#29/01/25\n",
        "\n",
        "----time complexity calculation-----\n",
        "frequency count refer to how many times a statement is executed in the program.\n",
        "some key rules for counting steps:\n",
        "1.comments and declaration have a frequency count of 0.\n",
        "2.assignment,return statement ,and simple operations have a frequency count of 1.\n",
        "3.lower-order terms are ignored when higher-order terms are present.\n",
        "4.countant multiplies are ignored.\n",
        "\n",
        "def sum(n):           #0\n",
        "s=0\t\t                 #1\n",
        "for i in range(1,n+1)  #(n+1)\n",
        "s+=i**3               #n\n",
        "return s              #1\n",
        "\t                   --------\n",
        "\t\t                 2n+3\n",
        "\n",
        "\n",
        "\n",
        "\n",
        "def print_num(n):        #0\n",
        "for i in range(1,n+1)   #(n+1)\n",
        "print(i)\t               #n\n",
        "\t\t                   --------\n",
        "\t\t                     2n+1\n",
        "\t\t                     O(n)  "
      ],
      "metadata": {
        "id": "LqRVPY9HPoh8"
      }
    },
    {
      "cell_type": "markdown",
      "source": [
        "#3/02/25 ------------monday\n"
      ],
      "metadata": {
        "id": "WQm9VEssYSAE"
      }
    },
    {
      "cell_type": "code",
      "source": [
        "# class,object,medthod,attribute(class variable,)"
      ],
      "metadata": {
        "id": "nwZpYwGO9eOJ"
      },
      "execution_count": null,
      "outputs": []
    },
    {
      "cell_type": "code",
      "execution_count": null,
      "metadata": {
        "colab": {
          "base_uri": "https://localhost:8080/"
        },
        "id": "R5cdS7Hn85kk",
        "outputId": "09e97fa6-97d5-4f35-8d82-2d5b1dfaa6e1"
      },
      "outputs": [
        {
          "output_type": "stream",
          "name": "stdout",
          "text": [
            "name:  nikhil\n",
            "age:  20\n",
            "marks:  84.5\n",
            "SRU\n",
            "SRU\n",
            "object deleted\n"
          ]
        }
      ],
      "source": [
        "class student:\n",
        "  clg=\"SRU\"  #class variable\n",
        "  def __init__(self,name,age): #defult counstructer\n",
        "    self.name=name #instance variable\n",
        "    self.age=age\n",
        "  def data(self,marks): #method\n",
        "    self.marks=marks\n",
        "  def display(self):      #method\n",
        "    print(\"name: \",self.name)\n",
        "    print(\"age: \",self.age)\n",
        "    print(\"marks: \",self.marks)\n",
        "  def __del__(self):      #distructor\n",
        "    print(\"object deleted\")\n",
        "\n",
        "s1=student(\"nikhil\",20)  #obj creation\n",
        "s1.data(84.5)\n",
        "s1.display()\n",
        "print(s1.clg) #using obj referance to access the clg name //class variable\n",
        "print(student.clg) #using class name to access the clg name // class variable\n",
        "del s1  # dekete the obj\n",
        "# s1.display()    #you will get error"
      ]
    },
    {
      "cell_type": "markdown",
      "source": [
        "#Linked list"
      ],
      "metadata": {
        "id": "cxqvoZzXBpxl"
      }
    },
    {
      "cell_type": "markdown",
      "source": [
        "alogrithm\n",
        "\n",
        "1.intiaize: set Temp=head        \n",
        "2.if Head==None     \n",
        "        print\"linkedlist is empty\",exit\n",
        "2. repeat while Temp is not None:\n",
        "            print Temp.value\n",
        "            set Temp=Temp.next\n",
        "3.exit."
      ],
      "metadata": {
        "id": "FvqEzlPwGuo-"
      }
    },
    {
      "cell_type": "code",
      "source": [
        "class node:\n",
        "  def __init__(self,data):\n",
        "    self.data=data\n",
        "    self.link=None                #--creation of node\n",
        "\n",
        "class linkedlist:\n",
        "  def __init__(self):\n",
        "    self.head=None\n",
        "  def traversal(self):\n",
        "    if self.head is None:\n",
        "      print(\"list is empty\")\n",
        "      return\n",
        "    temp=self.head\n",
        "    while temp:\n",
        "      print(temp.data,end=\"-->\")\n",
        "      temp=temp.link\n",
        "\n",
        "\n",
        "#---------------------------------\n",
        "obj1=linkedlist()\n",
        "obj1.traversal()    #--empty\n",
        "\n",
        "# obj1.head=node(10)\n",
        "# obj1.head.link=node(20)\n",
        "# obj1.head.link.link=node(30)\n",
        "# obj1.traversal()\n"
      ],
      "metadata": {
        "colab": {
          "base_uri": "https://localhost:8080/"
        },
        "id": "pSgTFW5YBvrV",
        "outputId": "6e366578-ecd8-4d5f-d034-abbbc6b738f2"
      },
      "execution_count": null,
      "outputs": [
        {
          "output_type": "stream",
          "name": "stdout",
          "text": [
            "list is empty\n"
          ]
        }
      ]
    },
    {
      "cell_type": "markdown",
      "source": [
        "**Insert nobe at beginning**\n",
        "\n",
        "1.create a Newnode    \n",
        "   Set NewNodwe.data=VAlue   \n",
        "   set newNode.link=NOne     \n",
        "2.if Head==NOne      \n",
        "    set Head=NewNode   \n",
        "    exit     \n",
        "3.set NewNOde.link=head       \n",
        "  set Head=NewNode    \n",
        "4.exit   \n",
        "\n"
      ],
      "metadata": {
        "id": "Lx0uqnz_KCHd"
      }
    },
    {
      "cell_type": "code",
      "source": [
        "class node:\n",
        "  def __init__(self,data):\n",
        "    self.data=data\n",
        "    self.link=None                #--creation of node\n",
        "\n",
        "class linkedlist:\n",
        "  def __init__(self):\n",
        "    self.head=None\n",
        "  def traversal(self):\n",
        "    if self.head is None:\n",
        "      print(\"list is empty\")\n",
        "      return\n",
        "    temp=self.head\n",
        "    while temp:\n",
        "      print(temp.data,end=\"-->\")\n",
        "      temp=temp.link\n",
        "      #----------------------------------------------------\n",
        "    print(\"Null\")\n",
        "\n",
        "\n",
        "  def insert_at_beg(self,data):                           #insert_at_beg\n",
        "    new_node=node(data)\n",
        "    if self.head is None:\n",
        "      self.head=new_node\n",
        "      return\n",
        "    new_node.link=self.head\n",
        "    self.head=new_node\n",
        "\n",
        "#---------------------------------------------------------------------\n",
        "# obj=linkedlist()\n",
        "# obj.insert_at_beg(10)\n",
        "# obj.insert_at_beg(20)\n",
        "# obj.insert_at_beg(30)\n",
        "# obj.traversal()\n",
        "\n",
        "obj=linkedlist()\n",
        "value=int(input(\"enter the value: \"))\n",
        "while value!=-1:\n",
        "  obj.insert_at_beg(value)\n",
        "  value=int(input(\"enter the value: \"))\n",
        "obj.traversal()\n"
      ],
      "metadata": {
        "colab": {
          "base_uri": "https://localhost:8080/"
        },
        "id": "-NZNiaNnLFVn",
        "outputId": "1c44d1fb-6377-4231-b3c5-6b4807cbf927"
      },
      "execution_count": null,
      "outputs": [
        {
          "output_type": "stream",
          "name": "stdout",
          "text": [
            "enter the value: 10\n",
            "enter the value: 20\n",
            "enter the value: 30\n",
            "enter the value: 40\n",
            "enter the value: -1\n",
            "40-->30-->20-->10-->Null\n"
          ]
        }
      ]
    },
    {
      "cell_type": "markdown",
      "source": [
        "insetr at the **ending**\n",
        "   \n",
        "1. create a NewNOde     \n",
        "    set NEwnode.data=value      \n",
        "    set Newnode.link=none     \n",
        "2.if head==none         \n",
        "        set Head=newNode    \n",
        "        exit     \n",
        "3.set Temp=Head             \n",
        "      while temp.link!=NOne    \n",
        "          temp=temp.link    \n",
        "      set Temp.link=NewNOde           \n",
        "4.exit  "
      ],
      "metadata": {
        "id": "Gc4Cyj_SUb5e"
      }
    },
    {
      "cell_type": "code",
      "source": [
        "class node:\n",
        "  def __init__(self,data):\n",
        "    self.data=data\n",
        "    self.link=None                #--creation of node\n",
        "\n",
        "class linkedlist:\n",
        "  def __init__(self):\n",
        "    self.head=None\n",
        "  def traversal(self):\n",
        "    if self.head is None:\n",
        "      print(\"list is empty\")\n",
        "      return\n",
        "    temp=self.head\n",
        "    while temp:\n",
        "      print(temp.data,end=\"-->\")\n",
        "      temp=temp.link\n",
        "      #----------------------------------------------------\n",
        "    print(\"Null\")\n",
        "\n",
        "\n",
        "  # def insert_at_beg(self,data):                           #insert_at_beg\n",
        "  #   new_node=node(data)\n",
        "  #   if self.head is None:\n",
        "  #     self.head=new_node\n",
        "  #     return\n",
        "  #   new_node.link=self.head\n",
        "  #   self.head=new_node\n",
        "\n",
        "#---------------------------------------------------------------------\n",
        "  def insert_at_end(self,data):\n",
        "    new_node=node(data)\n",
        "    if self.head is None:\n",
        "      self.head=new_node                                  #insert_at_end\n",
        "      return\n",
        "    temp=self.head\n",
        "    while temp.link:\n",
        "      temp=temp.link\n",
        "    temp.link=new_node\n",
        "\n",
        "obj=linkedlist()\n",
        "value=int(input(\"enter the value: \"))\n",
        "while value!=-1:\n",
        "  obj.insert_at_end(value)\n",
        "  value=int(input(\"enter the value: \"))\n",
        "obj.traversal()\n"
      ],
      "metadata": {
        "colab": {
          "base_uri": "https://localhost:8080/"
        },
        "id": "hxP-buJpVc37",
        "outputId": "78a17580-618b-435a-9cca-05069da8a375"
      },
      "execution_count": null,
      "outputs": [
        {
          "output_type": "stream",
          "name": "stdout",
          "text": [
            "enter the value: 10\n",
            "enter the value: 20\n",
            "enter the value: 30\n",
            "enter the value: -1\n",
            "10-->20-->30-->Null\n"
          ]
        }
      ]
    },
    {
      "cell_type": "markdown",
      "source": [
        "insert a node ***before a specified value***   \n",
        "1. initialize Temp=Head,Prev=None       \n",
        "2. if head==NOne, Head=newNode and exit             \n",
        "3. if Head.DAta= Value:           \n",
        "          set NewNode.Link=Head           \n",
        "          exit                                                      \n",
        "4. repate step 6 and 7 While Temp.data!=VAlue and temp!=none           \n",
        "                  set prev=temp            \n",
        "                  set temp=temp.link\n",
        "5. if temp==none,print\"value  not found\" and exit\n",
        "6. set prev.link=newNode         \n",
        "7. set NewNode.link=temp           \n",
        "8. exit                "
      ],
      "metadata": {
        "id": "iXdf0PcMc896"
      }
    },
    {
      "cell_type": "code",
      "source": [
        "class node:\n",
        "  def __init__(self,data):\n",
        "    self.data=data\n",
        "    self.link=None                #--creation of node\n",
        "\n",
        "class linkedlist:\n",
        "  def __init__(self):\n",
        "    self.head=None\n",
        "  def traversal(self):\n",
        "    if self.head is None:\n",
        "      print(\"list is empty\")\n",
        "      return\n",
        "    temp=self.head\n",
        "    while temp:\n",
        "      print(temp.data,end=\"-->\")\n",
        "      temp=temp.link\n",
        "      #----------------------------------------------------\n",
        "    print(\"Null\")\n",
        "\n",
        "\n",
        "  def insert_at_beg(self,data):                           #insert_at_beg\n",
        "    new_node=node(data)\n",
        "    if self.head is None:\n",
        "      self.head=new_node\n",
        "      return\n",
        "    new_node.link=self.head\n",
        "    self.head=new_node\n",
        "\n",
        "#---------------------------------------------------------------------\n",
        "  def insert_at_end(self,data):\n",
        "    new_node=node(data)\n",
        "    if self.head is None:\n",
        "      self.head=new_node                                  #insert_at_end\n",
        "      return\n",
        "    temp=self.head\n",
        "    while temp.link:\n",
        "      temp=temp.link\n",
        "    temp.link=new_node\n",
        "#--------------------------------------------------------------------------\n",
        "  def insert_before_value(self,data,value):\n",
        "    new_node=node(data)\n",
        "    if self.head is None:\n",
        "      self.head=new_node\n",
        "      return\n",
        "    if self.head.data==value:\n",
        "      new_node.link=self.head\n",
        "      self.head=new_node\n",
        "      #return\n",
        "    temp,prve=self.head,None\n",
        "    while temp.data!=value and temp:\n",
        "      prev=temp\n",
        "      temp=temp.link\n",
        "    if temp.link is None:\n",
        "      print(\"value not found\")\n",
        "\n",
        "\n",
        "    prev.link=new_node\n",
        "    new_node.link=temp\n",
        "\n",
        "\n",
        "obj=linkedlist()\n",
        "obj.insert_at_end(10)\n",
        "obj.insert_at_end(20)\n",
        "obj.insert_at_end(30)\n",
        "obj.insert_at_end(40)\n",
        "obj.insert_at_end(30)\n",
        "obj.traversal()\n",
        "obj.insert_before_value(25,30)\n",
        "obj.insert_before_value(5,30)\n",
        "\n",
        "obj.traversal()\n",
        "\n",
        "\n",
        "\n"
      ],
      "metadata": {
        "colab": {
          "base_uri": "https://localhost:8080/"
        },
        "id": "XNW30sk0e_xO",
        "outputId": "6d261244-03ff-414a-f4b7-9284c785e9d2"
      },
      "execution_count": null,
      "outputs": [
        {
          "output_type": "stream",
          "name": "stdout",
          "text": [
            "10-->20-->30-->40-->30-->Null\n",
            "10-->20-->25-->5-->30-->40-->30-->Null\n"
          ]
        }
      ]
    },
    {
      "cell_type": "code",
      "source": [],
      "metadata": {
        "id": "pn82s7Rek8Rk"
      },
      "execution_count": null,
      "outputs": []
    },
    {
      "cell_type": "markdown",
      "source": [
        "#5/2/25 ------------wednesday\n",
        "\n"
      ],
      "metadata": {
        "id": "bu0WZiNrSFOU"
      }
    },
    {
      "cell_type": "markdown",
      "source": [
        "**delete** a node at the **begnning**\n",
        "\n",
        "1. initial temp=head\n",
        "2. if head==none\n",
        "    print\"lst is empty\" and exit\n",
        "3. set head=head.link\n",
        "4. free temp\n",
        "5. exit"
      ],
      "metadata": {
        "id": "d5McBfVASM3H"
      }
    },
    {
      "cell_type": "code",
      "source": [
        "# prompt: delete a node at the begnning\n",
        "# 1. initial temp=head\n",
        "# 2. if head==none\n",
        "#     print\"lst is empty\" and exit\n",
        "# 3. set head=head.link\n",
        "# 4. free temp\n",
        "# 5. exit\n",
        "\n",
        "class node:\n",
        "  def __init__(self,data):\n",
        "    self.data=data\n",
        "    self.link=None                #--creation of node\n",
        "\n",
        "class linkedlist:\n",
        "  def __init__(self):\n",
        "    self.head=None\n",
        "  def traversal(self):\n",
        "    if self.head is None:\n",
        "      print(\"list is empty\")\n",
        "      return\n",
        "    temp=self.head\n",
        "    while temp:\n",
        "      print(temp.data,end=\"-->\")\n",
        "      temp=temp.link\n",
        "      #----------------------------------------------------\n",
        "    print(\"Null\")\n",
        "\n",
        "\n",
        "  def insert_at_beg(self,data):                           #insert_at_beg\n",
        "    new_node=node(data)\n",
        "    if self.head is None:\n",
        "      self.head=new_node\n",
        "      return\n",
        "    new_node.link=self.head\n",
        "    self.head=new_node\n",
        "\n",
        "#---------------------------------------------------------------------\n",
        "  def insert_at_end(self,data):\n",
        "    new_node=node(data)\n",
        "    if self.head is None:\n",
        "      self.head=new_node                                  #insert_at_end\n",
        "      return\n",
        "    temp=self.head\n",
        "    while temp.link:\n",
        "      temp=temp.link\n",
        "    temp.link=new_node\n",
        "#--------------------------------------------------------------------------\n",
        "  def insert_before_value(self,data,value):\n",
        "    new_node=node(data)\n",
        "    if self.head is None:\n",
        "      self.head=new_node\n",
        "      return\n",
        "    if self.head.data==value:\n",
        "      new_node.link=self.head\n",
        "      self.head=new_node\n",
        "      #return\n",
        "    temp,prve=self.head,None\n",
        "    while temp.data!=value and temp:\n",
        "      prev=temp\n",
        "      temp=temp.link\n",
        "    if temp is None:\n",
        "      print(\"value not found\")\n",
        "      return\n",
        "\n",
        "\n",
        "    prev.link=new_node\n",
        "    new_node.link=temp\n",
        "  def delete_at_beg(self):\n",
        "    if self.head is None:\n",
        "      print(\"list is empty\")\n",
        "      return\n",
        "    temp=self.head\n",
        "    self.head=self.head.link\n",
        "    temp=None # free temp\n",
        "\n",
        "\n",
        "obj=linkedlist()\n",
        "obj.insert_at_end(10)\n",
        "obj.insert_at_end(20)\n",
        "obj.insert_at_end(30)\n",
        "obj.insert_at_end(40)\n",
        "obj.insert_at_end(50)\n",
        "obj.traversal()\n",
        "obj.delete_at_beg()\n",
        "obj.traversal()\n"
      ],
      "metadata": {
        "colab": {
          "base_uri": "https://localhost:8080/"
        },
        "id": "hZA9SF2_TTM9",
        "outputId": "46aee1d3-e6ce-4cc8-a208-e4e7a33263e6"
      },
      "execution_count": null,
      "outputs": [
        {
          "output_type": "stream",
          "name": "stdout",
          "text": [
            "10-->20-->30-->40-->50-->Null\n",
            "20-->30-->40-->50-->Null\n"
          ]
        }
      ]
    },
    {
      "cell_type": "markdown",
      "source": [
        "**delete at ending**\n",
        "\n",
        "1. set temp=head,prev=NOne\n",
        "2. if head==none\n",
        "    print\"list is empty\" amd exit\n",
        "3.head.link==none\n",
        "      set head=none\n",
        "      free temp,and exit\n",
        "4. repeat step 5&6 while temp.link !=none:\n",
        "              set prve=temp\n",
        "              settemp=temp.link\n",
        "5. set prve.link=none,free temp\n",
        "6. exit\n"
      ],
      "metadata": {
        "id": "kuxh6m9NUN4h"
      }
    },
    {
      "cell_type": "code",
      "source": [
        "# prompt: **delete at ending**\n",
        "# 1. set temp=head,prev=NOne\n",
        "# 2. if head==none\n",
        "#     print\"list is empty\" amd exit\n",
        "# 3.head.link==none\n",
        "#       set head=none\n",
        "#       free temp,and exit\n",
        "# 4. repeat step 5&6 while temp.link !=none:\n",
        "#               set prve=temp\n",
        "#               settemp=temp.link\n",
        "# 5. set prve.link=none,free temp\n",
        "# 6. exit\n",
        "\n",
        "\n",
        "class node:\n",
        "  def __init__(self,data):\n",
        "    self.data=data\n",
        "    self.link=None                #--creation of node\n",
        "\n",
        "class linkedlist:\n",
        "  def __init__(self):\n",
        "    self.head=None\n",
        "  def traversal(self):\n",
        "    if self.head is None:\n",
        "      print(\"list is empty\")\n",
        "      return\n",
        "    temp=self.head\n",
        "    while temp:\n",
        "      print(temp.data,end=\"-->\")\n",
        "      temp=temp.link\n",
        "      #----------------------------------------------------\n",
        "    print(\"Null\")\n",
        "\n",
        "\n",
        "  def insert_at_beg(self,data):                           #insert_at_beg\n",
        "    new_node=node(data)\n",
        "    if self.head is None:\n",
        "      self.head=new_node\n",
        "      return\n",
        "    new_node.link=self.head\n",
        "    self.head=new_node\n",
        "\n",
        "#---------------------------------------------------------------------\n",
        "  def insert_at_end(self,data):\n",
        "    new_node=node(data)\n",
        "    if self.head is None:\n",
        "      self.head=new_node                                  #insert_at_end\n",
        "      return\n",
        "    temp=self.head\n",
        "    while temp.link:\n",
        "      temp=temp.link\n",
        "    temp.link=new_node\n",
        "#--------------------------------------------------------------------------\n",
        "  def insert_before_value(self,data,value):\n",
        "    new_node=node(data)\n",
        "    if self.head is None:\n",
        "      self.head=new_node\n",
        "      return\n",
        "    if self.head.data==value:\n",
        "      new_node.link=self.head\n",
        "      self.head=new_node\n",
        "      #return\n",
        "    temp,prve=self.head,None\n",
        "    while temp.data!=value and temp:\n",
        "      prev=temp\n",
        "      temp=temp.link\n",
        "    if temp is None:\n",
        "      print(\"value not found\")\n",
        "      return\n",
        "\n",
        "\n",
        "    prev.link=new_node\n",
        "    new_node.link=temp\n",
        "  def delete_at_beg(self):\n",
        "    if self.head is None:\n",
        "      print(\"list is empty\")\n",
        "      return\n",
        "    temp=self.head\n",
        "    self.head=self.head.link\n",
        "    temp=None # free temp\n",
        "\n",
        "  def delete_at_end(self):\n",
        "    # 1. set temp=head,prev=NOne\n",
        "    temp = self.head\n",
        "    prev = None\n",
        "    # 2. if head==none\n",
        "    #     print\"list is empty\" amd exit\n",
        "    if self.head is None:\n",
        "      print(\"list is empty\")\n",
        "      return\n",
        "    # 3.head.link==none\n",
        "    #       set head=none\n",
        "    #       free temp,and exit\n",
        "    if self.head.link is None:\n",
        "      self.head = None\n",
        "      temp = None\n",
        "      return\n",
        "    # 4. repeat step 5&6 while temp.link !=none:\n",
        "    #       set prve=temp\n",
        "    #       settemp=temp.link\n",
        "    while temp.link != None:\n",
        "      prev = temp\n",
        "      temp = temp.link\n",
        "    # 5. set prve.link=none,free temp\n",
        "    prev.link = None\n",
        "    temp=None\n",
        "    # 6. exit\n",
        "# Example Usage\n",
        "obj=linkedlist()\n",
        "obj.insert_at_end(10)\n",
        "obj.insert_at_end(20)\n",
        "obj.insert_at_end(30)\n",
        "obj.insert_at_end(40)\n",
        "obj.insert_at_end(50)\n",
        "obj.traversal()\n",
        "obj.delete_at_end()\n",
        "obj.traversal()\n"
      ],
      "metadata": {
        "colab": {
          "base_uri": "https://localhost:8080/"
        },
        "id": "UDIOMoNXWlNf",
        "outputId": "495b4bf6-9246-46c6-8098-614d13892e49"
      },
      "execution_count": null,
      "outputs": [
        {
          "output_type": "stream",
          "name": "stdout",
          "text": [
            "10-->20-->30-->40-->50-->Null\n",
            "10-->20-->30-->40-->Null\n"
          ]
        }
      ]
    },
    {
      "cell_type": "markdown",
      "source": [
        "**delete** a node **before a specified value**\n",
        "\n",
        "1. set temp=head,prve=none\n",
        "2.head==none\n",
        "3.if head.link=none\n",
        "2. repeat step 4 and 5\n",
        "          while temp!=none and temp.data!=value\n",
        "                    set prve=temp\n",
        "                    set temp=temp.link\n",
        "4.if temp==none\n",
        "        print\"value not found\" and exit\n",
        "5.set prve.link=temp.link\n",
        "6.free temp\n",
        "7.exit\n"
      ],
      "metadata": {
        "id": "VVwSJCAeZDVc"
      }
    },
    {
      "cell_type": "code",
      "source": [
        "# prompt: **delete** a node **before a specified value**\n",
        "# 1. set temp=head,prve=none\n",
        "# 2.head==none\n",
        "# 3.if head.link=none\n",
        "# 2. repeat step 4 and 5\n",
        "#           while temp!=none and temp.data!=value\n",
        "#                     set prve=temp\n",
        "#                     set temp=temp.link\n",
        "# 4.if temp==none\n",
        "#         print\"value not found\" and exit\n",
        "# 5.set prve.link=temp.link\n",
        "# 6.free temp\n",
        "# 7.exit\n",
        "\n",
        "class node:\n",
        "  def __init__(self,data):\n",
        "    self.data=data\n",
        "    self.link=None                #--creation of node\n",
        "\n",
        "class linkedlist:\n",
        "  def __init__(self):\n",
        "    self.head=None\n",
        "  def traversal(self):\n",
        "    if self.head is None:\n",
        "      print(\"list is empty\")\n",
        "      return\n",
        "    temp=self.head\n",
        "    while temp:\n",
        "      print(temp.data,end=\"-->\")\n",
        "      temp=temp.link\n",
        "      #----------------------------------------------------\n",
        "    print(\"Null\")\n",
        "\n",
        "\n",
        "  # def insert_at_beg(self,data):                           #insert_at_beg\n",
        "  #   new_node=node(data)\n",
        "  #   if self.head is None:\n",
        "  #     self.head=new_node\n",
        "  #     return\n",
        "  #   new_node.link=self.head\n",
        "  #   self.head=new_node\n",
        "\n",
        "#---------------------------------------------------------------------\n",
        "  def insert_at_end(self,data):\n",
        "    new_node=node(data)\n",
        "    if self.head is None:\n",
        "      self.head=new_node                                  #insert_at_end\n",
        "      return\n",
        "    temp=self.head\n",
        "    while temp.link:\n",
        "      temp=temp.link\n",
        "    temp.link=new_node\n",
        "#--------------------------------------------------------------------------\n",
        "\n",
        "\n",
        "#------------------------------------------------------------------------------------------------\n",
        "  def delete_before_value(self, value):\n",
        "    # 1. set temp=head,prve=none\n",
        "    temp = self.head\n",
        "    prev = None\n",
        "    # 2.head==none\n",
        "    if self.head is None:\n",
        "      print(\"List is empty\")\n",
        "      return\n",
        "    # 3.if head.link=none\n",
        "    if self.head.link is None:\n",
        "      if self.head.data == value:\n",
        "        print(\"Cannot delete before the head node\")\n",
        "      else:\n",
        "        print(\"Value not found\")\n",
        "\n",
        "      return\n",
        "    # 2. repeat step 4 and 5\n",
        "    #     while temp!=none and temp.data!=value\n",
        "    while temp and temp.data != value:\n",
        "        prev = temp\n",
        "        temp = temp.link\n",
        "    # 4.if temp==none\n",
        "    #     print\"value not found\" and exit\n",
        "    if temp is None:\n",
        "      print(\"Value not found\")\n",
        "      return\n",
        "    #special case if the node to delete is the head:\n",
        "    if prev == None:\n",
        "      print(\"Cannot delete before the head node\")\n",
        "      return\n",
        "    # 5.set prve.link=temp.link\n",
        "    prev_del = self.head\n",
        "    prev_del_prev = None\n",
        "    while prev_del!= prev:\n",
        "      prev_del_prev = prev_del\n",
        "      prev_del=prev_del.link\n",
        "\n",
        "    prev_del_prev.link = temp\n",
        "\n",
        "    # 6.free temp\n",
        "    prev_del=None\n",
        "    # 7.exit\n",
        "# Example Usage\n",
        "obj=linkedlist()\n",
        "obj.insert_at_end(10)\n",
        "obj.insert_at_end(20)\n",
        "obj.insert_at_end(30)\n",
        "obj.insert_at_end(40)\n",
        "obj.insert_at_end(50)\n",
        "obj.traversal()\n",
        "obj.delete_before_value(30)\n",
        "obj.traversal()\n"
      ],
      "metadata": {
        "colab": {
          "base_uri": "https://localhost:8080/"
        },
        "id": "ZSiQn3SAu1VC",
        "outputId": "e34efb6b-3f90-41d2-b409-fe28c9d27141"
      },
      "execution_count": null,
      "outputs": [
        {
          "output_type": "stream",
          "name": "stdout",
          "text": [
            "10-->20-->30-->40-->50-->Null\n",
            "10-->30-->40-->50-->Null\n"
          ]
        }
      ]
    },
    {
      "cell_type": "code",
      "source": [
        "  def delete_before_value(self, value):\n",
        "    if self.head==node or self.head.link==None:\n",
        "      print(\"list is empty\")\n",
        "      return\n",
        "    if self.head.data==value:\n",
        "      self.head=self.head.link\n",
        "      return                                                # sir code #not working\n",
        "    temp=self.head\n",
        "    prev=None\n",
        "    while temp.data!=value and temp.link!=None:\n",
        "      prev=temp\n",
        "      temp=temp.link\n",
        "    if temp.link==None:#temp.link\n",
        "      print(\"value not found\")\n",
        "      return\n",
        "    prev.link=temp.link"
      ],
      "metadata": {
        "id": "B4v49QL3m-0S"
      },
      "execution_count": null,
      "outputs": []
    },
    {
      "cell_type": "markdown",
      "source": [
        "**delete** a node **after a spasific value**\n",
        "\n",
        "1. set temp=head,prve=none\n",
        "2. repeat steps 4,5\n",
        "    while temp!=none and temp.data!= value:\n",
        "          set prve=temp\n",
        "          set temp=temp.link\n",
        "3. if temp==none\n",
        "          print\"value not found\" and exit\n",
        "4. set prve.link=temp.link\n",
        "5. free temp\n",
        "6. exit"
      ],
      "metadata": {
        "id": "qaRW84hInck9"
      }
    },
    {
      "cell_type": "code",
      "source": [
        "# delete a node after a spasific value\n",
        "# 1. set temp=head,prve=none\n",
        "# 2. repeat steps 4,5\n",
        "#     while temp!=none and temp.data!= value:\n",
        "#           set prve=temp\n",
        "#           set temp=temp.link\n",
        "# 3. if temp==none\n",
        "#           print\"value not found\" and exit\n",
        "# 4. set prve.link=temp.link\n",
        "# 5. free temp\n",
        "# 6. exit\n",
        "\n",
        "class node:\n",
        "  def __init__(self,data):\n",
        "    self.data=data\n",
        "    self.link=None                #--creation of node\n",
        "\n",
        "\n",
        "class linkedlist:\n",
        "  def __init__(self):\n",
        "    self.head=None\n",
        "  def traversal(self):\n",
        "    if self.head is None:\n",
        "      print(\"list is empty\")\n",
        "      return\n",
        "    temp=self.head\n",
        "    while temp:\n",
        "      print(temp.data,end=\"-->\")\n",
        "      temp=temp.link\n",
        "      #----------------------------------------------------\n",
        "    print(\"Null\")\n",
        "\n",
        "\n",
        "  # def insert_at_beg(self,data):                           #insert_at_beg\n",
        "  #   new_node=node(data)\n",
        "  #   if self.head is None:\n",
        "  #     self.head=new_node\n",
        "  #     return\n",
        "  #   new_node.link=self.head\n",
        "  #   self.head=new_node\n",
        "\n",
        "#---------------------------------------------------------------------\n",
        "  def insert_at_end(self,data):\n",
        "    new_node=node(data)\n",
        "    if self.head is None:\n",
        "      self.head=new_node                                  #insert_at_end\n",
        "      return\n",
        "    temp=self.head\n",
        "    while temp.link:\n",
        "      temp=temp.link\n",
        "    temp.link=new_node\n",
        "#--------------------------------------------------------------------------\n",
        "\n",
        "  def delete_after_value(self, value):\n",
        "    # 1. set temp=head,prve=none\n",
        "    temp = self.head\n",
        "    prev = None\n",
        "    # 2. repeat steps 4,5\n",
        "    while temp is not None and temp.data != value:\n",
        "      prev = temp\n",
        "      temp = temp.link\n",
        "    # 3. if temp==none\n",
        "    #     print\"value not found\" and exit\n",
        "    if temp is None:\n",
        "      print(\"Value not found\")\n",
        "      return\n",
        "    # if temp.link is None: #special case if temp is the last node\n",
        "    #   print(\"No node after this value, cannot delete\")\n",
        "    #   return\n",
        "    # 4. set prve.link=temp.link\n",
        "    if temp.link is not None:\n",
        "      temp_to_delete = temp.link\n",
        "      temp.link = temp.link.link\n",
        "\n",
        "    # 5. free temp\n",
        "      temp_to_delete=None\n",
        "    else:\n",
        "      print(\"No node after this value to delete\")\n",
        "    # 6. exit\n",
        "\n",
        "# Example Usage\n",
        "obj=linkedlist()\n",
        "obj.insert_at_end(10)\n",
        "obj.insert_at_end(20)\n",
        "obj.insert_at_end(30)\n",
        "obj.insert_at_end(40)\n",
        "obj.insert_at_end(50)\n",
        "obj.traversal()\n",
        "obj.delete_after_value(30)\n",
        "obj.traversal()\n"
      ],
      "metadata": {
        "colab": {
          "base_uri": "https://localhost:8080/"
        },
        "id": "scFrKLvZutAO",
        "outputId": "c82e1508-48c0-4af1-ebe9-df24e513e35c"
      },
      "execution_count": null,
      "outputs": [
        {
          "output_type": "stream",
          "name": "stdout",
          "text": [
            "10-->20-->30-->40-->50-->Null\n",
            "10-->20-->30-->50-->Null\n"
          ]
        }
      ]
    },
    {
      "cell_type": "markdown",
      "source": [
        "**Delete **a Node at **specified position**\n",
        "\n",
        "1. if position<0 or head==null,print\"linked is empty\",exit\n",
        "2.if position =0\n",
        "    set head=head.link,exit\n",
        "3. set temp=head,pre= null,and current_position =0\n",
        "4.while temp!=null and current_position<position:\n",
        "                  set prev =temp\n",
        "                  set temp=temp.link\n",
        "                  increment Cuurent_position\n",
        "5. if temp==null ,print\"out of range\",exit\n",
        "6.delete the node\n",
        "        set prev.link = temp.link\n",
        "7.exit"
      ],
      "metadata": {
        "id": "E5CnrKRpu86t"
      }
    },
    {
      "cell_type": "code",
      "source": [
        "# prompt: Delete a Node at specified position\n",
        "# 1. if position<0 or head==null,print\"linked is empty\",exit\n",
        "# 2.if position =0\n",
        "#     set head=head.link,exit\n",
        "# 3. set temp=head,pre= null,and current_position =0\n",
        "# 4.while temp!=null and current_position<position:\n",
        "#                   set prev =temp\n",
        "#                   set temp=temp.link\n",
        "#                   increment Cuurent_position\n",
        "# 5. if temp==null ,print\"out of range\",exit\n",
        "# 6.delete the node\n",
        "#         set prev.link = temp.link\n",
        "# 7.exit\n",
        "\n",
        "class node:\n",
        "  def __init__(self,data):\n",
        "    self.data=data\n",
        "    self.link=None                #--creation of node\n",
        "\n",
        "\n",
        "class linkedlist:\n",
        "  def __init__(self):\n",
        "    self.head=None\n",
        "  def traversal(self):\n",
        "    if self.head is None:\n",
        "      print(\"list is empty\")\n",
        "      return\n",
        "    temp=self.head\n",
        "    while temp:\n",
        "      print(temp.data,end=\"-->\")\n",
        "      temp=temp.link\n",
        "      #----------------------------------------------------\n",
        "    print(\"Null\")\n",
        "\n",
        "\n",
        "  # def insert_at_beg(self,data):                           #insert_at_beg\n",
        "  #   new_node=node(data)\n",
        "  #   if self.head is None:\n",
        "  #     self.head=new_node\n",
        "  #     return\n",
        "  #   new_node.link=self.head\n",
        "  #   self.head=new_node\n",
        "\n",
        "#---------------------------------------------------------------------\n",
        "  def insert_at_end(self,data):\n",
        "    new_node=node(data)\n",
        "    if self.head is None:\n",
        "      self.head=new_node                                  #insert_at_end\n",
        "      return\n",
        "    temp=self.head\n",
        "    while temp.link:\n",
        "      temp=temp.link\n",
        "    temp.link=new_node\n",
        "#--------------------------------------------------------------------------\n",
        "\n",
        "  def delete_after_value(self, value):\n",
        "    # 1. set temp=head,prve=none\n",
        "    temp = self.head\n",
        "    prev = None\n",
        "    # 2. repeat steps 4,5\n",
        "    while temp is not None and temp.data != value:\n",
        "      prev = temp\n",
        "      temp = temp.link\n",
        "    # 3. if temp==none\n",
        "    #     print\"value not found\" and exit\n",
        "    if temp is None:\n",
        "      print(\"Value not found\")\n",
        "      return\n",
        "    # if temp.link is None: #special case if temp is the last node\n",
        "    #   print(\"No node after this value, cannot delete\")\n",
        "    #   return\n",
        "    # 4. set prve.link=temp.link\n",
        "    if temp.link is not None:\n",
        "      temp_to_delete = temp.link\n",
        "      temp.link = temp.link.link\n",
        "\n",
        "    # 5. free temp\n",
        "      temp_to_delete=None\n",
        "    else:\n",
        "      print(\"No node after this value to delete\")\n",
        "    # 6. exit\n",
        "\n",
        "  def delete_at_position(self, position):\n",
        "    # 1. if position<0 or head==null,print\"linked is empty\",exit\n",
        "    if position < 0 or self.head is None:\n",
        "      print(\"linked is empty\")\n",
        "      return\n",
        "    # 2.if position =0\n",
        "    #     set head=head.link,exit\n",
        "    if position == 0:\n",
        "      self.head = self.head.link\n",
        "      return\n",
        "    # 3. set temp=head,pre= null,and current_position =0\n",
        "    temp = self.head\n",
        "    prev = None\n",
        "    current_position = 0\n",
        "    # 4.while temp!=null and current_position<position:\n",
        "    while temp is not None and current_position < position:\n",
        "      # set prev =temp\n",
        "      prev = temp\n",
        "      # set temp=temp.link\n",
        "      temp = temp.link\n",
        "      # increment Cuurent_position\n",
        "      current_position += 1\n",
        "    # 5. if temp==null ,print\"out of range\",exit\n",
        "    if temp is None:\n",
        "      print(\"out of range\")\n",
        "      return\n",
        "    # 6.delete the node\n",
        "    #     set prev.link = temp.link\n",
        "    prev.link = temp.link\n",
        "    # 7.exit\n",
        "\n",
        "\n",
        "# Example Usage\n",
        "obj=linkedlist()\n",
        "obj.insert_at_end(10)\n",
        "obj.insert_at_end(20)\n",
        "obj.insert_at_end(30)\n",
        "obj.insert_at_end(40)\n",
        "obj.insert_at_end(50)\n",
        "obj.traversal()\n",
        "obj.delete_at_position(2)\n",
        "obj.traversal()\n"
      ],
      "metadata": {
        "colab": {
          "base_uri": "https://localhost:8080/"
        },
        "id": "QzSOk_LPwS02",
        "outputId": "81b857b1-d09d-4b97-f67b-573b242d46fd"
      },
      "execution_count": null,
      "outputs": [
        {
          "output_type": "stream",
          "name": "stdout",
          "text": [
            "10-->20-->30-->40-->50-->Null\n",
            "10-->20-->40-->50-->Null\n"
          ]
        }
      ]
    },
    {
      "cell_type": "code",
      "source": [],
      "metadata": {
        "id": "uIRuQKT5BUVJ"
      },
      "execution_count": null,
      "outputs": []
    },
    {
      "cell_type": "markdown",
      "source": [
        "#10/02/25-----MONDAY\n"
      ],
      "metadata": {
        "id": "ryTbgZeoBV9G"
      }
    },
    {
      "cell_type": "markdown",
      "source": [
        "**travarsal algoritham ** ----------- *CLL*\n",
        "\n",
        "1. if head==NUll\n",
        "        print\"CLL is empty\"\n",
        "        EXit\n",
        "2. set temp=head\n",
        "3. while Temp.link!=head\n",
        "          print Temp.Data\n",
        "          set Temp=Temp.link\n",
        "      print(Temp.Data)\n",
        "4. Exit"
      ],
      "metadata": {
        "id": "iMeRDv1vBmkU"
      }
    },
    {
      "cell_type": "code",
      "source": [
        "# prompt: **travarsal algoritham ** ----------- *CLL*\n",
        "# 1. if head==NUll\n",
        "#         print\"CLL is empty\"\n",
        "#         EXit\n",
        "# 2. set temp=head\n",
        "# 3. while Temp.link!=head\n",
        "#           print Temp.Data\n",
        "#           set Temp=Temp.link\n",
        "#       print(Temp.Data)\n",
        "# 4. Exit\n",
        "\n",
        "class node:\n",
        "  def __init__(self,data):\n",
        "    self.data=data\n",
        "    self.link=None                #--creation of node\n",
        "\n",
        "class linkedlist:\n",
        "  def __init__(self):\n",
        "    self.head=None\n",
        "\n",
        "  def traversal_cll(self): #traversal for circular linked list\n",
        "    if self.head is None:\n",
        "      print(\"CLL is empty\")\n",
        "      return\n",
        "\n",
        "    temp = self.head\n",
        "    while temp.link != self.head:\n",
        "      print(temp.data, end=\"-->\")\n",
        "      temp = temp.link\n",
        "    print(temp.data) # Print the last node's data\n",
        "\n",
        "  def insert_at_end(self,data):\n",
        "    new_node=node(data)\n",
        "    if self.head is None:\n",
        "      self.head=new_node\n",
        "      new_node.link = self.head                              #insert_at_end for CLL\n",
        "      return\n",
        "    temp=self.head\n",
        "    while temp.link != self.head:\n",
        "      temp=temp.link\n",
        "    temp.link=new_node\n",
        "    new_node.link = self.head\n",
        "\n",
        "\n",
        "# Example usage for circular linked list\n",
        "obj=linkedlist()\n",
        "obj.insert_at_end(10)\n",
        "obj.insert_at_end(20)\n",
        "obj.insert_at_end(30)\n",
        "obj.insert_at_end(40)\n",
        "obj.insert_at_end(50)\n",
        "\n",
        "obj.traversal_cll()\n"
      ],
      "metadata": {
        "colab": {
          "base_uri": "https://localhost:8080/"
        },
        "id": "_rl7-ySsDFzD",
        "outputId": "abfd119c-f37e-4bf6-acc5-bb30939cf0e8"
      },
      "execution_count": null,
      "outputs": [
        {
          "output_type": "stream",
          "name": "stdout",
          "text": [
            "10-->20-->30-->40-->50\n"
          ]
        }
      ]
    },
    {
      "cell_type": "markdown",
      "source": [
        "*Insertion*   -----------CLL\n",
        "\n",
        "1. create a new node\n",
        "2.if head==NULL\n",
        "        set Head=New Node\n",
        "        set New_Node.link=Head\n",
        "        Exit\n",
        "3. set Temp=Head\n",
        "4. While Temp.Link!=head\n",
        "        set Temp=Temp.link\n",
        "5. set Temp.link=New_Node\n",
        "6. set New_Node.Link=Head\n",
        "7. Exit\n"
      ],
      "metadata": {
        "id": "q6B6qoBEDKKH"
      }
    },
    {
      "cell_type": "code",
      "source": [
        "# prompt: *Insertion*   -----------CLL\n",
        "# 1. create a new node\n",
        "# 2.if head==NULL\n",
        "#         set Head=New Node\n",
        "#         set New_Node.link=Head\n",
        "#         Exit\n",
        "# 3. set Temp=Head\n",
        "# 4. While Temp.Link!=head\n",
        "#         set Temp=Temp.link\n",
        "# 5. set Temp.link=New_Node\n",
        "# 6. set New_Node.Link=Head\n",
        "# 7. Exit\n",
        "\n",
        "def insert_at_end_cll(self, data):\n",
        "    new_node = node(data)\n",
        "    if self.head is None:\n",
        "      self.head = new_node\n",
        "      new_node.link = self.head\n",
        "      return\n",
        "\n",
        "    temp = self.head\n",
        "    while temp.link != self.head:\n",
        "      temp = temp.link\n",
        "    temp.link = new_node\n",
        "    new_node.link = self.head\n",
        "\n",
        "\n",
        "obj=linkedlist()\n",
        "obj.insert_at_end(10)\n",
        "obj.insert_at_end(20)\n",
        "obj.insert_at_end(30)\n",
        "obj.insert_at_end(40)\n",
        "obj.insert_at_end(50)\n",
        "\n",
        "obj.traversal_cll()\n",
        "\n"
      ],
      "metadata": {
        "colab": {
          "base_uri": "https://localhost:8080/"
        },
        "id": "K85jJLNvGOWP",
        "outputId": "e076d823-7181-4788-e8a5-94211e9b7a5b"
      },
      "execution_count": null,
      "outputs": [
        {
          "output_type": "stream",
          "name": "stdout",
          "text": [
            "10-->20-->30-->40-->50\n"
          ]
        }
      ]
    },
    {
      "cell_type": "markdown",
      "source": [
        "**deletion at begin----CLL**\n",
        "\n",
        "1. if Head==NUll\n",
        "      print\"CLL is empty\"\n",
        "      exit\n",
        "2. iF Head.Link==Head\n",
        "          set Head=Null\n",
        "          Exit\n",
        "3. set Temp=Head\n",
        "4. While Temp.Link!=Head\n",
        "            set Temp=Temp.Link\n",
        "5. set Temp.Link=Head.Link\n",
        "6. set Head=Temp.Link\n",
        "7. exit"
      ],
      "metadata": {
        "id": "bltGudesKHtI"
      }
    },
    {
      "cell_type": "code",
      "source": [
        "# prompt: deletion ----CLL\n",
        "# 1. if Head==NUll\n",
        "#       print\"CLL is empty\"\n",
        "#       exit\n",
        "# 2. iF Head.Link==Head\n",
        "#           set Head=Null\n",
        "#           Exit\n",
        "# 3. set Temp=Head\n",
        "# 4. While Temp.Link!=Head\n",
        "#             set Temp=Temp.Link\n",
        "# 5. set Temp.Link=Head.Link\n",
        "# 6. set Head=Temp.Link\n",
        "# 7. exit\n",
        "\n",
        "# deletion ----CLL\n",
        "\n",
        "# 1. if Head==NUll\n",
        "#       print\"CLL is empty\"\n",
        "#       exit\n",
        "# 2. iF Head.Link==Head\n",
        "#           set Head=Null\n",
        "#           Exit\n",
        "# 3. set Temp=Head\n",
        "# 4. While Temp.Link!=Head\n",
        "#             set Temp=Temp.Link\n",
        "# 5. set Temp.Link=Head.Link\n",
        "# 6. set Head=Temp.Link\n",
        "# 7. exit\n",
        "\n",
        "class node:\n",
        "  def __init__(self,data):\n",
        "    self.data=data\n",
        "    self.link=None                #--creation of node\n",
        "\n",
        "class linkedlist:\n",
        "  def __init__(self):\n",
        "    self.head=None\n",
        "\n",
        "  def traversal_cll(self): #traversal for circular linked list\n",
        "    if self.head is None:\n",
        "      print(\"CLL is empty\")\n",
        "      return\n",
        "\n",
        "    temp = self.head\n",
        "    while temp.link != self.head:\n",
        "      print(temp.data, end=\"-->\")\n",
        "      temp = temp.link\n",
        "    print(temp.data) # Print the last node's data\n",
        "\n",
        "  def insert_at_end(self,data):\n",
        "    new_node=node(data)\n",
        "    if self.head is None:\n",
        "      self.head=new_node\n",
        "      new_node.link = self.head                              #insert_at_end for CLL\n",
        "      return\n",
        "    temp=self.head\n",
        "    while temp.link != self.head:\n",
        "      temp=temp.link\n",
        "    temp.link=new_node\n",
        "    new_node.link = self.head\n",
        "\n",
        "  def delete_cll(self):\n",
        "    if self.head is None:\n",
        "      print(\"CLL is empty\")\n",
        "      return\n",
        "\n",
        "    if self.head.link == self.head:\n",
        "      self.head = None\n",
        "      return\n",
        "\n",
        "    temp = self.head\n",
        "    while temp.link != self.head:\n",
        "      temp = temp.link\n",
        "    temp.link = self.head.link\n",
        "    self.head = temp.link\n",
        "\n",
        "\n",
        "# Example usage for circular linked list\n",
        "obj=linkedlist()\n",
        "obj.insert_at_end(10)\n",
        "obj.insert_at_end(20)\n",
        "obj.insert_at_end(30)\n",
        "obj.insert_at_end(40)\n",
        "obj.insert_at_end(50)\n",
        "\n",
        "print(\"Original CLL:\")\n",
        "obj.traversal_cll()\n",
        "\n",
        "obj.delete_cll()\n",
        "print(\"\\nCLL after deletion:\")\n",
        "obj.traversal_cll()\n"
      ],
      "metadata": {
        "colab": {
          "base_uri": "https://localhost:8080/"
        },
        "id": "JWhKWmXyLnQl",
        "outputId": "f0bc16b6-21b5-44cd-f630-48dccdcde54f"
      },
      "execution_count": null,
      "outputs": [
        {
          "output_type": "stream",
          "name": "stdout",
          "text": [
            "Original CLL:\n",
            "10-->20-->30-->40-->50\n",
            "\n",
            "CLL after deletion:\n",
            "20-->30-->40-->50\n"
          ]
        }
      ]
    },
    {
      "cell_type": "markdown",
      "source": [
        "**deletion at end**----------- of CLL"
      ],
      "metadata": {
        "id": "vmaoOzipN1hb"
      }
    },
    {
      "cell_type": "code",
      "source": [
        "# prompt: deletion at end----------- of CLL\n",
        "\n",
        "class node:\n",
        "  def __init__(self,data):\n",
        "    self.data=data\n",
        "    self.link=None                #--creation of node\n",
        "\n",
        "class linkedlist:\n",
        "  def __init__(self):\n",
        "    self.head=None\n",
        "\n",
        "  def traversal_cll(self): #traversal for circular linked list\n",
        "    if self.head is None:\n",
        "      print(\"CLL is empty\")\n",
        "      return\n",
        "\n",
        "    temp = self.head\n",
        "    while temp.link != self.head:\n",
        "      print(temp.data, end=\"-->\")\n",
        "      temp = temp.link\n",
        "    print(temp.data) # Print the last node's data\n",
        "\n",
        "  def insert_at_end(self,data):\n",
        "    new_node=node(data)\n",
        "    if self.head is None:\n",
        "      self.head=new_node\n",
        "      new_node.link = self.head                              #insert_at_end for CLL\n",
        "      return\n",
        "    temp=self.head\n",
        "    while temp.link != self.head:\n",
        "      temp=temp.link\n",
        "    temp.link=new_node\n",
        "    new_node.link = self.head\n",
        "\n",
        "  def delete_cll(self):\n",
        "    if self.head is None:\n",
        "      print(\"CLL is empty\")\n",
        "      return\n",
        "\n",
        "    if self.head.link == self.head:\n",
        "      self.head = None\n",
        "      return\n",
        "\n",
        "    temp = self.head\n",
        "    while temp.link != self.head:\n",
        "      temp = temp.link\n",
        "    temp.link = self.head.link\n",
        "    self.head = temp.link\n",
        "\n",
        "  def delete_at_end_cll(self):\n",
        "    if self.head is None:\n",
        "        print(\"CLL is empty\")\n",
        "        return\n",
        "\n",
        "    if self.head.link == self.head:\n",
        "        self.head = None\n",
        "        return\n",
        "\n",
        "    temp = self.head\n",
        "    prev = None\n",
        "    while temp.link != self.head:\n",
        "        prev = temp\n",
        "        temp = temp.link\n",
        "\n",
        "    prev.link = self.head\n",
        "    temp = None\n",
        "\n",
        "# Example usage for circular linked list\n",
        "obj=linkedlist()\n",
        "obj.insert_at_end(10)\n",
        "obj.insert_at_end(20)\n",
        "obj.insert_at_end(30)\n",
        "obj.insert_at_end(40)\n",
        "obj.insert_at_end(50)\n",
        "\n",
        "print(\"Original CLL:\")\n",
        "obj.traversal_cll()\n",
        "\n",
        "obj.delete_at_end_cll()\n",
        "print(\"\\nCLL after deletion:\")\n",
        "obj.traversal_cll()\n"
      ],
      "metadata": {
        "colab": {
          "base_uri": "https://localhost:8080/"
        },
        "id": "8phwfqj0PO6u",
        "outputId": "e2ba6e44-b876-49b3-a184-aa7a76b79bbd"
      },
      "execution_count": null,
      "outputs": [
        {
          "output_type": "stream",
          "name": "stdout",
          "text": [
            "Original CLL:\n",
            "10-->20-->30-->40-->50\n",
            "\n",
            "CLL after deletion:\n",
            "10-->20-->30-->40\n"
          ]
        }
      ]
    },
    {
      "cell_type": "markdown",
      "source": [
        "**travarsal algorithm of DLL**\n",
        "\n",
        "1. if head== Null\n",
        "        print \"DLL is empty\"\n",
        "        Exit\n",
        "2. set Temp=head\n",
        "3. While Temp!=Null\n",
        "          print Temp.Data\n",
        "          set Temp=Temp.Next\n",
        "4.Exit\n"
      ],
      "metadata": {
        "id": "ALAKOzj8UQ1s"
      }
    },
    {
      "cell_type": "code",
      "source": [
        "# travarsal algorithm of DLL\n",
        "# 1. if head== Null\n",
        "#         print \"DLL is empty\"\n",
        "#         Exit\n",
        "# 2. set Temp=head\n",
        "# 3. While Temp!=Null\n",
        "#           print Temp.Data\n",
        "#           set Temp=Temp.Next\n",
        "# 4.Exit\n",
        "\n",
        "class Node:\n",
        "    def __init__(self, data):\n",
        "        self.data = data\n",
        "        self.prev = None\n",
        "        self.next = None\n",
        "\n",
        "\n",
        "class DoublyLinkedList:\n",
        "    def __init__(self):\n",
        "        self.head = None\n",
        "\n",
        "    def traversal(self):\n",
        "        if self.head is None:\n",
        "            print(\"DLL is empty\")\n",
        "            return\n",
        "\n",
        "        temp = self.head\n",
        "        while temp!= None:\n",
        "            print(temp.data, end=\"-->\")\n",
        "            temp = temp.next\n",
        "        #print()\n",
        "obj=DoublyLinkedList()\n",
        "obj.traversal()\n"
      ],
      "metadata": {
        "colab": {
          "base_uri": "https://localhost:8080/"
        },
        "id": "3uiu2O9DVTEP",
        "outputId": "70be8e12-8e49-428d-88b9-0c19818d6e0d"
      },
      "execution_count": null,
      "outputs": [
        {
          "output_type": "stream",
          "name": "stdout",
          "text": [
            "DLL is empty\n"
          ]
        }
      ]
    },
    {
      "cell_type": "markdown",
      "source": [
        "insertion at begin ---DLL\n",
        "1. create  a New_Node\n",
        "2. if Head==Null\n",
        "        set Head=New_Node\n",
        "        Exit\n",
        "3. set Temp=Head\n",
        "4. While Temp.Next!=Null\n",
        "          set Temp=Temp.Next\n",
        "5. set Temp.Next=New_Node\n",
        "6. set New_Node.Prve=Temp\n",
        "7. Exit"
      ],
      "metadata": {
        "id": "nKF4SxWbVYbk"
      }
    },
    {
      "cell_type": "code",
      "source": [
        "# prompt: insertion at begin ---DLL\n",
        "# 1. create  a New_Node\n",
        "# 2. if Head==Null\n",
        "#         set Head=New_Node\n",
        "#         Exit\n",
        "# 3. set Temp=Head\n",
        "# 4. While Temp.Next!=Null\n",
        "#           set Temp=Temp.Next\n",
        "# 5. set Temp.Next=New_Node\n",
        "# 6. set New_Node.Prve=Temp\n",
        "# 7. Exit\n",
        "\n",
        "def insert_at_beg(self,data):                           #insert_at_beg\n",
        "    new_node=node(data)\n",
        "    if self.head is None:\n",
        "      self.head=new_node\n",
        "      return\n",
        "    new_node.link=self.head\n",
        "    self.head=new_node\n"
      ],
      "metadata": {
        "id": "d9XARM38ah8w"
      },
      "execution_count": null,
      "outputs": []
    },
    {
      "cell_type": "code",
      "source": [
        "# prompt: insertion at begin ---DLL\n",
        "# 1. create  a New_Node\n",
        "# 2. if Head==Null\n",
        "#         set Head=New_Node\n",
        "#         Exit\n",
        "# 3. set Temp=Head\n",
        "# 4. While Temp.Next!=Null\n",
        "#           set Temp=Temp.Next\n",
        "# 5. set Temp.Next=New_Node\n",
        "# 6. set New_Node.Prve=Temp\n",
        "# 7. Exit\n",
        "# also insert the elements\n",
        "\n",
        "class Node:\n",
        "    def __init__(self, data):\n",
        "        self.data = data\n",
        "        self.prev = None\n",
        "        self.next = None\n",
        "\n",
        "\n",
        "class DoublyLinkedList:\n",
        "    def __init__(self):\n",
        "        self.head = None\n",
        "\n",
        "    def traversal(self):\n",
        "        if self.head is None:\n",
        "            print(\"DLL is empty\")\n",
        "            return\n",
        "\n",
        "        temp = self.head\n",
        "        while temp!= None:\n",
        "            print(temp.data, end=\"-->\")\n",
        "            temp = temp.next\n",
        "        print(\"Null\")\n",
        "\n",
        "    def insert_at_beginning(self, data):\n",
        "        new_node = Node(data)\n",
        "        if self.head is None:\n",
        "            self.head = new_node\n",
        "            return\n",
        "        new_node.next = self.head\n",
        "        self.head.prev = new_node\n",
        "        self.head = new_node\n",
        "# Example usage\n",
        "dll = DoublyLinkedList()\n",
        "dll.insert_at_beginning(10)\n",
        "dll.insert_at_beginning(20)\n",
        "dll.insert_at_beginning(30)\n",
        "dll.traversal()\n"
      ],
      "metadata": {
        "colab": {
          "base_uri": "https://localhost:8080/"
        },
        "id": "zEKYAAXcbQkm",
        "outputId": "733b271d-da8b-4ad0-8ea3-022639f3f43c"
      },
      "execution_count": null,
      "outputs": [
        {
          "output_type": "stream",
          "name": "stdout",
          "text": [
            "30-->20-->10-->Null\n"
          ]
        }
      ]
    },
    {
      "cell_type": "code",
      "source": [
        "# prompt: insertion at end---DLL\n",
        "\n",
        "class Node:\n",
        "    def __init__(self, data):\n",
        "        self.data = data\n",
        "        self.prev = None\n",
        "        self.next = None\n",
        "\n",
        "\n",
        "class DoublyLinkedList:\n",
        "    def __init__(self):\n",
        "        self.head = None\n",
        "\n",
        "    def traversal(self):\n",
        "        if self.head is None:\n",
        "            print(\"DLL is empty\")\n",
        "            return\n",
        "\n",
        "        temp = self.head\n",
        "        while temp is not None:\n",
        "            print(temp.data, end=\"-->\")\n",
        "            temp = temp.next\n",
        "        print(\"Null\")\n",
        "\n",
        "    def insert_at_beginning(self, data):\n",
        "        new_node = Node(data)\n",
        "        if self.head is None:\n",
        "            self.head = new_node\n",
        "            return\n",
        "        new_node.next = self.head\n",
        "        self.head.prev = new_node\n",
        "        self.head = new_node\n",
        "\n",
        "    def insert_at_end(self, data):\n",
        "        new_node = Node(data)\n",
        "        if self.head is None:\n",
        "            self.head = new_node\n",
        "            return\n",
        "\n",
        "        temp = self.head\n",
        "        while temp.next:\n",
        "            temp = temp.next\n",
        "        temp.next = new_node\n",
        "        new_node.prev = temp\n",
        "# Example usage\n",
        "dll = DoublyLinkedList()\n",
        "dll.insert_at_end(10)\n",
        "dll.insert_at_end(20)\n",
        "dll.insert_at_end(30)\n",
        "dll.traversal()\n"
      ],
      "metadata": {
        "colab": {
          "base_uri": "https://localhost:8080/"
        },
        "id": "OCjKLOeybmhY",
        "outputId": "4b3a3d98-7352-4a20-94a8-8145aa493a09"
      },
      "execution_count": null,
      "outputs": [
        {
          "output_type": "stream",
          "name": "stdout",
          "text": [
            "10-->20-->30-->Null\n"
          ]
        }
      ]
    },
    {
      "cell_type": "markdown",
      "source": [
        "deletion at begin -----DLL\n",
        "\n",
        "1.  if Head == NULL\n",
        "            print\"DLL is empty\"\n",
        "            exit\n",
        "2. set Head=Head.Next\n",
        "6. set Head.Prve=NUll\n",
        "7. EXit"
      ],
      "metadata": {
        "id": "pV_tx5ZdhYO6"
      }
    },
    {
      "cell_type": "code",
      "source": [
        "# prompt: deletion at begin -----DLL\n",
        "# 1.  if Head == NULL\n",
        "#             print\"DLL is empty\"\n",
        "#             exit\n",
        "# 2. set Head=Head.Next\n",
        "# 6. set Head.Prve=NUll\n",
        "# 7. EXit\n",
        "\n",
        "class Node:\n",
        "    def __init__(self, data):\n",
        "        self.data = data\n",
        "        self.prev = None\n",
        "        self.next = None\n",
        "\n",
        "\n",
        "class DoublyLinkedList:\n",
        "    def __init__(self):\n",
        "        self.head = None\n",
        "\n",
        "    def traversal(self):\n",
        "        if self.head is None:\n",
        "            print(\"DLL is empty\")\n",
        "            return\n",
        "\n",
        "        temp = self.head\n",
        "        while temp is not None:\n",
        "            print(temp.data, end=\"-->\")\n",
        "            temp = temp.next\n",
        "        print(\"Null\")\n",
        "\n",
        "    def insert_at_beginning(self, data):\n",
        "        new_node = Node(data)\n",
        "        if self.head is None:\n",
        "            self.head = new_node\n",
        "            return\n",
        "        new_node.next = self.head\n",
        "        self.head.prev = new_node\n",
        "        self.head = new_node\n",
        "\n",
        "    def insert_at_end(self, data):\n",
        "        new_node = Node(data)\n",
        "        if self.head is None:\n",
        "            self.head = new_node\n",
        "            return\n",
        "\n",
        "        temp = self.head\n",
        "        while temp.next:\n",
        "            temp = temp.next\n",
        "        temp.next = new_node\n",
        "        new_node.prev = temp\n",
        "\n",
        "    def delete_at_beginning(self):\n",
        "        if self.head is None:\n",
        "            print(\"DLL is empty\")\n",
        "            return\n",
        "\n",
        "        if self.head.next is None:  # Only one node\n",
        "            self.head = None\n",
        "            return\n",
        "\n",
        "        self.head = self.head.next\n",
        "        self.head.prev = None\n",
        "# Example usage\n",
        "dll = DoublyLinkedList()\n",
        "dll.insert_at_end(10)\n",
        "dll.insert_at_end(20)\n",
        "dll.insert_at_end(30)\n",
        "dll.traversal()\n",
        "dll.delete_at_beginning()\n",
        "dll.traversal()\n"
      ],
      "metadata": {
        "colab": {
          "base_uri": "https://localhost:8080/"
        },
        "id": "lE7YY-AVj52e",
        "outputId": "7c978c94-f131-4fda-a5b7-e80199fc4611"
      },
      "execution_count": null,
      "outputs": [
        {
          "output_type": "stream",
          "name": "stdout",
          "text": [
            "10-->20-->30-->Null\n",
            "20-->30-->Null\n"
          ]
        }
      ]
    },
    {
      "cell_type": "markdown",
      "source": [
        "**deletion at end -----DLL**\n"
      ],
      "metadata": {
        "id": "FvezVai6kQGE"
      }
    },
    {
      "cell_type": "code",
      "source": [
        "#  deletion at end -----DLL\n",
        "\n",
        "class Node:\n",
        "    def __init__(self, data):\n",
        "        self.data = data\n",
        "        self.prev = None\n",
        "        self.next = None\n",
        "\n",
        "\n",
        "class DoublyLinkedList:\n",
        "    def __init__(self):\n",
        "        self.head = None\n",
        "\n",
        "    def traversal(self):\n",
        "        if self.head is None:\n",
        "            print(\"DLL is empty\")\n",
        "            return\n",
        "\n",
        "        temp = self.head\n",
        "        while temp is not None:\n",
        "            print(temp.data, end=\"-->\")\n",
        "            temp = temp.next\n",
        "        print(\"Null\")\n",
        "\n",
        "    def insert_at_beginning(self, data):\n",
        "        new_node = Node(data)\n",
        "        if self.head is None:\n",
        "            self.head = new_node\n",
        "            return\n",
        "        new_node.next = self.head\n",
        "        self.head.prev = new_node\n",
        "        self.head = new_node\n",
        "\n",
        "    def insert_at_end(self, data):\n",
        "        new_node = Node(data)\n",
        "        if self.head is None:\n",
        "            self.head = new_node\n",
        "            return\n",
        "\n",
        "        temp = self.head\n",
        "        while temp.next:\n",
        "            temp = temp.next\n",
        "        temp.next = new_node\n",
        "        new_node.prev = temp\n",
        "\n",
        "    def delete_at_beginning(self):\n",
        "        if self.head is None:\n",
        "            print(\"DLL is empty\")\n",
        "            return\n",
        "\n",
        "        if self.head.next is None:  # Only one node\n",
        "            self.head = None\n",
        "            return\n",
        "\n",
        "        self.head = self.head.next\n",
        "        self.head.prev = None\n",
        "\n",
        "    def delete_at_end(self):\n",
        "        if self.head is None:\n",
        "            print(\"DLL is empty\")\n",
        "            return\n",
        "\n",
        "        if self.head.next is None: # Only one node\n",
        "            self.head = None\n",
        "            return\n",
        "\n",
        "        temp = self.head\n",
        "        while temp.next is not None:\n",
        "            temp = temp.next\n",
        "        temp.prev.next = None\n",
        "# Example usage\n",
        "dll = DoublyLinkedList()\n",
        "dll.insert_at_end(10)\n",
        "dll.insert_at_end(20)\n",
        "dll.insert_at_end(30)\n",
        "dll.traversal()\n",
        "dll.delete_at_end()\n",
        "dll.traversal()\n"
      ],
      "metadata": {
        "colab": {
          "base_uri": "https://localhost:8080/"
        },
        "id": "DPp-rA17kM7S",
        "outputId": "ef4a052a-2382-4573-e174-46b160177999"
      },
      "execution_count": null,
      "outputs": [
        {
          "output_type": "stream",
          "name": "stdout",
          "text": [
            "10-->20-->30-->Null\n",
            "10-->20-->Null\n"
          ]
        }
      ]
    },
    {
      "cell_type": "markdown",
      "source": [
        "#17/02/25---------------------------monday\n"
      ],
      "metadata": {
        "id": "sZod6r2THYYa"
      }
    },
    {
      "cell_type": "markdown",
      "source": [
        "**Odd-even Linked list**\n",
        "1. if Head==NOne  and Head.Link==None\n",
        "            return Head\n",
        "2. intialization        \n",
        "    ODD=Head,EVEN=Head.Link,Even_Head=Even\n",
        "3. separate Odd and Even List\n",
        "      while Even!=none and even.Link!=None:\n",
        "          Odd.link=Even.link\n",
        "          Odd=odd.link\n",
        "          Even.link=Odd.link\n",
        "          Even=Even.link\n",
        "4. connect odd list in even list\n",
        "        Odd.List=Even_Head\n",
        "5. Return Head\n"
      ],
      "metadata": {
        "id": "DI4CAFqAHg53"
      }
    },
    {
      "cell_type": "code",
      "source": [
        "# prompt: **Odd-even Linked list**\n",
        "# 1. if Head==NOne  and Head.Link==None\n",
        "#             return Head\n",
        "# 2. intialization\n",
        "#     ODD=Head,EVEN=Head.Link,Even_Head=Even\n",
        "# 3. separate Odd and Even List\n",
        "#       while Even!=none and even.Link!=None:\n",
        "#           Odd.link=Even.link\n",
        "#           Odd=odd.link\n",
        "#           Even.link=Odd.link\n",
        "#           Even=Even.link\n",
        "# 4. connect odd list in even list\n",
        "#         Odd.List=Even_Head\n",
        "# 5. Return Head\n",
        "\n",
        "class Node:\n",
        "    def __init__(self, data):\n",
        "        self.data = data\n",
        "        self.link = None\n",
        "\n",
        "\n",
        "class LinkedList:\n",
        "    def __init__(self):\n",
        "        self.head = None\n",
        "\n",
        "    def traversal(self):\n",
        "        if self.head is None:\n",
        "            print(\"List is empty\")\n",
        "            return\n",
        "        temp = self.head\n",
        "        while temp:\n",
        "            print(temp.data, end=\"-->\")\n",
        "            temp = temp.link\n",
        "        print(\"Null\")\n",
        "\n",
        "    def insert_at_end(self, data):\n",
        "        new_node = Node(data)\n",
        "        if self.head is None:\n",
        "            self.head = new_node\n",
        "            return\n",
        "        temp = self.head\n",
        "        while temp.link:\n",
        "            temp = temp.link\n",
        "        temp.link = new_node\n",
        "\n",
        "    def odd_even_list(self):\n",
        "        if self.head is None or self.head.link is None:\n",
        "            return self.head\n",
        "\n",
        "        odd = self.head\n",
        "        even = self.head.link\n",
        "        even_head = even\n",
        "\n",
        "        while even is not None and even.link is not None:\n",
        "            odd.link = even.link\n",
        "            odd = odd.link\n",
        "            even.link = odd.link\n",
        "            even = even.link\n",
        "        odd.link = even_head\n",
        "        return self.head\n",
        "# Example usage\n",
        "obj = LinkedList()\n",
        "obj.insert_at_end(1)\n",
        "obj.insert_at_end(2)\n",
        "obj.insert_at_end(3)\n",
        "obj.insert_at_end(4)\n",
        "obj.insert_at_end(5)\n",
        "\n",
        "print(\"Original Linked List:\")\n",
        "obj.traversal()\n",
        "\n",
        "obj.odd_even_list()\n",
        "print(\"\\nOdd-Even Linked List:\")\n",
        "obj.traversal()\n"
      ],
      "metadata": {
        "colab": {
          "base_uri": "https://localhost:8080/"
        },
        "id": "U7N0jDwsSnKh",
        "outputId": "9f4803d6-2eee-4e25-e1de-997efe5afd85"
      },
      "execution_count": null,
      "outputs": [
        {
          "output_type": "stream",
          "name": "stdout",
          "text": [
            "Original Linked List:\n",
            "1-->2-->3-->4-->5-->Null\n",
            "\n",
            "Odd-Even Linked List:\n",
            "1-->3-->5-->2-->4-->Null\n"
          ]
        }
      ]
    },
    {
      "cell_type": "markdown",
      "source": [
        "**reverse a linked list **\n",
        "\n",
        "1. initialze:\n",
        "    prve=Null\n",
        "    Current=Head\n",
        "2.loop while Current is not Null:\n",
        "      next =Current.Link\n",
        "      Current.Link=prve\n",
        "      Prve=Current\n",
        "      Current=Next\n",
        "\n",
        "3. Set Head=Prev (new Head of the revesed List)"
      ],
      "metadata": {
        "id": "Kc2LZ13LPR8x"
      }
    },
    {
      "cell_type": "code",
      "source": [
        "# **reverse a linked list **\n",
        "# 1. initialze:\n",
        "#     prve=Null\n",
        "#     Current=Head\n",
        "# 2.loop while Current is not Null:\n",
        "#       next =Current.Link\n",
        "#       Current.Link=prve\n",
        "#       Prve=Current\n",
        "#       Current=Next\n",
        "# 3. Set Head=Prev (new Head of the revesed List)\n",
        "# and print the output\n",
        "\n",
        "class Node:\n",
        "    def __init__(self, data):\n",
        "        self.data = data\n",
        "        self.link = None\n",
        "\n",
        "\n",
        "class LinkedList:\n",
        "    def __init__(self):\n",
        "        self.head = None\n",
        "\n",
        "    def traversal(self):\n",
        "        if self.head is None:\n",
        "            print(\"List is empty\")\n",
        "            return\n",
        "        temp = self.head\n",
        "        while temp:\n",
        "            print(temp.data, end=\"-->\")\n",
        "            temp = temp.link\n",
        "        print(\"Null\")\n",
        "\n",
        "    def insert_at_end(self, data):\n",
        "        new_node = Node(data)\n",
        "        if self.head is None:\n",
        "            self.head = new_node\n",
        "            return\n",
        "        temp = self.head\n",
        "        while temp.link:\n",
        "            temp = temp.link\n",
        "        temp.link = new_node\n",
        "\n",
        "    def reverse_linked_list(self):\n",
        "        prev = None\n",
        "        current = self.head\n",
        "        while current is not None:\n",
        "            next_node = current.link\n",
        "            current.link = prev\n",
        "            prev = current\n",
        "            current = next_node\n",
        "        self.head = prev\n",
        "# Example usage\n",
        "obj = LinkedList()\n",
        "obj.insert_at_end(1)\n",
        "obj.insert_at_end(2)\n",
        "obj.insert_at_end(3)\n",
        "obj.insert_at_end(4)\n",
        "obj.insert_at_end(5)\n",
        "\n",
        "print(\"Original Linked List:\")\n",
        "obj.traversal()\n",
        "\n",
        "obj.reverse_linked_list()\n",
        "print(\"\\nReversed Linked List:\")\n",
        "obj.traversal()\n"
      ],
      "metadata": {
        "colab": {
          "base_uri": "https://localhost:8080/"
        },
        "id": "4-vKKtLkbsQ4",
        "outputId": "28d720f4-e911-4517-b73a-055457ae8ad0"
      },
      "execution_count": null,
      "outputs": [
        {
          "output_type": "stream",
          "name": "stdout",
          "text": [
            "Original Linked List:\n",
            "1-->2-->3-->4-->5-->Null\n",
            "\n",
            "Reversed Linked List:\n",
            "5-->4-->3-->2-->1-->Null\n"
          ]
        }
      ]
    },
    {
      "cell_type": "markdown",
      "source": [
        "**Find the middle of the linkedList**\n",
        "\n",
        "1. initialize two pointers                  \n",
        "      Slow=Head    \n",
        "      Fast=Head    \n",
        "2. move pointer                            \n",
        "      while Fast!=Null and Fast.link!=Null             \n",
        "      Slow=slow.link             \n",
        "      Fast=Fast.link.Link                    \n",
        "  (End of Loop)               \n",
        "3. return middle NOde              \n",
        "      Return Slow               \n"
      ],
      "metadata": {
        "id": "XzYz96tyaThi"
      }
    },
    {
      "cell_type": "code",
      "source": [
        "# prompt: **Find the middle of the linkedList**\n",
        "# 1. initialize two pointers\n",
        "#       Slow=Head\n",
        "#       Fast=Head\n",
        "# 2. move pointer\n",
        "#       while Fast!=Null and Fast.link!=Null\n",
        "#       Slow=slow.link\n",
        "#       Fast=Fast.link.Link\n",
        "#   (End of Loop)\n",
        "# 3. return middle NOde\n",
        "#       Return Slow\n",
        "\n",
        "class Node:\n",
        "    def __init__(self, data):\n",
        "        self.data = data\n",
        "        self.link = None\n",
        "\n",
        "\n",
        "class LinkedList:\n",
        "    def __init__(self):\n",
        "        self.head = None\n",
        "\n",
        "    def traversal(self):\n",
        "        if self.head is None:\n",
        "            print(\"List is empty\")\n",
        "            return\n",
        "        temp = self.head\n",
        "        while temp:\n",
        "            print(temp.data, end=\"-->\")\n",
        "            temp = temp.link\n",
        "        print(\"Null\")\n",
        "\n",
        "    def insert_at_end(self, data):\n",
        "        new_node = Node(data)\n",
        "        if self.head is None:\n",
        "            self.head = new_node\n",
        "            return\n",
        "        temp = self.head\n",
        "        while temp.link:\n",
        "            temp = temp.link\n",
        "        temp.link = new_node\n",
        "\n",
        "    def find_middle(self):\n",
        "        if self.head is None:\n",
        "            return None\n",
        "\n",
        "        slow = self.head\n",
        "        fast = self.head\n",
        "\n",
        "        while fast and fast.link:\n",
        "            slow = slow.link\n",
        "            fast = fast.link.link\n",
        "\n",
        "        return slow.data\n",
        "# Example usage\n",
        "obj = LinkedList()\n",
        "obj.insert_at_end(1)\n",
        "obj.insert_at_end(2)\n",
        "obj.insert_at_end(3)\n",
        "obj.insert_at_end(4)\n",
        "obj.insert_at_end(5)\n",
        "\n",
        "print(\"Original Linked List:\")\n",
        "obj.traversal()\n",
        "\n",
        "middle_node = obj.find_middle()\n",
        "print(\"\\nMiddle node data:\", middle_node)\n",
        "\n"
      ],
      "metadata": {
        "colab": {
          "base_uri": "https://localhost:8080/"
        },
        "id": "nUPPm0Krb5Oo",
        "outputId": "af2306f9-c043-4bfc-ee76-bf9a099e67a0"
      },
      "execution_count": null,
      "outputs": [
        {
          "output_type": "stream",
          "name": "stdout",
          "text": [
            "Original Linked List:\n",
            "1-->2-->3-->4-->5-->Null\n",
            "\n",
            "Middle node data: 3\n"
          ]
        }
      ]
    },
    {
      "cell_type": "markdown",
      "source": [
        "**Mereged two Linked list**\n",
        "\n",
        "1. lnitialize Result List\n",
        "        Result= NULl\n",
        "2. Compare Nodes\n",
        "        while List1 !=NUll and List2!=Null\n",
        "                if List1.val<List2.val\n",
        "                      add list1 to result\n",
        "                      list1=list1.link\n",
        "                else\n",
        "                   Add List2 to Result\n",
        "                   List2=List2.Link\n",
        "3. add remaining Nodes\n",
        "        while List1!= Null\n",
        "              Add List1 to Result\n",
        "              List1 = List1.link\n",
        "        while List2!=Null\n",
        "              add List2 to Result\n",
        "              List2=list2.link\n",
        "4. Return result List\n",
        "      return Result"
      ],
      "metadata": {
        "id": "H6K8J-BWj1nN"
      }
    },
    {
      "cell_type": "code",
      "source": [
        "# Mereged two Linked list\n",
        "# 1. lnitialize Result List\n",
        "#         Result= NULl\n",
        "# 2. Compare Nodes\n",
        "#         while List1 !=NUll and List2!=Null\n",
        "#                 if List1.val<List2.val\n",
        "#                       add list1 to result\n",
        "#                       list1=list1.link\n",
        "#                 else\n",
        "#                    Add List2 to Result\n",
        "#                    List2=List2.Link\n",
        "# 3. add remaining Nodes\n",
        "#         while List1!= Null\n",
        "#               Add List1 to Result\n",
        "#               List1 = List1.link\n",
        "#         while List2!=Null\n",
        "#               add List2 to Result\n",
        "#               List2=list2.link\n",
        "# 4. Return result List\n",
        "#       return Result\n",
        "# also print the output\n",
        "\n",
        "class Node:\n",
        "    def __init__(self, data):\n",
        "        self.data = data\n",
        "        self.link = None\n",
        "\n",
        "\n",
        "class LinkedList:\n",
        "    def __init__(self):\n",
        "        self.head = None\n",
        "\n",
        "    def traversal(self):\n",
        "        if self.head is None:\n",
        "            print(\"List is empty\")\n",
        "            return\n",
        "        temp = self.head\n",
        "        while temp:\n",
        "            print(temp.data, end=\"-->\")\n",
        "            temp = temp.link\n",
        "        print(\"Null\")\n",
        "\n",
        "    def insert_at_end(self, data):\n",
        "        new_node = Node(data)\n",
        "        if self.head is None:\n",
        "            self.head = new_node\n",
        "            return\n",
        "        temp = self.head\n",
        "        while temp.link:\n",
        "            temp = temp.link\n",
        "        temp.link = new_node\n",
        "\n",
        "    def merge_two_sorted_lists(self, list2):\n",
        "        result = None\n",
        "\n",
        "        # Handle empty lists\n",
        "        if not self.head:\n",
        "            return list2.head\n",
        "        if not list2.head:\n",
        "            return self.head\n",
        "\n",
        "        current1 = self.head\n",
        "        current2 = list2.head\n",
        "\n",
        "        if current1.data <= current2.data:\n",
        "            result = current1\n",
        "            current1 = current1.link\n",
        "        else:\n",
        "            result = current2\n",
        "            current2 = current2.link\n",
        "\n",
        "        current_result = result\n",
        "        while current1 and current2:\n",
        "            if current1.data <= current2.data:\n",
        "                current_result.link = current1\n",
        "                current1 = current1.link\n",
        "            else:\n",
        "                current_result.link = current2\n",
        "                current2 = current2.link\n",
        "            current_result = current_result.link\n",
        "\n",
        "        # Add remaining elements\n",
        "        current_result.link = current1 or current2\n",
        "\n",
        "        # Create a new linkedlist to return the merged result\n",
        "        merged_list = LinkedList()\n",
        "        merged_list.head = result\n",
        "        return merged_list\n",
        "\n",
        "# Example usage\n",
        "list1 = LinkedList()\n",
        "list1.insert_at_end(1)\n",
        "list1.insert_at_end(3)\n",
        "list1.insert_at_end(5)\n",
        "\n",
        "list2 = LinkedList()\n",
        "list2.insert_at_end(2)\n",
        "list2.insert_at_end(4)\n",
        "list2.insert_at_end(6)\n",
        "\n",
        "print(\"Original Linked List 1:\")\n",
        "list1.traversal()\n",
        "print(\"\\nOriginal Linked List 2:\")\n",
        "list2.traversal()\n",
        "\n",
        "\n",
        "merged_list = list1.merge_two_sorted_lists(list2)\n",
        "print(\"\\nMerged Linked List:\")\n",
        "merged_list.traversal()\n"
      ],
      "metadata": {
        "colab": {
          "base_uri": "https://localhost:8080/"
        },
        "id": "_amizVAvmW5p",
        "outputId": "4b99a419-0a8d-493a-8985-5b2fc147e0b9"
      },
      "execution_count": null,
      "outputs": [
        {
          "output_type": "stream",
          "name": "stdout",
          "text": [
            "Original Linked List 1:\n",
            "1-->3-->5-->Null\n",
            "\n",
            "Original Linked List 2:\n",
            "2-->4-->6-->Null\n",
            "\n",
            "Merged Linked List:\n",
            "1-->2-->3-->4-->5-->6-->Null\n"
          ]
        }
      ]
    },
    {
      "cell_type": "markdown",
      "source": [
        "#24/02/2025 ---------------Monday"
      ],
      "metadata": {
        "id": "3tPqZ4rQH6CY"
      }
    },
    {
      "cell_type": "markdown",
      "source": [
        "**Stack**\n",
        "\n",
        "it is a linear data structure in which elements are inserted from one end and deleted from the same end.           \n",
        "-----LIFO (principle)            \n",
        "top(which always point topmost element of the stack)                     \n",
        "operation: pust(),pop(),peek(),display(),etc........"
      ],
      "metadata": {
        "id": "8qW7W1M2IVq8"
      }
    },
    {
      "cell_type": "markdown",
      "source": [
        "stack implementation using list:  "
      ],
      "metadata": {
        "id": "WvNPjfgMJoI5"
      }
    },
    {
      "cell_type": "code",
      "source": [
        "#stack implementation using list:\n",
        "\n",
        "class Stack:\n",
        "    def __init__(self):\n",
        "        self.stack = []\n",
        "\n",
        "    def is_empty(self):\n",
        "        return len(self.stack) == 0\n",
        "\n",
        "    def push(self, item):\n",
        "        self.stack.append(item)\n",
        "\n",
        "    def pop(self):\n",
        "        if not self.is_empty():\n",
        "            return self.stack.pop()\n",
        "        else:\n",
        "            return None  # Or raise an exception\n",
        "\n",
        "    def peek(self):\n",
        "        if not self.is_empty():\n",
        "            return self.stack[-1]\n",
        "        else:\n",
        "            return None  # Or raise an exception\n",
        "\n",
        "    def size(self):\n",
        "        return len(self.stack)\n",
        "\n",
        "    def display(self):\n",
        "        print(self.stack)\n",
        "\n",
        "# Example usage\n",
        "stack = Stack()\n",
        "stack.push(10)\n",
        "stack.push(20)\n",
        "stack.push(30)\n",
        "stack.display()  # [10, 20, 30]\n",
        "print(stack.pop())  # 30\n",
        "print(stack.peek()) # 20\n",
        "stack.display() # [10, 20]\n"
      ],
      "metadata": {
        "colab": {
          "base_uri": "https://localhost:8080/"
        },
        "id": "k_q9oek4KDxw",
        "outputId": "0d66e9e9-9c4c-4a6b-a690-a212abbf9c5c"
      },
      "execution_count": null,
      "outputs": [
        {
          "output_type": "stream",
          "name": "stdout",
          "text": [
            "[10, 20, 30]\n",
            "30\n",
            "20\n",
            "[10, 20]\n"
          ]
        }
      ]
    },
    {
      "cell_type": "markdown",
      "source": [
        "**fixed length stack**\n"
      ],
      "metadata": {
        "id": "vfuWKRnGPCTO"
      }
    },
    {
      "cell_type": "code",
      "source": [
        "#fixed length stack\n",
        "\n",
        "class FixedStack:\n",
        "    def __init__(self, capacity):\n",
        "        self.capacity = capacity\n",
        "        self.stack = []\n",
        "\n",
        "    def is_empty(self):\n",
        "        return len(self.stack)==0\n",
        "\n",
        "    def is_full(self):\n",
        "        return len(self.stack) == self.capacity\n",
        "\n",
        "    def push(self, item):\n",
        "        if not self.is_full():\n",
        "            self.stack.append(item)\n",
        "        else:\n",
        "            print(\"Stack Overflow\")\n",
        "\n",
        "    def pop(self):\n",
        "        if not self.is_empty():\n",
        "            return self.stack.pop()\n",
        "        else:\n",
        "            print(\"Stack Underflow\")  # Or raise an exception\n",
        "            return None\n",
        "\n",
        "    def peek(self):\n",
        "        if not self.is_empty():\n",
        "            return self.stack[-1]\n",
        "        else:\n",
        "            print(\"Stack is empty\") # Or raise an exception\n",
        "            return None\n",
        "\n",
        "    def size(self):\n",
        "        return len(self.stack)\n",
        "\n",
        "    def display(self):\n",
        "        print(self.stack)\n",
        "\n",
        "# Example usage\n",
        "stack = FixedStack(3)  # Create a stack with a maximum capacity of 2\n",
        "print(stack.pop()) # \"Stack Underflow\"------- return None\n",
        "stack.push(10)\n",
        "stack.push(20)\n",
        "stack.push(30)\n",
        "stack.display()\n",
        "stack.push(40)  # This will print \"Stack Overflow\"\n",
        "stack.display()\n",
        "print(stack.pop())\n",
        "print(stack.peek())\n",
        "stack.display()\n",
        "print(stack.pop())\n",
        "print(stack.pop())\n",
        "print(stack.pop()) # \"Stack Underflow\"------- return None\n"
      ],
      "metadata": {
        "colab": {
          "base_uri": "https://localhost:8080/"
        },
        "id": "QeBwgeWbQnjO",
        "outputId": "8622a71e-cbaa-46ac-cd56-f2afc7afe95b"
      },
      "execution_count": null,
      "outputs": [
        {
          "output_type": "stream",
          "name": "stdout",
          "text": [
            "Stack Underflow\n",
            "None\n",
            "[10, 20, 30]\n",
            "Stack Overflow\n",
            "[10, 20, 30]\n",
            "30\n",
            "20\n",
            "[10, 20]\n",
            "20\n",
            "10\n",
            "Stack Underflow\n",
            "None\n"
          ]
        }
      ]
    },
    {
      "cell_type": "markdown",
      "source": [
        "stack using linked list ,insert at begin\n",
        "\n"
      ],
      "metadata": {
        "id": "xGXA4sH8gqLz"
      }
    },
    {
      "cell_type": "code",
      "source": [
        "# stack using linked list ,insert at begin\n",
        "\n",
        "class Node:\n",
        "    def __init__(self, data):\n",
        "        self.data = data\n",
        "        self.next = None\n",
        "\n",
        "class Stack:\n",
        "    def __init__(self):\n",
        "        self.head = None\n",
        "\n",
        "    def is_empty(self):\n",
        "        return self.head is None\n",
        "\n",
        "    def push(self, data):\n",
        "        new_node = Node(data)\n",
        "        new_node.next = self.head\n",
        "        self.head = new_node\n",
        "\n",
        "    def pop(self):\n",
        "        if self.is_empty():\n",
        "            return None\n",
        "        popped_node = self.head\n",
        "        self.head = self.head.next\n",
        "        return popped_node.data\n",
        "\n",
        "    def peek(self):\n",
        "        if self.is_empty():\n",
        "            return None\n",
        "        return self.head.data\n",
        "\n",
        "    def display(self):\n",
        "        temp = self.head\n",
        "        while temp:\n",
        "            print(temp.data, end=\" \")\n",
        "            temp = temp.next\n",
        "        print()\n",
        "\n",
        "# Example usage\n",
        "stack = Stack()\n",
        "stack.push(10)\n",
        "stack.push(20)\n",
        "stack.push(30)\n",
        "stack.display()  # Output: 30 20 10\n",
        "print(\"Top:\", stack.peek())  # Output: Top: 20\n",
        "stack.display()  # Output: 20 10\n"
      ],
      "metadata": {
        "colab": {
          "base_uri": "https://localhost:8080/"
        },
        "id": "vY8eMlN_kxdt",
        "outputId": "d9dfdb4e-477a-41ce-c1c7-46e01cc9a1c7"
      },
      "execution_count": null,
      "outputs": [
        {
          "output_type": "stream",
          "name": "stdout",
          "text": [
            "30 20 10 \n",
            "Top: 30\n",
            "30 20 10 \n"
          ]
        }
      ]
    },
    {
      "cell_type": "markdown",
      "source": [
        "#10/03/25  -----------------Monday"
      ],
      "metadata": {
        "id": "GGVvCPuLQONO"
      }
    },
    {
      "cell_type": "markdown",
      "source": [
        "**---------------postfix evaluation-------------------**\n",
        "\n",
        "1. initialize the empyt stack                \n",
        "2. for each symbol in postfix_expression\n",
        "              if symbol is operand\n",
        "                  push symbol into the stack\n",
        "3. if symbol is operater,\n",
        "              pop two operands from stack\n",
        "              prefrom operation using the two operands\n",
        "              push the result in to the stack\n",
        "4. after processing all the symbols\n",
        "          the final result is the only elementleft in the stack\n",
        "5. return the final result"
      ],
      "metadata": {
        "id": "tnN4_FIdQuel"
      }
    },
    {
      "cell_type": "code",
      "source": [
        "#**postfix evaluation**\n",
        "# 1. initialize the empyt stack\n",
        "# 2. for each symbol in postfix_expression\n",
        "#               if symbol is operand\n",
        "#                   push symbol into the stack\n",
        "# 3. if symbol is operater,\n",
        "#               pop two operands from stack\n",
        "#               prefrom operation using the two operands\n",
        "#               push the result in to the stack\n",
        "# 4. after processing all the symbols\n",
        "#           the final result is the only elementleft in the stack\n",
        "# 5. return the final result\n",
        "\n",
        "class Stack:\n",
        "    def __init__(self):\n",
        "        self.stack = []\n",
        "\n",
        "    def is_empty(self):\n",
        "        return len(self.stack) == 0\n",
        "\n",
        "    def push(self, item):\n",
        "        self.stack.append(item)\n",
        "\n",
        "    def pop(self):\n",
        "        if not self.is_empty():\n",
        "            return self.stack.pop()\n",
        "        else:\n",
        "            return None\n",
        "\n",
        "    def peek(self):\n",
        "        if not self.is_empty():\n",
        "            return self.stack[-1]\n",
        "        else:\n",
        "            return None\n",
        "\n",
        "def postfix_evaluation(expression):\n",
        "    stack = Stack()\n",
        "    for symbol in expression:\n",
        "        if symbol.isdigit():\n",
        "            stack.push(int(symbol))\n",
        "        else:\n",
        "            operand2 = stack.pop()\n",
        "            operand1 = stack.pop()\n",
        "            if operand1 is None or operand2 is None:\n",
        "                return \"Invalid postfix expression\"\n",
        "            if symbol == '+':\n",
        "                result = operand1 + operand2\n",
        "            elif symbol == '-':\n",
        "                result = operand1 - operand2\n",
        "            elif symbol == '*':\n",
        "                result = operand1 * operand2\n",
        "            elif symbol == '/':\n",
        "                if operand2 == 0:\n",
        "                    return \"Division by zero error\"\n",
        "                result = operand1 // operand2 # Use // for integer division\n",
        "            else:\n",
        "                return \"Invalid operator\"\n",
        "            stack.push(result)\n",
        "    return stack.pop()\n",
        "\n",
        "# Get postfix expression from the user\n",
        "postfix_expression = input(\"Enter the postfix expression: \")\n",
        "result = postfix_evaluation(postfix_expression)\n",
        "print(\"Result:\", result)\n"
      ],
      "metadata": {
        "colab": {
          "base_uri": "https://localhost:8080/"
        },
        "id": "l7gjpK0zVBb8",
        "outputId": "13432c42-fc66-4f5e-cfaa-50cac13298ba"
      },
      "execution_count": null,
      "outputs": [
        {
          "output_type": "stream",
          "name": "stdout",
          "text": [
            "Enter the postfix expression: 2596-68+\n",
            "Result: 14\n"
          ]
        }
      ]
    },
    {
      "cell_type": "code",
      "source": [
        "import sys\n",
        "\n",
        "def print_stack(stack):\n",
        "    print(\"Stack:\", stack)\n",
        "\n",
        "def evaluate_postfix(expression):\n",
        "    stack = []\n",
        "    for char in expression:\n",
        "        if char.isdigit():\n",
        "            stack.append(int(char))\n",
        "            print(f\"Pushed: {char}\", end=' ')\n",
        "        else:\n",
        "            val2 = stack.pop()\n",
        "            val1 = stack.pop()\n",
        "            if char == '+':\n",
        "                result = val1 + val2\n",
        "            elif char == '-':\n",
        "                result = val1 - val2\n",
        "            elif char == '*':\n",
        "                result = val1 * val2\n",
        "            elif char == '/':\n",
        "                result = val1 // val2\n",
        "            stack.append(result)\n",
        "            print(f\"Performed: {val1} {char} {val2} = {result}\", end=' ')\n",
        "        print_stack(stack)\n",
        "    return stack[-1]\n",
        "\n",
        "expression = input(\"Enter An Expression :\")\n",
        "print(\"Postfix Expression:\", expression)\n",
        "result = evaluate_postfix(expression)\n",
        "print(\"Final Result:\", result)"
      ],
      "metadata": {
        "colab": {
          "base_uri": "https://localhost:8080/"
        },
        "id": "QODBCOjjROyk",
        "outputId": "f0f55200-dc27-4e57-e765-83a857e094bc"
      },
      "execution_count": null,
      "outputs": [
        {
          "output_type": "stream",
          "name": "stdout",
          "text": [
            "Enter An Expression :100200-\n",
            "Postfix Expression: 100200-\n",
            "Pushed: 1 Stack: [1]\n",
            "Pushed: 0 Stack: [1, 0]\n",
            "Pushed: 0 Stack: [1, 0, 0]\n",
            "Pushed: 2 Stack: [1, 0, 0, 2]\n",
            "Pushed: 0 Stack: [1, 0, 0, 2, 0]\n",
            "Pushed: 0 Stack: [1, 0, 0, 2, 0, 0]\n",
            "Performed: 0 - 0 = 0 Stack: [1, 0, 0, 2, 0]\n",
            "Final Result: 0\n"
          ]
        }
      ]
    },
    {
      "cell_type": "markdown",
      "source": [
        "**-----------------infix to postfix converstion-----------------------**\n",
        "  1. read the symbols from left to right\n",
        "  2. if the sybmbol is an operand (number/variable),print it to teh result.\n",
        "  3. if the symbol is '(' , push in to the stack.\n",
        "  4. if the symbol is ')' ,pop an print all operations from the stack until '(' is found , then discard '('.\n",
        "  5. if the symbole is an operator (+,-,*,/):\n",
        "            pop and print higher or equal precedence operator from the stack.\n",
        "            push the current operator onto the stack.\n",
        "  6. after reading all symbols, pop and print any remaining operators from the stack.\n"
      ],
      "metadata": {
        "id": "pJX8h3FWVWTC"
      }
    },
    {
      "cell_type": "code",
      "source": [
        "# infix to postfix converstion\n",
        "\n",
        "def infix_to_postfix(infix_expression):\n",
        "    precedence = {'+': 1, '-': 1, '*': 2, '/': 2, '^': 3}\n",
        "    output = \"\"\n",
        "    stack = []\n",
        "\n",
        "    for char in infix_expression:\n",
        "        if char.isalnum():\n",
        "            output += char\n",
        "        elif char == '(':\n",
        "            stack.append(char)\n",
        "        elif char == ')':\n",
        "            while stack and stack[-1] != '(':\n",
        "                output += stack.pop()\n",
        "            if stack and stack[-1] == '(':\n",
        "                stack.pop()  # Discard '('\n",
        "        elif char in precedence:\n",
        "            while stack and stack[-1] != '(' and precedence.get(char, 0) <= precedence.get(stack[-1], 0):\n",
        "                output += stack.pop()\n",
        "            stack.append(char)\n",
        "\n",
        "    while stack:\n",
        "        output += stack.pop()\n",
        "    return output\n",
        "\n",
        "# Example usage\n",
        "infix_expression = input(\"Enter an infix expression: \")\n",
        "postfix_expression = infix_to_postfix(infix_expression)\n",
        "print(\"Postfix expression:\", postfix_expression)\n"
      ],
      "metadata": {
        "colab": {
          "base_uri": "https://localhost:8080/"
        },
        "id": "BwLHDszue0C-",
        "outputId": "0e897e73-501e-42c1-906e-d062081edd2e"
      },
      "execution_count": null,
      "outputs": [
        {
          "output_type": "stream",
          "name": "stdout",
          "text": [
            "Enter an infix expression: A+B*C-D/E\n",
            "Postfix expression: ABC*+DE/-\n"
          ]
        }
      ]
    },
    {
      "cell_type": "markdown",
      "source": [
        "#17/03/25 ---------- monday"
      ],
      "metadata": {
        "id": "Frysc9hGcnM0"
      }
    },
    {
      "cell_type": "markdown",
      "source": [
        "**Queue**"
      ],
      "metadata": {
        "id": "LpOrZhu3c8IC"
      }
    },
    {
      "cell_type": "code",
      "source": [
        "#---------Queue---------\n",
        "from queue import Queue\n",
        "q=Queue(maxsize=3)\n",
        "print(q.qsize())\n",
        "q.put('a')\n",
        "q.put('b')\n",
        "q.put('c')\n",
        "print(q.full())\n",
        "print(q.get())"
      ],
      "metadata": {
        "colab": {
          "base_uri": "https://localhost:8080/"
        },
        "id": "RM7I9VXUfYMV",
        "outputId": "cd07dd48-24b0-4eb7-d278-0d697e56faae"
      },
      "execution_count": null,
      "outputs": [
        {
          "output_type": "stream",
          "name": "stdout",
          "text": [
            "0\n",
            "True\n",
            "a\n"
          ]
        }
      ]
    },
    {
      "cell_type": "code",
      "source": [
        "from queue import Queue\n",
        "q=Queue()\n",
        "q.put(1)\n",
        "q.put(2)\n",
        "q.put(3)\n",
        "while q:\n",
        "  print(q.get())"
      ],
      "metadata": {
        "id": "354XEzCmfUdW"
      },
      "execution_count": null,
      "outputs": []
    },
    {
      "cell_type": "code",
      "source": [
        "class queue:\n",
        "  def __init__(self,capacity):\n",
        "    self.front= -1\n",
        "    self.rear=-1\n",
        "    self.capacity=capacity\n",
        "  def Enqeue(self,item):\n",
        "    #case 1  (if it is full)\n",
        "    if self.rear==self.capacity-1:\n",
        "      print(\"overflow/it is full\")\n",
        "      return\n",
        "    if self.front == -1:\n",
        "      self.front +=1\n",
        "    self.rear+=1\n",
        "    self.value=value\n",
        "  def Deqeue(self):\n",
        "    #case 1 (if it is empty)\n",
        "    if self.front==-1: #front or rear\n",
        "      print(\"underflow/it is empty\")\n",
        "      return\n",
        "    if self.front==self.rear:\n",
        "      element=self.value\n",
        "      self.value=None\n",
        "      self.front=-1\n",
        "      self.rear=-1\n",
        "      return element\n",
        "    else:\n",
        "      element=self.value\n",
        "      self.value=None\n",
        "      self.front+=1\n",
        "      return element\n",
        "  def display(self):\n",
        "    for i in range(self.front,self.rear+1):\n",
        "      print(self.value[i])\n",
        "\n",
        "    if self.front==-1:\n",
        "      print(\"underflow/it is empty\")\n",
        "      return\n",
        "\n"
      ],
      "metadata": {
        "id": "pssMRjHefaZs"
      },
      "execution_count": null,
      "outputs": []
    },
    {
      "cell_type": "code",
      "source": [
        "class queue:\n",
        "  def __init__(self,capacity):\n",
        "    self.front= -1\n",
        "    self.rear=-1\n",
        "    self.capacity=capacity\n",
        "    self.value = [None] * capacity # Initialize the queue as a list\n",
        "\n",
        "  def Enqeue(self,item):\n",
        "    #case 1  (if it is full)\n",
        "    if self.rear==self.capacity-1:\n",
        "      print(\"overflow/it is full\")\n",
        "      return\n",
        "    if self.front == -1:\n",
        "      self.front +=1\n",
        "    self.rear+=1\n",
        "    self.value[self.rear] = item # Assign the item to the correct index\n",
        "\n",
        "  def Deqeue(self):\n",
        "    #case 1 (if it is empty)\n",
        "    if self.front==-1: #front or rear\n",
        "      print(\"underflow/it is empty\")\n",
        "      return\n",
        "    if self.front==self.rear:\n",
        "      element=self.value[self.front]\n",
        "      self.value[self.front] = None # Clear the dequeued element\n",
        "      self.front=-1\n",
        "      self.rear=-1\n",
        "      return element\n",
        "    else:\n",
        "      element=self.value[self.front]\n",
        "      self.value[self.front] = None # Clear the dequeued element\n",
        "      self.front+=1\n",
        "      return element\n",
        "  #--------------------------------------------------------\n",
        "  def is_full(self):\n",
        "    return self.rear == self.capacity - 1\n",
        "\n",
        "  def is_empty(self):\n",
        "    return self.front == -1\n",
        "  #---------------------------\n",
        "  def display(self):\n",
        "    if self.front == -1:\n",
        "      print(\"underflow/it is empty\")\n",
        "      return\n",
        "    for i in range(self.front,self.rear+1):\n",
        "      print(self.value[i], end=\" \") # Print elements with spaces\n",
        "    print() # Newline at the end\n",
        "\n",
        "\n",
        "# Example usage\n",
        "q = queue(6)\n",
        "print(q.is_empty()) # True\n",
        "q.Enqeue(10)\n",
        "q.Enqeue(20)\n",
        "q.Enqeue(30)\n",
        "print(q.is_full()) # False\n",
        "q.display()  # Output: 10 20 30\n",
        "print(q.Deqeue()) # Output: 10\n",
        "q.display() # Output: 20 30\n",
        "q.Enqeue(40)\n",
        "q.display() # Output: 20 30 40\n",
        "print(q.Deqeue()) # Output: 20\n",
        "q.display() # Output: 30 40\n",
        "q.Enqeue(50)\n",
        "q.Enqeue(60)\n",
        "q.Enqeue(70) # Overflow\n",
        "print(q.is_full()) # True\n",
        "q.display()\n"
      ],
      "metadata": {
        "colab": {
          "base_uri": "https://localhost:8080/"
        },
        "id": "HnPTh06qn2Bg",
        "outputId": "87bd05a5-9f02-4366-de8d-9627b1bcbd3e"
      },
      "execution_count": null,
      "outputs": [
        {
          "output_type": "stream",
          "name": "stdout",
          "text": [
            "True\n",
            "False\n",
            "10 20 30 \n",
            "10\n",
            "20 30 \n",
            "20 30 40 \n",
            "20\n",
            "30 40 \n",
            "overflow/it is full\n",
            "True\n",
            "30 40 50 60 \n"
          ]
        }
      ]
    },
    {
      "cell_type": "code",
      "source": [
        "# prompt: now implement circular quere\n",
        "\n",
        "class CircularQueue:\n",
        "    def __init__(self, capacity):\n",
        "        self.capacity = capacity\n",
        "        self.queue = [None] * capacity\n",
        "        self.front = self.rear = -1\n",
        "        self.size = 0\n",
        "\n",
        "    def is_empty(self):\n",
        "        return self.size == 0\n",
        "\n",
        "    def is_full(self):\n",
        "        return self.size == self.capacity\n",
        "\n",
        "    def enqueue(self, item):\n",
        "        if self.is_full():\n",
        "            print(\"Queue is full\")\n",
        "            return\n",
        "        if self.is_empty():\n",
        "            self.front = 0\n",
        "        self.rear = (self.rear + 1) % self.capacity\n",
        "        self.queue[self.rear] = item\n",
        "        self.size += 1\n",
        "\n",
        "    def dequeue(self):\n",
        "        if self.is_empty():\n",
        "            print(\"Queue is empty\")\n",
        "            return None\n",
        "        item = self.queue[self.front]\n",
        "        self.queue[self.front] = None  # Clear the dequeued element\n",
        "        if self.front == self.rear:\n",
        "            self.front = self.rear = -1\n",
        "        else:\n",
        "            self.front = (self.front + 1) % self.capacity\n",
        "        self.size -= 1\n",
        "        return item\n",
        "\n",
        "    def display(self):\n",
        "      if self.is_empty():\n",
        "        print(\"Queue is empty\")\n",
        "        return\n",
        "\n",
        "      print(\"Elements in the circular queue are:\", end=\" \")\n",
        "      if self.rear >= self.front:\n",
        "        for i in range(self.front, self.rear + 1):\n",
        "          print(self.queue[i], end=\" \")\n",
        "      else:\n",
        "        for i in range(self.front, self.capacity):\n",
        "          print(self.queue[i], end=\" \")\n",
        "        for i in range(0, self.rear + 1):\n",
        "          print(self.queue[i], end=\" \")\n",
        "      print()\n",
        "# Example usage\n",
        "queue = CircularQueue(5)\n",
        "queue.enqueue(1)\n",
        "queue.enqueue(2)\n",
        "queue.enqueue(3)\n",
        "queue.enqueue(4)\n",
        "queue.enqueue(5)\n",
        "\n",
        "queue.display()\n",
        "\n",
        "print(\"Dequeued:\", queue.dequeue())\n",
        "print(\"Dequeued:\", queue.dequeue())\n",
        "\n",
        "queue.display()\n",
        "\n",
        "queue.enqueue(6)\n",
        "queue.enqueue(7)\n",
        "\n",
        "queue.display()\n"
      ],
      "metadata": {
        "colab": {
          "base_uri": "https://localhost:8080/"
        },
        "id": "hAx9KwVirdpl",
        "outputId": "064c7c21-6c04-49cd-b4e3-27878a24ab75"
      },
      "execution_count": null,
      "outputs": [
        {
          "output_type": "stream",
          "name": "stdout",
          "text": [
            "Elements in the circular queue are: 1 2 3 4 5 \n",
            "Dequeued: 1\n",
            "Dequeued: 2\n",
            "Elements in the circular queue are: 3 4 5 \n",
            "Elements in the circular queue are: 3 4 5 6 7 \n"
          ]
        }
      ]
    },
    {
      "cell_type": "markdown",
      "source": [
        "**Queue using linkedlist**"
      ],
      "metadata": {
        "id": "qm3J_7o_3JLD"
      }
    },
    {
      "cell_type": "code",
      "source": [
        "class Node:\n",
        "    def __init__(self,value):\n",
        "        self.value=value\n",
        "        self.next=None\n",
        "class Queue:\n",
        "    def __init__(self):\n",
        "        self.front=None\n",
        "        self.rear=None\n",
        "    def enqueue(self,value):\n",
        "        newnode= Node(value)\n",
        "        #case 1,if is empty\n",
        "        if self.front==None:\n",
        "            self.front=newnode\n",
        "            self.rear=newnode\n",
        "        else:\n",
        "            self.rear.next=newnode\n",
        "            self.rear=newnode\n",
        "    def Dequeue(self):\n",
        "        if self.front==None:\n",
        "            print(\"queue is empty\")\n",
        "            return None\n",
        "        if self.front==self.rear:\n",
        "            element=self.rear.value\n",
        "            self.rear=None\n",
        "            self.front=None\n",
        "            return element\n",
        "        element=self.front.value\n",
        "        self.front=self.front.next\n",
        "        return element\n",
        "    def display(self):\n",
        "        temp=self.front\n",
        "        while temp!=None:\n",
        "            print(temp.value,end=\" \")\n",
        "            temp=temp.next\n",
        "        print()\n",
        "\n",
        "q=Queue()\n",
        "q.enqueue(10)\n",
        "q.enqueue(20)\n",
        "q.enqueue(30)\n",
        "q.enqueue(40)\n",
        "q.display()\n",
        "q.Dequeue()\n",
        "q.display()"
      ],
      "metadata": {
        "colab": {
          "base_uri": "https://localhost:8080/"
        },
        "id": "tdla2y2O22vo",
        "outputId": "86014279-65b2-44f0-f0e1-d8f6b6206d4e"
      },
      "execution_count": null,
      "outputs": [
        {
          "output_type": "stream",
          "name": "stdout",
          "text": [
            "10 20 30 40 \n",
            "20 30 40 \n"
          ]
        }
      ]
    },
    {
      "cell_type": "markdown",
      "source": [
        "#24/03/25 ------------------monday"
      ],
      "metadata": {
        "id": "dm4YxWUxVX_C"
      }
    },
    {
      "cell_type": "code",
      "source": [
        "# prompt: write a program to insert a number in the tree\n",
        "\n",
        "class Node:\n",
        "    def __init__(self, data):\n",
        "        self.data = data\n",
        "        self.left = None\n",
        "        self.right = None\n",
        "\n",
        "\n",
        "def insert(node, data):\n",
        "    if node is None:\n",
        "        return Node(data)\n",
        "\n",
        "    if data < node.data:\n",
        "        node.left = insert(node.left, data)\n",
        "    else:\n",
        "        node.right = insert(node.right, data)\n",
        "\n",
        "    return node\n",
        "\n",
        "\n",
        "def inorder_traversal(node):\n",
        "    if node:\n",
        "        inorder_traversal(node.left)\n",
        "        print(node.data, end=\" \")\n",
        "        inorder_traversal(node.right)\n",
        "\n",
        "\n",
        "root = None\n",
        "root = insert(root, 50)\n",
        "insert(root, 30)\n",
        "insert(root, 20)\n",
        "insert(root, 40)\n",
        "insert(root, 70)\n",
        "insert(root, 60)\n",
        "insert(root, 80)\n",
        "\n",
        "print(\"Inorder traversal of the binary search tree:\")\n",
        "inorder_traversal(root)\n"
      ],
      "metadata": {
        "colab": {
          "base_uri": "https://localhost:8080/"
        },
        "id": "1Um4SEGimmcA",
        "outputId": "617c4c9b-9209-4de5-a3b2-3f641b7d456e"
      },
      "execution_count": null,
      "outputs": [
        {
          "output_type": "stream",
          "name": "stdout",
          "text": [
            "Inorder traversal of the binary search tree:\n",
            "20 30 40 50 60 70 80 "
          ]
        }
      ]
    },
    {
      "cell_type": "markdown",
      "source": [
        "input is 1 1 7\n",
        "\n",
        "**first 2 numbers  add 1 , third number should be -1 .**\n",
        "\n",
        "input: 1 1 7     \n",
        "      2 2 6         \n",
        "      3 3 5             \n",
        "      4 4 4  <--- all the numbers should be equal\n",
        "\n",
        "find the number of iterations        "
      ],
      "metadata": {
        "id": "Ko0qvbkEqNUq"
      }
    },
    {
      "cell_type": "code",
      "source": [
        "def find_it(a,b,c):\n",
        "  ite=0\n",
        "  while not (a==b==c):\n",
        "    a +=1\n",
        "    b+=1\n",
        "    c-=1\n",
        "    ite+=1\n",
        "  return ite\n",
        "a=int(input())\n",
        "b=int(input())\n",
        "c=int(input())\n",
        "print(find_it(a,b,c))"
      ],
      "metadata": {
        "colab": {
          "base_uri": "https://localhost:8080/"
        },
        "id": "bshMa0XWqJT2",
        "outputId": "5ef8a72d-d17a-4e8d-9ddd-7c2247f08e42"
      },
      "execution_count": null,
      "outputs": [
        {
          "output_type": "stream",
          "name": "stdout",
          "text": [
            "1\n",
            "1\n",
            "7\n",
            "3\n"
          ]
        }
      ]
    },
    {
      "cell_type": "markdown",
      "source": [
        "input is 1 1 7\n",
        "\n",
        "**any 2 numbers +1 and the other number -1**\n",
        "\n",
        "input: 1 1 7     \n",
        "      2 2 6         \n",
        "      3 3 5             \n",
        "      4 4 4  <--- all the numbers should be equal\n",
        "find the number of iterations  \n"
      ],
      "metadata": {
        "id": "ge9e6lN4uVqR"
      }
    },
    {
      "cell_type": "code",
      "source": [
        "def make_equal(a, b, c):\n",
        "    iterations = 0\n",
        "    while not (a == b == c):\n",
        "        # Find the max and min values\n",
        "        min_val = min(a, b, c)\n",
        "        max_val = max(a, b, c)\n",
        "\n",
        "        # Identify the middle value\n",
        "        mid_val = a + b + c - min_val - max_val\n",
        "\n",
        "        # Increase min_val and mid_val by 1, decrease max_val by 1\n",
        "        min_val += 1\n",
        "        mid_val += 1\n",
        "        max_val -= 1\n",
        "\n",
        "        # Assign back the updated values\n",
        "        a, b, c = min_val, mid_val, max_val\n",
        "        iterations += 1\n",
        "\n",
        "    return iterations\n",
        "\n",
        "# Example usage\n",
        "a, b, c = map(int, input(\"Enter three numbers: \").split())\n",
        "result = make_equal(a, b, c)\n",
        "print(\"Number of iterations:\", result)\n"
      ],
      "metadata": {
        "colab": {
          "base_uri": "https://localhost:8080/"
        },
        "id": "M-wtP2Wvt7Fb",
        "outputId": "a05c3576-c9a5-4192-9e24-b2f2bb451421"
      },
      "execution_count": null,
      "outputs": [
        {
          "output_type": "stream",
          "name": "stdout",
          "text": [
            "Enter three numbers: 1 1 7\n",
            "Number of iterations: 3\n"
          ]
        }
      ]
    },
    {
      "cell_type": "markdown",
      "source": [
        "**if not possible this operatino ,print -1**"
      ],
      "metadata": {
        "id": "ofzuItZNxlip"
      }
    },
    {
      "cell_type": "code",
      "source": [
        "def make_numbers_equal(a, b, c):\n",
        "    iterations = 0\n",
        "    numbers = [a, b, c]\n",
        "\n",
        "    while len(set(numbers)) > 1:  # Continue until all numbers are equal\n",
        "        numbers.sort()  # Sort the numbers\n",
        "        if numbers[2] - numbers[0] < 2:\n",
        "            return -1  # If the difference is less than 2, it's impossible to equalize\n",
        "        numbers[0] += 1\n",
        "        numbers[1] += 1\n",
        "        numbers[2] -= 1\n",
        "        iterations += 1\n",
        "\n",
        "    return iterations\n",
        "\n",
        "# Taking input from the user\n",
        "a, b, c = map(int, input().split())\n",
        "result = make_numbers_equal(a, b, c)\n",
        "print(\"Number of iterations:\", result)\n"
      ],
      "metadata": {
        "colab": {
          "base_uri": "https://localhost:8080/"
        },
        "id": "BTGUovLCwbfS",
        "outputId": "97331081-e17c-415a-f99b-cf175e2a1781"
      },
      "execution_count": null,
      "outputs": [
        {
          "output_type": "stream",
          "name": "stdout",
          "text": [
            "1 1 7\n",
            "Number of iterations: 3\n"
          ]
        }
      ]
    },
    {
      "cell_type": "markdown",
      "source": [
        "#02/04/25 ---------------wednesday"
      ],
      "metadata": {
        "id": "I7dF_MLYk6vc"
      }
    },
    {
      "cell_type": "markdown",
      "source": [
        "**Queues** ----------  **josephus problem**\n",
        "\n",
        "example exrcution:     \n",
        "for n=5 people and k=2(every second person is elminated)       \n",
        "initial queue:      \n",
        "[1,2,3,4,5]          \n",
        "elminate -> 2 Q=[1,3,4,5]           \n",
        "elminate -> 4 Q=[1,3,5]     \n",
        "elminate -> 1 Q=[3,5]         \n",
        "elminate -> 5 Q=[3]        \n",
        "__________________________\n",
        "Algoritham:\n",
        "__________\n",
        "1. initialize the queue Q with with the people numbered  from 1 to n.\n",
        "      index=0(starting index 0)\n",
        "2. eliminate people in steps of k:\n",
        "      while the length of the Q is greater then 1:\n",
        "            index=(index+k-1)%LENGTH(Q)\n",
        "            remove the persone at the index from the queue\n",
        "3. return the last remaining person as the survivor.\n"
      ],
      "metadata": {
        "id": "59gYG42tlFQx"
      }
    },
    {
      "cell_type": "code",
      "source": [
        "def josephus_simulation(n, k):\n",
        "    queue = list(range(1, n + 1))\n",
        "    index = 0\n",
        "\n",
        "    while len(queue) > 1:\n",
        "        index = (index + k - 1) % len(queue)\n",
        "        queue.pop(index)\n",
        "    return queue[0]\n",
        "\n",
        "n=int(input(\"number of pepole: \"))\n",
        "k=int(input(\"_th person is elminated: \"))\n",
        "print(josephus_simulation(n,k),\" is remaining person as the survivor\")"
      ],
      "metadata": {
        "colab": {
          "base_uri": "https://localhost:8080/"
        },
        "id": "v-SjNneKlJU3",
        "outputId": "608c6874-1d14-42a0-c690-fff9e91f2c9e"
      },
      "execution_count": null,
      "outputs": [
        {
          "output_type": "stream",
          "name": "stdout",
          "text": [
            "number of pepole: 15\n",
            "_th person is elminated: 6\n",
            "7  is remaining person as the survivor\n"
          ]
        }
      ]
    },
    {
      "cell_type": "markdown",
      "source": [
        "**Reverse of the Queue using stack.**\n",
        "\n",
        "Algorithm to reverse of a queue using stack\n",
        "____________________________________\n",
        "1. initializ an empty stack S.\n",
        "2. Transfer elements from the queue to the stack.\n",
        "      while the  queue Q is not empty.\n",
        "        element=Dequeue(Q)\n",
        "        push(element)into the stack S.\n",
        "3.  reverse the queue by transfering elements back.\n",
        "    while the stack S is Not EMpty.\n",
        "        elements = POP(S)\n",
        "        Enqueue(elements) into the queue Q.\n",
        "4. Return the reversed queue Q."
      ],
      "metadata": {
        "id": "wGtBNzVcrNQe"
      }
    },
    {
      "cell_type": "code",
      "source": [],
      "metadata": {
        "id": "5yUX7i6Rtpk3"
      },
      "execution_count": null,
      "outputs": []
    },
    {
      "cell_type": "markdown",
      "source": [
        "#07/04/25 ----------------Monday"
      ],
      "metadata": {
        "id": "kiWrlf05fyrQ"
      }
    },
    {
      "cell_type": "markdown",
      "source": [
        "**BST**     \n",
        "**AVL Tree**      \n",
        "**balance facter = height of left sub tree - height of right sub tree**     \n",
        "**AVL Tree :**    \n",
        "1. it sould be BSt\n",
        "2. balance facter should be -1,0,1 only   \n",
        "3.\n",
        "\n",
        "**critical node :** which disturb the AVL tree making"
      ],
      "metadata": {
        "id": "4HnxLzgTf40X"
      }
    },
    {
      "cell_type": "markdown",
      "source": [
        "insertion in AVL Tree    \n",
        "delection in AVL Tree     \n",
        "\n",
        "1+max(height of left,height if right)"
      ],
      "metadata": {
        "id": "ci0ApCN434Ey"
      }
    },
    {
      "cell_type": "code",
      "source": [
        "class Treenode:\n",
        "  def __init__(self,data):\n",
        "    self.data=data\n",
        "    self.height=1\n",
        "    self.left=None\n",
        "    self.right=None\n",
        "def getheight(node):\n",
        "  if node==None:\n",
        "    return 0\n",
        "  return node.height\n",
        "# def max(a,b):\n",
        "#   if a>b:\n",
        "#     return a\n",
        "#   else:\n",
        "#     return b\n",
        "def getbalance(node):\n",
        "  if node==None:\n",
        "    return 0\n",
        "  return getheight(node.left)-getheight(node.right)\n",
        "\n",
        "def rightrotate(y):\n",
        "  x=y.left\n",
        "  T2=x.right\n",
        "  x.right=y\n",
        "  y.left=T2\n",
        "  x.height=1+max(getheight(x.left),getheight(x.right))\n",
        "  y.height=1+max(getheight(y.left),getheight(y.right))\n",
        "  return x\n",
        "\n",
        "def leftrotate(x):\n",
        "  y=x.right\n",
        "  T2=y.left\n",
        "  y.left=x\n",
        "  x.right=T2\n",
        "  x.height=1+max(getheight(x.left),getheight(x.right))\n",
        "  y.height=1+max(getheight(y.left),getheight(y.right))\n",
        "  return y\n",
        "\n",
        "def insert(node,val):\n",
        "  if (node == None):\n",
        "    return Treenode(val)\n",
        "  if (val<node.data):\n",
        "    node.left=insert(node.left,val)\n",
        "  else:\n",
        "    node.right=insert(node.right,val)\n",
        "  node.height=1+max(getheight(node.left),getheight(node.right))\n",
        "  balance=getheight(node.left)-getheight(node.right)\n",
        "  if (balance>1 and getbalance(node.left)>=0):  #LL\n",
        "    return rightrotate(node)\n",
        "  if (balance<-1 and getbalance(node.right)<=0):  #LR   >1\n",
        "    node.left=leftrotate(node.left)\n",
        "    return rightrotate(node)\n",
        "\n",
        "  if(balance<-1 and getbalance(node.right)<=0):  #RR\n",
        "    return leftrotate(node)\n",
        "  if(balance>1 and getbalance(node.left)>0):  #RL   <-1\n",
        "    node.right=rightrotate(node.right)\n",
        "    return leftrotate(node)\n",
        "  return node\n",
        "node=None\n",
        "\n",
        "def inorder(node):\n",
        "  if node==None:\n",
        "    return\n",
        "  inorder(node.left)\n",
        "  print(node.data,end=\" \")\n",
        "  inorder(node.right)\n",
        "\n",
        "nodeval=[9,5,10,0,6,11,-1,1,2]\n",
        "for val in nodeval:\n",
        "  node=insert(node,each)\n",
        "inorder(node)\n",
        "# node=insert(node,10)\n",
        "# node=insert(node,20)\n",
        "# node=insert(node,30)\n",
        "# node=insert(node,40)\n",
        "# node=insert(node,50)\n",
        "# node=insert(node,25)\n",
        "\n"
      ],
      "metadata": {
        "colab": {
          "base_uri": "https://localhost:8080/",
          "height": 211
        },
        "id": "_-Kimx07gwFp",
        "outputId": "5c5708ef-c930-43dd-a01a-5c01eefac51a"
      },
      "execution_count": null,
      "outputs": [
        {
          "output_type": "error",
          "ename": "NameError",
          "evalue": "name 'each' is not defined",
          "traceback": [
            "\u001b[0;31m---------------------------------------------------------------------------\u001b[0m",
            "\u001b[0;31mNameError\u001b[0m                                 Traceback (most recent call last)",
            "\u001b[0;32m<ipython-input-2-ece044705f4d>\u001b[0m in \u001b[0;36m<cell line: 0>\u001b[0;34m()\u001b[0m\n\u001b[1;32m     69\u001b[0m \u001b[0mnodeval\u001b[0m\u001b[0;34m=\u001b[0m\u001b[0;34m[\u001b[0m\u001b[0;36m9\u001b[0m\u001b[0;34m,\u001b[0m\u001b[0;36m5\u001b[0m\u001b[0;34m,\u001b[0m\u001b[0;36m10\u001b[0m\u001b[0;34m,\u001b[0m\u001b[0;36m0\u001b[0m\u001b[0;34m,\u001b[0m\u001b[0;36m6\u001b[0m\u001b[0;34m,\u001b[0m\u001b[0;36m11\u001b[0m\u001b[0;34m,\u001b[0m\u001b[0;34m-\u001b[0m\u001b[0;36m1\u001b[0m\u001b[0;34m,\u001b[0m\u001b[0;36m1\u001b[0m\u001b[0;34m,\u001b[0m\u001b[0;36m2\u001b[0m\u001b[0;34m]\u001b[0m\u001b[0;34m\u001b[0m\u001b[0;34m\u001b[0m\u001b[0m\n\u001b[1;32m     70\u001b[0m \u001b[0;32mfor\u001b[0m \u001b[0mval\u001b[0m \u001b[0;32min\u001b[0m \u001b[0mnodeval\u001b[0m\u001b[0;34m:\u001b[0m\u001b[0;34m\u001b[0m\u001b[0;34m\u001b[0m\u001b[0m\n\u001b[0;32m---> 71\u001b[0;31m   \u001b[0mnode\u001b[0m\u001b[0;34m=\u001b[0m\u001b[0minsert\u001b[0m\u001b[0;34m(\u001b[0m\u001b[0mnode\u001b[0m\u001b[0;34m,\u001b[0m\u001b[0meach\u001b[0m\u001b[0;34m)\u001b[0m\u001b[0;34m\u001b[0m\u001b[0;34m\u001b[0m\u001b[0m\n\u001b[0m\u001b[1;32m     72\u001b[0m \u001b[0minorder\u001b[0m\u001b[0;34m(\u001b[0m\u001b[0mnode\u001b[0m\u001b[0;34m)\u001b[0m\u001b[0;34m\u001b[0m\u001b[0;34m\u001b[0m\u001b[0m\n\u001b[1;32m     73\u001b[0m \u001b[0;31m# node=insert(node,10)\u001b[0m\u001b[0;34m\u001b[0m\u001b[0;34m\u001b[0m\u001b[0m\n",
            "\u001b[0;31mNameError\u001b[0m: name 'each' is not defined"
          ]
        }
      ]
    }
  ]
}