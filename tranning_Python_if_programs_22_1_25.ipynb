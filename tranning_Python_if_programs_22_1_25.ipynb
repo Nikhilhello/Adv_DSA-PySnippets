{
  "nbformat": 4,
  "nbformat_minor": 0,
  "metadata": {
    "colab": {
      "provenance": []
    },
    "kernelspec": {
      "name": "python3",
      "display_name": "Python 3"
    },
    "language_info": {
      "name": "python"
    }
  },
  "cells": [
    {
      "cell_type": "code",
      "source": [
        "#simple if\n",
        "a=int(input(\"enter value of a \"))\n",
        "b=int(input(\"enter value of b \"))\n",
        "if a>b:\n",
        "  print(\"a is bigger\")"
      ],
      "metadata": {
        "colab": {
          "base_uri": "https://localhost:8080/"
        },
        "id": "r43pjTAQsqdy",
        "outputId": "4451c46c-c885-40a5-f8b1-9063507eab33"
      },
      "execution_count": null,
      "outputs": [
        {
          "output_type": "stream",
          "name": "stdout",
          "text": [
            "enter value of a 10\n",
            "enter value of b 5\n",
            "a is bigger\n"
          ]
        }
      ]
    },
    {
      "cell_type": "code",
      "source": [
        "# if else\n",
        "a=int(input(\"enter value of a =\"))\n",
        "b=int(input(\"enter value of b =\"))\n",
        "if a>b:\n",
        "  print(\"a is bigger\")\n",
        "else:\n",
        "  print(\"b is bigger\")"
      ],
      "metadata": {
        "colab": {
          "base_uri": "https://localhost:8080/"
        },
        "id": "6dc7sAYtrof4",
        "outputId": "ed2857bc-4f6d-49c1-bb25-dd1f5143aee5"
      },
      "execution_count": null,
      "outputs": [
        {
          "output_type": "stream",
          "name": "stdout",
          "text": [
            "enter value of a =5\n",
            "enter value of b =6\n",
            "b is bigger\n"
          ]
        }
      ]
    },
    {
      "cell_type": "code",
      "source": [
        "#if..elif..else\n",
        "a=int(input(\"enter value of a =\"))\n",
        "b=int(input(\"enter value of b =\"))\n",
        "if a>b:\n",
        "  print(\"a is bigger\")\n",
        "elif a<b:\n",
        "  print(\"b is bigger\")\n",
        "else:\n",
        "  print(\"both are equal\")\n",
        "\n",
        "\n",
        "  #-----------------------\n",
        "\n",
        "a=int(input(\"enter value of a =\"))\n",
        "b=int(input(\"enter value of b =\"))\n",
        "if a==b:\n",
        "  print(\"both are equal\")\n",
        "elif a>b:\n",
        "  print(\"a is bigger\")\n",
        "else:\n",
        "  print(\"b is bigger\")"
      ],
      "metadata": {
        "colab": {
          "base_uri": "https://localhost:8080/"
        },
        "id": "3JpsTvwStBQc",
        "outputId": "794d3f35-7314-42be-8bc9-914bc9174ead"
      },
      "execution_count": null,
      "outputs": [
        {
          "output_type": "stream",
          "name": "stdout",
          "text": [
            "enter value of a =5\n",
            "enter value of b =5\n",
            "both are equal\n",
            "enter value of a =6\n",
            "enter value of b =3\n",
            "a is bigger\n"
          ]
        }
      ]
    },
    {
      "cell_type": "code",
      "source": [
        "s1=int(input(\"enter value of s1 =\"))\n",
        "s2=int(input(\"enter value of s2 =\"))\n",
        "if s1>=35 and s2>=35:\n",
        "  print(\"pass\")\n",
        "else:\n",
        "  print(\"fail\")\n"
      ],
      "metadata": {
        "colab": {
          "base_uri": "https://localhost:8080/"
        },
        "id": "oyQQdvLCuOIB",
        "outputId": "2de8c3d7-1022-4eae-c504-6016bfded6c0"
      },
      "execution_count": null,
      "outputs": [
        {
          "output_type": "stream",
          "name": "stdout",
          "text": [
            "enter value of s1 =56\n",
            "enter value of s2 =35\n",
            "pass\n"
          ]
        }
      ]
    },
    {
      "cell_type": "code",
      "source": [
        "s1=int(input(\"enter value of s1 =\"))\n",
        "s2=int(input(\"enter value of s2 =\"))\n",
        "if s1<35 or s2<35:\n",
        "  print(\"pass\")\n",
        "else:\n",
        "  print(\"fail\")"
      ],
      "metadata": {
        "colab": {
          "base_uri": "https://localhost:8080/"
        },
        "id": "aNskEPPxvV8Y",
        "outputId": "33b791ca-2a9c-426e-8028-3fc0f4b536c2"
      },
      "execution_count": null,
      "outputs": [
        {
          "output_type": "stream",
          "name": "stdout",
          "text": [
            "enter value of s1 =5\n",
            "enter value of s2 =65\n",
            "pass\n"
          ]
        }
      ]
    },
    {
      "cell_type": "code",
      "source": [
        "#find where u entered number is 500 or not?(using not operater)\n",
        "n=int(input(\"enter value of n =\"))\n",
        "if not(n==500):\n",
        "  print(\"n is not 500\")\n",
        "else:\n",
        "  print(\"n is 500\")"
      ],
      "metadata": {
        "id": "mpdPcBVKvl-N"
      },
      "execution_count": null,
      "outputs": []
    },
    {
      "cell_type": "code",
      "source": [
        "#find bigger number from 3 numbers(using AND operater)\n",
        "a=int(input(\"enter value of a =\"))\n",
        "b=int(input(\"enter value of b =\"))\n",
        "c=int(input(\"enter value of c =\"))\n",
        "if a>b and a>c:\n",
        "  print(\"a is bigger\")\n",
        "elif b>a and b>c:\n",
        "  print(\"b is bigger\")\n",
        "elif c>a and c>b:\n",
        "  print(\"c is bigger\")\n",
        "else:\n",
        "  print(\"all are equal\")"
      ],
      "metadata": {
        "colab": {
          "base_uri": "https://localhost:8080/"
        },
        "id": "FAWQVe-twEzp",
        "outputId": "04b5f551-1c2a-4ff5-cf81-70ed76084588"
      },
      "execution_count": null,
      "outputs": [
        {
          "output_type": "stream",
          "name": "stdout",
          "text": [
            "enter value of a =5\n",
            "enter value of b =6\n",
            "enter value of c =1\n",
            "b is bigger\n"
          ]
        }
      ]
    },
    {
      "cell_type": "code",
      "source": [
        "#find bigger number from 3 numbers(using nested if)\n",
        "a=int(input(\"enter value of a =\"))\n",
        "b=int(input(\"enter value of b =\"))\n",
        "c=int(input(\"enter value of c =\"))\n",
        "if a>b:\n",
        "  if a>c:\n",
        "    print(\"a is bigger\")\n",
        "  else:\n",
        "    print(\"c is bigger\")\n",
        "elif b>a:\n",
        "  if b>c:\n",
        "    print(\"b is bigger\")\n",
        "  else:\n",
        "    print(\"c is bigger\")\n",
        "else:\n",
        "  print(\"all are equal\")"
      ],
      "metadata": {
        "colab": {
          "base_uri": "https://localhost:8080/"
        },
        "id": "UkWvXjyUw9y0",
        "outputId": "d03eaed3-cdf4-403d-fe91-21d08ee3001c"
      },
      "execution_count": null,
      "outputs": [
        {
          "output_type": "stream",
          "name": "stdout",
          "text": [
            "enter value of a =5\n",
            "enter value of b =6\n",
            "enter value of c =9\n",
            "c is bigger\n"
          ]
        }
      ]
    },
    {
      "cell_type": "code",
      "source": [
        "#program to find vowel and consonent\n",
        "ch=input(\"enter value of ch =\")\n",
        "if ch=='a' or ch=='e' or ch=='i' or ch=='o' or ch=='u':\n",
        "  print(\"given letter is vowel\")\n",
        "else:\n",
        "  print(\"given letter is consonent\")"
      ],
      "metadata": {
        "colab": {
          "base_uri": "https://localhost:8080/"
        },
        "id": "-mxHAvj4yRAD",
        "outputId": "ef740944-6205-48e8-a10e-a249316e6bfe"
      },
      "execution_count": null,
      "outputs": [
        {
          "output_type": "stream",
          "name": "stdout",
          "text": [
            "enter value of ch =k\n",
            "given letter is consonent\n"
          ]
        }
      ]
    },
    {
      "cell_type": "code",
      "source": [
        "#program tot find on even or odd\n",
        "n=int(input(\"enter value of n =\"))\n",
        "if n%2==0:\n",
        "  print(\"given number is even\")\n",
        "else:\n",
        "  print(\"given number is odd\")"
      ],
      "metadata": {
        "id": "26pVZduXy2x3"
      },
      "execution_count": null,
      "outputs": []
    },
    {
      "cell_type": "code",
      "source": [
        "#program on find whether the person is eligible to vote or not\n",
        "age=int(input(\"enter value of age =\"))\n",
        "if age>=18:\n",
        "  print(\"person is eligible to vote\")\n",
        "else:\n",
        "  print(\"person is not eligible to vote\")"
      ],
      "metadata": {
        "id": "RpwjVzGNzHjn"
      },
      "execution_count": null,
      "outputs": []
    },
    {
      "cell_type": "code",
      "source": [
        "#program to find positive or negative or zero number\n",
        "n=int(input(\"enter value of n =\"))\n",
        "if n>0:\n",
        "  print(\"given number is positive\")\n",
        "elif n<0:\n",
        "  print(\"given number is negative\")\n",
        "else:\n",
        "  print(\"given number is zero\")"
      ],
      "metadata": {
        "colab": {
          "base_uri": "https://localhost:8080/"
        },
        "id": "2iilWZGJzm_8",
        "outputId": "066daedd-77d4-440a-d170-afff3eac653f"
      },
      "execution_count": null,
      "outputs": [
        {
          "output_type": "stream",
          "name": "stdout",
          "text": [
            "enter value of n =-6\n",
            "given number is negative\n"
          ]
        }
      ]
    },
    {
      "cell_type": "markdown",
      "source": [
        "**menu type programs**"
      ],
      "metadata": {
        "id": "NBW0G030FT6w"
      }
    },
    {
      "cell_type": "code",
      "source": [
        "#-----------menu type programs\n",
        "\n",
        "#perfrom arthmatic opertaions on 2 numbers as per user choice\n",
        "print(\"1.add\")\n",
        "print(\"2.sub\")\n",
        "print(\"3.mul\")\n",
        "print(\"4.div\")\n",
        "a=int(input(\"enter value of a =\"))\n",
        "b=int(input(\"enter value of b =\"))\n",
        "ch=int(input(\"enter value of ch =\"))\n",
        "if ch==1:\n",
        "  print(\"add=\",a+b)\n",
        "elif ch==2:\n",
        "  print(\"sub=\",a-b)\n",
        "elif ch==3:\n",
        "  print(\"mul=\",a*b)\n",
        "elif ch==4:\n",
        "  if b!=0:\n",
        "    print(\"div=\",a/b)\n",
        "  else:\n",
        "    print(\"b should not be 0\")\n",
        "else:\n",
        "  print(\"invalid choice\")\n",
        "\n"
      ],
      "metadata": {
        "colab": {
          "base_uri": "https://localhost:8080/"
        },
        "id": "5NfUmsAS0EO3",
        "outputId": "7d618030-b553-4a82-f59d-bd84d7b3801a"
      },
      "execution_count": null,
      "outputs": [
        {
          "output_type": "stream",
          "name": "stdout",
          "text": [
            "1.add\n",
            "2.sub\n",
            "3.mul\n",
            "4.div\n",
            "enter value of a =8\n",
            "enter value of b =1\n",
            "enter value of ch =9\n",
            "invalid choice\n"
          ]
        }
      ]
    },
    {
      "cell_type": "code",
      "source": [
        "#menu type programs\n",
        "#perfrom arthamatic operation on 2 numbers by accpting an arthamatic operater\n",
        "print(\"+\")\n",
        "print(\"-\")\n",
        "print(\"*\")\n",
        "print(\"/\")\n",
        "a=int(input(\"enter value of a =\"))\n",
        "b=int(input(\"enter value of b =\"))\n",
        "opt=input(\"enter the operate to perfrom \")\n",
        "if opt==\"+\":\n",
        "  print(\"add=\",a+b)\n",
        "elif opt==\"-\":\n",
        "  print(\"sub=\",a-b)\n",
        "elif opt==\"*\":\n",
        "  print(\"mul=\",a*b)\n",
        "elif opt==\"/\":\n",
        "  if b!=0:\n",
        "    print(\"div=\",a/b)\n",
        "  else:\n",
        "    print(\"b should not be 0\")\n",
        "else:\n",
        "  print(\"invalid operater\")\n"
      ],
      "metadata": {
        "colab": {
          "base_uri": "https://localhost:8080/"
        },
        "id": "5iP-uVijE7e7",
        "outputId": "5069bba4-7c6c-4784-b411-7a283b70fcfc"
      },
      "execution_count": null,
      "outputs": [
        {
          "output_type": "stream",
          "name": "stdout",
          "text": [
            "+\n",
            "-\n",
            "*\n",
            "/\n",
            "enter value of a =5\n",
            "enter value of b =5\n",
            "enter the operate to perfrom -\n",
            "sub= 0\n"
          ]
        }
      ]
    },
    {
      "cell_type": "code",
      "source": [
        "'''program to accept meter number,consumer name,opening meter reading,closing meter readings.\n",
        "calculate number of units consumed and bill amount.\n",
        "   units               rate per unit\n",
        "   -----               -------------\n",
        "   <100                 0.50\n",
        "    >=100               1.00\n",
        "    <250\n",
        "    >=250               1.50\n",
        "    <500\n",
        "    >=500               2.00\n",
        "\n",
        "                    output\n",
        "    ------------------------------------------------------\n",
        "                             NPDCL\n",
        "              telangana state Electricity Board\n",
        "              corporate offic - Warangl\n",
        "     ----------------------------------------------------\n",
        "              Electricity Bill -January-2025\n",
        "    ---------------------------------------------------\n",
        "    Meter Number  :\n",
        "    cousumer Name :\n",
        "        opening meter reading  :\n",
        "        closing meter reading  :\n",
        "              number of units consumed :\n",
        "    -----------------------------------------------------\n",
        "              bill amount :\n",
        "   -------------------------------------------------------      '''\n",
        "#---------------------------\n",
        "meter_number=input(\"enter meter number =\")\n",
        "consumer_name=input(\"enter consumer name =\")\n",
        "o_m_r=int(input(\"enter opening meter reading =\"))\n",
        "c_m_r=int(input(\"enter closing meter reading =\"))\n",
        "no_of_units_consumed=c_m_r-o_m_r\n",
        "print(\"               Output              \")\n",
        "print()\n",
        "print(\"-------------------------------------------------\")\n",
        "print(\"                      NDCPL                      \")\n",
        "print(\"       telangana state Electricity Board         \")\n",
        "print(\"       corporate offic - Warangl        \")\n",
        "print(\"-------------------------------------------------\")\n",
        "print(\"       Electricity Bill -January-2025\")\n",
        "print(\"-------------------------------------------------\")\n",
        "print(\"   Meter Number  :\",meter_number)\n",
        "print(\"   cousumer Name :\",consumer_name)\n",
        "print(\"         opening meter reading  :\",o_m_r)\n",
        "print(\"         closing meter reading  :\",c_m_r)\n",
        "print(\"               number of units consumed :\",no_of_units_consumed)\n",
        "\n",
        "if no_of_units_consumed<100:\n",
        "  bill_amount=0.50*no_of_units_consumed\n",
        "  #print(bill_amount)\n",
        "elif no_of_units_consumed>=100 and no_of_units_consumed<250:\n",
        "  bill_amount=1.00*no_of_units_consumed\n",
        "  #print(bill_amount)\n",
        "elif no_of_units_consumed>=250 and no_of_units_consumed<500:\n",
        "  bill_amount=1.50*no_of_units_consumed\n",
        "  #print(bill_amount)\n",
        "elif no_of_units_consumed>=500:\n",
        "  bill_amount=2.00*no_of_units_consumed\n",
        "  #print(bill_amount)\n",
        "else:\n",
        "  print(\"invalid input\")\n",
        "print(\"-------------------------------------------------\")\n",
        "print(\"               bill amount :\",bill_amount)\n",
        "print(\"-------------------------------------------------\")\n",
        "\n"
      ],
      "metadata": {
        "colab": {
          "base_uri": "https://localhost:8080/"
        },
        "id": "30gA1GGlH8AR",
        "outputId": "439b255f-bd91-4e7a-ee20-d00e70fdcd6b"
      },
      "execution_count": null,
      "outputs": [
        {
          "output_type": "stream",
          "name": "stdout",
          "text": [
            "enter meter number =12345\n",
            "enter consumer name =Nikhil\n",
            "enter opening meter reading =150\n",
            "enter closing meter reading =400\n",
            "               Output              \n",
            "\n",
            "-------------------------------------------------\n",
            "                      NDCPL                      \n",
            "       telangana state Electricity Board         \n",
            "       corporate offic - Warangl        \n",
            "-------------------------------------------------\n",
            "       Electricity Bill -January-2025\n",
            "-------------------------------------------------\n",
            "   Meter Number  : 12345\n",
            "   cousumer Name : Nikhil\n",
            "         opening meter reading  : 150\n",
            "         closing meter reading  : 400\n",
            "               number of units consumed : 250\n",
            "-------------------------------------------------\n",
            "               bill amount : 375.0\n",
            "-------------------------------------------------\n"
          ]
        }
      ]
    },
    {
      "cell_type": "code",
      "source": [
        "'''program to accept empolyee number,employee name ,basic salary,\n",
        "calculater hra,ta,da,lic,pf,it,gross salary and net salary.\n",
        "\n",
        "    bsal       hra      ta       da     lic      pf       it\n",
        "    ----       ---      ---     ----   -----    -----     ------\n",
        "    <10000     1%        2%     3%      1.5%    2.2%      3.3%\n",
        "    >=10000    2%        3%     4%      1.5%    2.5%      3.5%\n",
        "    <25000\n",
        "    >=25000    3%        4%     5%      1.75%  2.75%      3.25%\n",
        "    <50000\n",
        "    >=50000    4%        5%    6%       2%      3%         4%       '''\n",
        "\n",
        "\n",
        "#--------------------------------------------------\n",
        "empolyee_number=input(\"enter empolyee number =\")\n",
        "employee_name=input(\"enter employee name =\")\n",
        "basic_salary=int(input(\"enter basic salary =\"))"
      ],
      "metadata": {
        "id": "ziPVszbLK2x_"
      },
      "execution_count": null,
      "outputs": []
    }
  ]
}